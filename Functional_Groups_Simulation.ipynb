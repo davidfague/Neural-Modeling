{
  "nbformat": 4,
  "nbformat_minor": 0,
  "metadata": {
    "colab": {
      "provenance": [],
      "authorship_tag": "ABX9TyNZfG2Qrn2TaKoMPvqe6iJl",
      "include_colab_link": true
    },
    "kernelspec": {
      "name": "python3",
      "display_name": "Python 3"
    },
    "language_info": {
      "name": "python"
    }
  },
  "cells": [
    {
      "cell_type": "markdown",
      "metadata": {
        "id": "view-in-github",
        "colab_type": "text"
      },
      "source": [
        "<a href=\"https://colab.research.google.com/github/davidfague/Neural-Modeling/blob/main/Functional_Groups_Simulation.ipynb\" target=\"_parent\"><img src=\"https://colab.research.google.com/assets/colab-badge.svg\" alt=\"Open In Colab\"/></a>"
      ]
    },
    {
      "cell_type": "markdown",
      "source": [
        "Full Simulation Run with new modules"
      ],
      "metadata": {
        "id": "dPbgYybZxAK5"
      }
    },
    {
      "cell_type": "markdown",
      "source": [
        "#### Install Dependencies"
      ],
      "metadata": {
        "id": "ciwGs47ixHat"
      }
    },
    {
      "cell_type": "code",
      "execution_count": 1,
      "metadata": {
        "colab": {
          "base_uri": "https://localhost:8080/"
        },
        "id": "ZUb0xOo7w7gt",
        "outputId": "37ec7965-5e21-4f78-dc51-0a1070666484"
      },
      "outputs": [
        {
          "output_type": "stream",
          "name": "stdout",
          "text": [
            "Looking in indexes: https://pypi.org/simple, https://us-python.pkg.dev/colab-wheels/public/simple/\n",
            "Collecting neuron\n",
            "  Downloading NEURON-8.2.2-cp310-cp310-manylinux_2_17_x86_64.manylinux2014_x86_64.whl (14.9 MB)\n",
            "\u001b[2K     \u001b[90m━━━━━━━━━━━━━━━━━━━━━━━━━━━━━━━━━━━━━━━━\u001b[0m \u001b[32m14.9/14.9 MB\u001b[0m \u001b[31m61.0 MB/s\u001b[0m eta \u001b[36m0:00:00\u001b[0m\n",
            "\u001b[?25hRequirement already satisfied: numpy>=1.9.3 in /usr/local/lib/python3.10/dist-packages (from neuron) (1.22.4)\n",
            "Installing collected packages: neuron\n",
            "Successfully installed neuron-8.2.2\n"
          ]
        }
      ],
      "source": [
        "!pip install neuron"
      ]
    },
    {
      "cell_type": "code",
      "source": [
        "!pip install neuron_reduce"
      ],
      "metadata": {
        "colab": {
          "base_uri": "https://localhost:8080/"
        },
        "id": "Cooeav4vxPG5",
        "outputId": "548524c9-ab42-4195-f3ef-300870ad3103"
      },
      "execution_count": 2,
      "outputs": [
        {
          "output_type": "stream",
          "name": "stdout",
          "text": [
            "Looking in indexes: https://pypi.org/simple, https://us-python.pkg.dev/colab-wheels/public/simple/\n",
            "Collecting neuron_reduce\n",
            "  Downloading neuron_reduce-0.0.7-py3-none-any.whl (18 kB)\n",
            "Installing collected packages: neuron_reduce\n",
            "Successfully installed neuron_reduce-0.0.7\n"
          ]
        }
      ]
    },
    {
      "cell_type": "markdown",
      "source": [
        "Clone repo"
      ],
      "metadata": {
        "id": "eRlRASQk_VRa"
      }
    },
    {
      "cell_type": "code",
      "source": [
        "!git clone https://github.com/davidfague/Neural-Modeling.git"
      ],
      "metadata": {
        "colab": {
          "base_uri": "https://localhost:8080/"
        },
        "id": "3GOw6xY3xR-W",
        "outputId": "da02520f-78af-4036-f411-c143f5587668"
      },
      "execution_count": 3,
      "outputs": [
        {
          "output_type": "stream",
          "name": "stdout",
          "text": [
            "Cloning into 'Neural-Modeling'...\n",
            "remote: Enumerating objects: 295, done.\u001b[K\n",
            "remote: Counting objects: 100% (186/186), done.\u001b[K\n",
            "remote: Compressing objects: 100% (96/96), done.\u001b[K\n",
            "remote: Total 295 (delta 119), reused 134 (delta 82), pack-reused 109\u001b[K\n",
            "Receiving objects: 100% (295/295), 357.78 KiB | 3.93 MiB/s, done.\n",
            "Resolving deltas: 100% (156/156), done.\n"
          ]
        }
      ]
    },
    {
      "cell_type": "markdown",
      "source": [
        "Get modules"
      ],
      "metadata": {
        "id": "ynOkYQJz_UNB"
      }
    },
    {
      "cell_type": "code",
      "source": [
        "%cd Neural-Modeling/\n",
        "from Modules.synapse_generator import SynapseGenerator\n",
        "from Modules.Reduction import Reductor\n",
        "from Modules.cell_model import CellModel\n",
        "from Modules.spike_generator import SpikeGenerator"
      ],
      "metadata": {
        "colab": {
          "base_uri": "https://localhost:8080/"
        },
        "id": "A7K-oURLxTiQ",
        "outputId": "80cd7f91-9fe8-4f42-d7a4-48b4f1a2fd86"
      },
      "execution_count": 4,
      "outputs": [
        {
          "output_type": "stream",
          "name": "stdout",
          "text": [
            "/content/Neural-Modeling\n"
          ]
        }
      ]
    },
    {
      "cell_type": "code",
      "source": [
        "# others\n",
        "# import pandas as pd\n",
        "import numpy as np\n",
        "from functools import partial\n",
        "import scipy.stats as st\n",
        "import random"
      ],
      "metadata": {
        "id": "XKQa6OJmxYQQ"
      },
      "execution_count": 5,
      "outputs": []
    },
    {
      "cell_type": "markdown",
      "source": [
        "#### Build Complex Cell"
      ],
      "metadata": {
        "id": "9SyUE-Vc7Fy_"
      }
    },
    {
      "cell_type": "markdown",
      "source": [
        "Compile modfiles"
      ],
      "metadata": {
        "id": "rgqP23TO90vl"
      }
    },
    {
      "cell_type": "code",
      "source": [
        "!nrnivmodl modfiles"
      ],
      "metadata": {
        "colab": {
          "base_uri": "https://localhost:8080/"
        },
        "id": "s30Jrqug93Kr",
        "outputId": "f4c86610-18db-46bb-9a48-9474aae813e3"
      },
      "execution_count": 6,
      "outputs": [
        {
          "output_type": "stream",
          "name": "stdout",
          "text": [
            "/content/Neural-Modeling\n",
            "Mod files: \"modfiles/modfiles/AMPA_NMDA.mod\" \"modfiles/modfiles/AMPA_NMDA_STP_LTP.mod\" \"modfiles/modfiles/AMPA_NMDA_STP.mod\" \"modfiles/modfiles/CaDynamics_E2.mod\" \"modfiles/modfiles/Ca_HVA.mod\" \"modfiles/modfiles/Ca_LVAst.mod\" \"modfiles/modfiles/epsp.mod\" \"modfiles/modfiles/GABA_AB.mod\" \"modfiles/modfiles/GABA_AB_STP.mod\" \"modfiles/modfiles/Ih.mod\" \"modfiles/modfiles/Im.mod\" \"modfiles/modfiles/int2pyr.mod\" \"modfiles/modfiles/K_Pst.mod\" \"modfiles/modfiles/K_Tst.mod\" \"modfiles/modfiles/Nap_Et2.mod\" \"modfiles/modfiles/NaTa_t.mod\" \"modfiles/modfiles/NaTs2_t.mod\" \"modfiles/modfiles/pyr2pyr.mod\" \"modfiles/modfiles/SK_E2.mod\" \"modfiles/modfiles/SKv3_1.mod\" \"modfiles/modfiles/vecevent.mod\"\n",
            "\n",
            "Creating 'x86_64' directory for .o files.\n",
            "\n",
            " -> \u001b[32mCompiling\u001b[0m mod_func.cpp\n",
            " -> \u001b[32mNMODL\u001b[0m ../modfiles/AMPA_NMDA.mod\n",
            " -> \u001b[32mNMODL\u001b[0m ../modfiles/AMPA_NMDA_STP_LTP.mod\n",
            " -> \u001b[32mNMODL\u001b[0m ../modfiles/AMPA_NMDA_STP.mod\n",
            "Translating AMPA_NMDA.mod into /content/Neural-Modeling/x86_64/AMPA_NMDA.c\n",
            "Translating AMPA_NMDA_STP.mod into /content/Neural-Modeling/x86_64/AMPA_NMDA_STP.c\n",
            "Thread Safe\n",
            " -> \u001b[32mNMODL\u001b[0m ../modfiles/CaDynamics_E2.mod\n",
            "Thread Safe\n",
            "Translating CaDynamics_E2.mod into /content/Neural-Modeling/x86_64/CaDynamics_E2.c\n",
            "Translating AMPA_NMDA_STP_LTP.mod into /content/Neural-Modeling/x86_64/AMPA_NMDA_STP_LTP.c\n",
            "Thread Safe\n",
            " -> \u001b[32mNMODL\u001b[0m ../modfiles/Ca_HVA.mod\n",
            " -> \u001b[32mNMODL\u001b[0m ../modfiles/Ca_LVAst.mod\n",
            "Thread Safe\n",
            "Translating Ca_HVA.mod into /content/Neural-Modeling/x86_64/Ca_HVA.c\n",
            " -> \u001b[32mNMODL\u001b[0m ../modfiles/epsp.mod\n",
            "Thread Safe\n",
            " -> \u001b[32mNMODL\u001b[0m ../modfiles/GABA_AB.mod\n",
            "Translating epsp.mod into /content/Neural-Modeling/x86_64/epsp.c\n",
            "Translating Ca_LVAst.mod into /content/Neural-Modeling/x86_64/Ca_LVAst.c\n",
            "Thread Safe\n",
            "Thread Safe\n",
            " -> \u001b[32mNMODL\u001b[0m ../modfiles/GABA_AB_STP.mod\n",
            " -> \u001b[32mNMODL\u001b[0m ../modfiles/Ih.mod\n",
            "Translating GABA_AB.mod into /content/Neural-Modeling/x86_64/GABA_AB.c\n",
            "Thread Safe\n",
            "Translating GABA_AB_STP.mod into /content/Neural-Modeling/x86_64/GABA_AB_STP.c\n",
            "Translating Ih.mod into /content/Neural-Modeling/x86_64/Ih.c\n",
            "Thread Safe\n",
            "Thread Safe\n",
            " -> \u001b[32mNMODL\u001b[0m ../modfiles/Im.mod\n",
            " -> \u001b[32mNMODL\u001b[0m ../modfiles/int2pyr.mod\n",
            " -> \u001b[32mNMODL\u001b[0m ../modfiles/K_Pst.mod\n",
            "Translating Im.mod into /content/Neural-Modeling/x86_64/Im.c\n",
            "Translating int2pyr.mod into /content/Neural-Modeling/x86_64/int2pyr.c\n",
            "Thread Safe\n",
            "Translating K_Pst.mod into /content/Neural-Modeling/x86_64/K_Pst.c\n",
            " -> \u001b[32mNMODL\u001b[0m ../modfiles/K_Tst.mod\n",
            "Thread Safe\n",
            " -> \u001b[32mNMODL\u001b[0m ../modfiles/Nap_Et2.mod\n",
            "Translating K_Tst.mod into /content/Neural-Modeling/x86_64/K_Tst.c\n",
            "WARNING: Dimensions may be wrong for READ ica with POINT_PROCESS\n",
            "WARNING: Dimensions may be wrong for READ ica with POINT_PROCESS\n",
            "WARNING: Dimensions may be wrong for READ ica with POINT_PROCESS\n",
            "Thread Safe\n",
            "WARNING: Dimensions may be wrong for READ ica with POINT_PROCESS\n",
            "WARNING: Dimensions may be wrong for READ ica with POINT_PROCESS\n",
            " -> \u001b[32mNMODL\u001b[0m ../modfiles/NaTa_t.mod\n",
            "Thread Safe\n",
            " -> \u001b[32mNMODL\u001b[0m ../modfiles/NaTs2_t.mod\n",
            "Translating Nap_Et2.mod into /content/Neural-Modeling/x86_64/Nap_Et2.c\n",
            "Translating NaTa_t.mod into /content/Neural-Modeling/x86_64/NaTa_t.c\n",
            "Thread Safe\n",
            "Thread Safe\n",
            "Translating NaTs2_t.mod into /content/Neural-Modeling/x86_64/NaTs2_t.c\n",
            " -> \u001b[32mNMODL\u001b[0m ../modfiles/pyr2pyr.mod\n",
            " -> \u001b[32mNMODL\u001b[0m ../modfiles/SK_E2.mod\n",
            "Thread Safe\n",
            " -> \u001b[32mNMODL\u001b[0m ../modfiles/SKv3_1.mod\n",
            "Translating SKv3_1.mod into /content/Neural-Modeling/x86_64/SKv3_1.c\n",
            "Translating pyr2pyr.mod into /content/Neural-Modeling/x86_64/pyr2pyr.c\n",
            "Thread Safe\n",
            " -> \u001b[32mNMODL\u001b[0m ../modfiles/vecevent.mod\n",
            "Translating SK_E2.mod into /content/Neural-Modeling/x86_64/SK_E2.c\n",
            "Translating vecevent.mod into /content/Neural-Modeling/x86_64/vecevent.c\n",
            "Notice: Use of POINTER is not thread safe.\n",
            "Notice: VERBATIM blocks are not thread safe\n",
            "Notice: ARTIFICIAL_CELL is a synonym for POINT_PROCESS which hints that it\n",
            "only affects and is affected by discrete events. As such it is not\n",
            "located in a section and is not associated with an integrator\n",
            " -> \u001b[32mCompiling\u001b[0m AMPA_NMDA.c\n",
            "Thread Safe\n",
            "Thread Safe\n",
            " -> \u001b[32mCompiling\u001b[0m AMPA_NMDA_STP.c\n",
            " -> \u001b[32mCompiling\u001b[0m AMPA_NMDA_STP_LTP.c\n",
            " -> \u001b[32mCompiling\u001b[0m CaDynamics_E2.c\n",
            " -> \u001b[32mCompiling\u001b[0m Ca_HVA.c\n",
            " -> \u001b[32mCompiling\u001b[0m Ca_LVAst.c\n",
            " -> \u001b[32mCompiling\u001b[0m epsp.c\n",
            " -> \u001b[32mCompiling\u001b[0m GABA_AB.c\n",
            " -> \u001b[32mCompiling\u001b[0m GABA_AB_STP.c\n",
            " -> \u001b[32mCompiling\u001b[0m Ih.c\n",
            " -> \u001b[32mCompiling\u001b[0m Im.c\n",
            " -> \u001b[32mCompiling\u001b[0m int2pyr.c\n",
            " -> \u001b[32mCompiling\u001b[0m K_Pst.c\n",
            " -> \u001b[32mCompiling\u001b[0m K_Tst.c\n",
            " -> \u001b[32mCompiling\u001b[0m Nap_Et2.c\n",
            " -> \u001b[32mCompiling\u001b[0m NaTa_t.c\n",
            " -> \u001b[32mCompiling\u001b[0m NaTs2_t.c\n",
            " -> \u001b[32mCompiling\u001b[0m pyr2pyr.c\n",
            " -> \u001b[32mCompiling\u001b[0m SK_E2.c\n",
            " -> \u001b[32mCompiling\u001b[0m SKv3_1.c\n",
            " -> \u001b[32mCompiling\u001b[0m vecevent.c\n",
            " => \u001b[32mLINKING\u001b[0m shared library ./libnrnmech.so\n",
            " => \u001b[32mLINKING\u001b[0m executable ./special LDFLAGS are:    -pthread\n",
            "Successfully created x86_64/special\n"
          ]
        }
      ]
    },
    {
      "cell_type": "code",
      "source": [
        "from neuron import h\n",
        "h.load_file('stdrun.hoc')\n",
        "h.nrn_load_dll('./x86_64/.libs/libnrnmech.so') # load modfiles"
      ],
      "metadata": {
        "colab": {
          "base_uri": "https://localhost:8080/"
        },
        "id": "5WgZ2TerGEmJ",
        "outputId": "056d6814-2b39-4ae9-a93f-12c53409ce43"
      },
      "execution_count": 7,
      "outputs": [
        {
          "output_type": "execute_result",
          "data": {
            "text/plain": [
              "1.0"
            ]
          },
          "metadata": {},
          "execution_count": 7
        }
      ]
    },
    {
      "cell_type": "markdown",
      "source": [
        "Build Complex cell"
      ],
      "metadata": {
        "id": "5xR1869j93lm"
      }
    },
    {
      "cell_type": "code",
      "source": [
        "cell_folder = 'complex_cells/L5PC/'\n",
        "h.load_file(cell_folder+'L5PCbiophys3.hoc') # load biophysics\n",
        "h.load_file(\"import3d.hoc\") # load morphology\n",
        "h.load_file(cell_folder+'L5PCtemplate.hoc') # load builder\n",
        "complex_cell = h.L5PCtemplate(cell_folder+'cell1.asc') # build complex_cell object\n",
        "h.celsius = 37\n",
        "h.v_init = complex_cell.soma[0].e_pas\n",
        "h.tstop = 2000 # sim runtime\n",
        "t = np.arange(0,h.tstop-1,1) # time vector for generating inputs"
      ],
      "metadata": {
        "id": "DY2Dyw3D7GEp"
      },
      "execution_count": 8,
      "outputs": []
    },
    {
      "cell_type": "code",
      "source": [
        "fr_profile = np.zeros((t.shape[0]))\n",
        "print(fr_profile)"
      ],
      "metadata": {
        "id": "eJVZTMAHbA13",
        "outputId": "44f714fe-cb83-40f6-df58-a201193a4867",
        "colab": {
          "base_uri": "https://localhost:8080/"
        }
      },
      "execution_count": 9,
      "outputs": [
        {
          "output_type": "stream",
          "name": "stdout",
          "text": [
            "[0. 0. 0. ... 0. 0. 0.]\n"
          ]
        }
      ]
    },
    {
      "cell_type": "markdown",
      "source": [
        "Optional:\n",
        "optomize complex cell nseg"
      ],
      "metadata": {
        "id": "u3GPbhiXBC6y"
      }
    },
    {
      "cell_type": "code",
      "source": [
        "Reductor(complex_cell, 'lambda')"
      ],
      "metadata": {
        "colab": {
          "base_uri": "https://localhost:8080/"
        },
        "id": "e2jZTzkWBIsF",
        "outputId": "438414dc-0009-4c48-e8b9-8c3c1a47166f"
      },
      "execution_count": 10,
      "outputs": [
        {
          "output_type": "stream",
          "name": "stdout",
          "text": [
            "Model nseg changed from 642 to 196\n"
          ]
        },
        {
          "output_type": "execute_result",
          "data": {
            "text/plain": [
              "<Modules.Reduction.Reductor at 0x7f9393371570>"
            ]
          },
          "metadata": {},
          "execution_count": 10
        }
      ]
    },
    {
      "cell_type": "markdown",
      "source": [
        "#### Generate excitatory synapses and their inputs"
      ],
      "metadata": {
        "id": "-0EmWO0yBBDh"
      }
    },
    {
      "cell_type": "code",
      "source": [
        "class FunctionalGroup():\n",
        "  def __init__(self, cell, center_seg, span):\n",
        "    self.center_seg=center_seg\n",
        "    self.segments=[]\n",
        "    self.len_per_segment=[]\n",
        "    self.synapses=[]\n",
        "    self.clusters=[]\n",
        "    for sec in cell.all:\n",
        "      for seg in sec:\n",
        "        if h.distance(center_seg,seg)<=(span/2):\n",
        "          self.segments.append(seg)\n",
        "          self.len_per_segment.append(seg.sec.L/seg.sec.nseg)\n",
        "    self.len_per_segment=np.array(self.len_per_segment)\n",
        "\n",
        "class Cluster():\n",
        "  def __init__(self, cell, center_seg, span, functional_group=None):\n",
        "    self.center_seg=center_seg\n",
        "    self.segments=[]\n",
        "    self.len_per_segment=[]\n",
        "    self.synapses=[]\n",
        "    self.clusters=[]\n",
        "    self.spike_trains=[]\n",
        "    self.netcons_list=[]\n",
        "    self.functional_group=functional_group\n",
        "    if functional_group is not None:\n",
        "      self.functional_group.clusters.append(self)\n",
        "    for sec in cell.all:\n",
        "      for seg in sec:\n",
        "        if h.distance(center_seg,seg)<=(span/2):\n",
        "          self.segments.append(seg)\n",
        "          self.len_per_segment.append(seg.sec.L/seg.sec.nseg)\n",
        "    self.len_per_segment=np.array(self.len_per_segment)\n",
        "\n",
        "# get all segments\n",
        "all_segments=[]\n",
        "all_len_per_segment=[]\n",
        "for sec in complex_cell.all:\n",
        "  for seg in sec:\n",
        "    all_segments.append(seg)\n",
        "    all_len_per_segment.append(seg.sec.L/seg.sec.nseg)\n",
        "\n",
        "all_len_per_segment=np.array(all_len_per_segment)\n",
        "m=.2\n",
        "s=0.345\n",
        "gmax_mean = np.log(m) - 0.5 * np.log((s/m)**2+1)\n",
        "gmax_std = np.sqrt(np.log((s/m)**2 + 1))\n",
        "gmax_exc_dist = partial(np.random.lognormal, gmax_mean, gmax_std, size=1) # gmax distribution\n",
        "\n",
        "# create functional groups\n",
        "synaptic_density=2.12\n",
        "functional_group_span=100\n",
        "number_of_groups=int(sum(all_len_per_segment)/functional_group_span)\n",
        "functional_groups=[]\n",
        "cluster_span=10\n",
        "synapses_per_cluster=5\n",
        "cells_per_group=int(functional_group_span*synaptic_density/synapses_per_cluster) # number of presynaptic cells\n",
        "mean_fr_dist=partial(st.levy_stable.rvs, alpha=1.37, beta=-1.00, loc=0.92, scale=0.44, size=1) # distribution of mean firing rates\n",
        "spike_generator=SpikeGenerator()\n",
        "synapse_generator=SynapseGenerator()\n",
        "t=np.arange(0,h.tstop,1)\n",
        "\n",
        "rnd = np.random.RandomState(10)\n",
        "for GROUP in range(number_of_groups): # create functional group\n",
        "  center_seg=rnd.choice(all_segments, p=all_len_per_segment/sum(all_len_per_segment))\n",
        "  func_grp=FunctionalGroup(complex_cell, center_seg, functional_group_span) # generate functional group\n",
        "  functional_groups.append(func_grp)\n",
        "  #generate trace common to all cells within each functional group\n",
        "  fr_profile=spike_generator.get_firing_rate_profile(t, mean_firing_rate=mean_fr_dist, method='1f_noise')\n",
        "  for CELL in range(cells_per_group):# iterate through cells which each have a cluster of synapses\n",
        "    cluster_seg=rnd.choice(func_grp.segments, p=func_grp.len_per_segment/sum(func_grp.len_per_segment))\n",
        "    cluster=Cluster(complex_cell, cluster_seg, cluster_span, func_grp) # generate cluster\n",
        "    # add synapses to to the cluster\n",
        "    cluster.synapses=synapse_generator.add_synapses(segments=cluster.segments,probs=cluster.len_per_segment,gmax=gmax_exc_dist,syn_mod='AMPA_NMDA',number_of_synapses=synapses_per_node)\n",
        "    func_grp.synapses.append(cluster.synapses)\n",
        "    func_grp.clusters.append(cluster)\n",
        "    # generate spikes common to each synapse within synaptic cluster\n",
        "    mean_fr=spike_generator.get_mean_fr(mean_fr_dist)\n",
        "    spikes = spike_generator.generate_spikes_from_profile(fr_profile,mean_fr)\n",
        "    for synapse in cluster.synapses:\n",
        "      print(synapse, synapse.pp_obj)\n",
        "      cluster.netcons_list.append(spike_generator.set_spike_train(synapse, spikes))\n",
        "      cluster.spike_trains.append(spikes)\n",
        "\n",
        "#inhibtory\n",
        "cluster_span=10\n",
        "# create clusters\n",
        "synaptic_density=0.22\n",
        "synapses=synaptic_density*sum(all_len_per_segment)\n",
        "number_of_clusters=int(sum(all_len_per_segment)/cluster_span)\n",
        "synapses_per_cluster=synapses/number_of_clusters#12\n",
        "functional_groups=[]\n",
        "cluster_span=10\n",
        "synapses_per_node=5\n",
        "synapper_node=int(cluster_span*synaptic_density/synapses_per_node) # number of presynaptic cells\n",
        "mean_fr_dist=partial(st.levy_stable.rvs, alpha=1.37, beta=-1.00, loc=0.92, scale=0.44, size=1) # distribution of mean firing rates\n",
        "spike_generator=SpikeGenerator()\n",
        "synapse_generator=SynapseGenerator()\n",
        "t=np.arange(0,h.tstop,1)\n",
        "\n",
        "# proximal inh mean_fr distribution\n",
        "mean_fr, std_fr = 16.9, 14.3\n",
        "a, b = (0 - mean_fr) / std_fr, (100 - mean_fr) / std_fr\n",
        "proximal_inh_dist = partial(st.truncnorm.rvs, a=a, b=b, loc=mean_fr, scale=std_fr)\n",
        "# distal inh mean_fr distribution\n",
        "mean_fr, std_fr = 3.9, 4.3\n",
        "a, b = (0 - mean_fr) / std_fr, (100 - mean_fr) / std_fr\n",
        "distal_inh_dist = partial(st.truncnorm.rvs, a=a, b=b, loc=mean_fr, scale=std_fr)\n",
        "\n",
        "for CELL in range(number_of_clusters):# iterate through cells which each have a cluster of synapses\n",
        "  cluster_seg=rnd.choice(all_segments, p=all_len_per_segment/sum(all_len_per_segment))\n",
        "  cluster=Cluster(complex_cell, cluster_seg, cluster_span) # generate cluster\n",
        "  if h.distance(cluster.cluster_seg, complex_cell.soma[0])<=50:\n",
        "    gmax_dist = proximal_inh_dist\n",
        "  else:\n",
        "    gmax_dist = distal_inh_dist\n",
        "  # add synapses to to the cluster\n",
        "  cluster.synapses=synapse_generator.add_synapses(segments=cluster.segments,probs=cluster.len_per_segment,gmax=gmax_dist,syn_mod='GABA_AB',number_of_synapses=synapses_per_node)\n",
        "  func_grp.synapses.append(cluster.synapses)\n",
        "  func_grp.clusters.append(cluster)\n",
        "  # generate spikes common to each synapse within synaptic cluster\n",
        "  mean_fr=spike_generator.get_mean_fr(mean_fr_dist)\n",
        "  spikes = spike_generator.generate_spikes_from_profile(fr_profile,mean_fr)\n",
        "  for synapse in cluster.synapses:\n",
        "    print(synapse, synapse.pp_obj)\n",
        "    cluster.netcons_list.append(spike_generator.set_spike_train(synapse, spikes))\n",
        "    cluster.spike_trains.append(spikes)\n",
        "\n",
        "# 150 soma inh synapses\n",
        "\n",
        "soma_segments=[]\n",
        "soma_len_per_segment=[]\n",
        "for sec in complex_cell.soma:\n",
        "  for seg in sec:\n",
        "    soma_segments.append(seg)\n",
        "    soma_len_per_segment.append(seg.sec.nseg/seg.sec.L)\n",
        "\n",
        "num_clusters=15 # number of presynaptic cells\n",
        "cluster_span=10\n",
        "synapses_per_cluster=10\n",
        "for CELL in range(num_clusters):# iterate through cells which each have a cluster of synapses\n",
        "  cluster_seg=rnd.choice(soma_segments, p=soma_len_per_segment/sum(soma_len_per_segment))\n",
        "  cluster=Cluster(complex_cell, cluster_seg, cluster_span, func_grp) # generate cluster\n",
        "  if h.distance(cluster.cluster_seg, complex_cell.soma[0])<=50:\n",
        "    gmax_dist = proximal_inh_dist\n",
        "  else:\n",
        "    gmax_dist = distal_inh_dist\n",
        "  # add synapses to to the cluster\n",
        "  cluster.synapses=synapse_generator.add_synapses(segments=cluster.segments,probs=cluster.len_per_segment,gmax=gmax_dist,syn_mod='GABA_AB',number_of_synapses=synapses_per_node)\n",
        "  func_grp.synapses.append(cluster.synapses)\n",
        "  func_grp.clusters.append(cluster)\n",
        "  # generate spikes common to each synapse within synaptic cluster\n",
        "  mean_fr=spike_generator.get_mean_fr(mean_fr_dist)\n",
        "  spikes = spike_generator.generate_spikes_from_profile(fr_profile,mean_fr)\n",
        "  for synapse in cluster.synapses:\n",
        "    print(synapse, synapse.pp_obj)\n",
        "    cluster.netcons_list.append(spike_generator.set_spike_train(synapse, spikes))\n",
        "    cluster.spike_trains.append(spikes)\n",
        "\n",
        "\n",
        "print(synapse_generator.synapses)"
      ],
      "metadata": {
        "id": "06AG9jiPv5BR",
        "colab": {
          "base_uri": "https://localhost:8080/",
          "height": 1000
        },
        "outputId": "c083bd29-847f-4847-8584-46e59cee7e94"
      },
      "execution_count": 13,
      "outputs": [
        {
          "output_type": "stream",
          "name": "stdout",
          "text": [
            "<Modules.synapse.Synapse object at 0x7f93933a3e20> AMPA_NMDA[0]\n",
            "<Modules.synapse.Synapse object at 0x7f93933a2500> AMPA_NMDA[1]\n",
            "<Modules.synapse.Synapse object at 0x7f93933a2380> AMPA_NMDA[2]\n",
            "<Modules.synapse.Synapse object at 0x7f93933a3fa0> AMPA_NMDA[3]\n",
            "<Modules.synapse.Synapse object at 0x7f93933a3a60> AMPA_NMDA[4]\n",
            "<Modules.synapse.Synapse object at 0x7f93933a24d0> AMPA_NMDA[5]\n",
            "<Modules.synapse.Synapse object at 0x7f93933a2170> AMPA_NMDA[6]\n",
            "<Modules.synapse.Synapse object at 0x7f93933a2c20> AMPA_NMDA[7]\n",
            "<Modules.synapse.Synapse object at 0x7f93933a3ee0> AMPA_NMDA[8]\n",
            "<Modules.synapse.Synapse object at 0x7f93933a3190> AMPA_NMDA[9]\n",
            "<Modules.synapse.Synapse object at 0x7f93933a17e0> AMPA_NMDA[10]\n",
            "<Modules.synapse.Synapse object at 0x7f93933a17b0> AMPA_NMDA[11]\n",
            "<Modules.synapse.Synapse object at 0x7f93933a1780> AMPA_NMDA[12]\n",
            "<Modules.synapse.Synapse object at 0x7f93933a1750> AMPA_NMDA[13]\n",
            "<Modules.synapse.Synapse object at 0x7f93933a1720> AMPA_NMDA[14]\n",
            "<Modules.synapse.Synapse object at 0x7f93933a1660> AMPA_NMDA[15]\n",
            "<Modules.synapse.Synapse object at 0x7f93933a1630> AMPA_NMDA[16]\n",
            "<Modules.synapse.Synapse object at 0x7f93933a1600> AMPA_NMDA[17]\n",
            "<Modules.synapse.Synapse object at 0x7f93933a15d0> AMPA_NMDA[18]\n",
            "<Modules.synapse.Synapse object at 0x7f93933a15a0> AMPA_NMDA[19]\n",
            "<Modules.synapse.Synapse object at 0x7f93933a14e0> AMPA_NMDA[20]\n",
            "<Modules.synapse.Synapse object at 0x7f93933a14b0> AMPA_NMDA[21]\n",
            "<Modules.synapse.Synapse object at 0x7f93933a1480> AMPA_NMDA[22]\n",
            "<Modules.synapse.Synapse object at 0x7f93933a1450> AMPA_NMDA[23]\n",
            "<Modules.synapse.Synapse object at 0x7f93933a1510> AMPA_NMDA[24]\n"
          ]
        },
        {
          "output_type": "error",
          "ename": "ValueError",
          "evalue": "ignored",
          "traceback": [
            "\u001b[0;31m---------------------------------------------------------------------------\u001b[0m",
            "\u001b[0;31mValueError\u001b[0m                                Traceback (most recent call last)",
            "\u001b[0;32m<ipython-input-13-7a56e47d4609>\u001b[0m in \u001b[0;36m<cell line: 63>\u001b[0;34m()\u001b[0m\n\u001b[1;32m     76\u001b[0m     \u001b[0;31m# generate spikes common to each synapse within synaptic cluster\u001b[0m\u001b[0;34m\u001b[0m\u001b[0;34m\u001b[0m\u001b[0m\n\u001b[1;32m     77\u001b[0m     \u001b[0mmean_fr\u001b[0m\u001b[0;34m=\u001b[0m\u001b[0mspike_generator\u001b[0m\u001b[0;34m.\u001b[0m\u001b[0mget_mean_fr\u001b[0m\u001b[0;34m(\u001b[0m\u001b[0mmean_fr_dist\u001b[0m\u001b[0;34m)\u001b[0m\u001b[0;34m\u001b[0m\u001b[0;34m\u001b[0m\u001b[0m\n\u001b[0;32m---> 78\u001b[0;31m     \u001b[0mspikes\u001b[0m \u001b[0;34m=\u001b[0m \u001b[0mspike_generator\u001b[0m\u001b[0;34m.\u001b[0m\u001b[0mgenerate_spikes_from_profile\u001b[0m\u001b[0;34m(\u001b[0m\u001b[0mfr_profile\u001b[0m\u001b[0;34m,\u001b[0m\u001b[0mmean_fr\u001b[0m\u001b[0;34m)\u001b[0m\u001b[0;34m\u001b[0m\u001b[0;34m\u001b[0m\u001b[0m\n\u001b[0m\u001b[1;32m     79\u001b[0m     \u001b[0;32mfor\u001b[0m \u001b[0msynapse\u001b[0m \u001b[0;32min\u001b[0m \u001b[0mcluster\u001b[0m\u001b[0;34m.\u001b[0m\u001b[0msynapses\u001b[0m\u001b[0;34m:\u001b[0m\u001b[0;34m\u001b[0m\u001b[0;34m\u001b[0m\u001b[0m\n\u001b[1;32m     80\u001b[0m       \u001b[0mprint\u001b[0m\u001b[0;34m(\u001b[0m\u001b[0msynapse\u001b[0m\u001b[0;34m,\u001b[0m \u001b[0msynapse\u001b[0m\u001b[0;34m.\u001b[0m\u001b[0mpp_obj\u001b[0m\u001b[0;34m)\u001b[0m\u001b[0;34m\u001b[0m\u001b[0;34m\u001b[0m\u001b[0m\n",
            "\u001b[0;32m/content/Neural-Modeling/Modules/spike_generator.py\u001b[0m in \u001b[0;36mgenerate_spikes_from_profile\u001b[0;34m(self, fr_profile, mean_fr)\u001b[0m\n\u001b[1;32m    216\u001b[0m                 \u001b[0;34m''' sample spikes '''\u001b[0m\u001b[0;34m\u001b[0m\u001b[0;34m\u001b[0m\u001b[0m\n\u001b[1;32m    217\u001b[0m                 \u001b[0mfr_profile\u001b[0m \u001b[0;34m=\u001b[0m \u001b[0mfr_profile\u001b[0m \u001b[0;34m*\u001b[0m \u001b[0mmean_fr\u001b[0m\u001b[0;34m\u001b[0m\u001b[0;34m\u001b[0m\u001b[0m\n\u001b[0;32m--> 218\u001b[0;31m                 \u001b[0msample_values\u001b[0m \u001b[0;34m=\u001b[0m \u001b[0mnp\u001b[0m\u001b[0;34m.\u001b[0m\u001b[0mrandom\u001b[0m\u001b[0;34m.\u001b[0m\u001b[0mpoisson\u001b[0m\u001b[0;34m(\u001b[0m\u001b[0mfr_profile\u001b[0m \u001b[0;34m/\u001b[0m \u001b[0;36m1000\u001b[0m\u001b[0;34m)\u001b[0m\u001b[0;34m\u001b[0m\u001b[0;34m\u001b[0m\u001b[0m\n\u001b[0m\u001b[1;32m    219\u001b[0m                 \u001b[0mspike_times\u001b[0m \u001b[0;34m=\u001b[0m \u001b[0mnp\u001b[0m\u001b[0;34m.\u001b[0m\u001b[0mwhere\u001b[0m\u001b[0;34m(\u001b[0m\u001b[0msample_values\u001b[0m \u001b[0;34m>\u001b[0m \u001b[0;36m0\u001b[0m\u001b[0;34m)\u001b[0m\u001b[0;34m[\u001b[0m\u001b[0;36m0\u001b[0m\u001b[0;34m]\u001b[0m\u001b[0;34m\u001b[0m\u001b[0;34m\u001b[0m\u001b[0m\n\u001b[1;32m    220\u001b[0m                 \u001b[0;32mreturn\u001b[0m \u001b[0mspike_times\u001b[0m\u001b[0;34m\u001b[0m\u001b[0;34m\u001b[0m\u001b[0m\n",
            "\u001b[0;32mmtrand.pyx\u001b[0m in \u001b[0;36mnumpy.random.mtrand.RandomState.poisson\u001b[0;34m()\u001b[0m\n",
            "\u001b[0;32m_common.pyx\u001b[0m in \u001b[0;36mnumpy.random._common.disc\u001b[0;34m()\u001b[0m\n",
            "\u001b[0;32m_common.pyx\u001b[0m in \u001b[0;36mnumpy.random._common.discrete_broadcast_d\u001b[0;34m()\u001b[0m\n",
            "\u001b[0;32m_common.pyx\u001b[0m in \u001b[0;36mnumpy.random._common.check_array_constraint\u001b[0;34m()\u001b[0m\n",
            "\u001b[0;31mValueError\u001b[0m: lam < 0 or lam contains NaNs"
          ]
        }
      ]
    },
    {
      "cell_type": "code",
      "execution_count": null,
      "metadata": {
        "id": "D6vyubrwOvA_",
        "colab": {
          "base_uri": "https://localhost:8080/"
        },
        "outputId": "65657a49-ae0a-4fb5-8577-71b85761a797"
      },
      "outputs": [
        {
          "output_type": "stream",
          "name": "stdout",
          "text": [
            "\u001b[0m\u001b[01;34mcell_inference\u001b[0m/  Stylized_Single_Cell_Extracellular_Potential_Tutorial.ipynb\n"
          ]
        }
      ],
      "source": [
        "import os\n",
        "\n",
        "RunningInCOLAB = 'google.colab' in str(get_ipython())\n",
        "if RunningInCOLAB:\n",
        "    !pip install neuron==8.0.0 &> /dev/null\n",
        "    os.chdir('/content')\n",
        "    if not os.path.isdir('Stylized-Single-Cell-and-Extracellular-Potential'):\n",
        "        !git clone https://github.com/chenziao/Stylized-Single-Cell-and-Extracellular-Potential.git &> /dev/null\n",
        "    os.chdir('Stylized-Single-Cell-and-Extracellular-Potential')\n",
        "    %ls"
      ]
    },
    {
      "cell_type": "markdown",
      "metadata": {
        "id": "rPxOd7iC-kyL"
      },
      "source": [
        "### Prepare Simulation"
      ]
    },
    {
      "cell_type": "code",
      "execution_count": null,
      "metadata": {
        "id": "X7p40K3RO1RQ"
      },
      "outputs": [],
      "source": [
        "from cell_inference.config import params, paths\n",
        "from cell_inference.cells.activecell_axon import ReducedOrderL5Cell, ReducedOrderL5CellPassiveDendrite\n",
        "from cell_inference.utils.currents.ecp import EcpMod\n",
        "from cell_inference.utils.currents.recorder import Recorder\n",
        "from cell_inference.utils.plotting.plot_morphology import plot_morphology\n",
        "from cell_inference.utils.plotting.plot_results import plot_lfp_heatmap, plot_lfp_traces\n",
        "from cell_inference.utils.plotting.plot_variable_with_morphology import plot_variable_with_morphology\n",
        "from cell_inference.utils.metrics.measure_segment_distance import measure_segment_distance"
      ]
    },
    {
      "cell_type": "code",
      "execution_count": null,
      "metadata": {
        "id": "m_npKvVUO4JD"
      },
      "outputs": [],
      "source": [
        "# Record time points\n",
        "t_vec = h.Vector(round(h.tstop / h.dt) + 1).record(h._ref_t)\n",
        "\n",
        "# Record membrane voltage of all segments\n",
        "V_rec = Recorder(cell.segments)"
      ]
    },
    {
      "cell_type": "markdown",
      "metadata": {
        "id": "22d6f6e6"
      },
      "source": [
        "### Add electrodes (Neuropixel)\n",
        "A probe with 384 electrodes [https://www.neuropixels.org/probe](https://www.neuropixels.org/probe). The coordinates of each electrode is a row in the array printed below."
      ]
    },
    {
      "cell_type": "code",
      "execution_count": null,
      "metadata": {
        "id": "8fdb0017"
      },
      "outputs": [],
      "source": [
        "elec_pos = params.ELECTRODE_POSITION\n",
        "ecp = EcpMod(cell, elec_pos, min_distance=params.MIN_DISTANCE)  # create an ECP object for extracellular potential\n",
        "\n",
        "# coordinates (x, y, z) of electrodes\n",
        "# print(params.ELECTRODE_POSITION.shape)\n",
        "# print(params.ELECTRODE_POSITION)"
      ]
    },
    {
      "cell_type": "markdown",
      "metadata": {
        "id": "c5323608"
      },
      "source": [
        "## Custom settings\n",
        "\n",
        "Using the interactive tools below, you can change the position of the cell, and change the synapse strength and location on the cell.\n",
        "\n",
        "#### Cell position parameters (x, y, z, alpha, h, phi)\n",
        "Starting with soma at the origin, apical dendrite along y-axis, rotate and translate the cell to the desired position determined by 6 parameters. First, rotate alpha about the y-axis (spin), then rotate beta=arccos(h) about the x-axis (elevation), then rotate phi about the y-axis (azimuth). Finally translate the cell by (x,y,z).\n",
        "\n",
        "Use the sliders to change the 6 position parameters. Use the sliders 'elev' and 'azim' to change view of the 3D plot."
      ]
    },
    {
      "cell_type": "code",
      "execution_count": null,
      "metadata": {
        "id": "eda71vXyA6Vt"
      },
      "outputs": [],
      "source": [
        "import matplotlib.pyplot as plt\n",
        "from matplotlib.figure import Figure\n",
        "from matplotlib.axes import Axes\n",
        "import numpy as np\n",
        "from typing import Union, Optional, List, Tuple\n",
        "\n",
        "from cell_inference.utils.currents.ecp import move_position\n",
        "from cell_inference.cells.stylizedcell import StylizedCell\n",
        "\n",
        "\n",
        "def plot_morphology(sim: Optional = None, cellid: Optional[int] = 0, cell: Optional[StylizedCell] = None,\n",
        "                    seg_coords: Optional[dict] = None, sec_nseg: Optional[List] = None,\n",
        "                    type_id: Optional[List] = None, electrodes: Optional[np.ndarray] = None,\n",
        "                    axes: Union[List[int], Tuple[int]] = [2, 0, 1], clr: Optional[List[str]] = None,\n",
        "                    elev: int = 20, azim: int = 10, move_cell: Optional[Union[List,np.ndarray]] = None,\n",
        "                    figsize: Optional[Tuple[float, float]] = None) -> Tuple[Figure, Axes]:\n",
        "    \"\"\"\n",
        "    Plot morphology in 3D.\n",
        "\n",
        "    sim: simulation object\n",
        "    cellid: cell id in the simulation object. Default: 0\n",
        "    cell: stylized cell object. Ignore sim and cellid if specified\n",
        "    seg_coords: if not using sim or cell, a dictionary that includes dl, pc, r\n",
        "    sec_nseg: if not using sim or cell, list of number of segments in each section\n",
        "    type_id:  if not using sim or cell, list of the swc type id of each section/segment\n",
        "    electrodes: electrode positions. Default: None, not shown.\n",
        "    axes: sequence of axes to display in 3d plot axes.\n",
        "        Default: [2,0,1] show z,x,y in 3d plot x,y,z axes, so y is upward.\n",
        "    clr: list of colors for each type of section\n",
        "    Return Figure object, Axes object\n",
        "    \"\"\"\n",
        "    if sim is None and cell is None:\n",
        "        if seg_coords is None or sec_nseg is None or type_id is None:\n",
        "            raise ValueError(\"If not using 'Simulation', input arguments 'seg_coords', 'sec_nseg', 'type_id' are required.\")\n",
        "        if clr is None:\n",
        "            clr = ('g', 'r', 'b', 'c')\n",
        "        if move_cell is None:\n",
        "            move_cell = [0., 0., 0., 0., 1., 0.]\n",
        "        sec_id_in_seg = np.cumsum([0] + list(sec_nseg[:-1]))\n",
        "        type_id = np.asarray(type_id) - 1\n",
        "        if type_id.size != len(sec_nseg):\n",
        "            type_id = type_id = type_id[sec_id_in_seg]\n",
        "        type_id = type_id.tolist()\n",
        "        label_idx = np.array([type_id.index(i) for i in range(4)])\n",
        "        lb_odr = np.argsort(label_idx)\n",
        "        label_idx = label_idx[lb_odr].tolist()\n",
        "        sec_name = np.array(('soma','axon','dend','apic'))[lb_odr]\n",
        "    else:\n",
        "        if clr is None:\n",
        "            clr = ('g', 'b', 'pink', 'purple', 'r', 'c')\n",
        "        if cell is None:\n",
        "            if move_cell is None:\n",
        "                move_cell = sim.loc_param[cellid, 0]\n",
        "            cell = sim.cells[cellid]\n",
        "        elif move_cell is None:\n",
        "            move_cell = [0., 0., 0., 0., 1., 0.]\n",
        "        seg_coords = cell.seg_coords\n",
        "        sec_id_in_seg = cell.sec_id_in_seg\n",
        "        sec_nseg = []\n",
        "        sec_name = []\n",
        "        label_idx = []\n",
        "        type_id = []\n",
        "        for i, sec in enumerate(cell.all):\n",
        "            sec_nseg.append(sec.nseg)\n",
        "            name = sec.name().split('.')[-1]\n",
        "            if name not in sec_name:\n",
        "                sec_name.append(name)\n",
        "                label_idx.append(i)\n",
        "            type_id.append(sec_name.index(name))\n",
        "    label_idx.append(-1)\n",
        "\n",
        "    move_cell = np.asarray(move_cell).reshape((2, 3))\n",
        "    dl = move_position([0., 0., 0.], move_cell[1], seg_coords['dl'])\n",
        "    pc = move_position(move_cell[0], move_cell[1], seg_coords['pc'])\n",
        "    xyz = 'xyz'\n",
        "    box = np.vstack([np.full(3, np.inf), np.full(3, np.NINF)])\n",
        "    if electrodes is not None:\n",
        "        box[0, axes[0:2]] = np.amin(electrodes[:, axes[0:2]], axis=0)\n",
        "        box[1, axes[0:2]] = np.amax(electrodes[:, axes[0:2]], axis=0)\n",
        "\n",
        "    fig = plt.figure(figsize=figsize)\n",
        "    ax = plt.axes(projection='3d')\n",
        "    lb_ptr = 0\n",
        "    for i, itype in enumerate(type_id):\n",
        "        label = sec_name[lb_ptr] if i == label_idx[lb_ptr] else None\n",
        "        if label is not None: lb_ptr += 1\n",
        "        i0 = sec_id_in_seg[i]\n",
        "        i1 = i0 + sec_nseg[i] - 1\n",
        "        if sec_name[itype] == 'soma':\n",
        "            p05 = (pc[i0] + pc[i1]) / 2\n",
        "            ax.scatter(*[p05[j] for j in axes], c=clr[itype], s=20, label=label)\n",
        "        else:\n",
        "            p0 = pc[i0] - dl[i0] / 2\n",
        "            p1 = pc[i1] + dl[i1] / 2\n",
        "            ax.plot3D(*[(p0[j], p1[j]) for j in axes], color=clr[itype], label=label)\n",
        "            box[0, :] = np.minimum(box[0, :], np.minimum(p0, p1))\n",
        "            box[1, :] = np.maximum(box[1, :], np.maximum(p0, p1))\n",
        "    ctr = np.mean(box, axis=0)\n",
        "    r = np.amax(box[1, :] - box[0, :]) / 2\n",
        "    box = np.vstack([ctr - r, ctr + r])\n",
        "    if electrodes is not None:\n",
        "        idx = np.logical_and(np.all(electrodes >= box[0, :], axis=1), np.all(electrodes <= box[1, :], axis=1))\n",
        "        ax.scatter(*[(electrodes[idx, j], electrodes[idx, j]) for j in axes], color='orange', s=5, label='electrodes')\n",
        "    box = box[:, axes]\n",
        "    ax.auto_scale_xyz(*box.T)\n",
        "    ax.view_init(elev, azim)\n",
        "    # ax.legend(loc=1)\n",
        "    ax.set_xlabel(xyz[axes[0]])\n",
        "    ax.set_ylabel(xyz[axes[1]])\n",
        "    ax.set_zlabel(xyz[axes[2]])\n",
        "    plt.show()\n",
        "    return fig, ax"
      ]
    },
    {
      "cell_type": "code",
      "execution_count": null,
      "metadata": {
        "id": "a3df63ce",
        "colab": {
          "base_uri": "https://localhost:8080/",
          "height": 813,
          "referenced_widgets": [
            "db64dbe1905d46b79cd2edab095b4712",
            "2008306176ab479f820cb86f43a8918b",
            "85c75917421540409ecc26d66dfd8238",
            "12587dc5347845c2907e85f96ddc7e9d",
            "54c91f9993f54e7aaac1517c91a84aba",
            "21104276c1fa408fb1b2280982ebd6f6",
            "89cb386ee5b044a396af68800b2d1ba6",
            "d9baa0315faf4d0e99b031bc747c0b15",
            "c964837f0a5d4f9b9687f31188ba7321",
            "48c98c574edc4a91bc172fa87d60149c",
            "11b222624816417eb229ca34cbd52161",
            "10e4a82be8eb43a7b4cf62eedcbbf143",
            "c664e6264ded40528630bc003068efb1",
            "eb98b8429a6347deb9aae6344c30160d",
            "21aec24611db49ac9f90b2108dcfd8d6",
            "7083a7e2caa64d9599a8dd66fecfe0e3",
            "9a1a5093d8784ead8efd61a6627b9688",
            "1134e3a9c66e46d9aafc799817adf060",
            "ee133d034ff741088f290c8549373cee",
            "6a880ca255b84b308cf2a95884941f8b",
            "36cbbb67a3fe45e4a34bd079ab4093f7",
            "d2edb36259bb4ba18cb165f743f5cad7",
            "32427ca13c1f409f82864cdad795f3ee",
            "7d6841db31c949949aed54136adb8cc2",
            "e0f59a05442747a7b5a036f2284205cd",
            "99e4cd1874a14a969d3ab03b5f7f4949",
            "f1ce9073b54842c8b23fe02f9c7d4f24",
            "6f8547dea62e412dacef4c1116b7fcdd",
            "fa2a18416caf4ccebdddcb029766a8cc",
            "4ae62d5632d74f87af6c6e58fa972b5b",
            "458893b6bc97413f907aae39a4db7d69",
            "aa19f266684b4b8ea5b9636a960acc54",
            "4b0884d3cd484790b1d54d1c0a9ecc94",
            "c376f32813e44c2f9a8af56b1a7efaa9",
            "0a30ea22cef54ad1af32f5aa91e92916",
            "a8e5b452c5a944bf9af96eb194a7829e",
            "745d21df93f34ebe8c3b6b39b40b04f3",
            "cb616c87f38f4ebab08df7e4a27424c9",
            "7ddf35aa0eeb464ca307c4fdd96998a3",
            "8ca9ec21bd404d28a7c9ca1644d280bf",
            "39351f577be146dfaae8fff7bf7c2a8c"
          ]
        },
        "outputId": "2d1c4861-b709-482e-e941-4b2efd0671db"
      },
      "outputs": [
        {
          "output_type": "display_data",
          "data": {
            "text/plain": [
              "VBox(children=(Button(button_style='primary', description='Reset', icon='history', style=ButtonStyle()), HBox(…"
            ],
            "application/vnd.jupyter.widget-view+json": {
              "version_major": 2,
              "version_minor": 0,
              "model_id": "db64dbe1905d46b79cd2edab095b4712"
            }
          },
          "metadata": {}
        }
      ],
      "source": [
        "loc_param_default = [0., 0., 80., 0., 1., 0.]  # Default position parameters\n",
        "elev, azim = 10, 90  # Default view\n",
        "# clr = ['g', 'yellow', 'orange', 'red', 'b', 'c', 'g', 'yellow', 'orange', 'red', 'pink', 'purple']  # section color\n",
        "clr=[]\n",
        "clr.extend(['black' for i in range(len([cell.soma]))]) # soma color\n",
        "clr.extend(['red' for i in range(len(cell.dend))]) #dend colors\n",
        "clr.extend(['purple' for i  in range(len(cell.axon))]) # axon colors\n",
        "clr.extend(['blue']) #trunk color\n",
        "clr.extend(['green' for i in range(len(cell.apic)-1)])  # branch colors\n",
        "\n",
        "def interactive_plot(x, y, z, alpha, beta, phi, elev, azim):\n",
        "    global loc_param\n",
        "    loc_param = (x, y, z, np.pi/180*alpha, np.cos(np.pi/180*beta), np.pi/180*phi)\n",
        "    fig, ax = plot_morphology(cell=cell, electrodes=elec_pos, move_cell=loc_param,\n",
        "                    elev=-elev, azim=-azim, figsize=(12, 8), clr = clr)\n",
        "    plt.show()\n",
        "\n",
        "xslider = Layout(width='500px')\n",
        "yslider = Layout(height='350px')\n",
        "w_reset = widgets.Button(description='Reset', icon='history', button_style='primary')\n",
        "w_x = widgets.FloatSlider(value=loc_param_default[0], min=-200, max=200, step=1, description='x (um)', continuous_update=False, readout_format='.0f')\n",
        "w_y = widgets.FloatSlider(value=loc_param_default[1], min=-1000, max=1000, step=1, description='y (um)', continuous_update=False, readout_format='.0f')\n",
        "w_z = widgets.FloatSlider(value=loc_param_default[2], min=20, max=400, step=1, description='z (um)', continuous_update=False, readout_format='.0f')\n",
        "w_alpha = widgets.FloatSlider(value=180/np.pi*loc_param_default[3], min=-180, max=180, step=1, description='alpha (deg)', continuous_update=False, readout_format='.0f')\n",
        "w_beta = widgets.FloatSlider(value=180/np.pi*np.arccos(loc_param_default[4]), min=0, max=180, step=1, description='beta (deg)', continuous_update=False, readout_format='.0f')\n",
        "w_phi = widgets.FloatSlider(value=180/np.pi*loc_param_default[5], min=-180, max=180, step=1, description='phi (deg)', continuous_update=False, readout_format='.0f')\n",
        "w_elev = widgets.FloatSlider(value=-elev, min=-90, max=90, step=1, description='elev (deg)', continuous_update=False, readout_format='.0f', orientation='vertical', layout=yslider)\n",
        "w_azim = widgets.FloatSlider(value=-azim, min=-180, max=180, step=1, description='azim (deg)', continuous_update=False, readout_format='.0f', layout=xslider)\n",
        "\n",
        "def reset_default(*args):\n",
        "    w_x.value, w_y.value, w_z.value = loc_param_default[:3]\n",
        "    w_alpha.value = 180 / np.pi * loc_param_default[3]\n",
        "    w_beta.value = 180 / np.pi * np.arccos(loc_param_default[4])\n",
        "    w_phi.value = 180 / np.pi * loc_param_default[5]\n",
        "    w_elev.value, w_azim.value = -elev, -azim\n",
        "w_reset.on_click(reset_default)\n",
        "\n",
        "out = interactive_output(interactive_plot, {'x': w_x, 'y': w_y, 'z': w_z, 'alpha': w_alpha, 'beta': w_beta, 'phi': w_phi, 'elev': w_elev, 'azim': w_azim})\n",
        "ui = VBox([ w_reset, HBox([ VBox([w_x, w_y, w_z]), VBox([w_alpha, w_beta, w_phi]) ]), HBox([ VBox([out, w_azim]), w_elev]) ])\n",
        "\n",
        "display(ui)"
      ]
    },
    {
      "cell_type": "markdown",
      "metadata": {
        "id": "OPZrMhcBjnec"
      },
      "source": [
        "set azim to -90 in order to focus on zy plane view. 2D plot is of xy plane."
      ]
    },
    {
      "cell_type": "code",
      "execution_count": null,
      "metadata": {
        "id": "RxRWZYn-WeHU",
        "colab": {
          "base_uri": "https://localhost:8080/",
          "height": 813,
          "referenced_widgets": [
            "7d0a17f09ae24248bc6f010c04f3772a",
            "b585e1bbbeaf4ae6a70d0a2ca979b85a",
            "468717ea77714db49d996591f86b16b4",
            "c9cf90f4ace14137adfd1391a138f09a",
            "a162482604ff46ce890bc08947dc4c21",
            "d6914f68c5d840f4a81f24234969e47f",
            "efb53fdb180248be9b00d5208291b9c0",
            "36f0302aab454de18bc479ebb055c788",
            "53607f2b0302489ea5eb4882e2117454",
            "ec52610e2f4044a0ac5122d3fba0e153",
            "c6a5255c375d478484e8ad5d21fd70ba",
            "ad514760ff6249e0b561df259f8ba6ca",
            "39e2acbd26b3472cab87199ade462766",
            "8d45ee1d89a84616952299f93565af93",
            "797bc717e0c7429ba53f0af80d4226ad",
            "cebf4af8e860420799ee18847db44ba2",
            "17dffd5b17fe47ee8ffc714af6010828",
            "8acc2aa9a24b473485dbd3ea04a3f1ef",
            "87be12e3a5db470faadd0b6a2e4be6b2",
            "682a96f840f648a6ba5a16b6adb76fe6",
            "096331fb0a584331abcf4c4b221f1019",
            "3151d51a6a6e436d8cffb3a6238e6cf9",
            "53e318db1bde4c44ae42a6c847af4b68",
            "190adde16363446a9a88ade4109d91f8",
            "c026ab8cd1584520a93c5b76a8e1f9bb",
            "d73c5152c61f4106803941491c691e5a",
            "3fde2e73979b496f8f87c39b04f2ec5d",
            "07b8f8882a4a469d9141114a9d136acf",
            "f83c7fac0684401b9c4b87194825594b",
            "4b80abcca7ba442e9ae0b7961ef749fb",
            "6e4a11514b89483cb7a02e637fbcdbd0",
            "ff5305363423463aa856d1ff710cf092",
            "45eee66723a04aa68bc8a6766fb0590f",
            "332dd23762b24f439c1249c88d0597f3",
            "99a6af2b9dba44cca5562d204d4a9aee",
            "afcfa13149e64f138e3b9e7052bfbe78",
            "ad32198080dc4cf09f9a6c9bd9229534",
            "c0af6e36e76149afabb3c01e2d98f07c",
            "585fc4a575d64e67bf60cf8b66e6b623",
            "9e44ac71a00e413493bbfe0b8dd36f95",
            "72e4a0bb558a43b5a9d727aac2b879f1"
          ]
        },
        "outputId": "7c979964-894d-4e33-e15f-0b04116f78d4"
      },
      "outputs": [
        {
          "output_type": "display_data",
          "data": {
            "text/plain": [
              "VBox(children=(Button(button_style='primary', description='Reset', icon='history', style=ButtonStyle()), HBox(…"
            ],
            "application/vnd.jupyter.widget-view+json": {
              "version_major": 2,
              "version_minor": 0,
              "model_id": "7d0a17f09ae24248bc6f010c04f3772a"
            }
          },
          "metadata": {}
        }
      ],
      "source": [
        "#TESTING UPDATES to have color be representative of segment property\n",
        "def plot_morphology(seg_property: Optional = None,segment_colors: Optional = None,sim: Optional = None, cellid: Optional[int] = 0, cell: Optional[StylizedCell] = None,\n",
        "                    seg_coords: Optional[dict] = None, sec_nseg: Optional[List] = None,\n",
        "                    type_id: Optional[List] = None, electrodes: Optional[np.ndarray] = None,\n",
        "                    axes: Union[List[int], Tuple[int]] = [2, 0, 1], clr: Optional[List[str]] = None,\n",
        "                    elev: int = 20, azim: int = 10, move_cell: Optional[Union[List,np.ndarray]] = None,\n",
        "                    figsize: Optional[Tuple[float, float]] = None) -> Tuple[Figure, Axes]:\n",
        "    \"\"\"\n",
        "    Plot morphology in 3D.\n",
        "\n",
        "    sim: simulation object\n",
        "    cellid: cell id in the simulation object. Default: 0\n",
        "    cell: stylized cell object. Ignore sim and cellid if specified\n",
        "    seg_coords: if not using sim or cell, a dictionary that includes dl, pc, r\n",
        "    sec_nseg: if not using sim or cell, list of number of segments in each section\n",
        "    type_id:  if not using sim or cell, list of the swc type id of each section/segment\n",
        "    electrodes: electrode positions. Default: None, not shown.\n",
        "    axes: sequence of axes to display in 3d plot axes.\n",
        "        Default: [2,0,1] show z,x,y in 3d plot x,y,z axes, so y is upward.\n",
        "    clr: list of colors for each type of section\n",
        "    Return Figure object, Axes object\n",
        "    \"\"\"\n",
        "    if sim is None and cell is None:\n",
        "        if seg_coords is None or sec_nseg is None or type_id is None:\n",
        "            raise ValueError(\"If not using 'Simulation', input arguments 'seg_coords', 'sec_nseg', 'type_id' are required.\")\n",
        "        if clr is None:\n",
        "            clr = ('g', 'r', 'b', 'c')\n",
        "        if move_cell is None:\n",
        "            move_cell = [0., 0., 0., 0., 1., 0.]\n",
        "        sec_id_in_seg = np.cumsum([0] + list(sec_nseg[:-1]))\n",
        "        type_id = np.asarray(type_id) - 1\n",
        "        if type_id.size != len(sec_nseg):\n",
        "            type_id = type_id = type_id[sec_id_in_seg]\n",
        "        type_id = type_id.tolist()\n",
        "        label_idx = np.array([type_id.index(i) for i in range(4)])\n",
        "        lb_odr = np.argsort(label_idx)\n",
        "        label_idx = label_idx[lb_odr].tolist()\n",
        "        sec_name = np.array(('soma','axon','dend','apic'))[lb_odr]\n",
        "    else:\n",
        "        if clr is None:\n",
        "            clr = ('g', 'b', 'pink', 'purple', 'r', 'c')\n",
        "        if cell is None:\n",
        "            if move_cell is None:\n",
        "                move_cell = sim.loc_param[cellid, 0]\n",
        "            cell = sim.cells[cellid]\n",
        "        elif move_cell is None:\n",
        "            move_cell = [0., 0., 0., 0., 1., 0.]\n",
        "        seg_coords = cell.seg_coords\n",
        "        sec_id_in_seg = cell.sec_id_in_seg\n",
        "        sec_nseg = []\n",
        "        sec_name = []\n",
        "        label_idx = []\n",
        "        type_id = []\n",
        "        for i, sec in enumerate(cell.all):\n",
        "            sec_nseg.append(sec.nseg)\n",
        "            name = sec.name().split('.')[-1]\n",
        "            if name not in sec_name:\n",
        "                sec_name.append(name)\n",
        "                label_idx.append(i)\n",
        "            type_id.append(sec_name.index(name))\n",
        "    label_idx.append(-1)\n",
        "\n",
        "    move_cell = np.asarray(move_cell).reshape((2, 3))\n",
        "    dl = move_position([0., 0., 0.], move_cell[1], seg_coords['dl'])\n",
        "    pc = move_position(move_cell[0], move_cell[1], seg_coords['pc'])\n",
        "    xyz = 'xyz'\n",
        "    box = np.vstack([np.full(3, np.inf), np.full(3, np.NINF)])\n",
        "    if electrodes is not None:\n",
        "        box[0, axes[0:2]] = np.amin(electrodes[:, axes[0:2]], axis=0)\n",
        "        box[1, axes[0:2]] = np.amax(electrodes[:, axes[0:2]], axis=0)\n",
        "\n",
        "    fig = plt.figure(figsize=figsize)\n",
        "    ax = plt.axes(projection='3d')\n",
        "    lb_ptr = 0\n",
        "    if segment_colors is None:\n",
        "      for i, itype in enumerate(type_id):\n",
        "          label = sec_name[lb_ptr] if i == label_idx[lb_ptr] else None\n",
        "          if label is not None: lb_ptr += 1\n",
        "          i0 = sec_id_in_seg[i] #segments list index of first segment of this section\n",
        "          i1 = i0 + sec_nseg[i] - 1 #segments list index of last segment of this section\n",
        "          if sec_name[itype] == 'soma':\n",
        "              p05 = (pc[i0] + pc[i1]) / 2\n",
        "              ax.scatter(*[p05[j] for j in axes], c=clr[itype], s=20, label=label)\n",
        "          else:\n",
        "              for seg_index in range(i0,i1+1):\n",
        "                p0 = pc[seg_index] - dl[seg_index]/2\n",
        "                p1 = pc[seg_index] + dl[seg_index]/2\n",
        "                ax.plot3D(*[(p0[j], p1[j]) for j in axes], color=clr[itype], label=label)\n",
        "                box[0, :] = np.minimum(box[0, :], np.minimum(p0, p1))\n",
        "                box[1, :] = np.maximum(box[1, :], np.maximum(p0, p1))\n",
        "    else:\n",
        "      for i, itype in enumerate(type_id):\n",
        "          label = sec_name[lb_ptr] if i == label_idx[lb_ptr] else None\n",
        "          if label is not None: lb_ptr += 1\n",
        "          i0 = sec_id_in_seg[i] #segments list index of first segment of this section\n",
        "          i1 = i0 + sec_nseg[i] - 1 #segments list index of last segment of this section\n",
        "          if sec_name[itype] == 'soma':\n",
        "              p05 = (pc[i0] + pc[i1]) / 2\n",
        "              ax.scatter(*[p05[j] for j in axes], c=clr[itype], s=20, label=label)\n",
        "          else:\n",
        "              for seg_index in range(i0,i1+1):\n",
        "                p0 = pc[seg_index] - dl[seg_index]/2\n",
        "                p1 = pc[seg_index] + dl[seg_index]/2\n",
        "                ax.plot3D(*[(p0[j], p1[j]) for j in axes], color=segment_colors[seg_index], label=label)\n",
        "                box[0, :] = np.minimum(box[0, :], np.minimum(p0, p1))\n",
        "                box[1, :] = np.maximum(box[1, :], np.maximum(p0, p1))\n",
        "\n",
        "    # Add a colorbar to the plot\n",
        "    # Create a new axes for the colorbar\n",
        "    cbar_ax = fig.add_axes([0.75, 0.2, 0.03, 0.6])\n",
        "    cbar = fig.colorbar(sm, cax=cbar_ax)\n",
        "    if seg_property is not None:\n",
        "      cbar.set_label(seg_property)\n",
        "    ctr = np.mean(box, axis=0)\n",
        "    r = np.amax(box[1, :] - box[0, :]) / 2\n",
        "    box = np.vstack([ctr - r, ctr + r])\n",
        "    if electrodes is not None:\n",
        "        idx = np.logical_and(np.all(electrodes >= box[0, :], axis=1), np.all(electrodes <= box[1, :], axis=1))\n",
        "        ax.scatter(*[(electrodes[idx, j], electrodes[idx, j]) for j in axes], color='orange', s=5, label='electrodes')\n",
        "    box = box[:, axes]\n",
        "    ax.auto_scale_xyz(*box.T)\n",
        "    ax.view_init(elev, azim)\n",
        "    # ax.legend(loc=1)\n",
        "    ax.set_xlabel(xyz[axes[0]])\n",
        "    ax.set_ylabel(xyz[axes[1]])\n",
        "    ax.set_zlabel(xyz[axes[2]])\n",
        "    plt.show()\n",
        "    return fig, ax\n",
        "\n",
        "loc_param_default = [0., 0., 80., 0., 1., 0.]  # Default position parameters\n",
        "elev, azim = 10, 90  # Default view\n",
        "# clr = ['g', 'yellow', 'orange', 'red', 'b', 'c', 'g', 'yellow', 'orange', 'red', 'pink', 'purple']  # section color\n",
        "clr=[]\n",
        "clr.extend(['black' for i in range(len([cell.soma]))]) # soma color\n",
        "clr.extend(['red' for i in range(len(cell.dend))]) #dend colors\n",
        "clr.extend(['purple' for i  in range(len(cell.axon))]) # axon colors\n",
        "clr.extend(['blue']) #trunk color\n",
        "clr.extend(['green' for i in range(len(cell.apic)-1)])  # branch colors\n",
        "\n",
        "def get_nested_property(seg, properties):\n",
        "    if properties:\n",
        "        property = properties[0]\n",
        "        remaining_properties = properties[1:]\n",
        "        if property in seg:\n",
        "            if isinstance(seg[property], dict):\n",
        "                if remaining_properties:\n",
        "                    return get_nested_property(seg[property], remaining_properties)\n",
        "                else:\n",
        "                    return seg[property]\n",
        "            elif len(remaining_properties) == 0:\n",
        "                return seg[property]\n",
        "            else:\n",
        "                raise ValueError(\"Property list contains too many items for the depth of the target\")\n",
        "        else:\n",
        "            raise ValueError(f\"Property '{property}' not found in segment. Please specify a proper path in seg_info.\")\n",
        "    else:\n",
        "        raise ValueError(\"Empty property list\")\n",
        "\n",
        "#identify the property being used #check cell.seg_info[0] for dictionary of properties (some are nested)\n",
        "property_list = ['netcons_per_seg','total']\n",
        "# property_list = ['seg_elec_info','beta','passive_soma']\n",
        "seg_prop = [get_nested_property(seg, property_list) for seg in cell.seg_info]\n",
        "\n",
        "def combine_strings(strings: list) -> str:\n",
        "    \"\"\"Combine a list of strings into one string separated by underscores.\"\"\"\n",
        "    return '_'.join(strings)\n",
        "\n",
        "label = combine_strings(property_list)\n",
        "\n",
        "# seg_prop=[seg['Center Z Coord'] for seg in cell.seg_info]\n",
        "# seg_prop=[seg['seg_elec_info']['delta']['active_soma'] for seg in cell.seg_info]\n",
        "# seg_prop=[seg['netcons_per_seg']['exc'] for seg in cell.seg_info]\n",
        "seg_prop=np.array(seg_prop)\n",
        "#normalized_seg_prop = (seg_prop - min(seg_prop)) / (max(seg_prop) - min(seg_prop))\n",
        "# Define your percentile thresholds\n",
        "lower, upper = np.percentile(seg_prop, [1, 99]) # you can adjust these percentiles to your needs\n",
        "# Define normalization function based on these percentiles\n",
        "robust_norm = plt.Normalize(vmin=lower, vmax=upper)\n",
        "# Apply robust normalization to segment property\n",
        "normalized_seg_prop = robust_norm(seg_prop)\n",
        "cmap = plt.get_cmap('jet')\n",
        "segment_colors = cmap(normalized_seg_prop)\n",
        "# Create a ScalarMappable object to represent the colormap\n",
        "# sm = plt.cm.ScalarMappable(cmap=cmap, norm=plt.Normalize(vmin=min(seg_prop), vmax=max(seg_prop)))\n",
        "sm = plt.cm.ScalarMappable(cmap=cmap, norm=robust_norm)\n",
        "\n",
        "\n",
        "def interactive_plot(x, y, z, alpha, beta, phi, elev, azim):\n",
        "    global loc_param\n",
        "    loc_param = (x, y, z, np.pi/180*alpha, np.cos(np.pi/180*beta), np.pi/180*phi)\n",
        "    fig, ax = plot_morphology(seg_property=label,segment_colors=segment_colors,cell=cell, electrodes=elec_pos, move_cell=loc_param,\n",
        "                    elev=-elev, azim=-azim, figsize=(12, 8), clr = clr)\n",
        "    plt.show()\n",
        "\n",
        "xslider = Layout(width='500px')\n",
        "yslider = Layout(height='350px')\n",
        "w_reset = widgets.Button(description='Reset', icon='history', button_style='primary')\n",
        "w_x = widgets.FloatSlider(value=loc_param_default[0], min=-200, max=200, step=1, description='x (um)', continuous_update=False, readout_format='.0f')\n",
        "w_y = widgets.FloatSlider(value=loc_param_default[1], min=-1000, max=1000, step=1, description='y (um)', continuous_update=False, readout_format='.0f')\n",
        "w_z = widgets.FloatSlider(value=loc_param_default[2], min=20, max=400, step=1, description='z (um)', continuous_update=False, readout_format='.0f')\n",
        "w_alpha = widgets.FloatSlider(value=180/np.pi*loc_param_default[3], min=-180, max=180, step=1, description='alpha (deg)', continuous_update=False, readout_format='.0f')\n",
        "w_beta = widgets.FloatSlider(value=180/np.pi*np.arccos(loc_param_default[4]), min=0, max=180, step=1, description='beta (deg)', continuous_update=False, readout_format='.0f')\n",
        "w_phi = widgets.FloatSlider(value=180/np.pi*loc_param_default[5], min=-180, max=180, step=1, description='phi (deg)', continuous_update=False, readout_format='.0f')\n",
        "w_elev = widgets.FloatSlider(value=-elev, min=-90, max=90, step=1, description='elev (deg)', continuous_update=False, readout_format='.0f', orientation='vertical', layout=yslider)\n",
        "w_azim = widgets.FloatSlider(value=-azim, min=-180, max=180, step=1, description='azim (deg)', continuous_update=False, readout_format='.0f', layout=xslider)\n",
        "\n",
        "def reset_default(*args):\n",
        "    w_x.value, w_y.value, w_z.value = loc_param_default[:3]\n",
        "    w_alpha.value = 180 / np.pi * loc_param_default[3]\n",
        "    w_beta.value = 180 / np.pi * np.arccos(loc_param_default[4])\n",
        "    w_phi.value = 180 / np.pi * loc_param_default[5]\n",
        "    w_elev.value, w_azim.value = -elev, -azim\n",
        "w_reset.on_click(reset_default)\n",
        "\n",
        "out = interactive_output(interactive_plot, {'x': w_x, 'y': w_y, 'z': w_z, 'alpha': w_alpha, 'beta': w_beta, 'phi': w_phi, 'elev': w_elev, 'azim': w_azim})\n",
        "ui = VBox([ w_reset, HBox([ VBox([w_x, w_y, w_z]), VBox([w_alpha, w_beta, w_phi]) ]), HBox([ VBox([out, w_azim]), w_elev]) ])\n",
        "\n",
        "display(ui)"
      ]
    },
    {
      "cell_type": "markdown",
      "metadata": {
        "id": "2ca15375"
      },
      "source": [
        "## Run simulation and plot results\n",
        "\n",
        "Run the codes below to simulate and display results everytime after you change the parameters above."
      ]
    },
    {
      "cell_type": "code",
      "execution_count": null,
      "metadata": {
        "id": "f81ec874"
      },
      "outputs": [],
      "source": [
        "#settings\n",
        "vlimset='auto'#[-.02,.02]#[-.01,.01]#'auto'#[-.00722,.00722]#'auto'            # heatmap range (mV)\n",
        "ylimset=[-1000,2500] #[-1200,1200]                                           # y dist range for plotting (microns)\n",
        "\n",
        "# Run simulation\n",
        "if original_syns:\n",
        "  set_synapse()\n",
        "# else: # View synapses\n",
        "#   for syn in cell.synapse:\n",
        "#     if syn.gmax_var == '_nc_weight':\n",
        "#       print(syn.syn, [nc.weight[0] for nc in syn.ncs])\n",
        "#     else:\n",
        "#       print('synapse',syn.syn,':',syn.get_segment(),'weight:',syn.syn.initW, 'ncs:',syn.ncs)\n",
        "\n",
        "h.run()\n",
        "# Get results\n",
        "t = t_vec.as_numpy().copy()  # time array (ms)\n",
        "# soma membrane potential\n",
        "Vm = V_rec.as_numpy()\n",
        "\n",
        "soma_seg_index=cell.segments.index(cell.soma(0.5))\n",
        "axon_seg_index=cell.segments.index(cell.axon[-1](0.9))\n",
        "basal_seg_index=cell.segments.index(basals[0](0.5))\n",
        "#choose a tuft to plot voltage\n",
        "if (reduce_cell == True) and ( expand_cable==True): # dendritic reduced model\n",
        "  tuft_seg_index = tuft_seg_index=cell.segments.index(tufts[0](0.5))# otherwise tufts[0] will be truly tuft section and the segment in the middle of section is fine\n",
        "  nexus_seg_index = cell.segments.index(cell.apic[0](0.99))\n",
        "elif (reduce_cell == True) and ( expand_cable==False): # NR model\n",
        "  tuft_seg_index=cell.segments.index(tufts[0](0.9))# tufts[0] will be the cable that is both trunk and tuft in this case, so we have to specify near end of cable\n",
        "  nexus_seg_index = cell.segments.index(cell.apic[0](0.289004))\n",
        "else: # complex cell\n",
        "  tuft_seg_index=cell.segments.index(tufts[0](0.5))# otherwise tufts[0] will be truly tuft section and the segment in the middle of section is fine\n",
        "  nexus_seg_index=cell.segments.index(cell.apic[36](0.961538))\n",
        "print(\"Plotting\",cell.segments[soma_seg_index],\"Voltage| y coordinate of this seg:\", cell.seg_coords['pc'][soma_seg_index][1])\n",
        "print(\"Plotting\",cell.segments[tuft_seg_index],\"Voltage| y coordinate of this seg:\", cell.seg_coords['pc'][tuft_seg_index][1])\n",
        "print(\"Plotting\",cell.segments[nexus_seg_index],\"Voltage| y coordinate of this seg:\", cell.seg_coords['pc'][tuft_seg_index][1])\n",
        "\n",
        "v_soma = Vm[soma_seg_index]\n",
        "v_tfut = Vm[tuft_seg_index]\n",
        "v_nexus = Vm[nexus_seg_index]\n",
        "v_axon = Vm[axon_seg_index]\n",
        "v_basal = Vm[basal_seg_index]\n",
        "\n",
        "# lfp array\n",
        "lfp = ecp.calc_ecp(move_cell=loc_param).T  # unit: mV\n",
        "\n",
        "# Soma membrane potential\n",
        "plt.figure(figsize=(10, 4))\n",
        "plt.plot(t, v_soma, label='Soma')\n",
        "plt.plot(t, v_tfut, label='Tuft')\n",
        "plt.plot(t, v_nexus, label='Nexus')\n",
        "plt.plot(t, v_basal, label='Basal')\n",
        "# plt.plot(t, v_axon, label='axon')\n",
        "plt.ylabel('Membrane potential (mV)')\n",
        "plt.xlabel('time (ms)')\n",
        "plt.xlim(t[[0, -1]])\n",
        "plt.legend()\n",
        "plt.savefig('Vm')\n",
        "\n",
        "# Extracellular potential along y-axis\n",
        "y_window = ylimset  # select range of y coordinate for plotting\n",
        "ylim = loc_param[1] + np.array(y_window)  # set range of y coordinate\n",
        "max_idx = np.argmax(np.amax(np.abs(lfp), axis=0))  # find the electrode that records maximum magnitude\n",
        "x_dist = elec_pos[max_idx, 0]  # x coordinate of the maximum magnitude electrode\n",
        "e_idx = (elec_pos[:, 0]==x_dist) & (elec_pos[:, 1]>=ylim[0]) & (elec_pos[:, 1]<=ylim[1])  # selected electrode indices\n",
        "\n",
        "fontsize = 15\n",
        "labelpad = -10\n",
        "ticksize = 12\n",
        "tick_length = 5\n",
        "nbins = 5\n",
        "plt.figure(figsize=(12, 5))\n",
        "_ = plot_lfp_heatmap(t=t, elec_d=elec_pos[e_idx, 1], lfp=lfp[:, e_idx],\n",
        "                     fontsize=fontsize, labelpad=labelpad, ticksize=ticksize, tick_length=tick_length,\n",
        "                     nbins=nbins, vlim=vlimset, axes=plt.gca()) #vlim='auto';normal range seems to be ~ [-.00722,.00722]\n",
        "#plt.hlines(0,xmin=min(t),xmax=max(t),linestyles='dashed') # create a horizontal line\n",
        "plt.title('Extracellular potential heatmap')\n",
        "plt.savefig('ECP heatmap')\n",
        "plt.figure(figsize=(8, 5))\n",
        "_ = plot_lfp_traces(t, lfp[:, e_idx][:,1::3], electrodes=elec_pos[e_idx][1::3],\n",
        "                    fontsize=fontsize, labelpad=labelpad, ticksize=ticksize, tick_length=tick_length,\n",
        "                    nbins=nbins, axes=plt.gca())\n",
        "plt.title('Extracellular potential timecourse')\n",
        "plt.savefig('ECP timecourse')\n",
        "\n",
        "plt.show()"
      ]
    }
  ]
}