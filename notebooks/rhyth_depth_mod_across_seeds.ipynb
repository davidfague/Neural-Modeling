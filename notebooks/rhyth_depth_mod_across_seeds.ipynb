{
 "cells": [
  {
   "cell_type": "markdown",
   "metadata": {},
   "source": [
    "Notebook for analyzing the distribution of dendritic spikes across random_seed & depth_of_modulation"
   ]
  },
  {
   "cell_type": "code",
   "execution_count": 1,
   "metadata": {},
   "outputs": [],
   "source": [
    "sim_directory = \"/home/drfrbc/Neural-Modeling/scripts/2025-01-13-14-26-16-BenSynapses_testing_depth_of_mod\""
   ]
  },
  {
   "cell_type": "code",
   "execution_count": 2,
   "metadata": {},
   "outputs": [
    {
     "name": "stdout",
     "output_type": "stream",
     "text": [
      "/home/drfrbc/Neural-Modeling\n"
     ]
    }
   ],
   "source": [
    "%cd .."
   ]
  },
  {
   "cell_type": "code",
   "execution_count": 3,
   "metadata": {},
   "outputs": [],
   "source": [
    "# from count_spikes_across_seeds import count_events\n",
    "from scripts.count_spikes_across_seeds import aggregate_simulation_data"
   ]
  },
  {
   "cell_type": "code",
   "execution_count": null,
   "metadata": {},
   "outputs": [],
   "source": [
    "# Generate .csv's for dendritic events\n",
    "skip=True # skip if this step already finished\n",
    "if not skip:\n",
    "    !python find_events_ben.py -f {sim_directory}"
   ]
  },
  {
   "cell_type": "code",
   "execution_count": 4,
   "metadata": {},
   "outputs": [
    {
     "ename": "ModuleNotFoundError",
     "evalue": "No module named 'synapse'",
     "output_type": "error",
     "traceback": [
      "\u001b[0;31m---------------------------------------------------------------------------\u001b[0m",
      "\u001b[0;31mModuleNotFoundError\u001b[0m                       Traceback (most recent call last)",
      "Cell \u001b[0;32mIn[4], line 1\u001b[0m\n\u001b[0;32m----> 1\u001b[0m spike_table \u001b[38;5;241m=\u001b[39m \u001b[43maggregate_simulation_data\u001b[49m\u001b[43m(\u001b[49m\u001b[43msim_directory\u001b[49m\u001b[43m)\u001b[49m\n",
      "File \u001b[0;32m~/Neural-Modeling/scripts/count_spikes_across_seeds.py:193\u001b[0m, in \u001b[0;36maggregate_simulation_data\u001b[0;34m(simulations_directory)\u001b[0m\n\u001b[1;32m    190\u001b[0m \u001b[38;5;28;01mif\u001b[39;00m \u001b[38;5;129;01mnot\u001b[39;00m os\u001b[38;5;241m.\u001b[39mpath\u001b[38;5;241m.\u001b[39misdir(sim_path):\n\u001b[1;32m    191\u001b[0m     \u001b[38;5;28;01mcontinue\u001b[39;00m  \u001b[38;5;66;03m# Skip non-directory files\u001b[39;00m\n\u001b[0;32m--> 193\u001b[0m spike_table \u001b[38;5;241m=\u001b[39m \u001b[43mcount_events\u001b[49m\u001b[43m(\u001b[49m\u001b[43msim_path\u001b[49m\u001b[43m)\u001b[49m\n\u001b[1;32m    194\u001b[0m spike_table[\u001b[38;5;124m'\u001b[39m\u001b[38;5;124msimulation_directory\u001b[39m\u001b[38;5;124m'\u001b[39m] \u001b[38;5;241m=\u001b[39m sim_directory  \u001b[38;5;66;03m# Add directory name to the table\u001b[39;00m\n\u001b[1;32m    195\u001b[0m combined_table\u001b[38;5;241m.\u001b[39mappend(spike_table)\n",
      "File \u001b[0;32m~/Neural-Modeling/scripts/count_spikes_across_seeds.py:21\u001b[0m, in \u001b[0;36mcount_events\u001b[0;34m(sim_path)\u001b[0m\n\u001b[1;32m     20\u001b[0m \u001b[38;5;28;01mdef\u001b[39;00m \u001b[38;5;21mcount_events\u001b[39m(sim_path):\n\u001b[0;32m---> 21\u001b[0m     segs_na_df, segs_nmda_df, segs_ca_df \u001b[38;5;241m=\u001b[39m \u001b[43mget_dfs_from_path\u001b[49m\u001b[43m(\u001b[49m\u001b[43msim_path\u001b[49m\u001b[43m)\u001b[49m\n\u001b[1;32m     23\u001b[0m     \u001b[38;5;66;03m# Initialize an empty list to collect rows before converting them into a DataFrame\u001b[39;00m\n\u001b[1;32m     24\u001b[0m     rows \u001b[38;5;241m=\u001b[39m []\n",
      "File \u001b[0;32m~/Neural-Modeling/scripts/count_spikes_across_seeds.py:76\u001b[0m, in \u001b[0;36mget_dfs_from_path\u001b[0;34m(sim_path)\u001b[0m\n\u001b[1;32m     74\u001b[0m \u001b[38;5;28;01mdef\u001b[39;00m \u001b[38;5;21mget_dfs_from_path\u001b[39m(sim_path):\n\u001b[1;32m     75\u001b[0m     segs \u001b[38;5;241m=\u001b[39m read_segs(sim_path)\n\u001b[0;32m---> 76\u001b[0m     spks \u001b[38;5;241m=\u001b[39m \u001b[43manalysis\u001b[49m\u001b[38;5;241;43m.\u001b[39;49m\u001b[43mDataReader\u001b[49m\u001b[38;5;241;43m.\u001b[39;49m\u001b[43mread_data\u001b[49m\u001b[43m(\u001b[49m\u001b[43msim_path\u001b[49m\u001b[43m,\u001b[49m\u001b[43m \u001b[49m\u001b[38;5;124;43m\"\u001b[39;49m\u001b[38;5;124;43msoma_spikes\u001b[39;49m\u001b[38;5;124;43m\"\u001b[39;49m\u001b[43m)\u001b[49m\n\u001b[1;32m     77\u001b[0m     spktimes \u001b[38;5;241m=\u001b[39m spks[\u001b[38;5;241m0\u001b[39m][:]\n\u001b[1;32m     78\u001b[0m     spkinds \u001b[38;5;241m=\u001b[39m np\u001b[38;5;241m.\u001b[39msort((spktimes\u001b[38;5;241m*\u001b[39m\u001b[38;5;241m10\u001b[39m)\u001b[38;5;241m.\u001b[39mastype(\u001b[38;5;28mint\u001b[39m))\n",
      "File \u001b[0;32m~/Neural-Modeling/Modules/analysis.py:29\u001b[0m, in \u001b[0;36mDataReader.read_data\u001b[0;34m(sim_folder, sim_file_name, parameters)\u001b[0m\n\u001b[1;32m     27\u001b[0m \u001b[38;5;28;01mif\u001b[39;00m parameters \u001b[38;5;129;01mis\u001b[39;00m \u001b[38;5;28;01mNone\u001b[39;00m:\n\u001b[1;32m     28\u001b[0m     \u001b[38;5;28;01mwith\u001b[39;00m \u001b[38;5;28mopen\u001b[39m(os\u001b[38;5;241m.\u001b[39mpath\u001b[38;5;241m.\u001b[39mjoin(sim_folder, \u001b[38;5;124m\"\u001b[39m\u001b[38;5;124mparameters.pickle\u001b[39m\u001b[38;5;124m\"\u001b[39m), \u001b[38;5;124m\"\u001b[39m\u001b[38;5;124mrb\u001b[39m\u001b[38;5;124m\"\u001b[39m) \u001b[38;5;28;01mas\u001b[39;00m file:\n\u001b[0;32m---> 29\u001b[0m         parameters \u001b[38;5;241m=\u001b[39m \u001b[43mpickle\u001b[49m\u001b[38;5;241;43m.\u001b[39;49m\u001b[43mload\u001b[49m\u001b[43m(\u001b[49m\u001b[43mfile\u001b[49m\u001b[43m)\u001b[49m\n\u001b[1;32m     31\u001b[0m step_size \u001b[38;5;241m=\u001b[39m \u001b[38;5;28mint\u001b[39m(parameters\u001b[38;5;241m.\u001b[39msave_every_ms \u001b[38;5;241m/\u001b[39m parameters\u001b[38;5;241m.\u001b[39mh_dt) \n\u001b[1;32m     32\u001b[0m steps \u001b[38;5;241m=\u001b[39m \u001b[38;5;28mrange\u001b[39m(step_size, \u001b[38;5;28mint\u001b[39m(parameters\u001b[38;5;241m.\u001b[39mh_tstop \u001b[38;5;241m/\u001b[39m parameters\u001b[38;5;241m.\u001b[39mh_dt) \u001b[38;5;241m+\u001b[39m \u001b[38;5;241m1\u001b[39m, step_size)\n",
      "File \u001b[0;32m~/Neural-Modeling/Modules/constants.py:2\u001b[0m\n\u001b[1;32m      1\u001b[0m \u001b[38;5;28;01mfrom\u001b[39;00m \u001b[38;5;21;01mdataclasses\u001b[39;00m \u001b[38;5;28;01mimport\u001b[39;00m dataclass, field\n\u001b[0;32m----> 2\u001b[0m \u001b[38;5;28;01mfrom\u001b[39;00m \u001b[38;5;21;01msynapse\u001b[39;00m \u001b[38;5;28;01mimport\u001b[39;00m CS2CP_syn_params, CP2CP_syn_params, FSI_syn_params, LTS_syn_params, PV2PN_syn_params, SOM2PN_syn_params, PN2PN_syn_params\n\u001b[1;32m      4\u001b[0m \u001b[38;5;28;01mimport\u001b[39;00m \u001b[38;5;21;01mnumpy\u001b[39;00m \u001b[38;5;28;01mas\u001b[39;00m \u001b[38;5;21;01mnp\u001b[39;00m\n\u001b[1;32m      6\u001b[0m \u001b[38;5;129m@dataclass\u001b[39m\n\u001b[1;32m      7\u001b[0m \u001b[38;5;28;01mclass\u001b[39;00m \u001b[38;5;21;01mSimulationParameters\u001b[39;00m:\n\u001b[1;32m      8\u001b[0m \t\n\u001b[1;32m      9\u001b[0m \t\u001b[38;5;66;03m# Name: required argument\u001b[39;00m\n",
      "\u001b[0;31mModuleNotFoundError\u001b[0m: No module named 'synapse'"
     ]
    }
   ],
   "source": [
    "spike_table = aggregate_simulation_data(sim_directory)"
   ]
  },
  {
   "cell_type": "code",
   "execution_count": null,
   "metadata": {},
   "outputs": [],
   "source": []
  }
 ],
 "metadata": {
  "kernelspec": {
   "display_name": "sim_env",
   "language": "python",
   "name": "python3"
  },
  "language_info": {
   "codemirror_mode": {
    "name": "ipython",
    "version": 3
   },
   "file_extension": ".py",
   "mimetype": "text/x-python",
   "name": "python",
   "nbconvert_exporter": "python",
   "pygments_lexer": "ipython3",
   "version": "3.10.14"
  }
 },
 "nbformat": 4,
 "nbformat_minor": 2
}
