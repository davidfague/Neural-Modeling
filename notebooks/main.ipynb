{
 "cells": [
  {
   "cell_type": "code",
   "execution_count": 1,
   "metadata": {},
   "outputs": [
    {
     "name": "stderr",
     "output_type": "stream",
     "text": [
      "Warning: no DISPLAY environment variable.\n",
      "--No graphics will be displayed.\n"
     ]
    }
   ],
   "source": [
    "import sys\n",
    "sys.path.append(\"../\")\n",
    "sys.path.append(\"../Modules/\")\n",
    "\n",
    "from Modules.simulation import Simulation\n",
    "from Modules.cell_builder import SkeletonCell, CellBuilder\n",
    "from Modules.constants import HayParameters\n",
    "\n",
    "import os\n",
    "from neuron import h\n",
    "\n",
    "from logger import Logger # type: ignore\n",
    "\n",
    "import numpy as np"
   ]
  },
  {
   "cell_type": "code",
   "execution_count": 2,
   "metadata": {},
   "outputs": [
    {
     "name": "stdout",
     "output_type": "stream",
     "text": [
      "/home/drfrbc/Neural-Modeling/scripts\n"
     ]
    }
   ],
   "source": [
    "%cd ../scripts"
   ]
  },
  {
   "cell_type": "code",
   "execution_count": 3,
   "metadata": {},
   "outputs": [
    {
     "name": "stderr",
     "output_type": "stream",
     "text": [
      "rm: cannot remove 'x86_64/': No such file or directory\n"
     ]
    }
   ],
   "source": [
    "try:\n",
    "    os.system(\"rm -r x86_64/\")\n",
    "except:\n",
    "    pass"
   ]
  },
  {
   "cell_type": "markdown",
   "metadata": {},
   "source": [
    "## Define Simulations"
   ]
  },
  {
   "cell_type": "code",
   "execution_count": 4,
   "metadata": {},
   "outputs": [],
   "source": [
    "import numpy as np\n",
    "\n",
    "def generate_simulations(neuron_random_states, numpy_random_states, varying_attributes, common_attributes):\n",
    "    # Generate the list of HayParameters with updated sim_names\n",
    "    all_parameters = []\n",
    "    \n",
    "    # Define a helper function to create parameters\n",
    "    def create_parameters(numpy_seed, neuron_seed, attributes, amp=None, excFR_increase=None):\n",
    "        sim_name_parts = [attributes['base_sim_name'], f\"Np{numpy_seed}\"]\n",
    "        if neuron_seed is not None:\n",
    "            sim_name_parts.append(f\"Neu{neuron_seed}\")\n",
    "        if amp is not None:\n",
    "            sim_name_parts.append(f\"amp{round(amp, 1)}\")\n",
    "        if excFR_increase is not None:\n",
    "            sim_name_parts.append(f\"EXCinc{round(excFR_increase, 1)}\")\n",
    "        sim_name = '_'.join(sim_name_parts)\n",
    "        \n",
    "        params = {\n",
    "            **common_attributes,\n",
    "            'numpy_random_state': numpy_seed,\n",
    "            'sim_name': sim_name,\n",
    "            **{k: v for k, v in attributes.items() if k != 'base_sim_name'}\n",
    "        }\n",
    "        \n",
    "        if neuron_seed is not None:\n",
    "            params['neuron_random_state'] = neuron_seed\n",
    "        if amp is not None:\n",
    "            params['h_i_amplitude'] = round(amp, 1)\n",
    "        if excFR_increase is not None:\n",
    "            params['excFR_increase'] = round(excFR_increase, 1)\n",
    "            \n",
    "        return HayParameters(**params)\n",
    "    \n",
    "    if not numpy_random_states:\n",
    "        numpy_random_states = [None]\n",
    "    if not neuron_random_states:\n",
    "        neuron_random_states = [None]\n",
    "    \n",
    "    for numpy_seed in numpy_random_states:\n",
    "        for neuron_seed in neuron_random_states:\n",
    "            for attributes in varying_attributes:\n",
    "                if 'CI_on' in common_attributes:\n",
    "                    for amp in np.arange(0, 2.1, 0.5):\n",
    "                        all_parameters.append(create_parameters(numpy_seed, neuron_seed, attributes, amp=amp))\n",
    "                elif 'exc_constant_fr' in common_attributes:\n",
    "                    for excFR_increase in np.arange(0, 8.1, 2):\n",
    "                        all_parameters.append(create_parameters(numpy_seed, neuron_seed, attributes, excFR_increase=excFR_increase))\n",
    "                else:\n",
    "                    all_parameters.append(create_parameters(numpy_seed, neuron_seed, attributes))\n",
    "    \n",
    "    return all_parameters\n",
    "\n",
    "\n",
    "synapse_keys = ['None']#, 'NoMapping'] #'MappingMerging'] #'Mapping', 'Merging', \n",
    "use_SA_probs = True\n",
    "syn_numbers_to_use = 'Full'#'1000'#'Full' # TODO replace with keys\n",
    "common_attributes_to_use = 'sta'#'sta'#'FI_ExcFR' # 'sta' , 'FI' , 'FI_ExcFR' for example\n",
    "morphology_keys = ['Complex']#,'Branches', 'Trees']#['Complex']#['Complex', 'Branches', 'Trees']\n",
    "replace_w_CI_keys = ['None']#, 'Tufts'] #'Basals&Tufts'\n",
    "numpy_random_states = [5]#,10, 1000000]#, 5555555, 88888, 999999, 2222222, 7777777,66666,33333]\n",
    "neuron_random_states = None\n",
    "\n",
    "sim_title = 'TuningSynapses_reduceNA_shiftExcGmaxBy20Percent'#'FINoMapping'#'TuningFRSynapses'#'FSynapses'# if 'sta' in common_attributes_to_use else 'FI'\n",
    "\n",
    "syn_numbers = {\n",
    "    'Density': {'inh': None, 'exc': None},\n",
    "    'Full': {'inh':2650, 'exc':26100},\n",
    "    '1000': {'inh': int(1000 * (2650 / (26100 + 2650))), 'exc': int(1000 * (26100 / (26100 + 2650)))},\n",
    "    '10000': {'inh': int(10000 * (2650 / (26100 + 2650))), 'exc':int(10000 * (26100 / (26100 + 2650)))}\n",
    "}\n",
    "\n",
    "# Define the template for common attributes\n",
    "common_attributes = {\n",
    "    'sta' : \n",
    "        {\n",
    "    'h_tstop': 10000,#120000,\n",
    "    'merge_synapses': False,\n",
    "    'record_ecp': True,\n",
    "    'record_all_channels':True,\n",
    "    'record_all_synapses':True,\n",
    "    'exc_use_density':True if syn_numbers_to_use == 'Density' else False,\n",
    "    'inh_use_density':True if syn_numbers_to_use == 'Density' else False,\n",
    "    'inh_syn_number': syn_numbers[syn_numbers_to_use]['inh'], # 150 soma syns already #2650\n",
    "    'exc_syn_number': syn_numbers[syn_numbers_to_use]['exc'],  # 26100\n",
    "    'use_SA_probs': use_SA_probs\n",
    "    },\n",
    "        \n",
    "    'FI' : \n",
    "        {\n",
    "    'h_tstop': 5000,\n",
    "    'save_every_ms':5000,\n",
    "    'all_synapses_off': False,\n",
    "    'CI_on': True,\n",
    "    'h_i_duration': 4950,\n",
    "    'h_i_delay': 50,\n",
    "    'exc_use_density': True if syn_numbers_to_use == 'Density' else False,\n",
    "    'inh_use_density': True if syn_numbers_to_use == 'Density' else False,\n",
    "    'inh_syn_number': syn_numbers[syn_numbers_to_use]['inh'], # 150 soma syns already #2650\n",
    "    'exc_syn_number': syn_numbers[syn_numbers_to_use]['exc'],  # 26100\n",
    "    'use_SA_probs': use_SA_probs\n",
    "    },\n",
    "    'FI_ExcFR' : # changes exc FR instead of changing CI amp\n",
    "        {\n",
    "    'h_tstop': 5000,\n",
    "    'save_every_ms':5000,\n",
    "    'all_synapses_off': False,\n",
    "    'exc_constant_fr': True,\n",
    "    'h_i_duration': 4950,\n",
    "    'h_i_delay': 50,\n",
    "    'exc_use_density': True if syn_numbers_to_use == 'Density' else False,\n",
    "    'inh_use_density': True if syn_numbers_to_use == 'Density' else False,\n",
    "    'inh_syn_number': syn_numbers[syn_numbers_to_use]['inh'], # 150 soma syns already #2650\n",
    "    'exc_syn_number': syn_numbers[syn_numbers_to_use]['exc'],  # 26100\n",
    "    'use_SA_probs': use_SA_probs\n",
    "    }\n",
    "\n",
    "}\n",
    "\n",
    "morphology_attributes = {\n",
    "    'Complex': {'base_sim_name': 'Complex'},\n",
    "    'Branches': {'base_sim_name': 'Branches', 'reduce_obliques': True, 'reduce_tufts': True, 'reduce_basals': 3},\n",
    "    'Trees': {'base_sim_name': 'Trees', 'reduce_apic': True, 'reduce_basals': 1}\n",
    "}\n",
    "\n",
    "replace_w_CI_attributes = {\n",
    "    'None': {'sim_name_add_suffix': ''},\n",
    "    'Basals': {'sim_name_add_suffix': 'REPBasals', 'num_basal_to_replace_with_CI':8},\n",
    "    '1Basal': {'sim_name_add_suffix': 'REP1Basal', 'num_basal_to_replace_with_CI':1},\n",
    "    'Tufts': {'sim_name_add_suffix': 'REPTufts', 'num_tuft_to_replace_with_CI':2},\n",
    "    '1Tuft': {'sim_name_add_suffix': 'REP1Tuft', 'num_tuft_to_replace_with_CI':1},\n",
    "    'Basals&Tufts': {'sim_name_add_suffix': 'REPBasals&Tufts', 'num_basal_to_replace_with_CI':8, 'num_tuft_to_replace_with_CI':2}\n",
    "}\n",
    "\n",
    "varying_syn_attributes = {\n",
    "    'None': {'sim_name_add_suffix': ''},\n",
    "    'NoMapping': {'sim_name_add_suffix': 'NoMapping', 'synapse_mapping': False},\n",
    "    'Merging': {'sim_name_add_suffix': 'Merging', 'merge_synapses': True},\n",
    "    'MappingMerging': {'sim_name_add_suffix': 'MappingMerging', 'synapse_mapping': True, 'merge_synapses': True}\n",
    "}\n",
    "mean = (np.log(0.45) - 0.5 * np.log((0.35/0.45)**2 + 1))\n",
    "# Add synaptic gmax parameters\n",
    "synaptic_gmax_params = {\n",
    "    'inh_gmax_dist': 2,\n",
    "    'soma_gmax_dist': 2,\n",
    "    'exc_gmax_mean_0': mean - abs(0.2*mean),\n",
    "    'exc_gmax_std_0': np.sqrt(np.log((0.35/0.45)**2 + 1)),\n",
    "    'exc_gmax_clip': (0, 5),\n",
    "    'exc_scalar': 1\n",
    "}\n",
    "\n",
    "conductance_params = {}\n",
    "\n",
    "# Combine common attributes with synaptic gmax parameters\n",
    "common_attributes = {**common_attributes[common_attributes_to_use], **synaptic_gmax_params}\n",
    "\n",
    "# Generate varying attributes by combining morphology, replace_w_CI, and synapse attributes\n",
    "varying_attributes = []\n",
    "for morph_key in morphology_keys:\n",
    "    if (morph_key == 'Complex') or (morph_key == 'Trees'): # Complex cell will not be having any dendrites replaced with Current injection\n",
    "        replace_keys = ['None']\n",
    "    else:\n",
    "        replace_keys = replace_w_CI_keys\n",
    "    for replace_key in replace_keys:\n",
    "        for syn_key in synapse_keys:\n",
    "            combined_attrs = {**morphology_attributes[morph_key], **replace_w_CI_attributes[replace_key], **varying_syn_attributes[syn_key]}\n",
    "            combined_attrs['base_sim_name'] = f\"{morphology_attributes[morph_key]['base_sim_name']}{replace_w_CI_attributes[replace_key].get('sim_name_add_suffix', '')}{varying_syn_attributes[syn_key].get('sim_name_add_suffix', '')}\"\n",
    "            combined_attrs.pop('sim_name_add_prefix', None)\n",
    "            combined_attrs.pop('sim_name_add_suffix', None)\n",
    "            varying_attributes.append(combined_attrs)\n",
    "\n",
    "# Main execution code to generate simulations\n",
    "all_parameters = generate_simulations(neuron_random_states, numpy_random_states, varying_attributes, common_attributes)\n"
   ]
  },
  {
   "cell_type": "code",
   "execution_count": 5,
   "metadata": {},
   "outputs": [
    {
     "data": {
      "text/plain": [
       "['Complex']"
      ]
     },
     "execution_count": 5,
     "metadata": {},
     "output_type": "execute_result"
    }
   ],
   "source": [
    "morphology_keys"
   ]
  },
  {
   "cell_type": "code",
   "execution_count": 6,
   "metadata": {},
   "outputs": [],
   "source": [
    "all_parameters = generate_simulations(neuron_random_states, numpy_random_states, varying_attributes, common_attributes)"
   ]
  },
  {
   "cell_type": "code",
   "execution_count": 7,
   "metadata": {},
   "outputs": [
    {
     "data": {
      "text/plain": [
       "[HayParameters(sim_name='Complex_Np5', numpy_random_state=5, neuron_random_state=90, h_celcius=37, h_tstop=30000, h_dt=0.1, h_v_init=-77.2, CI_on=False, CI_target='soma', h_i_amplitude=10.0, h_i_duration=1000, h_i_delay=10, record_ecp=True, record_seg_to_seg=False, all_synapses_off=False, trunk_exc_synapses=True, perisomatic_exc_synapses=True, add_soma_inh_synapses=True, num_soma_inh_syns=450, inh_gmax_dist=2, soma_gmax_dist=2, exc_gmax_mean_0=-1.2420604129312118, exc_gmax_std_0=0.6878119625182042, exc_gmax_clip=(0, 5), exc_scalar=1, exc_synaptic_density=2.16, inh_synaptic_density=0.22, exc_use_density=False, inh_use_density=False, exc_syn_number=26100, inh_syn_number=2650, use_SA_probs=True, exc_P_release_mean=0.53, exc_P_release_std=0.22, inh_basal_P_release_mean=0.72, inh_basal_P_release_std=0.1, inh_apic_P_release_mean=0.3, inh_apic_P_release_std=0.08, inh_soma_P_release_mean=0.88, inh_soma_P_release_std=0.05, exc_syn_mod='AMPA_NMDA_STP', inh_syn_mod='GABA_AB_STP', inh_prox_mean_fr=16.9, inh_prox_std_fr=14.3, inh_distal_mean_fr=3.9, inh_distal_std_fr=4.9, exc_mean_fr=4.43, exc_std_fr=2.9, exc_constant_fr=False, excFR_increase=0.0, exc_n_FuncGroups=50, exc_n_PreCells_per_FuncGroup=100, inh_n_FuncGroups=10, inh_n_PreCells_per_FuncGroup=50, soma_n_fun_gr=1, soma_n_pc_per_fg=150, exc_functional_group_span=100, exc_cluster_span=10, exc_synapses_per_cluster=5, inh_cluster_span=10, inh_number_of_groups=1, inh_functional_group_span=100, soma_number_of_clusters=15, soma_cluster_span=10, soma_synapses_per_cluster=10, soma_number_of_groups=1, soma_functional_group_span=100, spike_threshold=-10, number_of_presynaptic_cells=2651, PSC_start=5, skip=300, save_every_ms=1000, record_every_time_steps=1, path='', reduce_cell=False, expand_cable=False, reduction_frequency=0, choose_branches=22, optimize_nseg_by_lambda=False, merge_synapses=False, segs_per_lambda=10, Hay_biophys='L5PCbiophys3.hoc', build_stylized=False, geometry_file='geom_parameters.csv', only_one_synapse=False, one_syn_index=0, simulate_EPSPs=False, record_soma_spikes=True, record_axon_spikes=False, record_all_channels=True, record_all_synapses=True, record_all_v=True, reduce_cell_NRCE=False, reduce_tufts=False, reduce_apic=False, reduce_basals=0, reduce_obliques=False, synapse_mapping=True, reduce_soma_gpas=False, num_basal_to_replace_with_CI=0, basal_AC_stats=[(0.00693, 0.05926), (-0.0007, 0.05307), (0.01526, 0.09936), (0.00035, 0.0361), (0.00478, 0.17284), (0.01896, 0.07112), (-0.00153, 0.02512), (-0.00151, 0.03715)], num_tuft_to_replace_with_CI=0, tuft_AC_stats=[(0.03897, 0.05233), (0.05814, 0.05911)])]"
      ]
     },
     "execution_count": 7,
     "metadata": {},
     "output_type": "execute_result"
    }
   ],
   "source": [
    "all_parameters"
   ]
  },
  {
   "cell_type": "markdown",
   "metadata": {},
   "source": [
    "## Run Cells"
   ]
  },
  {
   "cell_type": "code",
   "execution_count": 8,
   "metadata": {},
   "outputs": [
    {
     "name": "stdout",
     "output_type": "stream",
     "text": [
      "(2024-08-13 08:20:38.841692)-[PID: 1606183]–[INFO]: Total number of jobs: 1\n",
      "(2024-08-13 08:20:38.841758)-[PID: 1606183]–[INFO]: Total number of proccessors: 192\n",
      "(2024-08-13 08:20:38.841892)-[PID: 1606183]–[INFO]: Compiling modfiles.\n"
     ]
    },
    {
     "name": "stderr",
     "output_type": "stream",
     "text": [
      "rm: cannot remove 'x86_64/': No such file or directory\n"
     ]
    },
    {
     "name": "stdout",
     "output_type": "stream",
     "text": [
      "(2024-08-13 08:20:39.537723)-[PID: 1606495]–[INFO]: Building SkeletonCell.Hay.\n",
      "(2024-08-13 08:20:39.816945)-[PID: 1606495]–[INFO]: CellModel: changed soma nseg from 5 to 1.\n",
      "soma segments:[L5PCtemplate[0].soma[0](0.5)]\n",
      "(2024-08-13 08:20:39.819923)-[PID: 1606495]–[INFO]: Building excitatory synapses.\n",
      "Removing duplicate coordinate at index 1 in section L5PCtemplate[0].apic[0]\n",
      "(2024-08-13 08:22:21.089589)-[PID: 1606495]–[INFO]: Building inhibitory synapses.\n",
      "(2024-08-13 08:22:36.755218)-[PID: 1606495]–[INFO]: Building soma synapses.\n",
      "(2024-08-13 08:22:36.795020)-[PID: 1606495]–[INFO]: Assigning excitatory spike trains.\n"
     ]
    },
    {
     "name": "stderr",
     "output_type": "stream",
     "text": [
      "/home/drfrbc/Neural-Modeling/notebooks/../Modules/spike_generator.py:163: UserWarning: Found non-positive lambdas after shifing a mean.\n",
      "  warnings.warn(\"Found non-positive lambdas after shifing a mean.\")\n"
     ]
    },
    {
     "name": "stdout",
     "output_type": "stream",
     "text": [
      "(2024-08-13 11:09:59.275077)-[PID: 1606495]–[INFO]: Assigning inhibitory spike trains.\n"
     ]
    },
    {
     "name": "stderr",
     "output_type": "stream",
     "text": [
      "/home/drfrbc/Neural-Modeling/notebooks/../Modules/spike_generator.py:163: UserWarning: Found non-positive lambdas after shifing a mean.\n",
      "  warnings.warn(\"Found non-positive lambdas after shifing a mean.\")\n"
     ]
    },
    {
     "name": "stdout",
     "output_type": "stream",
     "text": [
      "(2024-08-13 11:10:19.244831)-[PID: 1606495]–[INFO]: Assigning soma spike trains.\n",
      "(2024-08-13 11:10:23.498292)-[PID: 1606495]–[INFO]: Finished creating a CellModel object.\n",
      "(2024-08-13 11:10:23.499972)-[PID: 1606495]–[INFO]: Finish building in 10183.963204145432\n",
      "(2024-08-13 11:12:17.149597)-[PID: 1606495]–[WARNING]: Recording ECP adds the extracellular channel to all segments after computing electrotonic distance.                                      This channel is therefore not accounted for in impedence calculation, but it might affect the simulation.\n",
      "(2024-08-13 11:12:29.912460)-[PID: 1606495]–[INFO]: Starting simulation.\n",
      "(2024-08-13 11:14:49.437452)-[PID: 1606495]–[INFO]: Saving data at step: 10000\n",
      "(2024-08-13 11:15:01.603013)-[PID: 1606495]–[INFO]: Finished writing data\n",
      "(2024-08-13 11:15:01.658338)-[PID: 1606495]–[INFO]: Finished clearing recorders\n",
      "(2024-08-13 11:16:54.777011)-[PID: 1606495]–[INFO]: Saving data at step: 20000\n",
      "(2024-08-13 11:17:06.703636)-[PID: 1606495]–[INFO]: Finished writing data\n",
      "(2024-08-13 11:17:06.756889)-[PID: 1606495]–[INFO]: Finished clearing recorders\n",
      "(2024-08-13 11:18:25.965187)-[PID: 1606495]–[INFO]: Saving data at step: 30000\n",
      "(2024-08-13 11:18:36.591289)-[PID: 1606495]–[INFO]: Finished writing data\n",
      "(2024-08-13 11:18:36.648076)-[PID: 1606495]–[INFO]: Finished clearing recorders\n",
      "(2024-08-13 11:19:54.872455)-[PID: 1606495]–[INFO]: Saving data at step: 40000\n",
      "(2024-08-13 11:20:05.891249)-[PID: 1606495]–[INFO]: Finished writing data\n",
      "(2024-08-13 11:20:05.940923)-[PID: 1606495]–[INFO]: Finished clearing recorders\n",
      "(2024-08-13 11:21:24.114801)-[PID: 1606495]–[INFO]: Saving data at step: 50000\n",
      "(2024-08-13 11:21:35.305696)-[PID: 1606495]–[INFO]: Finished writing data\n",
      "(2024-08-13 11:21:35.355717)-[PID: 1606495]–[INFO]: Finished clearing recorders\n",
      "(2024-08-13 11:22:51.560214)-[PID: 1606495]–[INFO]: Saving data at step: 60000\n",
      "(2024-08-13 11:23:02.439251)-[PID: 1606495]–[INFO]: Finished writing data\n",
      "(2024-08-13 11:23:02.493901)-[PID: 1606495]–[INFO]: Finished clearing recorders\n",
      "(2024-08-13 11:24:20.374929)-[PID: 1606495]–[INFO]: Saving data at step: 70000\n",
      "(2024-08-13 11:24:31.293957)-[PID: 1606495]–[INFO]: Finished writing data\n",
      "(2024-08-13 11:24:31.342954)-[PID: 1606495]–[INFO]: Finished clearing recorders\n",
      "(2024-08-13 11:25:49.365305)-[PID: 1606495]–[INFO]: Saving data at step: 80000\n",
      "(2024-08-13 11:26:00.428107)-[PID: 1606495]–[INFO]: Finished writing data\n",
      "(2024-08-13 11:26:00.480579)-[PID: 1606495]–[INFO]: Finished clearing recorders\n",
      "(2024-08-13 11:27:19.286130)-[PID: 1606495]–[INFO]: Saving data at step: 90000\n",
      "(2024-08-13 11:27:30.303313)-[PID: 1606495]–[INFO]: Finished writing data\n",
      "(2024-08-13 11:27:30.354319)-[PID: 1606495]–[INFO]: Finished clearing recorders\n",
      "(2024-08-13 11:28:48.197695)-[PID: 1606495]–[INFO]: Saving data at step: 100000\n",
      "(2024-08-13 11:28:59.300215)-[PID: 1606495]–[INFO]: Finished writing data\n",
      "(2024-08-13 11:28:59.351841)-[PID: 1606495]–[INFO]: Finished clearing recorders\n",
      "(2024-08-13 11:30:17.129736)-[PID: 1606495]–[INFO]: Saving data at step: 110000\n",
      "(2024-08-13 11:30:27.902921)-[PID: 1606495]–[INFO]: Finished writing data\n",
      "(2024-08-13 11:30:27.955706)-[PID: 1606495]–[INFO]: Finished clearing recorders\n",
      "(2024-08-13 11:31:45.884499)-[PID: 1606495]–[INFO]: Saving data at step: 120000\n",
      "(2024-08-13 11:31:56.886175)-[PID: 1606495]–[INFO]: Finished writing data\n",
      "(2024-08-13 11:31:56.936090)-[PID: 1606495]–[INFO]: Finished clearing recorders\n",
      "(2024-08-13 11:33:14.752178)-[PID: 1606495]–[INFO]: Saving data at step: 130000\n",
      "(2024-08-13 11:33:25.751335)-[PID: 1606495]–[INFO]: Finished writing data\n",
      "(2024-08-13 11:33:25.801740)-[PID: 1606495]–[INFO]: Finished clearing recorders\n",
      "(2024-08-13 11:34:43.776007)-[PID: 1606495]–[INFO]: Saving data at step: 140000\n",
      "(2024-08-13 11:34:54.731160)-[PID: 1606495]–[INFO]: Finished writing data\n",
      "(2024-08-13 11:34:54.781916)-[PID: 1606495]–[INFO]: Finished clearing recorders\n",
      "(2024-08-13 11:36:12.734960)-[PID: 1606495]–[INFO]: Saving data at step: 150000\n",
      "(2024-08-13 11:36:23.803657)-[PID: 1606495]–[INFO]: Finished writing data\n",
      "(2024-08-13 11:36:23.853181)-[PID: 1606495]–[INFO]: Finished clearing recorders\n",
      "(2024-08-13 11:37:42.186704)-[PID: 1606495]–[INFO]: Saving data at step: 160000\n",
      "(2024-08-13 11:37:53.241151)-[PID: 1606495]–[INFO]: Finished writing data\n",
      "(2024-08-13 11:37:53.293650)-[PID: 1606495]–[INFO]: Finished clearing recorders\n",
      "(2024-08-13 11:39:11.769638)-[PID: 1606495]–[INFO]: Saving data at step: 170000\n",
      "(2024-08-13 11:39:22.722011)-[PID: 1606495]–[INFO]: Finished writing data\n",
      "(2024-08-13 11:39:22.772253)-[PID: 1606495]–[INFO]: Finished clearing recorders\n",
      "(2024-08-13 11:40:41.922480)-[PID: 1606495]–[INFO]: Saving data at step: 180000\n",
      "(2024-08-13 11:40:52.947613)-[PID: 1606495]–[INFO]: Finished writing data\n",
      "(2024-08-13 11:40:52.997573)-[PID: 1606495]–[INFO]: Finished clearing recorders\n",
      "(2024-08-13 11:42:11.408126)-[PID: 1606495]–[INFO]: Saving data at step: 190000\n",
      "(2024-08-13 11:42:22.379751)-[PID: 1606495]–[INFO]: Finished writing data\n",
      "(2024-08-13 11:42:22.431283)-[PID: 1606495]–[INFO]: Finished clearing recorders\n",
      "(2024-08-13 11:43:38.285648)-[PID: 1606495]–[INFO]: Saving data at step: 200000\n",
      "(2024-08-13 11:43:49.977496)-[PID: 1606495]–[INFO]: Finished writing data\n",
      "(2024-08-13 11:43:50.026362)-[PID: 1606495]–[INFO]: Finished clearing recorders\n",
      "(2024-08-13 11:45:05.820397)-[PID: 1606495]–[INFO]: Saving data at step: 210000\n",
      "(2024-08-13 11:45:17.659016)-[PID: 1606495]–[INFO]: Finished writing data\n",
      "(2024-08-13 11:45:17.710868)-[PID: 1606495]–[INFO]: Finished clearing recorders\n",
      "(2024-08-13 11:46:34.092024)-[PID: 1606495]–[INFO]: Saving data at step: 220000\n",
      "(2024-08-13 11:46:46.626408)-[PID: 1606495]–[INFO]: Finished writing data\n",
      "(2024-08-13 11:46:46.674705)-[PID: 1606495]–[INFO]: Finished clearing recorders\n",
      "(2024-08-13 11:48:03.061546)-[PID: 1606495]–[INFO]: Saving data at step: 230000\n",
      "(2024-08-13 11:48:14.608112)-[PID: 1606495]–[INFO]: Finished writing data\n",
      "(2024-08-13 11:48:14.658296)-[PID: 1606495]–[INFO]: Finished clearing recorders\n",
      "(2024-08-13 11:49:30.362707)-[PID: 1606495]–[INFO]: Saving data at step: 240000\n",
      "(2024-08-13 11:49:42.345657)-[PID: 1606495]–[INFO]: Finished writing data\n",
      "(2024-08-13 11:49:42.397042)-[PID: 1606495]–[INFO]: Finished clearing recorders\n",
      "(2024-08-13 11:50:58.581198)-[PID: 1606495]–[INFO]: Saving data at step: 250000\n",
      "(2024-08-13 11:51:10.578836)-[PID: 1606495]–[INFO]: Finished writing data\n",
      "(2024-08-13 11:51:10.628862)-[PID: 1606495]–[INFO]: Finished clearing recorders\n",
      "(2024-08-13 11:52:27.084552)-[PID: 1606495]–[INFO]: Saving data at step: 260000\n",
      "(2024-08-13 11:52:40.146421)-[PID: 1606495]–[INFO]: Finished writing data\n",
      "(2024-08-13 11:52:40.199729)-[PID: 1606495]–[INFO]: Finished clearing recorders\n",
      "(2024-08-13 11:53:58.010305)-[PID: 1606495]–[INFO]: Saving data at step: 270000\n",
      "(2024-08-13 11:54:11.115126)-[PID: 1606495]–[INFO]: Finished writing data\n",
      "(2024-08-13 11:54:11.165722)-[PID: 1606495]–[INFO]: Finished clearing recorders\n",
      "(2024-08-13 11:55:26.904134)-[PID: 1606495]–[INFO]: Saving data at step: 280000\n",
      "(2024-08-13 11:55:40.108549)-[PID: 1606495]–[INFO]: Finished writing data\n",
      "(2024-08-13 11:55:40.157862)-[PID: 1606495]–[INFO]: Finished clearing recorders\n",
      "(2024-08-13 11:56:56.016152)-[PID: 1606495]–[INFO]: Saving data at step: 290000\n",
      "(2024-08-13 11:57:09.048530)-[PID: 1606495]–[INFO]: Finished writing data\n",
      "(2024-08-13 11:57:09.098208)-[PID: 1606495]–[INFO]: Finished clearing recorders\n",
      "(2024-08-13 11:58:25.505343)-[PID: 1606495]–[INFO]: Saving data at step: 300000\n",
      "(2024-08-13 11:58:38.376668)-[PID: 1606495]–[INFO]: Finished writing data\n",
      "(2024-08-13 11:58:38.425498)-[PID: 1606495]–[INFO]: Finished clearing recorders\n",
      "(2024-08-13 11:58:38.521140)-[PID: 1606495]–[INFO]: Finish simulation in 2768.607 seconds\n"
     ]
    }
   ],
   "source": [
    "# try to run >64 (limit) simulation in batches\n",
    "import math\n",
    "\n",
    "# Define your batch size\n",
    "batch_size = 64\n",
    "\n",
    "# Check how many batches you will need\n",
    "if len(all_parameters) > (batch_size - 1):\n",
    "    number_of_batches = math.ceil(len(all_parameters) / batch_size)\n",
    "    print(number_of_batches)\n",
    "    \n",
    "    # Create batches of indices\n",
    "    batches = [all_parameters[i * batch_size:(i + 1) * batch_size] for i in range(number_of_batches)]\n",
    "    \n",
    "    # Run each batch\n",
    "    for i, batch in enumerate(batches):\n",
    "        sim = Simulation(SkeletonCell.Hay, title=sim_title)\n",
    "        if i == 0:\n",
    "            path_to_use = sim.path\n",
    "        else:\n",
    "            sim.path = path_to_use\n",
    "        for parameters in batch:\n",
    "            sim.submit_job(parameters)\n",
    "        sim.run()\n",
    "        \n",
    "else:\n",
    "    # Initialize simulation\n",
    "    sim = Simulation(SkeletonCell.Hay, title=sim_title)\n",
    "\n",
    "    # Submit jobs to simulation\n",
    "    for parameters in all_parameters:\n",
    "        # print(parameters)\n",
    "        sim.submit_job(parameters)\n",
    "\n",
    "    # Remove directory if it exists\n",
    "    try:\n",
    "        os.system(\"rm -r x86_64/\")\n",
    "    except:    pass\n",
    "\n",
    "    # Run the simulation\n",
    "    sim.run()\n"
   ]
  },
  {
   "cell_type": "code",
   "execution_count": 9,
   "metadata": {},
   "outputs": [
    {
     "data": {
      "text/plain": [
       "[HayParameters(sim_name='Complex_Np5', numpy_random_state=5, neuron_random_state=90, h_celcius=37, h_tstop=30000, h_dt=0.1, h_v_init=-77.2, CI_on=False, CI_target='soma', h_i_amplitude=10.0, h_i_duration=1000, h_i_delay=10, record_ecp=True, record_seg_to_seg=False, all_synapses_off=False, trunk_exc_synapses=True, perisomatic_exc_synapses=True, add_soma_inh_synapses=True, num_soma_inh_syns=450, inh_gmax_dist=2, soma_gmax_dist=2, exc_gmax_mean_0=-1.2420604129312118, exc_gmax_std_0=0.6878119625182042, exc_gmax_clip=(0, 5), exc_scalar=1, exc_synaptic_density=2.16, inh_synaptic_density=0.22, exc_use_density=False, inh_use_density=False, exc_syn_number=26100, inh_syn_number=2650, use_SA_probs=True, exc_P_release_mean=0.53, exc_P_release_std=0.22, inh_basal_P_release_mean=0.72, inh_basal_P_release_std=0.1, inh_apic_P_release_mean=0.3, inh_apic_P_release_std=0.08, inh_soma_P_release_mean=0.88, inh_soma_P_release_std=0.05, exc_syn_mod='AMPA_NMDA_STP', inh_syn_mod='GABA_AB_STP', inh_prox_mean_fr=16.9, inh_prox_std_fr=14.3, inh_distal_mean_fr=3.9, inh_distal_std_fr=4.9, exc_mean_fr=4.43, exc_std_fr=2.9, exc_constant_fr=False, excFR_increase=0.0, exc_n_FuncGroups=50, exc_n_PreCells_per_FuncGroup=100, inh_n_FuncGroups=10, inh_n_PreCells_per_FuncGroup=50, soma_n_fun_gr=1, soma_n_pc_per_fg=150, exc_functional_group_span=100, exc_cluster_span=10, exc_synapses_per_cluster=5, inh_cluster_span=10, inh_number_of_groups=1, inh_functional_group_span=100, soma_number_of_clusters=15, soma_cluster_span=10, soma_synapses_per_cluster=10, soma_number_of_groups=1, soma_functional_group_span=100, spike_threshold=-10, number_of_presynaptic_cells=2651, PSC_start=5, skip=300, save_every_ms=1000, record_every_time_steps=1, path='2024-08-13-08-20-38-TuningSynapses_reduceNA_shiftExcGmaxBy20Percent/Complex_Np5', reduce_cell=False, expand_cable=False, reduction_frequency=0, choose_branches=22, optimize_nseg_by_lambda=False, merge_synapses=False, segs_per_lambda=10, Hay_biophys='L5PCbiophys3.hoc', build_stylized=False, geometry_file='geom_parameters.csv', only_one_synapse=False, one_syn_index=0, simulate_EPSPs=False, record_soma_spikes=True, record_axon_spikes=False, record_all_channels=True, record_all_synapses=True, record_all_v=True, reduce_cell_NRCE=False, reduce_tufts=False, reduce_apic=False, reduce_basals=0, reduce_obliques=False, synapse_mapping=True, reduce_soma_gpas=False, num_basal_to_replace_with_CI=0, basal_AC_stats=[(0.00693, 0.05926), (-0.0007, 0.05307), (0.01526, 0.09936), (0.00035, 0.0361), (0.00478, 0.17284), (0.01896, 0.07112), (-0.00153, 0.02512), (-0.00151, 0.03715)], num_tuft_to_replace_with_CI=0, tuft_AC_stats=[(0.03897, 0.05233), (0.05814, 0.05911)])]"
      ]
     },
     "execution_count": 9,
     "metadata": {},
     "output_type": "execute_result"
    }
   ],
   "source": [
    "all_parameters"
   ]
  },
  {
   "cell_type": "markdown",
   "metadata": {},
   "source": [
    "## Check Runtimes"
   ]
  },
  {
   "cell_type": "code",
   "execution_count": 10,
   "metadata": {},
   "outputs": [],
   "source": [
    "if common_attributes_to_use == 'sta':\n",
    "    import analysis\n",
    "    runtimes = {}\n",
    "\n",
    "    try:\n",
    "        for parameters in all_parameters:\n",
    "            sim_dir = parameters.path\n",
    "            # read parameters\n",
    "            parameters = analysis.DataReader.load_parameters(sim_dir)\n",
    "            # get tstop\n",
    "            tstop = parameters.h_tstop\n",
    "            \n",
    "            # get builder runtime; read parameters.path/build_runtime.txt\n",
    "            build_runtime_path = f\"{sim_dir}/builder_runtime.txt\"\n",
    "            with open(build_runtime_path, 'r') as file:\n",
    "                build_runtime = file.read()\n",
    "\n",
    "            # get simulation runtime; read parameters.path/simulation_runtime.txt\n",
    "            simulation_runtime_path = f\"{sim_dir}/simulation_runtime.txt\"\n",
    "            with open(simulation_runtime_path, 'r') as file:\n",
    "                simulation_runtime = file.read()\n",
    "                \n",
    "            replacement_runtime_path = f\"{sim_dir}/replace_runtime.txt\"\n",
    "            with open(replacement_runtime_path, 'r') as file:\n",
    "                replacement_runtime = file.read()\n",
    "\n",
    "            # Store the runtimes in a dictionary\n",
    "            sim_name = sim_dir.split('/')[-1]  # Get the last part of the path as the simulation name\n",
    "            runtimes[sim_name] = {\n",
    "                'build_time': build_runtime,\n",
    "                'simulation_time': simulation_runtime,\n",
    "                'replacement_time': replacement_runtime\n",
    "            }\n",
    "            \n",
    "        \n",
    "    except:\n",
    "        from scripts.compare_sta import get_all_directories_within\n",
    "        dirs = get_all_directories_within(sim.path)#'05-06-2024-14-19-43-Full120Sec/')\n",
    "        for sim_dir in dirs:\n",
    "                        # read parameters\n",
    "                parameters = analysis.DataReader.load_parameters(sim_dir)\n",
    "                # get tstop\n",
    "                tstop = parameters.h_tstop\n",
    "                \n",
    "                # get builder runtime; read parameters.path/build_runtime.txt\n",
    "                build_runtime_path = f\"{sim_dir}/builder_runtime.txt\"\n",
    "                with open(build_runtime_path, 'r') as file:\n",
    "                    build_runtime = file.read()\n",
    "\n",
    "                # get simulation runtime; read parameters.path/simulation_runtime.txt\n",
    "                simulation_runtime_path = f\"{sim_dir}/simulation_runtime.txt\"\n",
    "                with open(simulation_runtime_path, 'r') as file:\n",
    "                    simulation_runtime = file.read()\n",
    "                    \n",
    "                replacement_runtime_path = f\"{sim_dir}/replace_runtime.txt\"\n",
    "                with open(replacement_runtime_path, 'r') as file:\n",
    "                    replacement_runtime = file.read()\n",
    "\n",
    "                # Store the runtimes in a dictionary\n",
    "                sim_name = sim_dir.split('/')[-1]  # Get the last part of the path as the simulation name\n",
    "                runtimes[sim_name] = {\n",
    "                    'build_time': build_runtime,\n",
    "                    'simulation_time': simulation_runtime,\n",
    "                    'replacement_time': replacement_runtime\n",
    "                }"
   ]
  },
  {
   "cell_type": "code",
   "execution_count": 11,
   "metadata": {},
   "outputs": [
    {
     "name": "stdout",
     "output_type": "stream",
     "text": [
      "Complex : 12952.6 (s)\n"
     ]
    }
   ],
   "source": [
    "if common_attributes_to_use == 'sta':\n",
    "\n",
    "    # Group runtimes by simulation type\n",
    "    grouped_runtimes = {}\n",
    "\n",
    "    for sim_key, times in runtimes.items():\n",
    "        sim_type = sim_key.split('_')[0]\n",
    "        if sim_type not in grouped_runtimes:\n",
    "            grouped_runtimes[sim_type] = {'build_times': [], 'simulation_times': [], 'replacement_times': []}\n",
    "        \n",
    "        grouped_runtimes[sim_type]['build_times'].append(float(times['build_time'].replace(' seconds', '')))\n",
    "        grouped_runtimes[sim_type]['simulation_times'].append(float(times['simulation_time'].replace(' seconds', '')))\n",
    "        grouped_runtimes[sim_type]['replacement_times'].append(float(times['replacement_time'].replace(' seconds', '')))\n",
    "\n",
    "    # Compute the mean and std of runtimes for each simulation type\n",
    "    summary_stats = {}\n",
    "\n",
    "    for sim_type, times in grouped_runtimes.items():\n",
    "        build_times = times['build_times']\n",
    "        simulation_times = times['simulation_times']\n",
    "        replacement_times = times['replacement_times']\n",
    "\n",
    "        summary_stats[sim_type] = {\n",
    "            'build_time_mean': np.mean(build_times),\n",
    "            'build_time_std': np.std(build_times),\n",
    "            'simulation_time_mean': np.mean(simulation_times),\n",
    "            'simulation_time_std': np.std(simulation_times),\n",
    "            'replacement_time_mean': np.mean(replacement_times),\n",
    "            'replacement_time_std': np.std(replacement_times)\n",
    "        }\n",
    "\n",
    "    # Print the summary statistics\n",
    "    for sim_type, stats in summary_stats.items():\n",
    "        # print(f\"Simulation type: {sim_type}\")\n",
    "        # print(f\"  Build time mean: {stats['build_time_mean']:.2f} seconds\")\n",
    "        # print(f\"  Build time std: {stats['build_time_std']:.2f} seconds\")\n",
    "        # print(f\"  Simulation time mean: {stats['simulation_time_mean']:.2f} seconds\")\n",
    "        # print(f\"  Simulation time std: {stats['simulation_time_std']:.2f} seconds\")\n",
    "        # print(f\"  Replacement time mean: {stats['replacement_time_mean']:.2f} seconds\")\n",
    "        # print(f\"  Replacement time std: {stats['replacement_time_std']:.2f} seconds\")\n",
    "        \n",
    "        # print(f\"                Total time mean : {sum([stats['replacement_time_mean'], stats['simulation_time_mean'], stats['build_time_mean']]):.1f} seconds\")\n",
    "        print(f\"{sim_type} : {sum([stats['replacement_time_mean'], stats['simulation_time_mean'], stats['build_time_mean']]):.1f} (s)\")"
   ]
  },
  {
   "cell_type": "markdown",
   "metadata": {},
   "source": [
    "## Check LFP"
   ]
  },
  {
   "cell_type": "markdown",
   "metadata": {},
   "source": [
    "## TESTING"
   ]
  },
  {
   "cell_type": "code",
   "execution_count": 12,
   "metadata": {},
   "outputs": [
    {
     "name": "stdout",
     "output_type": "stream",
     "text": [
      "2024-08-13-08-20-38-TuningSynapses_reduceNA_shiftExcGmaxBy20Percent\n"
     ]
    }
   ],
   "source": [
    "print(sim.path)"
   ]
  }
 ],
 "metadata": {
  "kernelspec": {
   "display_name": "sim_env",
   "language": "python",
   "name": "python3"
  },
  "language_info": {
   "codemirror_mode": {
    "name": "ipython",
    "version": 3
   },
   "file_extension": ".py",
   "mimetype": "text/x-python",
   "name": "python",
   "nbconvert_exporter": "python",
   "pygments_lexer": "ipython3",
   "version": "3.10.14"
  }
 },
 "nbformat": 4,
 "nbformat_minor": 2
}
