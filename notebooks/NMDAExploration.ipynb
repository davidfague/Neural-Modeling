{
 "cells": [
  {
   "cell_type": "code",
   "execution_count": 1,
   "metadata": {},
   "outputs": [],
   "source": [
    "import pandas as pd\n",
    "import h5py\n",
    "import numpy as np\n",
    "import matplotlib.pyplot as plt\n",
    "import seaborn as sns\n",
    "import scipy.signal as ss\n",
    "\n",
    "def voltage_criterion(data=None, v_thresh=-40, time_thresh=260):\n",
    "    threshold_crossings = np.diff(data > v_thresh, prepend=False)\n",
    "    upward_crossings = np.argwhere(threshold_crossings)[::2,0]\n",
    "    downward_crossings = np.argwhere(threshold_crossings)[1::2,0]\n",
    "    # If length of threshold_crossings is not even\n",
    "    if np.mod(np.argwhere(threshold_crossings).reshape(-1,).shape[0],2)!=0:\n",
    "        legit_up_crossings = upward_crossings[:-1][np.diff(np.argwhere(threshold_crossings).reshape(-1,))[::2]>time_thresh]\n",
    "        legit_down_crossings = downward_crossings[np.diff(np.argwhere(threshold_crossings).reshape(-1,))[::2]>time_thresh]\n",
    "    else:\n",
    "        legit_up_crossings = upward_crossings[np.diff(np.argwhere(threshold_crossings).reshape(-1,))[::2]>time_thresh]\n",
    "        legit_down_crossings = downward_crossings[np.diff(np.argwhere(threshold_crossings).reshape(-1,))[::2]>time_thresh]\n",
    "    return upward_crossings, legit_up_crossings, legit_down_crossings\n",
    "\n",
    "# Input: upward and downward crossings\n",
    "# Output: bounds of NMDA spikes meeting current criterion\n",
    "def current_criterion(legit_uc_iso=[], legit_dc_iso=[], p=1, control_inmda=np.array([1])):\n",
    "    bounds = []\n",
    "    sum_current = []\n",
    "    \n",
    "\n",
    "    for ind1 in np.arange(0,len(legit_uc_iso)):\n",
    "        e1 = control_inmda[legit_uc_iso[ind1], p] #current @ up_crossing[ind1]\n",
    "        #all the indices where current crosses 130% of e1\n",
    "        x30 = np.argwhere(np.diff(control_inmda[legit_uc_iso[ind1]:legit_dc_iso[ind1], p] < 1.3*e1, prepend=False))\n",
    "        #all the indices where current crosses 115% of e1\n",
    "        x15 = np.argwhere(np.diff(control_inmda[legit_uc_iso[ind1]:legit_dc_iso[ind1], p] < 1.15*e1, prepend=False))\n",
    "        \n",
    "        if len(x30)>0:\n",
    "        \n",
    "            x15_copy = x15\n",
    "            x30_copy = x30\n",
    "            \n",
    "            try:\n",
    "                i = x30[0][0]\n",
    "            except:\n",
    "                import pdb; pdb.set_trace()\n",
    "                \n",
    "            n = 0\n",
    "            \n",
    "            \n",
    "            while n==0:\n",
    "                if len(np.sort(x15[x15>i]))!=0:\n",
    "                    b1 = i\n",
    "                    b2 = np.sort(x15[x15>i])[0]\n",
    "                    bounds.append([legit_uc_iso[ind1]+b1,legit_uc_iso[ind1]+b2])\n",
    "                    sum_current.append(np.sum(control_inmda[legit_uc_iso[ind1]+b1:legit_uc_iso[ind1]+b2,p])/10)\n",
    "                else:\n",
    "                    b1 = i\n",
    "                    b2 = (legit_dc_iso[ind1]-legit_uc_iso[ind1])\n",
    "                    bounds.append([legit_uc_iso[ind1]+b1,legit_uc_iso[ind1]+b2])\n",
    "                    sum_current.append(np.sum(control_inmda[legit_uc_iso[ind1]+b1:legit_uc_iso[ind1]+b2,p])/10)\n",
    "                    n=1\n",
    "                \n",
    "                x30_copy = x30_copy[x30_copy>legit_uc_iso[ind1]+b2]\n",
    "                #import pdb; pdb.set_trace()\n",
    "                \n",
    "                if len(x30_copy)!=0:\n",
    "                    i = x30_copy[x30_copy>b2][0]\n",
    "                else:\n",
    "                    n=1\n",
    "    return bounds, sum_current\n",
    "\n"
   ]
  },
  {
   "cell_type": "code",
   "execution_count": 2,
   "metadata": {},
   "outputs": [
    {
     "name": "stdout",
     "output_type": "stream",
     "text": [
      "/home/drfrbc/Neural-Modeling/scripts/L5BaselineResults\n"
     ]
    }
   ],
   "source": [
    "%cd ../scripts/L5BaselineResults/"
   ]
  },
  {
   "cell_type": "code",
   "execution_count": 3,
   "metadata": {},
   "outputs": [],
   "source": [
    "# output_folder = 'output_control'\n",
    "\n",
    "# conns = pd.read_csv('./{}/Connections.csv'.format(output_folder))\n",
    "conns = pd.read_csv('Connections.csv')"
   ]
  },
  {
   "cell_type": "code",
   "execution_count": 4,
   "metadata": {},
   "outputs": [
    {
     "name": "stderr",
     "output_type": "stream",
     "text": [
      "/tmp/ipykernel_547177/290075311.py:4: FutureWarning: Setting an item of incompatible dtype is deprecated and will raise in a future error of pandas. Value '[]' has dtype incompatible with float64, please explicitly cast to a compatible dtype first.\n",
      "  conns.loc[conns.Type=='axon','Sec ID'] = conns.loc[conns.Type=='axon','Name'].apply(lambda x: int(x.split('axon[')[1].split(']')[0]))\n"
     ]
    }
   ],
   "source": [
    "conns.loc[conns.Type=='dend','Sec ID'] = conns.loc[conns.Type=='dend','Name'].apply(lambda x: int(x.split('dend[')[1].split(']')[0]))\n",
    "conns.loc[conns.Type=='apic','Sec ID'] = conns.loc[conns.Type=='apic','Name'].apply(lambda x: int(x.split('apic[')[1].split(']')[0]))\n",
    "conns.loc[conns.Type=='soma','Sec ID'] = conns.loc[conns.Type=='soma','Name'].apply(lambda x: int(x.split('soma[')[1].split(']')[0]))\n",
    "conns.loc[conns.Type=='axon','Sec ID'] = conns.loc[conns.Type=='axon','Name'].apply(lambda x: int(x.split('axon[')[1].split(']')[0]))\n",
    "\n",
    "conns['X'] = conns['Name'].apply(lambda x: float(x.split('(')[1].split(')')[0]))\n",
    "\n",
    "conns.rename(columns={'Distance':'conns_Distance'},inplace=True)\n",
    "\n",
    "conns['Sec ID'] = conns['Sec ID'].astype(int)\n",
    "conns['X'] = conns['X'].astype(float)"
   ]
  },
  {
   "cell_type": "code",
   "execution_count": 5,
   "metadata": {},
   "outputs": [
    {
     "data": {
      "text/html": [
       "<div>\n",
       "<style scoped>\n",
       "    .dataframe tbody tr th:only-of-type {\n",
       "        vertical-align: middle;\n",
       "    }\n",
       "\n",
       "    .dataframe tbody tr th {\n",
       "        vertical-align: top;\n",
       "    }\n",
       "\n",
       "    .dataframe thead th {\n",
       "        text-align: right;\n",
       "    }\n",
       "</style>\n",
       "<table border=\"1\" class=\"dataframe\">\n",
       "  <thead>\n",
       "    <tr style=\"text-align: right;\">\n",
       "      <th></th>\n",
       "      <th>Node ID</th>\n",
       "      <th>conns_Distance</th>\n",
       "      <th>Conductance</th>\n",
       "      <th>Type</th>\n",
       "      <th>Name</th>\n",
       "      <th>Source Population</th>\n",
       "      <th>Release Probability</th>\n",
       "      <th>Sec ID</th>\n",
       "      <th>X</th>\n",
       "    </tr>\n",
       "  </thead>\n",
       "  <tbody>\n",
       "    <tr>\n",
       "      <th>0</th>\n",
       "      <td>0</td>\n",
       "      <td>61.505696</td>\n",
       "      <td>5.006073e-08</td>\n",
       "      <td>dend</td>\n",
       "      <td>L5PCtemplate[0].dend[60](0.264706)</td>\n",
       "      <td>exc_stim</td>\n",
       "      <td>0.6</td>\n",
       "      <td>60</td>\n",
       "      <td>0.264706</td>\n",
       "    </tr>\n",
       "    <tr>\n",
       "      <th>1</th>\n",
       "      <td>0</td>\n",
       "      <td>112.522057</td>\n",
       "      <td>3.250785e-08</td>\n",
       "      <td>dend</td>\n",
       "      <td>L5PCtemplate[0].dend[28](0.128571)</td>\n",
       "      <td>exc_stim</td>\n",
       "      <td>0.6</td>\n",
       "      <td>28</td>\n",
       "      <td>0.128571</td>\n",
       "    </tr>\n",
       "    <tr>\n",
       "      <th>2</th>\n",
       "      <td>0</td>\n",
       "      <td>73.494480</td>\n",
       "      <td>5.547277e-08</td>\n",
       "      <td>dend</td>\n",
       "      <td>L5PCtemplate[0].dend[29](0.7)</td>\n",
       "      <td>exc_stim</td>\n",
       "      <td>0.6</td>\n",
       "      <td>29</td>\n",
       "      <td>0.700000</td>\n",
       "    </tr>\n",
       "    <tr>\n",
       "      <th>3</th>\n",
       "      <td>0</td>\n",
       "      <td>101.530468</td>\n",
       "      <td>1.005930e-07</td>\n",
       "      <td>dend</td>\n",
       "      <td>L5PCtemplate[0].dend[33](0.264706)</td>\n",
       "      <td>exc_stim</td>\n",
       "      <td>0.6</td>\n",
       "      <td>33</td>\n",
       "      <td>0.264706</td>\n",
       "    </tr>\n",
       "    <tr>\n",
       "      <th>4</th>\n",
       "      <td>0</td>\n",
       "      <td>65.675576</td>\n",
       "      <td>3.045596e-08</td>\n",
       "      <td>dend</td>\n",
       "      <td>L5PCtemplate[0].dend[48](0.409091)</td>\n",
       "      <td>exc_stim</td>\n",
       "      <td>0.6</td>\n",
       "      <td>48</td>\n",
       "      <td>0.409091</td>\n",
       "    </tr>\n",
       "  </tbody>\n",
       "</table>\n",
       "</div>"
      ],
      "text/plain": [
       "   Node ID  conns_Distance   Conductance  Type  \\\n",
       "0        0       61.505696  5.006073e-08  dend   \n",
       "1        0      112.522057  3.250785e-08  dend   \n",
       "2        0       73.494480  5.547277e-08  dend   \n",
       "3        0      101.530468  1.005930e-07  dend   \n",
       "4        0       65.675576  3.045596e-08  dend   \n",
       "\n",
       "                                 Name Source Population  Release Probability  \\\n",
       "0  L5PCtemplate[0].dend[60](0.264706)          exc_stim                  0.6   \n",
       "1  L5PCtemplate[0].dend[28](0.128571)          exc_stim                  0.6   \n",
       "2       L5PCtemplate[0].dend[29](0.7)          exc_stim                  0.6   \n",
       "3  L5PCtemplate[0].dend[33](0.264706)          exc_stim                  0.6   \n",
       "4  L5PCtemplate[0].dend[48](0.409091)          exc_stim                  0.6   \n",
       "\n",
       "   Sec ID         X  \n",
       "0      60  0.264706  \n",
       "1      28  0.128571  \n",
       "2      29  0.700000  \n",
       "3      33  0.264706  \n",
       "4      48  0.409091  "
      ]
     },
     "execution_count": 5,
     "metadata": {},
     "output_type": "execute_result"
    }
   ],
   "source": [
    "conns.head()"
   ]
  },
  {
   "cell_type": "code",
   "execution_count": 6,
   "metadata": {},
   "outputs": [],
   "source": [
    "segs = pd.read_csv('Segments.csv')\n",
    "segs_degrees = pd.read_csv('SegmentsDegrees.csv').groupby(['Type','Sec ID'])['Degrees'].max().reset_index()\n",
    "segs['segmentID'] = segs.index\n",
    "segs = segs.set_index(['Type','Sec ID']).join(segs_degrees.set_index(['Type','Sec ID'])).reset_index()\n",
    "\n",
    "segs['Sec ID'] = segs['Sec ID'].astype(int)\n",
    "segs['X'] = segs['X'].astype(float)\n",
    "segs['Elec_distanceQ'] = 'None'\n",
    "\n",
    "segs.loc[segs.Type=='dend','Elec_distanceQ'] = pd.qcut(segs.loc[segs.Type=='dend','Elec_distance'], 10, labels=False)\n",
    "segs.loc[segs.Type=='apic','Elec_distanceQ'] = pd.qcut(segs.loc[segs.Type=='apic','Elec_distance'], 10, labels=False)"
   ]
  },
  {
   "cell_type": "code",
   "execution_count": null,
   "metadata": {},
   "outputs": [],
   "source": [
    "# v = h5py.File('./{}/v_report.h5'.format(output_folder),'r')\n",
    "# hva = h5py.File('./{}/Ca_HVA.ica_report.h5'.format(output_folder),'r')\n",
    "# lva = h5py.File('./{}/Ca_LVAst.ica_report.h5'.format(output_folder),'r')\n",
    "# ih = h5py.File('./{}/Ih.ihcn_report.h5'.format(output_folder),'r')\n",
    "\n",
    "# nmda = h5py.File('./{}/inmda_report.h5'.format(output_folder),'r')\n",
    "\n",
    "# na = h5py.File('./{}/NaTa_t.gNaTa_t_report.h5'.format(output_folder),'r')\n",
    "# spks = h5py.File('./{}/spikes.h5'.format(output_folder),'r')\n",
    "\n",
    "v = h5py.File('v_report.h5','r')\n",
    "hva = h5py.File('Ca_HVA.ica_report.h5','r')\n",
    "lva = h5py.File('Ca_LVAst.ica_report.h5','r')\n",
    "ih = h5py.File('Ih.ihcn_report.h5','r')\n",
    "\n",
    "nmda = h5py.File('inmda_report.h5','r')\n",
    "\n",
    "na = h5py.File('NaTa_t.gNaTa_t_report.h5','r')\n",
    "spks = h5py.File('spikes.h5','r')"
   ]
  },
  {
   "cell_type": "code",
   "execution_count": null,
   "metadata": {},
   "outputs": [],
   "source": [
    "spktimes = spks['spikes']['biophysical']['timestamps'][:]\n",
    "spkinds = np.sort((spktimes*10).astype(int))"
   ]
  },
  {
   "cell_type": "code",
   "execution_count": null,
   "metadata": {},
   "outputs": [],
   "source": [
    "na_df = pd.DataFrame(columns=['segmentID','na_lower_bound'])\n",
    "\n",
    "for p in segs[(segs.Type=='dend')|(segs.Type=='apic')].index:\n",
    "    # print(p)\n",
    "    threshold_crossings = np.diff(na['report']['biophysical']['data'][:,p] > 0.003, prepend=False)\n",
    "    upward_crossings = np.argwhere(threshold_crossings)[::2,0]\n",
    "    downward_crossings = np.argwhere(threshold_crossings)[1::2,0]\n",
    "    # Only count if not within 2 ms after a somatic spike\n",
    "    na_spks = [i for i in upward_crossings if ~np.any((i-spkinds>=-5) & (i-spkinds<50))]\n",
    "    \n",
    "#     if len(na_spks)>0:\n",
    "#         na_df = na_df.append(pd.DataFrame({'segmentID':np.tile(p,len(na_spks)),\n",
    "#                                                'na_lower_bound':na_spks}))\n",
    "#     else:\n",
    "#         na_df = na_df.append(pd.DataFrame({'segmentID':p,\n",
    "#                                                'na_lower_bound':np.array([np.nan])}))\n",
    "    \n",
    "    #df.append is depracated; have to use pd.concat.\n",
    "    if len(na_spks) > 0:\n",
    "        new_rows = pd.DataFrame({'segmentID': np.tile(p, len(na_spks)),\n",
    "                                 'na_lower_bound': na_spks})\n",
    "    else:\n",
    "        new_rows = pd.DataFrame({'segmentID': [p],\n",
    "                                 'na_lower_bound': [np.nan]})\n",
    "    \n",
    "    na_df = pd.concat([na_df, new_rows], ignore_index=True)\n"
   ]
  },
  {
   "cell_type": "code",
   "execution_count": 7,
   "metadata": {},
   "outputs": [],
   "source": [
    "exc_syns_per_seg = conns[conns['Source Population']=='exc_stim'].groupby(['Type','Sec ID','X'])['Conductance'].count().reset_index().rename(columns={'Conductance':'num_syns'})\n",
    "\n",
    "inh_conns = conns[(conns['Source Population']=='dist_inh_stim')|\n",
    "                  (conns['Source Population']=='prox_inh_stim')].sort_values(by=['Type','Sec ID','X']).reset_index(drop=True)\n",
    "inh_syns_per_seg = inh_conns.groupby(['Type','Sec ID','X'])['Conductance'].count().reset_index().rename(columns={'Conductance':'num_syns'})\n",
    "\n",
    "segs['segmentID'] = segs.groupby(['Type','Sec ID']).cumcount()+1\n",
    "\n",
    "exc_syns_per_seg['segmentID'] = exc_syns_per_seg.groupby(['Type','Sec ID']).cumcount()+1\n",
    "inh_syns_per_seg['segmentID'] = inh_syns_per_seg.groupby(['Type','Sec ID']).cumcount()+1\n",
    "\n",
    "exc_syns = segs.set_index(['Type','Sec ID','segmentID']).join(exc_syns_per_seg[['Type','Sec ID','segmentID','num_syns']].set_index(['Type','Sec ID','segmentID'])).reset_index()\n",
    "inh_syns = segs.set_index(['Type','Sec ID','segmentID']).join(inh_syns_per_seg[['Type','Sec ID','segmentID','num_syns']].set_index(['Type','Sec ID','segmentID'])).reset_index()\n",
    "\n"
   ]
  },
  {
   "cell_type": "code",
   "execution_count": 8,
   "metadata": {},
   "outputs": [
    {
     "data": {
      "text/plain": [
       "2.1647901629711943"
      ]
     },
     "execution_count": 8,
     "metadata": {},
     "output_type": "execute_result"
    }
   ],
   "source": [
    "exc_syns[exc_syns.Type=='apic']['num_syns'].sum() / exc_syns[exc_syns.Type=='apic']['Section_L'].unique().sum()"
   ]
  },
  {
   "cell_type": "code",
   "execution_count": 9,
   "metadata": {},
   "outputs": [
    {
     "data": {
      "text/plain": [
       "1.967666458778837"
      ]
     },
     "execution_count": 9,
     "metadata": {},
     "output_type": "execute_result"
    }
   ],
   "source": [
    "exc_syns[exc_syns.Type=='dend']['num_syns'].sum() / exc_syns[exc_syns.Type=='dend']['Section_L'].unique().sum()"
   ]
  },
  {
   "cell_type": "code",
   "execution_count": null,
   "metadata": {},
   "outputs": [],
   "source": [
    "na_df.reset_index(inplace=True)"
   ]
  },
  {
   "cell_type": "code",
   "execution_count": 15,
   "metadata": {},
   "outputs": [],
   "source": [
    "def reshape_pad(v, fillval=np.nan):\n",
    "    lens = np.array([len(item) for item in v])\n",
    "    mask = lens[:,None] > np.arange(lens.max())\n",
    "    out = np.full(mask.shape,fillval)\n",
    "    out[mask] = np.concatenate(v)\n",
    "    return out"
   ]
  },
  {
   "cell_type": "code",
   "execution_count": null,
   "metadata": {},
   "outputs": [],
   "source": [
    "# get the value of the conductance at the peak\n",
    "df = pd.DataFrame(columns=['segmentID','na_lower_bound','peak_value'])\n",
    "\n",
    "for s in na_df[~pd.isnull(na_df.na_lower_bound)].segmentID.unique():\n",
    "\n",
    "    inds = na_df[na_df.segmentID==s]['na_lower_bound'].astype(int).values\n",
    "    \n",
    "    L = np.split(na['report']['biophysical']['data'][:,s], inds)\n",
    "    \n",
    "    X = reshape_pad(L)\n",
    "    \n",
    "    peak_vals = np.max(X[:,0:10], axis=1)\n",
    "    \n",
    "    df = pd.concat((df,pd.DataFrame({'segmentID': s*np.ones((inds.shape[0],)).astype(int),\n",
    "                                     'na_lower_bound': inds, \n",
    "                                     'peak_value': peak_vals[1:]})))\n",
    "    \n",
    "    # print(s)"
   ]
  },
  {
   "cell_type": "code",
   "execution_count": null,
   "metadata": {},
   "outputs": [],
   "source": [
    "na_df.to_csv('na_df.csv',index=False)"
   ]
  },
  {
   "cell_type": "code",
   "execution_count": 18,
   "metadata": {},
   "outputs": [
    {
     "data": {
      "text/plain": [
       "<Axes: >"
      ]
     },
     "execution_count": 18,
     "metadata": {},
     "output_type": "execute_result"
    },
    {
     "data": {
      "image/png": "[encoded data removed]",
      "text/plain": [
       "<Figure size 640x480 with 1 Axes>"
      ]
     },
     "metadata": {},
     "output_type": "display_data"
    }
   ],
   "source": [
    "df.groupby('segmentID')['peak_value'].mean().hist()"
   ]
  },
  {
   "cell_type": "code",
   "execution_count": 19,
   "metadata": {},
   "outputs": [],
   "source": [
    "df_gb = df.groupby('segmentID')['na_lower_bound'].count().sort_values().reset_index()"
   ]
  },
  {
   "cell_type": "code",
   "execution_count": 20,
   "metadata": {},
   "outputs": [],
   "source": [
    "outliers = df_gb[df_gb.na_lower_bound>1000]['segmentID'].values"
   ]
  },
  {
   "cell_type": "code",
   "execution_count": 21,
   "metadata": {},
   "outputs": [],
   "source": [
    "df_noout = df[(df.segmentID.isin(outliers))&(df.peak_value>0.006)]"
   ]
  },
  {
   "cell_type": "code",
   "execution_count": 22,
   "metadata": {},
   "outputs": [
    {
     "data": {
      "text/html": [
       "<div>\n",
       "<style scoped>\n",
       "    .dataframe tbody tr th:only-of-type {\n",
       "        vertical-align: middle;\n",
       "    }\n",
       "\n",
       "    .dataframe tbody tr th {\n",
       "        vertical-align: top;\n",
       "    }\n",
       "\n",
       "    .dataframe thead th {\n",
       "        text-align: right;\n",
       "    }\n",
       "</style>\n",
       "<table border=\"1\" class=\"dataframe\">\n",
       "  <thead>\n",
       "    <tr style=\"text-align: right;\">\n",
       "      <th></th>\n",
       "      <th>segmentID</th>\n",
       "      <th>na_lower_bound</th>\n",
       "      <th>peak_value</th>\n",
       "    </tr>\n",
       "  </thead>\n",
       "  <tbody>\n",
       "    <tr>\n",
       "      <th>5</th>\n",
       "      <td>99</td>\n",
       "      <td>11936</td>\n",
       "      <td>0.011013</td>\n",
       "    </tr>\n",
       "    <tr>\n",
       "      <th>8</th>\n",
       "      <td>99</td>\n",
       "      <td>18976</td>\n",
       "      <td>0.009053</td>\n",
       "    </tr>\n",
       "    <tr>\n",
       "      <th>10</th>\n",
       "      <td>99</td>\n",
       "      <td>24703</td>\n",
       "      <td>0.006821</td>\n",
       "    </tr>\n",
       "    <tr>\n",
       "      <th>12</th>\n",
       "      <td>99</td>\n",
       "      <td>29522</td>\n",
       "      <td>0.006711</td>\n",
       "    </tr>\n",
       "    <tr>\n",
       "      <th>14</th>\n",
       "      <td>99</td>\n",
       "      <td>35540</td>\n",
       "      <td>0.012622</td>\n",
       "    </tr>\n",
       "  </tbody>\n",
       "</table>\n",
       "</div>"
      ],
      "text/plain": [
       "   segmentID na_lower_bound  peak_value\n",
       "5         99          11936    0.011013\n",
       "8         99          18976    0.009053\n",
       "10        99          24703    0.006821\n",
       "12        99          29522    0.006711\n",
       "14        99          35540    0.012622"
      ]
     },
     "execution_count": 22,
     "metadata": {},
     "output_type": "execute_result"
    }
   ],
   "source": [
    "df_noout.head()"
   ]
  },
  {
   "cell_type": "code",
   "execution_count": 23,
   "metadata": {},
   "outputs": [
    {
     "data": {
      "text/html": [
       "<div>\n",
       "<style scoped>\n",
       "    .dataframe tbody tr th:only-of-type {\n",
       "        vertical-align: middle;\n",
       "    }\n",
       "\n",
       "    .dataframe tbody tr th {\n",
       "        vertical-align: top;\n",
       "    }\n",
       "\n",
       "    .dataframe thead th {\n",
       "        text-align: right;\n",
       "    }\n",
       "</style>\n",
       "<table border=\"1\" class=\"dataframe\">\n",
       "  <thead>\n",
       "    <tr style=\"text-align: right;\">\n",
       "      <th></th>\n",
       "      <th>index</th>\n",
       "      <th>segmentID</th>\n",
       "      <th>na_lower_bound</th>\n",
       "    </tr>\n",
       "  </thead>\n",
       "  <tbody>\n",
       "    <tr>\n",
       "      <th>0</th>\n",
       "      <td>0</td>\n",
       "      <td>0</td>\n",
       "      <td>367474</td>\n",
       "    </tr>\n",
       "    <tr>\n",
       "      <th>1</th>\n",
       "      <td>1</td>\n",
       "      <td>0</td>\n",
       "      <td>1047561</td>\n",
       "    </tr>\n",
       "    <tr>\n",
       "      <th>2</th>\n",
       "      <td>2</td>\n",
       "      <td>1</td>\n",
       "      <td>367474</td>\n",
       "    </tr>\n",
       "    <tr>\n",
       "      <th>3</th>\n",
       "      <td>3</td>\n",
       "      <td>1</td>\n",
       "      <td>1047561</td>\n",
       "    </tr>\n",
       "    <tr>\n",
       "      <th>4</th>\n",
       "      <td>4</td>\n",
       "      <td>2</td>\n",
       "      <td>367474</td>\n",
       "    </tr>\n",
       "  </tbody>\n",
       "</table>\n",
       "</div>"
      ],
      "text/plain": [
       "   index segmentID na_lower_bound\n",
       "0      0         0         367474\n",
       "1      1         0        1047561\n",
       "2      2         1         367474\n",
       "3      3         1        1047561\n",
       "4      4         2         367474"
      ]
     },
     "execution_count": 23,
     "metadata": {},
     "output_type": "execute_result"
    }
   ],
   "source": [
    "na_df.head()"
   ]
  },
  {
   "cell_type": "code",
   "execution_count": 24,
   "metadata": {},
   "outputs": [],
   "source": [
    "# #** added cell\n",
    "# # Check the columns of df_noout and na_df\n",
    "# print(df_noout.columns)\n",
    "# print(na_df.columns)\n",
    "\n",
    "# # If 'peak_value' is missing from na_df, ensure it exists\n",
    "# # Also, make sure 'segmentID' and 'na_lower_bound' exist\n",
    "# if 'peak_value' in df_noout.columns and 'peak_value' in na_df.columns:\n",
    "#     na_df_new = pd.concat((df_noout[['segmentID', 'na_lower_bound', 'peak_value']],\n",
    "#                            na_df.loc[~na_df.segmentID.isin(outliers), ['segmentID', 'na_lower_bound', 'peak_value']]))\n",
    "# else:\n",
    "#     print(\"One or more columns are missing in the dataframes.\")\n",
    "\n",
    "# # Example of na_peak_values creation from df_noout\n",
    "# na_peak_values = df_noout[['segmentID', 'peak_value']].drop_duplicates()\n",
    "\n",
    "# # Merge na_df with na_peak_values to get peak_value\n",
    "# na_df = na_df.merge(na_peak_values, on='segmentID', how='left')\n",
    "\n",
    "# # Now you can concatenate\n",
    "# na_df_new = pd.concat((df_noout[['segmentID', 'na_lower_bound', 'peak_value']],\n",
    "#                        na_df.loc[~na_df.segmentID.isin(outliers), ['segmentID', 'na_lower_bound', 'peak_value']]))\n"
   ]
  },
  {
   "cell_type": "code",
   "execution_count": 25,
   "metadata": {},
   "outputs": [],
   "source": [
    "na_df_new = pd.concat((df_noout[['segmentID','na_lower_bound','peak_value']],\n",
    "                       na_df.loc[~na_df.segmentID.isin(outliers),['segmentID','na_lower_bound']]))#,'peak_value']])) **change because na_df does not have peak value."
   ]
  },
  {
   "cell_type": "code",
   "execution_count": 26,
   "metadata": {},
   "outputs": [],
   "source": [
    "na_df_new.to_csv('na_df.csv',index=False)"
   ]
  },
  {
   "cell_type": "code",
   "execution_count": null,
   "metadata": {},
   "outputs": [],
   "source": []
  },
  {
   "cell_type": "code",
   "execution_count": 27,
   "metadata": {},
   "outputs": [
    {
     "data": {
      "text/plain": [
       "<Axes: >"
      ]
     },
     "execution_count": 27,
     "metadata": {},
     "output_type": "execute_result"
    },
    {
     "data": {
      "image/png": "[encoded data removed]",
      "text/plain": [
       "<Figure size 640x480 with 1 Axes>"
      ]
     },
     "metadata": {},
     "output_type": "display_data"
    }
   ],
   "source": [
    "df.loc[df.segmentID==936,'peak_value'].hist(bins=np.arange(0.003,0.01,0.001))"
   ]
  },
  {
   "cell_type": "code",
   "execution_count": 28,
   "metadata": {},
   "outputs": [],
   "source": [
    "#for i in na_df.segmentID.unique():\n",
    "#    seg = na_df.loc[i,'segmentID']\n",
    "#    if not pd.isnull(na_df.loc[i,'na_lower_bound']):\n",
    "#        spkt = int(na_df.loc[i,'na_lower_bound'])\n",
    "#        trace = na['report']['biophysical']['data'][spkt-10:spkt+10,seg]\n",
    "#        peak_value = np.max(trace)\n",
    "#        half_peak = peak_value/2\n",
    "#        duration = np.arange(0,20)[trace>half_peak] + spkt - 10\n",
    "#        na_df.loc[i,'duration_low'] = duration[0]\n",
    "#        na_df.loc[i,'duration_high'] = duration[-1]\n",
    "#        na_df.loc[i,'peak_value'] = peak_value\n",
    "#    else:\n",
    "#        na_df.loc[i,'duration_low'] = np.nan\n",
    "#        na_df.loc[i,'duration_high'] = np.nan\n",
    "#        na_df.loc[i,'peak_value'] = np.nan\n",
    "#        \n",
    "#na_df['duration'] = (na_df['duration_high'] - na_df['duration_low'] + 1)/10"
   ]
  },
  {
   "cell_type": "code",
   "execution_count": 29,
   "metadata": {},
   "outputs": [],
   "source": [
    "#na_df.to_csv('64Hz_soma_inh_na_df.csv')\n",
    "#na_df = pd.read_csv('na_df.csv')"
   ]
  },
  {
   "cell_type": "markdown",
   "metadata": {},
   "source": [
    "## Plot example events"
   ]
  },
  {
   "cell_type": "code",
   "execution_count": 30,
   "metadata": {},
   "outputs": [
    {
     "data": {
      "text/html": [
       "<div>\n",
       "<style scoped>\n",
       "    .dataframe tbody tr th:only-of-type {\n",
       "        vertical-align: middle;\n",
       "    }\n",
       "\n",
       "    .dataframe tbody tr th {\n",
       "        vertical-align: top;\n",
       "    }\n",
       "\n",
       "    .dataframe thead th {\n",
       "        text-align: right;\n",
       "    }\n",
       "</style>\n",
       "<table border=\"1\" class=\"dataframe\">\n",
       "  <thead>\n",
       "    <tr style=\"text-align: right;\">\n",
       "      <th></th>\n",
       "      <th>index</th>\n",
       "      <th>segmentID</th>\n",
       "      <th>na_lower_bound</th>\n",
       "    </tr>\n",
       "  </thead>\n",
       "  <tbody>\n",
       "    <tr>\n",
       "      <th>34136</th>\n",
       "      <td>34136</td>\n",
       "      <td>101</td>\n",
       "      <td>2963</td>\n",
       "    </tr>\n",
       "    <tr>\n",
       "      <th>34137</th>\n",
       "      <td>34137</td>\n",
       "      <td>101</td>\n",
       "      <td>4545</td>\n",
       "    </tr>\n",
       "    <tr>\n",
       "      <th>34138</th>\n",
       "      <td>34138</td>\n",
       "      <td>101</td>\n",
       "      <td>6810</td>\n",
       "    </tr>\n",
       "    <tr>\n",
       "      <th>34139</th>\n",
       "      <td>34139</td>\n",
       "      <td>101</td>\n",
       "      <td>8614</td>\n",
       "    </tr>\n",
       "    <tr>\n",
       "      <th>34140</th>\n",
       "      <td>34140</td>\n",
       "      <td>101</td>\n",
       "      <td>10455</td>\n",
       "    </tr>\n",
       "  </tbody>\n",
       "</table>\n",
       "</div>"
      ],
      "text/plain": [
       "       index segmentID na_lower_bound\n",
       "34136  34136       101           2963\n",
       "34137  34137       101           4545\n",
       "34138  34138       101           6810\n",
       "34139  34139       101           8614\n",
       "34140  34140       101          10455"
      ]
     },
     "execution_count": 30,
     "metadata": {},
     "output_type": "execute_result"
    }
   ],
   "source": [
    "na_df[na_df.segmentID==101].sort_values(by='na_lower_bound').head()"
   ]
  },
  {
   "cell_type": "code",
   "execution_count": 31,
   "metadata": {},
   "outputs": [],
   "source": [
    "# ina = h5py.File('./output/NaTa_t.ina_report.h5','r')\n",
    "# ina = h5py.File('NaTa_t.ina_report.h5','r') # ** removed. we do not have ina_report saved."
   ]
  },
  {
   "cell_type": "code",
   "execution_count": 32,
   "metadata": {},
   "outputs": [],
   "source": [
    "# np.median(ina['report']['biophysical']['data'][:,101]) # ** removed. we do not have ina_report saved."
   ]
  },
  {
   "cell_type": "code",
   "execution_count": 33,
   "metadata": {},
   "outputs": [
    {
     "data": {
      "text/plain": [
       "[<matplotlib.lines.Line2D at 0x7f8764e64490>]"
      ]
     },
     "execution_count": 33,
     "metadata": {},
     "output_type": "execute_result"
    },
    {
     "data": {
      "image/png": "[encoded data removed]",
      "text/plain": [
       "<Figure size 640x480 with 1 Axes>"
      ]
     },
     "metadata": {},
     "output_type": "display_data"
    }
   ],
   "source": [
    "plt.plot(v['report']['biophysical']['data'][8500:8700,0])"
   ]
  },
  {
   "cell_type": "code",
   "execution_count": 34,
   "metadata": {},
   "outputs": [
    {
     "data": {
      "image/png": "[encoded data removed]",
      "text/plain": [
       "<Figure size 640x480 with 2 Axes>"
      ]
     },
     "metadata": {},
     "output_type": "display_data"
    }
   ],
   "source": [
    "t = 8640\n",
    "plt.plot(np.arange(-10,10,.1), (v['report']['biophysical']['data'][t-100:t+100,0]-45)*na['report']['biophysical']['data'][t-100:t+100,0],color='r')\n",
    "plt.vlines(-7,-0.5,-1,color='r')\n",
    "#plt.hlines(0,-10,10,color='r',linestyle='dashed',alpha=0.2)\n",
    "plt.text(-6,-0.75,'0.5 mA/cm2')\n",
    "plt.ylabel('current (mA/cm2)')\n",
    "\n",
    "plt.twinx()\n",
    "plt.plot(np.arange(-10,10,.1), v['report']['biophysical']['data'][t-100:t+100,0],color='k')\n",
    "plt.vlines(5,-10,-20,color='k')\n",
    "plt.hlines(-20,5,10,color='k')\n",
    "#plt.hlines(-60,-10,10,color='k',linestyle='dashed',alpha=0.2)\n",
    "#plt.text(10,-60,'-60 mV')\n",
    "plt.ylabel('voltage (mV)')\n",
    "plt.text(7,-25,'5 ms')\n",
    "plt.text(2,-15,'10 mV')\n",
    "plt.title('somatic spike')\n",
    "\n",
    "plt.savefig('exSomaspike.svg')"
   ]
  },
  {
   "cell_type": "code",
   "execution_count": 35,
   "metadata": {},
   "outputs": [
    {
     "data": {
      "image/png": "[encoded data removed]",
      "text/plain": [
       "<Figure size 640x480 with 2 Axes>"
      ]
     },
     "metadata": {},
     "output_type": "display_data"
    }
   ],
   "source": [
    "t = 5325\n",
    "plt.plot(np.arange(-10,10,.1), (v['report']['biophysical']['data'][t-100:t+100,101]-45)*na['report']['biophysical']['data'][t-100:t+100,101],color='r')\n",
    "plt.vlines(-7,-0.1,-0.15,color='r')\n",
    "#plt.hlines(0,-10,10,color='r',linestyle='dashed',alpha=0.2)\n",
    "plt.text(-6,-0.125,'0.05 mA/cm2')\n",
    "plt.ylabel('current (mA/cm2)')\n",
    "\n",
    "plt.twinx()\n",
    "plt.plot(np.arange(-10,10,.1), v['report']['biophysical']['data'][t-100:t+100,101],color='k')\n",
    "plt.plot(np.arange(-10,10,.1), v['report']['biophysical']['data'][t-100:t+100,0],color='k',alpha=0.2)\n",
    "plt.text(5,-70,'soma',alpha=0.2)\n",
    "plt.vlines(5,-10,-20,color='k')\n",
    "plt.hlines(-20,5,10,color='k')\n",
    "#plt.hlines(-60,-10,10,color='k',linestyle='dashed',alpha=0.2)\n",
    "#plt.text(10,-60,'-60 mV')\n",
    "plt.ylabel('voltage (mV)')\n",
    "plt.text(7,-25,'5 ms')\n",
    "plt.text(2,-15,'10 mV')\n",
    "plt.title('dendritic Na+ spike')\n",
    "\n",
    "plt.savefig('exNaspike.svg')"
   ]
  },
  {
   "cell_type": "code",
   "execution_count": 36,
   "metadata": {},
   "outputs": [],
   "source": [
    "# nmda_df = pd.read_csv('nmda_df.csv') #** change: nmda_df.csv does not exist yet?"
   ]
  },
  {
   "cell_type": "code",
   "execution_count": 37,
   "metadata": {},
   "outputs": [
    {
     "data": {
      "image/png": "[encoded data removed]",
      "text/plain": [
       "<Figure size 640x480 with 2 Axes>"
      ]
     },
     "metadata": {},
     "output_type": "display_data"
    }
   ],
   "source": [
    "t = 643309\n",
    "s = 76\n",
    "\n",
    "plt.plot(np.arange(-20,50,.1),nmda['report']['biophysical']['data'][t-200:t+500,s],color='r')\n",
    "plt.vlines(40,-0.005,-0.01,color='r')\n",
    "plt.text(42,-0.007,'5 pA')\n",
    "plt.ylabel('current (nA)')\n",
    "\n",
    "plt.twinx()\n",
    "\n",
    "plt.plot(np.arange(-20,50,.1),v['report']['biophysical']['data'][t-200:t+500,s],color='k')\n",
    "plt.plot(np.arange(-20,50,.1),v['report']['biophysical']['data'][t-200:t+500,0],color='k',alpha=0.2)\n",
    "plt.text(45,-60,'soma',alpha=0.2)\n",
    "plt.hlines(-40,-15,-5)\n",
    "plt.vlines(-15,-30,-40)\n",
    "plt.text(-23,-35,'10 mV')\n",
    "plt.text(-12,-45,'10 ms')\n",
    "plt.ylabel('voltage (mV)')\n",
    "plt.title('NMDA spike')\n",
    "plt.savefig('NMDAspike.svg')"
   ]
  },
  {
   "cell_type": "code",
   "execution_count": 38,
   "metadata": {},
   "outputs": [
    {
     "data": {
      "image/png": "[encoded data removed]",
      "text/plain": [
       "<Figure size 640x480 with 2 Axes>"
      ]
     },
     "metadata": {},
     "output_type": "display_data"
    }
   ],
   "source": [
    "t = 1090075\n",
    "s = 1312\n",
    "\n",
    "plt.plot(np.arange(-60,80,.1),hva['report']['biophysical']['data'][t-600:t+800,s],color='r',label='hva')\n",
    "plt.plot(np.arange(-60,80,.1),lva['report']['biophysical']['data'][t-600:t+800,s],color='c',label='lva')\n",
    "plt.legend(loc='center left')\n",
    "plt.vlines(-20,-0.001,-0.0015,color='r')\n",
    "plt.text(-18,-0.00125,'0.5 pA')\n",
    "plt.ylabel('current (nA)')\n",
    "\n",
    "plt.twinx()\n",
    "\n",
    "plt.plot(np.arange(-60,80,.1),v['report']['biophysical']['data'][t-600:t+800,s],color='k')\n",
    "plt.plot(np.arange(-60,80,.1),v['report']['biophysical']['data'][t-600:t+800,0],color='k',alpha=0.2)\n",
    "plt.hlines(-50,70,80)\n",
    "plt.text(65,-55,'10 ms')\n",
    "plt.vlines(70,-40,-50)\n",
    "plt.text(50,-45,'10 mV')\n",
    "plt.ylabel('voltage (mV)')\n",
    "plt.title('Ca2+ spike')\n",
    "plt.text(60,-65,'soma',alpha=0.2)\n",
    "plt.savefig('Caspike.svg')"
   ]
  },
  {
   "cell_type": "code",
   "execution_count": 39,
   "metadata": {},
   "outputs": [],
   "source": [
    "for i in np.random.choice(na_df[(na_df.na_lower_bound>20) & (na_df.na_lower_bound<1400000)].index,10000):\n",
    "    seg = na_df.loc[i,'segmentID']\n",
    "    if not pd.isnull(na_df.loc[i,'na_lower_bound']):\n",
    "        spkt = int(na_df.loc[i,'na_lower_bound'])\n",
    "        trace = na['report']['biophysical']['data'][spkt-10:spkt+10,seg]\n",
    "        peak_value = np.max(trace)\n",
    "        half_peak = peak_value/2\n",
    "        duration = np.arange(0,20)[trace>half_peak] + spkt - 10\n",
    "        na_df.loc[i,'duration_low'] = duration[0]\n",
    "        na_df.loc[i,'duration_high'] = duration[-1]\n",
    "        na_df.loc[i,'peak_value'] = peak_value\n",
    "    else:\n",
    "        na_df.loc[i,'duration_low'] = np.nan\n",
    "        na_df.loc[i,'duration_high'] = np.nan\n",
    "        na_df.loc[i,'peak_value'] = np.nan"
   ]
  },
  {
   "cell_type": "code",
   "execution_count": 40,
   "metadata": {},
   "outputs": [],
   "source": [
    "na_df['duration'] = (na_df['duration_high'] - na_df['duration_low'] + 1)/10"
   ]
  },
  {
   "cell_type": "code",
   "execution_count": 41,
   "metadata": {},
   "outputs": [],
   "source": [
    "na_df = pd.read_csv('na_df.csv')"
   ]
  },
  {
   "cell_type": "code",
   "execution_count": 42,
   "metadata": {},
   "outputs": [],
   "source": [
    "segs_na_df = segs.set_index('segmentID').join(na_df.set_index('segmentID')).reset_index()"
   ]
  },
  {
   "cell_type": "code",
   "execution_count": 43,
   "metadata": {},
   "outputs": [],
   "source": [
    "def get_sta(segs_na_df, spktimes):\n",
    "    na_dend = np.zeros((10,39,))\n",
    "    na_apic = np.zeros((10,39,))\n",
    "    \n",
    "    edges_dend=np.quantile(segs_na_df[(~pd.isnull(segs_na_df.na_lower_bound))&\n",
    "                                       (segs_na_df.Type=='dend')]['Elec_distance'].unique(),np.arange(0,1.1,0.1))\n",
    "    \n",
    "    edges_apic=np.quantile(segs_na_df[(~pd.isnull(segs_na_df.na_lower_bound))&\n",
    "                                       (segs_na_df.Type=='apic')]['Elec_distance'].unique(),np.arange(0,1.1,0.1))\n",
    "    \n",
    "    actual_spktimes = []\n",
    "    c = 0\n",
    "    for i in np.sort(spktimes):\n",
    "        # excludes bursts\n",
    "        if i-c > 10:\n",
    "            for e in np.arange(0,10):\n",
    "                na_inds = segs_na_df[(~pd.isnull(segs_na_df.na_lower_bound))&\n",
    "                                     (segs_na_df.Type=='dend')&\n",
    "                                     (segs_na_df.Elec_distance>edges_dend[e])&\n",
    "                                     (segs_na_df.Elec_distance<=edges_dend[e+1])]['na_lower_bound'].values.astype(int)\n",
    "    \n",
    "                x2, _ = np.histogram(na_inds/10,bins=np.arange(np.floor(i)-20,np.floor(i)+20,1))\n",
    "                na_dend[e] += x2\n",
    "                \n",
    "                na_inds = segs_na_df[(~pd.isnull(segs_na_df.na_lower_bound))&\n",
    "                                     (segs_na_df.Type=='apic')&\n",
    "                                     (segs_na_df.Elec_distance>edges_apic[e])&\n",
    "                                     (segs_na_df.Elec_distance<=edges_apic[e+1])]['na_lower_bound'].values.astype(int)\n",
    "    \n",
    "                x2, _ = np.histogram(na_inds/10,bins=np.arange(np.floor(i)-20,np.floor(i)+20,1))\n",
    "                na_apic[e] += x2\n",
    "            \n",
    "            actual_spktimes.append(i)\n",
    "        c = i\n",
    "    return na_dend, na_apic"
   ]
  },
  {
   "cell_type": "code",
   "execution_count": 44,
   "metadata": {},
   "outputs": [],
   "source": [
    "na_dend, na_apic = get_sta(segs_na_df, spktimes)\n",
    "rand_spktimes = np.sort(np.random.choice(np.arange(0,150000), spktimes.shape[0]))\n",
    "na_dend_rand, na_apic_rand = get_sta(segs_na_df, rand_spktimes)"
   ]
  },
  {
   "cell_type": "code",
   "execution_count": 45,
   "metadata": {},
   "outputs": [
    {
     "data": {
      "image/png": "[encoded data removed]",
      "text/plain": [
       "<Figure size 1000x1000 with 4 Axes>"
      ]
     },
     "metadata": {},
     "output_type": "display_data"
    }
   ],
   "source": [
    "plt.figure(figsize=(10,10))\n",
    "plt.subplot(2,1,1)\n",
    "plt.title('Na spikes - apical')\n",
    "plt.imshow((na_apic-na_apic_rand)/len(spktimes),cmap='jet',vmin=-0.5)\n",
    "plt.colorbar(label='additional events per AP')\n",
    "plt.xticks(ticks=np.arange(0,40,5)-0.5,labels=['{}'.format(i) for i in np.arange(-20,20,5)])\n",
    "plt.yticks(ticks=[0,9],labels=['further','closer'])\n",
    "plt.xlim(5,35)\n",
    "\n",
    "plt.subplot(2,1,2)\n",
    "plt.title('Na spikes - basal')\n",
    "plt.imshow((na_dend-na_dend_rand)/len(spktimes),cmap='jet',vmin=-0.2, vmax=0.2)\n",
    "plt.colorbar(label='additional events per AP')\n",
    "plt.xticks(ticks=np.arange(0,40,5)-0.5,labels=['{}'.format(i) for i in np.arange(-20,20,5)])\n",
    "plt.yticks(ticks=[0,9],labels=['further','closer'])\n",
    "plt.xlabel('time(ms)')\n",
    "plt.xlim(5,35)\n",
    "plt.savefig('naspikes.svg')\n",
    "plt.show()\n"
   ]
  },
  {
   "cell_type": "markdown",
   "metadata": {},
   "source": [
    "----------"
   ]
  },
  {
   "cell_type": "code",
   "execution_count": 46,
   "metadata": {},
   "outputs": [
    {
     "ename": "FileNotFoundError",
     "evalue": "[Errno 2] No such file or directory: '/Volumes/TOSHIBA EXT/L5NeuronSimulation_new/L5NeuronSimulation/MorphAnalysis/Segments.csv'",
     "output_type": "error",
     "traceback": [
      "\u001b[0;31m---------------------------------------------------------------------------\u001b[0m",
      "\u001b[0;31mFileNotFoundError\u001b[0m                         Traceback (most recent call last)",
      "Cell \u001b[0;32mIn[46], line 1\u001b[0m\n\u001b[0;32m----> 1\u001b[0m segs \u001b[38;5;241m=\u001b[39m \u001b[43mpd\u001b[49m\u001b[38;5;241;43m.\u001b[39;49m\u001b[43mread_csv\u001b[49m\u001b[43m(\u001b[49m\u001b[38;5;124;43m'\u001b[39;49m\u001b[38;5;124;43m/Volumes/TOSHIBA EXT/L5NeuronSimulation_new/L5NeuronSimulation/MorphAnalysis/Segments.csv\u001b[39;49m\u001b[38;5;124;43m'\u001b[39;49m\u001b[43m)\u001b[49m\n\u001b[1;32m      2\u001b[0m segs_degrees \u001b[38;5;241m=\u001b[39m pd\u001b[38;5;241m.\u001b[39mread_csv(\u001b[38;5;124m'\u001b[39m\u001b[38;5;124mSegmentsDegrees.csv\u001b[39m\u001b[38;5;124m'\u001b[39m)\u001b[38;5;241m.\u001b[39mgroupby([\u001b[38;5;124m'\u001b[39m\u001b[38;5;124mType\u001b[39m\u001b[38;5;124m'\u001b[39m,\u001b[38;5;124m'\u001b[39m\u001b[38;5;124mSec ID\u001b[39m\u001b[38;5;124m'\u001b[39m])[\u001b[38;5;124m'\u001b[39m\u001b[38;5;124mDegrees\u001b[39m\u001b[38;5;124m'\u001b[39m]\u001b[38;5;241m.\u001b[39mmax()\u001b[38;5;241m.\u001b[39mreset_index()\n\u001b[1;32m      3\u001b[0m segs[\u001b[38;5;124m'\u001b[39m\u001b[38;5;124msegmentID\u001b[39m\u001b[38;5;124m'\u001b[39m] \u001b[38;5;241m=\u001b[39m segs\u001b[38;5;241m.\u001b[39mindex\n",
      "File \u001b[0;32m~/miniconda3/envs/sim_env/lib/python3.10/site-packages/pandas/io/parsers/readers.py:948\u001b[0m, in \u001b[0;36mread_csv\u001b[0;34m(filepath_or_buffer, sep, delimiter, header, names, index_col, usecols, dtype, engine, converters, true_values, false_values, skipinitialspace, skiprows, skipfooter, nrows, na_values, keep_default_na, na_filter, verbose, skip_blank_lines, parse_dates, infer_datetime_format, keep_date_col, date_parser, date_format, dayfirst, cache_dates, iterator, chunksize, compression, thousands, decimal, lineterminator, quotechar, quoting, doublequote, escapechar, comment, encoding, encoding_errors, dialect, on_bad_lines, delim_whitespace, low_memory, memory_map, float_precision, storage_options, dtype_backend)\u001b[0m\n\u001b[1;32m    935\u001b[0m kwds_defaults \u001b[38;5;241m=\u001b[39m _refine_defaults_read(\n\u001b[1;32m    936\u001b[0m     dialect,\n\u001b[1;32m    937\u001b[0m     delimiter,\n\u001b[0;32m   (...)\u001b[0m\n\u001b[1;32m    944\u001b[0m     dtype_backend\u001b[38;5;241m=\u001b[39mdtype_backend,\n\u001b[1;32m    945\u001b[0m )\n\u001b[1;32m    946\u001b[0m kwds\u001b[38;5;241m.\u001b[39mupdate(kwds_defaults)\n\u001b[0;32m--> 948\u001b[0m \u001b[38;5;28;01mreturn\u001b[39;00m \u001b[43m_read\u001b[49m\u001b[43m(\u001b[49m\u001b[43mfilepath_or_buffer\u001b[49m\u001b[43m,\u001b[49m\u001b[43m \u001b[49m\u001b[43mkwds\u001b[49m\u001b[43m)\u001b[49m\n",
      "File \u001b[0;32m~/miniconda3/envs/sim_env/lib/python3.10/site-packages/pandas/io/parsers/readers.py:611\u001b[0m, in \u001b[0;36m_read\u001b[0;34m(filepath_or_buffer, kwds)\u001b[0m\n\u001b[1;32m    608\u001b[0m _validate_names(kwds\u001b[38;5;241m.\u001b[39mget(\u001b[38;5;124m\"\u001b[39m\u001b[38;5;124mnames\u001b[39m\u001b[38;5;124m\"\u001b[39m, \u001b[38;5;28;01mNone\u001b[39;00m))\n\u001b[1;32m    610\u001b[0m \u001b[38;5;66;03m# Create the parser.\u001b[39;00m\n\u001b[0;32m--> 611\u001b[0m parser \u001b[38;5;241m=\u001b[39m \u001b[43mTextFileReader\u001b[49m\u001b[43m(\u001b[49m\u001b[43mfilepath_or_buffer\u001b[49m\u001b[43m,\u001b[49m\u001b[43m \u001b[49m\u001b[38;5;241;43m*\u001b[39;49m\u001b[38;5;241;43m*\u001b[39;49m\u001b[43mkwds\u001b[49m\u001b[43m)\u001b[49m\n\u001b[1;32m    613\u001b[0m \u001b[38;5;28;01mif\u001b[39;00m chunksize \u001b[38;5;129;01mor\u001b[39;00m iterator:\n\u001b[1;32m    614\u001b[0m     \u001b[38;5;28;01mreturn\u001b[39;00m parser\n",
      "File \u001b[0;32m~/miniconda3/envs/sim_env/lib/python3.10/site-packages/pandas/io/parsers/readers.py:1448\u001b[0m, in \u001b[0;36mTextFileReader.__init__\u001b[0;34m(self, f, engine, **kwds)\u001b[0m\n\u001b[1;32m   1445\u001b[0m     \u001b[38;5;28mself\u001b[39m\u001b[38;5;241m.\u001b[39moptions[\u001b[38;5;124m\"\u001b[39m\u001b[38;5;124mhas_index_names\u001b[39m\u001b[38;5;124m\"\u001b[39m] \u001b[38;5;241m=\u001b[39m kwds[\u001b[38;5;124m\"\u001b[39m\u001b[38;5;124mhas_index_names\u001b[39m\u001b[38;5;124m\"\u001b[39m]\n\u001b[1;32m   1447\u001b[0m \u001b[38;5;28mself\u001b[39m\u001b[38;5;241m.\u001b[39mhandles: IOHandles \u001b[38;5;241m|\u001b[39m \u001b[38;5;28;01mNone\u001b[39;00m \u001b[38;5;241m=\u001b[39m \u001b[38;5;28;01mNone\u001b[39;00m\n\u001b[0;32m-> 1448\u001b[0m \u001b[38;5;28mself\u001b[39m\u001b[38;5;241m.\u001b[39m_engine \u001b[38;5;241m=\u001b[39m \u001b[38;5;28;43mself\u001b[39;49m\u001b[38;5;241;43m.\u001b[39;49m\u001b[43m_make_engine\u001b[49m\u001b[43m(\u001b[49m\u001b[43mf\u001b[49m\u001b[43m,\u001b[49m\u001b[43m \u001b[49m\u001b[38;5;28;43mself\u001b[39;49m\u001b[38;5;241;43m.\u001b[39;49m\u001b[43mengine\u001b[49m\u001b[43m)\u001b[49m\n",
      "File \u001b[0;32m~/miniconda3/envs/sim_env/lib/python3.10/site-packages/pandas/io/parsers/readers.py:1705\u001b[0m, in \u001b[0;36mTextFileReader._make_engine\u001b[0;34m(self, f, engine)\u001b[0m\n\u001b[1;32m   1703\u001b[0m     \u001b[38;5;28;01mif\u001b[39;00m \u001b[38;5;124m\"\u001b[39m\u001b[38;5;124mb\u001b[39m\u001b[38;5;124m\"\u001b[39m \u001b[38;5;129;01mnot\u001b[39;00m \u001b[38;5;129;01min\u001b[39;00m mode:\n\u001b[1;32m   1704\u001b[0m         mode \u001b[38;5;241m+\u001b[39m\u001b[38;5;241m=\u001b[39m \u001b[38;5;124m\"\u001b[39m\u001b[38;5;124mb\u001b[39m\u001b[38;5;124m\"\u001b[39m\n\u001b[0;32m-> 1705\u001b[0m \u001b[38;5;28mself\u001b[39m\u001b[38;5;241m.\u001b[39mhandles \u001b[38;5;241m=\u001b[39m \u001b[43mget_handle\u001b[49m\u001b[43m(\u001b[49m\n\u001b[1;32m   1706\u001b[0m \u001b[43m    \u001b[49m\u001b[43mf\u001b[49m\u001b[43m,\u001b[49m\n\u001b[1;32m   1707\u001b[0m \u001b[43m    \u001b[49m\u001b[43mmode\u001b[49m\u001b[43m,\u001b[49m\n\u001b[1;32m   1708\u001b[0m \u001b[43m    \u001b[49m\u001b[43mencoding\u001b[49m\u001b[38;5;241;43m=\u001b[39;49m\u001b[38;5;28;43mself\u001b[39;49m\u001b[38;5;241;43m.\u001b[39;49m\u001b[43moptions\u001b[49m\u001b[38;5;241;43m.\u001b[39;49m\u001b[43mget\u001b[49m\u001b[43m(\u001b[49m\u001b[38;5;124;43m\"\u001b[39;49m\u001b[38;5;124;43mencoding\u001b[39;49m\u001b[38;5;124;43m\"\u001b[39;49m\u001b[43m,\u001b[49m\u001b[43m \u001b[49m\u001b[38;5;28;43;01mNone\u001b[39;49;00m\u001b[43m)\u001b[49m\u001b[43m,\u001b[49m\n\u001b[1;32m   1709\u001b[0m \u001b[43m    \u001b[49m\u001b[43mcompression\u001b[49m\u001b[38;5;241;43m=\u001b[39;49m\u001b[38;5;28;43mself\u001b[39;49m\u001b[38;5;241;43m.\u001b[39;49m\u001b[43moptions\u001b[49m\u001b[38;5;241;43m.\u001b[39;49m\u001b[43mget\u001b[49m\u001b[43m(\u001b[49m\u001b[38;5;124;43m\"\u001b[39;49m\u001b[38;5;124;43mcompression\u001b[39;49m\u001b[38;5;124;43m\"\u001b[39;49m\u001b[43m,\u001b[49m\u001b[43m \u001b[49m\u001b[38;5;28;43;01mNone\u001b[39;49;00m\u001b[43m)\u001b[49m\u001b[43m,\u001b[49m\n\u001b[1;32m   1710\u001b[0m \u001b[43m    \u001b[49m\u001b[43mmemory_map\u001b[49m\u001b[38;5;241;43m=\u001b[39;49m\u001b[38;5;28;43mself\u001b[39;49m\u001b[38;5;241;43m.\u001b[39;49m\u001b[43moptions\u001b[49m\u001b[38;5;241;43m.\u001b[39;49m\u001b[43mget\u001b[49m\u001b[43m(\u001b[49m\u001b[38;5;124;43m\"\u001b[39;49m\u001b[38;5;124;43mmemory_map\u001b[39;49m\u001b[38;5;124;43m\"\u001b[39;49m\u001b[43m,\u001b[49m\u001b[43m \u001b[49m\u001b[38;5;28;43;01mFalse\u001b[39;49;00m\u001b[43m)\u001b[49m\u001b[43m,\u001b[49m\n\u001b[1;32m   1711\u001b[0m \u001b[43m    \u001b[49m\u001b[43mis_text\u001b[49m\u001b[38;5;241;43m=\u001b[39;49m\u001b[43mis_text\u001b[49m\u001b[43m,\u001b[49m\n\u001b[1;32m   1712\u001b[0m \u001b[43m    \u001b[49m\u001b[43merrors\u001b[49m\u001b[38;5;241;43m=\u001b[39;49m\u001b[38;5;28;43mself\u001b[39;49m\u001b[38;5;241;43m.\u001b[39;49m\u001b[43moptions\u001b[49m\u001b[38;5;241;43m.\u001b[39;49m\u001b[43mget\u001b[49m\u001b[43m(\u001b[49m\u001b[38;5;124;43m\"\u001b[39;49m\u001b[38;5;124;43mencoding_errors\u001b[39;49m\u001b[38;5;124;43m\"\u001b[39;49m\u001b[43m,\u001b[49m\u001b[43m \u001b[49m\u001b[38;5;124;43m\"\u001b[39;49m\u001b[38;5;124;43mstrict\u001b[39;49m\u001b[38;5;124;43m\"\u001b[39;49m\u001b[43m)\u001b[49m\u001b[43m,\u001b[49m\n\u001b[1;32m   1713\u001b[0m \u001b[43m    \u001b[49m\u001b[43mstorage_options\u001b[49m\u001b[38;5;241;43m=\u001b[39;49m\u001b[38;5;28;43mself\u001b[39;49m\u001b[38;5;241;43m.\u001b[39;49m\u001b[43moptions\u001b[49m\u001b[38;5;241;43m.\u001b[39;49m\u001b[43mget\u001b[49m\u001b[43m(\u001b[49m\u001b[38;5;124;43m\"\u001b[39;49m\u001b[38;5;124;43mstorage_options\u001b[39;49m\u001b[38;5;124;43m\"\u001b[39;49m\u001b[43m,\u001b[49m\u001b[43m \u001b[49m\u001b[38;5;28;43;01mNone\u001b[39;49;00m\u001b[43m)\u001b[49m\u001b[43m,\u001b[49m\n\u001b[1;32m   1714\u001b[0m \u001b[43m\u001b[49m\u001b[43m)\u001b[49m\n\u001b[1;32m   1715\u001b[0m \u001b[38;5;28;01massert\u001b[39;00m \u001b[38;5;28mself\u001b[39m\u001b[38;5;241m.\u001b[39mhandles \u001b[38;5;129;01mis\u001b[39;00m \u001b[38;5;129;01mnot\u001b[39;00m \u001b[38;5;28;01mNone\u001b[39;00m\n\u001b[1;32m   1716\u001b[0m f \u001b[38;5;241m=\u001b[39m \u001b[38;5;28mself\u001b[39m\u001b[38;5;241m.\u001b[39mhandles\u001b[38;5;241m.\u001b[39mhandle\n",
      "File \u001b[0;32m~/miniconda3/envs/sim_env/lib/python3.10/site-packages/pandas/io/common.py:863\u001b[0m, in \u001b[0;36mget_handle\u001b[0;34m(path_or_buf, mode, encoding, compression, memory_map, is_text, errors, storage_options)\u001b[0m\n\u001b[1;32m    858\u001b[0m \u001b[38;5;28;01melif\u001b[39;00m \u001b[38;5;28misinstance\u001b[39m(handle, \u001b[38;5;28mstr\u001b[39m):\n\u001b[1;32m    859\u001b[0m     \u001b[38;5;66;03m# Check whether the filename is to be opened in binary mode.\u001b[39;00m\n\u001b[1;32m    860\u001b[0m     \u001b[38;5;66;03m# Binary mode does not support 'encoding' and 'newline'.\u001b[39;00m\n\u001b[1;32m    861\u001b[0m     \u001b[38;5;28;01mif\u001b[39;00m ioargs\u001b[38;5;241m.\u001b[39mencoding \u001b[38;5;129;01mand\u001b[39;00m \u001b[38;5;124m\"\u001b[39m\u001b[38;5;124mb\u001b[39m\u001b[38;5;124m\"\u001b[39m \u001b[38;5;129;01mnot\u001b[39;00m \u001b[38;5;129;01min\u001b[39;00m ioargs\u001b[38;5;241m.\u001b[39mmode:\n\u001b[1;32m    862\u001b[0m         \u001b[38;5;66;03m# Encoding\u001b[39;00m\n\u001b[0;32m--> 863\u001b[0m         handle \u001b[38;5;241m=\u001b[39m \u001b[38;5;28;43mopen\u001b[39;49m\u001b[43m(\u001b[49m\n\u001b[1;32m    864\u001b[0m \u001b[43m            \u001b[49m\u001b[43mhandle\u001b[49m\u001b[43m,\u001b[49m\n\u001b[1;32m    865\u001b[0m \u001b[43m            \u001b[49m\u001b[43mioargs\u001b[49m\u001b[38;5;241;43m.\u001b[39;49m\u001b[43mmode\u001b[49m\u001b[43m,\u001b[49m\n\u001b[1;32m    866\u001b[0m \u001b[43m            \u001b[49m\u001b[43mencoding\u001b[49m\u001b[38;5;241;43m=\u001b[39;49m\u001b[43mioargs\u001b[49m\u001b[38;5;241;43m.\u001b[39;49m\u001b[43mencoding\u001b[49m\u001b[43m,\u001b[49m\n\u001b[1;32m    867\u001b[0m \u001b[43m            \u001b[49m\u001b[43merrors\u001b[49m\u001b[38;5;241;43m=\u001b[39;49m\u001b[43merrors\u001b[49m\u001b[43m,\u001b[49m\n\u001b[1;32m    868\u001b[0m \u001b[43m            \u001b[49m\u001b[43mnewline\u001b[49m\u001b[38;5;241;43m=\u001b[39;49m\u001b[38;5;124;43m\"\u001b[39;49m\u001b[38;5;124;43m\"\u001b[39;49m\u001b[43m,\u001b[49m\n\u001b[1;32m    869\u001b[0m \u001b[43m        \u001b[49m\u001b[43m)\u001b[49m\n\u001b[1;32m    870\u001b[0m     \u001b[38;5;28;01melse\u001b[39;00m:\n\u001b[1;32m    871\u001b[0m         \u001b[38;5;66;03m# Binary mode\u001b[39;00m\n\u001b[1;32m    872\u001b[0m         handle \u001b[38;5;241m=\u001b[39m \u001b[38;5;28mopen\u001b[39m(handle, ioargs\u001b[38;5;241m.\u001b[39mmode)\n",
      "\u001b[0;31mFileNotFoundError\u001b[0m: [Errno 2] No such file or directory: '/Volumes/TOSHIBA EXT/L5NeuronSimulation_new/L5NeuronSimulation/MorphAnalysis/Segments.csv'"
     ]
    }
   ],
   "source": [
    "segs = pd.read_csv('/Volumes/TOSHIBA EXT/L5NeuronSimulation_new/L5NeuronSimulation/MorphAnalysis/Segments.csv')\n",
    "segs_degrees = pd.read_csv('SegmentsDegrees.csv').groupby(['Type','Sec ID'])['Degrees'].max().reset_index()\n",
    "segs['segmentID'] = segs.index\n",
    "segs = segs.set_index(['Type','Sec ID']).join(segs_degrees.set_index(['Type','Sec ID'])).reset_index()\n",
    "\n",
    "segs['Sec ID'] = segs['Sec ID'].astype(int)\n",
    "segs['X'] = segs['X'].astype(float)\n",
    "segs['Elec_distanceQ'] = 'None'\n",
    "\n",
    "segs.loc[segs.Type=='dend','Elec_distanceQ'] = pd.qcut(segs.loc[segs.Type=='dend','Elec_distance'], 10, labels=False)\n",
    "segs.loc[segs.Type=='apic','Elec_distanceQ'] = pd.qcut(segs.loc[segs.Type=='apic','Elec_distance'], 10, labels=False)"
   ]
  },
  {
   "cell_type": "code",
   "execution_count": null,
   "metadata": {},
   "outputs": [],
   "source": [
    "plt.scatter(segs['Coord X'], segs['Coord Y'])\n",
    "plt.scatter(segs.loc[(segs['Coord Y']>500) & (segs['Coord Y']<700),'Coord X'],\n",
    "            segs.loc[(segs['Coord Y']>500) & (segs['Coord Y']<700),'Coord Y'])"
   ]
  },
  {
   "cell_type": "markdown",
   "metadata": {},
   "source": [
    "# Find Ca2+ spikes"
   ]
  },
  {
   "cell_type": "code",
   "execution_count": null,
   "metadata": {},
   "outputs": [],
   "source": [
    "ca_df = pd.DataFrame(columns=['segmentID','ca_lower_bound'])\n",
    "#&(segs['Coord Y']>630) & (segs['Coord Y']<830)\n",
    "segIDs = segs[(segs.Type=='apic')&(segs['Coord Y']>400)&(segs['Coord Y']<1000)]['segmentID']\n",
    "for p in segIDs:\n",
    "    print(p)\n",
    "    trace = hva['report']['biophysical']['data'][:,p]+\\\n",
    "                lva['report']['biophysical']['data'][:,p]+\\\n",
    "                ih['report']['biophysical']['data'][:,p]\n",
    "    m = np.mean(trace)\n",
    "    s = np.std(trace)\n",
    "\n",
    "    legit_uc = voltage_criterion(data=v['report']['biophysical']['data'][:-10000,p],v_thresh=-40, time_thresh=200)[1]\n",
    "    legit_dc = voltage_criterion(data=v['report']['biophysical']['data'][:-10000,p],v_thresh=-40, time_thresh=200)[-1]\n",
    "    \n",
    "    legit_uc_iso = legit_uc\n",
    "    \n",
    "    legit_dc_iso = legit_dc\n",
    "    \n",
    "    \n",
    "    if (len(legit_uc_iso)!=0) & (np.min(trace)!=0):\n",
    "        bnds, sum_curr = current_criterion(legit_uc_iso=legit_uc_iso, \n",
    "                                           legit_dc_iso=legit_dc_iso, \n",
    "                                           p=p, \n",
    "                                           control_inmda=hva['report']['biophysical']['data'])\n",
    "        ca_df = ca_df.append(pd.DataFrame({'segmentID':np.tile(p,len(bnds)),\n",
    "                                               'ca_lower_bound':np.array(bnds).reshape(-1,2)[:,0],\n",
    "                                               'ca_upper_bound':np.array(bnds).reshape(-1,2)[:,1],\n",
    "                                               'mag':sum_curr}))\n",
    "    \n",
    "    else:\n",
    "        ca_df = ca_df.append(pd.DataFrame({'segmentID':np.tile(p,1),\n",
    "                                               'ca_lower_bound':np.nan,\n",
    "                                               'ca_upper_bound':np.nan,\n",
    "                                               'mag':np.nan}))"
   ]
  },
  {
   "cell_type": "code",
   "execution_count": null,
   "metadata": {},
   "outputs": [],
   "source": [
    "ca_df.to_csv('ca_df.csv')\n",
    "#ca_df = pd.read_csv('ca_df.csv')"
   ]
  },
  {
   "cell_type": "code",
   "execution_count": null,
   "metadata": {},
   "outputs": [],
   "source": [
    "ca_df = pd.read_csv('ca_df.csv')\n",
    "p = np.random.choice(ca_df[(~pd.isnull(ca_df.ca_lower_bound))].index)\n",
    "ca_df.loc[p,'segmentID'], ca_df.loc[p,'ca_lower_bound']"
   ]
  },
  {
   "cell_type": "markdown",
   "metadata": {},
   "source": [
    "## Plotting morphology as heat maps"
   ]
  },
  {
   "cell_type": "code",
   "execution_count": null,
   "metadata": {},
   "outputs": [],
   "source": [
    "plt.figure(figsize=(4,10))\n",
    "for i in exc_syns[exc_syns.Type=='apic']['Sec ID'].unique():\n",
    "    plt.plot(exc_syns[(exc_syns.Type=='apic')&(exc_syns['Sec ID']==i)]['Coord X'],\n",
    "             exc_syns[(exc_syns.Type=='apic')&(exc_syns['Sec ID']==i)]['Coord Y'],\n",
    "             color='k',\n",
    "             linewidth = 2*exc_syns[(exc_syns.Type=='apic')&(exc_syns['Sec ID']==i)]['Section_diam'].unique())\n",
    "    \n",
    "for i in exc_syns[exc_syns.Type=='dend']['Sec ID'].unique():\n",
    "    plt.plot(exc_syns[(exc_syns.Type=='dend')&(exc_syns['Sec ID']==i)]['Coord X'],\n",
    "         exc_syns[(exc_syns.Type=='dend')&(exc_syns['Sec ID']==i)]['Coord Y'],\n",
    "             color='k',\n",
    "             linewidth = 2*exc_syns[(exc_syns.Type=='dend')&(exc_syns['Sec ID']==i)]['Section_diam'].unique())\n",
    "    \n",
    "\n",
    "plt.scatter(exc_syns[(exc_syns.Type=='soma')&(exc_syns['Sec ID']==0)].loc[2523,'Coord X'],\n",
    "         exc_syns[(exc_syns.Type=='soma')&(exc_syns['Sec ID']==0)].loc[2523,'Coord Y'],color='k',s=100)\n",
    "plt.savefig('morphology.svg')"
   ]
  },
  {
   "cell_type": "code",
   "execution_count": null,
   "metadata": {},
   "outputs": [],
   "source": [
    "color_field = 'Elec_distance'\n",
    "\n",
    "ax = plt.figure(figsize=(2,5))\n",
    "import matplotlib\n",
    "from matplotlib.colors import Normalize\n",
    "cmap = matplotlib.cm.get_cmap('jet')\n",
    "norm = matplotlib.colors.Normalize(vmin = np.log10(exc_syns['Elec_distance'].min()), vmax = np.log10(exc_syns['Elec_distance'].max()))\n",
    "\n",
    "for i in exc_syns[exc_syns.Type=='apic']['Sec ID'].unique():\n",
    "    section = exc_syns[(exc_syns.Type=='apic')&(exc_syns['Sec ID']==i)]\n",
    "    for j in section.index.tolist()[:-1]:\n",
    "        plt.plot(section.loc[j:j+1,'Coord X'],\n",
    "                 section.loc[j:j+1,'Coord Y'],\n",
    "             color=cmap(norm(np.log10(section.loc[j:j+1,color_field].values[0]))),\n",
    "             linewidth = 1*section.loc[j:j+1,'Section_diam'].unique())\n",
    "    \n",
    "for i in exc_syns[exc_syns.Type=='dend']['Sec ID'].unique():\n",
    "    section = exc_syns[(exc_syns.Type=='dend')&(exc_syns['Sec ID']==i)]\n",
    "    for j in section.index.tolist()[:-1]:\n",
    "        plt.plot(section.loc[j:j+1,'Coord X'],\n",
    "                 section.loc[j:j+1,'Coord Y'],\n",
    "             color=cmap(norm(np.log10(section.loc[j:j+1,color_field].values[0]))),\n",
    "             linewidth = 1*section.loc[j:j+1,'Section_diam'].unique())\n",
    "        \n",
    "plt.scatter(exc_syns[(exc_syns.Type=='soma')&(exc_syns['Sec ID']==0)].loc[2523,'Coord X'],\n",
    "         exc_syns[(exc_syns.Type=='soma')&(exc_syns['Sec ID']==0)].loc[2523,'Coord Y'],color='k',s=100)\n",
    "plt.vlines(110,400,500)\n",
    "plt.text(0,450,'100 um')\n",
    "plt.hlines(400,110,210)\n",
    "plt.text(110,350,'100 um')\n",
    "plt.xticks([])\n",
    "plt.yticks([])\n",
    "cbar = plt.colorbar(matplotlib.cm.ScalarMappable(norm=norm, cmap=cmap))\n",
    "#cbar.ax.set_ylabel('log(elec_distance)', rotation=270)\n",
    "\n",
    "#ax2.ax.set_title('log(elec_distance)',rotation=270)\n",
    "plt.box(False)\n",
    "plt.savefig('Elec_distance.svg')"
   ]
  },
  {
   "cell_type": "code",
   "execution_count": null,
   "metadata": {},
   "outputs": [],
   "source": [
    "color_field = 'Elec_distance_nexus'\n",
    "\n",
    "ax = plt.figure(figsize=(2,5))\n",
    "import matplotlib\n",
    "from matplotlib.colors import Normalize\n",
    "cmap = matplotlib.cm.get_cmap('jet')\n",
    "norm = matplotlib.colors.Normalize(vmin = np.log10(exc_syns['Elec_distance'].min()), vmax = np.log10(exc_syns['Elec_distance'].max()))\n",
    "\n",
    "for i in exc_syns[exc_syns.Type=='apic']['Sec ID'].unique():\n",
    "    section = exc_syns[(exc_syns.Type=='apic')&(exc_syns['Sec ID']==i)]\n",
    "    for j in section.index.tolist()[:-1]:\n",
    "        plt.plot(section.loc[j:j+1,'Coord X'],\n",
    "                 section.loc[j:j+1,'Coord Y'],\n",
    "             color=cmap(norm(np.log10(section.loc[j:j+1,color_field].values[0]))),\n",
    "             linewidth = 1*section.loc[j:j+1,'Section_diam'].unique())\n",
    "    \n",
    "for i in exc_syns[exc_syns.Type=='dend']['Sec ID'].unique():\n",
    "    section = exc_syns[(exc_syns.Type=='dend')&(exc_syns['Sec ID']==i)]\n",
    "    for j in section.index.tolist()[:-1]:\n",
    "        plt.plot(section.loc[j:j+1,'Coord X'],\n",
    "                 section.loc[j:j+1,'Coord Y'],\n",
    "             color=cmap(norm(np.log10(section.loc[j:j+1,color_field].values[0]))),\n",
    "             linewidth = 1*section.loc[j:j+1,'Section_diam'].unique())\n",
    "        \n",
    "plt.scatter(exc_syns[(exc_syns.Type=='soma')&(exc_syns['Sec ID']==0)].loc[2523,'Coord X'],\n",
    "         exc_syns[(exc_syns.Type=='soma')&(exc_syns['Sec ID']==0)].loc[2523,'Coord Y'],color='k',s=100)\n",
    "plt.vlines(110,400,500)\n",
    "plt.text(0,450,'100 um')\n",
    "plt.hlines(400,110,210)\n",
    "plt.text(110,350,'100 um')\n",
    "plt.xticks([])\n",
    "plt.yticks([])\n",
    "cbar = plt.colorbar(matplotlib.cm.ScalarMappable(norm=norm, cmap=cmap))\n",
    "#cbar.ax.set_ylabel('log(elec_distance)', rotation=270)\n",
    "\n",
    "#ax2.ax.set_title('log(elec_distance)',rotation=270)\n",
    "plt.box(False)\n",
    "plt.savefig('Elec_distance_nexus.svg')"
   ]
  },
  {
   "cell_type": "code",
   "execution_count": null,
   "metadata": {},
   "outputs": [],
   "source": []
  },
  {
   "cell_type": "code",
   "execution_count": null,
   "metadata": {},
   "outputs": [],
   "source": [
    "exc_syns.head()"
   ]
  },
  {
   "cell_type": "code",
   "execution_count": null,
   "metadata": {},
   "outputs": [],
   "source": [
    "exc_syns[(exc_syns['Coord Y']>500) & (exc_syns['Coord Y']<700)]['Sec ID'].unique()"
   ]
  },
  {
   "cell_type": "code",
   "execution_count": null,
   "metadata": {},
   "outputs": [],
   "source": [
    "plt.plot(exc_syns[exc_syns.Type=='apic']['Coord X'],\n",
    "         exc_syns[exc_syns.Type=='apic']['Coord Y'],'.')\n",
    "plt.plot(exc_syns.loc[(exc_syns.Type=='apic')&(exc_syns['Section_diam']>1.0)]['Coord X'],\n",
    "         exc_syns.loc[(exc_syns.Type=='apic')&(exc_syns['Section_diam']>1.0)]['Coord Y'],'r.')\n",
    "plt.plot(exc_syns.loc[(exc_syns.Type=='apic')&(exc_syns['Sec ID']==50)]['Coord X'],\n",
    "         exc_syns.loc[(exc_syns.Type=='apic')&(exc_syns['Sec ID']==50)]['Coord Y'],'m.')\n"
   ]
  },
  {
   "cell_type": "code",
   "execution_count": null,
   "metadata": {},
   "outputs": [],
   "source": [
    "plt.plot(exc_syns[exc_syns.Type=='apic']['Sec ID'], exc_syns[exc_syns.Type=='apic']['Section_diam'], '.')"
   ]
  },
  {
   "cell_type": "code",
   "execution_count": null,
   "metadata": {},
   "outputs": [],
   "source": [
    "exc_syns.loc[(pd.isnull(exc_syns.num_syns))|(exc_syns.num_syns>30),'num_syns'] = 0\n",
    "inh_syns.loc[pd.isnull(inh_syns.num_syns),'num_syns'] = 0"
   ]
  },
  {
   "cell_type": "code",
   "execution_count": null,
   "metadata": {},
   "outputs": [],
   "source": [
    "inh_syns_plot = inh_syns.copy()\n",
    "inh_syns_plot.loc[inh_syns.num_syns==0,'num_syns'] = 1e-1\n",
    "\n",
    "color_field = 'num_syns'\n",
    "\n",
    "ax = plt.figure(figsize=(2,5))\n",
    "import matplotlib\n",
    "from matplotlib.colors import Normalize\n",
    "cmap = matplotlib.cm.get_cmap('jet')\n",
    "norm = matplotlib.colors.Normalize(vmin = 0, vmax = 5)\n",
    "\n",
    "for i in inh_syns_plot[inh_syns_plot.Type=='apic']['Sec ID'].unique():\n",
    "    section = inh_syns_plot[(inh_syns_plot.Type=='apic')&(inh_syns_plot['Sec ID']==i)]\n",
    "    for j in section.index.tolist()[:-1]:\n",
    "        plt.plot(section.loc[j:j+1,'Coord X'],\n",
    "                 section.loc[j:j+1,'Coord Y'],\n",
    "             color=cmap(norm(section.loc[j:j+1,color_field].values[0])),\n",
    "             linewidth = 1*section.loc[j:j+1,'Section_diam'].unique())\n",
    "    \n",
    "for i in inh_syns_plot[inh_syns_plot.Type=='dend']['Sec ID'].unique():\n",
    "    section = inh_syns_plot[(inh_syns_plot.Type=='dend')&(inh_syns_plot['Sec ID']==i)]\n",
    "    for j in section.index.tolist()[:-1]:\n",
    "        plt.plot(section.loc[j:j+1,'Coord X'],\n",
    "                 section.loc[j:j+1,'Coord Y'],\n",
    "             color=cmap(norm(section.loc[j:j+1,color_field].values[0])),\n",
    "             linewidth = 1*section.loc[j:j+1,'Section_diam'].unique())\n",
    "        \n",
    "plt.scatter(inh_syns_plot[(inh_syns_plot.Type=='soma')&(inh_syns_plot['Sec ID']==0)].loc[2523,'Coord X'],\n",
    "         inh_syns_plot[(inh_syns_plot.Type=='soma')&(inh_syns_plot['Sec ID']==0)].loc[2523,'Coord Y'],color='k',s=100)\n",
    "plt.vlines(110,400,500)\n",
    "plt.text(0,450,'100 um')\n",
    "plt.hlines(400,110,210)\n",
    "plt.text(110,350,'100 um')\n",
    "plt.xticks([])\n",
    "plt.yticks([])\n",
    "cbar = plt.colorbar(matplotlib.cm.ScalarMappable(norm=norm, cmap=cmap))\n",
    "#cbar.ax.set_ylabel('log(elec_distance)', rotation=270)\n",
    "\n",
    "#ax2.ax.set_title('log(elec_distance)',rotation=270)\n",
    "plt.box(False)\n",
    "plt.savefig('inh_syns.svg')"
   ]
  },
  {
   "cell_type": "code",
   "execution_count": null,
   "metadata": {},
   "outputs": [],
   "source": [
    "inh_syns_plot = inh_syns.copy()\n",
    "inh_syns_plot.loc[inh_syns.num_syns==0,'num_syns'] = 1e-1\n",
    "\n",
    "color_field = 'num_syns'\n",
    "\n",
    "ax = plt.figure(figsize=(4,4))\n",
    "import matplotlib\n",
    "from matplotlib.colors import Normalize\n",
    "cmap = matplotlib.cm.get_cmap('jet')\n",
    "norm = matplotlib.colors.Normalize(vmin = 0, vmax = 0.8)\n",
    "\n",
    "for i in inh_syns_plot[inh_syns_plot.Type=='apic']['Sec ID'].unique():\n",
    "    section_L = inh_syns_plot[(inh_syns_plot.Type=='apic')&(inh_syns_plot['Sec ID']==i)]['Section_L'].unique()[0]\n",
    "    plt.plot(inh_syns_plot[(inh_syns_plot.Type=='apic')&(inh_syns_plot['Sec ID']==i)]['Coord X'],\n",
    "             inh_syns_plot[(inh_syns_plot.Type=='apic')&(inh_syns_plot['Sec ID']==i)]['Coord Y'],\n",
    "             color=cmap(norm(inh_syns_plot[(inh_syns_plot.Type=='apic')&(inh_syns_plot['Sec ID']==i)][color_field].sum()/section_L)),\n",
    "             linewidth = 1*inh_syns_plot[(inh_syns_plot.Type=='apic')&(inh_syns_plot['Sec ID']==i)]['Section_diam'].unique())\n",
    "    \n",
    "for i in inh_syns_plot[inh_syns_plot.Type=='dend']['Sec ID'].unique():\n",
    "    section_L = inh_syns_plot[(inh_syns_plot.Type=='dend')&(inh_syns_plot['Sec ID']==i)]['Section_L'].unique()[0]\n",
    "    plt.plot(inh_syns_plot[(inh_syns_plot.Type=='dend')&(inh_syns_plot['Sec ID']==i)]['Coord X'],\n",
    "             inh_syns_plot[(inh_syns_plot.Type=='dend')&(inh_syns_plot['Sec ID']==i)]['Coord Y'],\n",
    "             color=cmap(norm(inh_syns_plot[(inh_syns_plot.Type=='dend')&(inh_syns_plot['Sec ID']==i)][color_field].sum()/section_L)),\n",
    "             linewidth = 1*inh_syns_plot[(inh_syns_plot.Type=='dend')&(inh_syns_plot['Sec ID']==i)]['Section_diam'].unique())\n",
    "    \n",
    "for i in inh_syns_plot[inh_syns_plot.Type=='soma']['Sec ID'].unique():\n",
    "    section_L = inh_syns_plot[(inh_syns_plot.Type=='soma')&(inh_syns_plot['Sec ID']==i)]['Section_L'].unique()[0]\n",
    "    plt.plot(inh_syns_plot[(inh_syns_plot.Type=='soma')&(inh_syns_plot['Sec ID']==i)]['Coord X'],\n",
    "             inh_syns_plot[(inh_syns_plot.Type=='soma')&(inh_syns_plot['Sec ID']==i)]['Coord Y'],\n",
    "             color=cmap(norm(inh_syns_plot[(inh_syns_plot.Type=='soma')&(inh_syns_plot['Sec ID']==i)][color_field].sum()/section_L)),\n",
    "             linewidth = 1*inh_syns_plot[(inh_syns_plot.Type=='soma')&(inh_syns_plot['Sec ID']==i)]['Section_diam'].unique())\n",
    "#    \n",
    "#\n",
    "#plt.scatter(exc_syns[(exc_syns.Type=='soma')&(exc_syns['Sec ID']==0)].loc[2523,'Coord X'],\n",
    "#         exc_syns[(exc_syns.Type=='soma')&(exc_syns['Sec ID']==0)].loc[2523,'Coord Y'],color='k',s=100)\n",
    "plt.xticks([])\n",
    "plt.yticks([])\n",
    "cbar = plt.colorbar(matplotlib.cm.ScalarMappable(norm=norm, cmap=cmap))\n",
    "#cbar = plt.colorbar()\n",
    "#cbar.ax.set_ylabel('log(num. inh. synapses)', rotation=270)\n",
    "\n",
    "#ax2.ax.set_title('log(elec_distance)',rotation=270)\n",
    "plt.box(False)\n",
    "plt.ylim(-50,50)\n",
    "plt.xlim(-50,50)\n",
    "plt.savefig('inh_syns_zoom.svg')"
   ]
  },
  {
   "cell_type": "code",
   "execution_count": null,
   "metadata": {},
   "outputs": [],
   "source": [
    "color_field = 'num_syns'\n",
    "minval = np.log10(exc_syns[color_field].min())\n",
    "\n",
    "ax = plt.figure(figsize=(2,5))\n",
    "import matplotlib\n",
    "from matplotlib.colors import Normalize\n",
    "cmap = matplotlib.cm.get_cmap('jet')\n",
    "norm = matplotlib.colors.Normalize(vmin = 0, vmax = 8)\n",
    "\n",
    "for i in exc_syns[exc_syns.Type=='apic']['Sec ID'].unique():\n",
    "    section_L = exc_syns[(exc_syns.Type=='apic')&(exc_syns['Sec ID']==i)]['Section_L'].unique()[0]\n",
    "    plt.plot(exc_syns[(exc_syns.Type=='apic')&(exc_syns['Sec ID']==i)]['Coord X'],\n",
    "             exc_syns[(exc_syns.Type=='apic')&(exc_syns['Sec ID']==i)]['Coord Y'],\n",
    "             color=cmap(norm(exc_syns[(exc_syns.Type=='apic')&(exc_syns['Sec ID']==i)][color_field].sum()/section_L)),\n",
    "             linewidth = 1*exc_syns[(exc_syns.Type=='apic')&(exc_syns['Sec ID']==i)]['Section_diam'].unique())\n",
    "    \n",
    "for i in exc_syns[exc_syns.Type=='dend']['Sec ID'].unique():\n",
    "    section_L = exc_syns[(exc_syns.Type=='dend')&(exc_syns['Sec ID']==i)]['Section_L'].unique()[0]\n",
    "    plt.plot(exc_syns[(exc_syns.Type=='dend')&(exc_syns['Sec ID']==i)]['Coord X'],\n",
    "             exc_syns[(exc_syns.Type=='dend')&(exc_syns['Sec ID']==i)]['Coord Y'],\n",
    "             color=cmap(norm(exc_syns[(exc_syns.Type=='dend')&(exc_syns['Sec ID']==i)][color_field].sum()/section_L)),\n",
    "             linewidth = 1*exc_syns[(exc_syns.Type=='dend')&(exc_syns['Sec ID']==i)]['Section_diam'].unique())\n",
    "#    \n",
    "#\n",
    "plt.scatter(exc_syns[(exc_syns.Type=='soma')&(exc_syns['Sec ID']==0)].loc[2523,'Coord X'],\n",
    "         exc_syns[(exc_syns.Type=='soma')&(exc_syns['Sec ID']==0)].loc[2523,'Coord Y'],color='k',s=100)\n",
    "plt.vlines(110,400,500)\n",
    "plt.text(0,450,'100 um')\n",
    "plt.hlines(400,110,210)\n",
    "plt.text(110,350,'100 um')\n",
    "plt.xticks([])\n",
    "plt.yticks([])\n",
    "cbar = plt.colorbar(matplotlib.cm.ScalarMappable(norm=norm, cmap=cmap))\n",
    "#cbar.ax.set_ylabel('log(elec_distance)', rotation=270)\n",
    "\n",
    "#ax2.ax.set_title('log(elec_distance)',rotation=270)\n",
    "plt.box(False)\n",
    "plt.savefig('exc_syns.svg')"
   ]
  },
  {
   "cell_type": "code",
   "execution_count": null,
   "metadata": {},
   "outputs": [],
   "source": [
    "segs = pd.read_csv('/Volumes/TOSHIBA EXT/L5NeuronSimulation_new/L5NeuronSimulation/MorphAnalysis/Segments.csv')"
   ]
  },
  {
   "cell_type": "code",
   "execution_count": null,
   "metadata": {},
   "outputs": [],
   "source": [
    "segs['median_v'] = 0"
   ]
  },
  {
   "cell_type": "code",
   "execution_count": null,
   "metadata": {},
   "outputs": [],
   "source": [
    "for s in segs.index:\n",
    "    print(s)\n",
    "    segs.loc[s,'median_v'] = np.median(v['report']['biophysical']['data'][1000:10000,s])"
   ]
  },
  {
   "cell_type": "code",
   "execution_count": null,
   "metadata": {},
   "outputs": [],
   "source": [
    "segs.head()"
   ]
  },
  {
   "cell_type": "code",
   "execution_count": null,
   "metadata": {},
   "outputs": [],
   "source": [
    "color_field = 'median_v'\n",
    "\n",
    "ax = plt.figure(figsize=(2,5))\n",
    "import matplotlib\n",
    "from matplotlib.colors import Normalize\n",
    "cmap = matplotlib.cm.get_cmap('jet')\n",
    "norm = matplotlib.colors.Normalize(vmin = -80, vmax = 0)\n",
    "\n",
    "for i in segs[segs.Type=='apic']['Sec ID'].unique():\n",
    "    section_L = segs[(segs.Type=='apic')&(segs['Sec ID']==i)]['Section_L'].unique()[0]\n",
    "    plt.plot(segs[(segs.Type=='apic')&(segs['Sec ID']==i)]['Coord X'],\n",
    "             segs[(segs.Type=='apic')&(segs['Sec ID']==i)]['Coord Y'],\n",
    "             color=cmap(norm(segs[(segs.Type=='apic')&(segs['Sec ID']==i)][color_field].mean())),\n",
    "             linewidth = 1*segs[(segs.Type=='apic')&(segs['Sec ID']==i)]['Section_diam'].unique())\n",
    "    \n",
    "for i in segs[segs.Type=='dend']['Sec ID'].unique():\n",
    "    section_L = segs[(segs.Type=='dend')&(segs['Sec ID']==i)]['Section_L'].unique()[0]\n",
    "    plt.plot(segs[(segs.Type=='dend')&(segs['Sec ID']==i)]['Coord X'],\n",
    "             segs[(segs.Type=='dend')&(segs['Sec ID']==i)]['Coord Y'],\n",
    "             color=cmap(norm(segs[(segs.Type=='dend')&(segs['Sec ID']==i)][color_field].mean())),\n",
    "             linewidth = 1*segs[(segs.Type=='dend')&(segs['Sec ID']==i)]['Section_diam'].unique())\n",
    "#    \n",
    "#\n",
    "plt.scatter(exc_syns[(exc_syns.Type=='soma')&(exc_syns['Sec ID']==0)].loc[2523,'Coord X'],\n",
    "         exc_syns[(exc_syns.Type=='soma')&(exc_syns['Sec ID']==0)].loc[2523,'Coord Y'],color='k',s=100)\n",
    "plt.vlines(110,400,500)\n",
    "plt.text(0,450,'100 um')\n",
    "plt.hlines(400,110,210)\n",
    "plt.text(110,350,'100 um')\n",
    "plt.xticks([])\n",
    "plt.yticks([])\n",
    "cbar = plt.colorbar(matplotlib.cm.ScalarMappable(norm=norm, cmap=cmap))\n",
    "#cbar.ax.set_ylabel('log(elec_distance)', rotation=270)\n",
    "\n",
    "#ax2.ax.set_title('log(elec_distance)',rotation=270)\n",
    "plt.box(False)\n",
    "plt.savefig('median_v.svg')"
   ]
  },
  {
   "cell_type": "markdown",
   "metadata": {},
   "source": [
    "## Plotting morphology and voltage traces"
   ]
  },
  {
   "cell_type": "code",
   "execution_count": null,
   "metadata": {},
   "outputs": [],
   "source": [
    "plt.figure(figsize=(3,10))\n",
    "for i in exc_syns[exc_syns.Type=='apic']['Sec ID'].unique():\n",
    "    plt.plot(exc_syns[(exc_syns.Type=='apic')&(exc_syns['Sec ID']==i)]['Coord X'],\n",
    "             exc_syns[(exc_syns.Type=='apic')&(exc_syns['Sec ID']==i)]['Coord Y'],\n",
    "             color='k',\n",
    "             linewidth = 2*exc_syns[(exc_syns.Type=='apic')&(exc_syns['Sec ID']==i)]['Section_diam'].unique())\n",
    "    \n",
    "for i in exc_syns[exc_syns.Type=='dend']['Sec ID'].unique():\n",
    "    plt.plot(exc_syns[(exc_syns.Type=='dend')&(exc_syns['Sec ID']==i)]['Coord X'],\n",
    "         exc_syns[(exc_syns.Type=='dend')&(exc_syns['Sec ID']==i)]['Coord Y'],\n",
    "             color='k',\n",
    "             linewidth = 2*exc_syns[(exc_syns.Type=='dend')&(exc_syns['Sec ID']==i)]['Section_diam'].unique())\n",
    "    \n",
    "\n",
    "plt.scatter(exc_syns[(exc_syns.Type=='soma')&(exc_syns['Sec ID']==0)].loc[2523,'Coord X'],\n",
    "         exc_syns[(exc_syns.Type=='soma')&(exc_syns['Sec ID']==0)].loc[2523,'Coord Y'],color='k',s=100)\n",
    "\n",
    "plt.vlines(110,400,500)\n",
    "plt.text(0,450,'100 um')\n",
    "plt.hlines(400,110,210)\n",
    "plt.text(110,350,'100 um')\n",
    "plt.xticks([])\n",
    "plt.yticks([])\n",
    "plt.box(False)\n",
    "plt.plot(segs.loc[segs.segmentID==1959,'Coord X'], \n",
    "         segs.loc[segs.segmentID==1959,'Coord Y'],\n",
    "         'r*')\n",
    "plt.plot(segs.loc[segs.segmentID==1112,'Coord X'], \n",
    "         segs.loc[segs.segmentID==1112,'Coord Y'],\n",
    "         'b*')\n",
    "plt.plot(segs.loc[segs.segmentID==1046,'Coord X'], \n",
    "         segs.loc[segs.segmentID==1046,'Coord Y'],\n",
    "         'm*')\n",
    "plt.plot(segs.loc[segs.segmentID==1500,'Coord X'], \n",
    "         segs.loc[segs.segmentID==1500,'Coord Y'],\n",
    "         'g*')\n",
    "plt.plot(segs.loc[segs.segmentID==680,'Coord X'], \n",
    "         segs.loc[segs.segmentID==680,'Coord Y'],\n",
    "         '*',color='orange')\n",
    "plt.plot(segs.loc[segs.segmentID==482,'Coord X'], \n",
    "         segs.loc[segs.segmentID==482,'Coord Y'],\n",
    "         '*',color='grey')\n",
    "plt.savefig('fig1A.svg')"
   ]
  },
  {
   "cell_type": "code",
   "execution_count": null,
   "metadata": {},
   "outputs": [],
   "source": [
    "na_df = pd.read_csv('na_df.csv')\n",
    "nmda_df = pd.read_csv('nmda_df.csv')\n",
    "ca_df = pd.read_csv('ca_df.csv')"
   ]
  },
  {
   "cell_type": "code",
   "execution_count": null,
   "metadata": {},
   "outputs": [],
   "source": [
    "t = 482\n",
    "\n",
    "plt.figure(figsize=(10,4))\n",
    "s1 = 1147000#np.random.choice(range(v['report']['biophysical']['data'].shape[0]))\n",
    "plt.plot(np.arange(0,400,.1),v['report']['biophysical']['data'][s1:s1+4000,t],color='grey')\n",
    "na_spks = na_df[(na_df.segmentID==t)&(na_df.na_lower_bound>s1) & (na_df.na_lower_bound<s1+4000)]\n",
    "plt.plot(np.arange(0,400,.1)[na_spks['na_lower_bound'].astype(int).values-s1],\n",
    "         v['report']['biophysical']['data'][na_spks['na_lower_bound'].astype(int).values,t],'r*')\n",
    "nmda_spks = nmda_df[(nmda_df.segmentID==t)&(nmda_df.nmda_lower_bound>s1) & (nmda_df.nmda_lower_bound<s1+4000)]\n",
    "plt.plot(np.arange(0,400,.1)[nmda_spks['nmda_lower_bound'].astype(int).values-s1],\n",
    "         v['report']['biophysical']['data'][nmda_spks['nmda_lower_bound'].astype(int).values,t],'b*')\n",
    "plt.hlines(-60,0,400,color='grey',linestyle='dashed',alpha=0.2)\n",
    "plt.text(10,-57,'-60 mV')\n",
    "#1433413, 1161455\n",
    "plt.hlines(-50,70,100)\n",
    "plt.text(70,-55,'30 ms')\n",
    "plt.vlines(70,-50,-40)\n",
    "plt.text(40,-45,'10 mV')\n",
    "plt.box(False)\n",
    "plt.xticks([])\n",
    "plt.yticks([])\n",
    "plt.savefig('fig2G.svg')"
   ]
  },
  {
   "cell_type": "code",
   "execution_count": null,
   "metadata": {},
   "outputs": [],
   "source": [
    "segs[segs.Type=='soma']"
   ]
  },
  {
   "cell_type": "code",
   "execution_count": null,
   "metadata": {},
   "outputs": [],
   "source": [
    "plt.figure(figsize=(10,4))\n",
    "s1 = 1147000#np.random.choice(range(v['report']['biophysical']['data'].shape[0]))\n",
    "t = 88\n",
    "\n",
    "plt.plot(np.arange(0,400,.1),v['report']['biophysical']['data'][s1:s1+4000,t],color='orange')\n",
    "na_spks = na_df[(na_df.segmentID==t)&(na_df.na_lower_bound>s1) & (na_df.na_lower_bound<s1+4000)]\n",
    "plt.plot(np.arange(0,400,.1)[na_spks['na_lower_bound'].astype(int).values-s1],\n",
    "         v['report']['biophysical']['data'][na_spks['na_lower_bound'].astype(int).values,t],'r*')\n",
    "nmda_spks = nmda_df[(nmda_df.segmentID==t)&(nmda_df.nmda_lower_bound>s1) & (nmda_df.nmda_lower_bound<s1+4000)]\n",
    "plt.plot(np.arange(0,400,.1)[nmda_spks['nmda_lower_bound'].astype(int).values-s1],\n",
    "         v['report']['biophysical']['data'][nmda_spks['nmda_lower_bound'].astype(int).values,t],'b*')\n",
    "plt.hlines(-60,0,400,color='orange',linestyle='dashed',alpha=0.2)\n",
    "plt.text(10,-57,'-60 mV')\n",
    "#1433413, 1161455\n",
    "plt.hlines(-50,70,100)\n",
    "plt.text(70,-55,'30 ms')\n",
    "plt.vlines(70,-50,-40)\n",
    "plt.text(40,-45,'10 mV')\n",
    "plt.box(False)\n",
    "plt.xticks([])\n",
    "plt.yticks([])\n",
    "\n",
    "plt.savefig('fig2F.svg')"
   ]
  },
  {
   "cell_type": "code",
   "execution_count": null,
   "metadata": {},
   "outputs": [],
   "source": [
    "plt.figure(figsize=(10,4))\n",
    "plt.plot(np.arange(0,400,.1),nmda['report']['biophysical']['data'][s1:s1+4000,t],color='b',alpha=0.1)\n",
    "plt.vlines(400,0,0.003,color='b')\n",
    "plt.text(405,0.002,'0.003')\n",
    "plt.box(False)\n",
    "plt.xticks([])\n",
    "plt.yticks([])\n",
    "plt.twinx()\n",
    "plt.plot(np.arange(0,400,.1),100*na['report']['biophysical']['data'][s1:s1+4000,t],color='r',alpha=0.1)\n",
    "plt.vlines(300,0.09,0.12,color='r')\n",
    "plt.text(305,0.1,'0.03')\n",
    "plt.box(False)\n",
    "plt.xticks([])\n",
    "plt.yticks([])\n",
    "plt.savefig('fig2F_na_nmda.svg')"
   ]
  },
  {
   "cell_type": "code",
   "execution_count": null,
   "metadata": {},
   "outputs": [],
   "source": [
    "plt.figure(figsize=(10,4))\n",
    "s1 = 1147000#np.random.choice(range(v['report']['biophysical']['data'].shape[0]))\n",
    "plt.plot(np.arange(0,400,.1),v['report']['biophysical']['data'][s1:s1+4000,0],color='k')\n",
    "plt.hlines(-60,0,400,color='k',linestyle='dashed',alpha=0.2)\n",
    "plt.text(10,-57,'-60 mV')\n",
    "#1433413, 1161455\n",
    "plt.hlines(-50,70,100)\n",
    "plt.text(70,-55,'30 ms')\n",
    "plt.vlines(70,-50,-40)\n",
    "plt.text(40,-45,'10 mV')\n",
    "plt.box(False)\n",
    "plt.xticks([])\n",
    "plt.yticks([])\n",
    "plt.savefig('fig2E.svg')"
   ]
  },
  {
   "cell_type": "code",
   "execution_count": null,
   "metadata": {},
   "outputs": [],
   "source": [
    "ca_df[ca_df.segmentID==1500]['ca_lower_bound'].values"
   ]
  },
  {
   "cell_type": "code",
   "execution_count": null,
   "metadata": {},
   "outputs": [],
   "source": [
    "plt.figure(figsize=(10,4))\n",
    "s1 = 1147000#np.random.choice(range(v['report']['biophysical']['data'].shape[0]))\n",
    "t = 1500\n",
    "plt.plot(np.arange(0,400,.1),v['report']['biophysical']['data'][s1:s1+4000,t],color='g')\n",
    "na_spks = na_df[(na_df.segmentID==t)&(na_df.na_lower_bound>s1) & (na_df.na_lower_bound<s1+4000)]\n",
    "plt.plot(np.arange(0,400,.1)[na_spks['na_lower_bound'].astype(int).values-s1],\n",
    "         v['report']['biophysical']['data'][na_spks['na_lower_bound'].astype(int).values,t],'r*')\n",
    "nmda_spks = nmda_df[(nmda_df.segmentID==t)&(nmda_df.nmda_lower_bound>s1) & (nmda_df.nmda_lower_bound<s1+4000)]\n",
    "plt.plot(np.arange(0,400,.1)[nmda_spks['nmda_lower_bound'].astype(int).values-s1],\n",
    "         v['report']['biophysical']['data'][nmda_spks['nmda_lower_bound'].astype(int).values,t],'b*')\n",
    "ca_spks = ca_df[(ca_df.segmentID==t)&(ca_df.ca_lower_bound>s1) & (ca_df.ca_lower_bound<s1+4000)]\n",
    "plt.plot(np.arange(0,400,.1)[ca_spks['ca_lower_bound'].astype(int).values-s1],\n",
    "         v['report']['biophysical']['data'][ca_spks['ca_lower_bound'].astype(int).values,t],'m*')\n",
    "plt.hlines(-60,0,400,color='g',linestyle='dashed',alpha=0.2)\n",
    "plt.text(10,-57,'-60 mV')\n",
    "#1433413, 1161455\n",
    "plt.hlines(-50,70,100)\n",
    "plt.text(70,-55,'30 ms')\n",
    "plt.vlines(70,-50,-40)\n",
    "plt.text(40,-45,'10 mV')\n",
    "plt.box(False)\n",
    "plt.xticks([])\n",
    "plt.yticks([])\n",
    "plt.savefig('fig2C.svg')"
   ]
  },
  {
   "cell_type": "code",
   "execution_count": null,
   "metadata": {},
   "outputs": [],
   "source": [
    "plt.figure(figsize=(10,4))\n",
    "s1 = 1147000#np.random.choice(range(v['report']['biophysical']['data'].shape[0]))\n",
    "t = 1046\n",
    "plt.plot(np.arange(0,400,.1),v['report']['biophysical']['data'][s1:s1+4000,t],color='m')\n",
    "na_spks = na_df[(na_df.segmentID==t)&(na_df.na_lower_bound>s1) & (na_df.na_lower_bound<s1+4000)]\n",
    "plt.plot(np.arange(0,400,.1)[na_spks['na_lower_bound'].astype(int).values-s1],\n",
    "         v['report']['biophysical']['data'][na_spks['na_lower_bound'].astype(int).values,t],'r*')\n",
    "nmda_spks = nmda_df[(nmda_df.segmentID==t)&(nmda_df.nmda_lower_bound>s1) & (nmda_df.nmda_lower_bound<s1+4000)]\n",
    "plt.plot(np.arange(0,400,.1)[nmda_spks['nmda_lower_bound'].astype(int).values-s1],\n",
    "         v['report']['biophysical']['data'][nmda_spks['nmda_lower_bound'].astype(int).values,t],'b*')\n",
    "plt.hlines(-60,0,400,color='m',linestyle='dashed',alpha=0.2)\n",
    "plt.text(10,-57,'-60 mV')\n",
    "#1433413, 1161455\n",
    "plt.hlines(-50,70,100)\n",
    "plt.text(70,-55,'30 ms')\n",
    "plt.vlines(70,-50,-40)\n",
    "plt.text(40,-45,'10 mV')\n",
    "plt.box(False)\n",
    "plt.xticks([])\n",
    "plt.yticks([])\n",
    "plt.savefig('fig2D.svg')"
   ]
  },
  {
   "cell_type": "code",
   "execution_count": null,
   "metadata": {},
   "outputs": [],
   "source": [
    "plt.figure(figsize=(10,4))\n",
    "s1 = 1147000#np.random.choice(range(v['report']['biophysical']['data'].shape[0]))\n",
    "t = 1249\n",
    "plt.plot(np.arange(0,400,.1),v['report']['biophysical']['data'][s1:s1+4000,t],color='c')\n",
    "na_spks = na_df[(na_df.segmentID==t)&(na_df.na_lower_bound>s1) & (na_df.na_lower_bound<s1+4000)]\n",
    "plt.plot(np.arange(0,400,.1)[na_spks['na_lower_bound'].astype(int).values-s1],\n",
    "         v['report']['biophysical']['data'][na_spks['na_lower_bound'].astype(int).values,t],'r*')\n",
    "nmda_spks = nmda_df[(nmda_df.segmentID==t)&(nmda_df.nmda_lower_bound>s1) & (nmda_df.nmda_lower_bound<s1+4000)]\n",
    "plt.plot(np.arange(0,400,.1)[nmda_spks['nmda_lower_bound'].astype(int).values-s1],\n",
    "         v['report']['biophysical']['data'][nmda_spks['nmda_lower_bound'].astype(int).values,t],'b*')\n",
    "plt.hlines(-60,0,400,color='c',linestyle='dashed',alpha=0.2)\n",
    "plt.text(10,-57,'-60 mV')\n",
    "#1433413, 1161455\n",
    "plt.hlines(-50,70,100)\n",
    "plt.text(70,-55,'30 ms')\n",
    "plt.vlines(70,-50,-40)\n",
    "plt.text(40,-45,'10 mV')\n",
    "plt.box(False)\n",
    "plt.xticks([])\n",
    "plt.yticks([])\n",
    "plt.savefig('fig2B.svg')"
   ]
  },
  {
   "cell_type": "code",
   "execution_count": null,
   "metadata": {},
   "outputs": [],
   "source": [
    "plt.figure(figsize=(10,4))\n",
    "s1 = 1147000#np.random.choice(range(v['report']['biophysical']['data'].shape[0]))\n",
    "t = 1800\n",
    "plt.plot(np.arange(0,400,.1),v['report']['biophysical']['data'][s1:s1+4000,t],color='r')\n",
    "na_spks = na_df[(na_df.segmentID==t)&(na_df.na_lower_bound>s1) & (na_df.na_lower_bound<s1+4000)]\n",
    "plt.plot(np.arange(0,400,.1)[na_spks['na_lower_bound'].astype(int).values-s1],\n",
    "         v['report']['biophysical']['data'][na_spks['na_lower_bound'].astype(int).values,t],'r*')\n",
    "nmda_spks = nmda_df[(nmda_df.segmentID==t)&(nmda_df.nmda_lower_bound>s1) & (nmda_df.nmda_lower_bound<s1+4000)]\n",
    "plt.plot(np.arange(0,400,.1)[nmda_spks['nmda_lower_bound'].astype(int).values-s1],\n",
    "         v['report']['biophysical']['data'][nmda_spks['nmda_lower_bound'].astype(int).values,t],'b*')\n",
    "plt.hlines(-60,0,400,color='r',linestyle='dashed',alpha=0.2)\n",
    "plt.text(0,-57,'-60 mV')\n",
    "#1433413, 1161455\n",
    "plt.hlines(-60,170,200)\n",
    "plt.text(170,-65,'30 ms')\n",
    "plt.vlines(170,-60,-50)\n",
    "plt.text(140,-55,'10 mV')\n",
    "plt.box(False)\n",
    "plt.xticks([])\n",
    "plt.yticks([])\n",
    "plt.savefig('fig2A.svg')"
   ]
  },
  {
   "cell_type": "code",
   "execution_count": null,
   "metadata": {},
   "outputs": [],
   "source": []
  },
  {
   "cell_type": "code",
   "execution_count": null,
   "metadata": {},
   "outputs": [],
   "source": []
  },
  {
   "cell_type": "code",
   "execution_count": null,
   "metadata": {},
   "outputs": [],
   "source": []
  },
  {
   "cell_type": "code",
   "execution_count": null,
   "metadata": {},
   "outputs": [],
   "source": [
    "plt.figure(figsize=(10,4))\n",
    "s1 = 559133+1000#np.random.choice(range(v['report']['biophysical']['data'].shape[0]))\n",
    "plt.plot(np.arange(0,400,.1),v['report']['biophysical']['data'][s1:s1+4000,0],color='k')\n",
    "#1433413, 1161455\n",
    "plt.hlines(-10,40,70)\n",
    "plt.text(40,-15,'30 ms')\n",
    "plt.vlines(40,-10,0)\n",
    "plt.text(5,-5,'10 mV')\n",
    "plt.box(False)\n",
    "plt.xticks([])\n",
    "plt.yticks([])"
   ]
  },
  {
   "cell_type": "code",
   "execution_count": null,
   "metadata": {},
   "outputs": [],
   "source": [
    "x = ca_df[~pd.isnull(ca_df.ca_lower_bound)].reset_index()\n",
    "i = np.random.choice(x.index)"
   ]
  },
  {
   "cell_type": "code",
   "execution_count": null,
   "metadata": {},
   "outputs": [],
   "source": [
    "seg = 1842\n",
    "lower_bound = 15000\n",
    "plt.figure(figsize=(12,10))\n",
    "plt.plot(np.arange(0,600,.1),-(hva['report']['biophysical']['data'][lower_bound-1000:lower_bound+5000,seg]+\\\n",
    "         lva['report']['biophysical']['data'][lower_bound-1000:lower_bound+5000,seg]+\\\n",
    "         ih['report']['biophysical']['data'][lower_bound-1000:lower_bound+5000,seg]),color='b')\n",
    "plt.hlines(np.mean(-(hva['report']['biophysical']['data'][lower_bound-1000:lower_bound+5000,seg]+\\\n",
    "         lva['report']['biophysical']['data'][lower_bound-1000:lower_bound+5000,seg]+\\\n",
    "         ih['report']['biophysical']['data'][lower_bound-1000:lower_bound+5000,seg])),0,600,color='b')\n",
    "plt.xlim(0,200)\n",
    "\n",
    "plt.twinx()\n",
    "plt.plot(np.arange(0,600,.1),v['report']['biophysical']['data'][lower_bound-1000:lower_bound+5000,seg],color='k')\n",
    "plt.plot(np.arange(0,600,.1),v['report']['biophysical']['data'][lower_bound-1000:lower_bound+5000,0],color='k',alpha=0.2)\n",
    "plt.xlim(0,200)\n"
   ]
  },
  {
   "cell_type": "code",
   "execution_count": null,
   "metadata": {},
   "outputs": [],
   "source": [
    "ca_df.reset_index(inplace=True)"
   ]
  },
  {
   "cell_type": "code",
   "execution_count": null,
   "metadata": {},
   "outputs": [],
   "source": [
    "for i in np.random.choice(ca_df[(ca_df.ca_lower_bound>2000) & (ca_df.ca_lower_bound<1400000)].index,100):\n",
    "    seg = ca_df.loc[i,'segmentID']\n",
    "    if not pd.isnull(ca_df.loc[i,'ca_lower_bound']):\n",
    "        spkt = int(ca_df.loc[i,'ca_lower_bound'])\n",
    "        \n",
    "        trace = -(hva['report']['biophysical']['data'][spkt-1000:spkt+1000,seg] + \\\n",
    "                lva['report']['biophysical']['data'][spkt-1000:spkt+1000,seg] + \\\n",
    "                ih['report']['biophysical']['data'][spkt-1000:spkt+1000,seg])\n",
    "        peak_value = np.max(trace)\n",
    "        half_peak = peak_value/2\n",
    "        duration = np.arange(0,2000)[trace>half_peak] + spkt - 10\n",
    "        ca_df.loc[i,'duration_low'] = duration[0]\n",
    "        ca_df.loc[i,'duration_high'] = duration[-1]\n",
    "        ca_df.loc[i,'peak_value'] = peak_value\n",
    "    else:\n",
    "        ca_df.loc[i,'duration_low'] = np.nan\n",
    "        ca_df.loc[i,'duration_high'] = np.nan\n",
    "        ca_df.loc[i,'peak_value'] = np.nan"
   ]
  },
  {
   "cell_type": "code",
   "execution_count": null,
   "metadata": {},
   "outputs": [],
   "source": [
    "ca_df[~pd.isnull(ca_df.duration_high)]"
   ]
  },
  {
   "cell_type": "code",
   "execution_count": null,
   "metadata": {},
   "outputs": [],
   "source": [
    "seg = 2403\n",
    "lower_bound = 204744\n",
    "#upper_bound = \n",
    "plt.plot(-(hva['report']['biophysical']['data'][lower_bound-1000:lower_bound+1000,seg]+\\\n",
    "         lva['report']['biophysical']['data'][lower_bound-1000:lower_bound+1000,seg]+\\\n",
    "         ih['report']['biophysical']['data'][lower_bound-1000:lower_bound+1000,seg]))\n",
    "plt.plot(1000,-(hva['report']['biophysical']['data'][lower_bound,seg]+\\\n",
    "         lva['report']['biophysical']['data'][lower_bound,seg]+\\\n",
    "         ih['report']['biophysical']['data'][lower_bound,seg]),'*')\n",
    "\n",
    "plt.plot(1000+205494-lower_bound,-(hva['report']['biophysical']['data'][205494,seg]+\\\n",
    "         lva['report']['biophysical']['data'][205494,seg]+\\\n",
    "         ih['report']['biophysical']['data'][205494,seg]),'*')\n",
    "\n",
    "plt.twinx()\n",
    "plt.plot(v['report']['biophysical']['data'][lower_bound-1000:lower_bound+1000,seg],color='k')"
   ]
  },
  {
   "cell_type": "markdown",
   "metadata": {},
   "source": [
    "----------"
   ]
  },
  {
   "cell_type": "code",
   "execution_count": null,
   "metadata": {},
   "outputs": [],
   "source": [
    "ca_df = pd.read_csv('ca_df.csv')"
   ]
  },
  {
   "cell_type": "code",
   "execution_count": null,
   "metadata": {},
   "outputs": [],
   "source": [
    "segs_ca_df = segs.set_index('segmentID').join(ca_df.set_index('segmentID')).reset_index() "
   ]
  },
  {
   "cell_type": "code",
   "execution_count": null,
   "metadata": {},
   "outputs": [],
   "source": [
    "def get_ca_sta(segs_ca_df, spktimes):\n",
    "\n",
    "    ca_apic = np.zeros((10,27,))\n",
    "    #(~pd.isnull(segs_ca_df.ca_lower_bound))&\n",
    "    edges_apic=np.quantile(segs_ca_df[(segs_ca_df.Type=='apic')]['Elec_distance'].unique(),np.arange(0,1.1,0.1))\n",
    "    \n",
    "    actual_spktimes = []\n",
    "    c = 0\n",
    "    for i in np.sort(spktimes):\n",
    "        # excludes bursts\n",
    "        if i-c > 10:\n",
    "            for e in np.arange(0,10):\n",
    "                ca_inds = segs_ca_df[(~pd.isnull(segs_ca_df.ca_lower_bound))&\n",
    "                                     (segs_ca_df.Type=='apic')&\n",
    "                                     (segs_ca_df.Elec_distance>edges_apic[e])&\n",
    "                                     (segs_ca_df.Elec_distance<=edges_apic[e+1])]['ca_lower_bound'].values.astype(int)\n",
    "    \n",
    "                x2, _ = np.histogram(ca_inds/10,bins=np.arange(np.floor(i)-100,np.floor(i)+40,5))\n",
    "                ca_apic[e] += x2\n",
    "                \n",
    "                \n",
    "            \n",
    "            actual_spktimes.append(i)\n",
    "        c = i\n",
    "    return ca_apic"
   ]
  },
  {
   "cell_type": "code",
   "execution_count": null,
   "metadata": {},
   "outputs": [],
   "source": [
    "ca_apic = get_ca_sta(segs_ca_df, spktimes)"
   ]
  },
  {
   "cell_type": "code",
   "execution_count": null,
   "metadata": {},
   "outputs": [],
   "source": [
    "rand_spktimes = np.sort(np.random.choice(np.arange(0,150000), spktimes.shape[0]))\n",
    "ca_apic_rand = get_ca_sta(segs_ca_df, rand_spktimes)"
   ]
  },
  {
   "cell_type": "code",
   "execution_count": null,
   "metadata": {},
   "outputs": [],
   "source": [
    "plt.figure(figsize=(10,10))\n",
    "plt.subplot(2,1,1)\n",
    "plt.title('Ca spikes - apical')\n",
    "plt.imshow((ca_apic-ca_apic_rand)/len(spktimes),cmap='jet')\n",
    "plt.xticks(ticks=np.arange(0,26,4)+0.5,labels=['{}'.format(i) for i in np.arange(-100,40,20)])\n",
    "#plt.xticks(ticks=np.arange(0,40,2)-0.5,labels=['{}'.format(i) for i in np.arange(-20,20,2)])\n",
    "plt.colorbar(label='events per AP')\n",
    "plt.yticks(ticks=[0,9],labels=['further','closer'])\n",
    "plt.savefig('caspikes.svg')\n",
    "plt.show()"
   ]
  },
  {
   "cell_type": "markdown",
   "metadata": {},
   "source": [
    "# NMDA effect on calcium"
   ]
  },
  {
   "cell_type": "code",
   "execution_count": null,
   "metadata": {},
   "outputs": [],
   "source": [
    "ca_spktimes = segs_ca_df[(segs_ca_df.Type=='apic') & (segs_ca_df['Sec ID']==50)]['ca_lower_bound']/10\n",
    "#ca_spktimes = segs_ca_df[segs_ca_df.segmentID==1738]['ca_lower_bound']/10"
   ]
  },
  {
   "cell_type": "code",
   "execution_count": null,
   "metadata": {},
   "outputs": [],
   "source": [
    "def get_nmda_sta_calcium(segs_nmda_df, spktimes):    \n",
    "    nmda_dend = np.zeros((10,27,))\n",
    "    nmda_apic = np.zeros((10,27,))\n",
    "    \n",
    "    edges_dend=np.quantile(segs_nmda_df[(segs_nmda_df.Type=='dend')]['Elec_distance_nexus'].unique(),np.arange(0,1.1,0.1))\n",
    "    edges_apic=np.quantile(segs_nmda_df[(segs_nmda_df.Type=='apic')]['Elec_distance_nexus'].unique(),np.arange(0,1.1,0.1))\n",
    "    \n",
    "    actual_spktimes = []\n",
    "    c = 0\n",
    "    for i in np.sort(spktimes):\n",
    "        # excludes bursts\n",
    "        if i-c > 10:\n",
    "            for e in np.arange(0,10):\n",
    "                nmda_inds = segs_nmda_df[(segs_nmda_df.mag<-0.1)&\n",
    "                                     (segs_nmda_df.Type=='dend')&\n",
    "                                     (segs_nmda_df.Elec_distance_nexus>edges_dend[e])&\n",
    "                                     (segs_nmda_df.Elec_distance_nexus<=edges_dend[e+1])]['nmda_lower_bound'].values.astype(int)\n",
    "    \n",
    "                x2, _ = np.histogram(nmda_inds/10,bins=np.arange(np.floor(i)-100,np.floor(i)+40,5))\n",
    "                nmda_dend[e] += x2\n",
    "                \n",
    "                nmda_inds = segs_nmda_df[(segs_nmda_df.mag<-0.1)&\n",
    "                                     (segs_nmda_df.Type=='apic')&\n",
    "                                     (segs_nmda_df.Elec_distance_nexus>edges_apic[e])&\n",
    "                                     (segs_nmda_df.Elec_distance_nexus<=edges_apic[e+1])]['nmda_lower_bound'].values.astype(int)\n",
    "    \n",
    "                x2, _ = np.histogram(nmda_inds/10,bins=np.arange(np.floor(i)-100,np.floor(i)+40,5))\n",
    "                nmda_apic[e] += x2\n",
    "            \n",
    "            actual_spktimes.append(i)\n",
    "        c = i\n",
    "        \n",
    "    return nmda_dend, nmda_apic"
   ]
  },
  {
   "cell_type": "code",
   "execution_count": null,
   "metadata": {},
   "outputs": [],
   "source": [
    "edges_apic=np.quantile(segs_nmda_df[(segs_nmda_df.Type=='apic')]['Elec_distance_nexus'].unique(),np.arange(0,1.1,0.1))"
   ]
  },
  {
   "cell_type": "code",
   "execution_count": null,
   "metadata": {},
   "outputs": [],
   "source": [
    "for i in np.arange(0,len(edges_apic)-1):\n",
    "    plt.scatter(segs_nmda_df[(segs_nmda_df.Type=='apic')&\n",
    "                         (segs_nmda_df.Elec_distance_nexus>=edges_apic[i])&\n",
    "                         (segs_nmda_df.Elec_distance_nexus<edges_apic[i+1])]['Coord X'],\n",
    "                segs_nmda_df[(segs_nmda_df.Type=='apic')&\n",
    "                         (segs_nmda_df.Elec_distance_nexus>=edges_apic[i])&\n",
    "                         (segs_nmda_df.Elec_distance_nexus<edges_apic[i+1])]['Coord Y'])"
   ]
  },
  {
   "cell_type": "code",
   "execution_count": null,
   "metadata": {},
   "outputs": [],
   "source": [
    "ca_spktimes_nodupes = np.sort(ca_spktimes[1:])[np.diff(np.sort(ca_spktimes))>100]"
   ]
  },
  {
   "cell_type": "code",
   "execution_count": null,
   "metadata": {},
   "outputs": [],
   "source": [
    "nmda_dend, nmda_apic = get_nmda_sta_calcium(segs_nmda_df,ca_spktimes_nodupes)\n",
    "rand_spktimes = np.sort(np.random.choice(np.arange(0,150000), ca_spktimes_nodupes.shape[0]))\n",
    "nmda_dend_rand, nmda_apic_rand = get_nmda_sta_calcium(segs_nmda_df, rand_spktimes)"
   ]
  },
  {
   "cell_type": "code",
   "execution_count": null,
   "metadata": {},
   "outputs": [],
   "source": [
    "plt.figure(figsize=(10,10))\n",
    "plt.subplot(2,1,1)\n",
    "plt.title('NMDA spikes - apical')\n",
    "x = (nmda_apic-nmda_apic_rand)/ca_spktimes_nodupes.shape[0]\n",
    "plt.imshow(x,cmap='jet',vmin = -1, vmax = 5)\n",
    "plt.xticks(ticks=np.arange(0,26,4)+0.5,labels=['{}'.format(i) for i in np.arange(-100,40,20)])\n",
    "plt.yticks(ticks=[0,9],labels=['further','closer'])\n",
    "plt.colorbar(label='additional events per Ca2+ spike')\n",
    "plt.xlabel('time (ms)')\n",
    "plt.xlim(5,26)\n",
    "\n",
    "plt.subplot(2,1,2)\n",
    "plt.title('NMDA spikes - basal')\n",
    "x = (nmda_dend-nmda_dend_rand)/ca_spktimes_nodupes.shape[0]\n",
    "plt.imshow(x,cmap='jet',vmin = -1, vmax = 5)\n",
    "plt.xticks(ticks=np.arange(0,26,4)+0.5,labels=['{}'.format(i) for i in np.arange(-100,40,20)])\n",
    "plt.yticks(ticks=[0,9],labels=['further','closer'])\n",
    "plt.colorbar(label='additional events per Ca2+ spike')\n",
    "plt.xlim(5,26)\n",
    "\n",
    "plt.xlabel('time (ms)')\n",
    "plt.savefig('nmdaspikes.svg')\n",
    "plt.show()"
   ]
  },
  {
   "cell_type": "markdown",
   "metadata": {},
   "source": [
    "# Na effect on Calcium"
   ]
  },
  {
   "cell_type": "code",
   "execution_count": null,
   "metadata": {},
   "outputs": [],
   "source": [
    "def get_sta_calcium(segs_na_df, spktimes):\n",
    "    na_dend = np.zeros((10,39,))\n",
    "    na_apic = np.zeros((10,39,))\n",
    "    \n",
    "    edges_dend=np.quantile(segs_na_df[(~pd.isnull(segs_na_df.na_lower_bound))&\n",
    "                                       (segs_na_df.Type=='dend')]['Elec_distance_nexus'].unique(),np.arange(0,1.1,0.1))\n",
    "    \n",
    "    edges_apic=np.quantile(segs_na_df[(~pd.isnull(segs_na_df.na_lower_bound))&\n",
    "                                       (segs_na_df.Type=='apic')]['Elec_distance_nexus'].unique(),np.arange(0,1.1,0.1))\n",
    "    \n",
    "    actual_spktimes = []\n",
    "    c = 0\n",
    "    for i in np.sort(spktimes):\n",
    "        # excludes bursts\n",
    "        if i-c > 10:\n",
    "            for e in np.arange(0,10):\n",
    "                na_inds = segs_na_df[(~pd.isnull(segs_na_df.na_lower_bound))&\n",
    "                                     (segs_na_df.Type=='dend')&\n",
    "                                     (segs_na_df.Elec_distance_nexus>edges_dend[e])&\n",
    "                                     (segs_na_df.Elec_distance_nexus<=edges_dend[e+1])]['na_lower_bound'].values.astype(int)\n",
    "    \n",
    "                x2, _ = np.histogram(na_inds/10,bins=np.arange(np.floor(i)-20,np.floor(i)+20,1))\n",
    "                na_dend[e] += x2\n",
    "                \n",
    "                na_inds = segs_na_df[(~pd.isnull(segs_na_df.na_lower_bound))&\n",
    "                                     (segs_na_df.Type=='apic')&\n",
    "                                     (segs_na_df.Elec_distance_nexus>edges_apic[e])&\n",
    "                                     (segs_na_df.Elec_distance_nexus<=edges_apic[e+1])]['na_lower_bound'].values.astype(int)\n",
    "    \n",
    "                x2, _ = np.histogram(na_inds/10,bins=np.arange(np.floor(i)-20,np.floor(i)+20,1))\n",
    "                na_apic[e] += x2\n",
    "            \n",
    "            actual_spktimes.append(i)\n",
    "        c = i\n",
    "    return na_dend, na_apic"
   ]
  },
  {
   "cell_type": "code",
   "execution_count": null,
   "metadata": {},
   "outputs": [],
   "source": [
    "na_dend, na_apic = get_sta_calcium(segs_na_df, ca_spktimes_nodupes)\n",
    "rand_spktimes = np.sort(np.random.choice(np.arange(0,150000), ca_spktimes_nodupes.shape[0]))\n",
    "na_dend_rand, na_apic_rand = get_sta_calcium(segs_na_df, rand_spktimes)"
   ]
  },
  {
   "cell_type": "code",
   "execution_count": null,
   "metadata": {},
   "outputs": [],
   "source": [
    "plt.figure(figsize=(10,10))\n",
    "plt.subplot(2,1,1)\n",
    "plt.title('Na spikes - apical')\n",
    "x = (na_apic-na_apic_rand)/ca_spktimes_nodupes.shape[0]\n",
    "plt.imshow(x,cmap='jet',vmin=0,vmax=4)\n",
    "plt.xticks(ticks=np.arange(0,40,5)-0.5,labels=['{}'.format(i) for i in np.arange(-20,20,5)])\n",
    "plt.yticks(ticks=[0,9],labels=['further','closer'])\n",
    "plt.colorbar(label='additional events per Ca2+ spike')\n",
    "plt.xlabel('time (ms)')\n",
    "plt.xlim(5,35)\n",
    "\n",
    "plt.subplot(2,1,2)\n",
    "plt.title('Na spikes - basal')\n",
    "x = (na_dend-na_dend_rand)/ca_spktimes_nodupes.shape[0]\n",
    "plt.imshow(x,cmap='jet',vmin=0,vmax=4)\n",
    "plt.xticks(ticks=np.arange(0,40,5)-0.5,labels=['{}'.format(i) for i in np.arange(-20,20,5)])\n",
    "plt.yticks(ticks=[0,9],labels=['further','closer'])\n",
    "plt.colorbar(label='additional events per Ca2+ spike')\n",
    "plt.xlim(5,35)\n",
    "\n",
    "plt.xlabel('time (ms)')\n",
    "plt.savefig('naspikes.svg')\n",
    "plt.show()"
   ]
  },
  {
   "cell_type": "code",
   "execution_count": null,
   "metadata": {},
   "outputs": [],
   "source": [
    "nmda_apic = np.zeros((10,27,))\n",
    "mean_nmda = np.zeros((1,1400))\n",
    "nmda_traces = []\n",
    "\n",
    "nmda_inds = segs_nmda_df[(segs_nmda_df.mag<-0.1)&\n",
    "                             (segs_nmda_df.Type=='apic')]['nmda_lower_bound'].values.astype(int)\n",
    "\n",
    "for i in np.random.choice(ca_spktimes[ca_spktimes>100], 100):\n",
    "    x2, _ = np.histogram(nmda_inds/10,bins=np.arange(np.floor(i)-100,np.floor(i)+40,5))\n",
    "    nmda_apic[0,:] += x2\n",
    "    # mean of i_nmda across all apical segments that had an nmda spike in this window\n",
    "    segs_of_interest = segs_nmda_df[(segs_nmda_df.mag<-0.1)&\n",
    "                                    (segs_nmda_df['Coord Y']>800)&\n",
    "                                    (segs_nmda_df['Coord Y']<900)&\n",
    "                                    (segs_nmda_df.Type=='apic')&\n",
    "                                    (segs_nmda_df.nmda_lower_bound>int(np.floor(i)-100)*10)&\n",
    "                                    (segs_nmda_df.nmda_lower_bound<int(np.floor(i)+40)*10)]['segmentID'].values\n",
    "    nmda_traces.append(nmda['report']['biophysical']['data'][int(np.floor(i)-100)*10:int(np.floor(i)+40)*10,\n",
    "                                                                    np.unique(np.sort(segs_of_interest))])"
   ]
  },
  {
   "cell_type": "code",
   "execution_count": null,
   "metadata": {},
   "outputs": [],
   "source": [
    "T = []\n",
    "for i in np.arange(0,len(nmda_traces)):\n",
    "    #plt.plot(nmda_traces[i][:,0],color='k',alpha=0.2)\n",
    "    T.append(nmda_traces[i][:,0])\n",
    "plt.plot(np.mean(np.array(T),axis=0),color='r')"
   ]
  },
  {
   "cell_type": "code",
   "execution_count": null,
   "metadata": {},
   "outputs": [],
   "source": [
    "nmda_dend, nmda_apic = get_nmda_sta(segs_nmda_df, ca_spktimes)\n",
    "rand_spktimes = np.sort(np.random.choice(np.arange(0,150000), ca_spktimes.shape[0]))\n",
    "nmda_dend_rand, nmda_apic_rand = get_nmda_sta(segs_nmda_df, rand_spktimes)"
   ]
  },
  {
   "cell_type": "code",
   "execution_count": null,
   "metadata": {},
   "outputs": [],
   "source": [
    "plt.figure(figsize=(10,10))\n",
    "plt.subplot(2,1,1)\n",
    "plt.title('NMDA spikes - apical')\n",
    "plt.imshow((nmda_apic-nmda_apic_rand)/len(spktimes),cmap='jet')\n",
    "plt.xticks(ticks=np.arange(0,26,4),labels=['{}'.format(i) for i in np.arange(-100,40,20)])\n",
    "plt.yticks(ticks=[0,9],labels=['further','closer'])\n",
    "plt.colorbar(label='additional events per AP')\n",
    "plt.xlabel('time (ms)')\n",
    "plt.xlim(5,26)\n",
    "\n",
    "plt.subplot(2,1,2)\n",
    "plt.title('NMDA spikes - basal')\n",
    "plt.imshow((nmda_dend-nmda_dend_rand)/len(spktimes),cmap='jet')\n",
    "plt.xticks(ticks=np.arange(0,26,4),labels=['{}'.format(i) for i in np.arange(-100,40,20)])\n",
    "plt.yticks(ticks=[0,9],labels=['further','closer'])\n",
    "plt.colorbar(label='additional events per AP')\n",
    "plt.xlim(5,26)\n",
    "\n",
    "plt.xlabel('time (ms)')\n",
    "plt.savefig('nmdaspikes.svg')\n",
    "plt.show()"
   ]
  },
  {
   "cell_type": "markdown",
   "metadata": {},
   "source": [
    "----------------------"
   ]
  },
  {
   "cell_type": "code",
   "execution_count": null,
   "metadata": {},
   "outputs": [],
   "source": [
    "apic_exc = segs_conns[(segs_conns['Source Population']=='exc_stim')&(segs_conns.Type=='apic')].groupby('segmentID')['Conductance'].sum().reset_index()\n",
    "\n",
    "basal_exc = segs_conns[(segs_conns['Source Population']=='exc_stim')&(segs_conns.Type=='dend')].groupby('segmentID')['Conductance'].sum().reset_index()\n"
   ]
  },
  {
   "cell_type": "code",
   "execution_count": null,
   "metadata": {},
   "outputs": [],
   "source": [
    "nmda_df = pd.DataFrame(columns=['segmentID','nmda_lower_bound', 'nmda_upper_bound', 'mag'])\n",
    "for p in segs[(segs.Type=='dend')|(segs.Type=='apic')].index:\n",
    "    print(p)\n",
    "    legit_uc = voltage_criterion(data=v['report']['biophysical']['data'][:-10000,p],v_thresh=-40, time_thresh=260)[1]\n",
    "    legit_dc = voltage_criterion(data=v['report']['biophysical']['data'][:-10000,p],v_thresh=-40, time_thresh=260)[-1]\n",
    "    \n",
    "    legit_uc_iso = legit_uc\n",
    "    \n",
    "    legit_dc_iso = legit_dc\n",
    "    \n",
    "    \n",
    "    if (len(legit_uc_iso)!=0) & (np.min(nmda['report']['biophysical']['data'][:,p])!=0):\n",
    "        bnds, sum_curr = current_criterion(legit_uc_iso=legit_uc_iso, \n",
    "                                           legit_dc_iso=legit_dc_iso, \n",
    "                                           p=p, \n",
    "                                           control_inmda=nmda['report']['biophysical']['data'])\n",
    "        nmda_df = nmda_df.append(pd.DataFrame({'segmentID':np.tile(p,len(bnds)),\n",
    "                                               'nmda_lower_bound':np.array(bnds).reshape(-1,2)[:,0],\n",
    "                                               'nmda_upper_bound':np.array(bnds).reshape(-1,2)[:,1],\n",
    "                                               'mag':sum_curr}))\n",
    "    \n",
    "    else:\n",
    "        nmda_df = nmda_df.append(pd.DataFrame({'segmentID':np.tile(p,1),\n",
    "                                               'nmda_lower_bound':np.nan,\n",
    "                                               'nmda_upper_bound':np.nan,\n",
    "                                               'mag':np.nan}))\n",
    "        "
   ]
  },
  {
   "cell_type": "code",
   "execution_count": null,
   "metadata": {},
   "outputs": [],
   "source": [
    "#nmda_df.to_csv('64Hz_soma_inh_nmda_df.csv')\n",
    "nmda_df = pd.read_csv('nmda_df.csv')"
   ]
  },
  {
   "cell_type": "code",
   "execution_count": null,
   "metadata": {},
   "outputs": [],
   "source": [
    "# nmda_df = pd.read_csv('nmda_df.csv') #** change: nmda_df.csv does not exist yet?\n",
    "\n",
    "nmda_df['duration'] = nmda_df['nmda_upper_bound'] - nmda_df['nmda_lower_bound']\n",
    "\n",
    "p = np.random.choice(nmda_df[(~pd.isnull(nmda_df.nmda_lower_bound))&(nmda_df.duration<300)].index)\n",
    "nmda_df.loc[p,'segmentID'], nmda_df.loc[p,'nmda_lower_bound']"
   ]
  },
  {
   "cell_type": "code",
   "execution_count": null,
   "metadata": {},
   "outputs": [],
   "source": [
    "nmda_df.rename(columns={'seg_id':'segmentID'},inplace=True)"
   ]
  },
  {
   "cell_type": "code",
   "execution_count": null,
   "metadata": {},
   "outputs": [],
   "source": [
    "segs_nmda_df = segs.set_index('segmentID').join(nmda_df.set_index('segmentID')).reset_index()"
   ]
  },
  {
   "cell_type": "code",
   "execution_count": null,
   "metadata": {},
   "outputs": [],
   "source": [
    "def get_nmda_sta(segs_nmda_df, spktimes):    \n",
    "    nmda_dend = np.zeros((10,27,))\n",
    "    nmda_apic = np.zeros((10,27,))\n",
    "    \n",
    "    edges_dend=np.quantile(segs_nmda_df[(segs_nmda_df.mag<-0.1)&\n",
    "                                   (segs_nmda_df.Type=='dend')]['Elec_distance'].unique(),np.arange(0,1.1,0.1))\n",
    "    edges_apic=np.quantile(segs_nmda_df[(segs_nmda_df.mag<-0.1)&\n",
    "                                   (segs_nmda_df.Type=='apic')]['Elec_distance'].unique(),np.arange(0,1.1,0.1))\n",
    "    \n",
    "    actual_spktimes = []\n",
    "    c = 0\n",
    "    for i in np.sort(spktimes):\n",
    "        # excludes bursts\n",
    "        if i-c > 10:\n",
    "            for e in np.arange(0,10):\n",
    "                nmda_inds = segs_nmda_df[(segs_nmda_df.mag<-0.1)&\n",
    "                                     (segs_nmda_df.Type=='dend')&\n",
    "                                     (segs_nmda_df.Elec_distance>edges_dend[e])&\n",
    "                                     (segs_nmda_df.Elec_distance<=edges_dend[e+1])]['nmda_lower_bound'].values.astype(int)\n",
    "    \n",
    "                x2, _ = np.histogram(nmda_inds/10,bins=np.arange(np.floor(i)-100,np.floor(i)+40,5))\n",
    "                nmda_dend[e] += x2\n",
    "                \n",
    "                nmda_inds = segs_nmda_df[(segs_nmda_df.mag<-0.1)&\n",
    "                                     (segs_nmda_df.Type=='apic')&\n",
    "                                     (segs_nmda_df.Elec_distance>edges_apic[e])&\n",
    "                                     (segs_nmda_df.Elec_distance<=edges_apic[e+1])]['nmda_lower_bound'].values.astype(int)\n",
    "    \n",
    "                x2, _ = np.histogram(nmda_inds/10,bins=np.arange(np.floor(i)-100,np.floor(i)+40,5))\n",
    "                nmda_apic[e] += x2\n",
    "            \n",
    "            actual_spktimes.append(i)\n",
    "        c = i\n",
    "        \n",
    "    return nmda_dend, nmda_apic"
   ]
  },
  {
   "cell_type": "code",
   "execution_count": null,
   "metadata": {},
   "outputs": [],
   "source": [
    "nmda_dend, nmda_apic = get_nmda_sta(segs_nmda_df, spktimes)\n",
    "rand_spktimes = np.sort(np.random.choice(np.arange(0,150000), spktimes.shape[0]))\n",
    "nmda_dend_rand, nmda_apic_rand = get_nmda_sta(segs_nmda_df, rand_spktimes)"
   ]
  },
  {
   "cell_type": "code",
   "execution_count": null,
   "metadata": {},
   "outputs": [],
   "source": [
    "plt.figure(figsize=(10,10))\n",
    "plt.subplot(2,1,1)\n",
    "plt.title('NMDA spikes - apical')\n",
    "plt.imshow((nmda_apic-nmda_apic_rand)/len(spktimes),cmap='jet',vmin=-0.7,vmax=0.7)\n",
    "plt.xticks(ticks=np.arange(0,26,4),labels=['{}'.format(i) for i in np.arange(-100,40,20)])\n",
    "plt.yticks(ticks=[0,9],labels=['further','closer'])\n",
    "plt.colorbar(label='additional events per AP')\n",
    "plt.xlabel('time (ms)')\n",
    "plt.xlim(5,26)\n",
    "\n",
    "plt.subplot(2,1,2)\n",
    "plt.title('NMDA spikes - basal')\n",
    "plt.imshow((nmda_dend-nmda_dend_rand)/len(spktimes),cmap='jet', vmin=-0.7, vmax=0.7)\n",
    "plt.xticks(ticks=np.arange(0,26,4),labels=['{}'.format(i) for i in np.arange(-100,40,20)])\n",
    "plt.yticks(ticks=[0,9],labels=['further','closer'])\n",
    "plt.colorbar(label='additional events per AP')\n",
    "plt.xlim(5,26)\n",
    "\n",
    "plt.xlabel('time (ms)')\n",
    "plt.savefig('nmdaspikes.svg')\n",
    "plt.show()"
   ]
  },
  {
   "cell_type": "code",
   "execution_count": null,
   "metadata": {},
   "outputs": [],
   "source": []
  },
  {
   "cell_type": "code",
   "execution_count": null,
   "metadata": {},
   "outputs": [],
   "source": [
    "for i in np.arange(0,10):\n",
    "    plt.plot(np.arange(-100,95,5),nmda_dend[i]/np.sum(nmda_dend[i]))\n"
   ]
  },
  {
   "cell_type": "code",
   "execution_count": null,
   "metadata": {},
   "outputs": [],
   "source": [
    "segs_conns[(segs_conns['Sec ID']==80) & (segs_conns.Type=='dend')]['Source Population'].value_counts()"
   ]
  },
  {
   "cell_type": "code",
   "execution_count": null,
   "metadata": {},
   "outputs": [],
   "source": [
    "plt.figure(figsize=(10,10))\n",
    "ind = 55\n",
    "plt.plot(segs['Coord X'], segs['Coord Y'], 'b.')\n",
    "plt.plot(segs.loc[0,'Coord X'], segs.loc[0,'Coord Y'], 'k.',markersize=20)\n",
    "\n",
    "plt.plot(segs.loc[ind,'Coord X'], segs.loc[ind,'Coord Y'], 'r*',markersize=20)\n",
    "\n",
    "for i in segs_conns[(segs_conns.Type=='dend')&(segs_conns['Sec ID']==2)]['Sec ID'].unique():\n",
    "    plt.plot(segs[(segs['Sec ID']==i)&(segs['Type']=='dend')]['Coord X'],\n",
    "             segs[(segs['Sec ID']==i)&(segs['Type']=='dend')]['Coord Y'],color='r')\n",
    "    \n",
    "#for i in segs_conns[(segs_conns.Type=='dend')&(segs_conns['Sec ID']==7)]['Sec ID'].unique():\n",
    "#    plt.plot(segs[(segs['Sec ID']==i)&(segs['Type']=='dend')]['Coord X'],\n",
    "#             segs[(segs['Sec ID']==i)&(segs['Type']=='dend')]['Coord Y'],color='c')\n",
    "    \n",
    "#plt.plot(segs[segs.segmentID==119]['Coord X'], segs[segs.segmentID==119]['Coord Y'],'r*',markersize=14)\n",
    "#plt.plot(segs[segs.segmentID==110]['Coord X'], segs[segs.segmentID==110]['Coord Y'],'r*',markersize=14)\n",
    "#plt.plot(segs[segs.segmentID==103]['Coord X'], segs[segs.segmentID==103]['Coord Y'],'r*',markersize=14)\n",
    "\n",
    "#plt.plot(segs[segs.segmentID==134]['Coord X'], segs[segs.segmentID==134]['Coord Y'],'c*',markersize=14)\n",
    "plt.ylim(-25,50)\n",
    "plt.xlim(-150,150)"
   ]
  },
  {
   "cell_type": "code",
   "execution_count": null,
   "metadata": {},
   "outputs": [],
   "source": [
    "plt.figure(figsize=(10,10))\n",
    "plt.plot(f['report']['biophysical']['data'][:,119],color='b')\n",
    "plt.plot(f['report']['biophysical']['data'][:,110],color='b',alpha=0.5)\n",
    "plt.plot(f['report']['biophysical']['data'][:,104],color='b',alpha=0.1)\n",
    "\n",
    "plt.plot(f['report']['biophysical']['data'][:,134],color='c',alpha=1)\n",
    "plt.plot(f['report']['biophysical']['data'][:,0],'k')\n",
    "plt.twinx()\n",
    "plt.plot(h['report']['biophysical']['data'][:,119],color='r')\n",
    "plt.plot(h['report']['biophysical']['data'][:,110],color='r',alpha=0.5)\n",
    "plt.plot(h['report']['biophysical']['data'][:,103],color='r',alpha=0.1)\n",
    "\n",
    "plt.xlim(526519-100,526519+1000)"
   ]
  },
  {
   "cell_type": "code",
   "execution_count": null,
   "metadata": {},
   "outputs": [],
   "source": []
  },
  {
   "cell_type": "code",
   "execution_count": null,
   "metadata": {},
   "outputs": [],
   "source": [
    "nmda2 = np.zeros((79,))\n",
    "\n",
    "for i in spktimes:\n",
    "    nmda_inds2 = np.sort(segs_nmda_df[(segs_nmda_df.Degrees<=3)&\n",
    "             (~pd.isnull(segs_nmda_df.nmda_lower_bound))&\n",
    "             (segs_nmda_df.mag<-0.1)&\n",
    "                (segs_nmda_df.Type=='dend')]['nmda_lower_bound'].values.astype(int))\n",
    "\n",
    "    x2, _ = np.histogram(nmda_inds2/10,bins=np.arange(i-40,i+40,1))\n",
    "    nmda2 += x2\n",
    "    \n",
    "    #na_inds3 = segs_na_df[(segs_na_df.Degrees==3)&(~pd.isnull(segs_na_df.na_lower_bound))]['na_lower_bound'].values.astype(int)\n",
    "    #x3, _ = np.histogram(na_inds3/10,bins=np.arange(i-20,i+20,1))\n",
    "    #na3 += x3\n",
    "    \n",
    "    #na_inds4 = segs_na_df[(segs_na_df.Degrees==4)&(~pd.isnull(segs_na_df.na_lower_bound))]['na_lower_bound'].values.astype(int)\n",
    "    #x4, _ = np.histogram(na_inds4/10,bins=np.arange(i-20,i+20,1))\n",
    "    #na4 += x4\n",
    "    \n",
    "    #na_inds5 = segs_na_df[(segs_na_df.Degrees==5)&(~pd.isnull(segs_na_df.na_lower_bound))]['na_lower_bound'].values.astype(int)\n",
    "    #x5, _ = np.histogram(na_inds5/10,bins=np.arange(i-20,i+20,1))\n",
    "    #na5 += x5\n",
    "    "
   ]
  },
  {
   "cell_type": "code",
   "execution_count": null,
   "metadata": {},
   "outputs": [],
   "source": [
    "plt.plot(nmda2)"
   ]
  },
  {
   "cell_type": "code",
   "execution_count": null,
   "metadata": {},
   "outputs": [],
   "source": []
  },
  {
   "cell_type": "code",
   "execution_count": null,
   "metadata": {},
   "outputs": [],
   "source": []
  },
  {
   "cell_type": "code",
   "execution_count": null,
   "metadata": {},
   "outputs": [],
   "source": []
  },
  {
   "cell_type": "code",
   "execution_count": null,
   "metadata": {},
   "outputs": [],
   "source": [
    "import matplotlib\n",
    "font = {'family' : 'normal',\n",
    "        'weight' : 'normal',\n",
    "        'size'   : 16}\n",
    "\n",
    "matplotlib.rc('font', **font)\n",
    "\n",
    "ind = 1139\n",
    "plt.figure(figsize=(12,10))\n",
    "plt.plot(np.arange(0,60000,.1),f['report']['biophysical']['data'][:,ind],color='b',label='dend voltage')\n",
    "plt.plot(np.arange(0,60000,.1),f['report']['biophysical']['data'][:,0],color='k',alpha=0.3,label='soma voltage')\n",
    "plt.legend(loc='lower left')\n",
    "plt.hlines(-40,0,60000,linestyle='dashed')\n",
    "plt.ylabel('voltage (mV)')\n",
    "plt.ylim(-85,25)\n",
    "plt.xlabel('time (ms)')\n",
    "plt.twinx()\n",
    "plt.plot(np.arange(0,60000,.1),h['report']['biophysical']['data'][:,ind],color='r',label='inmda dend')\n",
    "plt.legend(loc='upper right')\n",
    "plt.plot(np.arange(0,60000,.1)[nmda_df[nmda_df.seg_id==ind]['nmda_lower_bound'].values.astype(int)],\n",
    "         h['report']['biophysical']['data'][nmda_df[nmda_df.seg_id==ind]['nmda_lower_bound'].values.astype(int),ind],'m*',markersize=20)\n",
    "plt.plot(np.arange(0,60000,.1)[nmda_df[nmda_df.seg_id==ind]['nmda_upper_bound'].values.astype(int)],\n",
    "         h['report']['biophysical']['data'][nmda_df[nmda_df.seg_id==ind]['nmda_upper_bound'].values.astype(int),ind],'k*',markersize=20)\n",
    "plt.ylim(-0.009,0.001)\n",
    "plt.xlim(37000,39000)\n",
    "plt.ylabel('current (nA)')\n"
   ]
  },
  {
   "cell_type": "code",
   "execution_count": null,
   "metadata": {},
   "outputs": [],
   "source": [
    "import matplotlib\n",
    "font = {'family' : 'normal',\n",
    "        'weight' : 'normal',\n",
    "        'size'   : 16}\n",
    "\n",
    "matplotlib.rc('font', **font)\n",
    "\n",
    "plt.figure(figsize=(12,10))\n",
    "plt.plot(np.arange(0,60000,.1),f['report']['biophysical']['data'][:,175],color='b',label='dend voltage')\n",
    "plt.plot(np.arange(0,60000,.1),f['report']['biophysical']['data'][:,0],color='k',alpha=0.3,label='soma voltage')\n",
    "plt.legend(loc='lower left')\n",
    "plt.hlines(-40,0,60000,linestyle='dashed')\n",
    "plt.ylabel('voltage (mV)')\n",
    "plt.ylim(-85,25)\n",
    "plt.xlabel('time (ms)')\n",
    "plt.twinx()\n",
    "plt.plot(np.arange(0,60000,.1),h['report']['biophysical']['data'][:,175],color='r',label='inmda dend')\n",
    "plt.legend(loc='upper right')\n",
    "plt.plot(np.arange(0,60000,.1)[nmda_df[nmda_df.seg_id==175]['nmda_lower_bound'].values.astype(int)],\n",
    "         h['report']['biophysical']['data'][nmda_df[nmda_df.seg_id==175]['nmda_lower_bound'].values.astype(int),175],'m*',markersize=20)\n",
    "plt.plot(np.arange(0,60000,.1)[nmda_df[nmda_df.seg_id==175]['nmda_upper_bound'].values.astype(int)],\n",
    "         h['report']['biophysical']['data'][nmda_df[nmda_df.seg_id==175]['nmda_upper_bound'].values.astype(int),175],'k*',markersize=20)\n",
    "plt.xlim(32000,32400)\n",
    "plt.ylim(-0.009,0.001)\n",
    "plt.ylabel('current (nA)')\n"
   ]
  },
  {
   "cell_type": "code",
   "execution_count": null,
   "metadata": {},
   "outputs": [],
   "source": [
    "nmda_spktimes = nmda_df[nmda_df.mag<-0.1]['nmda_lower_bound']/10\n",
    "n = np.zeros((12,))\n",
    "for i in spktimes:\n",
    "    x,y = np.histogram(nmda_spktimes[(nmda_spktimes>i-30) & (nmda_spktimes<i+30)]-i,bins=np.arange(-30,31,5))\n",
    "    n+=x"
   ]
  },
  {
   "cell_type": "code",
   "execution_count": null,
   "metadata": {},
   "outputs": [],
   "source": [
    "np.arange(-30,31,5).shape"
   ]
  },
  {
   "cell_type": "code",
   "execution_count": null,
   "metadata": {},
   "outputs": [],
   "source": [
    "plt.plot(np.arange(-30,30,5),n)"
   ]
  },
  {
   "cell_type": "code",
   "execution_count": null,
   "metadata": {},
   "outputs": [],
   "source": [
    "na_spktimes = na_df[~pd.isnull(na_df.na_lower_bound)]['na_lower_bound']/10\n",
    "na = np.zeros((20,))\n",
    "for i in spktimes:\n",
    "    x,y = np.histogram(na_spktimes[(na_spktimes>i-10) & (na_spktimes<i+10)]-i,bins=np.arange(-10,11,1))\n",
    "    na+=x"
   ]
  },
  {
   "cell_type": "code",
   "execution_count": null,
   "metadata": {},
   "outputs": [],
   "source": [
    "plt.plot(na_df[~pd.isnull(na_df.na_lower_bound)]['na_lower_bound']/10,\n",
    "         na_df[~pd.isnull(na_df.na_lower_bound)]['seg_id'],'*')"
   ]
  },
  {
   "cell_type": "code",
   "execution_count": null,
   "metadata": {},
   "outputs": [],
   "source": []
  },
  {
   "cell_type": "code",
   "execution_count": null,
   "metadata": {},
   "outputs": [],
   "source": []
  },
  {
   "cell_type": "code",
   "execution_count": null,
   "metadata": {},
   "outputs": [],
   "source": [
    "plt.plot(nmda_spktimes,np.random.randint(low=0,high=100,size=len(nmda_spktimes)),'.')\n",
    "plt.plot(spktimes,np.tile(40,len(spktimes)),'r*')"
   ]
  },
  {
   "cell_type": "code",
   "execution_count": null,
   "metadata": {},
   "outputs": [],
   "source": [
    "x1,_=np.histogram(spktimes,bins=np.arange(0,10000,100))\n",
    "x2,_=np.histogram(nmda_spktimes,bins=np.arange(0,10000,100))"
   ]
  },
  {
   "cell_type": "code",
   "execution_count": null,
   "metadata": {},
   "outputs": [],
   "source": [
    "plt.figure(figsize=(10,8))\n",
    "plt.plot(np.arange(0,10000,.1),control_v[:,176],color='b')\n",
    "plt.plot(np.arange(0,10000,.1)[nmda_df.loc[nmda_df.seg_id==175,'nmda_lower_bound'].values.astype(int)],control_v[nmda_df.loc[nmda_df.seg_id==175,'nmda_lower_bound'].values.astype(int),176],'m*')\n",
    "plt.plot(np.arange(0,10000,.1),control_v[:,0],color='k')\n",
    "plt.xlim(6000,7000)"
   ]
  },
  {
   "cell_type": "code",
   "execution_count": null,
   "metadata": {},
   "outputs": [],
   "source": []
  },
  {
   "cell_type": "code",
   "execution_count": null,
   "metadata": {},
   "outputs": [],
   "source": []
  },
  {
   "cell_type": "code",
   "execution_count": null,
   "metadata": {},
   "outputs": [],
   "source": []
  },
  {
   "cell_type": "code",
   "execution_count": null,
   "metadata": {},
   "outputs": [],
   "source": []
  },
  {
   "cell_type": "code",
   "execution_count": null,
   "metadata": {},
   "outputs": [],
   "source": [
    "# ind1 = 3 sent to Drew\n",
    "ind1 = 2\n",
    "e1 = control_inmda[legit_uc_iso[ind1], p]\n",
    "e2 = control_inmda[legit_dc_iso[ind1], p]\n",
    "x30 = np.argwhere(np.diff(control_inmda[legit_uc_iso[ind1]:legit_dc_iso[ind1], p] < 1.3*e1, prepend=False))\n",
    "x15 = np.argwhere(np.diff(control_inmda[legit_uc_iso[ind1]:legit_dc_iso[ind1], p] < 1.15*e1, prepend=False))"
   ]
  },
  {
   "cell_type": "code",
   "execution_count": null,
   "metadata": {},
   "outputs": [],
   "source": [
    "import matplotlib\n",
    "font = {'family' : 'normal',\n",
    "        'weight' : 'normal',\n",
    "        'size'   : 16}\n",
    "\n",
    "matplotlib.rc('font', **font)\n",
    "\n",
    "plt.figure(figsize=(12,10))\n",
    "plt.plot(np.arange(0,(legit_dc_iso[ind1]-legit_uc_iso[ind1])/10, 0.1),\n",
    "         control_inmda[legit_uc_iso[ind1]:legit_dc_iso[ind1], p],color='r',label='inmda @ dend.')\n",
    "plt.hlines(1.3*e1,0,np.max(np.arange(0,(legit_dc_iso[ind1]-legit_uc_iso[ind1])/10, 0.1)),color='r',alpha=0.2)\n",
    "plt.hlines(1.15*e1,0,np.max(np.arange(0,(legit_dc_iso[ind1]-legit_uc_iso[ind1])/10, 0.1)),color='r',alpha=0.2)\n",
    "plt.ylabel('current (nA)')\n",
    "plt.ylim(-0.010,0)\n",
    "plt.legend(loc='upper center')\n",
    "plt.xlabel('time (ms)')\n",
    "plt.twinx()\n",
    "plt.plot(np.arange(0,(legit_dc_iso[ind1]-legit_uc_iso[ind1])/10, 0.1),\n",
    "         control_v[legit_uc_iso[ind1]:legit_dc_iso[ind1],p],color='b',label='dend. volt.')\n",
    "plt.plot(np.arange(0,(legit_dc_iso[ind1]-legit_uc_iso[ind1])/10, 0.1),\n",
    "         control_v[legit_uc_iso[ind1]:legit_dc_iso[ind1],0], color='k',label='soma volt.')\n",
    "\n",
    "\n",
    "for i in np.arange(0,len(bounds)):\n",
    "    plt.fill_between(np.array([bounds[i][0]/10,bounds[i][1]/10]).reshape(2,),-70,20,color='k',alpha=0.2)\n",
    "    plt.text(bounds[i][0]/10,-20-(i*10),'{x:.2f}'.format(x=sum_current[i]))\n",
    "##plt.fill_between(np.array([bounds[1][0]/10,bounds[1][1]/10]).reshape(2,),-70,20,color='k',alpha=0.2)\n",
    "##plt.fill_between(np.array([bounds[2][0]/10,bounds[2][1]/10]).reshape(2,),-70,20,color='k',alpha=0.2)\n",
    "#plt.hlines(-40,0,np.max(np.arange(0,(legit_uc_iso[ind1+1]-legit_uc_iso[ind1])/10, 0.1)),linestyle='dashed')\n",
    "##plt.text(1.5,14,'NMDA\\nspike')\n",
    "#plt.ylabel('voltage (mV)')\n",
    "#plt.legend()"
   ]
  },
  {
   "cell_type": "code",
   "execution_count": null,
   "metadata": {},
   "outputs": [],
   "source": [
    "plt.figure(figsize=(12,10))\n",
    "plt.plot(np.arange(0,10000,.1),control_v[:,p],label='control dend. v')\n",
    "plt.plot(np.arange(0,10000,.1),NMDAblock_v[:,p],label='NMDA block dend. v')\n",
    "plt.plot(np.arange(0,10000,.1),control_v[:,0],color='k',label='control soma v')\n",
    "\n",
    "uc = voltage_criterion(control_v[:,p],-40)[0]\n",
    "\n",
    "\n",
    "plt.plot(np.arange(0,10000,.1)[uc],control_v[uc,p],'*')\n",
    "plt.plot(np.arange(0,10000,.1)[legit_uc],control_v[legit_uc,p],'m*')\n",
    "\n",
    "\n",
    "center = np.floor(legit_uc[np.random.choice(np.arange(0,legit_uc.shape[0]))]/10)\n",
    "\n",
    "plt.plot([center,center+26],[-80,-80],color='k')\n",
    "plt.legend(loc='lower left')\n",
    "\n",
    "plt.twinx()\n",
    "plt.plot(np.arange(0,10000,.1),control_inmda[:,p],color='r',label='NMDA current')\n",
    "plt.plot(np.arange(0,10000,.1)[legit_uc],control_inmda[legit_uc, p],'*')\n",
    "#plt.plot(np.arange(0,10000,.1),control_gna[:,p],color='r',alpha=0.2, label='gNa')\n",
    "plt.xlim(center-100,center+100)\n",
    "\n",
    "plt.legend(loc='lower right')\n",
    "plt.title('{}'.format(legit_uc))"
   ]
  },
  {
   "cell_type": "code",
   "execution_count": null,
   "metadata": {},
   "outputs": [],
   "source": [
    "p = np.random.choice(segs[segs.Type=='apic'].index)\n",
    "for i in spktimes:\n",
    "    plt.plot(np.arange(0,20,.1), control_v[int(i*10)-100:int(i*10)+100,p])\n",
    "plt.vlines(10,-65,0,color='k')\n",
    "plt.ylim(-65,0)"
   ]
  },
  {
   "cell_type": "code",
   "execution_count": null,
   "metadata": {},
   "outputs": [],
   "source": [
    "p = 829#np.random.choice(segs[segs.Type=='dend'].index)\n",
    "plt.title('dend {}'.format(p))\n",
    "plt.plot(control_v[7200:7700,p],label='dend')\n",
    "plt.plot(control_v[7200:7700,0],label='soma')\n",
    "plt.hlines(-40,0,500)\n",
    "plt.twinx()\n",
    "plt.plot(control_inmda[7200:7700,p],color='r')\n",
    "plt.legend()"
   ]
  },
  {
   "cell_type": "code",
   "execution_count": null,
   "metadata": {},
   "outputs": [],
   "source": [
    "control_v[10000,0]"
   ]
  },
  {
   "cell_type": "code",
   "execution_count": null,
   "metadata": {},
   "outputs": [],
   "source": [
    "plt.hist(control_v[10000,:])"
   ]
  },
  {
   "cell_type": "code",
   "execution_count": null,
   "metadata": {},
   "outputs": [],
   "source": [
    "plt.plot(control_v[:,1200])\n",
    "plt.plot(NMDAblock_v[:,1200])"
   ]
  },
  {
   "cell_type": "code",
   "execution_count": null,
   "metadata": {},
   "outputs": [],
   "source": [
    "df = ids_pos.set_index(['BMTK ID', 'X']).join(segs.set_index(['BMTK ID', 'X'])).reset_index()"
   ]
  },
  {
   "cell_type": "code",
   "execution_count": null,
   "metadata": {},
   "outputs": [],
   "source": [
    "df.loc[0,'Distance'], np.mean(f['report']['biophysical']['data'],axis=0)[0]"
   ]
  },
  {
   "cell_type": "code",
   "execution_count": null,
   "metadata": {},
   "outputs": [],
   "source": [
    "df[(df.Distance>900) & (df.Distance<1000)]"
   ]
  },
  {
   "cell_type": "code",
   "execution_count": null,
   "metadata": {},
   "outputs": [],
   "source": [
    "plt.scatter(np.arange(0,df.shape[0]), np.mean(f['report']['biophysical']['data'],axis=0))\n",
    "plt.xlim(1740,1760)"
   ]
  },
  {
   "cell_type": "code",
   "execution_count": null,
   "metadata": {},
   "outputs": [],
   "source": [
    "plt.figure(figsize=(10,6))\n",
    "plt.scatter(df['Distance'],np.mean(f['report']['biophysical']['data'],axis=0),alpha=0.2)\n",
    "plt.scatter(df.loc[0,'Distance'], np.mean(f['report']['biophysical']['data'],axis=0)[0],color='r', marker='*', s=75)\n",
    "plt.scatter(df.loc[1452,'Distance'], np.mean(f['report']['biophysical']['data'],axis=0)[1452],color='m',marker='*', s=75)\n",
    "plt.scatter(df.loc[1754,'Distance'], np.mean(f['report']['biophysical']['data'],axis=0)[1754],color='k',marker='*', s=75)\n",
    "plt.xlabel('distance from soma')\n",
    "plt.ylabel('mean potential of segment (mV)')"
   ]
  },
  {
   "cell_type": "code",
   "execution_count": null,
   "metadata": {},
   "outputs": [],
   "source": [
    "#plt.scatter(np.arange(0,f['report']['biophysical']['data'].shape[1]),np.mean(f['report']['biophysical']['data'],axis=0))\n",
    "\n",
    "plt.figure(figsize=(10,6))\n",
    "\n",
    "plt.plot(np.arange(0,2,0.0001),f['report']['biophysical']['data'][:,0],color='r')\n",
    "plt.plot(np.arange(0,2,0.0001),f['report']['biophysical']['data'][:,1452],color='m')\n",
    "plt.plot(np.arange(0,2,0.0001),f['report']['biophysical']['data'][:,1754],color='k')\n",
    "plt.xlim(1.75,2)\n",
    "plt.xlabel('time (s)')\n",
    "plt.ylabel('membrane potential (mV)')"
   ]
  },
  {
   "cell_type": "code",
   "execution_count": null,
   "metadata": {},
   "outputs": [],
   "source": []
  }
 ],
 "metadata": {
  "kernelspec": {
   "display_name": "Python 3",
   "language": "python",
   "name": "python3"
  },
  "language_info": {
   "codemirror_mode": {
    "name": "ipython",
    "version": 3
   },
   "file_extension": ".py",
   "mimetype": "text/x-python",
   "name": "python",
   "nbconvert_exporter": "python",
   "pygments_lexer": "ipython3",
   "version": "3.10.14"
  }
 },
 "nbformat": 4,
 "nbformat_minor": 4
}
