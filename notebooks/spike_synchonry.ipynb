{
 "cells": [
  {
   "cell_type": "code",
   "execution_count": 1,
   "metadata": {},
   "outputs": [],
   "source": [
    "# !pip install pyspike"
   ]
  },
  {
   "cell_type": "code",
   "execution_count": 2,
   "metadata": {},
   "outputs": [
    {
     "name": "stdout",
     "output_type": "stream",
     "text": [
      "/home/drfrbc/Neural-Modeling/scripts\n"
     ]
    }
   ],
   "source": [
    "import sys\n",
    "sys.path.append(\"../\")\n",
    "sys.path.append(\"../Modules/\")\n",
    "\n",
    "import os\n",
    "\n",
    "import numpy as np\n",
    "\n",
    "%cd ../scripts/"
   ]
  },
  {
   "cell_type": "code",
   "execution_count": 29,
   "metadata": {},
   "outputs": [],
   "source": [
    "from scripts.compare_sta import get_all_directories_within, group_directories_by_cell_and_seed\n",
    "sim_directory = '11-06-2024-11-56-10-STAs/'\n",
    "sim_directories = get_all_directories_within(sim_directory)\n",
    "grouped_directories = group_directories_by_cell_and_seed(sim_directories)"
   ]
  },
  {
   "cell_type": "code",
   "execution_count": 41,
   "metadata": {},
   "outputs": [],
   "source": [
    "import analysis\n",
    "\n",
    "from __future__ import print_function\n",
    "import matplotlib.pyplot as plt\n",
    "import pyspike as spk\n",
    "\n",
    "def compare_two_sims(sim_directory1: str, sim_directory2: str):\n",
    "    parameters = analysis.DataReader.load_parameters(sim_directory1)\n",
    "    spike_trains = [spk.SpikeTrain(spike_times=analysis.DataReader.read_data(sim_directory1, \"soma_spikes\"), edges = parameters.h_tstop), \n",
    "                spk.SpikeTrain(spike_times=analysis.DataReader.read_data(sim_directory2, \"soma_spikes\"), edges = parameters.h_tstop)]\n",
    "\n",
    "    f = spk.spike_sync_profile(spike_trains[0], spike_trains[1])\n",
    "\n",
    "    return f.avrg()\n",
    "\n",
    "def compare_simulations(sim_dict):\n",
    "    overall_results = {}\n",
    "    for reduced_type in ['Trees', 'Branches']:\n",
    "        results = {}\n",
    "        for seed in sim_dict['Complex']:\n",
    "            complex_dir = sim_dict['Complex'][seed]\n",
    "            reduced_dir = sim_dict[reduced_type][seed]\n",
    "            val = compare_two_sims(complex_dir, reduced_dir)\n",
    "            results[seed] = val\n",
    "\n",
    "        # Extract values from the results dictionary\n",
    "        values = list(results.values())\n",
    "\n",
    "        # Calculate mean and standard deviation\n",
    "        mean_value = round(np.mean(values), 3)\n",
    "        std_value = round(np.std(values), 3)\n",
    "\n",
    "        print(f\"{reduced_type} spike synchrony: (mean: {mean_value}, std: {std_value})\")\n",
    "        \n",
    "        overall_results[reduced_type] = results\n",
    "        \n",
    "    return overall_results"
   ]
  },
  {
   "cell_type": "code",
   "execution_count": 44,
   "metadata": {},
   "outputs": [
    {
     "name": "stdout",
     "output_type": "stream",
     "text": [
      "Trees spike synchrony: (mean: 0.664, std: 0.085)\n",
      "Branches spike synchrony: (mean: 0.715, std: 0.071)\n"
     ]
    }
   ],
   "source": [
    "results = compare_simulations(grouped_directories)"
   ]
  },
  {
   "cell_type": "code",
   "execution_count": 46,
   "metadata": {},
   "outputs": [
    {
     "data": {
      "text/plain": [
       "{'Trees': {'Np5': 0.7582938388625592,\n",
       "  'Np10': 0.5274725274725275,\n",
       "  'Np1000': 0.6746825182383139,\n",
       "  'Np1000000': 0.6963746223564955},\n",
       " 'Branches': {'Np5': 0.7161458333333334,\n",
       "  'Np10': 0.7562614538790471,\n",
       "  'Np1000': 0.7867636571102553,\n",
       "  'Np1000000': 0.6004765687053217}}"
      ]
     },
     "execution_count": 46,
     "metadata": {},
     "output_type": "execute_result"
    }
   ],
   "source": [
    "results"
   ]
  },
  {
   "cell_type": "markdown",
   "metadata": {},
   "source": [
    "Some more examples from pyspike"
   ]
  },
  {
   "cell_type": "code",
   "execution_count": null,
   "metadata": {},
   "outputs": [],
   "source": [
    "# spike_trains = spk.load_spike_trains_from_txt(\"PySpike_testdata.txt\",#\"SPIKE_Sync_Test.txt\",\n",
    "#                                               edges=(0, 4000))"
   ]
  },
  {
   "cell_type": "code",
   "execution_count": null,
   "metadata": {},
   "outputs": [],
   "source": [
    "# def compare_two_sims(sim_directory1: str, sim_directory2: str):\n",
    "#     parameters = analysis.DataReader.load_parameters(sim_directory1)\n",
    "#     spike_trains = [spk.SpikeTrain(spike_times=analysis.DataReader.read_data(sim_directory1, \"soma_spikes\"), edges = parameters.h_tstop), \n",
    "#                 spk.SpikeTrain(spike_times=analysis.DataReader.read_data(sim_directory2, \"soma_spikes\"), edges = parameters.h_tstop)]\n",
    "    \n",
    "#     # plt.figure()\n",
    "\n",
    "#     # f = spk.spike_sync_profile(spike_trains[0], spike_trains[1])\n",
    "#     f = spk.spike_sync_profile(spike_trains[0], spike_trains[1])\n",
    "#     # x, y = f.get_plottable_data()\n",
    "#     # plt.plot(x, y, '--ok', label=\"SPIKE-SYNC profile\")\n",
    "#     # print(f.x)\n",
    "#     # print(f.y)\n",
    "#     # print(f.mp)\n",
    "\n",
    "#     # print(sim_directory1, sim_directory2)\n",
    "#     # print(\"Average:\", f.avrg())\n",
    "\n",
    "\n",
    "#     # f = spk.spike_profile(spike_trains[0], spike_trains[1])\n",
    "#     # x, y = f.get_plottable_data()\n",
    "\n",
    "#     # plt.plot(x, y, '-b', label=\"SPIKE-profile\")\n",
    "\n",
    "#     # plt.axis([0, 4000, -0.1, 1.1])\n",
    "#     # plt.legend(loc=\"center right\")\n",
    "\n",
    "#     # plt.figure()\n",
    "\n",
    "#     # plt.subplot(211)\n",
    "\n",
    "#     # f = spk.spike_sync_profile(spike_trains)\n",
    "#     # x, y = f.get_plottable_data()\n",
    "#     # plt.plot(x, y, '-b', alpha=0.7, label=\"SPIKE-Sync profile\")\n",
    "\n",
    "#     # x1, y1 = f.get_plottable_data(averaging_window_size=50)\n",
    "#     # plt.plot(x1, y1, '-k', lw=2.5, label=\"averaged SPIKE-Sync profile\")\n",
    "\n",
    "#     # plt.subplot(212)\n",
    "\n",
    "#     # f_psth = spk.psth(spike_trains, bin_size=50.0)\n",
    "#     # x, y = f_psth.get_plottable_data()\n",
    "#     # plt.plot(x, y, '-k', alpha=1.0, label=\"PSTH\")\n",
    "\n",
    "\n",
    "#     # print(\"Average:\", f.avrg())\n",
    "\n",
    "#     # plt.show()"
   ]
  },
  {
   "cell_type": "code",
   "execution_count": null,
   "metadata": {},
   "outputs": [],
   "source": [
    "# plt.figure()\n",
    "# isi_distance = spk.isi_distance_matrix(spike_trains)\n",
    "# plt.imshow(isi_distance, interpolation='none')\n",
    "# plt.title(\"ISI-distance\")\n",
    "\n",
    "# plt.figure()\n",
    "# spike_distance = spk.spike_distance_matrix(spike_trains, interval=(0, 1000))\n",
    "# plt.imshow(spike_distance, interpolation='none')\n",
    "# plt.title(\"SPIKE-distance, T=0-1000\")\n",
    "\n",
    "# plt.figure()\n",
    "# spike_sync = spk.spike_sync_matrix(spike_trains, interval=(2000, 4000))\n",
    "# plt.imshow(spike_sync, interpolation='none')\n",
    "# plt.title(\"SPIKE-Sync, T=2000-4000\")\n",
    "\n",
    "# plt.show()"
   ]
  },
  {
   "cell_type": "code",
   "execution_count": null,
   "metadata": {},
   "outputs": [],
   "source": [
    "# from __future__ import print_function\n",
    "\n",
    "# import pyspike as spk\n",
    "# from datetime import datetime\n",
    "# import cProfile\n",
    "# import pstats\n",
    "\n",
    "# # in case you dont have the cython backends, disable the warnings as follows:\n",
    "# # spk.disable_backend_warning = True\n",
    "\n",
    "# M = 100    # number of spike trains\n",
    "# r = 1.0    # rate of Poisson spike times\n",
    "# T = 1E3    # length of spike trains\n",
    "\n",
    "# print(\"%d spike trains with %d spikes\" % (M, int(r*T)))\n",
    "\n",
    "# spike_trains = []\n",
    "\n",
    "# t_start = datetime.now()\n",
    "# for i in range(M):\n",
    "#     spike_trains.append(spk.generate_poisson_spikes(r, T))\n",
    "# t_end = datetime.now()\n",
    "# runtime = (t_end-t_start).total_seconds()\n",
    "\n",
    "# sort_by = 'tottime'\n",
    "# # sort_by = 'cumtime'\n",
    "\n",
    "# print(\"Spike generation runtime: %.3fs\" % runtime)\n",
    "# print()\n",
    "\n",
    "# print(\"================ ISI COMPUTATIONS ================\")\n",
    "# print(\"    MULTIVARIATE DISTANCE\")\n",
    "# cProfile.run('spk.isi_distance(spike_trains)', 'performance.stat')\n",
    "# p = pstats.Stats('performance.stat')\n",
    "# p.strip_dirs().sort_stats(sort_by).print_stats(5)\n",
    "\n",
    "# print(\"    MULTIVARIATE PROFILE\")\n",
    "# cProfile.run('spk.isi_profile(spike_trains)', 'performance.stat')\n",
    "# p = pstats.Stats('performance.stat')\n",
    "# p.strip_dirs().sort_stats(sort_by).print_stats(5)\n",
    "\n",
    "# print(\"================ SPIKE COMPUTATIONS ================\")\n",
    "# print(\"    MULTIVARIATE DISTANCE\")\n",
    "# cProfile.run('spk.spike_distance(spike_trains)', 'performance.stat')\n",
    "# p = pstats.Stats('performance.stat')\n",
    "# p.strip_dirs().sort_stats(sort_by).print_stats(5)\n",
    "\n",
    "# print(\"    MULTIVARIATE PROFILE\")\n",
    "# cProfile.run('spk.spike_profile(spike_trains)', 'performance.stat')\n",
    "# p = pstats.Stats('performance.stat')\n",
    "# p.strip_dirs().sort_stats(sort_by).print_stats(5)\n",
    "\n",
    "# print(\"================ SPIKE-SYNC COMPUTATIONS ================\")\n",
    "# print(\"    MULTIVARIATE DISTANCE\")\n",
    "# cProfile.run('spk.spike_sync(spike_trains)', 'performance.stat')\n",
    "# p = pstats.Stats('performance.stat')\n",
    "# p.strip_dirs().sort_stats(sort_by).print_stats(5)\n",
    "\n",
    "# print(\"    MULTIVARIATE PROFILE\")\n",
    "# cProfile.run('spk.spike_sync_profile(spike_trains)', 'performance.stat')\n",
    "# p = pstats.Stats('performance.stat')\n",
    "# p.strip_dirs().sort_stats(sort_by).print_stats(5)"
   ]
  }
 ],
 "metadata": {
  "kernelspec": {
   "display_name": "sim_env",
   "language": "python",
   "name": "python3"
  },
  "language_info": {
   "codemirror_mode": {
    "name": "ipython",
    "version": 3
   },
   "file_extension": ".py",
   "mimetype": "text/x-python",
   "name": "python",
   "nbconvert_exporter": "python",
   "pygments_lexer": "ipython3",
   "version": "3.1.-1"
  }
 },
 "nbformat": 4,
 "nbformat_minor": 2
}
