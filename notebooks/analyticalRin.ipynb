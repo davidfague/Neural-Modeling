{
 "cells": [
  {
   "cell_type": "code",
   "execution_count": 1,
   "metadata": {},
   "outputs": [
    {
     "name": "stderr",
     "output_type": "stream",
     "text": [
      "Warning: no DISPLAY environment variable.\n",
      "--No graphics will be displayed.\n"
     ]
    }
   ],
   "source": [
    "import sys\n",
    "sys.path.append(\"../\")\n",
    "sys.path.append(\"../Modules/\")\n",
    "\n",
    "from Modules.simulation import Simulation\n",
    "from Modules.cell_builder import SkeletonCell, CellBuilder\n",
    "from Modules.constants import HayParameters\n",
    "\n",
    "import os\n",
    "from neuron import h\n",
    "\n",
    "from logger import Logger # type: ignore\n",
    "\n",
    "import numpy as np"
   ]
  },
  {
   "cell_type": "code",
   "execution_count": 2,
   "metadata": {},
   "outputs": [
    {
     "name": "stdout",
     "output_type": "stream",
     "text": [
      "/home/drfrbc/Neural-Modeling/scripts\n"
     ]
    }
   ],
   "source": [
    "%cd ../scripts"
   ]
  },
  {
   "cell_type": "code",
   "execution_count": 3,
   "metadata": {},
   "outputs": [],
   "source": [
    "try:\n",
    "    os.system(\"rm -r x86_64/\")\n",
    "except:\n",
    "    pass"
   ]
  },
  {
   "cell_type": "code",
   "execution_count": 4,
   "metadata": {},
   "outputs": [],
   "source": [
    "# initialize simulation object and parameters\n",
    "sim = Simulation(SkeletonCell.Hay)\n",
    "parameters = HayParameters(sim_name = 'AnalyticalRin', h_tstop= 1000, all_synapses_off=True) # NOTE: synapses will crash the simulation since they are not mapped and will remain on deleted sections"
   ]
  },
  {
   "cell_type": "code",
   "execution_count": 5,
   "metadata": {},
   "outputs": [
    {
     "data": {
      "text/plain": [
       "1.0"
      ]
     },
     "execution_count": 5,
     "metadata": {},
     "output_type": "execute_result"
    }
   ],
   "source": [
    "os.system(f\"nrnivmodl {sim.cell_type.value['modfiles']} > /dev/null 2>&1\")\n",
    "\n",
    "h.load_file('stdrun.hoc')\n",
    "h.nrn_load_dll('./x86_64/.libs/libnrnmech.so')"
   ]
  },
  {
   "cell_type": "code",
   "execution_count": 6,
   "metadata": {},
   "outputs": [],
   "source": [
    "logger = Logger(None)\n",
    "cell_builder = CellBuilder(sim.cell_type, parameters, logger)"
   ]
  },
  {
   "cell_type": "code",
   "execution_count": 7,
   "metadata": {},
   "outputs": [
    {
     "name": "stdout",
     "output_type": "stream",
     "text": [
      "(2024-07-05 13:54:46.218159)-[PID: 1051575]–[INFO]: Building SkeletonCell.Hay.\n",
      "(2024-07-05 13:54:46.467122)-[PID: 1051575]–[INFO]: Not building synapses.\n",
      "(2024-07-05 13:54:46.468345)-[PID: 1051575]–[INFO]: Finished creating a CellModel object.\n",
      "(2024-07-05 13:54:46.468377)-[PID: 1051575]–[INFO]: Finish building in 0.2506225109100342\n"
     ]
    }
   ],
   "source": [
    "complex_cell, _ = cell_builder.build_cell()"
   ]
  },
  {
   "cell_type": "code",
   "execution_count": 8,
   "metadata": {},
   "outputs": [
    {
     "name": "stdout",
     "output_type": "stream",
     "text": [
      "Removing duplicate coordinate at index 1 in section L5PCtemplate[0].apic[0]\n"
     ]
    }
   ],
   "source": [
    "impedance = h.Impedance()\n",
    "frequency = 0\n",
    "segments, seg_data = complex_cell.get_segments(['all'])\n",
    "soma_seg = segments[0]"
   ]
  },
  {
   "cell_type": "code",
   "execution_count": 9,
   "metadata": {},
   "outputs": [
    {
     "data": {
      "text/plain": [
       "0.0"
      ]
     },
     "execution_count": 9,
     "metadata": {},
     "output_type": "execute_result"
    }
   ],
   "source": [
    "impedance.loc(soma_seg)\n",
    "impedance.compute(frequency, 1)"
   ]
  },
  {
   "cell_type": "code",
   "execution_count": 10,
   "metadata": {},
   "outputs": [
    {
     "data": {
      "text/plain": [
       "40.772165378686694"
      ]
     },
     "execution_count": 10,
     "metadata": {},
     "output_type": "execute_result"
    }
   ],
   "source": [
    "def calculate_Rin_analytically(segments, v_init, active_channels=1):\n",
    "    # Set the initial membrane potential\n",
    "    h.v_init = v_init\n",
    "    # Initialize the simulation with the specified initial potential\n",
    "    h.finitialize(h.v_init)\n",
    "    # Initialize NEURON's Impedance class\n",
    "    impedance = h.Impedance()\n",
    "    \n",
    "    # Define the frequency for impedance calculation (0 Hz for input resistance)\n",
    "    frequency = 0\n",
    "    \n",
    "    # Set up the impedance calculation, reference to the first compartment (soma)\n",
    "    soma_seg = segments[0]\n",
    "    impedance.loc(soma_seg)  # Assume the soma is at the center\n",
    "    \n",
    "    # Initialize the simulation with the specified initial potential\n",
    "    # h.finitialize(h.v_init)\n",
    "    \n",
    "    # Perform the extended impedance calculation\n",
    "    impedance.compute(frequency, active_channels)\n",
    "    \n",
    "    # Get the input resistance at the soma\n",
    "    R_in_soma = impedance.input(0.5)\n",
    "    \n",
    "    return R_in_soma\n",
    "\n",
    "calculate_Rin_analytically(segments, v_init=-77)"
   ]
  },
  {
   "cell_type": "code",
   "execution_count": 11,
   "metadata": {},
   "outputs": [
    {
     "name": "stdout",
     "output_type": "stream",
     "text": [
      "Soma v_rest (simulation): -77.03115965556812 mV\n",
      "Soma v_steady (simulation): -103.05528691801365 mV\n",
      "Soma input resistance (simulation): 26.024127262445532 MOhms\n"
     ]
    },
    {
     "data": {
      "image/png": "[encoded data removed]",
      "text/plain": [
       "<Figure size 640x480 with 1 Axes>"
      ]
     },
     "metadata": {},
     "output_type": "display_data"
    }
   ],
   "source": [
    "import matplotlib.pyplot as plt\n",
    "\n",
    "\n",
    "def calculate_Rin_simulation(segments, v_init):\n",
    "    soma_seg = segments[0]\n",
    "    # Simulation for validation\n",
    "    stim = h.IClamp(soma_seg)\n",
    "    stim.delay = 100  # ms\n",
    "    stim.dur = 500    # ms\n",
    "    stim.amp = -1     # nA\n",
    "\n",
    "    v = h.Vector().record(soma_seg._ref_v)\n",
    "    t = h.Vector().record(h._ref_t)\n",
    "    vs = []\n",
    "    for i,seg in enumerate(segments):\n",
    "        vs.append(h.Vector().record(seg._ref_v))\n",
    "\n",
    "\n",
    "    h.finitialize(v_init)\n",
    "    h.continuerun(700)\n",
    "\n",
    "    v_rest = v[int(100 / h.dt)]\n",
    "    v_steady = v[int(600 / h.dt)]\n",
    "    v_rests = [v[int(100 / h.dt)] for v in vs]\n",
    "\n",
    "    delta_v = v_steady - v_rest\n",
    "    R_in_soma_simulation = delta_v / stim.amp  # in MOhms\n",
    "    print(f\"Soma v_rest (simulation): {v_rest} mV\")\n",
    "    print(f\"Soma v_steady (simulation): {v_steady} mV\")\n",
    "    print(f\"Soma input resistance (simulation): {R_in_soma_simulation} MOhms\")\n",
    "\n",
    "    return v,t, v_rests\n",
    "\n",
    "v,t, vrests = calculate_Rin_simulation(segments, v_init=-77.15)\n",
    "plt.plot(t,v)\n",
    "plt.show()"
   ]
  },
  {
   "cell_type": "code",
   "execution_count": 12,
   "metadata": {},
   "outputs": [
    {
     "name": "stdout",
     "output_type": "stream",
     "text": [
      "Soma v_rest (simulation): -77.03115965556812 mV\n",
      "Soma v_steady (simulation): -103.05528691801365 mV\n",
      "Soma input resistance (simulation): 26.024127262445532 MOhms\n"
     ]
    },
    {
     "data": {
      "image/png": "[encoded data removed]",
      "text/plain": [
       "<Figure size 640x480 with 1 Axes>"
      ]
     },
     "metadata": {},
     "output_type": "display_data"
    }
   ],
   "source": [
    "import matplotlib.pyplot as plt\n",
    "\n",
    "# record resting gating variables and voltages\n",
    "def calculate_Rin_simulation_record_resting(segments, v_init):\n",
    "    soma_seg = segments[0]\n",
    "    # Simulation for validation\n",
    "    stim = h.IClamp(soma_seg)\n",
    "    stim.delay = 100  # ms\n",
    "    stim.dur = 500    # ms\n",
    "    stim.amp = -1     # nA\n",
    "\n",
    "    v = h.Vector().record(soma_seg._ref_v)\n",
    "    t = h.Vector().record(h._ref_t)\n",
    "\n",
    "    vs = []\n",
    "    for i,seg in enumerate(segments):\n",
    "        vs.append(h.Vector().record(seg._ref_v))\n",
    "\n",
    "    gating_variables = [{} for _ in segments]\n",
    "    for seg, gating_dict in zip(segments, gating_variables):\n",
    "        for mech in seg:\n",
    "            for var in dir(mech):\n",
    "                if var in ['m', 'h', 'n']:  # Include other gating variables as needed\n",
    "                    gating_dict[var] = h.Vector().record(getattr(mech, f'_ref_{var}'))\n",
    "\n",
    "    h.finitialize(v_init)\n",
    "    h.continuerun(700)\n",
    "\n",
    "    v_rest = v[int(100 / h.dt)]\n",
    "    v_steady = v[int(600 / h.dt)]\n",
    "    v_rests = [v[int(100 / h.dt)] for v in vs]\n",
    "    steady_state_gating = []\n",
    "    for gating_dict in gating_variables:\n",
    "        steady_state_values = {}\n",
    "        for var, vec in gating_dict.items():\n",
    "            steady_state_values[var] = vec[int(100 / h.dt)]  # Use the value at the same time as vrests\n",
    "        steady_state_gating.append(steady_state_values)\n",
    "\n",
    "    delta_v = v_steady - v_rest\n",
    "    R_in_soma_simulation = delta_v / stim.amp  # in MOhms\n",
    "    print(f\"Soma v_rest (simulation): {v_rest} mV\")\n",
    "    print(f\"Soma v_steady (simulation): {v_steady} mV\")\n",
    "    print(f\"Soma input resistance (simulation): {R_in_soma_simulation} MOhms\")\n",
    "\n",
    "    return v,t, v_rests, steady_state_gating\n",
    "\n",
    "v,t, vrests, steady_state_gating = calculate_Rin_simulation_record_resting(segments, v_init=-77.15)\n",
    "plt.plot(t,v)\n",
    "plt.show()"
   ]
  },
  {
   "cell_type": "code",
   "execution_count": 13,
   "metadata": {},
   "outputs": [
    {
     "data": {
      "image/png": "[encoded data removed]",
      "text/plain": [
       "<Figure size 640x480 with 1 Axes>"
      ]
     },
     "metadata": {},
     "output_type": "display_data"
    }
   ],
   "source": [
    "plt.hist(vrests, bins=10, edgecolor='black')\n",
    "plt.title('Histogram')\n",
    "plt.xlabel('Value')\n",
    "plt.ylabel('Frequency')\n",
    "plt.show()"
   ]
  },
  {
   "cell_type": "markdown",
   "metadata": {},
   "source": [
    "Trying to improve analytical accuracy by updating v_init to equal v_rest."
   ]
  },
  {
   "cell_type": "code",
   "execution_count": 33,
   "metadata": {},
   "outputs": [
    {
     "name": "stdout",
     "output_type": "stream",
     "text": [
      "Soma input resistance: 23.7910609084026 MOhms\n"
     ]
    }
   ],
   "source": [
    "def set_gating_variables_from_steady_state(segments, steady_state_gating):\n",
    "    \"\"\"\n",
    "    Set the gating variables for each segment to their steady-state values.\n",
    "    \n",
    "    Parameters:\n",
    "    segments (list): List of segments in the model.\n",
    "    steady_state_gating (list of dicts): List of dictionaries containing the steady-state gating variables\n",
    "                                         for each segment.\n",
    "    \"\"\"\n",
    "    for seg, gating_values in zip(segments, steady_state_gating):\n",
    "        for mech in seg:\n",
    "            for var, value in gating_values.items():\n",
    "                if hasattr(mech, var):\n",
    "                    setattr(mech, var, value)\n",
    "\n",
    "def calculate_soma_input_resistance_all_segs_vrests(segments, vrests, steady_state_gating, active_channels=1):\n",
    "    # Ensure segments and vrests lists are of the same length\n",
    "    assert len(segments) == len(vrests), \"Segments and vrests lists must be of the same length\"\n",
    "    \n",
    "    # Set the initial membrane potential for each segment\n",
    "    for seg, vrest in zip(segments, vrests):\n",
    "        seg.v = vrest  # Set the membrane potential of each segment directly\n",
    "\n",
    "    set_gating_variables_from_steady_state(segments, steady_state_gating)  # Initialize active channel states\n",
    "    \n",
    "    # Initialize NEURON's Impedance class\n",
    "    impedance = h.Impedance()\n",
    "    \n",
    "    # Define the frequency for impedance calculation (0 Hz for input resistance)\n",
    "    frequency = 0\n",
    "    \n",
    "    # Set up the impedance calculation, reference to the first compartment (soma)\n",
    "    soma_seg = segments[0]\n",
    "    impedance.loc(soma_seg)  # Assume the soma is at the center\n",
    "    \n",
    "    # Perform the extended impedance calculation\n",
    "    impedance.compute(frequency, active_channels)\n",
    "    \n",
    "    # Get the input resistance at the soma\n",
    "    R_in_soma = impedance.input(soma_seg)\n",
    "    \n",
    "    return R_in_soma\n",
    "\n",
    "R_in_soma = calculate_soma_input_resistance_all_segs_vrests(segments, vrests, steady_state_gating)\n",
    "print(f\"Soma input resistance: {R_in_soma} MOhms\")"
   ]
  },
  {
   "cell_type": "markdown",
   "metadata": {},
   "source": [
    "run simulation again after update initial values"
   ]
  },
  {
   "cell_type": "code",
   "execution_count": 25,
   "metadata": {},
   "outputs": [
    {
     "name": "stdout",
     "output_type": "stream",
     "text": [
      "Soma v_rest (simulation): -77.03115965556812 mV\n",
      "Soma v_steady (simulation): -103.05528691801365 mV\n",
      "Soma input resistance (simulation): 26.024127262445532 MOhms\n"
     ]
    },
    {
     "data": {
      "image/png": "[encoded data removed]",
      "text/plain": [
       "<Figure size 640x480 with 1 Axes>"
      ]
     },
     "metadata": {},
     "output_type": "display_data"
    }
   ],
   "source": [
    "def calculate_Rin_simulation(segments, v_init):\n",
    "    soma_seg = segments[0]\n",
    "    # Simulation for validation\n",
    "    stim = h.IClamp(soma_seg)\n",
    "    stim.delay = 100  # ms\n",
    "    stim.dur = 500    # ms\n",
    "    stim.amp = -1     # nA\n",
    "\n",
    "    v = h.Vector().record(soma_seg._ref_v)\n",
    "    t = h.Vector().record(h._ref_t)\n",
    "    vs = []\n",
    "    for i,seg in enumerate(segments):\n",
    "        vs.append(h.Vector().record(seg._ref_v))\n",
    "\n",
    "\n",
    "    h.finitialize(v_init)\n",
    "    h.continuerun(700)\n",
    "\n",
    "    v_rest = v[int(100 / h.dt)]\n",
    "    v_steady = v[int(600 / h.dt)]\n",
    "    v_rests = [v[int(100 / h.dt)] for v in vs]\n",
    "\n",
    "    delta_v = v_steady - v_rest\n",
    "    R_in_soma_simulation = delta_v / stim.amp  # in MOhms\n",
    "    print(f\"Soma v_rest (simulation): {v_rest} mV\")\n",
    "    print(f\"Soma v_steady (simulation): {v_steady} mV\")\n",
    "    print(f\"Soma input resistance (simulation): {R_in_soma_simulation} MOhms\")\n",
    "\n",
    "    return v,t, v_rests\n",
    "\n",
    "v,t, vrests = calculate_Rin_simulation(segments, v_init=-77.15)\n",
    "plt.plot(t,v)\n",
    "plt.show()"
   ]
  },
  {
   "cell_type": "markdown",
   "metadata": {},
   "source": [
    "In summary, the analytical approach can be a good approximation if the resting state variables and voltages are known. Unfortunately simulation was used to know them."
   ]
  },
  {
   "cell_type": "code",
   "execution_count": 27,
   "metadata": {},
   "outputs": [],
   "source": [
    "# soma_mechs = [mech for mech in soma_seg]"
   ]
  },
  {
   "cell_type": "code",
   "execution_count": 30,
   "metadata": {},
   "outputs": [
    {
     "data": {
      "text/plain": [
       "0.002121616948244206"
      ]
     },
     "execution_count": 30,
     "metadata": {},
     "output_type": "execute_result"
    }
   ],
   "source": [
    "# soma_mechs[4].m"
   ]
  },
  {
   "cell_type": "code",
   "execution_count": 18,
   "metadata": {},
   "outputs": [
    {
     "name": "stdout",
     "output_type": "stream",
     "text": [
      "Ih\n",
      "ca_ion\n",
      "CaDynamics_E2\n",
      "na_ion\n",
      "NaTa_t\n",
      "Nap_Et2\n",
      "k_ion\n",
      "K_Pst\n",
      "K_Tst\n",
      "SK_E2\n",
      "SKv3_1\n",
      "Ca_HVA\n",
      "Ca_LVAst\n",
      "pas\n"
     ]
    }
   ],
   "source": [
    "# for mech in soma_seg:\n",
    "#     print(mech)"
   ]
  },
  {
   "cell_type": "markdown",
   "metadata": {},
   "source": [
    "Notes:\n",
    "1. analytical soma_Rin calculation = 40.56 MOhms.\n",
    "2. simulated soma_Rin = 26.02 MOhms\n",
    "3. analytical soma_Rin without including active gating variables = 58.52 mV\n",
    "4. analytical soma_Rin calculation treats v_init as v_rest.\n",
    "5. Simulated v_rest is -77.15 mV\n",
    "6. Soma e_pas is -90 mV"
   ]
  },
  {
   "cell_type": "code",
   "execution_count": 31,
   "metadata": {},
   "outputs": [
    {
     "data": {
      "text/plain": [
       "40.496350629720645"
      ]
     },
     "execution_count": 31,
     "metadata": {},
     "output_type": "execute_result"
    }
   ],
   "source": [
    "# impedance.input(soma_seg)"
   ]
  },
  {
   "cell_type": "code",
   "execution_count": 34,
   "metadata": {},
   "outputs": [],
   "source": [
    "# dir(h)"
   ]
  }
 ],
 "metadata": {
  "kernelspec": {
   "display_name": "sim_env",
   "language": "python",
   "name": "python3"
  },
  "language_info": {
   "codemirror_mode": {
    "name": "ipython",
    "version": 3
   },
   "file_extension": ".py",
   "mimetype": "text/x-python",
   "name": "python",
   "nbconvert_exporter": "python",
   "pygments_lexer": "ipython3",
   "version": "3.10.14"
  }
 },
 "nbformat": 4,
 "nbformat_minor": 2
}
