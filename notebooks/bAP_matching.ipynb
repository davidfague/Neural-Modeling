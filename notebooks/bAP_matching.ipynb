{
 "cells": [
  {
   "cell_type": "markdown",
   "metadata": {},
   "source": [
    "This notebook measures and shows bAPs. There is also in-vivo documentation from a source: \n",
    "Nevian, T., Larkum, M., Polsky, A. et al. Properties of basal dendrites of layer 5 pyramidal neurons: a direct patch-clamp recording study. Nat Neurosci 10, 206–214 (2007). https://doi.org/10.1038/nn1826\n",
    "https://www.nature.com/articles/nn1826#citeas"
   ]
  },
  {
   "cell_type": "code",
   "execution_count": null,
   "metadata": {},
   "outputs": [],
   "source": [
    "import sys\n",
    "sys.path.append(\"../\")\n",
    "sys.path.append(\"../Modules/\")\n",
    "\n",
    "#from analysis import CellGraph\n",
    "\n",
    "import os\n",
    "import numpy as np\n",
    "import pandas as pd\n",
    "import matplotlib.pyplot as plt"
   ]
  },
  {
   "cell_type": "code",
   "execution_count": null,
   "metadata": {},
   "outputs": [],
   "source": [
    "sim_directory = \"SkeletonCell.Hay-29-12-2023-15-14-29/try1/\""
   ]
  },
  {
   "cell_type": "code",
   "execution_count": null,
   "metadata": {},
   "outputs": [],
   "source": [
    "seg_data = pd.read_csv(os.path.join(sim_directory, \"segment_data.csv\"))"
   ]
  },
  {
   "cell_type": "markdown",
   "metadata": {},
   "source": [
    "https://www.nature.com/articles/nn1826#citeas:~:text=The%20amplitude%20of%20the%20BAP%20evoked%20by%20somatic%20current%20injection%20attenuated%20with%20a%20length%20constant%20of%20138%20%CE%BCm%20(Fig.%201g).\n",
    "\n",
    "The amplitude of the BAP evoked by somatic current injection attenuated with a length constant of 138 μm (Fig. 1g)."
   ]
  },
  {
   "cell_type": "markdown",
   "metadata": {},
   "source": [
    "https://www.nature.com/articles/nn1826#citeas:~:text=The%20average%20conduction%20velocity%20of%20action%20potentials%20propagating%20from%20the%20soma%20to%20the%20basal%20dendrites%2C%20measured%20by%20the%20latency%20of%20the%20half%2Damplitude%20of%20the%20rising%20phase%2C%20was%20341%20%CE%BCm%20ms%E2%88%921%20(Fig.%201h).\n",
    "\n",
    "The average conduction velocity of action potentials propagating from the soma to the basal dendrites, measured by the latency of the half-amplitude of the rising phase, was 341 μm ms−1 (Fig. 1h).\n",
    "\n",
    "https://www.nature.com/articles/nn1826#citeas:~:text=This%20conduction%20velocity%20was%20considerably%20slower%20than%20the%20velocity%20(508%20%CE%BCm%20ms%E2%88%921)%20measured%20in%20the%20apical%20dendrite%20of%20the%20same%20neuronal%20type23.\n",
    "\n",
    "This conduction velocity was considerably slower than the velocity (508 μm ms−1) measured in the apical dendrite of the same neuronal type23.\n",
    "\n",
    "Our experimental findings point to only a 1.48-fold difference in conduction velocity, suggesting that there is a higher density of voltage-gated sodium channels (VGSCs) in basal dendrites than in the main apical dendrite. "
   ]
  },
  {
   "cell_type": "markdown",
   "metadata": {},
   "source": [
    "Nevian, T., Larkum, M., Polsky, A. et al. Properties of basal dendrites of layer 5 pyramidal neurons: a direct patch-clamp recording study. Nat Neurosci 10, 206–214 (2007). https://doi.org/10.1038/nn1826\n",
    "https://www.nature.com/articles/nn1826#citeas"
   ]
  },
  {
   "cell_type": "markdown",
   "metadata": {},
   "source": [
    "Simulation"
   ]
  },
  {
   "cell_type": "code",
   "execution_count": null,
   "metadata": {},
   "outputs": [],
   "source": [
    "from Modules.simulation import Simulation\n",
    "from Modules.cell_builder import SkeletonCell\n",
    "from Modules.constants import HayParameters\n",
    "\n",
    "if __name__ == \"__main__\":\n",
    "    \n",
    "    sim = Simulation(SkeletonCell.Hay)\n",
    "    sim.submit_job(HayParameters(\"try1\", reduce_cell = False, expand_cable = False))\n",
    "    sim.run()\n"
   ]
  },
  {
   "cell_type": "code",
   "execution_count": null,
   "metadata": {},
   "outputs": [],
   "source": []
  }
 ],
 "metadata": {
  "language_info": {
   "name": "python"
  }
 },
 "nbformat": 4,
 "nbformat_minor": 2
}
