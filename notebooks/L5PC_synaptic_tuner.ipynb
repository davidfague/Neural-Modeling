{
  "cells": [
    {
      "cell_type": "markdown",
      "metadata": {
        "id": "view-in-github",
        "colab_type": "text"
      },
      "source": [
        "<a href=\"https://colab.research.google.com/github/davidfague/Neural-Modeling/blob/cleanup2/notebooks/L5PC_synaptic_tuner.ipynb\" target=\"_parent\"><img src=\"https://colab.research.google.com/assets/colab-badge.svg\" alt=\"Open In Colab\"/></a>"
      ]
    },
    {
      "cell_type": "markdown",
      "metadata": {
        "id": "pjBgljhIbee4"
      },
      "source": [
        "TODO: https://mailmissouri-my.sharepoint.com/:w:/r/personal/drfrbc_umsystem_edu/Documents/Isaac%20synapse_tuner.docx?d=w74481c7e893e42b4b4782709409f4ed7&csf=1&web=1&e=yJlDvh\n",
        "\n",
        "(1) be able to automatically tune Ben's synapses to match the in vivo data from the word doc (bullet #4.fig1.)\n",
        "\n",
        "(2) replace the postsynaptic cell model with the L5 Cell (details under bullet #2)\n",
        "\n",
        "(3) tune synaptic weight (initW) to match the experimental data's distribution of post-synaptic current magnitudes by region, type (#4.fig2.). To do so, implement gathering across segments of that region.\n",
        "\n",
        "(4) tune Ziao's synapses to match the in-vivo data (#1,3)\n",
        "\n",
        "(5) understand the differences between Ziao's synapses and Ben's synapses"
      ]
    },
    {
      "cell_type": "markdown",
      "metadata": {
        "id": "vQIfiDZWQ1CH"
      },
      "source": [
        "## Pre-processing\n",
        "\n",
        "Cloning repos\n",
        "\n",
        "Moving modfiles\n",
        "\n",
        "Compiling modfiles\n",
        "\n",
        "Changing directory\n"
      ]
    },
    {
      "cell_type": "code",
      "execution_count": 1,
      "metadata": {
        "colab": {
          "base_uri": "https://localhost:8080/"
        },
        "id": "s3rwFXv4njeH",
        "outputId": "bd823913-7961-4c11-b09d-9af21b20ac6a"
      },
      "outputs": [
        {
          "output_type": "stream",
          "name": "stdout",
          "text": [
            "Collecting neuron\n",
            "  Downloading NEURON-8.2.6-cp311-cp311-manylinux_2_17_x86_64.manylinux2014_x86_64.whl.metadata (3.7 kB)\n",
            "Requirement already satisfied: numpy<2,>=1.9.3 in /usr/local/lib/python3.11/dist-packages (from neuron) (1.26.4)\n",
            "Requirement already satisfied: packaging in /usr/local/lib/python3.11/dist-packages (from neuron) (24.2)\n",
            "Collecting find-libpython (from neuron)\n",
            "  Downloading find_libpython-0.4.0-py3-none-any.whl.metadata (2.8 kB)\n",
            "Requirement already satisfied: setuptools in /usr/local/lib/python3.11/dist-packages (from neuron) (75.1.0)\n",
            "Downloading NEURON-8.2.6-cp311-cp311-manylinux_2_17_x86_64.manylinux2014_x86_64.whl (15.2 MB)\n",
            "\u001b[2K   \u001b[90m━━━━━━━━━━━━━━━━━━━━━━━━━━━━━━━━━━━━━━━━\u001b[0m \u001b[32m15.2/15.2 MB\u001b[0m \u001b[31m30.3 MB/s\u001b[0m eta \u001b[36m0:00:00\u001b[0m\n",
            "\u001b[?25hDownloading find_libpython-0.4.0-py3-none-any.whl (8.7 kB)\n",
            "Installing collected packages: find-libpython, neuron\n",
            "Successfully installed find-libpython-0.4.0 neuron-8.2.6\n"
          ]
        }
      ],
      "source": [
        "!pip install neuron\n",
        "# !pip install bmtool # don't install to use the forked repo"
      ]
    },
    {
      "cell_type": "code",
      "source": [
        "import neuron\n",
        "from neuron import h"
      ],
      "metadata": {
        "id": "EZfcO90lfeQM"
      },
      "execution_count": 2,
      "outputs": []
    },
    {
      "cell_type": "code",
      "execution_count": 3,
      "metadata": {
        "colab": {
          "base_uri": "https://localhost:8080/"
        },
        "id": "NeGFbktprsTh",
        "outputId": "b788d022-793e-47b1-87e0-18e468508421"
      },
      "outputs": [
        {
          "output_type": "stream",
          "name": "stdout",
          "text": [
            "Cloning into 'Neural-Modeling'...\n",
            "remote: Enumerating objects: 5067, done.\u001b[K\n",
            "remote: Counting objects: 100% (2119/2119), done.\u001b[K\n",
            "remote: Compressing objects: 100% (814/814), done.\u001b[K\n",
            "remote: Total 5067 (delta 1462), reused 1898 (delta 1292), pack-reused 2948 (from 1)\u001b[K\n",
            "Receiving objects: 100% (5067/5067), 54.42 MiB | 9.92 MiB/s, done.\n",
            "Resolving deltas: 100% (3420/3420), done.\n",
            "Updating files: 100% (427/427), done.\n"
          ]
        }
      ],
      "source": [
        "# clone the other repo for its modfiles\n",
        "!git clone https://github.com/davidfague/Neural-Modeling.git"
      ]
    },
    {
      "cell_type": "code",
      "execution_count": 4,
      "metadata": {
        "colab": {
          "base_uri": "https://localhost:8080/"
        },
        "id": "T2FmcyGYrtIU",
        "outputId": "001b8bd1-1975-4ca8-8e2f-61c37be1d80b"
      },
      "outputs": [
        {
          "output_type": "stream",
          "name": "stdout",
          "text": [
            "Cloning into 'bmtool'...\n",
            "remote: Enumerating objects: 1864, done.\u001b[K\n",
            "remote: Counting objects: 100% (339/339), done.\u001b[K\n",
            "remote: Compressing objects: 100% (206/206), done.\u001b[K\n",
            "remote: Total 1864 (delta 187), reused 242 (delta 130), pack-reused 1525 (from 1)\u001b[K\n",
            "Receiving objects: 100% (1864/1864), 12.76 MiB | 8.87 MiB/s, done.\n",
            "Resolving deltas: 100% (1163/1163), done.\n"
          ]
        }
      ],
      "source": [
        "# clone the forked repo\n",
        "!git clone https://github.com/davidfague/bmtool.git"
      ]
    },
    {
      "cell_type": "code",
      "execution_count": 5,
      "metadata": {
        "id": "c7zPPIwoqV6i"
      },
      "outputs": [],
      "source": [
        "# move the modfiles from the other repo\n",
        "# https://github.com/davidfague/Neural-Modeling/tree/cleanup2/modfiles/hay -> /content/bmtool/examples/synapses\n",
        "\n",
        "!mv Neural-Modeling/modfiles/hay/* /content/bmtool/examples/synapses/modfiles/"
      ]
    },
    {
      "cell_type": "code",
      "execution_count": 6,
      "metadata": {
        "id": "MkbOcPXsw-RJ"
      },
      "outputs": [],
      "source": [
        "import os\n",
        "os.chdir('/content/bmtool/examples/synapses')"
      ]
    },
    {
      "cell_type": "code",
      "execution_count": 7,
      "metadata": {
        "id": "PIUidJgT4Y4_"
      },
      "outputs": [],
      "source": [
        "import sys\n",
        "sys.path.append('../../bmtool/')"
      ]
    },
    {
      "cell_type": "code",
      "execution_count": 8,
      "metadata": {
        "id": "wwD1Cv2e4fTP"
      },
      "outputs": [],
      "source": [
        "import bmtool"
      ]
    },
    {
      "cell_type": "code",
      "execution_count": 9,
      "metadata": {
        "id": "gY4HP287w8BR"
      },
      "outputs": [],
      "source": [
        "# having 2 h.vecstim objects seems to give an error & removing one of these seemed to fix\n",
        "# !rm modfiles/vecevent_coreneuron.mod # keep this one assuming it is faster or more optimized or a later version that encompasses the other\n",
        "!rm modfiles/vecevent.mod"
      ]
    },
    {
      "cell_type": "code",
      "execution_count": 10,
      "metadata": {
        "id": "wNwlWNINl7DB",
        "colab": {
          "base_uri": "https://localhost:8080/"
        },
        "outputId": "5c60e884-8343-4d3c-a1f2-1116a754d389"
      },
      "outputs": [
        {
          "output_type": "stream",
          "name": "stdout",
          "text": [
            "0\n"
          ]
        }
      ],
      "source": [
        "# if already compiled then lets delete the folder and force a recompile\n",
        "if os.path.isdir('modfiles/x86_64'):\n",
        "    os.system(\"rm -rf modfiles/x86_64 \")\n",
        "# compile the mod files\n",
        "if not os.path.isdir(\"modfiles/x86_64\"):\n",
        "    os.chdir('modfiles')\n",
        "    print(os.system(\"nrnivmodl\"))\n",
        "    os.chdir(\"..\")\n"
      ]
    },
    {
      "cell_type": "code",
      "source": [
        "!nrnivmodl modfiles/"
      ],
      "metadata": {
        "colab": {
          "base_uri": "https://localhost:8080/"
        },
        "id": "goBp8wdxj1Q-",
        "outputId": "1b884c34-1dbd-4ae7-8086-27425bcf3e14"
      },
      "execution_count": 11,
      "outputs": [
        {
          "output_type": "stream",
          "name": "stdout",
          "text": [
            "/usr/local/bin/nrnivmodl:10: DeprecationWarning: pkg_resources is deprecated as an API. See https://setuptools.pypa.io/en/latest/pkg_resources.html\n",
            "  from pkg_resources import working_set\n",
            "/content/bmtool/examples/synapses\n",
            "Mod files: \"modfiles/modfiles//AMPA_NMDA.mod\" \"modfiles/modfiles//AMPA_NMDA_STP_LTP.mod\" \"modfiles/modfiles//AMPA_NMDA_STP.mod\" \"modfiles/modfiles//cadad.mod\" \"modfiles/modfiles//CaDynamics_E2.mod\" \"modfiles/modfiles//Ca_HVA.mod\" \"modfiles/modfiles//cal2.mod\" \"modfiles/modfiles//Ca_LVAst.mod\" \"modfiles/modfiles//can_mig.mod\" \"modfiles/modfiles//epsp.mod\" \"modfiles/modfiles//exp2syn_stp.mod\" \"modfiles/modfiles//GABA_AB.mod\" \"modfiles/modfiles//GABA_AB_STP.mod\" \"modfiles/modfiles//GABA_A_STP.mod\" \"modfiles/modfiles//gap.mod\" \"modfiles/modfiles//Gfluct.mod\" \"modfiles/modfiles//h_kole.mod\" \"modfiles/modfiles//Ih.mod\" \"modfiles/modfiles//imCA3.mod\" \"modfiles/modfiles//Im.mod\" \"modfiles/modfiles//int2pyr.mod\" \"modfiles/modfiles//kap_BS.mod\" \"modfiles/modfiles//kBK.mod\" \"modfiles/modfiles//kdmc_BS.mod\" \"modfiles/modfiles//kdr_BS.mod\" \"modfiles/modfiles//kdrCA3.mod\" \"modfiles/modfiles//kdrinter.mod\" \"modfiles/modfiles//K_Pst.mod\" \"modfiles/modfiles//K_Tst.mod\" \"modfiles/modfiles//leak.mod\" \"modfiles/modfiles//nainter.mod\" \"modfiles/modfiles//napCA3.mod\" \"modfiles/modfiles//Nap_Et2.mod\" \"modfiles/modfiles//NaTa_t.mod\" \"modfiles/modfiles//natCA3.mod\" \"modfiles/modfiles//NaTs2_t.mod\" \"modfiles/modfiles//nax_BS.mod\" \"modfiles/modfiles//pyr2pyr.mod\" \"modfiles/modfiles//pyr2pyrSUM.mod\" \"modfiles/modfiles//SK_E2.mod\" \"modfiles/modfiles//SKv3_1.mod\" \"modfiles/modfiles//vecevent_coreneuron.mod\"\n",
            "\n",
            "Creating 'x86_64' directory for .o files.\n",
            "\n",
            " -> \u001b[32mCompiling\u001b[0m mod_func.cpp\n",
            " -> \u001b[32mNMODL\u001b[0m ../modfiles//AMPA_NMDA.mod\n",
            " -> \u001b[32mNMODL\u001b[0m ../modfiles//AMPA_NMDA_STP_LTP.mod\n",
            "Translating AMPA_NMDA_STP_LTP.mod into /content/bmtool/examples/synapses/x86_64/AMPA_NMDA_STP_LTP.c\n",
            "Translating AMPA_NMDA.mod into /content/bmtool/examples/synapses/x86_64/AMPA_NMDA.c\n",
            "Thread Safe\n",
            " -> \u001b[32mNMODL\u001b[0m ../modfiles//AMPA_NMDA_STP.mod\n",
            " -> \u001b[32mNMODL\u001b[0m ../modfiles//cadad.mod\n",
            "Translating AMPA_NMDA_STP.mod into /content/bmtool/examples/synapses/x86_64/AMPA_NMDA_STP.c\n",
            "Thread Safe\n",
            "Thread Safe\n",
            " -> \u001b[32mNMODL\u001b[0m ../modfiles//CaDynamics_E2.mod\n",
            "Translating cadad.mod into /content/bmtool/examples/synapses/x86_64/cadad.c\n",
            " -> \u001b[32mNMODL\u001b[0m ../modfiles//Ca_HVA.mod\n",
            "Thread Safe\n",
            "Translating CaDynamics_E2.mod into /content/bmtool/examples/synapses/x86_64/CaDynamics_E2.c\n",
            " -> \u001b[32mNMODL\u001b[0m ../modfiles//cal2.mod\n",
            "Thread Safe\n",
            "Translating Ca_HVA.mod into /content/bmtool/examples/synapses/x86_64/Ca_HVA.c\n",
            "Thread Safe\n",
            " -> \u001b[32mNMODL\u001b[0m ../modfiles//Ca_LVAst.mod\n",
            "Translating cal2.mod into /content/bmtool/examples/synapses/x86_64/cal2.c\n",
            " -> \u001b[32mNMODL\u001b[0m ../modfiles//can_mig.mod\n",
            "Warning: Default 2 of PARAMETER cao will be ignored and set by NEURON.\n",
            "Warning: Default 5e-05 of PARAMETER cai will be ignored and set by NEURON.\n",
            "Thread Safe\n",
            "Translating can_mig.mod into /content/bmtool/examples/synapses/x86_64/can_mig.c\n",
            "Warning: Default 2 of PARAMETER cao will be ignored and set by NEURON.\n",
            " -> \u001b[32mNMODL\u001b[0m ../modfiles//epsp.mod\n",
            "Translating Ca_LVAst.mod into /content/bmtool/examples/synapses/x86_64/Ca_LVAst.c\n",
            "Warning: Default 5e-05 of PARAMETER cai will be ignored and set by NEURON.\n",
            "Thread Safe\n",
            "Thread Safe\n",
            " -> \u001b[32mNMODL\u001b[0m ../modfiles//exp2syn_stp.mod\n",
            " -> \u001b[32mNMODL\u001b[0m ../modfiles//GABA_AB.mod\n",
            "Translating epsp.mod into /content/bmtool/examples/synapses/x86_64/epsp.c\n",
            "Thread Safe\n",
            " -> \u001b[32mNMODL\u001b[0m ../modfiles//GABA_AB_STP.mod\n",
            "Translating GABA_AB.mod into /content/bmtool/examples/synapses/x86_64/GABA_AB.c\n",
            "Translating exp2syn_stp.mod into /content/bmtool/examples/synapses/x86_64/exp2syn_stp.c\n",
            "Thread Safe\n",
            "Thread Safe\n",
            " -> \u001b[32mNMODL\u001b[0m ../modfiles//GABA_A_STP.mod\n",
            "Translating GABA_AB_STP.mod into /content/bmtool/examples/synapses/x86_64/GABA_AB_STP.c\n",
            "Thread Safe\n",
            " -> \u001b[32mNMODL\u001b[0m ../modfiles//gap.mod\n",
            "Translating GABA_A_STP.mod into /content/bmtool/examples/synapses/x86_64/GABA_A_STP.c\n",
            " -> \u001b[32mNMODL\u001b[0m ../modfiles//Gfluct.mod\n",
            "Translating gap.mod into /content/bmtool/examples/synapses/x86_64/gap.c\n",
            "Thread Safe\n",
            "Thread Safe\n",
            " -> \u001b[32mNMODL\u001b[0m ../modfiles//h_kole.mod\n",
            " -> \u001b[32mNMODL\u001b[0m ../modfiles//Ih.mod\n",
            " -> \u001b[32mNMODL\u001b[0m ../modfiles//imCA3.mod\n",
            "Translating Gfluct.mod into /content/bmtool/examples/synapses/x86_64/Gfluct.c\n",
            "Notice: This mechanism cannot be used with CVODE\n",
            "Thread Safe\n",
            "Translating h_kole.mod into /content/bmtool/examples/synapses/x86_64/h_kole.c\n",
            "Thread Safe\n",
            "Translating Ih.mod into /content/bmtool/examples/synapses/x86_64/Ih.c\n",
            "Translating imCA3.mod into /content/bmtool/examples/synapses/x86_64/imCA3.c\n",
            "Thread Safe\n",
            "Thread Safe\n",
            " -> \u001b[32mNMODL\u001b[0m ../modfiles//Im.mod\n",
            " -> \u001b[32mNMODL\u001b[0m ../modfiles//int2pyr.mod\n",
            " -> \u001b[32mNMODL\u001b[0m ../modfiles//kap_BS.mod\n",
            "Translating Im.mod into /content/bmtool/examples/synapses/x86_64/Im.c\n",
            "Thread Safe\n",
            "Translating int2pyr.mod into /content/bmtool/examples/synapses/x86_64/int2pyr.c\n",
            " -> \u001b[32mNMODL\u001b[0m ../modfiles//kBK.mod\n",
            "Translating kap_BS.mod into /content/bmtool/examples/synapses/x86_64/kap_BS.c\n",
            " -> \u001b[32mNMODL\u001b[0m ../modfiles//kdmc_BS.mod\n",
            "Thread Safe\n",
            "Translating kBK.mod into /content/bmtool/examples/synapses/x86_64/kBK.c\n",
            "WARNING: Dimensions may be wrong for READ ica with POINT_PROCESS\n",
            "Thread Safe\n",
            "WARNING: Dimensions may be wrong for READ ica with POINT_PROCESS\n",
            "WARNING: Dimensions may be wrong for READ ica with POINT_PROCESS\n",
            "WARNING: Dimensions may be wrong for READ ica with POINT_PROCESS\n",
            "WARNING: Dimensions may be wrong for READ ica with POINT_PROCESS\n",
            " -> \u001b[32mNMODL\u001b[0m ../modfiles//kdr_BS.mod\n",
            "Thread Safe\n",
            " -> \u001b[32mNMODL\u001b[0m ../modfiles//kdrCA3.mod\n",
            "Translating kdmc_BS.mod into /content/bmtool/examples/synapses/x86_64/kdmc_BS.c\n",
            "Thread Safe\n",
            "Translating kdr_BS.mod into /content/bmtool/examples/synapses/x86_64/kdr_BS.c\n",
            " -> \u001b[32mNMODL\u001b[0m ../modfiles//kdrinter.mod\n",
            "Thread Safe\n",
            "Translating kdrCA3.mod into /content/bmtool/examples/synapses/x86_64/kdrCA3.c\n",
            " -> \u001b[32mNMODL\u001b[0m ../modfiles//K_Pst.mod\n",
            "Thread Safe\n",
            " -> \u001b[32mNMODL\u001b[0m ../modfiles//K_Tst.mod\n",
            "Translating kdrinter.mod into /content/bmtool/examples/synapses/x86_64/kdrinter.c\n",
            "Translating K_Pst.mod into /content/bmtool/examples/synapses/x86_64/K_Pst.c\n",
            "Warning: Default -80 of PARAMETER ek will be ignored and set by NEURON.\n",
            " -> \u001b[32mNMODL\u001b[0m ../modfiles//leak.mod\n",
            "Thread Safe\n",
            "Thread Safe\n",
            " -> \u001b[32mNMODL\u001b[0m ../modfiles//nainter.mod\n",
            "Translating leak.mod into /content/bmtool/examples/synapses/x86_64/leak.c\n",
            "Translating K_Tst.mod into /content/bmtool/examples/synapses/x86_64/K_Tst.c\n",
            "Thread Safe\n",
            " -> \u001b[32mNMODL\u001b[0m ../modfiles//napCA3.mod\n",
            "Thread Safe\n",
            " -> \u001b[32mNMODL\u001b[0m ../modfiles//Nap_Et2.mod\n",
            "Translating napCA3.mod into /content/bmtool/examples/synapses/x86_64/napCA3.c\n",
            "Translating nainter.mod into /content/bmtool/examples/synapses/x86_64/nainter.c\n",
            "Thread Safe\n",
            "Warning: Default 45 of PARAMETER ena will be ignored and set by NEURON.\n",
            "Thread Safe\n",
            " -> \u001b[32mNMODL\u001b[0m ../modfiles//NaTa_t.mod\n",
            " -> \u001b[32mNMODL\u001b[0m ../modfiles//natCA3.mod\n",
            "Translating Nap_Et2.mod into /content/bmtool/examples/synapses/x86_64/Nap_Et2.c\n",
            "Thread Safe\n",
            "Translating NaTa_t.mod into /content/bmtool/examples/synapses/x86_64/NaTa_t.c\n",
            "Translating natCA3.mod into /content/bmtool/examples/synapses/x86_64/natCA3.c\n",
            " -> \u001b[32mNMODL\u001b[0m ../modfiles//NaTs2_t.mod\n",
            "Thread Safe\n",
            "Thread Safe\n",
            " -> \u001b[32mNMODL\u001b[0m ../modfiles//nax_BS.mod\n",
            " -> \u001b[32mNMODL\u001b[0m ../modfiles//pyr2pyr.mod\n",
            "Translating NaTs2_t.mod into /content/bmtool/examples/synapses/x86_64/NaTs2_t.c\n",
            "Translating nax_BS.mod into /content/bmtool/examples/synapses/x86_64/nax_BS.c\n",
            "Thread Safe\n",
            " -> \u001b[32mNMODL\u001b[0m ../modfiles//pyr2pyrSUM.mod\n",
            "Thread Safe\n",
            " -> \u001b[32mNMODL\u001b[0m ../modfiles//SK_E2.mod\n",
            " -> \u001b[32mNMODL\u001b[0m ../modfiles//SKv3_1.mod\n",
            "Translating pyr2pyr.mod into /content/bmtool/examples/synapses/x86_64/pyr2pyr.c\n",
            "Translating SK_E2.mod into /content/bmtool/examples/synapses/x86_64/SK_E2.c\n",
            "Translating pyr2pyrSUM.mod into /content/bmtool/examples/synapses/x86_64/pyr2pyrSUM.c\n",
            "Thread Safe\n",
            " -> \u001b[32mNMODL\u001b[0m ../modfiles//vecevent_coreneuron.mod\n",
            "Translating vecevent_coreneuron.mod into /content/bmtool/examples/synapses/x86_64/vecevent_coreneuron.c\n",
            "Thread Safe\n",
            "Notice: ARTIFICIAL_CELL is a synonym for POINT_PROCESS which hints that it\n",
            "only affects and is affected by discrete events. As such it is not\n",
            "located in a section and is not associated with an integrator\n",
            "Thread Safe\n",
            "Thread Safe\n",
            " -> \u001b[32mCompiling\u001b[0m AMPA_NMDA.c\n",
            "Translating SKv3_1.mod into /content/bmtool/examples/synapses/x86_64/SKv3_1.c\n",
            " -> \u001b[32mCompiling\u001b[0m AMPA_NMDA_STP_LTP.c\n",
            "Thread Safe\n",
            " -> \u001b[32mCompiling\u001b[0m AMPA_NMDA_STP.c\n",
            " -> \u001b[32mCompiling\u001b[0m cadad.c\n",
            " -> \u001b[32mCompiling\u001b[0m CaDynamics_E2.c\n",
            " -> \u001b[32mCompiling\u001b[0m Ca_HVA.c\n",
            " -> \u001b[32mCompiling\u001b[0m cal2.c\n",
            " -> \u001b[32mCompiling\u001b[0m Ca_LVAst.c\n",
            " -> \u001b[32mCompiling\u001b[0m can_mig.c\n",
            " -> \u001b[32mCompiling\u001b[0m epsp.c\n",
            " -> \u001b[32mCompiling\u001b[0m exp2syn_stp.c\n",
            " -> \u001b[32mCompiling\u001b[0m GABA_AB.c\n",
            " -> \u001b[32mCompiling\u001b[0m GABA_AB_STP.c\n",
            " -> \u001b[32mCompiling\u001b[0m GABA_A_STP.c\n",
            " -> \u001b[32mCompiling\u001b[0m gap.c\n",
            " -> \u001b[32mCompiling\u001b[0m Gfluct.c\n",
            " -> \u001b[32mCompiling\u001b[0m h_kole.c\n",
            " -> \u001b[32mCompiling\u001b[0m Ih.c\n",
            " -> \u001b[32mCompiling\u001b[0m imCA3.c\n",
            " -> \u001b[32mCompiling\u001b[0m Im.c\n",
            " -> \u001b[32mCompiling\u001b[0m int2pyr.c\n",
            " -> \u001b[32mCompiling\u001b[0m kap_BS.c\n",
            " -> \u001b[32mCompiling\u001b[0m kBK.c\n",
            " -> \u001b[32mCompiling\u001b[0m kdmc_BS.c\n",
            " -> \u001b[32mCompiling\u001b[0m kdr_BS.c\n",
            " -> \u001b[32mCompiling\u001b[0m kdrCA3.c\n",
            " -> \u001b[32mCompiling\u001b[0m kdrinter.c\n",
            " -> \u001b[32mCompiling\u001b[0m K_Pst.c\n",
            " -> \u001b[32mCompiling\u001b[0m K_Tst.c\n",
            " -> \u001b[32mCompiling\u001b[0m leak.c\n",
            " -> \u001b[32mCompiling\u001b[0m nainter.c\n",
            " -> \u001b[32mCompiling\u001b[0m napCA3.c\n",
            " -> \u001b[32mCompiling\u001b[0m Nap_Et2.c\n",
            " -> \u001b[32mCompiling\u001b[0m NaTa_t.c\n",
            " -> \u001b[32mCompiling\u001b[0m natCA3.c\n",
            " -> \u001b[32mCompiling\u001b[0m NaTs2_t.c\n",
            " -> \u001b[32mCompiling\u001b[0m nax_BS.c\n",
            " -> \u001b[32mCompiling\u001b[0m pyr2pyr.c\n",
            " -> \u001b[32mCompiling\u001b[0m pyr2pyrSUM.c\n",
            " -> \u001b[32mCompiling\u001b[0m SK_E2.c\n",
            " -> \u001b[32mCompiling\u001b[0m SKv3_1.c\n",
            " -> \u001b[32mCompiling\u001b[0m vecevent_coreneuron.c\n",
            " => \u001b[32mLINKING\u001b[0m shared library ./libnrnmech.so\n",
            " => \u001b[32mLINKING\u001b[0m executable ./special LDFLAGS are:    -pthread\n",
            "Successfully created x86_64/special\n"
          ]
        }
      ]
    },
    {
      "cell_type": "markdown",
      "metadata": {
        "id": "ippWDaWjIDhr"
      },
      "source": [
        "## Synapse definitions\n",
        "\n",
        "synapse types and parameter defaults"
      ]
    },
    {
      "cell_type": "code",
      "execution_count": 12,
      "metadata": {
        "id": "tCpyvB0TpbVa"
      },
      "outputs": [],
      "source": [
        "general_settings = {\n",
        "    'vclamp': False, # if vclamp should start on or off used mostly for singleEventv\n",
        "    'rise_interval': (0.1, 0.9), #10-90%\n",
        "    'tstart': 500., # when the singleEvent should start\n",
        "    'tdur': 100.,    # Dur of sim after single synaptic event has occured\n",
        "    'threshold': -15., #threshold for spike in mV\n",
        "    'delay': 1.3, # netcon delay\n",
        "    'weight': 1., # netcon weight\n",
        "    'dt': 0.1, # 0.025 # simulation dt (ms)\n",
        "    'celsius': 20 # temp of sim\n",
        "}\n",
        "\n",
        "conn_type_settings = {\n",
        "    'blank': {\n",
        "        'spec_settings': {\n",
        "\n",
        "        },\n",
        "        'spec_syn_param': {\n",
        "\n",
        "        }\n",
        "    },\n",
        "    # -------------- Ziao Synapses --------------\n",
        "        'LTS': { # inhibitory perisomatic\n",
        "        'spec_settings': {\n",
        "            'post_cell': 'FSI_Cell',\n",
        "            'vclamp_amp' : -70.,\n",
        "            'sec_x': 0.5,\n",
        "            'sec_id': 1,\n",
        "            \"level_of_detail\": \"GABA_AB_STP\",\n",
        "        },\n",
        "        'spec_syn_param': {\n",
        "                'e_GABAA': -75.0,#-90.,\n",
        "              'Use': 0.3,\n",
        "              'Dep': 25.,\n",
        "              'Fac': 100.\n",
        "        }\n",
        "    },\n",
        "    'FSI': { # inhibitory perisomatic\n",
        "        'spec_settings': {\n",
        "            'post_cell': 'FSI_Cell',\n",
        "            'vclamp_amp' : -70.,\n",
        "            'sec_x': 0.5,\n",
        "            'sec_id': 1,\n",
        "            \"level_of_detail\": \"GABA_AB_STP\",\n",
        "        },\n",
        "        'spec_syn_param': {\n",
        "                'e_GABAA': -75.0,#-90.,\n",
        "                'Use': 0.3,\n",
        "                'Dep': 400.,\n",
        "                'Fac': 0.\n",
        "        }\n",
        "    },\n",
        "    'CS2CP': { # excitatory choice\n",
        "        'spec_settings': {\n",
        "                                   'post_cell': 'FSI_Cell',\n",
        "            'vclamp_amp' : -70.,\n",
        "            'sec_x': 0.5,\n",
        "            'sec_id': 1,\n",
        "            \"level_of_detail\": \"AMPA_NMDA_STP\",\n",
        "        },\n",
        "        'spec_syn_param': {\n",
        "              'tau_d_AMPA': 5.2,\n",
        "              'Use': 0.41,\n",
        "              'Dep': 532.,\n",
        "              'Fac': 65.\n",
        "        }\n",
        "    },\n",
        "    'CP2CP': { # excitatory choice\n",
        "        'spec_settings': {\n",
        "                                   'post_cell': 'FSI_Cell',\n",
        "            'vclamp_amp' : -70.,\n",
        "            'sec_x': 0.5,\n",
        "            'sec_id': 1,\n",
        "            \"level_of_detail\": \"AMPA_NMDA_STP\",\n",
        "        },\n",
        "        'spec_syn_param': {\n",
        "                'tau_d_AMPA': 5.2,\n",
        "                'Use': 0.37,\n",
        "                'Dep': 31.7,\n",
        "                'Fac': 519.\n",
        "        }\n",
        "    },\n",
        "    # -------------- BEN SYNAPSES -------------- https://github.com/latimerb/L5NeuronSimulation/tree/master/L5NeuronSimulation/biophys_components/synaptic_models\n",
        "    'PN2PN': { # exc\n",
        "        'spec_settings': {\n",
        "                        'post_cell': 'FSI_Cell',\n",
        "            'vclamp_amp' : -70.,\n",
        "            'sec_x': 0.5,\n",
        "            'sec_id': 1,\n",
        "            \"level_of_detail\": \"pyr2pyrSUM\",\n",
        "        },\n",
        "        'spec_syn_param': {\n",
        "                \"AlphaTmax_ampa\": 5,\n",
        "                \"Beta_ampa\": 0.5882,\n",
        "                \"Cdur_ampa\": .2,\n",
        "                \"gbar_ampa\": 0.001,\n",
        "                \"Erev_ampa\": 0,\n",
        "                \"AlphaTmax_nmda\": 3.4483,\n",
        "                \"Beta_nmda\": 0.0233,\n",
        "                \"Cdur_nmda\": 0.29,\n",
        "                \"gbar_nmda\": 0.0005,\n",
        "                \"Erev_nmda\": 0,\n",
        "                \"initW\": .4375, #.4375 mean computed from lognormal distribution # default listed in a file was: 5,\n",
        "                # \"delay\": 0.9,\n",
        "                \"tauD1\": 35,\n",
        "                \"d1\": 0.95,\n",
        "                \"tauD2\": 250,\n",
        "                \"d2\": 0.8,\n",
        "                \"tauF\": 1,\n",
        "                \"f\": 1\n",
        "        }\n",
        "    },\n",
        "    'PV2PN': { # inhibitory perisomatic\n",
        "        'spec_settings': {\n",
        "            'post_cell': 'FSI_Cell',\n",
        "            'vclamp_amp' : -70.,\n",
        "            'sec_x': 0.5,\n",
        "            'sec_id': 1,\n",
        "            \"level_of_detail\": \"int2pyr\",\n",
        "        },\n",
        "        'spec_syn_param' : {\n",
        "            \"AlphaTmax_gaba\": 1.52,\n",
        "            \"Beta_gaba\": 0.14,\n",
        "            \"Cdur_gaba\": 0.7254,\n",
        "            \"gbar_gaba\": 1,\n",
        "            \"Erev_gaba\": -75,\n",
        "            \"initW\": 1, # default in ben file:1,\n",
        "            \"Wmax\": 3,\n",
        "            \"Wmin\": 0.25,\n",
        "            # \"delay\": 2,\n",
        "            # \"con_pattern\": 1,\n",
        "            \"lambda1\": 1,\n",
        "            \"lambda2\": 0.01,\n",
        "            \"threshold1\": 0.5,\n",
        "            \"threshold2\": 0.6,\n",
        "            \"tauD1\": 40,\n",
        "            \"d1\": 0.7,\n",
        "            \"tauD2\": 500,\n",
        "            \"d2\": 0.7,\n",
        "            \"tauF\": 1,\n",
        "            \"f\": 1\n",
        "        }\n",
        "    },\n",
        "    'SOM2PN': { # inh dendritic\n",
        "        'spec_settings': {\n",
        "            'post_cell': 'FSI_Cell',\n",
        "            'vclamp_amp' : -70.,\n",
        "            'sec_x': 0.5,\n",
        "            'sec_id': 1,\n",
        "            \"level_of_detail\": \"int2pyr\",\n",
        "        },\n",
        "        'spec_syn_param': {\n",
        "            \"AlphaTmax_gaba\": 1.52,\n",
        "            \"Beta_gaba\": 0.14,\n",
        "            \"Cdur_gaba\": 0.7254,\n",
        "            \"gbar_gaba\": 0.006,\n",
        "            \"Erev_gaba\": -75,\n",
        "            \"initW\": 1,\n",
        "            \"Wmax\": 3,\n",
        "            \"Wmin\": 0.25,\n",
        "            # \"delay\": 2,\n",
        "            # \"con_pattern\": 1,\n",
        "            \"lambda1\": 1,\n",
        "            \"lambda2\": 0.01,\n",
        "            \"threshold1\": 0.5,\n",
        "            \"threshold2\": 0.6,\n",
        "            \"tauD1\": 200,\n",
        "            \"d1\": 0.8,\n",
        "            \"tauD2\": 1,\n",
        "            \"d2\": 1,\n",
        "            \"tauF\": 1,\n",
        "            \"f\": 1\n",
        "        }\n",
        "    },\n",
        "    # --------------- Greg's -----------------------\n",
        "    'Fac2FSI': { # facilitating synapse\n",
        "        'spec_settings': {\n",
        "            'post_cell': 'FSI_Cell',\n",
        "            'vclamp_amp' : -70.,\n",
        "            'sec_x': 0.5,\n",
        "            'sec_id': 1,\n",
        "            \"level_of_detail\": \"AMPA_NMDA_STP\",\n",
        "        },\n",
        "        'spec_syn_param': {\n",
        "            'initW': 0.76,\n",
        "            'tau_r_AMPA': 0.45,\n",
        "            'tau_d_AMPA': 7.5,\n",
        "            'Use': 0.13,\n",
        "            'Dep': 0.,\n",
        "            'Fac': 200.\n",
        "        },\n",
        "    },\n",
        "    'Dep2FSI': { # depressing synapse\n",
        "        'spec_settings': {\n",
        "            'post_cell': 'FSI_Cell',\n",
        "            'vclamp_amp': -55,\n",
        "            'sec_x': 0.5,\n",
        "            'sec_id':0,\n",
        "            \"level_of_detail\": \"GABA_A_STP\",\n",
        "        },\n",
        "        'spec_syn_param': {\n",
        "            'initW': 20,\n",
        "            'tau_r_GABAA': 0.9,\n",
        "            'tau_d_GABAA': 15,\n",
        "            'e_GABAA':-75,\n",
        "            'Use': 0.4,\n",
        "            'Dep': 190.,\n",
        "            'Fac': 0.\n",
        "        },\n",
        "    },\n",
        "\n",
        "}"
      ]
    },
    {
      "cell_type": "code",
      "source": [
        "# # these are old news\n",
        "\n",
        "# # some initW defaults that we had listed before using the .json parameters.\n",
        "# inh_gmax_dist: float = 5#0.5\n",
        "# soma_gmax_dist: float = 5#0.5\n",
        "# apic_inh_gmax_dist: float = 2.8\n",
        "# basal_inh_gmax_dist: float = 2.4\n",
        "\n",
        "# # initW that seemed to work with the correct .json parameters (before adjusting gbar_gaba (from 1 to 0.006) for inh_perisomatic)\n",
        "# inh_gmax_range_apic = [7.1]\n",
        "# inh_gmax_range_dend = [0.0016]\n",
        "# soma_gmax_range = [0.0025]"
      ],
      "metadata": {
        "id": "u0hBqoHp1PJw"
      },
      "execution_count": 13,
      "outputs": []
    },
    {
      "cell_type": "code",
      "execution_count": 14,
      "metadata": {
        "id": "W7y3WE-6zF4v"
      },
      "outputs": [],
      "source": [
        "# connection = 'PN2PN'\n",
        "\n",
        "# # sliders_to_use = ['initW','Dep','Fac','Use','tau_r_AMPA','tau_d_AMPA'] # greg\n",
        "# sliders_to_use = ['initW',   'facfactor','f','F']#,'facfactor','P0g', 'fCag', 'lambda1', 'lambda2', 'threshold1', 'threshold2', 'tauCa', 'k', 'fmax', 'fmin']\n",
        "\n",
        "# current_name = 'inmda' #'i'\n",
        "# # NOTE sum iampa, inmda\n",
        "# #igaba for int2pyr\n",
        "# #inmda, iampa for pyrpyr\n",
        "# #probably i_NMDA, i_AMPA for AMPA_NMDA_STP\n",
        "# # probably i_GABA for GABA_AB_STP\n",
        "\n",
        "# other_vars_to_record = []"
      ]
    },
    {
      "cell_type": "markdown",
      "source": [
        "## replacing the FSI_Cell with L5PCtemplate cell"
      ],
      "metadata": {
        "id": "a0_76eQ0Fsg_"
      }
    },
    {
      "cell_type": "code",
      "execution_count": 15,
      "metadata": {
        "id": "_bKuzSxs49Aa"
      },
      "outputs": [],
      "source": [
        "# sys.path.append(\"/content/bmtool/bmtool/\")\n",
        "sys.path.append(\"/content/bmtool/bmtool/util/synapses.py\")"
      ]
    },
    {
      "cell_type": "code",
      "source": [
        "# !nrnivmodl modfiles"
      ],
      "metadata": {
        "id": "gwIZT9rW1rLd"
      },
      "execution_count": 16,
      "outputs": []
    },
    {
      "cell_type": "code",
      "source": [
        "# %ls x86_64/"
      ],
      "metadata": {
        "id": "gIjtDJMT1xRt"
      },
      "execution_count": 17,
      "outputs": []
    },
    {
      "cell_type": "code",
      "source": [
        "# %ls modfiles/x86_64/"
      ],
      "metadata": {
        "id": "sS95EWs806QI"
      },
      "execution_count": 18,
      "outputs": []
    },
    {
      "cell_type": "code",
      "source": [
        "# h.nrn_load_dll('modfiles/x86_64/')"
      ],
      "metadata": {
        "id": "gbcw6l2e3BBZ"
      },
      "execution_count": 19,
      "outputs": []
    },
    {
      "cell_type": "code",
      "source": [
        "# testing values we generate\n",
        "# import numpy as np\n",
        "# def log_norm_dist(gmax_mean, gmax_std, gmax_scalar, size, clip):\n",
        "#   val = np.random.lognormal(gmax_mean, gmax_std, size)\n",
        "#   # print(val)\n",
        "#   # print(np.clip(val, clip[0], clip[1]))\n",
        "#   # print(float(np.clip(val, clip[0], clip[1])))\n",
        "#   s = np.clip(val, clip[0], clip[1])\n",
        "#   # s = gmax_scalar * float(np.clip(val, clip[0], clip[1]))\n",
        "#   return s\n",
        "\n",
        "# def precompute_bin_means(gmax_mean, gmax_std, gmax_scalar, clip, large_sample_size=10000):\n",
        "#     # Generate a large number of log-normal distributed values\n",
        "#     val = np.random.lognormal(gmax_mean, gmax_std, large_sample_size)\n",
        "#     s = gmax_scalar * np.clip(val, clip[0], clip[1])\n",
        "\n",
        "#     # Determine bins and compute the mean for each bin\n",
        "#     num_bins = 10\n",
        "#     bin_edges = np.percentile(s, np.linspace(0, 100, num_bins + 1))\n",
        "#     bin_means = [(bin_edges[i] + bin_edges[i+1]) / 2 for i in range(num_bins)]\n",
        "\n",
        "#     return bin_means\n",
        "\n",
        "# def binned_log_norm_dist(gmax_mean, gmax_std, gmax_scalar, size, clip, bin_means):\n",
        "#     # Generate log-normal distributed values\n",
        "#     val = np.random.lognormal(gmax_mean, gmax_std, size)\n",
        "#     # Clip the values\n",
        "#     s = gmax_scalar * np.clip(val, clip[0], clip[1])\n",
        "#     # Assign each value to the nearest bin mean\n",
        "#     binned_values = np.zeros_like(s)\n",
        "#     for i in range(size):\n",
        "#         # Find the bin the value belongs to\n",
        "#         bin_index = np.digitize(s[i], bin_means) - 1\n",
        "#         # Assign the value to the bin mean\n",
        "#         binned_values[i] = bin_means[bin_index]\n",
        "#     return binned_values\n",
        "\n",
        "# exc_mean = (np.log(0.45) - 0.5 * np.log((0.35/0.45)**2+1))\n",
        "# exc_std = np.sqrt(np.log((0.35/0.45)**2 + 1))\n",
        "# exc_clip = (0,5)\n",
        "# exc_scalar = 1\n",
        "\n",
        "# exc_gmax_values = log_norm_dist(exc_mean, exc_std, exc_scalar, 1000, exc_clip)\n",
        "\n",
        "# binned_log_norm_dist = binned_log_norm_dist(exc_mean, exc_std, exc_scalar, 1000, exc_clip, precompute_bin_means(exc_mean, exc_std, exc_scalar, exc_clip))\n",
        "\n",
        "# np.mean(exc_gmax_values)\n",
        "\n",
        "\n",
        "\n",
        "# # prompt: compare the distributions of exc_gmax_values and binned_log_norm_dist\n",
        "\n",
        "# import matplotlib.pyplot as plt\n",
        "\n",
        "# # Create the histograms\n",
        "# plt.hist(exc_gmax_values, bins=20, alpha=0.5, label='exc_gmax_values')\n",
        "# plt.hist(binned_log_norm_dist, bins=20, alpha=0.5, label='binned_log_norm_dist')\n",
        "\n",
        "# # Add labels and title\n",
        "# plt.xlabel('Value')\n",
        "# plt.ylabel('Frequency')\n",
        "# plt.title('Comparison of Distributions')\n",
        "\n",
        "# # Add legend\n",
        "# plt.legend(loc='upper right')\n",
        "\n",
        "# # Show the plot\n",
        "# plt.show()\n"
      ],
      "metadata": {
        "id": "f7fa4QY2t9wu"
      },
      "execution_count": 20,
      "outputs": []
    },
    {
      "cell_type": "code",
      "source": [
        "neuron.load_mechanisms('modfiles/') # have to load the mechanisms to load L5PCbiophys3.hoc"
      ],
      "metadata": {
        "colab": {
          "base_uri": "https://localhost:8080/"
        },
        "id": "RLKVyV2M4IUP",
        "outputId": "04a25421-7dfb-4e82-e9d1-1ccf45d41383"
      },
      "execution_count": 21,
      "outputs": [
        {
          "output_type": "execute_result",
          "data": {
            "text/plain": [
              "True"
            ]
          },
          "metadata": {},
          "execution_count": 21
        }
      ]
    },
    {
      "cell_type": "code",
      "source": [
        "use_hay_cell = True # overwrite the target cell\n",
        "if use_hay_cell:\n",
        "    for cell_type,items in conn_type_settings.items():\n",
        "        conn_type_settings[cell_type]['spec_settings']['post_cell'] = 'L5PCtemplate'\n",
        "        conn_type_settings[cell_type]['spec_settings']['sec_id'] = 0 # 0 will be soma; 1 would be a basal dendrite\n",
        "\n",
        "\n",
        "    # hoc_files_to_load = ['stdrun.hoc', \"../../../Neural-Modeling/cells/templates/L5PCbiophys3.hoc\", 'import3d.hoc', \"../../../Neural-Modeling/cells/templates/L5PCtemplate.hoc\"]\n",
        "\n",
        "    # needed for h.load_file(\"import3d.hoc\")\n",
        "    h.load_file('stdrun.hoc')\n",
        "\n",
        "    # load procedure L5PCbiophys() for distributing biophys in h.L5PCtemplate()\n",
        "    h.load_file(\"../../../Neural-Modeling/cells/templates/L5PCbiophys3.hoc\") # cannot be loaded without loading mechanisms first\n",
        "\n",
        "\t\t# # load needed procedure for importing 3d coordinates\n",
        "    h.load_file(\"import3d.hoc\")\n",
        "\n",
        "\t\t# # # Load h.L5PCtemplate()\n",
        "    h.load_file(\"../../../Neural-Modeling/cells/templates/L5PCtemplateMediumRes.hoc\") # load template that gets biophys and establishes sectioning\n",
        "    # called 'MediumRes' because semgentation is reverted back to original\n",
        "\n",
        "    # path to 3d coords file that will be passed to \"cell = h.L5PCtemplate(template_arg)\" in SynapseTuner.set_up_cell(self)\n",
        "    template_arg = \"../../../Neural-Modeling/cells/templates/cell1.asc\" # contains 3d coordinates\n",
        "else:\n",
        "    template_arg=None\n",
        "    hoc_files_to_load = None"
      ],
      "metadata": {
        "id": "GUBjhtGz0E3d"
      },
      "execution_count": 22,
      "outputs": []
    },
    {
      "cell_type": "code",
      "source": [
        "# have to unload the mechanisms or the synapse tuner throws an error\n",
        "!rm -rf x86_64\n",
        "!rm -rf modfiles/x86_64"
      ],
      "metadata": {
        "id": "1LTsCG6k50L2"
      },
      "execution_count": 23,
      "outputs": []
    },
    {
      "cell_type": "markdown",
      "metadata": {
        "id": "tJ0-mRWqIHI5"
      },
      "source": [
        "## Initialize Synaptic Tuners"
      ]
    },
    {
      "cell_type": "code",
      "execution_count": 24,
      "metadata": {
        "colab": {
          "base_uri": "https://localhost:8080/"
        },
        "id": "vuEHbXEEQXcs",
        "outputId": "d7abbb33-236c-42e3-ab2c-74d00dc6f142"
      },
      "outputs": [
        {
          "output_type": "stream",
          "name": "stdout",
          "text": [
            "NEURON mechanisms not found in modfiles.\n",
            "NEURON mechanisms not found in modfiles.\n",
            "NEURON mechanisms not found in modfiles.\n"
          ]
        }
      ],
      "source": [
        "def InitializeSysnapseTuner(connection, current_name='i', other_vars_to_record=[], sliders_to_use=['initW'], template_arg=template_arg):\n",
        "  from synapses import SynapseTuner\n",
        "  mechanisms_dir = 'modfiles'\n",
        "  templates_file = 'templates.hoc'\n",
        "\n",
        "  tuner = SynapseTuner(mechanisms_dir=mechanisms_dir, # where x86_64 is located\n",
        "                      templates_dir=templates_file, # where the neuron templates are located\n",
        "                      conn_type_settings=conn_type_settings, # dict of connection settings\n",
        "                      general_settings = general_settings, # dict of general settings\n",
        "                      connection = connection, # key in connection settings for which connection you want to tune\n",
        "                      #json_folder_path=json_folder_path, # If your network uses json files the path can be set to update the connection settings based on the keys and values in the json\n",
        "                      current_name = current_name, # name of current variable in synapase\n",
        "                      other_vars_to_record = other_vars_to_record, # Other synaptic variables you wish to record besides the normal ones\n",
        "                      slider_vars=sliders_to_use,\n",
        "                       template_arg=template_arg) # Range variables you want to tune to adjust synaptic response.\n",
        "  return tuner\n",
        "\n",
        "ben_synapses = True\n",
        "if ben_synapses:\n",
        "  tunerForEXC = InitializeSysnapseTuner(connection='PN2PN',\n",
        "                                      current_name ='i',\n",
        "                                      sliders_to_use=['initW', 'gbar_nmda','gbar_ampa'])\n",
        "  tunerForInhPerisomatic =  InitializeSysnapseTuner(connection='PV2PN',\n",
        "                                      current_name ='igaba',\n",
        "                                      sliders_to_use=['initW', 'gbar_gaba'])\n",
        "  tunerForInhDendritic =  InitializeSysnapseTuner(connection='SOM2PN',\n",
        "                                      current_name ='igaba',\n",
        "                                      sliders_to_use=['initW', 'gbar_gaba'])\n",
        "else: # ziao synapses\n",
        "  tunerForEXC = InitializeSysnapseTuner(connection='CS2CP',\n",
        "                                      current_name ='i',\n",
        "                                      sliders_to_use=['initW', 'tau_d_AMPA','Use','Dep','Fac'])\n",
        "  tunerForEXC2 = InitializeSysnapseTuner(connection='CP2CP',\n",
        "                                      current_name ='i',\n",
        "                                      sliders_to_use=['initW', 'tau_d_AMPA','Use','Dep','Fac'])\n",
        "  tunerForInhPerisomatic =  InitializeSysnapseTuner(connection='LTS',\n",
        "                                      current_name ='i',\n",
        "                                      sliders_to_use=['initW', 'tau_d_GABAA','Use','Dep','Fac'])\n",
        "  tunerForInhDendritic =  InitializeSysnapseTuner(connection='FSI',\n",
        "                                      current_name ='i',\n",
        "                                      sliders_to_use=['initW', 'tau_d_GABAA','Use','Dep','Fac'])"
      ]
    },
    {
      "cell_type": "code",
      "source": [
        "tunerForEXC"
      ],
      "metadata": {
        "colab": {
          "base_uri": "https://localhost:8080/"
        },
        "id": "ef6GqBga78oY",
        "outputId": "89e7051c-3b83-4e5e-a3fa-7f05015eacef"
      },
      "execution_count": 25,
      "outputs": [
        {
          "output_type": "execute_result",
          "data": {
            "text/plain": [
              "<synapses.SynapseTuner at 0x7dc454adae90>"
            ]
          },
          "metadata": {},
          "execution_count": 25
        }
      ]
    },
    {
      "cell_type": "code",
      "execution_count": 26,
      "metadata": {
        "id": "YD-GOo1XVEGH"
      },
      "outputs": [],
      "source": [
        "  synapses = {\n",
        "      'exc': tunerForEXC,\n",
        "      'inhPerisomatic': tunerForInhPerisomatic,\n",
        "      'inhDendritic': tunerForInhDendritic\n",
        "  }"
      ]
    },
    {
      "cell_type": "markdown",
      "metadata": {
        "id": "Z2EUHcU3WTmO"
      },
      "source": [
        "## Single event\n",
        "\n",
        "(1) run to initialize input to the tuners\n",
        "\n",
        "(2) check the mangitude of an individual post-synaptic-current (PSC)"
      ]
    },
    {
      "cell_type": "code",
      "source": [
        "# %ls"
      ],
      "metadata": {
        "id": "NnVpnImNhILe"
      },
      "execution_count": 27,
      "outputs": []
    },
    {
      "cell_type": "code",
      "source": [
        "# h.load_file('templates.hoc')"
      ],
      "metadata": {
        "id": "mV8bBDE2fThd"
      },
      "execution_count": 28,
      "outputs": []
    },
    {
      "cell_type": "code",
      "source": [
        "# 'FSI_Cell' in dir(h)"
      ],
      "metadata": {
        "id": "zrhE_ZqtgXc2"
      },
      "execution_count": 29,
      "outputs": []
    },
    {
      "cell_type": "code",
      "source": [
        "# list(synapses['exc'].cell.all)[0]"
      ],
      "metadata": {
        "id": "Y5QRUYGUSvNu"
      },
      "execution_count": 30,
      "outputs": []
    },
    {
      "cell_type": "code",
      "source": [
        "# synapses['exc'].syn.get_segment()"
      ],
      "metadata": {
        "id": "Jv0BxFuTSX92"
      },
      "execution_count": 31,
      "outputs": []
    },
    {
      "cell_type": "code",
      "source": [
        "# import numpy as np\n",
        "# import matplotlib.pyplot as plt\n",
        "# t = np.asarray(synapses['exc'].t)[np.asarray(synapses['exc'].t) > 490]\n",
        "# v = np.asarray(synapses['exc'].soma_v)[np.asarray(synapses['exc'].t) > 490]\n",
        "# plt.plot(t, v)"
      ],
      "metadata": {
        "id": "1YkC-b9NLj3N"
      },
      "execution_count": 32,
      "outputs": []
    },
    {
      "cell_type": "code",
      "execution_count": 33,
      "metadata": {
        "colab": {
          "base_uri": "https://localhost:8080/",
          "height": 1000
        },
        "id": "89plfI4wSwKR",
        "outputId": "f35efd2b-b8b5-41a1-ebae-207470b1f4cd"
      },
      "outputs": [
        {
          "output_type": "stream",
          "name": "stdout",
          "text": [
            "exc\n"
          ]
        },
        {
          "output_type": "stream",
          "name": "stderr",
          "text": [
            "/content/bmtool/examples/synapses/../../bmtool/synapses.py:328: RuntimeWarning: overflow encountered in exp\n",
            "  popt, _ = curve_fit(lambda t, a, tau: a * np.exp(-t / tau), dt * np.arange(decay_len),\n"
          ]
        },
        {
          "output_type": "display_data",
          "data": {
            "text/plain": [
              "<Figure size 1200x700 with 2 Axes>"
            ],
            "image/png": "[encoded data removed]"
          },
          "metadata": {}
        },
        {
          "output_type": "stream",
          "name": "stdout",
          "text": [
            "('baseline', -0.0)\n",
            "('sign', -1.0)\n",
            "('latency', 1.5)\n",
            "('amp', 0.0187704044632415)\n",
            "('rise_time', 0.1)\n",
            "('decay_time', 1.8494892531939904)\n",
            "('half_width', 2.8000000000000003)\n",
            "Current Integral in pA*ms: -50.03\n",
            "inhPerisomatic\n"
          ]
        },
        {
          "output_type": "display_data",
          "data": {
            "text/plain": [
              "<Figure size 1200x700 with 2 Axes>"
            ],
            "image/png": "[encoded data removed]"
          },
          "metadata": {}
        },
        {
          "output_type": "stream",
          "name": "stdout",
          "text": [
            "('baseline', 0.0)\n",
            "('sign', 1.0)\n",
            "('latency', 1.5)\n",
            "('amp', 3.146785426753287)\n",
            "('rise_time', 0.5)\n",
            "('decay_time', 7.142897460076858)\n",
            "('half_width', 6.800000000000001)\n",
            "Current Integral in pA*ms: 23783.17\n",
            "inhDendritic\n"
          ]
        },
        {
          "output_type": "display_data",
          "data": {
            "text/plain": [
              "<Figure size 1200x700 with 2 Axes>"
            ],
            "image/png": "[encoded data removed]"
          },
          "metadata": {}
        },
        {
          "output_type": "stream",
          "name": "stdout",
          "text": [
            "('baseline', 0.0)\n",
            "('sign', 1.0)\n",
            "('latency', 1.5)\n",
            "('amp', 0.01888092918893173)\n",
            "('rise_time', 0.5)\n",
            "('decay_time', 7.142857383379123)\n",
            "('half_width', 6.800000000000001)\n",
            "Current Integral in pA*ms: 142.70\n"
          ]
        }
      ],
      "source": [
        "# have to run single_event to establish the input\n",
        "for synapse_type,tuner in synapses.items():\n",
        "  print(synapse_type)\n",
        "  tuner.SingleEvent()"
      ]
    },
    {
      "cell_type": "markdown",
      "metadata": {
        "id": "ZNcXKk7zRGVp"
      },
      "source": [
        "## Interactive Tuner\n",
        "\n",
        "(1) select one of the synapse types\n",
        "\n",
        "(2) check individual induction(input_freq) or PPR\n",
        "\n",
        "(3) vary a parameter to understand how it affects the synapse"
      ]
    },
    {
      "cell_type": "code",
      "execution_count": 34,
      "metadata": {
        "id": "4riXjHLJmkiH",
        "colab": {
          "base_uri": "https://localhost:8080/",
          "height": 762,
          "referenced_widgets": [
            "dd11089fce15434d953c7add7206907d",
            "cdd61a36ea9d44ae9c87938faf70c525",
            "b6d0d56bcafa4d5eb76941f847f1b118",
            "02b19fd942034d28aa9c4fb415d99dae",
            "4c203ccde4ec46f8a545847c1d6e3fda",
            "1cd01d8a456c4f28abf650c2d855d219",
            "bc6226b52b3548f4914fbe77c19222c2",
            "b5ba7c831b944681b6f7d442ea922786",
            "06f26ab0372e4abe978a8c4578ac36fd",
            "004aa171b8414fdc82b1a8b5bb26d9e4",
            "32db54009da24dd0908f546189d0a982",
            "18292404043f415185ce232139ed8d7b",
            "657e458e41b04c019e284a167475b6e0",
            "13e68cec67aa4697afdb2f03313d9005",
            "1d64e13e41e8465ea781946ab73bd621",
            "7364af07f1a64727b8e602e5d1c9a0ee",
            "3a01d8bbea1a403587fedc8ee385acdd",
            "6af80d7e61264b1184948244e3629f96",
            "67b3e2b9df9a4502824e545bf5aa917f",
            "8cd68eb7713446199f40aa8c5094faf3",
            "479fe86901364fe48bfc1f3d53c2d349",
            "cf7e0925a01c4a9d8d22e169cfca6698",
            "45e8d8c0040346ec910cf3bc9f9d52bb",
            "9edbb1346102490f9befcd01c505a4f5",
            "daeb717ee68f4528865a722a361cb295",
            "356f9e6682dc44b49034d1b07938371a",
            "1bcb988ff3b2422191ec64b106eb7c5c",
            "58e78ce4a2724b1ab4b510c7ab6db20e",
            "54d15a147a2e4a4190a17c4ba6bbb831",
            "b7cabef53179418c86c432718bcc63b2",
            "02687957cb2a4d6c95d36e0e1c9f37e1",
            "d59c6e0a71f04d38be653f0aa88d799c",
            "816d0e33ce654183aa000df005867970",
            "536ccb35036a4e168a1a094c74d9096a",
            "a3a9a366f9284326b94a972face11675",
            "7df51c32ff2f4348b731347978625e23",
            "d5e985f0d99b46c5b67ec76ab8fe708d",
            "8c734a7e145e42fe8392bf8da3b12cb8",
            "d301ddce78804287ad1b43b243e9409d",
            "fbd8271cb1e444f9aa54d1112629874d",
            "eff0120488244c78a74bfe573fe9b476",
            "c244ca9b2755428090656e5eea040f23"
          ]
        },
        "outputId": "9963b5bc-0352-490d-a0c8-8c2e4b205e49"
      },
      "outputs": [
        {
          "output_type": "display_data",
          "data": {
            "text/plain": [
              "VBox(children=(HBox(children=(Button(button_style='primary', description='Run Train', icon='history', style=Bu…"
            ],
            "application/vnd.jupyter.widget-view+json": {
              "version_major": 2,
              "version_minor": 0,
              "model_id": "dd11089fce15434d953c7add7206907d"
            }
          },
          "metadata": {}
        },
        {
          "output_type": "display_data",
          "data": {
            "text/plain": [
              "<Figure size 1200x700 with 2 Axes>"
            ],
            "image/png": "[encoded data removed]"
          },
          "metadata": {}
        }
      ],
      "source": [
        "tuner_type = ['exc','inhPerisomatic','inhDendritic'][0] # select the first one\n",
        "# alternatively synapses.keys(0)\n",
        "print(tuner_type)\n",
        "synapses[tuner_type].InteractiveTuner()"
      ]
    },
    {
      "cell_type": "markdown",
      "metadata": {
        "id": "Z3GkE-tganTX"
      },
      "source": [
        "## Optimizer\n",
        "\n",
        "(1) run to fit the value for (initW or gbar_{current_type} or others)\n",
        "\n",
        "to the desired PSC magnitude (max ampltiude), PPR, and induction (from experimental data)"
      ]
    },
    {
      "cell_type": "code",
      "execution_count": 35,
      "metadata": {
        "id": "ykUS8UutbWjt",
        "colab": {
          "base_uri": "https://localhost:8080/"
        },
        "outputId": "895d2817-d615-46d9-a0e7-f222b7d97edf"
      },
      "outputs": [
        {
          "output_type": "stream",
          "name": "stdout",
          "text": [
            "\n",
            "========================================\n",
            "Short Term Plasticity Results for 50Hz with 250 Delay\n",
            "========================================\n",
            "PPR: Above 1 is facilitating, below 1 is depressing.\n",
            "Induction: Above 0 is facilitating, below 0 is depressing.\n",
            "Recovery: A measure of how fast STP decays.\n",
            "\n",
            "Paired Pulse Response (PPR)\n",
            "Calculation: 2nd pulse / 1st pulse\n",
            "Values: ([[14.98]]) / ([[18.77]]) = [[0.8]]\n",
            "\n",
            "Induction\n",
            "Calculation: (avg(6th, 7th, 8th pulses) - 1st pulse) / max amps\n",
            "Values: avg([[8.01, 7.28, 6.74]]) - [[18.77]] / [18.77]\n",
            "([7.34]) - ([18.77]) / [18.77] = -0.609\n",
            "\n",
            "Recovery\n",
            "Calculation: (avg(9th, 10th, 11th, 12th pulses) - avg(1st to 4th pulses)) / max amps\n",
            "Values: avg([[13.96, 11.5 ,  9.77,  8.53]]) - avg([[18.77, 14.98, 12.3 , 10.39]]) / [18.77]\n",
            "([10.94]) - ([14.11]) / [18.77] = -0.169\n",
            "\n",
            "========================================\n",
            "\n"
          ]
        }
      ],
      "source": [
        "def auto(param_bounds, target_metrics, tuner):\n",
        "  result = optimizer.optimize_parameters(\n",
        "    target_metrics=target_metrics,\n",
        "    param_bounds=param_bounds,\n",
        "    init_guess='random', # either random or middle_guess. Random will start the synapse witha random value in the param_bound. Middle guess will pick the middle value in the param_bounds\n",
        "    cost_function=custom_cost,\n",
        "    method='SLSQP' # I believe this will be the fastest method, but you may try others check out https://docs.scipy.org/doc/scipy-1.15.0/reference/generated/scipy.optimize.minimize.html\n",
        "    )\n",
        "  return result"
      ]
    },
    {
      "cell_type": "code",
      "source": [
        "from synapses import SynapseOptimizer"
      ],
      "metadata": {
        "id": "MbUgsZyzsvAV"
      },
      "execution_count": 36,
      "outputs": []
    },
    {
      "cell_type": "code",
      "execution_count": 37,
      "metadata": {
        "id": "0n9BOKHeacyn",
        "colab": {
          "base_uri": "https://localhost:8080/"
        },
        "outputId": "30a91c4b-a295-4158-cf90-587612333093"
      },
      "outputs": [
        {
          "output_type": "stream",
          "name": "stdout",
          "text": [
            "exc\n"
          ]
        }
      ],
      "source": [
        "# NOTE maybe change the frequency of input\n",
        "# NOTE train frequency is new input parameter for optimizer which we can set to the mean in the table\n",
        "\n",
        "run_optimizer=False\n",
        "\n",
        "# CHOOSE specifications\n",
        "tuner_type = ['exc','inhPerisomatic','inhDendritic'][0] # ex. select the first one # if these keys get out of line you can use synapses.keys()[N]\n",
        "add_gbar_params = True\n",
        "\n",
        "print(tuner_type)\n",
        "optimizer = SynapseOptimizer(synapses[tuner_type])\n",
        "\n",
        "# initialize param_bounds (parameters that can vary within the specified range)\n",
        "param_bounds = {\n",
        "    'initW': (0,synapses[tuner_type].conn['spec_syn_param']['initW']*10),\n",
        "    # 'facfactor': (0, 400.0),\n",
        "    # 'f': (0, 400.0),\n",
        "    # 'F': (0, 400.0),\n",
        "    # 'gbar_nmda': (0,4), # fix range, maybe dont use # change for gaba synapse\n",
        "    # 'gbar_ampa': (0,1) # fix range, maybe dont use\n",
        "}\n",
        "\n",
        "# add variables to param_bounds with their ranges\n",
        "if add_gbar_params:\n",
        "  if 'pyr2pyr' in synapses[tuner_type].conn['spec_settings']['level_of_detail']:\n",
        "    param_bounds['gbar_nmda'] = (0,synapses[tuner_type].conn['spec_syn_param']['gbar_nmda']*10) # up to 10x the default\n",
        "    param_bounds['gbar_ampa'] = (0,synapses[tuner_type].conn['spec_syn_param']['gbar_ampa']*10) # up to 10x the default\n",
        "  elif 'int2pyr' in synapses[tuner_type].conn['spec_settings']['level_of_detail']:\n",
        "    param_bounds['gbar_gaba'] = (0,synapses[tuner_type].conn['spec_syn_param']['gbar_gaba']*10) #up to 10x the default\n",
        "\n",
        "\n",
        "# define the target metrics\n",
        "target_metrics = { # automatically selects based on tuner_type (need to be updated to match in vivo)\n",
        "    'exc': {\n",
        "            'induction': -0.75,\n",
        "            'ppr': 0.8,\n",
        "            'recovery': 0.0,\n",
        "            'max_amplitude':25 #magnitude of PSC\n",
        "    },\n",
        "    'inhPerisomatic': {\n",
        "            'induction': -0.75,\n",
        "            'ppr': 0.8,\n",
        "            'recovery': 0.0,\n",
        "            'max_amplitude':25 #magnitude of PSC\n",
        "    },\n",
        "    'inhDendritic': {\n",
        "            'induction': -0.75,\n",
        "            'ppr': 0.8,\n",
        "            'recovery': 0.0,\n",
        "            'max_amplitude':25 #magnitude of PSC\n",
        "    }\n",
        "}\n",
        "\n",
        "# currently the only metrics in the SynapseOptimizer are induction, prr, recovery, and max amplitude.\n",
        "def custom_cost(metrics, targets):\n",
        "    induction_error = (metrics['induction'] - targets['induction']) ** 2\n",
        "    ppr_error = (metrics['ppr'] - targets['ppr']) ** 2\n",
        "    recovery_error = (metrics['recovery'] - targets['recovery']) ** 2\n",
        "    max_amp_errror = (metrics['max_amplitude'] - targets['max_amplitude']) ** 2\n",
        "    # can weight each error term differently like this\n",
        "    return induction_error + 3 * ppr_error + recovery_error + 0.5*max_amp_errror\n",
        "\n",
        "\n",
        "# Run optimization with custom cost function\n",
        "if run_optimizer:\n",
        "  result = optimizer.optimize_parameters(\n",
        "      target_metrics=target_metrics[tuner_type],\n",
        "      param_bounds=param_bounds,\n",
        "      init_guess='random', # either random or middle_guess. Random will start the synapse witha random value in the param_bound. Middle guess will pick the middle value in the param_bounds\n",
        "      cost_function=custom_cost,\n",
        "      method='SLSQP' # I believe this will be the fastest method, but you may try others check out https://docs.scipy.org/doc/scipy-1.15.0/reference/generated/scipy.optimize.minimize.html\n",
        "  )\n",
        "\n",
        "  # Plot results\n",
        "  optimizer.plot_optimization_results(result)"
      ]
    },
    {
      "cell_type": "markdown",
      "source": [
        "After optimizing may need to update the variables in the original dictionary. (comment previous default)"
      ],
      "metadata": {
        "id": "LP32yyO7uEUW"
      }
    },
    {
      "cell_type": "markdown",
      "metadata": {
        "id": "Q0og-yU5RyNp"
      },
      "source": [
        "## STP Frequency Response\n",
        "Make sure that the induction/frequency curve matches in-vivo (fig 1. last column with\n",
        "(1) compute induction/frequency to make sure it matches in-vivo"
      ]
    },
    {
      "cell_type": "code",
      "execution_count": 38,
      "metadata": {
        "id": "CIf2r_CqRvmv",
        "colab": {
          "base_uri": "https://localhost:8080/",
          "height": 556,
          "referenced_widgets": [
            "2eb9453faf774cd5a6544c32d550230d",
            "1e1796c339a440e6afd09151e09f3766",
            "692d9084ae744855a2151455863ce803",
            "a0a7c6d6ac964b0b873544f2039f0560",
            "37f9fe34db5c4bfba7cf11d2da5fa824",
            "0298f4a10ed14111a0d02290d716114d",
            "80f8e3a3f02e45888ec1766b67fb038c",
            "f9024aeec142415bb441888a7ea566d2",
            "1d2e3de76c0541c0a5c2696b40fa93cb",
            "771e7d85b30a4f3791ed3829b5067e1f",
            "2ce9168b182b4199bbfa1c42872a9991"
          ]
        },
        "outputId": "053ba30e-5251-4145-f6f0-e2389cc614b8"
      },
      "outputs": [
        {
          "output_type": "stream",
          "name": "stdout",
          "text": [
            "exc\n"
          ]
        },
        {
          "output_type": "display_data",
          "data": {
            "text/plain": [
              "Analyzing frequencies:   0%|          | 0/3 [00:00<?, ?it/s]"
            ],
            "application/vnd.jupyter.widget-view+json": {
              "version_major": 2,
              "version_minor": 0,
              "model_id": "2eb9453faf774cd5a6544c32d550230d"
            }
          },
          "metadata": {}
        },
        {
          "output_type": "display_data",
          "data": {
            "text/plain": [
              "<Figure size 1500x500 with 3 Axes>"
            ],
            "image/png": "[encoded data removed]"
          },
          "metadata": {}
        }
      ],
      "source": [
        "tuner_type = ['exc','inhPerisomatic','inhDendritic'][0] # select the first one\n",
        "# alternatively synapses.keys(0)\n",
        "print(tuner_type)\n",
        "results = synapses[tuner_type].stp_frequency_response(log_plot = False, freqs=[10,20,50])"
      ]
    },
    {
      "cell_type": "markdown",
      "metadata": {
        "id": "qjnciSmIJGIT"
      },
      "source": [
        "## record PSC magnitude distribution across sections\n",
        "\n",
        "(1) specify region_type (section_type) and the synapse_type\n",
        "\n",
        "(2) compute the mean,std of the magnitude of PSCs across the cell's sections of that type"
      ]
    },
    {
      "cell_type": "code",
      "source": [
        "# could make this into a function that just computes a dictionary so we only call it once and only creating/deleting a cell once.\n",
        "# Could even pass the cell from the tuner instead of creating/deleting a new one.\n",
        "def get_sec_ids_from_type(section_type):\n",
        "  cell = h.L5PCtemplate(\"../../../Neural-Modeling/cells/templates/cell1.asc\")\n",
        "\n",
        "  if section_type == 'distal_apic': # distal apic (>100 microns from soma)\n",
        "    sec_ids_to_use = [idx for idx,sec in enumerate(cell.all) if (sec in cell.apic) and (h.distance(cell.soma[0](0.5), sec(0.5)) > 100)]\n",
        "  elif section_type == 'distal_basal': # distal basal dendrites (>100 microns from soma)\n",
        "    sec_ids_to_use = [idx for idx,sec in enumerate(cell.all) if (sec in cell.dend) and (h.distance(cell.soma[0](0.5), sec(0.5)) > 100)]\n",
        "  elif section_type == 'perisomatic': # proximal dendrites and soma  (within 100 microns of soma)\n",
        "    sec_ids_to_use = [idx for idx,sec in enumerate(cell.all) if (h.distance(cell.soma[0](0.5), sec(0.5)) < 100)]\n",
        "  else:\n",
        "    del cell\n",
        "    NotImplementedError(f\"{section_type} not implemented for get_sec_ids_from_type\")\n",
        "\n",
        "  del cell\n",
        "  return sec_ids_to_use"
      ],
      "metadata": {
        "id": "FB-vRLHJHVZQ"
      },
      "execution_count": 39,
      "outputs": []
    },
    {
      "cell_type": "markdown",
      "source": [
        "gather the post synaptic current magnitude at the middle of every section"
      ],
      "metadata": {
        "id": "6L-g-jL3HpDn"
      }
    },
    {
      "cell_type": "code",
      "execution_count": 40,
      "metadata": {
        "id": "mFXiSjxeJGdD"
      },
      "outputs": [],
      "source": [
        "#NOTE: adjust this so that we measure across the synapses's initW distribution.\n",
        "\n",
        "import numpy as np\n",
        "from synapses import SynapseTuner\n",
        "import pandas as pd\n",
        "\n",
        "measure_PSCs = False;\n",
        "\n",
        "location_types_by_synapse_type = {\n",
        "    'inhPerisomatic': ['perisomatic'],\n",
        "    'exc': ['distal_basal', 'distal_apic'],\n",
        "    'inhDendritic': ['distal_basal', 'distal_apic']\n",
        "}\n",
        "\n",
        "# Initialize an empty list to store results\n",
        "results = []\n",
        "\n",
        "if measure_PSCs:\n",
        "  # gather distribution of PSC magnitudes for each synapse_type and location types\n",
        "  for synapse_type, location_types in location_types_by_synapse_type.items():\n",
        "    for location_type in location_types:\n",
        "      # get the sections we need\n",
        "      sec_ids_to_use = get_sec_ids_from_type(location_type) # select the type using integar\n",
        "\n",
        "      # gather PSC magnitudes across locations\n",
        "      magnitudes = []\n",
        "      for sec_id_to_use in sec_ids_to_use:\n",
        "\n",
        "        # move the synapse to the target location\n",
        "        synapses[synapse_type].syn.loc(list(synapses[synapse_type].cell.all)[sec_id_to_use](0.5))\n",
        "\n",
        "        #record magnitude of PSC\n",
        "        PSC_mag = max(abs(tuner.SingleEvent(plot_and_print=False))) # NOTE: have to update to return\n",
        "        magnitudes.append(PSC_mag) # have to fix this line\n",
        "\n",
        "      # calc mean, std\n",
        "      psc_mean = np.mean(magnitudes)\n",
        "      psc_std = np.std(magnitudes)\n",
        "      print(f\"{synapse_type}\\n\")\n",
        "      print(f\"{location_type}\\n\")\n",
        "      print(f\" mean: {psc_mean}\\n std:{psc_std} \\n\\n\")\n",
        "\n",
        "      # Store results in the list\n",
        "      results.append({\n",
        "          \"Synapse Type\": synapse_type,\n",
        "          \"Location Type\": location_type,\n",
        "          \"PSC Mean\": psc_mean,\n",
        "          \"PSC Std\": psc_std\n",
        "      })\n",
        "\n",
        "# Convert the list to a DataFrame\n",
        "results_df = pd.DataFrame(results)\n",
        "# import ace_tools as tools\n",
        "# tools.display_dataframe_to_user(name=\"PSC Data\", dataframe=results_df)"
      ]
    },
    {
      "cell_type": "code",
      "source": [
        "# gather PSC across different synaptic weights\n",
        "measure_PSCs = True\n",
        "num_weights_per_loc = 10\n",
        "\n",
        "exc_mean = (np.log(0.45) - 0.5 * np.log((0.35/0.45)**2+1))\n",
        "exc_std = np.sqrt(np.log((0.35/0.45)**2 + 1))\n",
        "exc_clip = (0,5)\n",
        "\n",
        "import numpy as np\n",
        "def log_norm_dist(gmax_mean, gmax_std, size, clip): # exc\n",
        "  val = np.random.lognormal(gmax_mean, gmax_std, size)\n",
        "  # print(val)\n",
        "  # print(np.clip(val, clip[0], clip[1]))\n",
        "  # print(float(np.clip(val, clip[0], clip[1])))\n",
        "  s = np.clip(val, clip[0], clip[1])\n",
        "  # s = gmax_scalar * float(np.clip(val, clip[0], clip[1]))\n",
        "  return s\n",
        "\n",
        "location_types_by_synapse_type = {\n",
        "    # 'inhPerisomatic': ['perisomatic'],\n",
        "    'exc': ['distal_basal', 'distal_apic'],\n",
        "    # 'inhDendritic': ['distal_basal', 'distal_apic']\n",
        "}\n",
        "\n",
        "\n",
        "# Initialize an empty list to store results\n",
        "results = []\n",
        "\n",
        "if measure_PSCs:\n",
        "  # gather distribution of PSC magnitudes for each synapse_type and location types\n",
        "  for synapse_type, location_types in location_types_by_synapse_type.items():\n",
        "    for location_type in location_types:\n",
        "      # get the sections we need\n",
        "      sec_ids_to_use = get_sec_ids_from_type(location_type) # select the type using integar\n",
        "\n",
        "      # gather PSC magnitudes across locations\n",
        "      magnitudes = []\n",
        "\n",
        "      for sec_id_to_use in sec_ids_to_use:\n",
        "        # move the synapse to the target location\n",
        "        synapses[synapse_type].syn.loc(list(synapses[synapse_type].cell.all)[sec_id_to_use](0.5))\n",
        "\n",
        "        for i_weight in range(num_weights_per_loc):\n",
        "          new_weight = log_norm_dist(exc_mean, exc_std, 1, exc_clip)\n",
        "          synapses['exc'].syn.initW = new_weight\n",
        "\n",
        "          #record magnitude of PSC\n",
        "          PSC_mag = max(abs(tuner.SingleEvent(plot_and_print=False))) # NOTE: have to update to return\n",
        "          magnitudes.append(PSC_mag) # have to fix this line\n",
        "\n",
        "      # calc mean, std\n",
        "      psc_mean = np.mean(magnitudes)\n",
        "      psc_std = np.std(magnitudes)\n",
        "      print(f\"{synapse_type}\\n\")\n",
        "      print(f\"{location_type}\\n\")\n",
        "      print(f\" mean: {psc_mean}\\n std:{psc_std} \\n\\n\")\n",
        "\n",
        "      # Store results in the list\n",
        "      results.append({\n",
        "          \"Synapse Type\": synapse_type,\n",
        "          \"Location Type\": location_type,\n",
        "          \"PSC Mean\": psc_mean,\n",
        "          \"PSC Std\": psc_std\n",
        "      })\n",
        "\n",
        "# Convert the list to a DataFrame\n",
        "results_df = pd.DataFrame(results)\n",
        "# import ace_tools as tools\n",
        "# tools.display_dataframe_to_user(name=\"PSC Data\", dataframe=results_df)"
      ],
      "metadata": {
        "colab": {
          "base_uri": "https://localhost:8080/"
        },
        "id": "4Aj8Tmik2eUU",
        "outputId": "7c7c1676-3593-4573-a212-0ed234998d67"
      },
      "execution_count": null,
      "outputs": [
        {
          "output_type": "stream",
          "name": "stderr",
          "text": [
            "<ipython-input-41-f6ec9d5c4f66>:45: DeprecationWarning: Conversion of an array with ndim > 0 to a scalar is deprecated, and will error in future. Ensure you extract a single element from your array before performing this operation. (Deprecated NumPy 1.25.)\n",
            "  synapses['exc'].syn.initW = new_weight\n"
          ]
        }
      ]
    },
    {
      "cell_type": "code",
      "source": [
        "results_df"
      ],
      "metadata": {
        "id": "CfyhNbML30nm"
      },
      "execution_count": null,
      "outputs": []
    },
    {
      "cell_type": "code",
      "source": [
        "# synapses['exc'].syn.initW"
      ],
      "metadata": {
        "id": "5az8G0Zq3iXF"
      },
      "execution_count": null,
      "outputs": []
    },
    {
      "cell_type": "code",
      "source": [
        "# looks like building the cell worked.\n",
        "# # check cell properties\n",
        "# sec_id = 100\n",
        "# print(f\"{list(synapses['exc'].cell.all)[sec_id](0.5)}: {dir(list(synapses['exc'].cell.all)[sec_id](0.5))}\")"
      ],
      "metadata": {
        "id": "RzKsBVblGx1D"
      },
      "execution_count": null,
      "outputs": []
    },
    {
      "cell_type": "code",
      "source": [
        "# print(f\"{list(synapses['exc'].cell.all)[sec_id](0.5).Ca_HVA.gCa_HVAbar}: {dir(list(synapses['exc'].cell.all)[sec_id](0.5).Ca_HVA.gCa_HVAbar)}\")"
      ],
      "metadata": {
        "id": "GnomWbcnUVGH"
      },
      "execution_count": null,
      "outputs": []
    }
  ],
  "metadata": {
    "colab": {
      "provenance": [],
      "include_colab_link": true
    },
    "kernelspec": {
      "display_name": "Python 3",
      "name": "python3"
    },
    "language_info": {
      "name": "python"
    },
    "widgets": {
      "application/vnd.jupyter.widget-state+json": {
        "dd11089fce15434d953c7add7206907d": {
          "model_module": "@jupyter-widgets/controls",
          "model_name": "VBoxModel",
          "model_module_version": "1.5.0",
          "state": {
            "_dom_classes": [],
            "_model_module": "@jupyter-widgets/controls",
            "_model_module_version": "1.5.0",
            "_model_name": "VBoxModel",
            "_view_count": null,
            "_view_module": "@jupyter-widgets/controls",
            "_view_module_version": "1.5.0",
            "_view_name": "VBoxView",
            "box_style": "",
            "children": [
              "IPY_MODEL_cdd61a36ea9d44ae9c87938faf70c525",
              "IPY_MODEL_b6d0d56bcafa4d5eb76941f847f1b118",
              "IPY_MODEL_02b19fd942034d28aa9c4fb415d99dae"
            ],
            "layout": "IPY_MODEL_4c203ccde4ec46f8a545847c1d6e3fda"
          }
        },
        "cdd61a36ea9d44ae9c87938faf70c525": {
          "model_module": "@jupyter-widgets/controls",
          "model_name": "HBoxModel",
          "model_module_version": "1.5.0",
          "state": {
            "_dom_classes": [],
            "_model_module": "@jupyter-widgets/controls",
            "_model_module_version": "1.5.0",
            "_model_name": "HBoxModel",
            "_view_count": null,
            "_view_module": "@jupyter-widgets/controls",
            "_view_module_version": "1.5.0",
            "_view_name": "HBoxView",
            "box_style": "",
            "children": [
              "IPY_MODEL_1cd01d8a456c4f28abf650c2d855d219",
              "IPY_MODEL_bc6226b52b3548f4914fbe77c19222c2",
              "IPY_MODEL_b5ba7c831b944681b6f7d442ea922786",
              "IPY_MODEL_06f26ab0372e4abe978a8c4578ac36fd"
            ],
            "layout": "IPY_MODEL_004aa171b8414fdc82b1a8b5bb26d9e4"
          }
        },
        "b6d0d56bcafa4d5eb76941f847f1b118": {
          "model_module": "@jupyter-widgets/controls",
          "model_name": "HBoxModel",
          "model_module_version": "1.5.0",
          "state": {
            "_dom_classes": [],
            "_model_module": "@jupyter-widgets/controls",
            "_model_module_version": "1.5.0",
            "_model_name": "HBoxModel",
            "_view_count": null,
            "_view_module": "@jupyter-widgets/controls",
            "_view_module_version": "1.5.0",
            "_view_name": "HBoxView",
            "box_style": "",
            "children": [
              "IPY_MODEL_32db54009da24dd0908f546189d0a982",
              "IPY_MODEL_18292404043f415185ce232139ed8d7b",
              "IPY_MODEL_657e458e41b04c019e284a167475b6e0"
            ],
            "layout": "IPY_MODEL_13e68cec67aa4697afdb2f03313d9005"
          }
        },
        "02b19fd942034d28aa9c4fb415d99dae": {
          "model_module": "@jupyter-widgets/controls",
          "model_name": "HBoxModel",
          "model_module_version": "1.5.0",
          "state": {
            "_dom_classes": [],
            "_model_module": "@jupyter-widgets/controls",
            "_model_module_version": "1.5.0",
            "_model_name": "HBoxModel",
            "_view_count": null,
            "_view_module": "@jupyter-widgets/controls",
            "_view_module_version": "1.5.0",
            "_view_name": "HBoxView",
            "box_style": "",
            "children": [
              "IPY_MODEL_1d64e13e41e8465ea781946ab73bd621",
              "IPY_MODEL_7364af07f1a64727b8e602e5d1c9a0ee"
            ],
            "layout": "IPY_MODEL_3a01d8bbea1a403587fedc8ee385acdd"
          }
        },
        "4c203ccde4ec46f8a545847c1d6e3fda": {
          "model_module": "@jupyter-widgets/base",
          "model_name": "LayoutModel",
          "model_module_version": "1.2.0",
          "state": {
            "_model_module": "@jupyter-widgets/base",
            "_model_module_version": "1.2.0",
            "_model_name": "LayoutModel",
            "_view_count": null,
            "_view_module": "@jupyter-widgets/base",
            "_view_module_version": "1.2.0",
            "_view_name": "LayoutView",
            "align_content": null,
            "align_items": null,
            "align_self": null,
            "border": null,
            "bottom": null,
            "display": null,
            "flex": null,
            "flex_flow": null,
            "grid_area": null,
            "grid_auto_columns": null,
            "grid_auto_flow": null,
            "grid_auto_rows": null,
            "grid_column": null,
            "grid_gap": null,
            "grid_row": null,
            "grid_template_areas": null,
            "grid_template_columns": null,
            "grid_template_rows": null,
            "height": null,
            "justify_content": null,
            "justify_items": null,
            "left": null,
            "margin": null,
            "max_height": null,
            "max_width": null,
            "min_height": null,
            "min_width": null,
            "object_fit": null,
            "object_position": null,
            "order": null,
            "overflow": null,
            "overflow_x": null,
            "overflow_y": null,
            "padding": null,
            "right": null,
            "top": null,
            "visibility": null,
            "width": null
          }
        },
        "1cd01d8a456c4f28abf650c2d855d219": {
          "model_module": "@jupyter-widgets/controls",
          "model_name": "ButtonModel",
          "model_module_version": "1.5.0",
          "state": {
            "_dom_classes": [],
            "_model_module": "@jupyter-widgets/controls",
            "_model_module_version": "1.5.0",
            "_model_name": "ButtonModel",
            "_view_count": null,
            "_view_module": "@jupyter-widgets/controls",
            "_view_module_version": "1.5.0",
            "_view_name": "ButtonView",
            "button_style": "primary",
            "description": "Run Train",
            "disabled": false,
            "icon": "history",
            "layout": "IPY_MODEL_6af80d7e61264b1184948244e3629f96",
            "style": "IPY_MODEL_67b3e2b9df9a4502824e545bf5aa917f",
            "tooltip": ""
          }
        },
        "bc6226b52b3548f4914fbe77c19222c2": {
          "model_module": "@jupyter-widgets/controls",
          "model_name": "ButtonModel",
          "model_module_version": "1.5.0",
          "state": {
            "_dom_classes": [],
            "_model_module": "@jupyter-widgets/controls",
            "_model_module_version": "1.5.0",
            "_model_name": "ButtonModel",
            "_view_count": null,
            "_view_module": "@jupyter-widgets/controls",
            "_view_module_version": "1.5.0",
            "_view_name": "ButtonView",
            "button_style": "success",
            "description": "Single Event",
            "disabled": false,
            "icon": "check",
            "layout": "IPY_MODEL_8cd68eb7713446199f40aa8c5094faf3",
            "style": "IPY_MODEL_479fe86901364fe48bfc1f3d53c2d349",
            "tooltip": ""
          }
        },
        "b5ba7c831b944681b6f7d442ea922786": {
          "model_module": "@jupyter-widgets/controls",
          "model_name": "ToggleButtonModel",
          "model_module_version": "1.5.0",
          "state": {
            "_dom_classes": [],
            "_model_module": "@jupyter-widgets/controls",
            "_model_module_version": "1.5.0",
            "_model_name": "ToggleButtonModel",
            "_view_count": null,
            "_view_module": "@jupyter-widgets/controls",
            "_view_module_version": "1.5.0",
            "_view_name": "ToggleButtonView",
            "button_style": "warning",
            "description": "Voltage Clamp",
            "description_tooltip": null,
            "disabled": false,
            "icon": "fast-backward",
            "layout": "IPY_MODEL_cf7e0925a01c4a9d8d22e169cfca6698",
            "style": "IPY_MODEL_45e8d8c0040346ec910cf3bc9f9d52bb",
            "tooltip": "",
            "value": false
          }
        },
        "06f26ab0372e4abe978a8c4578ac36fd": {
          "model_module": "@jupyter-widgets/controls",
          "model_name": "ToggleButtonModel",
          "model_module_version": "1.5.0",
          "state": {
            "_dom_classes": [],
            "_model_module": "@jupyter-widgets/controls",
            "_model_module_version": "1.5.0",
            "_model_name": "ToggleButtonModel",
            "_view_count": null,
            "_view_module": "@jupyter-widgets/controls",
            "_view_module_version": "1.5.0",
            "_view_name": "ToggleButtonView",
            "button_style": "info",
            "description": "Continuous input",
            "description_tooltip": null,
            "disabled": false,
            "icon": "eject",
            "layout": "IPY_MODEL_9edbb1346102490f9befcd01c505a4f5",
            "style": "IPY_MODEL_daeb717ee68f4528865a722a361cb295",
            "tooltip": "",
            "value": false
          }
        },
        "004aa171b8414fdc82b1a8b5bb26d9e4": {
          "model_module": "@jupyter-widgets/base",
          "model_name": "LayoutModel",
          "model_module_version": "1.2.0",
          "state": {
            "_model_module": "@jupyter-widgets/base",
            "_model_module_version": "1.2.0",
            "_model_name": "LayoutModel",
            "_view_count": null,
            "_view_module": "@jupyter-widgets/base",
            "_view_module_version": "1.2.0",
            "_view_name": "LayoutView",
            "align_content": null,
            "align_items": null,
            "align_self": null,
            "border": null,
            "bottom": null,
            "display": null,
            "flex": null,
            "flex_flow": null,
            "grid_area": null,
            "grid_auto_columns": null,
            "grid_auto_flow": null,
            "grid_auto_rows": null,
            "grid_column": null,
            "grid_gap": null,
            "grid_row": null,
            "grid_template_areas": null,
            "grid_template_columns": null,
            "grid_template_rows": null,
            "height": null,
            "justify_content": null,
            "justify_items": null,
            "left": null,
            "margin": null,
            "max_height": null,
            "max_width": null,
            "min_height": null,
            "min_width": null,
            "object_fit": null,
            "object_position": null,
            "order": null,
            "overflow": null,
            "overflow_x": null,
            "overflow_y": null,
            "padding": null,
            "right": null,
            "top": null,
            "visibility": null,
            "width": null
          }
        },
        "32db54009da24dd0908f546189d0a982": {
          "model_module": "@jupyter-widgets/controls",
          "model_name": "SelectionSliderModel",
          "model_module_version": "1.5.0",
          "state": {
            "_dom_classes": [],
            "_model_module": "@jupyter-widgets/controls",
            "_model_module_version": "1.5.0",
            "_model_name": "SelectionSliderModel",
            "_options_labels": [
              "1",
              "2",
              "3",
              "4",
              "5",
              "6",
              "7",
              "8",
              "9",
              "10",
              "15",
              "20",
              "35",
              "50",
              "100",
              "200"
            ],
            "_view_count": null,
            "_view_module": "@jupyter-widgets/controls",
            "_view_module_version": "1.5.0",
            "_view_name": "SelectionSliderView",
            "continuous_update": true,
            "description": "Input Freq",
            "description_tooltip": null,
            "disabled": false,
            "index": 13,
            "layout": "IPY_MODEL_356f9e6682dc44b49034d1b07938371a",
            "orientation": "horizontal",
            "readout": true,
            "style": "IPY_MODEL_1bcb988ff3b2422191ec64b106eb7c5c"
          }
        },
        "18292404043f415185ce232139ed8d7b": {
          "model_module": "@jupyter-widgets/controls",
          "model_name": "SelectionSliderModel",
          "model_module_version": "1.5.0",
          "state": {
            "_dom_classes": [],
            "_model_module": "@jupyter-widgets/controls",
            "_model_module_version": "1.5.0",
            "_model_name": "SelectionSliderModel",
            "_options_labels": [
              "125",
              "250",
              "500",
              "1000",
              "2000",
              "4000"
            ],
            "_view_count": null,
            "_view_module": "@jupyter-widgets/controls",
            "_view_module_version": "1.5.0",
            "_view_name": "SelectionSliderView",
            "continuous_update": true,
            "description": "Delay",
            "description_tooltip": null,
            "disabled": false,
            "index": 1,
            "layout": "IPY_MODEL_58e78ce4a2724b1ab4b510c7ab6db20e",
            "orientation": "horizontal",
            "readout": true,
            "style": "IPY_MODEL_54d15a147a2e4a4190a17c4ba6bbb831"
          }
        },
        "657e458e41b04c019e284a167475b6e0": {
          "model_module": "@jupyter-widgets/controls",
          "model_name": "SelectionSliderModel",
          "model_module_version": "1.5.0",
          "state": {
            "_dom_classes": [],
            "_model_module": "@jupyter-widgets/controls",
            "_model_module_version": "1.5.0",
            "_model_name": "SelectionSliderModel",
            "_options_labels": [
              "300",
              "500",
              "1000",
              "2000",
              "5000",
              "10000"
            ],
            "_view_count": null,
            "_view_module": "@jupyter-widgets/controls",
            "_view_module_version": "1.5.0",
            "_view_name": "SelectionSliderView",
            "continuous_update": true,
            "description": "Duration",
            "description_tooltip": null,
            "disabled": false,
            "index": 0,
            "layout": "IPY_MODEL_b7cabef53179418c86c432718bcc63b2",
            "orientation": "horizontal",
            "readout": true,
            "style": "IPY_MODEL_02687957cb2a4d6c95d36e0e1c9f37e1"
          }
        },
        "13e68cec67aa4697afdb2f03313d9005": {
          "model_module": "@jupyter-widgets/base",
          "model_name": "LayoutModel",
          "model_module_version": "1.2.0",
          "state": {
            "_model_module": "@jupyter-widgets/base",
            "_model_module_version": "1.2.0",
            "_model_name": "LayoutModel",
            "_view_count": null,
            "_view_module": "@jupyter-widgets/base",
            "_view_module_version": "1.2.0",
            "_view_name": "LayoutView",
            "align_content": null,
            "align_items": null,
            "align_self": null,
            "border": null,
            "bottom": null,
            "display": null,
            "flex": null,
            "flex_flow": null,
            "grid_area": null,
            "grid_auto_columns": null,
            "grid_auto_flow": null,
            "grid_auto_rows": null,
            "grid_column": null,
            "grid_gap": null,
            "grid_row": null,
            "grid_template_areas": null,
            "grid_template_columns": null,
            "grid_template_rows": null,
            "height": null,
            "justify_content": null,
            "justify_items": null,
            "left": null,
            "margin": null,
            "max_height": null,
            "max_width": null,
            "min_height": null,
            "min_width": null,
            "object_fit": null,
            "object_position": null,
            "order": null,
            "overflow": null,
            "overflow_x": null,
            "overflow_y": null,
            "padding": null,
            "right": null,
            "top": null,
            "visibility": null,
            "width": null
          }
        },
        "1d64e13e41e8465ea781946ab73bd621": {
          "model_module": "@jupyter-widgets/controls",
          "model_name": "VBoxModel",
          "model_module_version": "1.5.0",
          "state": {
            "_dom_classes": [],
            "_model_module": "@jupyter-widgets/controls",
            "_model_module_version": "1.5.0",
            "_model_name": "VBoxModel",
            "_view_count": null,
            "_view_module": "@jupyter-widgets/controls",
            "_view_module_version": "1.5.0",
            "_view_name": "VBoxView",
            "box_style": "",
            "children": [
              "IPY_MODEL_d59c6e0a71f04d38be653f0aa88d799c"
            ],
            "layout": "IPY_MODEL_816d0e33ce654183aa000df005867970"
          }
        },
        "7364af07f1a64727b8e602e5d1c9a0ee": {
          "model_module": "@jupyter-widgets/controls",
          "model_name": "VBoxModel",
          "model_module_version": "1.5.0",
          "state": {
            "_dom_classes": [],
            "_model_module": "@jupyter-widgets/controls",
            "_model_module_version": "1.5.0",
            "_model_name": "VBoxModel",
            "_view_count": null,
            "_view_module": "@jupyter-widgets/controls",
            "_view_module_version": "1.5.0",
            "_view_name": "VBoxView",
            "box_style": "",
            "children": [
              "IPY_MODEL_536ccb35036a4e168a1a094c74d9096a",
              "IPY_MODEL_a3a9a366f9284326b94a972face11675"
            ],
            "layout": "IPY_MODEL_7df51c32ff2f4348b731347978625e23"
          }
        },
        "3a01d8bbea1a403587fedc8ee385acdd": {
          "model_module": "@jupyter-widgets/base",
          "model_name": "LayoutModel",
          "model_module_version": "1.2.0",
          "state": {
            "_model_module": "@jupyter-widgets/base",
            "_model_module_version": "1.2.0",
            "_model_name": "LayoutModel",
            "_view_count": null,
            "_view_module": "@jupyter-widgets/base",
            "_view_module_version": "1.2.0",
            "_view_name": "LayoutView",
            "align_content": null,
            "align_items": null,
            "align_self": null,
            "border": null,
            "bottom": null,
            "display": null,
            "flex": null,
            "flex_flow": null,
            "grid_area": null,
            "grid_auto_columns": null,
            "grid_auto_flow": null,
            "grid_auto_rows": null,
            "grid_column": null,
            "grid_gap": null,
            "grid_row": null,
            "grid_template_areas": null,
            "grid_template_columns": null,
            "grid_template_rows": null,
            "height": null,
            "justify_content": null,
            "justify_items": null,
            "left": null,
            "margin": null,
            "max_height": null,
            "max_width": null,
            "min_height": null,
            "min_width": null,
            "object_fit": null,
            "object_position": null,
            "order": null,
            "overflow": null,
            "overflow_x": null,
            "overflow_y": null,
            "padding": null,
            "right": null,
            "top": null,
            "visibility": null,
            "width": null
          }
        },
        "6af80d7e61264b1184948244e3629f96": {
          "model_module": "@jupyter-widgets/base",
          "model_name": "LayoutModel",
          "model_module_version": "1.2.0",
          "state": {
            "_model_module": "@jupyter-widgets/base",
            "_model_module_version": "1.2.0",
            "_model_name": "LayoutModel",
            "_view_count": null,
            "_view_module": "@jupyter-widgets/base",
            "_view_module_version": "1.2.0",
            "_view_name": "LayoutView",
            "align_content": null,
            "align_items": null,
            "align_self": null,
            "border": null,
            "bottom": null,
            "display": null,
            "flex": null,
            "flex_flow": null,
            "grid_area": null,
            "grid_auto_columns": null,
            "grid_auto_flow": null,
            "grid_auto_rows": null,
            "grid_column": null,
            "grid_gap": null,
            "grid_row": null,
            "grid_template_areas": null,
            "grid_template_columns": null,
            "grid_template_rows": null,
            "height": null,
            "justify_content": null,
            "justify_items": null,
            "left": null,
            "margin": null,
            "max_height": null,
            "max_width": null,
            "min_height": null,
            "min_width": null,
            "object_fit": null,
            "object_position": null,
            "order": null,
            "overflow": null,
            "overflow_x": null,
            "overflow_y": null,
            "padding": null,
            "right": null,
            "top": null,
            "visibility": null,
            "width": null
          }
        },
        "67b3e2b9df9a4502824e545bf5aa917f": {
          "model_module": "@jupyter-widgets/controls",
          "model_name": "ButtonStyleModel",
          "model_module_version": "1.5.0",
          "state": {
            "_model_module": "@jupyter-widgets/controls",
            "_model_module_version": "1.5.0",
            "_model_name": "ButtonStyleModel",
            "_view_count": null,
            "_view_module": "@jupyter-widgets/base",
            "_view_module_version": "1.2.0",
            "_view_name": "StyleView",
            "button_color": null,
            "font_weight": ""
          }
        },
        "8cd68eb7713446199f40aa8c5094faf3": {
          "model_module": "@jupyter-widgets/base",
          "model_name": "LayoutModel",
          "model_module_version": "1.2.0",
          "state": {
            "_model_module": "@jupyter-widgets/base",
            "_model_module_version": "1.2.0",
            "_model_name": "LayoutModel",
            "_view_count": null,
            "_view_module": "@jupyter-widgets/base",
            "_view_module_version": "1.2.0",
            "_view_name": "LayoutView",
            "align_content": null,
            "align_items": null,
            "align_self": null,
            "border": null,
            "bottom": null,
            "display": null,
            "flex": null,
            "flex_flow": null,
            "grid_area": null,
            "grid_auto_columns": null,
            "grid_auto_flow": null,
            "grid_auto_rows": null,
            "grid_column": null,
            "grid_gap": null,
            "grid_row": null,
            "grid_template_areas": null,
            "grid_template_columns": null,
            "grid_template_rows": null,
            "height": null,
            "justify_content": null,
            "justify_items": null,
            "left": null,
            "margin": null,
            "max_height": null,
            "max_width": null,
            "min_height": null,
            "min_width": null,
            "object_fit": null,
            "object_position": null,
            "order": null,
            "overflow": null,
            "overflow_x": null,
            "overflow_y": null,
            "padding": null,
            "right": null,
            "top": null,
            "visibility": null,
            "width": null
          }
        },
        "479fe86901364fe48bfc1f3d53c2d349": {
          "model_module": "@jupyter-widgets/controls",
          "model_name": "ButtonStyleModel",
          "model_module_version": "1.5.0",
          "state": {
            "_model_module": "@jupyter-widgets/controls",
            "_model_module_version": "1.5.0",
            "_model_name": "ButtonStyleModel",
            "_view_count": null,
            "_view_module": "@jupyter-widgets/base",
            "_view_module_version": "1.2.0",
            "_view_name": "StyleView",
            "button_color": null,
            "font_weight": ""
          }
        },
        "cf7e0925a01c4a9d8d22e169cfca6698": {
          "model_module": "@jupyter-widgets/base",
          "model_name": "LayoutModel",
          "model_module_version": "1.2.0",
          "state": {
            "_model_module": "@jupyter-widgets/base",
            "_model_module_version": "1.2.0",
            "_model_name": "LayoutModel",
            "_view_count": null,
            "_view_module": "@jupyter-widgets/base",
            "_view_module_version": "1.2.0",
            "_view_name": "LayoutView",
            "align_content": null,
            "align_items": null,
            "align_self": null,
            "border": null,
            "bottom": null,
            "display": null,
            "flex": null,
            "flex_flow": null,
            "grid_area": null,
            "grid_auto_columns": null,
            "grid_auto_flow": null,
            "grid_auto_rows": null,
            "grid_column": null,
            "grid_gap": null,
            "grid_row": null,
            "grid_template_areas": null,
            "grid_template_columns": null,
            "grid_template_rows": null,
            "height": null,
            "justify_content": null,
            "justify_items": null,
            "left": null,
            "margin": null,
            "max_height": null,
            "max_width": null,
            "min_height": null,
            "min_width": null,
            "object_fit": null,
            "object_position": null,
            "order": null,
            "overflow": null,
            "overflow_x": null,
            "overflow_y": null,
            "padding": null,
            "right": null,
            "top": null,
            "visibility": null,
            "width": null
          }
        },
        "45e8d8c0040346ec910cf3bc9f9d52bb": {
          "model_module": "@jupyter-widgets/controls",
          "model_name": "DescriptionStyleModel",
          "model_module_version": "1.5.0",
          "state": {
            "_model_module": "@jupyter-widgets/controls",
            "_model_module_version": "1.5.0",
            "_model_name": "DescriptionStyleModel",
            "_view_count": null,
            "_view_module": "@jupyter-widgets/base",
            "_view_module_version": "1.2.0",
            "_view_name": "StyleView",
            "description_width": ""
          }
        },
        "9edbb1346102490f9befcd01c505a4f5": {
          "model_module": "@jupyter-widgets/base",
          "model_name": "LayoutModel",
          "model_module_version": "1.2.0",
          "state": {
            "_model_module": "@jupyter-widgets/base",
            "_model_module_version": "1.2.0",
            "_model_name": "LayoutModel",
            "_view_count": null,
            "_view_module": "@jupyter-widgets/base",
            "_view_module_version": "1.2.0",
            "_view_name": "LayoutView",
            "align_content": null,
            "align_items": null,
            "align_self": null,
            "border": null,
            "bottom": null,
            "display": null,
            "flex": null,
            "flex_flow": null,
            "grid_area": null,
            "grid_auto_columns": null,
            "grid_auto_flow": null,
            "grid_auto_rows": null,
            "grid_column": null,
            "grid_gap": null,
            "grid_row": null,
            "grid_template_areas": null,
            "grid_template_columns": null,
            "grid_template_rows": null,
            "height": null,
            "justify_content": null,
            "justify_items": null,
            "left": null,
            "margin": null,
            "max_height": null,
            "max_width": null,
            "min_height": null,
            "min_width": null,
            "object_fit": null,
            "object_position": null,
            "order": null,
            "overflow": null,
            "overflow_x": null,
            "overflow_y": null,
            "padding": null,
            "right": null,
            "top": null,
            "visibility": null,
            "width": null
          }
        },
        "daeb717ee68f4528865a722a361cb295": {
          "model_module": "@jupyter-widgets/controls",
          "model_name": "DescriptionStyleModel",
          "model_module_version": "1.5.0",
          "state": {
            "_model_module": "@jupyter-widgets/controls",
            "_model_module_version": "1.5.0",
            "_model_name": "DescriptionStyleModel",
            "_view_count": null,
            "_view_module": "@jupyter-widgets/base",
            "_view_module_version": "1.2.0",
            "_view_name": "StyleView",
            "description_width": ""
          }
        },
        "356f9e6682dc44b49034d1b07938371a": {
          "model_module": "@jupyter-widgets/base",
          "model_name": "LayoutModel",
          "model_module_version": "1.2.0",
          "state": {
            "_model_module": "@jupyter-widgets/base",
            "_model_module_version": "1.2.0",
            "_model_name": "LayoutModel",
            "_view_count": null,
            "_view_module": "@jupyter-widgets/base",
            "_view_module_version": "1.2.0",
            "_view_name": "LayoutView",
            "align_content": null,
            "align_items": null,
            "align_self": null,
            "border": null,
            "bottom": null,
            "display": null,
            "flex": null,
            "flex_flow": null,
            "grid_area": null,
            "grid_auto_columns": null,
            "grid_auto_flow": null,
            "grid_auto_rows": null,
            "grid_column": null,
            "grid_gap": null,
            "grid_row": null,
            "grid_template_areas": null,
            "grid_template_columns": null,
            "grid_template_rows": null,
            "height": null,
            "justify_content": null,
            "justify_items": null,
            "left": null,
            "margin": null,
            "max_height": null,
            "max_width": null,
            "min_height": null,
            "min_width": null,
            "object_fit": null,
            "object_position": null,
            "order": null,
            "overflow": null,
            "overflow_x": null,
            "overflow_y": null,
            "padding": null,
            "right": null,
            "top": null,
            "visibility": null,
            "width": null
          }
        },
        "1bcb988ff3b2422191ec64b106eb7c5c": {
          "model_module": "@jupyter-widgets/controls",
          "model_name": "DescriptionStyleModel",
          "model_module_version": "1.5.0",
          "state": {
            "_model_module": "@jupyter-widgets/controls",
            "_model_module_version": "1.5.0",
            "_model_name": "DescriptionStyleModel",
            "_view_count": null,
            "_view_module": "@jupyter-widgets/base",
            "_view_module_version": "1.2.0",
            "_view_name": "StyleView",
            "description_width": ""
          }
        },
        "58e78ce4a2724b1ab4b510c7ab6db20e": {
          "model_module": "@jupyter-widgets/base",
          "model_name": "LayoutModel",
          "model_module_version": "1.2.0",
          "state": {
            "_model_module": "@jupyter-widgets/base",
            "_model_module_version": "1.2.0",
            "_model_name": "LayoutModel",
            "_view_count": null,
            "_view_module": "@jupyter-widgets/base",
            "_view_module_version": "1.2.0",
            "_view_name": "LayoutView",
            "align_content": null,
            "align_items": null,
            "align_self": null,
            "border": null,
            "bottom": null,
            "display": null,
            "flex": null,
            "flex_flow": null,
            "grid_area": null,
            "grid_auto_columns": null,
            "grid_auto_flow": null,
            "grid_auto_rows": null,
            "grid_column": null,
            "grid_gap": null,
            "grid_row": null,
            "grid_template_areas": null,
            "grid_template_columns": null,
            "grid_template_rows": null,
            "height": null,
            "justify_content": null,
            "justify_items": null,
            "left": null,
            "margin": null,
            "max_height": null,
            "max_width": null,
            "min_height": null,
            "min_width": null,
            "object_fit": null,
            "object_position": null,
            "order": null,
            "overflow": null,
            "overflow_x": null,
            "overflow_y": null,
            "padding": null,
            "right": null,
            "top": null,
            "visibility": null,
            "width": null
          }
        },
        "54d15a147a2e4a4190a17c4ba6bbb831": {
          "model_module": "@jupyter-widgets/controls",
          "model_name": "DescriptionStyleModel",
          "model_module_version": "1.5.0",
          "state": {
            "_model_module": "@jupyter-widgets/controls",
            "_model_module_version": "1.5.0",
            "_model_name": "DescriptionStyleModel",
            "_view_count": null,
            "_view_module": "@jupyter-widgets/base",
            "_view_module_version": "1.2.0",
            "_view_name": "StyleView",
            "description_width": ""
          }
        },
        "b7cabef53179418c86c432718bcc63b2": {
          "model_module": "@jupyter-widgets/base",
          "model_name": "LayoutModel",
          "model_module_version": "1.2.0",
          "state": {
            "_model_module": "@jupyter-widgets/base",
            "_model_module_version": "1.2.0",
            "_model_name": "LayoutModel",
            "_view_count": null,
            "_view_module": "@jupyter-widgets/base",
            "_view_module_version": "1.2.0",
            "_view_name": "LayoutView",
            "align_content": null,
            "align_items": null,
            "align_self": null,
            "border": null,
            "bottom": null,
            "display": "none",
            "flex": null,
            "flex_flow": null,
            "grid_area": null,
            "grid_auto_columns": null,
            "grid_auto_flow": null,
            "grid_auto_rows": null,
            "grid_column": null,
            "grid_gap": null,
            "grid_row": null,
            "grid_template_areas": null,
            "grid_template_columns": null,
            "grid_template_rows": null,
            "height": null,
            "justify_content": null,
            "justify_items": null,
            "left": null,
            "margin": null,
            "max_height": null,
            "max_width": null,
            "min_height": null,
            "min_width": null,
            "object_fit": null,
            "object_position": null,
            "order": null,
            "overflow": null,
            "overflow_x": null,
            "overflow_y": null,
            "padding": null,
            "right": null,
            "top": null,
            "visibility": null,
            "width": null
          }
        },
        "02687957cb2a4d6c95d36e0e1c9f37e1": {
          "model_module": "@jupyter-widgets/controls",
          "model_name": "DescriptionStyleModel",
          "model_module_version": "1.5.0",
          "state": {
            "_model_module": "@jupyter-widgets/controls",
            "_model_module_version": "1.5.0",
            "_model_name": "DescriptionStyleModel",
            "_view_count": null,
            "_view_module": "@jupyter-widgets/base",
            "_view_module_version": "1.2.0",
            "_view_name": "StyleView",
            "description_width": ""
          }
        },
        "d59c6e0a71f04d38be653f0aa88d799c": {
          "model_module": "@jupyter-widgets/controls",
          "model_name": "FloatSliderModel",
          "model_module_version": "1.5.0",
          "state": {
            "_dom_classes": [],
            "_model_module": "@jupyter-widgets/controls",
            "_model_module_version": "1.5.0",
            "_model_name": "FloatSliderModel",
            "_view_count": null,
            "_view_module": "@jupyter-widgets/controls",
            "_view_module_version": "1.5.0",
            "_view_name": "FloatSliderView",
            "continuous_update": true,
            "description": "gbar_ampa",
            "description_tooltip": null,
            "disabled": false,
            "layout": "IPY_MODEL_d5e985f0d99b46c5b67ec76ab8fe708d",
            "max": 0.02,
            "min": 0,
            "orientation": "horizontal",
            "readout": true,
            "readout_format": ".2f",
            "step": 0.0002,
            "style": "IPY_MODEL_8c734a7e145e42fe8392bf8da3b12cb8",
            "value": 0.001
          }
        },
        "816d0e33ce654183aa000df005867970": {
          "model_module": "@jupyter-widgets/base",
          "model_name": "LayoutModel",
          "model_module_version": "1.2.0",
          "state": {
            "_model_module": "@jupyter-widgets/base",
            "_model_module_version": "1.2.0",
            "_model_name": "LayoutModel",
            "_view_count": null,
            "_view_module": "@jupyter-widgets/base",
            "_view_module_version": "1.2.0",
            "_view_name": "LayoutView",
            "align_content": null,
            "align_items": null,
            "align_self": null,
            "border": null,
            "bottom": null,
            "display": null,
            "flex": null,
            "flex_flow": null,
            "grid_area": null,
            "grid_auto_columns": null,
            "grid_auto_flow": null,
            "grid_auto_rows": null,
            "grid_column": null,
            "grid_gap": null,
            "grid_row": null,
            "grid_template_areas": null,
            "grid_template_columns": null,
            "grid_template_rows": null,
            "height": null,
            "justify_content": null,
            "justify_items": null,
            "left": null,
            "margin": null,
            "max_height": null,
            "max_width": null,
            "min_height": null,
            "min_width": null,
            "object_fit": null,
            "object_position": null,
            "order": null,
            "overflow": null,
            "overflow_x": null,
            "overflow_y": null,
            "padding": null,
            "right": null,
            "top": null,
            "visibility": null,
            "width": null
          }
        },
        "536ccb35036a4e168a1a094c74d9096a": {
          "model_module": "@jupyter-widgets/controls",
          "model_name": "FloatSliderModel",
          "model_module_version": "1.5.0",
          "state": {
            "_dom_classes": [],
            "_model_module": "@jupyter-widgets/controls",
            "_model_module_version": "1.5.0",
            "_model_name": "FloatSliderModel",
            "_view_count": null,
            "_view_module": "@jupyter-widgets/controls",
            "_view_module_version": "1.5.0",
            "_view_name": "FloatSliderView",
            "continuous_update": true,
            "description": "gbar_nmda",
            "description_tooltip": null,
            "disabled": false,
            "layout": "IPY_MODEL_d301ddce78804287ad1b43b243e9409d",
            "max": 0.01,
            "min": 0,
            "orientation": "horizontal",
            "readout": true,
            "readout_format": ".2f",
            "step": 0.0001,
            "style": "IPY_MODEL_fbd8271cb1e444f9aa54d1112629874d",
            "value": 0.0005
          }
        },
        "a3a9a366f9284326b94a972face11675": {
          "model_module": "@jupyter-widgets/controls",
          "model_name": "FloatSliderModel",
          "model_module_version": "1.5.0",
          "state": {
            "_dom_classes": [],
            "_model_module": "@jupyter-widgets/controls",
            "_model_module_version": "1.5.0",
            "_model_name": "FloatSliderModel",
            "_view_count": null,
            "_view_module": "@jupyter-widgets/controls",
            "_view_module_version": "1.5.0",
            "_view_name": "FloatSliderView",
            "continuous_update": true,
            "description": "initW",
            "description_tooltip": null,
            "disabled": false,
            "layout": "IPY_MODEL_eff0120488244c78a74bfe573fe9b476",
            "max": 8.75,
            "min": 0,
            "orientation": "horizontal",
            "readout": true,
            "readout_format": ".2f",
            "step": 0.0875,
            "style": "IPY_MODEL_c244ca9b2755428090656e5eea040f23",
            "value": 0.4375
          }
        },
        "7df51c32ff2f4348b731347978625e23": {
          "model_module": "@jupyter-widgets/base",
          "model_name": "LayoutModel",
          "model_module_version": "1.2.0",
          "state": {
            "_model_module": "@jupyter-widgets/base",
            "_model_module_version": "1.2.0",
            "_model_name": "LayoutModel",
            "_view_count": null,
            "_view_module": "@jupyter-widgets/base",
            "_view_module_version": "1.2.0",
            "_view_name": "LayoutView",
            "align_content": null,
            "align_items": null,
            "align_self": null,
            "border": null,
            "bottom": null,
            "display": null,
            "flex": null,
            "flex_flow": null,
            "grid_area": null,
            "grid_auto_columns": null,
            "grid_auto_flow": null,
            "grid_auto_rows": null,
            "grid_column": null,
            "grid_gap": null,
            "grid_row": null,
            "grid_template_areas": null,
            "grid_template_columns": null,
            "grid_template_rows": null,
            "height": null,
            "justify_content": null,
            "justify_items": null,
            "left": null,
            "margin": null,
            "max_height": null,
            "max_width": null,
            "min_height": null,
            "min_width": null,
            "object_fit": null,
            "object_position": null,
            "order": null,
            "overflow": null,
            "overflow_x": null,
            "overflow_y": null,
            "padding": null,
            "right": null,
            "top": null,
            "visibility": null,
            "width": null
          }
        },
        "d5e985f0d99b46c5b67ec76ab8fe708d": {
          "model_module": "@jupyter-widgets/base",
          "model_name": "LayoutModel",
          "model_module_version": "1.2.0",
          "state": {
            "_model_module": "@jupyter-widgets/base",
            "_model_module_version": "1.2.0",
            "_model_name": "LayoutModel",
            "_view_count": null,
            "_view_module": "@jupyter-widgets/base",
            "_view_module_version": "1.2.0",
            "_view_name": "LayoutView",
            "align_content": null,
            "align_items": null,
            "align_self": null,
            "border": null,
            "bottom": null,
            "display": null,
            "flex": null,
            "flex_flow": null,
            "grid_area": null,
            "grid_auto_columns": null,
            "grid_auto_flow": null,
            "grid_auto_rows": null,
            "grid_column": null,
            "grid_gap": null,
            "grid_row": null,
            "grid_template_areas": null,
            "grid_template_columns": null,
            "grid_template_rows": null,
            "height": null,
            "justify_content": null,
            "justify_items": null,
            "left": null,
            "margin": null,
            "max_height": null,
            "max_width": null,
            "min_height": null,
            "min_width": null,
            "object_fit": null,
            "object_position": null,
            "order": null,
            "overflow": null,
            "overflow_x": null,
            "overflow_y": null,
            "padding": null,
            "right": null,
            "top": null,
            "visibility": null,
            "width": null
          }
        },
        "8c734a7e145e42fe8392bf8da3b12cb8": {
          "model_module": "@jupyter-widgets/controls",
          "model_name": "SliderStyleModel",
          "model_module_version": "1.5.0",
          "state": {
            "_model_module": "@jupyter-widgets/controls",
            "_model_module_version": "1.5.0",
            "_model_name": "SliderStyleModel",
            "_view_count": null,
            "_view_module": "@jupyter-widgets/base",
            "_view_module_version": "1.2.0",
            "_view_name": "StyleView",
            "description_width": "",
            "handle_color": null
          }
        },
        "d301ddce78804287ad1b43b243e9409d": {
          "model_module": "@jupyter-widgets/base",
          "model_name": "LayoutModel",
          "model_module_version": "1.2.0",
          "state": {
            "_model_module": "@jupyter-widgets/base",
            "_model_module_version": "1.2.0",
            "_model_name": "LayoutModel",
            "_view_count": null,
            "_view_module": "@jupyter-widgets/base",
            "_view_module_version": "1.2.0",
            "_view_name": "LayoutView",
            "align_content": null,
            "align_items": null,
            "align_self": null,
            "border": null,
            "bottom": null,
            "display": null,
            "flex": null,
            "flex_flow": null,
            "grid_area": null,
            "grid_auto_columns": null,
            "grid_auto_flow": null,
            "grid_auto_rows": null,
            "grid_column": null,
            "grid_gap": null,
            "grid_row": null,
            "grid_template_areas": null,
            "grid_template_columns": null,
            "grid_template_rows": null,
            "height": null,
            "justify_content": null,
            "justify_items": null,
            "left": null,
            "margin": null,
            "max_height": null,
            "max_width": null,
            "min_height": null,
            "min_width": null,
            "object_fit": null,
            "object_position": null,
            "order": null,
            "overflow": null,
            "overflow_x": null,
            "overflow_y": null,
            "padding": null,
            "right": null,
            "top": null,
            "visibility": null,
            "width": null
          }
        },
        "fbd8271cb1e444f9aa54d1112629874d": {
          "model_module": "@jupyter-widgets/controls",
          "model_name": "SliderStyleModel",
          "model_module_version": "1.5.0",
          "state": {
            "_model_module": "@jupyter-widgets/controls",
            "_model_module_version": "1.5.0",
            "_model_name": "SliderStyleModel",
            "_view_count": null,
            "_view_module": "@jupyter-widgets/base",
            "_view_module_version": "1.2.0",
            "_view_name": "StyleView",
            "description_width": "",
            "handle_color": null
          }
        },
        "eff0120488244c78a74bfe573fe9b476": {
          "model_module": "@jupyter-widgets/base",
          "model_name": "LayoutModel",
          "model_module_version": "1.2.0",
          "state": {
            "_model_module": "@jupyter-widgets/base",
            "_model_module_version": "1.2.0",
            "_model_name": "LayoutModel",
            "_view_count": null,
            "_view_module": "@jupyter-widgets/base",
            "_view_module_version": "1.2.0",
            "_view_name": "LayoutView",
            "align_content": null,
            "align_items": null,
            "align_self": null,
            "border": null,
            "bottom": null,
            "display": null,
            "flex": null,
            "flex_flow": null,
            "grid_area": null,
            "grid_auto_columns": null,
            "grid_auto_flow": null,
            "grid_auto_rows": null,
            "grid_column": null,
            "grid_gap": null,
            "grid_row": null,
            "grid_template_areas": null,
            "grid_template_columns": null,
            "grid_template_rows": null,
            "height": null,
            "justify_content": null,
            "justify_items": null,
            "left": null,
            "margin": null,
            "max_height": null,
            "max_width": null,
            "min_height": null,
            "min_width": null,
            "object_fit": null,
            "object_position": null,
            "order": null,
            "overflow": null,
            "overflow_x": null,
            "overflow_y": null,
            "padding": null,
            "right": null,
            "top": null,
            "visibility": null,
            "width": null
          }
        },
        "c244ca9b2755428090656e5eea040f23": {
          "model_module": "@jupyter-widgets/controls",
          "model_name": "SliderStyleModel",
          "model_module_version": "1.5.0",
          "state": {
            "_model_module": "@jupyter-widgets/controls",
            "_model_module_version": "1.5.0",
            "_model_name": "SliderStyleModel",
            "_view_count": null,
            "_view_module": "@jupyter-widgets/base",
            "_view_module_version": "1.2.0",
            "_view_name": "StyleView",
            "description_width": "",
            "handle_color": null
          }
        },
        "2eb9453faf774cd5a6544c32d550230d": {
          "model_module": "@jupyter-widgets/controls",
          "model_name": "HBoxModel",
          "model_module_version": "1.5.0",
          "state": {
            "_dom_classes": [],
            "_model_module": "@jupyter-widgets/controls",
            "_model_module_version": "1.5.0",
            "_model_name": "HBoxModel",
            "_view_count": null,
            "_view_module": "@jupyter-widgets/controls",
            "_view_module_version": "1.5.0",
            "_view_name": "HBoxView",
            "box_style": "",
            "children": [
              "IPY_MODEL_1e1796c339a440e6afd09151e09f3766",
              "IPY_MODEL_692d9084ae744855a2151455863ce803",
              "IPY_MODEL_a0a7c6d6ac964b0b873544f2039f0560"
            ],
            "layout": "IPY_MODEL_37f9fe34db5c4bfba7cf11d2da5fa824"
          }
        },
        "1e1796c339a440e6afd09151e09f3766": {
          "model_module": "@jupyter-widgets/controls",
          "model_name": "HTMLModel",
          "model_module_version": "1.5.0",
          "state": {
            "_dom_classes": [],
            "_model_module": "@jupyter-widgets/controls",
            "_model_module_version": "1.5.0",
            "_model_name": "HTMLModel",
            "_view_count": null,
            "_view_module": "@jupyter-widgets/controls",
            "_view_module_version": "1.5.0",
            "_view_name": "HTMLView",
            "description": "",
            "description_tooltip": null,
            "layout": "IPY_MODEL_0298f4a10ed14111a0d02290d716114d",
            "placeholder": "​",
            "style": "IPY_MODEL_80f8e3a3f02e45888ec1766b67fb038c",
            "value": "Analyzing frequencies: 100%"
          }
        },
        "692d9084ae744855a2151455863ce803": {
          "model_module": "@jupyter-widgets/controls",
          "model_name": "FloatProgressModel",
          "model_module_version": "1.5.0",
          "state": {
            "_dom_classes": [],
            "_model_module": "@jupyter-widgets/controls",
            "_model_module_version": "1.5.0",
            "_model_name": "FloatProgressModel",
            "_view_count": null,
            "_view_module": "@jupyter-widgets/controls",
            "_view_module_version": "1.5.0",
            "_view_name": "ProgressView",
            "bar_style": "success",
            "description": "",
            "description_tooltip": null,
            "layout": "IPY_MODEL_f9024aeec142415bb441888a7ea566d2",
            "max": 3,
            "min": 0,
            "orientation": "horizontal",
            "style": "IPY_MODEL_1d2e3de76c0541c0a5c2696b40fa93cb",
            "value": 3
          }
        },
        "a0a7c6d6ac964b0b873544f2039f0560": {
          "model_module": "@jupyter-widgets/controls",
          "model_name": "HTMLModel",
          "model_module_version": "1.5.0",
          "state": {
            "_dom_classes": [],
            "_model_module": "@jupyter-widgets/controls",
            "_model_module_version": "1.5.0",
            "_model_name": "HTMLModel",
            "_view_count": null,
            "_view_module": "@jupyter-widgets/controls",
            "_view_module_version": "1.5.0",
            "_view_name": "HTMLView",
            "description": "",
            "description_tooltip": null,
            "layout": "IPY_MODEL_771e7d85b30a4f3791ed3829b5067e1f",
            "placeholder": "​",
            "style": "IPY_MODEL_2ce9168b182b4199bbfa1c42872a9991",
            "value": " 3/3 [01:08&lt;00:00, 21.25s/it]"
          }
        },
        "37f9fe34db5c4bfba7cf11d2da5fa824": {
          "model_module": "@jupyter-widgets/base",
          "model_name": "LayoutModel",
          "model_module_version": "1.2.0",
          "state": {
            "_model_module": "@jupyter-widgets/base",
            "_model_module_version": "1.2.0",
            "_model_name": "LayoutModel",
            "_view_count": null,
            "_view_module": "@jupyter-widgets/base",
            "_view_module_version": "1.2.0",
            "_view_name": "LayoutView",
            "align_content": null,
            "align_items": null,
            "align_self": null,
            "border": null,
            "bottom": null,
            "display": null,
            "flex": null,
            "flex_flow": null,
            "grid_area": null,
            "grid_auto_columns": null,
            "grid_auto_flow": null,
            "grid_auto_rows": null,
            "grid_column": null,
            "grid_gap": null,
            "grid_row": null,
            "grid_template_areas": null,
            "grid_template_columns": null,
            "grid_template_rows": null,
            "height": null,
            "justify_content": null,
            "justify_items": null,
            "left": null,
            "margin": null,
            "max_height": null,
            "max_width": null,
            "min_height": null,
            "min_width": null,
            "object_fit": null,
            "object_position": null,
            "order": null,
            "overflow": null,
            "overflow_x": null,
            "overflow_y": null,
            "padding": null,
            "right": null,
            "top": null,
            "visibility": null,
            "width": null
          }
        },
        "0298f4a10ed14111a0d02290d716114d": {
          "model_module": "@jupyter-widgets/base",
          "model_name": "LayoutModel",
          "model_module_version": "1.2.0",
          "state": {
            "_model_module": "@jupyter-widgets/base",
            "_model_module_version": "1.2.0",
            "_model_name": "LayoutModel",
            "_view_count": null,
            "_view_module": "@jupyter-widgets/base",
            "_view_module_version": "1.2.0",
            "_view_name": "LayoutView",
            "align_content": null,
            "align_items": null,
            "align_self": null,
            "border": null,
            "bottom": null,
            "display": null,
            "flex": null,
            "flex_flow": null,
            "grid_area": null,
            "grid_auto_columns": null,
            "grid_auto_flow": null,
            "grid_auto_rows": null,
            "grid_column": null,
            "grid_gap": null,
            "grid_row": null,
            "grid_template_areas": null,
            "grid_template_columns": null,
            "grid_template_rows": null,
            "height": null,
            "justify_content": null,
            "justify_items": null,
            "left": null,
            "margin": null,
            "max_height": null,
            "max_width": null,
            "min_height": null,
            "min_width": null,
            "object_fit": null,
            "object_position": null,
            "order": null,
            "overflow": null,
            "overflow_x": null,
            "overflow_y": null,
            "padding": null,
            "right": null,
            "top": null,
            "visibility": null,
            "width": null
          }
        },
        "80f8e3a3f02e45888ec1766b67fb038c": {
          "model_module": "@jupyter-widgets/controls",
          "model_name": "DescriptionStyleModel",
          "model_module_version": "1.5.0",
          "state": {
            "_model_module": "@jupyter-widgets/controls",
            "_model_module_version": "1.5.0",
            "_model_name": "DescriptionStyleModel",
            "_view_count": null,
            "_view_module": "@jupyter-widgets/base",
            "_view_module_version": "1.2.0",
            "_view_name": "StyleView",
            "description_width": ""
          }
        },
        "f9024aeec142415bb441888a7ea566d2": {
          "model_module": "@jupyter-widgets/base",
          "model_name": "LayoutModel",
          "model_module_version": "1.2.0",
          "state": {
            "_model_module": "@jupyter-widgets/base",
            "_model_module_version": "1.2.0",
            "_model_name": "LayoutModel",
            "_view_count": null,
            "_view_module": "@jupyter-widgets/base",
            "_view_module_version": "1.2.0",
            "_view_name": "LayoutView",
            "align_content": null,
            "align_items": null,
            "align_self": null,
            "border": null,
            "bottom": null,
            "display": null,
            "flex": null,
            "flex_flow": null,
            "grid_area": null,
            "grid_auto_columns": null,
            "grid_auto_flow": null,
            "grid_auto_rows": null,
            "grid_column": null,
            "grid_gap": null,
            "grid_row": null,
            "grid_template_areas": null,
            "grid_template_columns": null,
            "grid_template_rows": null,
            "height": null,
            "justify_content": null,
            "justify_items": null,
            "left": null,
            "margin": null,
            "max_height": null,
            "max_width": null,
            "min_height": null,
            "min_width": null,
            "object_fit": null,
            "object_position": null,
            "order": null,
            "overflow": null,
            "overflow_x": null,
            "overflow_y": null,
            "padding": null,
            "right": null,
            "top": null,
            "visibility": null,
            "width": null
          }
        },
        "1d2e3de76c0541c0a5c2696b40fa93cb": {
          "model_module": "@jupyter-widgets/controls",
          "model_name": "ProgressStyleModel",
          "model_module_version": "1.5.0",
          "state": {
            "_model_module": "@jupyter-widgets/controls",
            "_model_module_version": "1.5.0",
            "_model_name": "ProgressStyleModel",
            "_view_count": null,
            "_view_module": "@jupyter-widgets/base",
            "_view_module_version": "1.2.0",
            "_view_name": "StyleView",
            "bar_color": null,
            "description_width": ""
          }
        },
        "771e7d85b30a4f3791ed3829b5067e1f": {
          "model_module": "@jupyter-widgets/base",
          "model_name": "LayoutModel",
          "model_module_version": "1.2.0",
          "state": {
            "_model_module": "@jupyter-widgets/base",
            "_model_module_version": "1.2.0",
            "_model_name": "LayoutModel",
            "_view_count": null,
            "_view_module": "@jupyter-widgets/base",
            "_view_module_version": "1.2.0",
            "_view_name": "LayoutView",
            "align_content": null,
            "align_items": null,
            "align_self": null,
            "border": null,
            "bottom": null,
            "display": null,
            "flex": null,
            "flex_flow": null,
            "grid_area": null,
            "grid_auto_columns": null,
            "grid_auto_flow": null,
            "grid_auto_rows": null,
            "grid_column": null,
            "grid_gap": null,
            "grid_row": null,
            "grid_template_areas": null,
            "grid_template_columns": null,
            "grid_template_rows": null,
            "height": null,
            "justify_content": null,
            "justify_items": null,
            "left": null,
            "margin": null,
            "max_height": null,
            "max_width": null,
            "min_height": null,
            "min_width": null,
            "object_fit": null,
            "object_position": null,
            "order": null,
            "overflow": null,
            "overflow_x": null,
            "overflow_y": null,
            "padding": null,
            "right": null,
            "top": null,
            "visibility": null,
            "width": null
          }
        },
        "2ce9168b182b4199bbfa1c42872a9991": {
          "model_module": "@jupyter-widgets/controls",
          "model_name": "DescriptionStyleModel",
          "model_module_version": "1.5.0",
          "state": {
            "_model_module": "@jupyter-widgets/controls",
            "_model_module_version": "1.5.0",
            "_model_name": "DescriptionStyleModel",
            "_view_count": null,
            "_view_module": "@jupyter-widgets/base",
            "_view_module_version": "1.2.0",
            "_view_name": "StyleView",
            "description_width": ""
          }
        }
      }
    }
  },
  "nbformat": 4,
  "nbformat_minor": 0
}