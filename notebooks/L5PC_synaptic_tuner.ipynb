{
  "cells": [
    {
      "cell_type": "markdown",
      "metadata": {
        "id": "view-in-github",
        "colab_type": "text"
      },
      "source": [
        "<a href=\"https://colab.research.google.com/github/davidfague/Neural-Modeling/blob/main/notebooks/L5PC_synaptic_tuner.ipynb\" target=\"_parent\"><img src=\"https://colab.research.google.com/assets/colab-badge.svg\" alt=\"Open In Colab\"/></a>"
      ]
    },
    {
      "cell_type": "markdown",
      "metadata": {
        "id": "pjBgljhIbee4"
      },
      "source": [
        "TODO: https://mailmissouri-my.sharepoint.com/:w:/r/personal/drfrbc_umsystem_edu/Documents/Isaac%20synapse_tuner.docx?d=w74481c7e893e42b4b4782709409f4ed7&csf=1&web=1&e=yJlDvh\n",
        "\n",
        "(1) be able to automatically tune Ben's synapses to match the in vivo data from the word doc (bullet #4.fig1.)\n",
        "\n",
        "(2) replace the postsynaptic cell model with the L5 Cell (details under bullet #2)\n",
        "\n",
        "(3) tune synaptic weight (initW) to match the experimental data's distribution of post-synaptic current magnitudes by region, type (#4.fig2.). To do so, implement gathering across segments of that region.\n",
        "\n",
        "(4) tune Ziao's synapses to match the in-vivo data (#1,3)\n",
        "\n",
        "(5) understand the differences between Ziao's synapses and Ben's synapses"
      ]
    },
    {
      "cell_type": "markdown",
      "metadata": {
        "id": "vQIfiDZWQ1CH"
      },
      "source": [
        "## Pre-processing\n",
        "\n",
        "Cloning repos\n",
        "\n",
        "Moving modfiles\n",
        "\n",
        "Compiling modfiles\n",
        "\n",
        "Changing directory\n"
      ]
    },
    {
      "cell_type": "code",
      "execution_count": 1,
      "metadata": {
        "colab": {
          "base_uri": "https://localhost:8080/"
        },
        "id": "s3rwFXv4njeH",
        "outputId": "8922367d-bd84-4593-b13f-1672a08500d6"
      },
      "outputs": [
        {
          "output_type": "stream",
          "name": "stdout",
          "text": [
            "Collecting neuron\n",
            "  Downloading NEURON-8.2.6-cp311-cp311-manylinux_2_17_x86_64.manylinux2014_x86_64.whl.metadata (3.7 kB)\n",
            "Requirement already satisfied: numpy<2,>=1.9.3 in /usr/local/lib/python3.11/dist-packages (from neuron) (1.26.4)\n",
            "Requirement already satisfied: packaging in /usr/local/lib/python3.11/dist-packages (from neuron) (24.2)\n",
            "Collecting find-libpython (from neuron)\n",
            "  Downloading find_libpython-0.4.0-py3-none-any.whl.metadata (2.8 kB)\n",
            "Requirement already satisfied: setuptools in /usr/local/lib/python3.11/dist-packages (from neuron) (75.1.0)\n",
            "Downloading NEURON-8.2.6-cp311-cp311-manylinux_2_17_x86_64.manylinux2014_x86_64.whl (15.2 MB)\n",
            "\u001b[2K   \u001b[90m━━━━━━━━━━━━━━━━━━━━━━━━━━━━━━━━━━━━━━━━\u001b[0m \u001b[32m15.2/15.2 MB\u001b[0m \u001b[31m34.7 MB/s\u001b[0m eta \u001b[36m0:00:00\u001b[0m\n",
            "\u001b[?25hDownloading find_libpython-0.4.0-py3-none-any.whl (8.7 kB)\n",
            "Installing collected packages: find-libpython, neuron\n",
            "Successfully installed find-libpython-0.4.0 neuron-8.2.6\n"
          ]
        }
      ],
      "source": [
        "!pip install neuron\n",
        "# !pip install bmtool # don't install to use the forked repo"
      ]
    },
    {
      "cell_type": "code",
      "source": [
        "import neuron\n",
        "from neuron import h"
      ],
      "metadata": {
        "id": "EZfcO90lfeQM"
      },
      "execution_count": 2,
      "outputs": []
    },
    {
      "cell_type": "code",
      "execution_count": 3,
      "metadata": {
        "colab": {
          "base_uri": "https://localhost:8080/"
        },
        "id": "NeGFbktprsTh",
        "outputId": "15936a2b-d3ae-407a-a74f-85adfe5a30c8"
      },
      "outputs": [
        {
          "output_type": "stream",
          "name": "stdout",
          "text": [
            "Cloning into 'Neural-Modeling'...\n",
            "remote: Enumerating objects: 5055, done.\u001b[K\n",
            "remote: Counting objects: 100% (2092/2092), done.\u001b[K\n",
            "remote: Compressing objects: 100% (796/796), done.\u001b[K\n",
            "remote: Total 5055 (delta 1441), reused 1890 (delta 1283), pack-reused 2963 (from 1)\u001b[K\n",
            "Receiving objects: 100% (5055/5055), 54.10 MiB | 10.82 MiB/s, done.\n",
            "Resolving deltas: 100% (3413/3413), done.\n"
          ]
        }
      ],
      "source": [
        "# clone the other repo for its modfiles\n",
        "!git clone https://github.com/davidfague/Neural-Modeling.git"
      ]
    },
    {
      "cell_type": "code",
      "execution_count": 4,
      "metadata": {
        "colab": {
          "base_uri": "https://localhost:8080/"
        },
        "id": "T2FmcyGYrtIU",
        "outputId": "c38913a9-92f4-44a1-ed5a-2afae69d7848"
      },
      "outputs": [
        {
          "output_type": "stream",
          "name": "stdout",
          "text": [
            "Cloning into 'bmtool'...\n",
            "remote: Enumerating objects: 1848, done.\u001b[K\n",
            "remote: Counting objects: 100% (323/323), done.\u001b[K\n",
            "remote: Compressing objects: 100% (190/190), done.\u001b[K\n",
            "remote: Total 1848 (delta 175), reused 242 (delta 130), pack-reused 1525 (from 1)\u001b[K\n",
            "Receiving objects: 100% (1848/1848), 12.76 MiB | 12.97 MiB/s, done.\n",
            "Resolving deltas: 100% (1151/1151), done.\n"
          ]
        }
      ],
      "source": [
        "# clone the forked repo\n",
        "!git clone https://github.com/davidfague/bmtool.git"
      ]
    },
    {
      "cell_type": "code",
      "execution_count": 5,
      "metadata": {
        "id": "c7zPPIwoqV6i"
      },
      "outputs": [],
      "source": [
        "# move the modfiles from the other repo\n",
        "# https://github.com/davidfague/Neural-Modeling/tree/cleanup2/modfiles/hay -> /content/bmtool/examples/synapses\n",
        "\n",
        "!mv Neural-Modeling/modfiles/hay/* /content/bmtool/examples/synapses/modfiles/"
      ]
    },
    {
      "cell_type": "code",
      "execution_count": 6,
      "metadata": {
        "id": "MkbOcPXsw-RJ"
      },
      "outputs": [],
      "source": [
        "import os\n",
        "os.chdir('/content/bmtool/examples/synapses')"
      ]
    },
    {
      "cell_type": "code",
      "execution_count": 7,
      "metadata": {
        "id": "PIUidJgT4Y4_"
      },
      "outputs": [],
      "source": [
        "import sys\n",
        "sys.path.append('../../bmtool/')"
      ]
    },
    {
      "cell_type": "code",
      "execution_count": 8,
      "metadata": {
        "id": "wwD1Cv2e4fTP"
      },
      "outputs": [],
      "source": [
        "import bmtool"
      ]
    },
    {
      "cell_type": "code",
      "execution_count": 9,
      "metadata": {
        "id": "gY4HP287w8BR"
      },
      "outputs": [],
      "source": [
        "# having 2 h.vecstim objects seems to give an error & removing one of these seemed to fix\n",
        "# !rm modfiles/vecevent_coreneuron.mod # keep this one assuming it is faster or more optimized or a later version that encompasses the other\n",
        "!rm modfiles/vecevent.mod"
      ]
    },
    {
      "cell_type": "code",
      "execution_count": 10,
      "metadata": {
        "id": "wNwlWNINl7DB",
        "colab": {
          "base_uri": "https://localhost:8080/"
        },
        "outputId": "7a368282-e84b-482a-e6c3-8f783b7dd25b"
      },
      "outputs": [
        {
          "output_type": "stream",
          "name": "stdout",
          "text": [
            "0\n"
          ]
        }
      ],
      "source": [
        "# if already compiled then lets delete the folder and force a recompile\n",
        "if os.path.isdir('modfiles/x86_64'):\n",
        "    os.system(\"rm -rf modfiles/x86_64 \")\n",
        "# compile the mod files\n",
        "if not os.path.isdir(\"modfiles/x86_64\"):\n",
        "    os.chdir('modfiles')\n",
        "    print(os.system(\"nrnivmodl\"))\n",
        "    os.chdir(\"..\")\n"
      ]
    },
    {
      "cell_type": "code",
      "source": [
        "!nrnivmodl modfiles/"
      ],
      "metadata": {
        "colab": {
          "base_uri": "https://localhost:8080/"
        },
        "id": "goBp8wdxj1Q-",
        "outputId": "af529b46-67ea-455e-fc42-f44800dd51a4"
      },
      "execution_count": 11,
      "outputs": [
        {
          "output_type": "stream",
          "name": "stdout",
          "text": [
            "/usr/local/bin/nrnivmodl:10: DeprecationWarning: pkg_resources is deprecated as an API. See https://setuptools.pypa.io/en/latest/pkg_resources.html\n",
            "  from pkg_resources import working_set\n",
            "/content/bmtool/examples/synapses\n",
            "Mod files: \"modfiles/modfiles//AMPA_NMDA.mod\" \"modfiles/modfiles//AMPA_NMDA_STP_LTP.mod\" \"modfiles/modfiles//AMPA_NMDA_STP.mod\" \"modfiles/modfiles//cadad.mod\" \"modfiles/modfiles//CaDynamics_E2.mod\" \"modfiles/modfiles//Ca_HVA.mod\" \"modfiles/modfiles//cal2.mod\" \"modfiles/modfiles//Ca_LVAst.mod\" \"modfiles/modfiles//can_mig.mod\" \"modfiles/modfiles//epsp.mod\" \"modfiles/modfiles//exp2syn_stp.mod\" \"modfiles/modfiles//GABA_AB.mod\" \"modfiles/modfiles//GABA_AB_STP.mod\" \"modfiles/modfiles//GABA_A_STP.mod\" \"modfiles/modfiles//gap.mod\" \"modfiles/modfiles//Gfluct.mod\" \"modfiles/modfiles//h_kole.mod\" \"modfiles/modfiles//Ih.mod\" \"modfiles/modfiles//imCA3.mod\" \"modfiles/modfiles//Im.mod\" \"modfiles/modfiles//int2pyr.mod\" \"modfiles/modfiles//kap_BS.mod\" \"modfiles/modfiles//kBK.mod\" \"modfiles/modfiles//kdmc_BS.mod\" \"modfiles/modfiles//kdr_BS.mod\" \"modfiles/modfiles//kdrCA3.mod\" \"modfiles/modfiles//kdrinter.mod\" \"modfiles/modfiles//K_Pst.mod\" \"modfiles/modfiles//K_Tst.mod\" \"modfiles/modfiles//leak.mod\" \"modfiles/modfiles//nainter.mod\" \"modfiles/modfiles//napCA3.mod\" \"modfiles/modfiles//Nap_Et2.mod\" \"modfiles/modfiles//NaTa_t.mod\" \"modfiles/modfiles//natCA3.mod\" \"modfiles/modfiles//NaTs2_t.mod\" \"modfiles/modfiles//nax_BS.mod\" \"modfiles/modfiles//pyr2pyr.mod\" \"modfiles/modfiles//pyr2pyrSUM.mod\" \"modfiles/modfiles//SK_E2.mod\" \"modfiles/modfiles//SKv3_1.mod\" \"modfiles/modfiles//vecevent_coreneuron.mod\"\n",
            "\n",
            "Creating 'x86_64' directory for .o files.\n",
            "\n",
            " -> \u001b[32mCompiling\u001b[0m mod_func.cpp\n",
            " -> \u001b[32mNMODL\u001b[0m ../modfiles//AMPA_NMDA.mod\n",
            " -> \u001b[32mNMODL\u001b[0m ../modfiles//AMPA_NMDA_STP_LTP.mod\n",
            "Translating AMPA_NMDA.mod into /content/bmtool/examples/synapses/x86_64/AMPA_NMDA.c\n",
            "Translating AMPA_NMDA_STP_LTP.mod into /content/bmtool/examples/synapses/x86_64/AMPA_NMDA_STP_LTP.c\n",
            "Thread Safe\n",
            " -> \u001b[32mNMODL\u001b[0m ../modfiles//AMPA_NMDA_STP.mod\n",
            " -> \u001b[32mNMODL\u001b[0m ../modfiles//cadad.mod\n",
            "Thread Safe\n",
            " -> \u001b[32mNMODL\u001b[0m ../modfiles//CaDynamics_E2.mod\n",
            "Translating CaDynamics_E2.mod into /content/bmtool/examples/synapses/x86_64/CaDynamics_E2.c\n",
            "Thread Safe\n",
            "Translating AMPA_NMDA_STP.mod into /content/bmtool/examples/synapses/x86_64/AMPA_NMDA_STP.c\n",
            " -> \u001b[32mNMODL\u001b[0m ../modfiles//Ca_HVA.mod\n",
            "Translating Ca_HVA.mod into /content/bmtool/examples/synapses/x86_64/Ca_HVA.c\n",
            "Thread Safe\n",
            "Thread Safe\n",
            "Translating cadad.mod into /content/bmtool/examples/synapses/x86_64/cadad.c\n",
            " -> \u001b[32mNMODL\u001b[0m ../modfiles//cal2.mod\n",
            "Thread Safe\n",
            " -> \u001b[32mNMODL\u001b[0m ../modfiles//Ca_LVAst.mod\n",
            " -> \u001b[32mNMODL\u001b[0m ../modfiles//can_mig.mod\n",
            "Translating cal2.mod into /content/bmtool/examples/synapses/x86_64/cal2.c\n",
            "Warning: Default 2 of PARAMETER cao will be ignored and set by NEURON.\n",
            "Warning: Default 5e-05 of PARAMETER cai will be ignored and set by NEURON.\n",
            "Thread Safe\n",
            " -> \u001b[32mNMODL\u001b[0m ../modfiles//epsp.mod\n",
            "Translating can_mig.mod into /content/bmtool/examples/synapses/x86_64/can_mig.c\n",
            "Translating Ca_LVAst.mod into /content/bmtool/examples/synapses/x86_64/Ca_LVAst.c\n",
            "Warning: Default 2 of PARAMETER cao will be ignored and set by NEURON.\n",
            "Warning: Default 5e-05 of PARAMETER cai will be ignored and set by NEURON.\n",
            "Thread Safe\n",
            "Thread Safe\n",
            " -> \u001b[32mNMODL\u001b[0m ../modfiles//exp2syn_stp.mod\n",
            "Translating epsp.mod into /content/bmtool/examples/synapses/x86_64/epsp.c\n",
            "Thread Safe\n",
            " -> \u001b[32mNMODL\u001b[0m ../modfiles//GABA_AB.mod\n",
            " -> \u001b[32mNMODL\u001b[0m ../modfiles//GABA_AB_STP.mod\n",
            "Translating GABA_AB_STP.mod into /content/bmtool/examples/synapses/x86_64/GABA_AB_STP.c\n",
            "Translating exp2syn_stp.mod into /content/bmtool/examples/synapses/x86_64/exp2syn_stp.c\n",
            "Translating GABA_AB.mod into /content/bmtool/examples/synapses/x86_64/GABA_AB.c\n",
            "Thread Safe\n",
            " -> \u001b[32mNMODL\u001b[0m ../modfiles//GABA_A_STP.mod\n",
            "Thread Safe\n",
            "Translating GABA_A_STP.mod into /content/bmtool/examples/synapses/x86_64/GABA_A_STP.c\n",
            "Thread Safe\n",
            "Thread Safe\n",
            " -> \u001b[32mNMODL\u001b[0m ../modfiles//gap.mod\n",
            " -> \u001b[32mNMODL\u001b[0m ../modfiles//Gfluct.mod\n",
            "Translating gap.mod into /content/bmtool/examples/synapses/x86_64/gap.c\n",
            "Thread Safe\n",
            "Translating Gfluct.mod into /content/bmtool/examples/synapses/x86_64/Gfluct.c\n",
            "Notice: This mechanism cannot be used with CVODE\n",
            "Thread Safe\n",
            " -> \u001b[32mNMODL\u001b[0m ../modfiles//h_kole.mod\n",
            " -> \u001b[32mNMODL\u001b[0m ../modfiles//Ih.mod\n",
            " -> \u001b[32mNMODL\u001b[0m ../modfiles//imCA3.mod\n",
            "Translating h_kole.mod into /content/bmtool/examples/synapses/x86_64/h_kole.c\n",
            "Thread Safe\n",
            "Translating Ih.mod into /content/bmtool/examples/synapses/x86_64/Ih.c\n",
            " -> \u001b[32mNMODL\u001b[0m ../modfiles//Im.mod\n",
            "Thread Safe\n",
            "Translating Im.mod into /content/bmtool/examples/synapses/x86_64/Im.c\n",
            "Thread Safe\n",
            " -> \u001b[32mNMODL\u001b[0m ../modfiles//int2pyr.mod\n",
            " -> \u001b[32mNMODL\u001b[0m ../modfiles//kap_BS.mod\n",
            "Translating imCA3.mod into /content/bmtool/examples/synapses/x86_64/imCA3.c\n",
            "Thread Safe\n",
            "Translating kap_BS.mod into /content/bmtool/examples/synapses/x86_64/kap_BS.c\n",
            "Thread Safe\n",
            "Translating int2pyr.mod into /content/bmtool/examples/synapses/x86_64/int2pyr.c\n",
            " -> \u001b[32mNMODL\u001b[0m ../modfiles//kBK.mod\n",
            " -> \u001b[32mNMODL\u001b[0m ../modfiles//kdmc_BS.mod\n",
            "Translating kBK.mod into /content/bmtool/examples/synapses/x86_64/kBK.c\n",
            "Thread Safe\n",
            "WARNING: Dimensions may be wrong for READ ica with POINT_PROCESS\n",
            "WARNING: Dimensions may be wrong for READ ica with POINT_PROCESS\n",
            " -> \u001b[32mNMODL\u001b[0m ../modfiles//kdr_BS.mod\n",
            "WARNING: Dimensions may be wrong for READ ica with POINT_PROCESS\n",
            "WARNING: Dimensions may be wrong for READ ica with POINT_PROCESS\n",
            "WARNING: Dimensions may be wrong for READ ica with POINT_PROCESS\n",
            "Thread Safe\n",
            "Translating kdmc_BS.mod into /content/bmtool/examples/synapses/x86_64/kdmc_BS.c\n",
            " -> \u001b[32mNMODL\u001b[0m ../modfiles//kdrCA3.mod\n",
            "Thread Safe\n",
            " -> \u001b[32mNMODL\u001b[0m ../modfiles//kdrinter.mod\n",
            "Translating kdr_BS.mod into /content/bmtool/examples/synapses/x86_64/kdr_BS.c\n",
            " -> \u001b[32mNMODL\u001b[0m ../modfiles//K_Pst.mod\n",
            "Thread Safe\n",
            "Translating kdrCA3.mod into /content/bmtool/examples/synapses/x86_64/kdrCA3.c\n",
            "Thread Safe\n",
            "Translating kdrinter.mod into /content/bmtool/examples/synapses/x86_64/kdrinter.c\n",
            " -> \u001b[32mNMODL\u001b[0m ../modfiles//K_Tst.mod\n",
            "Warning: Default -80 of PARAMETER ek will be ignored and set by NEURON.\n",
            "Thread Safe\n",
            " -> \u001b[32mNMODL\u001b[0m ../modfiles//leak.mod\n",
            "Translating K_Pst.mod into /content/bmtool/examples/synapses/x86_64/K_Pst.c\n",
            "Thread Safe\n",
            " -> \u001b[32mNMODL\u001b[0m ../modfiles//nainter.mod\n",
            "Translating K_Tst.mod into /content/bmtool/examples/synapses/x86_64/K_Tst.c\n",
            "Translating leak.mod into /content/bmtool/examples/synapses/x86_64/leak.c\n",
            "Thread Safe\n",
            "Thread Safe\n",
            " -> \u001b[32mNMODL\u001b[0m ../modfiles//napCA3.mod\n",
            " -> \u001b[32mNMODL\u001b[0m ../modfiles//Nap_Et2.mod\n",
            "Translating nainter.mod into /content/bmtool/examples/synapses/x86_64/nainter.c\n",
            "Warning: Default 45 of PARAMETER ena will be ignored and set by NEURON.\n",
            "Thread Safe\n",
            "Translating napCA3.mod into /content/bmtool/examples/synapses/x86_64/napCA3.c\n",
            "Translating Nap_Et2.mod into /content/bmtool/examples/synapses/x86_64/Nap_Et2.c\n",
            "Thread Safe\n",
            "Thread Safe\n",
            " -> \u001b[32mNMODL\u001b[0m ../modfiles//NaTa_t.mod\n",
            " -> \u001b[32mNMODL\u001b[0m ../modfiles//natCA3.mod\n",
            " -> \u001b[32mNMODL\u001b[0m ../modfiles//NaTs2_t.mod\n",
            " -> \u001b[32mNMODL\u001b[0m ../modfiles//nax_BS.mod\n",
            "Translating NaTa_t.mod into /content/bmtool/examples/synapses/x86_64/NaTa_t.c\n",
            "Translating natCA3.mod into /content/bmtool/examples/synapses/x86_64/natCA3.c\n",
            "Thread Safe\n",
            "Thread Safe\n",
            "Translating NaTs2_t.mod into /content/bmtool/examples/synapses/x86_64/NaTs2_t.c\n",
            "Translating nax_BS.mod into /content/bmtool/examples/synapses/x86_64/nax_BS.c\n",
            "Thread Safe\n",
            " -> \u001b[32mNMODL\u001b[0m ../modfiles//pyr2pyr.mod\n",
            "Thread Safe\n",
            " -> \u001b[32mNMODL\u001b[0m ../modfiles//pyr2pyrSUM.mod\n",
            " -> \u001b[32mNMODL\u001b[0m ../modfiles//SK_E2.mod\n",
            "Translating pyr2pyr.mod into /content/bmtool/examples/synapses/x86_64/pyr2pyr.c\n",
            "Translating pyr2pyrSUM.mod into /content/bmtool/examples/synapses/x86_64/pyr2pyrSUM.c\n",
            "Thread Safe\n",
            " -> \u001b[32mNMODL\u001b[0m ../modfiles//SKv3_1.mod\n",
            "Thread Safe\n",
            "Translating SK_E2.mod into /content/bmtool/examples/synapses/x86_64/SK_E2.c\n",
            " -> \u001b[32mNMODL\u001b[0m ../modfiles//vecevent_coreneuron.mod\n",
            "Thread Safe\n",
            " -> \u001b[32mCompiling\u001b[0m AMPA_NMDA.c\n",
            "Translating vecevent_coreneuron.mod into /content/bmtool/examples/synapses/x86_64/vecevent_coreneuron.c\n",
            "Notice: ARTIFICIAL_CELL is a synonym for POINT_PROCESS which hints that it\n",
            "only affects and is affected by discrete events. As such it is not\n",
            "located in a section and is not associated with an integrator\n",
            "Thread Safe\n",
            "Translating SKv3_1.mod into /content/bmtool/examples/synapses/x86_64/SKv3_1.c\n",
            " -> \u001b[32mCompiling\u001b[0m AMPA_NMDA_STP_LTP.c\n",
            "Thread Safe\n",
            " -> \u001b[32mCompiling\u001b[0m AMPA_NMDA_STP.c\n",
            " -> \u001b[32mCompiling\u001b[0m cadad.c\n",
            " -> \u001b[32mCompiling\u001b[0m CaDynamics_E2.c\n",
            " -> \u001b[32mCompiling\u001b[0m Ca_HVA.c\n",
            " -> \u001b[32mCompiling\u001b[0m cal2.c\n",
            " -> \u001b[32mCompiling\u001b[0m Ca_LVAst.c\n",
            " -> \u001b[32mCompiling\u001b[0m can_mig.c\n",
            " -> \u001b[32mCompiling\u001b[0m epsp.c\n",
            " -> \u001b[32mCompiling\u001b[0m exp2syn_stp.c\n",
            " -> \u001b[32mCompiling\u001b[0m GABA_AB.c\n",
            " -> \u001b[32mCompiling\u001b[0m GABA_AB_STP.c\n",
            " -> \u001b[32mCompiling\u001b[0m GABA_A_STP.c\n",
            " -> \u001b[32mCompiling\u001b[0m gap.c\n",
            " -> \u001b[32mCompiling\u001b[0m Gfluct.c\n",
            " -> \u001b[32mCompiling\u001b[0m h_kole.c\n",
            " -> \u001b[32mCompiling\u001b[0m Ih.c\n",
            " -> \u001b[32mCompiling\u001b[0m imCA3.c\n",
            " -> \u001b[32mCompiling\u001b[0m Im.c\n",
            " -> \u001b[32mCompiling\u001b[0m int2pyr.c\n",
            " -> \u001b[32mCompiling\u001b[0m kap_BS.c\n",
            " -> \u001b[32mCompiling\u001b[0m kBK.c\n",
            " -> \u001b[32mCompiling\u001b[0m kdmc_BS.c\n",
            " -> \u001b[32mCompiling\u001b[0m kdr_BS.c\n",
            " -> \u001b[32mCompiling\u001b[0m kdrCA3.c\n",
            " -> \u001b[32mCompiling\u001b[0m kdrinter.c\n",
            " -> \u001b[32mCompiling\u001b[0m K_Pst.c\n",
            " -> \u001b[32mCompiling\u001b[0m K_Tst.c\n",
            " -> \u001b[32mCompiling\u001b[0m leak.c\n",
            " -> \u001b[32mCompiling\u001b[0m nainter.c\n",
            " -> \u001b[32mCompiling\u001b[0m napCA3.c\n",
            " -> \u001b[32mCompiling\u001b[0m Nap_Et2.c\n",
            " -> \u001b[32mCompiling\u001b[0m NaTa_t.c\n",
            " -> \u001b[32mCompiling\u001b[0m natCA3.c\n",
            " -> \u001b[32mCompiling\u001b[0m NaTs2_t.c\n",
            " -> \u001b[32mCompiling\u001b[0m nax_BS.c\n",
            " -> \u001b[32mCompiling\u001b[0m pyr2pyr.c\n",
            " -> \u001b[32mCompiling\u001b[0m pyr2pyrSUM.c\n",
            " -> \u001b[32mCompiling\u001b[0m SK_E2.c\n",
            " -> \u001b[32mCompiling\u001b[0m SKv3_1.c\n",
            " -> \u001b[32mCompiling\u001b[0m vecevent_coreneuron.c\n",
            " => \u001b[32mLINKING\u001b[0m shared library ./libnrnmech.so\n",
            " => \u001b[32mLINKING\u001b[0m executable ./special LDFLAGS are:    -pthread\n",
            "Successfully created x86_64/special\n"
          ]
        }
      ]
    },
    {
      "cell_type": "markdown",
      "metadata": {
        "id": "ippWDaWjIDhr"
      },
      "source": [
        "## Synapse definitions\n",
        "\n",
        "synapse types and parameter defaults"
      ]
    },
    {
      "cell_type": "code",
      "execution_count": 12,
      "metadata": {
        "id": "tCpyvB0TpbVa"
      },
      "outputs": [],
      "source": [
        "general_settings = {\n",
        "    'vclamp': True, # if vclamp should start on or off used mostly for singleEventv\n",
        "    'rise_interval': (0.1, 0.9), #10-90%\n",
        "    'tstart': 500., # when the singleEvent should start\n",
        "    'tdur': 100.,    # Dur of sim after single synaptic event has occured\n",
        "    'threshold': -15., #threshold for spike in mV\n",
        "    'delay': 1.3, # netcon delay\n",
        "    'weight': 1., # netcon weight\n",
        "    'dt': 0.025, # simulation dt\n",
        "    'celsius': 20 # temp of sim\n",
        "}\n",
        "\n",
        "conn_type_settings = {\n",
        "    'blank': {\n",
        "        'spec_settings': {\n",
        "\n",
        "        },\n",
        "        'spec_syn_param': {\n",
        "\n",
        "        }\n",
        "    },\n",
        "    # -------------- Ziao Synapses --------------\n",
        "        'LTS': { # inhibitory perisomatic\n",
        "        'spec_settings': {\n",
        "            'post_cell': 'FSI_Cell',\n",
        "            'vclamp_amp' : -70.,\n",
        "            'sec_x': 0.5,\n",
        "            'sec_id': 1,\n",
        "            \"level_of_detail\": \"GABA_AB_STP\",\n",
        "        },\n",
        "        'spec_syn_param': {\n",
        "                'e_GABAA': -75.0,#-90.,\n",
        "              'Use': 0.3,\n",
        "              'Dep': 25.,\n",
        "              'Fac': 100.\n",
        "        }\n",
        "    },\n",
        "    'FSI': { # inhibitory perisomatic\n",
        "        'spec_settings': {\n",
        "            'post_cell': 'FSI_Cell',\n",
        "            'vclamp_amp' : -70.,\n",
        "            'sec_x': 0.5,\n",
        "            'sec_id': 1,\n",
        "            \"level_of_detail\": \"GABA_AB_STP\",\n",
        "        },\n",
        "        'spec_syn_param': {\n",
        "                'e_GABAA': -75.0,#-90.,\n",
        "                'Use': 0.3,\n",
        "                'Dep': 400.,\n",
        "                'Fac': 0.\n",
        "        }\n",
        "    },\n",
        "    'CS2CP': { # excitatory choice\n",
        "        'spec_settings': {\n",
        "                                   'post_cell': 'FSI_Cell',\n",
        "            'vclamp_amp' : -70.,\n",
        "            'sec_x': 0.5,\n",
        "            'sec_id': 1,\n",
        "            \"level_of_detail\": \"AMPA_NMDA_STP\",\n",
        "        },\n",
        "        'spec_syn_param': {\n",
        "              'tau_d_AMPA': 5.2,\n",
        "              'Use': 0.41,\n",
        "              'Dep': 532.,\n",
        "              'Fac': 65.\n",
        "        }\n",
        "    },\n",
        "    'CP2CP': { # excitatory choice\n",
        "        'spec_settings': {\n",
        "                                   'post_cell': 'FSI_Cell',\n",
        "            'vclamp_amp' : -70.,\n",
        "            'sec_x': 0.5,\n",
        "            'sec_id': 1,\n",
        "            \"level_of_detail\": \"AMPA_NMDA_STP\",\n",
        "        },\n",
        "        'spec_syn_param': {\n",
        "                'tau_d_AMPA': 5.2,\n",
        "                'Use': 0.37,\n",
        "                'Dep': 31.7,\n",
        "                'Fac': 519.\n",
        "        }\n",
        "    },\n",
        "    # -------------- BEN SYNAPSES --------------\n",
        "    'PN2PN': { # exc\n",
        "        'spec_settings': {\n",
        "                        'post_cell': 'FSI_Cell',\n",
        "            'vclamp_amp' : -70.,\n",
        "            'sec_x': 0.5,\n",
        "            'sec_id': 1,\n",
        "            \"level_of_detail\": \"pyr2pyrSUM\",\n",
        "        },\n",
        "        'spec_syn_param': {\n",
        "                \"AlphaTmax_ampa\": 5,\n",
        "                \"Beta_ampa\": 0.5882,\n",
        "                \"Cdur_ampa\": .2,\n",
        "                \"gbar_ampa\": 0.001,\n",
        "                \"Erev_ampa\": 0,\n",
        "                \"AlphaTmax_nmda\": 3.4483,\n",
        "                \"Beta_nmda\": 0.0233,\n",
        "                \"Cdur_nmda\": 0.29,\n",
        "                \"gbar_nmda\": 0.0005,\n",
        "                \"Erev_nmda\": 0,\n",
        "                \"initW\": 5,\n",
        "                # \"delay\": 0.9,\n",
        "                \"tauD1\": 35,\n",
        "                \"d1\": 0.95,\n",
        "                \"tauD2\": 250,\n",
        "                \"d2\": 0.8,\n",
        "                \"tauF\": 1,\n",
        "                \"f\": 1\n",
        "        }\n",
        "    },\n",
        "    'PV2PN': { # inhibitory perisomatic\n",
        "        'spec_settings': {\n",
        "            'post_cell': 'FSI_Cell',\n",
        "            'vclamp_amp' : -70.,\n",
        "            'sec_x': 0.5,\n",
        "            'sec_id': 1,\n",
        "            \"level_of_detail\": \"int2pyr\",\n",
        "        },\n",
        "        'spec_syn_param' : {\n",
        "            \"AlphaTmax_gaba\": 1.52,\n",
        "            \"Beta_gaba\": 0.14,\n",
        "            \"Cdur_gaba\": 0.7254,\n",
        "            \"gbar_gaba\": 1,\n",
        "            \"Erev_gaba\": -75,\n",
        "            \"initW\": 1,\n",
        "            \"Wmax\": 3,\n",
        "            \"Wmin\": 0.25,\n",
        "            # \"delay\": 2,\n",
        "            # \"con_pattern\": 1,\n",
        "            \"lambda1\": 1,\n",
        "            \"lambda2\": 0.01,\n",
        "            \"threshold1\": 0.5,\n",
        "            \"threshold2\": 0.6,\n",
        "            \"tauD1\": 40,\n",
        "            \"d1\": 0.7,\n",
        "            \"tauD2\": 500,\n",
        "            \"d2\": 0.7,\n",
        "            \"tauF\": 1,\n",
        "            \"f\": 1\n",
        "        }\n",
        "    },\n",
        "    'SOM2PN': { # inh dendritic\n",
        "        'spec_settings': {\n",
        "            'post_cell': 'FSI_Cell',\n",
        "            'vclamp_amp' : -70.,\n",
        "            'sec_x': 0.5,\n",
        "            'sec_id': 1,\n",
        "            \"level_of_detail\": \"int2pyr\",\n",
        "        },\n",
        "        'spec_syn_param': {\n",
        "            \"AlphaTmax_gaba\": 1.52,\n",
        "            \"Beta_gaba\": 0.14,\n",
        "            \"Cdur_gaba\": 0.7254,\n",
        "            \"gbar_gaba\": 0.006,\n",
        "            \"Erev_gaba\": -75,\n",
        "            \"initW\": 1,\n",
        "            \"Wmax\": 3,\n",
        "            \"Wmin\": 0.25,\n",
        "            # \"delay\": 2,\n",
        "            # \"con_pattern\": 1,\n",
        "            \"lambda1\": 1,\n",
        "            \"lambda2\": 0.01,\n",
        "            \"threshold1\": 0.5,\n",
        "            \"threshold2\": 0.6,\n",
        "            \"tauD1\": 200,\n",
        "            \"d1\": 0.8,\n",
        "            \"tauD2\": 1,\n",
        "            \"d2\": 1,\n",
        "            \"tauF\": 1,\n",
        "            \"f\": 1\n",
        "        }\n",
        "    },\n",
        "    # --------------- Greg's -----------------------\n",
        "    'Fac2FSI': { # facilitating synapse\n",
        "        'spec_settings': {\n",
        "            'post_cell': 'FSI_Cell',\n",
        "            'vclamp_amp' : -70.,\n",
        "            'sec_x': 0.5,\n",
        "            'sec_id': 1,\n",
        "            \"level_of_detail\": \"AMPA_NMDA_STP\",\n",
        "        },\n",
        "        'spec_syn_param': {\n",
        "            'initW': 0.76,\n",
        "            'tau_r_AMPA': 0.45,\n",
        "            'tau_d_AMPA': 7.5,\n",
        "            'Use': 0.13,\n",
        "            'Dep': 0.,\n",
        "            'Fac': 200.\n",
        "        },\n",
        "    },\n",
        "    'Dep2FSI': { # depressing synapse\n",
        "        'spec_settings': {\n",
        "            'post_cell': 'FSI_Cell',\n",
        "            'vclamp_amp': -55,\n",
        "            'sec_x': 0.5,\n",
        "            'sec_id':0,\n",
        "            \"level_of_detail\": \"GABA_A_STP\",\n",
        "        },\n",
        "        'spec_syn_param': {\n",
        "            'initW': 20,\n",
        "            'tau_r_GABAA': 0.9,\n",
        "            'tau_d_GABAA': 15,\n",
        "            'e_GABAA':-75,\n",
        "            'Use': 0.4,\n",
        "            'Dep': 190.,\n",
        "            'Fac': 0.\n",
        "        },\n",
        "    },\n",
        "\n",
        "}"
      ]
    },
    {
      "cell_type": "code",
      "execution_count": 13,
      "metadata": {
        "id": "W7y3WE-6zF4v"
      },
      "outputs": [],
      "source": [
        "# connection = 'PN2PN'\n",
        "\n",
        "# # sliders_to_use = ['initW','Dep','Fac','Use','tau_r_AMPA','tau_d_AMPA'] # greg\n",
        "# sliders_to_use = ['initW',   'facfactor','f','F']#,'facfactor','P0g', 'fCag', 'lambda1', 'lambda2', 'threshold1', 'threshold2', 'tauCa', 'k', 'fmax', 'fmin']\n",
        "\n",
        "# current_name = 'inmda' #'i'\n",
        "# # NOTE sum iampa, inmda\n",
        "# #igaba for int2pyr\n",
        "# #inmda, iampa for pyrpyr\n",
        "# #probably i_NMDA, i_AMPA for AMPA_NMDA_STP\n",
        "# # probably i_GABA for GABA_AB_STP\n",
        "\n",
        "# other_vars_to_record = []"
      ]
    },
    {
      "cell_type": "markdown",
      "source": [
        "## replacing the FSI_Cell with L5PCtemplate cell"
      ],
      "metadata": {
        "id": "a0_76eQ0Fsg_"
      }
    },
    {
      "cell_type": "code",
      "execution_count": 14,
      "metadata": {
        "id": "_bKuzSxs49Aa"
      },
      "outputs": [],
      "source": [
        "# sys.path.append(\"/content/bmtool/bmtool/\")\n",
        "sys.path.append(\"/content/bmtool/bmtool/util/synapses.py\")"
      ]
    },
    {
      "cell_type": "code",
      "source": [
        "# !nrnivmodl modfiles"
      ],
      "metadata": {
        "id": "gwIZT9rW1rLd"
      },
      "execution_count": 15,
      "outputs": []
    },
    {
      "cell_type": "code",
      "source": [
        "# %ls x86_64/"
      ],
      "metadata": {
        "id": "gIjtDJMT1xRt"
      },
      "execution_count": 16,
      "outputs": []
    },
    {
      "cell_type": "code",
      "source": [
        "# %ls modfiles/x86_64/"
      ],
      "metadata": {
        "id": "sS95EWs806QI"
      },
      "execution_count": 17,
      "outputs": []
    },
    {
      "cell_type": "code",
      "source": [
        "# h.nrn_load_dll('modfiles/x86_64/')"
      ],
      "metadata": {
        "id": "gbcw6l2e3BBZ"
      },
      "execution_count": 18,
      "outputs": []
    },
    {
      "cell_type": "code",
      "source": [
        "neuron.load_mechanisms('modfiles/')"
      ],
      "metadata": {
        "colab": {
          "base_uri": "https://localhost:8080/"
        },
        "id": "RLKVyV2M4IUP",
        "outputId": "ff677476-4bd3-4b0f-91cd-fa87a5e29d5b"
      },
      "execution_count": 19,
      "outputs": [
        {
          "output_type": "execute_result",
          "data": {
            "text/plain": [
              "True"
            ]
          },
          "metadata": {},
          "execution_count": 19
        }
      ]
    },
    {
      "cell_type": "code",
      "source": [
        "use_hay_cell = True # overwrite the target cell\n",
        "if use_hay_cell:\n",
        "    for cell_type,items in conn_type_settings.items():\n",
        "        conn_type_settings[cell_type]['spec_settings']['post_cell'] = 'L5PCtemplate'\n",
        "\n",
        "    # hoc_files_to_load = ['stdrun.hoc', \"../../../Neural-Modeling/cells/templates/L5PCbiophys3.hoc\", 'import3d.hoc', \"../../../Neural-Modeling/cells/templates/L5PCtemplate.hoc\"]\n",
        "\n",
        "    h.load_file('stdrun.hoc') # needed for h.load_file(\"import3d.hoc\")\n",
        "\n",
        "    h.load_file(\"../../../Neural-Modeling/cells/templates/L5PCbiophys3.hoc\") # load procedure L5PCbiophys()\n",
        "\n",
        "\t\t# # # Load morphology\n",
        "    h.load_file(\"import3d.hoc\") # load procedure for importing 3d coordinates\n",
        "\n",
        "\t\t# # # Load template\n",
        "    h.load_file(\"../../../Neural-Modeling/cells/templates/L5PCtemplateMediumRes.hoc\") # load template that get biophys and establishes sectioning\n",
        "\n",
        "\t\t# # Build skeleton_cell object\n",
        "    # skeleton_cell = h.L5PCtemplate(\"../../../Neural-Modeling/cells/templates/cell1.asc\") # will pass to SynapticTuner\n",
        "    template_arg = \"../../../Neural-Modeling/cells/templates/cell1.asc\" # 3d morphology that will be passed to cell = h.L5PCtemplate(template_arg) in SynapseTuner.set_up_cell(self)\n",
        "else:\n",
        "    template_arg=None\n",
        "    hoc_files_to_load = None"
      ],
      "metadata": {
        "id": "GUBjhtGz0E3d"
      },
      "execution_count": 20,
      "outputs": []
    },
    {
      "cell_type": "code",
      "source": [
        "!rm -rf x86_64\n",
        "!rm -rf modfiles/x86_64"
      ],
      "metadata": {
        "id": "1LTsCG6k50L2"
      },
      "execution_count": 21,
      "outputs": []
    },
    {
      "cell_type": "markdown",
      "metadata": {
        "id": "tJ0-mRWqIHI5"
      },
      "source": [
        "## Initialize Synaptic Tuners"
      ]
    },
    {
      "cell_type": "code",
      "execution_count": 22,
      "metadata": {
        "colab": {
          "base_uri": "https://localhost:8080/"
        },
        "id": "vuEHbXEEQXcs",
        "outputId": "bed38910-30dd-470f-f6c0-2d38dc394d98"
      },
      "outputs": [
        {
          "output_type": "stream",
          "name": "stdout",
          "text": [
            "NEURON mechanisms not found in modfiles.\n",
            "NEURON mechanisms not found in modfiles.\n",
            "NEURON mechanisms not found in modfiles.\n"
          ]
        }
      ],
      "source": [
        "def InitializeSysnapseTuner(connection, current_name='i', other_vars_to_record=[], sliders_to_use=['initW'], template_arg=template_arg):\n",
        "  from synapses import SynapseTuner\n",
        "  mechanisms_dir = 'modfiles'\n",
        "  templates_file = 'templates.hoc'\n",
        "\n",
        "  tuner = SynapseTuner(mechanisms_dir=mechanisms_dir, # where x86_64 is located\n",
        "                      templates_dir=templates_file, # where the neuron templates are located\n",
        "                      conn_type_settings=conn_type_settings, # dict of connection settings\n",
        "                      general_settings = general_settings, # dict of general settings\n",
        "                      connection = connection, # key in connection settings for which connection you want to tune\n",
        "                      #json_folder_path=json_folder_path, # If your network uses json files the path can be set to update the connection settings based on the keys and values in the json\n",
        "                      current_name = current_name, # name of current variable in synapase\n",
        "                      other_vars_to_record = other_vars_to_record, # Other synaptic variables you wish to record besides the normal ones\n",
        "                      slider_vars=sliders_to_use,\n",
        "                       template_arg=template_arg) # Range variables you want to tune to adjust synaptic response.\n",
        "  return tuner\n",
        "\n",
        "ben_synapses = True\n",
        "if ben_synapses:\n",
        "  tunerForEXC = InitializeSysnapseTuner(connection='PN2PN',\n",
        "                                      current_name ='i',\n",
        "                                      sliders_to_use=['initW', 'gbar_nmda','gbar_ampa'])\n",
        "  tunerForInhPerisomatic =  InitializeSysnapseTuner(connection='PV2PN',\n",
        "                                      current_name ='igaba',\n",
        "                                      sliders_to_use=['initW', 'gbar_gaba'])\n",
        "  tunerForInhDendritic =  InitializeSysnapseTuner(connection='SOM2PN',\n",
        "                                      current_name ='igaba',\n",
        "                                      sliders_to_use=['initW', 'gbar_gaba'])\n",
        "else: # ziao synapses\n",
        "  tunerForEXC = InitializeSysnapseTuner(connection='CS2CP',\n",
        "                                      current_name ='i',\n",
        "                                      sliders_to_use=['initW', 'tau_d_AMPA','Use','Dep','Fac'])\n",
        "  tunerForEXC2 = InitializeSysnapseTuner(connection='CP2CP',\n",
        "                                      current_name ='i',\n",
        "                                      sliders_to_use=['initW', 'tau_d_AMPA','Use','Dep','Fac'])\n",
        "  tunerForInhPerisomatic =  InitializeSysnapseTuner(connection='LTS',\n",
        "                                      current_name ='i',\n",
        "                                      sliders_to_use=['initW', 'tau_d_GABAA','Use','Dep','Fac'])\n",
        "  tunerForInhDendritic =  InitializeSysnapseTuner(connection='FSI',\n",
        "                                      current_name ='i',\n",
        "                                      sliders_to_use=['initW', 'tau_d_GABAA','Use','Dep','Fac'])"
      ]
    },
    {
      "cell_type": "code",
      "source": [
        "tunerForEXC"
      ],
      "metadata": {
        "colab": {
          "base_uri": "https://localhost:8080/"
        },
        "id": "ef6GqBga78oY",
        "outputId": "677982df-6301-46f7-e44f-7c8295ce1953"
      },
      "execution_count": 23,
      "outputs": [
        {
          "output_type": "execute_result",
          "data": {
            "text/plain": [
              "<synapses.SynapseTuner at 0x7ba0bff43650>"
            ]
          },
          "metadata": {},
          "execution_count": 23
        }
      ]
    },
    {
      "cell_type": "code",
      "execution_count": 24,
      "metadata": {
        "id": "YD-GOo1XVEGH"
      },
      "outputs": [],
      "source": [
        "  synapses = {\n",
        "      'exc': tunerForEXC,\n",
        "      'inhPerisomatic': tunerForInhPerisomatic,\n",
        "      'inhDendritic': tunerForInhDendritic\n",
        "  }"
      ]
    },
    {
      "cell_type": "markdown",
      "metadata": {
        "id": "Z2EUHcU3WTmO"
      },
      "source": [
        "## Single event\n",
        "\n",
        "(1) run to initialize input to the tuners\n",
        "\n",
        "(2) check the mangitude of an individual post-synaptic-current (PSC)"
      ]
    },
    {
      "cell_type": "code",
      "source": [
        "# %ls"
      ],
      "metadata": {
        "id": "NnVpnImNhILe"
      },
      "execution_count": 25,
      "outputs": []
    },
    {
      "cell_type": "code",
      "source": [
        "# h.load_file('templates.hoc')"
      ],
      "metadata": {
        "id": "mV8bBDE2fThd"
      },
      "execution_count": 26,
      "outputs": []
    },
    {
      "cell_type": "code",
      "source": [
        "# 'FSI_Cell' in dir(h)"
      ],
      "metadata": {
        "id": "zrhE_ZqtgXc2"
      },
      "execution_count": 27,
      "outputs": []
    },
    {
      "cell_type": "code",
      "execution_count": 28,
      "metadata": {
        "colab": {
          "base_uri": "https://localhost:8080/",
          "height": 1000
        },
        "id": "89plfI4wSwKR",
        "outputId": "593bce1b-3d48-4e00-b885-3bfcdf229419"
      },
      "outputs": [
        {
          "output_type": "display_data",
          "data": {
            "text/plain": [
              "<Figure size 1200x700 with 2 Axes>"
            ],
            "image/png": "[encoded data removed]"
          },
          "metadata": {}
        },
        {
          "output_type": "stream",
          "name": "stdout",
          "text": [
            "('baseline', 0.16057155023698044)\n",
            "('sign', -1.0)\n",
            "('latency', 1.35)\n",
            "('amp', 0.16919321135269172)\n",
            "('rise_time', 0.17500000000000002)\n",
            "('decay_time', 2.184062554129262)\n",
            "('half_width', 3.125)\n",
            "Current Integral in pA*ms: -96909.44\n"
          ]
        },
        {
          "output_type": "display_data",
          "data": {
            "text/plain": [
              "<Figure size 1200x700 with 2 Axes>"
            ],
            "image/png": "[encoded data removed]"
          },
          "metadata": {}
        },
        {
          "output_type": "stream",
          "name": "stdout",
          "text": [
            "('baseline', 0.16057155023698044)\n",
            "('sign', 1.0)\n",
            "('latency', 0.025)\n",
            "('amp', 0.3403121462871894)\n",
            "('rise_time', 0.275)\n",
            "('decay_time', 15.917230083906905)\n",
            "('half_width', 17.425)\n",
            "Current Integral in pA*ms: -89960.83\n"
          ]
        },
        {
          "output_type": "display_data",
          "data": {
            "text/plain": [
              "<Figure size 1200x700 with 2 Axes>"
            ],
            "image/png": "[encoded data removed]"
          },
          "metadata": {}
        },
        {
          "output_type": "stream",
          "name": "stdout",
          "text": [
            "('baseline', 0.16057155023698044)\n",
            "('sign', 1.0)\n",
            "('latency', 0.025)\n",
            "('amp', 0.01596028781968073)\n",
            "('rise_time', 0.5750000000000001)\n",
            "('decay_time', 7.965617321282714)\n",
            "('half_width', 6.65)\n",
            "Current Integral in pA*ms: -96203.66\n"
          ]
        }
      ],
      "source": [
        "# have to run single_event to establish the input\n",
        "for synapse_type,tuner in synapses.items():\n",
        "  tuner.SingleEvent()"
      ]
    },
    {
      "cell_type": "markdown",
      "metadata": {
        "id": "ZNcXKk7zRGVp"
      },
      "source": [
        "## Interactive Tuner\n",
        "\n",
        "(1) select one of the synapse types\n",
        "\n",
        "(2) check individual induction(input_freq) or PPR\n",
        "\n",
        "(3) vary a parameter to understand how it affects the synapse"
      ]
    },
    {
      "cell_type": "code",
      "execution_count": 29,
      "metadata": {
        "id": "4riXjHLJmkiH",
        "colab": {
          "base_uri": "https://localhost:8080/",
          "height": 1000,
          "referenced_widgets": [
            "94a70b1ab9284eb2853b5e402dbc32af",
            "c89896a300f9434fa12387975cf3a5f9",
            "70596587d000454dafa51e3e9bea3f31",
            "6a66a8adfafa4ddfaff4d23d0308d6a9",
            "305824bfc5514b53b3625eece2ff0307",
            "d3192898e9bc4d1990fa093a2d6d6b70",
            "4d2d4a1b046d487aa0f90d6916f64b78",
            "6762609b2b9a4a7c922591bb4d291568",
            "fa1044588af44cde8d54512af657200d",
            "d7c90a2e472942cb8c33687609f065c8",
            "f0fa1c1e19e04555ab891cc409eaf3cf",
            "7ae8e1fcd1ef4160ad5237f88f87664e",
            "12bc0712107949e88f0c4698e26d38dd",
            "90014efd9b0c4e5aaedea1ac09cca77d",
            "83e05e0e049c476f9ffd109dd327f40d",
            "0d6817e2d38a4447a59067a2d13cca6a",
            "b4b7ecae2fe94fc999ef569cdaef4d7a",
            "e76e620aeb5b4678b9ed6be3ab0603df",
            "112ed055bbf34b29855de7d43dbb5866",
            "c186523dd81844e79f1d3730674febaa",
            "76b665b233f24f6a8a48720ed304c59b",
            "30a9c39de8cc4b0aa05786135c4a90ff",
            "268022e14b6f4462b52f35a1850dd439",
            "86f7a2f78dfa48b6b469fe68ac5fed4d",
            "3b1d770326444bd199a12e3f7243b61c",
            "4163450d3b954b4988854205c88637b7",
            "6d16177ad50a467694f4e1d9f218a739",
            "7f0e005eae684bd3b4b8930346541fbe",
            "c7da6a4751924dc6938e4a3affdeb9c4",
            "49712e339b154d189f39f304efc2d362",
            "24de773e742e47cf9fcd2656ce41489c",
            "8ca372676ca84a1f9047b5e385319ee6",
            "313a60eafe3a41d09450325d38df4a64",
            "053953e7f0514f94ae3e40876892b7da",
            "da9f56a764404647ad943d18ca827f8a",
            "023fc65a539f44409bec0acbb5f5a3d5",
            "c1ebef1b87014acabd19eaffeea8c5be",
            "6821252f93af4d60a7def231212af8ff",
            "9098955fc1544bbf8d80198b3fe3e05f",
            "b35e7a23e7e845ee83d5ec80d7f0c677",
            "a77aef484cab4f3fadb4b4f731fac672",
            "e7fbd7fed8e645fcac3aa1224fd4860c"
          ]
        },
        "outputId": "cecff9bc-6073-4951-825c-1ccada4eefe9"
      },
      "outputs": [
        {
          "output_type": "display_data",
          "data": {
            "text/plain": [
              "VBox(children=(HBox(children=(Button(button_style='primary', description='Run Train', icon='history', style=Bu…"
            ],
            "application/vnd.jupyter.widget-view+json": {
              "version_major": 2,
              "version_minor": 0,
              "model_id": "94a70b1ab9284eb2853b5e402dbc32af"
            }
          },
          "metadata": {}
        },
        {
          "output_type": "display_data",
          "data": {
            "text/plain": [
              "<Figure size 1200x700 with 2 Axes>"
            ],
            "image/png": "[encoded data removed]"
          },
          "metadata": {}
        },
        {
          "output_type": "stream",
          "name": "stdout",
          "text": [
            "\n",
            "========================================\n",
            "Short Term Plasticity Results for 50Hz with 250 Delay\n",
            "========================================\n",
            "PPR: Above 1 is facilitating, below 1 is depressing.\n",
            "Induction: Above 0 is facilitating, below 0 is depressing.\n",
            "Recovery: A measure of how fast STP decays.\n",
            "\n",
            "Paired Pulse Response (PPR)\n",
            "Calculation: 2nd pulse / 1st pulse\n",
            "Values: ([[328.77]]) / ([[370.22]]) = [[0.89]]\n",
            "\n",
            "Induction\n",
            "Calculation: (avg(6th, 7th, 8th pulses) - 1st pulse) / max amps\n",
            "Values: avg([[251.34, 243.11, 237.05]]) - [[370.22]] / [370.22]\n",
            "([243.83]) - ([370.22]) / [370.22] = -0.341\n",
            "\n",
            "Recovery\n",
            "Calculation: (avg(9th, 10th, 11th, 12th pulses) - avg(1st to 4th pulses)) / max amps\n",
            "Values: avg([[317.42, 290.26, 270.96, 257.19]]) - avg([[370.22, 328.77, 299.16, 277.93]]) / [370.22]\n",
            "([283.96]) - ([319.02]) / [370.22] = -0.095\n",
            "\n",
            "========================================\n",
            "\n"
          ]
        }
      ],
      "source": [
        "tuner_type = ['exc','inhPerisomatic','inhDendritic'][0] # select the first one\n",
        "# alternatively synapses.keys(0)\n",
        "print(tuner_type)\n",
        "synapses[tuner_type].InteractiveTuner()"
      ]
    },
    {
      "cell_type": "markdown",
      "metadata": {
        "id": "Z3GkE-tganTX"
      },
      "source": [
        "## Optimizer\n",
        "\n",
        "(1) run to fit the value for (initW or gbar_{current_type} or others)\n",
        "\n",
        "to the desired PSC magnitude (max ampltiude), PPR, and induction (from experimental data)"
      ]
    },
    {
      "cell_type": "code",
      "execution_count": 30,
      "metadata": {
        "id": "ykUS8UutbWjt"
      },
      "outputs": [],
      "source": [
        "def auto(param_bounds, target_metrics, tuner):\n",
        "  result = optimizer.optimize_parameters(\n",
        "    target_metrics=target_metrics,\n",
        "    param_bounds=param_bounds,\n",
        "    init_guess='random', # either random or middle_guess. Random will start the synapse witha random value in the param_bound. Middle guess will pick the middle value in the param_bounds\n",
        "    cost_function=custom_cost,\n",
        "    method='SLSQP' # I believe this will be the fastest method, but you may try others check out https://docs.scipy.org/doc/scipy-1.15.0/reference/generated/scipy.optimize.minimize.html\n",
        "    )\n",
        "  return result"
      ]
    },
    {
      "cell_type": "code",
      "source": [
        "from synapses import SynapseOptimizer"
      ],
      "metadata": {
        "id": "MbUgsZyzsvAV"
      },
      "execution_count": 31,
      "outputs": []
    },
    {
      "cell_type": "code",
      "execution_count": 32,
      "metadata": {
        "id": "0n9BOKHeacyn",
        "colab": {
          "base_uri": "https://localhost:8080/",
          "height": 1000
        },
        "outputId": "f62a73e7-1b6e-418b-d6f8-cb2188a51c43"
      },
      "outputs": [
        {
          "output_type": "stream",
          "name": "stdout",
          "text": [
            "exc\n"
          ]
        },
        {
          "output_type": "display_data",
          "data": {
            "text/plain": [
              "<Figure size 800x500 with 1 Axes>"
            ],
            "image/png": "[encoded data removed]"
          },
          "metadata": {}
        },
        {
          "output_type": "display_data",
          "data": {
            "text/plain": [
              "<Figure size 800x1500 with 3 Axes>"
            ],
            "image/png": "[encoded data removed]"
          },
          "metadata": {}
        },
        {
          "output_type": "stream",
          "name": "stdout",
          "text": [
            "Optimization Results:\n",
            "Final Error: 7.95e+05\n",
            "\n",
            "Target Metrics:\n",
            "induction: -0.499 (target: -0.750)\n",
            "ppr: 0.871 (target: 0.800)\n",
            "recovery: -0.152 (target: 0.000)\n",
            "max_amplitude: 1286.076 (target: 25.000)\n",
            "\n",
            "Optimal Parameters:\n",
            "initW: 29.708\n",
            "gbar_nmda: 0.003\n",
            "gbar_ampa: 0.001\n"
          ]
        },
        {
          "output_type": "display_data",
          "data": {
            "text/plain": [
              "<Figure size 1200x700 with 2 Axes>"
            ],
            "image/png": "[encoded data removed]"
          },
          "metadata": {}
        },
        {
          "output_type": "stream",
          "name": "stdout",
          "text": [
            "\n",
            "========================================\n",
            "Short Term Plasticity Results for 50Hz with 250 Delay\n",
            "========================================\n",
            "PPR: Above 1 is facilitating, below 1 is depressing.\n",
            "Induction: Above 0 is facilitating, below 0 is depressing.\n",
            "Recovery: A measure of how fast STP decays.\n",
            "\n",
            "Paired Pulse Response (PPR)\n",
            "Calculation: 2nd pulse / 1st pulse\n",
            "Values: ([[1119.62]]) / ([[1286.08]]) = [[0.87]]\n",
            "\n",
            "Induction\n",
            "Calculation: (avg(6th, 7th, 8th pulses) - 1st pulse) / max amps\n",
            "Values: avg([[687.61, 640.  , 604.97]]) - [[1286.08]] / [1286.08]\n",
            "([644.19]) - ([1286.08]) / [1286.08] = -0.499\n",
            "\n",
            "Recovery\n",
            "Calculation: (avg(9th, 10th, 11th, 12th pulses) - avg(1st to 4th pulses)) / max amps\n",
            "Values: avg([[1003.9 ,  901.08,  799.03,  721.12]]) - avg([[1286.08, 1119.62,  961.64,  841.03]]) / [1286.08]\n",
            "([856.28]) - ([1052.09]) / [1286.08] = -0.152\n",
            "\n",
            "========================================\n",
            "\n"
          ]
        }
      ],
      "source": [
        "# NOTE maybe change the frequency of input\n",
        "# NOTE train frequency is new input parameter for optimizer which we can set to the mean in the table\n",
        "\n",
        "# CHOOSE specifications\n",
        "tuner_type = ['exc','inhPerisomatic','inhDendritic'][0] # ex. select the first one # if these keys get out of line you can use synapses.keys()[N]\n",
        "add_gbar_params = True\n",
        "\n",
        "print(tuner_type)\n",
        "optimizer = SynapseOptimizer(synapses[tuner_type])\n",
        "\n",
        "# initialize param_bounds (parameters that can vary within the specified range)\n",
        "param_bounds = {\n",
        "    'initW': (0,synapses[tuner_type].conn['spec_syn_param']['initW']*10),\n",
        "    # 'facfactor': (0, 400.0),\n",
        "    # 'f': (0, 400.0),\n",
        "    # 'F': (0, 400.0),\n",
        "    # 'gbar_nmda': (0,4), # fix range, maybe dont use # change for gaba synapse\n",
        "    # 'gbar_ampa': (0,1) # fix range, maybe dont use\n",
        "}\n",
        "\n",
        "# add variables to param_bounds with their ranges\n",
        "if add_gbar_params:\n",
        "  if 'pyr2pyr' in synapses[tuner_type].conn['spec_settings']['level_of_detail']:\n",
        "    param_bounds['gbar_nmda'] = (0,synapses[tuner_type].conn['spec_syn_param']['gbar_nmda']*10) # up to 10x the default\n",
        "    param_bounds['gbar_ampa'] = (0,synapses[tuner_type].conn['spec_syn_param']['gbar_ampa']*10) # up to 10x the default\n",
        "  elif 'int2pyr' in synapses[tuner_type].conn['spec_settings']['level_of_detail']:\n",
        "    param_bounds['gbar_gaba'] = (0,synapses[tuner_type].conn['spec_syn_param']['gbar_gaba']*10) #up to 10x the default\n",
        "\n",
        "\n",
        "# define the target metrics\n",
        "target_metrics = { # automatically selects based on tuner_type (need to be updated to match in vivo)\n",
        "    'exc': {\n",
        "            'induction': -0.75,\n",
        "            'ppr': 0.8,\n",
        "            'recovery': 0.0,\n",
        "            'max_amplitude':25 #magnitude of PSC\n",
        "    },\n",
        "    'inhPerisomatic': {\n",
        "            'induction': -0.75,\n",
        "            'ppr': 0.8,\n",
        "            'recovery': 0.0,\n",
        "            'max_amplitude':25 #magnitude of PSC\n",
        "    },\n",
        "    'inhDendritic': {\n",
        "            'induction': -0.75,\n",
        "            'ppr': 0.8,\n",
        "            'recovery': 0.0,\n",
        "            'max_amplitude':25 #magnitude of PSC\n",
        "    }\n",
        "}\n",
        "\n",
        "# currently the only metrics in the SynapseOptimizer are induction, prr, recovery, and max amplitude.\n",
        "def custom_cost(metrics, targets):\n",
        "    induction_error = (metrics['induction'] - targets['induction']) ** 2\n",
        "    ppr_error = (metrics['ppr'] - targets['ppr']) ** 2\n",
        "    recovery_error = (metrics['recovery'] - targets['recovery']) ** 2\n",
        "    max_amp_errror = (metrics['max_amplitude'] - targets['max_amplitude']) ** 2\n",
        "    # can weight each error term differently like this\n",
        "    return induction_error + 3 * ppr_error + recovery_error + 0.5*max_amp_errror\n",
        "\n",
        "# Run optimization with custom cost function\n",
        "result = optimizer.optimize_parameters(\n",
        "    target_metrics=target_metrics[tuner_type],\n",
        "    param_bounds=param_bounds,\n",
        "    init_guess='random', # either random or middle_guess. Random will start the synapse witha random value in the param_bound. Middle guess will pick the middle value in the param_bounds\n",
        "    cost_function=custom_cost,\n",
        "    method='SLSQP' # I believe this will be the fastest method, but you may try others check out https://docs.scipy.org/doc/scipy-1.15.0/reference/generated/scipy.optimize.minimize.html\n",
        ")\n",
        "\n",
        "# Plot results\n",
        "optimizer.plot_optimization_results(result)"
      ]
    },
    {
      "cell_type": "markdown",
      "source": [
        "After optimizing may need to update the variables in the original dictionary. (comment previous default)"
      ],
      "metadata": {
        "id": "LP32yyO7uEUW"
      }
    },
    {
      "cell_type": "markdown",
      "metadata": {
        "id": "Q0og-yU5RyNp"
      },
      "source": [
        "## STP Frequency Response\n",
        "Make sure that the induction/frequency curve matches in-vivo (fig 1. last column with\n",
        "(1) compute induction/frequency to make sure it matches in-vivo"
      ]
    },
    {
      "cell_type": "code",
      "execution_count": 33,
      "metadata": {
        "id": "CIf2r_CqRvmv",
        "colab": {
          "base_uri": "https://localhost:8080/",
          "height": 526,
          "referenced_widgets": [
            "08cb9ac3b16643069be5f65d9a2327ce",
            "d4a1a94ca1174beb9558290f4573253c",
            "568a1d85b6d54bb285c0c95488ab0f33",
            "bac765a9295f45a0a94bbe094ec6fc44",
            "916d28869d6348da8ea2b045adbe7e5d",
            "29d4ff8da1ad4c96acdb08ef567b1db9",
            "70e98df6d5a04d0f92f5b875684621ad",
            "8ce98c6494ed434c81f1380ebd8dcf5c",
            "2199804be3ae47939da99f0211835546",
            "21b7012b49f34473acc9523ff5ac8cac",
            "b353b5254d854bc2a4ac570c2e732f03"
          ]
        },
        "outputId": "ce32164c-b4b5-4848-d6d9-cb0fd5fb35b4"
      },
      "outputs": [
        {
          "output_type": "stream",
          "name": "stdout",
          "text": [
            "exc\n"
          ]
        },
        {
          "output_type": "display_data",
          "data": {
            "text/plain": [
              "Analyzing frequencies:   0%|          | 0/3 [00:00<?, ?it/s]"
            ],
            "application/vnd.jupyter.widget-view+json": {
              "version_major": 2,
              "version_minor": 0,
              "model_id": "08cb9ac3b16643069be5f65d9a2327ce"
            }
          },
          "metadata": {}
        },
        {
          "output_type": "display_data",
          "data": {
            "text/plain": [
              "<Figure size 1500x500 with 3 Axes>"
            ],
            "image/png": "[encoded data removed]"
          },
          "metadata": {}
        }
      ],
      "source": [
        "tuner_type = ['exc','inhPerisomatic','inhDendritic'][0] # select the first one\n",
        "# alternatively synapses.keys(0)\n",
        "print(tuner_type)\n",
        "results = synapses[tuner_type].stp_frequency_response(log_plot = False, freqs=[10,20,50])"
      ]
    },
    {
      "cell_type": "markdown",
      "metadata": {
        "id": "qjnciSmIJGIT"
      },
      "source": [
        "## record PSC magnitude distribution across sections\n",
        "\n",
        "(1) specify region_type (section_type) and the synapse_type\n",
        "(2) compute the mean,std of the magnitude of PSCs across the cell's sections of that type"
      ]
    },
    {
      "cell_type": "code",
      "source": [
        "cell = h.L5PCtemplate(\"../../../Neural-Modeling/cells/templates/cell1.asc\")"
      ],
      "metadata": {
        "id": "82DQ_ag_Fhwe"
      },
      "execution_count": 34,
      "outputs": []
    },
    {
      "cell_type": "code",
      "source": [
        "# for sec in cell.all:\n",
        "#   print(h.distance(cell.soma[0](0.5), sec(0.5)))"
      ],
      "metadata": {
        "colab": {
          "base_uri": "https://localhost:8080/"
        },
        "id": "XyIh_hKYF0Nr",
        "outputId": "dfbf8bf2-b1df-4455-edab-ada167bd61bf"
      },
      "execution_count": 35,
      "outputs": [
        {
          "output_type": "stream",
          "name": "stdout",
          "text": [
            "0.0\n",
            "12.100439115054128\n",
            "31.7919763476295\n",
            "115.20860053002528\n",
            "43.11089141867856\n",
            "93.12662143233494\n",
            "143.41054343021978\n",
            "90.84697074540463\n",
            "13.568954244561924\n",
            "35.369440872630875\n",
            "51.57456201467107\n",
            "78.77698750020264\n",
            "31.17765427051527\n",
            "49.16902792838451\n",
            "136.85050922768684\n",
            "129.08955063514776\n",
            "57.39350862004895\n",
            "5.423078824488954\n",
            "14.395348174035117\n",
            "37.90005797272839\n",
            "72.50044089859955\n",
            "58.728402394296126\n",
            "71.73283671693486\n",
            "82.10324608782909\n",
            "107.02094629270343\n",
            "111.78294852910807\n",
            "31.969928975225947\n",
            "62.20015719216611\n",
            "112.71105609621208\n",
            "166.03091997305847\n",
            "57.362804460875445\n",
            "80.80154406986614\n",
            "139.5579343973581\n",
            "141.35586594416384\n",
            "108.80400748193654\n",
            "19.93941673163978\n",
            "108.99237721147267\n",
            "54.53029344184919\n",
            "119.91504187412954\n",
            "113.51169473570297\n",
            "48.06510376909603\n",
            "142.37851480703435\n",
            "115.10920627478443\n",
            "7.549900410047511\n",
            "27.65218399499961\n",
            "83.0684993569543\n",
            "113.76317324112968\n",
            "20.026507422089068\n",
            "28.926547520489446\n",
            "58.80000945049108\n",
            "93.41207708060489\n",
            "88.89311401992047\n",
            "62.72694017855532\n",
            "26.677284279688244\n",
            "38.909630443734834\n",
            "102.86625428968013\n",
            "50.974716559112046\n",
            "79.64309539342642\n",
            "60.97303151002624\n",
            "131.85308325026222\n",
            "146.15131185613325\n",
            "69.04960235054405\n",
            "154.08441662894194\n",
            "160.99568346764488\n",
            "10.413233377793917\n",
            "32.20871487493368\n",
            "56.42606448749349\n",
            "138.12405750629893\n",
            "122.84779028589553\n",
            "73.517857376868\n",
            "155.08087074690138\n",
            "192.7854311532009\n",
            "31.84690210988164\n",
            "142.7532841935195\n",
            "49.55157285796632\n",
            "111.484162352645\n",
            "68.73637829991513\n",
            "113.0472009689077\n",
            "105.36388274328051\n",
            "20.134016590779247\n",
            "7.887612501978204\n",
            "49.07462675905946\n",
            "28.883131565965677\n",
            "109.76665111844841\n",
            "50.62015957879467\n",
            "23.067805184264195\n",
            "78.68545830929705\n",
            "125.67107819383484\n",
            "160.74993135526256\n",
            "185.11096666463686\n",
            "193.76772845629387\n",
            "206.28415185852083\n",
            "228.62456483452667\n",
            "263.8925450646383\n",
            "322.6863695025031\n",
            "254.93380911838182\n",
            "200.48012677258663\n",
            "261.4442000205738\n",
            "279.409913343998\n",
            "221.12922338220824\n",
            "261.40941584632054\n",
            "276.5973482992333\n",
            "371.6867643809264\n",
            "338.7640336085937\n",
            "352.3971013062956\n",
            "276.4059137702009\n",
            "312.6528179400382\n",
            "342.67522499125874\n",
            "371.8791591875238\n",
            "371.9475017633403\n",
            "344.75225176959987\n",
            "306.9881950262975\n",
            "315.64200170540755\n",
            "326.19180604980784\n",
            "375.10062796783916\n",
            "373.1637297014595\n",
            "416.32983516367796\n",
            "414.14632608169813\n",
            "379.6206850084887\n",
            "348.05826227590484\n",
            "435.4954622501011\n",
            "504.154994904541\n",
            "764.9749922198903\n",
            "946.6487843811171\n",
            "1014.6047444290225\n",
            "1092.8461783273788\n",
            "1198.9237293693936\n",
            "1224.674962500683\n",
            "1214.5095852798288\n",
            "1237.6453147358725\n",
            "941.2816333385792\n",
            "989.5767566056796\n",
            "1002.852720604086\n",
            "1005.567413599093\n",
            "1040.89134181093\n",
            "657.7510533809408\n",
            "796.4547938955394\n",
            "961.1531408358512\n",
            "999.3393689683028\n",
            "1099.0214098042604\n",
            "1107.17190848369\n",
            "1110.3291373648224\n",
            "1102.1564599679584\n",
            "1115.495552568079\n",
            "1113.9915436822744\n",
            "805.2813389196517\n",
            "1008.6173134563271\n",
            "1115.2255114830327\n",
            "1217.7990112729292\n",
            "1185.7106206661379\n",
            "1244.5424593266582\n",
            "1249.4061499971995\n",
            "1191.7703108328874\n",
            "970.8393746651541\n",
            "1091.049323924149\n",
            "1186.137439028567\n",
            "1191.139127209115\n",
            "1237.7036091752939\n",
            "1254.5855898376617\n",
            "1039.2178944740972\n",
            "1094.3529876738996\n",
            "1198.5758004491242\n",
            "1200.308547094566\n",
            "1118.3939441676305\n",
            "220.33120192433705\n",
            "150.8393946264676\n",
            "168.02681472739755\n",
            "191.54068173122118\n",
            "246.3769556974712\n",
            "308.47734225457793\n",
            "324.731214534516\n",
            "251.29677670082174\n",
            "250.36386680306208\n",
            "164.60723204832607\n",
            "192.458045511328\n",
            "221.0116992456999\n",
            "222.80277498993877\n",
            "178.00769360404428\n",
            "240.89388139876013\n",
            "198.53503697961713\n",
            "234.94164194994175\n",
            "225.32479007165313\n",
            "247.22509032366764\n",
            "244.86136459691\n",
            "127.53474321407802\n",
            "146.62541004808963\n",
            "229.11284274631817\n",
            "239.1645277558311\n",
            "185.54034000358251\n",
            "57.80774578329503\n",
            "116.31927652747255\n",
            "80.5224639611651\n",
            "109.61395953485834\n",
            "106.6023932971325\n",
            "30.0\n"
          ]
        }
      ]
    },
    {
      "cell_type": "code",
      "source": [
        "def get_sec_ids_from_type(section_type):\n",
        "  cell = h.L5PCtemplate(\"../../../Neural-Modeling/cells/templates/cell1.asc\")\n",
        "\n",
        "  if section_type == 'distal_apic': # distal apic (>100 microns from soma)\n",
        "    sec_ids_to_use = [idx for idx,sec in enumerate(cell.all) if (sec in cell.apic) and (h.distance(cell.soma[0](0.5), sec(0.5)) > 100)]\n",
        "  elif section_type == 'distal_basal': # distal basal dendrites (>100 microns from soma)\n",
        "    sec_ids_to_use = [idx for idx,sec in enumerate(cell.all) if (sec in cell.dend) and (h.distance(cell.soma[0](0.5), sec(0.5)) > 100)]\n",
        "  elif section_type == 'perisomatic': # proximal dendrites and soma  (within 100 microns of soma)\n",
        "    sec_ids_to_use = [idx for idx,sec in enumerate(cell.all) if (h.distance(cell.soma[0](0.5), sec(0.5)) < 100)]\n",
        "  else:\n",
        "    del cell\n",
        "    NotImplementedError(f\"{section_type} not implemented for get_sec_ids_from_type\")\n",
        "\n",
        "  del cell\n",
        "  return sec_ids_to_use"
      ],
      "metadata": {
        "id": "FB-vRLHJHVZQ"
      },
      "execution_count": 36,
      "outputs": []
    },
    {
      "cell_type": "markdown",
      "source": [
        "gather the post synaptic current magnitude at the middle of every section"
      ],
      "metadata": {
        "id": "6L-g-jL3HpDn"
      }
    },
    {
      "cell_type": "code",
      "source": [
        "# 'loc' in dir() # testing how to move the location of the synapse so we don't create more SynapseTuners/Cells for the last part."
      ],
      "metadata": {
        "id": "YUGDUj7rI3L7"
      },
      "execution_count": 37,
      "outputs": []
    },
    {
      "cell_type": "code",
      "source": [
        "# list(synapses['exc'].cell.all)[0]"
      ],
      "metadata": {
        "id": "wOmwOTOPNtvU"
      },
      "execution_count": 38,
      "outputs": []
    },
    {
      "cell_type": "code",
      "execution_count": null,
      "metadata": {
        "id": "mFXiSjxeJGdD"
      },
      "outputs": [],
      "source": [
        "# should probably create a SynapseTuner.move_synapse function instead of creating a new SynapseTuner and cell for each location\n",
        "\n",
        "import numpy as np\n",
        "from synapses import SynapseTuner\n",
        "\n",
        "# connection = 'PV2PN'\n",
        "# current_name = 'igaba'\n",
        "# other_vars_to_record = []\n",
        "# sliders_to_use = ['initW']\n",
        "\n",
        "synapse_type = 'exc'\n",
        "\n",
        "# get the sections we need\n",
        "sec_ids_to_use = get_sec_ids_from_type(['distal_basal', 'distal_apic', 'perisomatic'][0]) # select the type using integar\n",
        "\n",
        "# gather PSC magnitudes across locations\n",
        "magnitudes = []\n",
        "for sec_id_to_use in sec_ids_to_use:\n",
        "\n",
        "  # move the synapse to the target location\n",
        "  synapses[synapse_type].syn.loc(list(synapses[synapse_type].cell.all)[sec_id_to_use](0.5))\n",
        "\n",
        "  #record magnitude of PSC\n",
        "  PSC_mag = max(abs(tuner.SingleEvent(plot_and_print=False))) # NOTE: have to update to return\n",
        "  magnitudes.append(PSC_mag) # have to fix this line\n",
        "\n",
        "# calc mean, std\n",
        "psc_mean = np.mean(magnitudes)\n",
        "psc_std = np.std(magnitudes)"
      ]
    },
    {
      "cell_type": "code",
      "source": [
        "# get_sec_ids_from_type(['distal_basal', 'distal_apic', 'perisomatic'][0])"
      ],
      "metadata": {
        "id": "dvYctQZDHR0H"
      },
      "execution_count": null,
      "outputs": []
    },
    {
      "cell_type": "code",
      "source": [
        "# sec_ids_to_use"
      ],
      "metadata": {
        "id": "BjvrTwjtHHFv"
      },
      "execution_count": null,
      "outputs": []
    }
  ],
  "metadata": {
    "colab": {
      "provenance": [],
      "toc_visible": true,
      "include_colab_link": true
    },
    "kernelspec": {
      "display_name": "Python 3",
      "name": "python3"
    },
    "language_info": {
      "name": "python"
    },
    "widgets": {
      "application/vnd.jupyter.widget-state+json": {
        "94a70b1ab9284eb2853b5e402dbc32af": {
          "model_module": "@jupyter-widgets/controls",
          "model_name": "VBoxModel",
          "model_module_version": "1.5.0",
          "state": {
            "_dom_classes": [],
            "_model_module": "@jupyter-widgets/controls",
            "_model_module_version": "1.5.0",
            "_model_name": "VBoxModel",
            "_view_count": null,
            "_view_module": "@jupyter-widgets/controls",
            "_view_module_version": "1.5.0",
            "_view_name": "VBoxView",
            "box_style": "",
            "children": [
              "IPY_MODEL_c89896a300f9434fa12387975cf3a5f9",
              "IPY_MODEL_70596587d000454dafa51e3e9bea3f31",
              "IPY_MODEL_6a66a8adfafa4ddfaff4d23d0308d6a9"
            ],
            "layout": "IPY_MODEL_305824bfc5514b53b3625eece2ff0307"
          }
        },
        "c89896a300f9434fa12387975cf3a5f9": {
          "model_module": "@jupyter-widgets/controls",
          "model_name": "HBoxModel",
          "model_module_version": "1.5.0",
          "state": {
            "_dom_classes": [],
            "_model_module": "@jupyter-widgets/controls",
            "_model_module_version": "1.5.0",
            "_model_name": "HBoxModel",
            "_view_count": null,
            "_view_module": "@jupyter-widgets/controls",
            "_view_module_version": "1.5.0",
            "_view_name": "HBoxView",
            "box_style": "",
            "children": [
              "IPY_MODEL_d3192898e9bc4d1990fa093a2d6d6b70",
              "IPY_MODEL_4d2d4a1b046d487aa0f90d6916f64b78",
              "IPY_MODEL_6762609b2b9a4a7c922591bb4d291568",
              "IPY_MODEL_fa1044588af44cde8d54512af657200d"
            ],
            "layout": "IPY_MODEL_d7c90a2e472942cb8c33687609f065c8"
          }
        },
        "70596587d000454dafa51e3e9bea3f31": {
          "model_module": "@jupyter-widgets/controls",
          "model_name": "HBoxModel",
          "model_module_version": "1.5.0",
          "state": {
            "_dom_classes": [],
            "_model_module": "@jupyter-widgets/controls",
            "_model_module_version": "1.5.0",
            "_model_name": "HBoxModel",
            "_view_count": null,
            "_view_module": "@jupyter-widgets/controls",
            "_view_module_version": "1.5.0",
            "_view_name": "HBoxView",
            "box_style": "",
            "children": [
              "IPY_MODEL_f0fa1c1e19e04555ab891cc409eaf3cf",
              "IPY_MODEL_7ae8e1fcd1ef4160ad5237f88f87664e",
              "IPY_MODEL_12bc0712107949e88f0c4698e26d38dd"
            ],
            "layout": "IPY_MODEL_90014efd9b0c4e5aaedea1ac09cca77d"
          }
        },
        "6a66a8adfafa4ddfaff4d23d0308d6a9": {
          "model_module": "@jupyter-widgets/controls",
          "model_name": "HBoxModel",
          "model_module_version": "1.5.0",
          "state": {
            "_dom_classes": [],
            "_model_module": "@jupyter-widgets/controls",
            "_model_module_version": "1.5.0",
            "_model_name": "HBoxModel",
            "_view_count": null,
            "_view_module": "@jupyter-widgets/controls",
            "_view_module_version": "1.5.0",
            "_view_name": "HBoxView",
            "box_style": "",
            "children": [
              "IPY_MODEL_83e05e0e049c476f9ffd109dd327f40d",
              "IPY_MODEL_0d6817e2d38a4447a59067a2d13cca6a"
            ],
            "layout": "IPY_MODEL_b4b7ecae2fe94fc999ef569cdaef4d7a"
          }
        },
        "305824bfc5514b53b3625eece2ff0307": {
          "model_module": "@jupyter-widgets/base",
          "model_name": "LayoutModel",
          "model_module_version": "1.2.0",
          "state": {
            "_model_module": "@jupyter-widgets/base",
            "_model_module_version": "1.2.0",
            "_model_name": "LayoutModel",
            "_view_count": null,
            "_view_module": "@jupyter-widgets/base",
            "_view_module_version": "1.2.0",
            "_view_name": "LayoutView",
            "align_content": null,
            "align_items": null,
            "align_self": null,
            "border": null,
            "bottom": null,
            "display": null,
            "flex": null,
            "flex_flow": null,
            "grid_area": null,
            "grid_auto_columns": null,
            "grid_auto_flow": null,
            "grid_auto_rows": null,
            "grid_column": null,
            "grid_gap": null,
            "grid_row": null,
            "grid_template_areas": null,
            "grid_template_columns": null,
            "grid_template_rows": null,
            "height": null,
            "justify_content": null,
            "justify_items": null,
            "left": null,
            "margin": null,
            "max_height": null,
            "max_width": null,
            "min_height": null,
            "min_width": null,
            "object_fit": null,
            "object_position": null,
            "order": null,
            "overflow": null,
            "overflow_x": null,
            "overflow_y": null,
            "padding": null,
            "right": null,
            "top": null,
            "visibility": null,
            "width": null
          }
        },
        "d3192898e9bc4d1990fa093a2d6d6b70": {
          "model_module": "@jupyter-widgets/controls",
          "model_name": "ButtonModel",
          "model_module_version": "1.5.0",
          "state": {
            "_dom_classes": [],
            "_model_module": "@jupyter-widgets/controls",
            "_model_module_version": "1.5.0",
            "_model_name": "ButtonModel",
            "_view_count": null,
            "_view_module": "@jupyter-widgets/controls",
            "_view_module_version": "1.5.0",
            "_view_name": "ButtonView",
            "button_style": "primary",
            "description": "Run Train",
            "disabled": false,
            "icon": "history",
            "layout": "IPY_MODEL_e76e620aeb5b4678b9ed6be3ab0603df",
            "style": "IPY_MODEL_112ed055bbf34b29855de7d43dbb5866",
            "tooltip": ""
          }
        },
        "4d2d4a1b046d487aa0f90d6916f64b78": {
          "model_module": "@jupyter-widgets/controls",
          "model_name": "ButtonModel",
          "model_module_version": "1.5.0",
          "state": {
            "_dom_classes": [],
            "_model_module": "@jupyter-widgets/controls",
            "_model_module_version": "1.5.0",
            "_model_name": "ButtonModel",
            "_view_count": null,
            "_view_module": "@jupyter-widgets/controls",
            "_view_module_version": "1.5.0",
            "_view_name": "ButtonView",
            "button_style": "success",
            "description": "Single Event",
            "disabled": false,
            "icon": "check",
            "layout": "IPY_MODEL_c186523dd81844e79f1d3730674febaa",
            "style": "IPY_MODEL_76b665b233f24f6a8a48720ed304c59b",
            "tooltip": ""
          }
        },
        "6762609b2b9a4a7c922591bb4d291568": {
          "model_module": "@jupyter-widgets/controls",
          "model_name": "ToggleButtonModel",
          "model_module_version": "1.5.0",
          "state": {
            "_dom_classes": [],
            "_model_module": "@jupyter-widgets/controls",
            "_model_module_version": "1.5.0",
            "_model_name": "ToggleButtonModel",
            "_view_count": null,
            "_view_module": "@jupyter-widgets/controls",
            "_view_module_version": "1.5.0",
            "_view_name": "ToggleButtonView",
            "button_style": "warning",
            "description": "Voltage Clamp",
            "description_tooltip": null,
            "disabled": false,
            "icon": "fast-backward",
            "layout": "IPY_MODEL_30a9c39de8cc4b0aa05786135c4a90ff",
            "style": "IPY_MODEL_268022e14b6f4462b52f35a1850dd439",
            "tooltip": "",
            "value": true
          }
        },
        "fa1044588af44cde8d54512af657200d": {
          "model_module": "@jupyter-widgets/controls",
          "model_name": "ToggleButtonModel",
          "model_module_version": "1.5.0",
          "state": {
            "_dom_classes": [],
            "_model_module": "@jupyter-widgets/controls",
            "_model_module_version": "1.5.0",
            "_model_name": "ToggleButtonModel",
            "_view_count": null,
            "_view_module": "@jupyter-widgets/controls",
            "_view_module_version": "1.5.0",
            "_view_name": "ToggleButtonView",
            "button_style": "info",
            "description": "Continuous input",
            "description_tooltip": null,
            "disabled": false,
            "icon": "eject",
            "layout": "IPY_MODEL_86f7a2f78dfa48b6b469fe68ac5fed4d",
            "style": "IPY_MODEL_3b1d770326444bd199a12e3f7243b61c",
            "tooltip": "",
            "value": false
          }
        },
        "d7c90a2e472942cb8c33687609f065c8": {
          "model_module": "@jupyter-widgets/base",
          "model_name": "LayoutModel",
          "model_module_version": "1.2.0",
          "state": {
            "_model_module": "@jupyter-widgets/base",
            "_model_module_version": "1.2.0",
            "_model_name": "LayoutModel",
            "_view_count": null,
            "_view_module": "@jupyter-widgets/base",
            "_view_module_version": "1.2.0",
            "_view_name": "LayoutView",
            "align_content": null,
            "align_items": null,
            "align_self": null,
            "border": null,
            "bottom": null,
            "display": null,
            "flex": null,
            "flex_flow": null,
            "grid_area": null,
            "grid_auto_columns": null,
            "grid_auto_flow": null,
            "grid_auto_rows": null,
            "grid_column": null,
            "grid_gap": null,
            "grid_row": null,
            "grid_template_areas": null,
            "grid_template_columns": null,
            "grid_template_rows": null,
            "height": null,
            "justify_content": null,
            "justify_items": null,
            "left": null,
            "margin": null,
            "max_height": null,
            "max_width": null,
            "min_height": null,
            "min_width": null,
            "object_fit": null,
            "object_position": null,
            "order": null,
            "overflow": null,
            "overflow_x": null,
            "overflow_y": null,
            "padding": null,
            "right": null,
            "top": null,
            "visibility": null,
            "width": null
          }
        },
        "f0fa1c1e19e04555ab891cc409eaf3cf": {
          "model_module": "@jupyter-widgets/controls",
          "model_name": "SelectionSliderModel",
          "model_module_version": "1.5.0",
          "state": {
            "_dom_classes": [],
            "_model_module": "@jupyter-widgets/controls",
            "_model_module_version": "1.5.0",
            "_model_name": "SelectionSliderModel",
            "_options_labels": [
              "1",
              "2",
              "3",
              "4",
              "5",
              "6",
              "7",
              "8",
              "9",
              "10",
              "15",
              "20",
              "35",
              "50",
              "100",
              "200"
            ],
            "_view_count": null,
            "_view_module": "@jupyter-widgets/controls",
            "_view_module_version": "1.5.0",
            "_view_name": "SelectionSliderView",
            "continuous_update": true,
            "description": "Input Freq",
            "description_tooltip": null,
            "disabled": false,
            "index": 13,
            "layout": "IPY_MODEL_4163450d3b954b4988854205c88637b7",
            "orientation": "horizontal",
            "readout": true,
            "style": "IPY_MODEL_6d16177ad50a467694f4e1d9f218a739"
          }
        },
        "7ae8e1fcd1ef4160ad5237f88f87664e": {
          "model_module": "@jupyter-widgets/controls",
          "model_name": "SelectionSliderModel",
          "model_module_version": "1.5.0",
          "state": {
            "_dom_classes": [],
            "_model_module": "@jupyter-widgets/controls",
            "_model_module_version": "1.5.0",
            "_model_name": "SelectionSliderModel",
            "_options_labels": [
              "125",
              "250",
              "500",
              "1000",
              "2000",
              "4000"
            ],
            "_view_count": null,
            "_view_module": "@jupyter-widgets/controls",
            "_view_module_version": "1.5.0",
            "_view_name": "SelectionSliderView",
            "continuous_update": true,
            "description": "Delay",
            "description_tooltip": null,
            "disabled": false,
            "index": 1,
            "layout": "IPY_MODEL_7f0e005eae684bd3b4b8930346541fbe",
            "orientation": "horizontal",
            "readout": true,
            "style": "IPY_MODEL_c7da6a4751924dc6938e4a3affdeb9c4"
          }
        },
        "12bc0712107949e88f0c4698e26d38dd": {
          "model_module": "@jupyter-widgets/controls",
          "model_name": "SelectionSliderModel",
          "model_module_version": "1.5.0",
          "state": {
            "_dom_classes": [],
            "_model_module": "@jupyter-widgets/controls",
            "_model_module_version": "1.5.0",
            "_model_name": "SelectionSliderModel",
            "_options_labels": [
              "300",
              "500",
              "1000",
              "2000",
              "5000",
              "10000"
            ],
            "_view_count": null,
            "_view_module": "@jupyter-widgets/controls",
            "_view_module_version": "1.5.0",
            "_view_name": "SelectionSliderView",
            "continuous_update": true,
            "description": "Duration",
            "description_tooltip": null,
            "disabled": false,
            "index": 0,
            "layout": "IPY_MODEL_49712e339b154d189f39f304efc2d362",
            "orientation": "horizontal",
            "readout": true,
            "style": "IPY_MODEL_24de773e742e47cf9fcd2656ce41489c"
          }
        },
        "90014efd9b0c4e5aaedea1ac09cca77d": {
          "model_module": "@jupyter-widgets/base",
          "model_name": "LayoutModel",
          "model_module_version": "1.2.0",
          "state": {
            "_model_module": "@jupyter-widgets/base",
            "_model_module_version": "1.2.0",
            "_model_name": "LayoutModel",
            "_view_count": null,
            "_view_module": "@jupyter-widgets/base",
            "_view_module_version": "1.2.0",
            "_view_name": "LayoutView",
            "align_content": null,
            "align_items": null,
            "align_self": null,
            "border": null,
            "bottom": null,
            "display": null,
            "flex": null,
            "flex_flow": null,
            "grid_area": null,
            "grid_auto_columns": null,
            "grid_auto_flow": null,
            "grid_auto_rows": null,
            "grid_column": null,
            "grid_gap": null,
            "grid_row": null,
            "grid_template_areas": null,
            "grid_template_columns": null,
            "grid_template_rows": null,
            "height": null,
            "justify_content": null,
            "justify_items": null,
            "left": null,
            "margin": null,
            "max_height": null,
            "max_width": null,
            "min_height": null,
            "min_width": null,
            "object_fit": null,
            "object_position": null,
            "order": null,
            "overflow": null,
            "overflow_x": null,
            "overflow_y": null,
            "padding": null,
            "right": null,
            "top": null,
            "visibility": null,
            "width": null
          }
        },
        "83e05e0e049c476f9ffd109dd327f40d": {
          "model_module": "@jupyter-widgets/controls",
          "model_name": "VBoxModel",
          "model_module_version": "1.5.0",
          "state": {
            "_dom_classes": [],
            "_model_module": "@jupyter-widgets/controls",
            "_model_module_version": "1.5.0",
            "_model_name": "VBoxModel",
            "_view_count": null,
            "_view_module": "@jupyter-widgets/controls",
            "_view_module_version": "1.5.0",
            "_view_name": "VBoxView",
            "box_style": "",
            "children": [
              "IPY_MODEL_8ca372676ca84a1f9047b5e385319ee6"
            ],
            "layout": "IPY_MODEL_313a60eafe3a41d09450325d38df4a64"
          }
        },
        "0d6817e2d38a4447a59067a2d13cca6a": {
          "model_module": "@jupyter-widgets/controls",
          "model_name": "VBoxModel",
          "model_module_version": "1.5.0",
          "state": {
            "_dom_classes": [],
            "_model_module": "@jupyter-widgets/controls",
            "_model_module_version": "1.5.0",
            "_model_name": "VBoxModel",
            "_view_count": null,
            "_view_module": "@jupyter-widgets/controls",
            "_view_module_version": "1.5.0",
            "_view_name": "VBoxView",
            "box_style": "",
            "children": [
              "IPY_MODEL_053953e7f0514f94ae3e40876892b7da",
              "IPY_MODEL_da9f56a764404647ad943d18ca827f8a"
            ],
            "layout": "IPY_MODEL_023fc65a539f44409bec0acbb5f5a3d5"
          }
        },
        "b4b7ecae2fe94fc999ef569cdaef4d7a": {
          "model_module": "@jupyter-widgets/base",
          "model_name": "LayoutModel",
          "model_module_version": "1.2.0",
          "state": {
            "_model_module": "@jupyter-widgets/base",
            "_model_module_version": "1.2.0",
            "_model_name": "LayoutModel",
            "_view_count": null,
            "_view_module": "@jupyter-widgets/base",
            "_view_module_version": "1.2.0",
            "_view_name": "LayoutView",
            "align_content": null,
            "align_items": null,
            "align_self": null,
            "border": null,
            "bottom": null,
            "display": null,
            "flex": null,
            "flex_flow": null,
            "grid_area": null,
            "grid_auto_columns": null,
            "grid_auto_flow": null,
            "grid_auto_rows": null,
            "grid_column": null,
            "grid_gap": null,
            "grid_row": null,
            "grid_template_areas": null,
            "grid_template_columns": null,
            "grid_template_rows": null,
            "height": null,
            "justify_content": null,
            "justify_items": null,
            "left": null,
            "margin": null,
            "max_height": null,
            "max_width": null,
            "min_height": null,
            "min_width": null,
            "object_fit": null,
            "object_position": null,
            "order": null,
            "overflow": null,
            "overflow_x": null,
            "overflow_y": null,
            "padding": null,
            "right": null,
            "top": null,
            "visibility": null,
            "width": null
          }
        },
        "e76e620aeb5b4678b9ed6be3ab0603df": {
          "model_module": "@jupyter-widgets/base",
          "model_name": "LayoutModel",
          "model_module_version": "1.2.0",
          "state": {
            "_model_module": "@jupyter-widgets/base",
            "_model_module_version": "1.2.0",
            "_model_name": "LayoutModel",
            "_view_count": null,
            "_view_module": "@jupyter-widgets/base",
            "_view_module_version": "1.2.0",
            "_view_name": "LayoutView",
            "align_content": null,
            "align_items": null,
            "align_self": null,
            "border": null,
            "bottom": null,
            "display": null,
            "flex": null,
            "flex_flow": null,
            "grid_area": null,
            "grid_auto_columns": null,
            "grid_auto_flow": null,
            "grid_auto_rows": null,
            "grid_column": null,
            "grid_gap": null,
            "grid_row": null,
            "grid_template_areas": null,
            "grid_template_columns": null,
            "grid_template_rows": null,
            "height": null,
            "justify_content": null,
            "justify_items": null,
            "left": null,
            "margin": null,
            "max_height": null,
            "max_width": null,
            "min_height": null,
            "min_width": null,
            "object_fit": null,
            "object_position": null,
            "order": null,
            "overflow": null,
            "overflow_x": null,
            "overflow_y": null,
            "padding": null,
            "right": null,
            "top": null,
            "visibility": null,
            "width": null
          }
        },
        "112ed055bbf34b29855de7d43dbb5866": {
          "model_module": "@jupyter-widgets/controls",
          "model_name": "ButtonStyleModel",
          "model_module_version": "1.5.0",
          "state": {
            "_model_module": "@jupyter-widgets/controls",
            "_model_module_version": "1.5.0",
            "_model_name": "ButtonStyleModel",
            "_view_count": null,
            "_view_module": "@jupyter-widgets/base",
            "_view_module_version": "1.2.0",
            "_view_name": "StyleView",
            "button_color": null,
            "font_weight": ""
          }
        },
        "c186523dd81844e79f1d3730674febaa": {
          "model_module": "@jupyter-widgets/base",
          "model_name": "LayoutModel",
          "model_module_version": "1.2.0",
          "state": {
            "_model_module": "@jupyter-widgets/base",
            "_model_module_version": "1.2.0",
            "_model_name": "LayoutModel",
            "_view_count": null,
            "_view_module": "@jupyter-widgets/base",
            "_view_module_version": "1.2.0",
            "_view_name": "LayoutView",
            "align_content": null,
            "align_items": null,
            "align_self": null,
            "border": null,
            "bottom": null,
            "display": null,
            "flex": null,
            "flex_flow": null,
            "grid_area": null,
            "grid_auto_columns": null,
            "grid_auto_flow": null,
            "grid_auto_rows": null,
            "grid_column": null,
            "grid_gap": null,
            "grid_row": null,
            "grid_template_areas": null,
            "grid_template_columns": null,
            "grid_template_rows": null,
            "height": null,
            "justify_content": null,
            "justify_items": null,
            "left": null,
            "margin": null,
            "max_height": null,
            "max_width": null,
            "min_height": null,
            "min_width": null,
            "object_fit": null,
            "object_position": null,
            "order": null,
            "overflow": null,
            "overflow_x": null,
            "overflow_y": null,
            "padding": null,
            "right": null,
            "top": null,
            "visibility": null,
            "width": null
          }
        },
        "76b665b233f24f6a8a48720ed304c59b": {
          "model_module": "@jupyter-widgets/controls",
          "model_name": "ButtonStyleModel",
          "model_module_version": "1.5.0",
          "state": {
            "_model_module": "@jupyter-widgets/controls",
            "_model_module_version": "1.5.0",
            "_model_name": "ButtonStyleModel",
            "_view_count": null,
            "_view_module": "@jupyter-widgets/base",
            "_view_module_version": "1.2.0",
            "_view_name": "StyleView",
            "button_color": null,
            "font_weight": ""
          }
        },
        "30a9c39de8cc4b0aa05786135c4a90ff": {
          "model_module": "@jupyter-widgets/base",
          "model_name": "LayoutModel",
          "model_module_version": "1.2.0",
          "state": {
            "_model_module": "@jupyter-widgets/base",
            "_model_module_version": "1.2.0",
            "_model_name": "LayoutModel",
            "_view_count": null,
            "_view_module": "@jupyter-widgets/base",
            "_view_module_version": "1.2.0",
            "_view_name": "LayoutView",
            "align_content": null,
            "align_items": null,
            "align_self": null,
            "border": null,
            "bottom": null,
            "display": null,
            "flex": null,
            "flex_flow": null,
            "grid_area": null,
            "grid_auto_columns": null,
            "grid_auto_flow": null,
            "grid_auto_rows": null,
            "grid_column": null,
            "grid_gap": null,
            "grid_row": null,
            "grid_template_areas": null,
            "grid_template_columns": null,
            "grid_template_rows": null,
            "height": null,
            "justify_content": null,
            "justify_items": null,
            "left": null,
            "margin": null,
            "max_height": null,
            "max_width": null,
            "min_height": null,
            "min_width": null,
            "object_fit": null,
            "object_position": null,
            "order": null,
            "overflow": null,
            "overflow_x": null,
            "overflow_y": null,
            "padding": null,
            "right": null,
            "top": null,
            "visibility": null,
            "width": null
          }
        },
        "268022e14b6f4462b52f35a1850dd439": {
          "model_module": "@jupyter-widgets/controls",
          "model_name": "DescriptionStyleModel",
          "model_module_version": "1.5.0",
          "state": {
            "_model_module": "@jupyter-widgets/controls",
            "_model_module_version": "1.5.0",
            "_model_name": "DescriptionStyleModel",
            "_view_count": null,
            "_view_module": "@jupyter-widgets/base",
            "_view_module_version": "1.2.0",
            "_view_name": "StyleView",
            "description_width": ""
          }
        },
        "86f7a2f78dfa48b6b469fe68ac5fed4d": {
          "model_module": "@jupyter-widgets/base",
          "model_name": "LayoutModel",
          "model_module_version": "1.2.0",
          "state": {
            "_model_module": "@jupyter-widgets/base",
            "_model_module_version": "1.2.0",
            "_model_name": "LayoutModel",
            "_view_count": null,
            "_view_module": "@jupyter-widgets/base",
            "_view_module_version": "1.2.0",
            "_view_name": "LayoutView",
            "align_content": null,
            "align_items": null,
            "align_self": null,
            "border": null,
            "bottom": null,
            "display": null,
            "flex": null,
            "flex_flow": null,
            "grid_area": null,
            "grid_auto_columns": null,
            "grid_auto_flow": null,
            "grid_auto_rows": null,
            "grid_column": null,
            "grid_gap": null,
            "grid_row": null,
            "grid_template_areas": null,
            "grid_template_columns": null,
            "grid_template_rows": null,
            "height": null,
            "justify_content": null,
            "justify_items": null,
            "left": null,
            "margin": null,
            "max_height": null,
            "max_width": null,
            "min_height": null,
            "min_width": null,
            "object_fit": null,
            "object_position": null,
            "order": null,
            "overflow": null,
            "overflow_x": null,
            "overflow_y": null,
            "padding": null,
            "right": null,
            "top": null,
            "visibility": null,
            "width": null
          }
        },
        "3b1d770326444bd199a12e3f7243b61c": {
          "model_module": "@jupyter-widgets/controls",
          "model_name": "DescriptionStyleModel",
          "model_module_version": "1.5.0",
          "state": {
            "_model_module": "@jupyter-widgets/controls",
            "_model_module_version": "1.5.0",
            "_model_name": "DescriptionStyleModel",
            "_view_count": null,
            "_view_module": "@jupyter-widgets/base",
            "_view_module_version": "1.2.0",
            "_view_name": "StyleView",
            "description_width": ""
          }
        },
        "4163450d3b954b4988854205c88637b7": {
          "model_module": "@jupyter-widgets/base",
          "model_name": "LayoutModel",
          "model_module_version": "1.2.0",
          "state": {
            "_model_module": "@jupyter-widgets/base",
            "_model_module_version": "1.2.0",
            "_model_name": "LayoutModel",
            "_view_count": null,
            "_view_module": "@jupyter-widgets/base",
            "_view_module_version": "1.2.0",
            "_view_name": "LayoutView",
            "align_content": null,
            "align_items": null,
            "align_self": null,
            "border": null,
            "bottom": null,
            "display": null,
            "flex": null,
            "flex_flow": null,
            "grid_area": null,
            "grid_auto_columns": null,
            "grid_auto_flow": null,
            "grid_auto_rows": null,
            "grid_column": null,
            "grid_gap": null,
            "grid_row": null,
            "grid_template_areas": null,
            "grid_template_columns": null,
            "grid_template_rows": null,
            "height": null,
            "justify_content": null,
            "justify_items": null,
            "left": null,
            "margin": null,
            "max_height": null,
            "max_width": null,
            "min_height": null,
            "min_width": null,
            "object_fit": null,
            "object_position": null,
            "order": null,
            "overflow": null,
            "overflow_x": null,
            "overflow_y": null,
            "padding": null,
            "right": null,
            "top": null,
            "visibility": null,
            "width": null
          }
        },
        "6d16177ad50a467694f4e1d9f218a739": {
          "model_module": "@jupyter-widgets/controls",
          "model_name": "DescriptionStyleModel",
          "model_module_version": "1.5.0",
          "state": {
            "_model_module": "@jupyter-widgets/controls",
            "_model_module_version": "1.5.0",
            "_model_name": "DescriptionStyleModel",
            "_view_count": null,
            "_view_module": "@jupyter-widgets/base",
            "_view_module_version": "1.2.0",
            "_view_name": "StyleView",
            "description_width": ""
          }
        },
        "7f0e005eae684bd3b4b8930346541fbe": {
          "model_module": "@jupyter-widgets/base",
          "model_name": "LayoutModel",
          "model_module_version": "1.2.0",
          "state": {
            "_model_module": "@jupyter-widgets/base",
            "_model_module_version": "1.2.0",
            "_model_name": "LayoutModel",
            "_view_count": null,
            "_view_module": "@jupyter-widgets/base",
            "_view_module_version": "1.2.0",
            "_view_name": "LayoutView",
            "align_content": null,
            "align_items": null,
            "align_self": null,
            "border": null,
            "bottom": null,
            "display": null,
            "flex": null,
            "flex_flow": null,
            "grid_area": null,
            "grid_auto_columns": null,
            "grid_auto_flow": null,
            "grid_auto_rows": null,
            "grid_column": null,
            "grid_gap": null,
            "grid_row": null,
            "grid_template_areas": null,
            "grid_template_columns": null,
            "grid_template_rows": null,
            "height": null,
            "justify_content": null,
            "justify_items": null,
            "left": null,
            "margin": null,
            "max_height": null,
            "max_width": null,
            "min_height": null,
            "min_width": null,
            "object_fit": null,
            "object_position": null,
            "order": null,
            "overflow": null,
            "overflow_x": null,
            "overflow_y": null,
            "padding": null,
            "right": null,
            "top": null,
            "visibility": null,
            "width": null
          }
        },
        "c7da6a4751924dc6938e4a3affdeb9c4": {
          "model_module": "@jupyter-widgets/controls",
          "model_name": "DescriptionStyleModel",
          "model_module_version": "1.5.0",
          "state": {
            "_model_module": "@jupyter-widgets/controls",
            "_model_module_version": "1.5.0",
            "_model_name": "DescriptionStyleModel",
            "_view_count": null,
            "_view_module": "@jupyter-widgets/base",
            "_view_module_version": "1.2.0",
            "_view_name": "StyleView",
            "description_width": ""
          }
        },
        "49712e339b154d189f39f304efc2d362": {
          "model_module": "@jupyter-widgets/base",
          "model_name": "LayoutModel",
          "model_module_version": "1.2.0",
          "state": {
            "_model_module": "@jupyter-widgets/base",
            "_model_module_version": "1.2.0",
            "_model_name": "LayoutModel",
            "_view_count": null,
            "_view_module": "@jupyter-widgets/base",
            "_view_module_version": "1.2.0",
            "_view_name": "LayoutView",
            "align_content": null,
            "align_items": null,
            "align_self": null,
            "border": null,
            "bottom": null,
            "display": "none",
            "flex": null,
            "flex_flow": null,
            "grid_area": null,
            "grid_auto_columns": null,
            "grid_auto_flow": null,
            "grid_auto_rows": null,
            "grid_column": null,
            "grid_gap": null,
            "grid_row": null,
            "grid_template_areas": null,
            "grid_template_columns": null,
            "grid_template_rows": null,
            "height": null,
            "justify_content": null,
            "justify_items": null,
            "left": null,
            "margin": null,
            "max_height": null,
            "max_width": null,
            "min_height": null,
            "min_width": null,
            "object_fit": null,
            "object_position": null,
            "order": null,
            "overflow": null,
            "overflow_x": null,
            "overflow_y": null,
            "padding": null,
            "right": null,
            "top": null,
            "visibility": null,
            "width": null
          }
        },
        "24de773e742e47cf9fcd2656ce41489c": {
          "model_module": "@jupyter-widgets/controls",
          "model_name": "DescriptionStyleModel",
          "model_module_version": "1.5.0",
          "state": {
            "_model_module": "@jupyter-widgets/controls",
            "_model_module_version": "1.5.0",
            "_model_name": "DescriptionStyleModel",
            "_view_count": null,
            "_view_module": "@jupyter-widgets/base",
            "_view_module_version": "1.2.0",
            "_view_name": "StyleView",
            "description_width": ""
          }
        },
        "8ca372676ca84a1f9047b5e385319ee6": {
          "model_module": "@jupyter-widgets/controls",
          "model_name": "FloatSliderModel",
          "model_module_version": "1.5.0",
          "state": {
            "_dom_classes": [],
            "_model_module": "@jupyter-widgets/controls",
            "_model_module_version": "1.5.0",
            "_model_name": "FloatSliderModel",
            "_view_count": null,
            "_view_module": "@jupyter-widgets/controls",
            "_view_module_version": "1.5.0",
            "_view_name": "FloatSliderView",
            "continuous_update": true,
            "description": "gbar_ampa",
            "description_tooltip": null,
            "disabled": false,
            "layout": "IPY_MODEL_c1ebef1b87014acabd19eaffeea8c5be",
            "max": 0.02,
            "min": 0,
            "orientation": "horizontal",
            "readout": true,
            "readout_format": ".2f",
            "step": 0.0002,
            "style": "IPY_MODEL_6821252f93af4d60a7def231212af8ff",
            "value": 0.001
          }
        },
        "313a60eafe3a41d09450325d38df4a64": {
          "model_module": "@jupyter-widgets/base",
          "model_name": "LayoutModel",
          "model_module_version": "1.2.0",
          "state": {
            "_model_module": "@jupyter-widgets/base",
            "_model_module_version": "1.2.0",
            "_model_name": "LayoutModel",
            "_view_count": null,
            "_view_module": "@jupyter-widgets/base",
            "_view_module_version": "1.2.0",
            "_view_name": "LayoutView",
            "align_content": null,
            "align_items": null,
            "align_self": null,
            "border": null,
            "bottom": null,
            "display": null,
            "flex": null,
            "flex_flow": null,
            "grid_area": null,
            "grid_auto_columns": null,
            "grid_auto_flow": null,
            "grid_auto_rows": null,
            "grid_column": null,
            "grid_gap": null,
            "grid_row": null,
            "grid_template_areas": null,
            "grid_template_columns": null,
            "grid_template_rows": null,
            "height": null,
            "justify_content": null,
            "justify_items": null,
            "left": null,
            "margin": null,
            "max_height": null,
            "max_width": null,
            "min_height": null,
            "min_width": null,
            "object_fit": null,
            "object_position": null,
            "order": null,
            "overflow": null,
            "overflow_x": null,
            "overflow_y": null,
            "padding": null,
            "right": null,
            "top": null,
            "visibility": null,
            "width": null
          }
        },
        "053953e7f0514f94ae3e40876892b7da": {
          "model_module": "@jupyter-widgets/controls",
          "model_name": "FloatSliderModel",
          "model_module_version": "1.5.0",
          "state": {
            "_dom_classes": [],
            "_model_module": "@jupyter-widgets/controls",
            "_model_module_version": "1.5.0",
            "_model_name": "FloatSliderModel",
            "_view_count": null,
            "_view_module": "@jupyter-widgets/controls",
            "_view_module_version": "1.5.0",
            "_view_name": "FloatSliderView",
            "continuous_update": true,
            "description": "gbar_nmda",
            "description_tooltip": null,
            "disabled": false,
            "layout": "IPY_MODEL_9098955fc1544bbf8d80198b3fe3e05f",
            "max": 0.01,
            "min": 0,
            "orientation": "horizontal",
            "readout": true,
            "readout_format": ".2f",
            "step": 0.0001,
            "style": "IPY_MODEL_b35e7a23e7e845ee83d5ec80d7f0c677",
            "value": 0.0005
          }
        },
        "da9f56a764404647ad943d18ca827f8a": {
          "model_module": "@jupyter-widgets/controls",
          "model_name": "FloatSliderModel",
          "model_module_version": "1.5.0",
          "state": {
            "_dom_classes": [],
            "_model_module": "@jupyter-widgets/controls",
            "_model_module_version": "1.5.0",
            "_model_name": "FloatSliderModel",
            "_view_count": null,
            "_view_module": "@jupyter-widgets/controls",
            "_view_module_version": "1.5.0",
            "_view_name": "FloatSliderView",
            "continuous_update": true,
            "description": "initW",
            "description_tooltip": null,
            "disabled": false,
            "layout": "IPY_MODEL_a77aef484cab4f3fadb4b4f731fac672",
            "max": 100,
            "min": 0,
            "orientation": "horizontal",
            "readout": true,
            "readout_format": ".2f",
            "step": 1,
            "style": "IPY_MODEL_e7fbd7fed8e645fcac3aa1224fd4860c",
            "value": 5
          }
        },
        "023fc65a539f44409bec0acbb5f5a3d5": {
          "model_module": "@jupyter-widgets/base",
          "model_name": "LayoutModel",
          "model_module_version": "1.2.0",
          "state": {
            "_model_module": "@jupyter-widgets/base",
            "_model_module_version": "1.2.0",
            "_model_name": "LayoutModel",
            "_view_count": null,
            "_view_module": "@jupyter-widgets/base",
            "_view_module_version": "1.2.0",
            "_view_name": "LayoutView",
            "align_content": null,
            "align_items": null,
            "align_self": null,
            "border": null,
            "bottom": null,
            "display": null,
            "flex": null,
            "flex_flow": null,
            "grid_area": null,
            "grid_auto_columns": null,
            "grid_auto_flow": null,
            "grid_auto_rows": null,
            "grid_column": null,
            "grid_gap": null,
            "grid_row": null,
            "grid_template_areas": null,
            "grid_template_columns": null,
            "grid_template_rows": null,
            "height": null,
            "justify_content": null,
            "justify_items": null,
            "left": null,
            "margin": null,
            "max_height": null,
            "max_width": null,
            "min_height": null,
            "min_width": null,
            "object_fit": null,
            "object_position": null,
            "order": null,
            "overflow": null,
            "overflow_x": null,
            "overflow_y": null,
            "padding": null,
            "right": null,
            "top": null,
            "visibility": null,
            "width": null
          }
        },
        "c1ebef1b87014acabd19eaffeea8c5be": {
          "model_module": "@jupyter-widgets/base",
          "model_name": "LayoutModel",
          "model_module_version": "1.2.0",
          "state": {
            "_model_module": "@jupyter-widgets/base",
            "_model_module_version": "1.2.0",
            "_model_name": "LayoutModel",
            "_view_count": null,
            "_view_module": "@jupyter-widgets/base",
            "_view_module_version": "1.2.0",
            "_view_name": "LayoutView",
            "align_content": null,
            "align_items": null,
            "align_self": null,
            "border": null,
            "bottom": null,
            "display": null,
            "flex": null,
            "flex_flow": null,
            "grid_area": null,
            "grid_auto_columns": null,
            "grid_auto_flow": null,
            "grid_auto_rows": null,
            "grid_column": null,
            "grid_gap": null,
            "grid_row": null,
            "grid_template_areas": null,
            "grid_template_columns": null,
            "grid_template_rows": null,
            "height": null,
            "justify_content": null,
            "justify_items": null,
            "left": null,
            "margin": null,
            "max_height": null,
            "max_width": null,
            "min_height": null,
            "min_width": null,
            "object_fit": null,
            "object_position": null,
            "order": null,
            "overflow": null,
            "overflow_x": null,
            "overflow_y": null,
            "padding": null,
            "right": null,
            "top": null,
            "visibility": null,
            "width": null
          }
        },
        "6821252f93af4d60a7def231212af8ff": {
          "model_module": "@jupyter-widgets/controls",
          "model_name": "SliderStyleModel",
          "model_module_version": "1.5.0",
          "state": {
            "_model_module": "@jupyter-widgets/controls",
            "_model_module_version": "1.5.0",
            "_model_name": "SliderStyleModel",
            "_view_count": null,
            "_view_module": "@jupyter-widgets/base",
            "_view_module_version": "1.2.0",
            "_view_name": "StyleView",
            "description_width": "",
            "handle_color": null
          }
        },
        "9098955fc1544bbf8d80198b3fe3e05f": {
          "model_module": "@jupyter-widgets/base",
          "model_name": "LayoutModel",
          "model_module_version": "1.2.0",
          "state": {
            "_model_module": "@jupyter-widgets/base",
            "_model_module_version": "1.2.0",
            "_model_name": "LayoutModel",
            "_view_count": null,
            "_view_module": "@jupyter-widgets/base",
            "_view_module_version": "1.2.0",
            "_view_name": "LayoutView",
            "align_content": null,
            "align_items": null,
            "align_self": null,
            "border": null,
            "bottom": null,
            "display": null,
            "flex": null,
            "flex_flow": null,
            "grid_area": null,
            "grid_auto_columns": null,
            "grid_auto_flow": null,
            "grid_auto_rows": null,
            "grid_column": null,
            "grid_gap": null,
            "grid_row": null,
            "grid_template_areas": null,
            "grid_template_columns": null,
            "grid_template_rows": null,
            "height": null,
            "justify_content": null,
            "justify_items": null,
            "left": null,
            "margin": null,
            "max_height": null,
            "max_width": null,
            "min_height": null,
            "min_width": null,
            "object_fit": null,
            "object_position": null,
            "order": null,
            "overflow": null,
            "overflow_x": null,
            "overflow_y": null,
            "padding": null,
            "right": null,
            "top": null,
            "visibility": null,
            "width": null
          }
        },
        "b35e7a23e7e845ee83d5ec80d7f0c677": {
          "model_module": "@jupyter-widgets/controls",
          "model_name": "SliderStyleModel",
          "model_module_version": "1.5.0",
          "state": {
            "_model_module": "@jupyter-widgets/controls",
            "_model_module_version": "1.5.0",
            "_model_name": "SliderStyleModel",
            "_view_count": null,
            "_view_module": "@jupyter-widgets/base",
            "_view_module_version": "1.2.0",
            "_view_name": "StyleView",
            "description_width": "",
            "handle_color": null
          }
        },
        "a77aef484cab4f3fadb4b4f731fac672": {
          "model_module": "@jupyter-widgets/base",
          "model_name": "LayoutModel",
          "model_module_version": "1.2.0",
          "state": {
            "_model_module": "@jupyter-widgets/base",
            "_model_module_version": "1.2.0",
            "_model_name": "LayoutModel",
            "_view_count": null,
            "_view_module": "@jupyter-widgets/base",
            "_view_module_version": "1.2.0",
            "_view_name": "LayoutView",
            "align_content": null,
            "align_items": null,
            "align_self": null,
            "border": null,
            "bottom": null,
            "display": null,
            "flex": null,
            "flex_flow": null,
            "grid_area": null,
            "grid_auto_columns": null,
            "grid_auto_flow": null,
            "grid_auto_rows": null,
            "grid_column": null,
            "grid_gap": null,
            "grid_row": null,
            "grid_template_areas": null,
            "grid_template_columns": null,
            "grid_template_rows": null,
            "height": null,
            "justify_content": null,
            "justify_items": null,
            "left": null,
            "margin": null,
            "max_height": null,
            "max_width": null,
            "min_height": null,
            "min_width": null,
            "object_fit": null,
            "object_position": null,
            "order": null,
            "overflow": null,
            "overflow_x": null,
            "overflow_y": null,
            "padding": null,
            "right": null,
            "top": null,
            "visibility": null,
            "width": null
          }
        },
        "e7fbd7fed8e645fcac3aa1224fd4860c": {
          "model_module": "@jupyter-widgets/controls",
          "model_name": "SliderStyleModel",
          "model_module_version": "1.5.0",
          "state": {
            "_model_module": "@jupyter-widgets/controls",
            "_model_module_version": "1.5.0",
            "_model_name": "SliderStyleModel",
            "_view_count": null,
            "_view_module": "@jupyter-widgets/base",
            "_view_module_version": "1.2.0",
            "_view_name": "StyleView",
            "description_width": "",
            "handle_color": null
          }
        },
        "08cb9ac3b16643069be5f65d9a2327ce": {
          "model_module": "@jupyter-widgets/controls",
          "model_name": "HBoxModel",
          "model_module_version": "1.5.0",
          "state": {
            "_dom_classes": [],
            "_model_module": "@jupyter-widgets/controls",
            "_model_module_version": "1.5.0",
            "_model_name": "HBoxModel",
            "_view_count": null,
            "_view_module": "@jupyter-widgets/controls",
            "_view_module_version": "1.5.0",
            "_view_name": "HBoxView",
            "box_style": "",
            "children": [
              "IPY_MODEL_d4a1a94ca1174beb9558290f4573253c",
              "IPY_MODEL_568a1d85b6d54bb285c0c95488ab0f33",
              "IPY_MODEL_bac765a9295f45a0a94bbe094ec6fc44"
            ],
            "layout": "IPY_MODEL_916d28869d6348da8ea2b045adbe7e5d"
          }
        },
        "d4a1a94ca1174beb9558290f4573253c": {
          "model_module": "@jupyter-widgets/controls",
          "model_name": "HTMLModel",
          "model_module_version": "1.5.0",
          "state": {
            "_dom_classes": [],
            "_model_module": "@jupyter-widgets/controls",
            "_model_module_version": "1.5.0",
            "_model_name": "HTMLModel",
            "_view_count": null,
            "_view_module": "@jupyter-widgets/controls",
            "_view_module_version": "1.5.0",
            "_view_name": "HTMLView",
            "description": "",
            "description_tooltip": null,
            "layout": "IPY_MODEL_29d4ff8da1ad4c96acdb08ef567b1db9",
            "placeholder": "​",
            "style": "IPY_MODEL_70e98df6d5a04d0f92f5b875684621ad",
            "value": "Analyzing frequencies: 100%"
          }
        },
        "568a1d85b6d54bb285c0c95488ab0f33": {
          "model_module": "@jupyter-widgets/controls",
          "model_name": "FloatProgressModel",
          "model_module_version": "1.5.0",
          "state": {
            "_dom_classes": [],
            "_model_module": "@jupyter-widgets/controls",
            "_model_module_version": "1.5.0",
            "_model_name": "FloatProgressModel",
            "_view_count": null,
            "_view_module": "@jupyter-widgets/controls",
            "_view_module_version": "1.5.0",
            "_view_name": "ProgressView",
            "bar_style": "success",
            "description": "",
            "description_tooltip": null,
            "layout": "IPY_MODEL_8ce98c6494ed434c81f1380ebd8dcf5c",
            "max": 3,
            "min": 0,
            "orientation": "horizontal",
            "style": "IPY_MODEL_2199804be3ae47939da99f0211835546",
            "value": 3
          }
        },
        "bac765a9295f45a0a94bbe094ec6fc44": {
          "model_module": "@jupyter-widgets/controls",
          "model_name": "HTMLModel",
          "model_module_version": "1.5.0",
          "state": {
            "_dom_classes": [],
            "_model_module": "@jupyter-widgets/controls",
            "_model_module_version": "1.5.0",
            "_model_name": "HTMLModel",
            "_view_count": null,
            "_view_module": "@jupyter-widgets/controls",
            "_view_module_version": "1.5.0",
            "_view_name": "HTMLView",
            "description": "",
            "description_tooltip": null,
            "layout": "IPY_MODEL_21b7012b49f34473acc9523ff5ac8cac",
            "placeholder": "​",
            "style": "IPY_MODEL_b353b5254d854bc2a4ac570c2e732f03",
            "value": " 3/3 [04:15&lt;00:00, 78.89s/it]"
          }
        },
        "916d28869d6348da8ea2b045adbe7e5d": {
          "model_module": "@jupyter-widgets/base",
          "model_name": "LayoutModel",
          "model_module_version": "1.2.0",
          "state": {
            "_model_module": "@jupyter-widgets/base",
            "_model_module_version": "1.2.0",
            "_model_name": "LayoutModel",
            "_view_count": null,
            "_view_module": "@jupyter-widgets/base",
            "_view_module_version": "1.2.0",
            "_view_name": "LayoutView",
            "align_content": null,
            "align_items": null,
            "align_self": null,
            "border": null,
            "bottom": null,
            "display": null,
            "flex": null,
            "flex_flow": null,
            "grid_area": null,
            "grid_auto_columns": null,
            "grid_auto_flow": null,
            "grid_auto_rows": null,
            "grid_column": null,
            "grid_gap": null,
            "grid_row": null,
            "grid_template_areas": null,
            "grid_template_columns": null,
            "grid_template_rows": null,
            "height": null,
            "justify_content": null,
            "justify_items": null,
            "left": null,
            "margin": null,
            "max_height": null,
            "max_width": null,
            "min_height": null,
            "min_width": null,
            "object_fit": null,
            "object_position": null,
            "order": null,
            "overflow": null,
            "overflow_x": null,
            "overflow_y": null,
            "padding": null,
            "right": null,
            "top": null,
            "visibility": null,
            "width": null
          }
        },
        "29d4ff8da1ad4c96acdb08ef567b1db9": {
          "model_module": "@jupyter-widgets/base",
          "model_name": "LayoutModel",
          "model_module_version": "1.2.0",
          "state": {
            "_model_module": "@jupyter-widgets/base",
            "_model_module_version": "1.2.0",
            "_model_name": "LayoutModel",
            "_view_count": null,
            "_view_module": "@jupyter-widgets/base",
            "_view_module_version": "1.2.0",
            "_view_name": "LayoutView",
            "align_content": null,
            "align_items": null,
            "align_self": null,
            "border": null,
            "bottom": null,
            "display": null,
            "flex": null,
            "flex_flow": null,
            "grid_area": null,
            "grid_auto_columns": null,
            "grid_auto_flow": null,
            "grid_auto_rows": null,
            "grid_column": null,
            "grid_gap": null,
            "grid_row": null,
            "grid_template_areas": null,
            "grid_template_columns": null,
            "grid_template_rows": null,
            "height": null,
            "justify_content": null,
            "justify_items": null,
            "left": null,
            "margin": null,
            "max_height": null,
            "max_width": null,
            "min_height": null,
            "min_width": null,
            "object_fit": null,
            "object_position": null,
            "order": null,
            "overflow": null,
            "overflow_x": null,
            "overflow_y": null,
            "padding": null,
            "right": null,
            "top": null,
            "visibility": null,
            "width": null
          }
        },
        "70e98df6d5a04d0f92f5b875684621ad": {
          "model_module": "@jupyter-widgets/controls",
          "model_name": "DescriptionStyleModel",
          "model_module_version": "1.5.0",
          "state": {
            "_model_module": "@jupyter-widgets/controls",
            "_model_module_version": "1.5.0",
            "_model_name": "DescriptionStyleModel",
            "_view_count": null,
            "_view_module": "@jupyter-widgets/base",
            "_view_module_version": "1.2.0",
            "_view_name": "StyleView",
            "description_width": ""
          }
        },
        "8ce98c6494ed434c81f1380ebd8dcf5c": {
          "model_module": "@jupyter-widgets/base",
          "model_name": "LayoutModel",
          "model_module_version": "1.2.0",
          "state": {
            "_model_module": "@jupyter-widgets/base",
            "_model_module_version": "1.2.0",
            "_model_name": "LayoutModel",
            "_view_count": null,
            "_view_module": "@jupyter-widgets/base",
            "_view_module_version": "1.2.0",
            "_view_name": "LayoutView",
            "align_content": null,
            "align_items": null,
            "align_self": null,
            "border": null,
            "bottom": null,
            "display": null,
            "flex": null,
            "flex_flow": null,
            "grid_area": null,
            "grid_auto_columns": null,
            "grid_auto_flow": null,
            "grid_auto_rows": null,
            "grid_column": null,
            "grid_gap": null,
            "grid_row": null,
            "grid_template_areas": null,
            "grid_template_columns": null,
            "grid_template_rows": null,
            "height": null,
            "justify_content": null,
            "justify_items": null,
            "left": null,
            "margin": null,
            "max_height": null,
            "max_width": null,
            "min_height": null,
            "min_width": null,
            "object_fit": null,
            "object_position": null,
            "order": null,
            "overflow": null,
            "overflow_x": null,
            "overflow_y": null,
            "padding": null,
            "right": null,
            "top": null,
            "visibility": null,
            "width": null
          }
        },
        "2199804be3ae47939da99f0211835546": {
          "model_module": "@jupyter-widgets/controls",
          "model_name": "ProgressStyleModel",
          "model_module_version": "1.5.0",
          "state": {
            "_model_module": "@jupyter-widgets/controls",
            "_model_module_version": "1.5.0",
            "_model_name": "ProgressStyleModel",
            "_view_count": null,
            "_view_module": "@jupyter-widgets/base",
            "_view_module_version": "1.2.0",
            "_view_name": "StyleView",
            "bar_color": null,
            "description_width": ""
          }
        },
        "21b7012b49f34473acc9523ff5ac8cac": {
          "model_module": "@jupyter-widgets/base",
          "model_name": "LayoutModel",
          "model_module_version": "1.2.0",
          "state": {
            "_model_module": "@jupyter-widgets/base",
            "_model_module_version": "1.2.0",
            "_model_name": "LayoutModel",
            "_view_count": null,
            "_view_module": "@jupyter-widgets/base",
            "_view_module_version": "1.2.0",
            "_view_name": "LayoutView",
            "align_content": null,
            "align_items": null,
            "align_self": null,
            "border": null,
            "bottom": null,
            "display": null,
            "flex": null,
            "flex_flow": null,
            "grid_area": null,
            "grid_auto_columns": null,
            "grid_auto_flow": null,
            "grid_auto_rows": null,
            "grid_column": null,
            "grid_gap": null,
            "grid_row": null,
            "grid_template_areas": null,
            "grid_template_columns": null,
            "grid_template_rows": null,
            "height": null,
            "justify_content": null,
            "justify_items": null,
            "left": null,
            "margin": null,
            "max_height": null,
            "max_width": null,
            "min_height": null,
            "min_width": null,
            "object_fit": null,
            "object_position": null,
            "order": null,
            "overflow": null,
            "overflow_x": null,
            "overflow_y": null,
            "padding": null,
            "right": null,
            "top": null,
            "visibility": null,
            "width": null
          }
        },
        "b353b5254d854bc2a4ac570c2e732f03": {
          "model_module": "@jupyter-widgets/controls",
          "model_name": "DescriptionStyleModel",
          "model_module_version": "1.5.0",
          "state": {
            "_model_module": "@jupyter-widgets/controls",
            "_model_module_version": "1.5.0",
            "_model_name": "DescriptionStyleModel",
            "_view_count": null,
            "_view_module": "@jupyter-widgets/base",
            "_view_module_version": "1.2.0",
            "_view_name": "StyleView",
            "description_width": ""
          }
        }
      }
    }
  },
  "nbformat": 4,
  "nbformat_minor": 0
}