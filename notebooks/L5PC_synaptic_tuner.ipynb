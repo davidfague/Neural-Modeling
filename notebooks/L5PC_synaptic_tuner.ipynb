{
  "cells": [
    {
      "cell_type": "markdown",
      "metadata": {
        "id": "view-in-github",
        "colab_type": "text"
      },
      "source": [
        "<a href=\"https://colab.research.google.com/github/davidfague/Neural-Modeling/blob/cleanup2/notebooks/L5PC_synaptic_tuner.ipynb\" target=\"_parent\"><img src=\"https://colab.research.google.com/assets/colab-badge.svg\" alt=\"Open In Colab\"/></a>"
      ]
    },
    {
      "cell_type": "markdown",
      "metadata": {
        "id": "pjBgljhIbee4"
      },
      "source": [
        "TODO: https://mailmissouri-my.sharepoint.com/:w:/r/personal/drfrbc_umsystem_edu/Documents/Isaac%20synapse_tuner.docx?d=w74481c7e893e42b4b4782709409f4ed7&csf=1&web=1&e=yJlDvh\n",
        "\n",
        "(1) be able to automatically tune Ben's synapses to match the in vivo data from the word doc (bullet #4.fig1.)\n",
        "\n",
        "(2) replace the postsynaptic cell model with the L5 Cell (details under bullet #2)\n",
        "\n",
        "(3) tune synaptic weight (initW) to match the experimental data's distribution of post-synaptic current magnitudes by region, type (#4.fig2.). To do so, implement gathering across segments of that region.\n",
        "\n",
        "(4) tune Ziao's synapses to match the in-vivo data (#1,3)\n",
        "\n",
        "(5) understand the differences between Ziao's synapses and Ben's synapses"
      ]
    },
    {
      "cell_type": "markdown",
      "metadata": {
        "id": "vQIfiDZWQ1CH"
      },
      "source": [
        "## Pre-processing\n",
        "\n",
        "Cloning repos\n",
        "\n",
        "Moving modfiles\n",
        "\n",
        "Compiling modfiles\n",
        "\n",
        "Changing directory\n"
      ]
    },
    {
      "cell_type": "code",
      "execution_count": 1,
      "metadata": {
        "colab": {
          "base_uri": "https://localhost:8080/"
        },
        "id": "s3rwFXv4njeH",
        "outputId": "cd083d5d-226b-4a74-80ca-200798a5aff3"
      },
      "outputs": [
        {
          "output_type": "stream",
          "name": "stdout",
          "text": [
            "Collecting neuron\n",
            "  Downloading NEURON-8.2.6-cp311-cp311-manylinux_2_17_x86_64.manylinux2014_x86_64.whl.metadata (3.7 kB)\n",
            "Requirement already satisfied: numpy<2,>=1.9.3 in /usr/local/lib/python3.11/dist-packages (from neuron) (1.26.4)\n",
            "Requirement already satisfied: packaging in /usr/local/lib/python3.11/dist-packages (from neuron) (24.2)\n",
            "Collecting find-libpython (from neuron)\n",
            "  Downloading find_libpython-0.4.0-py3-none-any.whl.metadata (2.8 kB)\n",
            "Requirement already satisfied: setuptools in /usr/local/lib/python3.11/dist-packages (from neuron) (75.1.0)\n",
            "Downloading NEURON-8.2.6-cp311-cp311-manylinux_2_17_x86_64.manylinux2014_x86_64.whl (15.2 MB)\n",
            "\u001b[2K   \u001b[90m━━━━━━━━━━━━━━━━━━━━━━━━━━━━━━━━━━━━━━━━\u001b[0m \u001b[32m15.2/15.2 MB\u001b[0m \u001b[31m20.6 MB/s\u001b[0m eta \u001b[36m0:00:00\u001b[0m\n",
            "\u001b[?25hDownloading find_libpython-0.4.0-py3-none-any.whl (8.7 kB)\n",
            "Installing collected packages: find-libpython, neuron\n",
            "Successfully installed find-libpython-0.4.0 neuron-8.2.6\n"
          ]
        }
      ],
      "source": [
        "!pip install neuron\n",
        "# !pip install bmtool # don't install to use the forked repo"
      ]
    },
    {
      "cell_type": "code",
      "source": [
        "import neuron\n",
        "from neuron import h"
      ],
      "metadata": {
        "id": "EZfcO90lfeQM"
      },
      "execution_count": 2,
      "outputs": []
    },
    {
      "cell_type": "code",
      "execution_count": 3,
      "metadata": {
        "colab": {
          "base_uri": "https://localhost:8080/"
        },
        "id": "NeGFbktprsTh",
        "outputId": "f509ef3d-eaa4-46db-9edf-092eb7b97415"
      },
      "outputs": [
        {
          "output_type": "stream",
          "name": "stdout",
          "text": [
            "Cloning into 'Neural-Modeling'...\n",
            "remote: Enumerating objects: 5063, done.\u001b[K\n",
            "remote: Counting objects: 100% (2115/2115), done.\u001b[K\n",
            "remote: Compressing objects: 100% (810/810), done.\u001b[K\n",
            "remote: Total 5063 (delta 1459), reused 1898 (delta 1292), pack-reused 2948 (from 1)\u001b[K\n",
            "Receiving objects: 100% (5063/5063), 54.27 MiB | 10.04 MiB/s, done.\n",
            "Resolving deltas: 100% (3417/3417), done.\n"
          ]
        }
      ],
      "source": [
        "# clone the other repo for its modfiles\n",
        "!git clone https://github.com/davidfague/Neural-Modeling.git"
      ]
    },
    {
      "cell_type": "code",
      "execution_count": 4,
      "metadata": {
        "colab": {
          "base_uri": "https://localhost:8080/"
        },
        "id": "T2FmcyGYrtIU",
        "outputId": "47057ffc-302d-4bbb-92f4-65df7c44cbc2"
      },
      "outputs": [
        {
          "output_type": "stream",
          "name": "stdout",
          "text": [
            "Cloning into 'bmtool'...\n",
            "remote: Enumerating objects: 1848, done.\u001b[K\n",
            "remote: Counting objects: 100% (323/323), done.\u001b[K\n",
            "remote: Compressing objects: 100% (190/190), done.\u001b[K\n",
            "remote: Total 1848 (delta 175), reused 242 (delta 130), pack-reused 1525 (from 1)\u001b[K\n",
            "Receiving objects: 100% (1848/1848), 12.76 MiB | 15.17 MiB/s, done.\n",
            "Resolving deltas: 100% (1151/1151), done.\n"
          ]
        }
      ],
      "source": [
        "# clone the forked repo\n",
        "!git clone https://github.com/davidfague/bmtool.git"
      ]
    },
    {
      "cell_type": "code",
      "execution_count": 5,
      "metadata": {
        "id": "c7zPPIwoqV6i"
      },
      "outputs": [],
      "source": [
        "# move the modfiles from the other repo\n",
        "# https://github.com/davidfague/Neural-Modeling/tree/cleanup2/modfiles/hay -> /content/bmtool/examples/synapses\n",
        "\n",
        "!mv Neural-Modeling/modfiles/hay/* /content/bmtool/examples/synapses/modfiles/"
      ]
    },
    {
      "cell_type": "code",
      "execution_count": 6,
      "metadata": {
        "id": "MkbOcPXsw-RJ"
      },
      "outputs": [],
      "source": [
        "import os\n",
        "os.chdir('/content/bmtool/examples/synapses')"
      ]
    },
    {
      "cell_type": "code",
      "execution_count": 7,
      "metadata": {
        "id": "PIUidJgT4Y4_"
      },
      "outputs": [],
      "source": [
        "import sys\n",
        "sys.path.append('../../bmtool/')"
      ]
    },
    {
      "cell_type": "code",
      "execution_count": 8,
      "metadata": {
        "id": "wwD1Cv2e4fTP"
      },
      "outputs": [],
      "source": [
        "import bmtool"
      ]
    },
    {
      "cell_type": "code",
      "execution_count": 9,
      "metadata": {
        "id": "gY4HP287w8BR"
      },
      "outputs": [],
      "source": [
        "# having 2 h.vecstim objects seems to give an error & removing one of these seemed to fix\n",
        "# !rm modfiles/vecevent_coreneuron.mod # keep this one assuming it is faster or more optimized or a later version that encompasses the other\n",
        "!rm modfiles/vecevent.mod"
      ]
    },
    {
      "cell_type": "code",
      "execution_count": 10,
      "metadata": {
        "id": "wNwlWNINl7DB",
        "colab": {
          "base_uri": "https://localhost:8080/"
        },
        "outputId": "152fcee1-ea70-4d9e-8423-ded04aa8daf6"
      },
      "outputs": [
        {
          "output_type": "stream",
          "name": "stdout",
          "text": [
            "0\n"
          ]
        }
      ],
      "source": [
        "# if already compiled then lets delete the folder and force a recompile\n",
        "if os.path.isdir('modfiles/x86_64'):\n",
        "    os.system(\"rm -rf modfiles/x86_64 \")\n",
        "# compile the mod files\n",
        "if not os.path.isdir(\"modfiles/x86_64\"):\n",
        "    os.chdir('modfiles')\n",
        "    print(os.system(\"nrnivmodl\"))\n",
        "    os.chdir(\"..\")\n"
      ]
    },
    {
      "cell_type": "code",
      "source": [
        "!nrnivmodl modfiles/"
      ],
      "metadata": {
        "colab": {
          "base_uri": "https://localhost:8080/"
        },
        "id": "goBp8wdxj1Q-",
        "outputId": "389bec05-055d-4b6c-eedc-0eb17f4f52f1"
      },
      "execution_count": 11,
      "outputs": [
        {
          "output_type": "stream",
          "name": "stdout",
          "text": [
            "/usr/local/bin/nrnivmodl:10: DeprecationWarning: pkg_resources is deprecated as an API. See https://setuptools.pypa.io/en/latest/pkg_resources.html\n",
            "  from pkg_resources import working_set\n",
            "/content/bmtool/examples/synapses\n",
            "Mod files: \"modfiles/modfiles//AMPA_NMDA.mod\" \"modfiles/modfiles//AMPA_NMDA_STP_LTP.mod\" \"modfiles/modfiles//AMPA_NMDA_STP.mod\" \"modfiles/modfiles//cadad.mod\" \"modfiles/modfiles//CaDynamics_E2.mod\" \"modfiles/modfiles//Ca_HVA.mod\" \"modfiles/modfiles//cal2.mod\" \"modfiles/modfiles//Ca_LVAst.mod\" \"modfiles/modfiles//can_mig.mod\" \"modfiles/modfiles//epsp.mod\" \"modfiles/modfiles//exp2syn_stp.mod\" \"modfiles/modfiles//GABA_AB.mod\" \"modfiles/modfiles//GABA_AB_STP.mod\" \"modfiles/modfiles//GABA_A_STP.mod\" \"modfiles/modfiles//gap.mod\" \"modfiles/modfiles//Gfluct.mod\" \"modfiles/modfiles//h_kole.mod\" \"modfiles/modfiles//Ih.mod\" \"modfiles/modfiles//imCA3.mod\" \"modfiles/modfiles//Im.mod\" \"modfiles/modfiles//int2pyr.mod\" \"modfiles/modfiles//kap_BS.mod\" \"modfiles/modfiles//kBK.mod\" \"modfiles/modfiles//kdmc_BS.mod\" \"modfiles/modfiles//kdr_BS.mod\" \"modfiles/modfiles//kdrCA3.mod\" \"modfiles/modfiles//kdrinter.mod\" \"modfiles/modfiles//K_Pst.mod\" \"modfiles/modfiles//K_Tst.mod\" \"modfiles/modfiles//leak.mod\" \"modfiles/modfiles//nainter.mod\" \"modfiles/modfiles//napCA3.mod\" \"modfiles/modfiles//Nap_Et2.mod\" \"modfiles/modfiles//NaTa_t.mod\" \"modfiles/modfiles//natCA3.mod\" \"modfiles/modfiles//NaTs2_t.mod\" \"modfiles/modfiles//nax_BS.mod\" \"modfiles/modfiles//pyr2pyr.mod\" \"modfiles/modfiles//pyr2pyrSUM.mod\" \"modfiles/modfiles//SK_E2.mod\" \"modfiles/modfiles//SKv3_1.mod\" \"modfiles/modfiles//vecevent_coreneuron.mod\"\n",
            "\n",
            "Creating 'x86_64' directory for .o files.\n",
            "\n",
            " -> \u001b[32mCompiling\u001b[0m mod_func.cpp\n",
            " -> \u001b[32mNMODL\u001b[0m ../modfiles//AMPA_NMDA.mod\n",
            " -> \u001b[32mNMODL\u001b[0m ../modfiles//AMPA_NMDA_STP_LTP.mod\n",
            "Translating AMPA_NMDA.mod into /content/bmtool/examples/synapses/x86_64/AMPA_NMDA.c\n",
            "Translating AMPA_NMDA_STP_LTP.mod into /content/bmtool/examples/synapses/x86_64/AMPA_NMDA_STP_LTP.c\n",
            " -> \u001b[32mNMODL\u001b[0m ../modfiles//AMPA_NMDA_STP.mod\n",
            "Thread Safe\n",
            "Thread Safe\n",
            " -> \u001b[32mNMODL\u001b[0m ../modfiles//cadad.mod\n",
            " -> \u001b[32mNMODL\u001b[0m ../modfiles//CaDynamics_E2.mod\n",
            "Translating AMPA_NMDA_STP.mod into /content/bmtool/examples/synapses/x86_64/AMPA_NMDA_STP.c\n",
            "Translating cadad.mod into /content/bmtool/examples/synapses/x86_64/cadad.c\n",
            "Thread Safe\n",
            " -> \u001b[32mNMODL\u001b[0m ../modfiles//Ca_HVA.mod\n",
            "Translating CaDynamics_E2.mod into /content/bmtool/examples/synapses/x86_64/CaDynamics_E2.c\n",
            "Thread Safe\n",
            "Thread Safe\n",
            " -> \u001b[32mNMODL\u001b[0m ../modfiles//cal2.mod\n",
            "Translating Ca_HVA.mod into /content/bmtool/examples/synapses/x86_64/Ca_HVA.c\n",
            "Thread Safe\n",
            " -> \u001b[32mNMODL\u001b[0m ../modfiles//Ca_LVAst.mod\n",
            "Translating cal2.mod into /content/bmtool/examples/synapses/x86_64/cal2.c\n",
            "Warning: Default 2 of PARAMETER cao will be ignored and set by NEURON.\n",
            "Warning: Default 5e-05 of PARAMETER cai will be ignored and set by NEURON.\n",
            "Thread Safe\n",
            " -> \u001b[32mNMODL\u001b[0m ../modfiles//can_mig.mod\n",
            " -> \u001b[32mNMODL\u001b[0m ../modfiles//epsp.mod\n",
            "Translating can_mig.mod into /content/bmtool/examples/synapses/x86_64/can_mig.c\n",
            "Warning: Default 2 of PARAMETER cao will be ignored and set by NEURON.\n",
            "Warning: Default 5e-05 of PARAMETER cai will be ignored and set by NEURON.\n",
            "Thread Safe\n",
            "Translating Ca_LVAst.mod into /content/bmtool/examples/synapses/x86_64/Ca_LVAst.c\n",
            "Translating epsp.mod into /content/bmtool/examples/synapses/x86_64/epsp.c\n",
            "Thread Safe\n",
            " -> \u001b[32mNMODL\u001b[0m ../modfiles//exp2syn_stp.mod\n",
            "Thread Safe\n",
            " -> \u001b[32mNMODL\u001b[0m ../modfiles//GABA_AB.mod\n",
            "Translating exp2syn_stp.mod into /content/bmtool/examples/synapses/x86_64/exp2syn_stp.c\n",
            "Thread Safe\n",
            " -> \u001b[32mNMODL\u001b[0m ../modfiles//GABA_AB_STP.mod\n",
            "Translating GABA_AB.mod into /content/bmtool/examples/synapses/x86_64/GABA_AB.c\n",
            "Thread Safe\n",
            " -> \u001b[32mNMODL\u001b[0m ../modfiles//GABA_A_STP.mod\n",
            "Translating GABA_AB_STP.mod into /content/bmtool/examples/synapses/x86_64/GABA_AB_STP.c\n",
            " -> \u001b[32mNMODL\u001b[0m ../modfiles//gap.mod\n",
            "Thread Safe\n",
            "Translating GABA_A_STP.mod into /content/bmtool/examples/synapses/x86_64/GABA_A_STP.c\n",
            " -> \u001b[32mNMODL\u001b[0m ../modfiles//Gfluct.mod\n",
            "Thread Safe\n",
            "Translating gap.mod into /content/bmtool/examples/synapses/x86_64/gap.c\n",
            "Thread Safe\n",
            " -> \u001b[32mNMODL\u001b[0m ../modfiles//h_kole.mod\n",
            "Translating Gfluct.mod into /content/bmtool/examples/synapses/x86_64/Gfluct.c\n",
            " -> \u001b[32mNMODL\u001b[0m ../modfiles//Ih.mod\n",
            "Notice: This mechanism cannot be used with CVODE\n",
            "Thread Safe\n",
            "Translating h_kole.mod into /content/bmtool/examples/synapses/x86_64/h_kole.c\n",
            "Thread Safe\n",
            "Translating Ih.mod into /content/bmtool/examples/synapses/x86_64/Ih.c\n",
            " -> \u001b[32mNMODL\u001b[0m ../modfiles//imCA3.mod\n",
            " -> \u001b[32mNMODL\u001b[0m ../modfiles//Im.mod\n",
            "Translating imCA3.mod into /content/bmtool/examples/synapses/x86_64/imCA3.c\n",
            "Thread Safe\n",
            " -> \u001b[32mNMODL\u001b[0m ../modfiles//int2pyr.mod\n",
            "Thread Safe\n",
            "Translating int2pyr.mod into /content/bmtool/examples/synapses/x86_64/int2pyr.c\n",
            " -> \u001b[32mNMODL\u001b[0m ../modfiles//kap_BS.mod\n",
            "Translating Im.mod into /content/bmtool/examples/synapses/x86_64/Im.c\n",
            "Thread Safe\n",
            "Translating kap_BS.mod into /content/bmtool/examples/synapses/x86_64/kap_BS.c\n",
            "WARNING: Dimensions may be wrong for READ ica with POINT_PROCESS\n",
            "WARNING: Dimensions may be wrong for READ ica with POINT_PROCESS\n",
            "Thread Safe\n",
            "WARNING: Dimensions may be wrong for READ ica with POINT_PROCESS\n",
            "WARNING: Dimensions may be wrong for READ ica with POINT_PROCESS\n",
            "WARNING: Dimensions may be wrong for READ ica with POINT_PROCESS\n",
            "Thread Safe\n",
            " -> \u001b[32mNMODL\u001b[0m ../modfiles//kBK.mod\n",
            " -> \u001b[32mNMODL\u001b[0m ../modfiles//kdmc_BS.mod\n",
            " -> \u001b[32mNMODL\u001b[0m ../modfiles//kdr_BS.mod\n",
            "Translating kBK.mod into /content/bmtool/examples/synapses/x86_64/kBK.c\n",
            "Translating kdmc_BS.mod into /content/bmtool/examples/synapses/x86_64/kdmc_BS.c\n",
            "Thread Safe\n",
            "Thread Safe\n",
            "Translating kdr_BS.mod into /content/bmtool/examples/synapses/x86_64/kdr_BS.c\n",
            " -> \u001b[32mNMODL\u001b[0m ../modfiles//kdrCA3.mod\n",
            " -> \u001b[32mNMODL\u001b[0m ../modfiles//kdrinter.mod\n",
            "Thread Safe\n",
            " -> \u001b[32mNMODL\u001b[0m ../modfiles//K_Pst.mod\n",
            "Translating kdrinter.mod into /content/bmtool/examples/synapses/x86_64/kdrinter.c\n",
            "Translating kdrCA3.mod into /content/bmtool/examples/synapses/x86_64/kdrCA3.c\n",
            "Warning: Default -80 of PARAMETER ek will be ignored and set by NEURON.\n",
            "Thread Safe\n",
            " -> \u001b[32mNMODL\u001b[0m ../modfiles//K_Tst.mod\n",
            "Thread Safe\n",
            " -> \u001b[32mNMODL\u001b[0m ../modfiles//leak.mod\n",
            "Translating K_Pst.mod into /content/bmtool/examples/synapses/x86_64/K_Pst.c\n",
            "Translating K_Tst.mod into /content/bmtool/examples/synapses/x86_64/K_Tst.c\n",
            "Thread Safe\n",
            " -> \u001b[32mNMODL\u001b[0m ../modfiles//nainter.mod\n",
            "Thread Safe\n",
            " -> \u001b[32mNMODL\u001b[0m ../modfiles//napCA3.mod\n",
            "Translating leak.mod into /content/bmtool/examples/synapses/x86_64/leak.c\n",
            "Thread Safe\n",
            "Translating nainter.mod into /content/bmtool/examples/synapses/x86_64/nainter.c\n",
            "Warning: Default 45 of PARAMETER ena will be ignored and set by NEURON.\n",
            "Thread Safe\n",
            " -> \u001b[32mNMODL\u001b[0m ../modfiles//Nap_Et2.mod\n",
            " -> \u001b[32mNMODL\u001b[0m ../modfiles//NaTa_t.mod\n",
            "Translating napCA3.mod into /content/bmtool/examples/synapses/x86_64/napCA3.c\n",
            "Translating Nap_Et2.mod into /content/bmtool/examples/synapses/x86_64/Nap_Et2.c\n",
            "Thread Safe\n",
            " -> \u001b[32mNMODL\u001b[0m ../modfiles//natCA3.mod\n",
            "Thread Safe\n",
            " -> \u001b[32mNMODL\u001b[0m ../modfiles//NaTs2_t.mod\n",
            "Translating NaTa_t.mod into /content/bmtool/examples/synapses/x86_64/NaTa_t.c\n",
            "Translating natCA3.mod into /content/bmtool/examples/synapses/x86_64/natCA3.c\n",
            "Thread Safe\n",
            " -> \u001b[32mNMODL\u001b[0m ../modfiles//nax_BS.mod\n",
            "Thread Safe\n",
            " -> \u001b[32mNMODL\u001b[0m ../modfiles//pyr2pyr.mod\n",
            "Translating NaTs2_t.mod into /content/bmtool/examples/synapses/x86_64/NaTs2_t.c\n",
            "Translating nax_BS.mod into /content/bmtool/examples/synapses/x86_64/nax_BS.c\n",
            " -> \u001b[32mNMODL\u001b[0m ../modfiles//pyr2pyrSUM.mod\n",
            "Thread Safe\n",
            "Thread Safe\n",
            "Translating pyr2pyr.mod into /content/bmtool/examples/synapses/x86_64/pyr2pyr.c\n",
            "Translating pyr2pyrSUM.mod into /content/bmtool/examples/synapses/x86_64/pyr2pyrSUM.c\n",
            " -> \u001b[32mNMODL\u001b[0m ../modfiles//SK_E2.mod\n",
            " -> \u001b[32mNMODL\u001b[0m ../modfiles//SKv3_1.mod\n",
            "Thread Safe\n",
            "Thread Safe\n",
            "Translating SK_E2.mod into /content/bmtool/examples/synapses/x86_64/SK_E2.c\n",
            " -> \u001b[32mNMODL\u001b[0m ../modfiles//vecevent_coreneuron.mod\n",
            "Thread Safe\n",
            " -> \u001b[32mCompiling\u001b[0m AMPA_NMDA.c\n",
            "Translating SKv3_1.mod into /content/bmtool/examples/synapses/x86_64/SKv3_1.c\n",
            "Thread Safe\n",
            "Translating vecevent_coreneuron.mod into /content/bmtool/examples/synapses/x86_64/vecevent_coreneuron.c\n",
            "Notice: ARTIFICIAL_CELL is a synonym for POINT_PROCESS which hints that it\n",
            "only affects and is affected by discrete events. As such it is not\n",
            "located in a section and is not associated with an integrator\n",
            "Thread Safe\n",
            " -> \u001b[32mCompiling\u001b[0m AMPA_NMDA_STP_LTP.c\n",
            " -> \u001b[32mCompiling\u001b[0m AMPA_NMDA_STP.c\n",
            " -> \u001b[32mCompiling\u001b[0m cadad.c\n",
            " -> \u001b[32mCompiling\u001b[0m CaDynamics_E2.c\n",
            " -> \u001b[32mCompiling\u001b[0m Ca_HVA.c\n",
            " -> \u001b[32mCompiling\u001b[0m cal2.c\n",
            " -> \u001b[32mCompiling\u001b[0m Ca_LVAst.c\n",
            " -> \u001b[32mCompiling\u001b[0m can_mig.c\n",
            " -> \u001b[32mCompiling\u001b[0m epsp.c\n",
            " -> \u001b[32mCompiling\u001b[0m exp2syn_stp.c\n",
            " -> \u001b[32mCompiling\u001b[0m GABA_AB.c\n",
            " -> \u001b[32mCompiling\u001b[0m GABA_AB_STP.c\n",
            " -> \u001b[32mCompiling\u001b[0m GABA_A_STP.c\n",
            " -> \u001b[32mCompiling\u001b[0m gap.c\n",
            " -> \u001b[32mCompiling\u001b[0m Gfluct.c\n",
            " -> \u001b[32mCompiling\u001b[0m h_kole.c\n",
            " -> \u001b[32mCompiling\u001b[0m Ih.c\n",
            " -> \u001b[32mCompiling\u001b[0m imCA3.c\n",
            " -> \u001b[32mCompiling\u001b[0m Im.c\n",
            " -> \u001b[32mCompiling\u001b[0m int2pyr.c\n",
            " -> \u001b[32mCompiling\u001b[0m kap_BS.c\n",
            " -> \u001b[32mCompiling\u001b[0m kBK.c\n",
            " -> \u001b[32mCompiling\u001b[0m kdmc_BS.c\n",
            " -> \u001b[32mCompiling\u001b[0m kdr_BS.c\n",
            " -> \u001b[32mCompiling\u001b[0m kdrCA3.c\n",
            " -> \u001b[32mCompiling\u001b[0m kdrinter.c\n",
            " -> \u001b[32mCompiling\u001b[0m K_Pst.c\n",
            " -> \u001b[32mCompiling\u001b[0m K_Tst.c\n",
            " -> \u001b[32mCompiling\u001b[0m leak.c\n",
            " -> \u001b[32mCompiling\u001b[0m nainter.c\n",
            " -> \u001b[32mCompiling\u001b[0m napCA3.c\n",
            " -> \u001b[32mCompiling\u001b[0m Nap_Et2.c\n",
            " -> \u001b[32mCompiling\u001b[0m NaTa_t.c\n",
            " -> \u001b[32mCompiling\u001b[0m natCA3.c\n",
            " -> \u001b[32mCompiling\u001b[0m NaTs2_t.c\n",
            " -> \u001b[32mCompiling\u001b[0m nax_BS.c\n",
            " -> \u001b[32mCompiling\u001b[0m pyr2pyr.c\n",
            " -> \u001b[32mCompiling\u001b[0m pyr2pyrSUM.c\n",
            " -> \u001b[32mCompiling\u001b[0m SK_E2.c\n",
            " -> \u001b[32mCompiling\u001b[0m SKv3_1.c\n",
            " -> \u001b[32mCompiling\u001b[0m vecevent_coreneuron.c\n",
            " => \u001b[32mLINKING\u001b[0m shared library ./libnrnmech.so\n",
            " => \u001b[32mLINKING\u001b[0m executable ./special LDFLAGS are:    -pthread\n",
            "Successfully created x86_64/special\n"
          ]
        }
      ]
    },
    {
      "cell_type": "markdown",
      "metadata": {
        "id": "ippWDaWjIDhr"
      },
      "source": [
        "## Synapse definitions\n",
        "\n",
        "synapse types and parameter defaults"
      ]
    },
    {
      "cell_type": "code",
      "execution_count": 12,
      "metadata": {
        "id": "tCpyvB0TpbVa"
      },
      "outputs": [],
      "source": [
        "general_settings = {\n",
        "    'vclamp': True, # if vclamp should start on or off used mostly for singleEventv\n",
        "    'rise_interval': (0.1, 0.9), #10-90%\n",
        "    'tstart': 500., # when the singleEvent should start\n",
        "    'tdur': 100.,    # Dur of sim after single synaptic event has occured\n",
        "    'threshold': -15., #threshold for spike in mV\n",
        "    'delay': 1.3, # netcon delay\n",
        "    'weight': 1., # netcon weight\n",
        "    'dt': 0.025, #0.025, # simulation dt (ms)\n",
        "    'celsius': 20 # temp of sim\n",
        "}\n",
        "\n",
        "conn_type_settings = {\n",
        "    'blank': {\n",
        "        'spec_settings': {\n",
        "\n",
        "        },\n",
        "        'spec_syn_param': {\n",
        "\n",
        "        }\n",
        "    },\n",
        "    # -------------- Ziao Synapses --------------\n",
        "        'LTS': { # inhibitory perisomatic\n",
        "        'spec_settings': {\n",
        "            'post_cell': 'FSI_Cell',\n",
        "            'vclamp_amp' : -70.,\n",
        "            'sec_x': 0.5,\n",
        "            'sec_id': 1,\n",
        "            \"level_of_detail\": \"GABA_AB_STP\",\n",
        "        },\n",
        "        'spec_syn_param': {\n",
        "                'e_GABAA': -75.0,#-90.,\n",
        "              'Use': 0.3,\n",
        "              'Dep': 25.,\n",
        "              'Fac': 100.\n",
        "        }\n",
        "    },\n",
        "    'FSI': { # inhibitory perisomatic\n",
        "        'spec_settings': {\n",
        "            'post_cell': 'FSI_Cell',\n",
        "            'vclamp_amp' : -70.,\n",
        "            'sec_x': 0.5,\n",
        "            'sec_id': 1,\n",
        "            \"level_of_detail\": \"GABA_AB_STP\",\n",
        "        },\n",
        "        'spec_syn_param': {\n",
        "                'e_GABAA': -75.0,#-90.,\n",
        "                'Use': 0.3,\n",
        "                'Dep': 400.,\n",
        "                'Fac': 0.\n",
        "        }\n",
        "    },\n",
        "    'CS2CP': { # excitatory choice\n",
        "        'spec_settings': {\n",
        "                                   'post_cell': 'FSI_Cell',\n",
        "            'vclamp_amp' : -70.,\n",
        "            'sec_x': 0.5,\n",
        "            'sec_id': 1,\n",
        "            \"level_of_detail\": \"AMPA_NMDA_STP\",\n",
        "        },\n",
        "        'spec_syn_param': {\n",
        "              'tau_d_AMPA': 5.2,\n",
        "              'Use': 0.41,\n",
        "              'Dep': 532.,\n",
        "              'Fac': 65.\n",
        "        }\n",
        "    },\n",
        "    'CP2CP': { # excitatory choice\n",
        "        'spec_settings': {\n",
        "                                   'post_cell': 'FSI_Cell',\n",
        "            'vclamp_amp' : -70.,\n",
        "            'sec_x': 0.5,\n",
        "            'sec_id': 1,\n",
        "            \"level_of_detail\": \"AMPA_NMDA_STP\",\n",
        "        },\n",
        "        'spec_syn_param': {\n",
        "                'tau_d_AMPA': 5.2,\n",
        "                'Use': 0.37,\n",
        "                'Dep': 31.7,\n",
        "                'Fac': 519.\n",
        "        }\n",
        "    },\n",
        "    # -------------- BEN SYNAPSES --------------\n",
        "    'PN2PN': { # exc\n",
        "        'spec_settings': {\n",
        "                        'post_cell': 'FSI_Cell',\n",
        "            'vclamp_amp' : -70.,\n",
        "            'sec_x': 0.5,\n",
        "            'sec_id': 1,\n",
        "            \"level_of_detail\": \"pyr2pyrSUM\",\n",
        "        },\n",
        "        'spec_syn_param': {\n",
        "                \"AlphaTmax_ampa\": 5,\n",
        "                \"Beta_ampa\": 0.5882,\n",
        "                \"Cdur_ampa\": .2,\n",
        "                \"gbar_ampa\": 0.001,\n",
        "                \"Erev_ampa\": 0,\n",
        "                \"AlphaTmax_nmda\": 3.4483,\n",
        "                \"Beta_nmda\": 0.0233,\n",
        "                \"Cdur_nmda\": 0.29,\n",
        "                \"gbar_nmda\": 0.0005,\n",
        "                \"Erev_nmda\": 0,\n",
        "                \"initW\": 5,\n",
        "                # \"delay\": 0.9,\n",
        "                \"tauD1\": 35,\n",
        "                \"d1\": 0.95,\n",
        "                \"tauD2\": 250,\n",
        "                \"d2\": 0.8,\n",
        "                \"tauF\": 1,\n",
        "                \"f\": 1\n",
        "        }\n",
        "    },\n",
        "    'PV2PN': { # inhibitory perisomatic\n",
        "        'spec_settings': {\n",
        "            'post_cell': 'FSI_Cell',\n",
        "            'vclamp_amp' : -70.,\n",
        "            'sec_x': 0.5,\n",
        "            'sec_id': 1,\n",
        "            \"level_of_detail\": \"int2pyr\",\n",
        "        },\n",
        "        'spec_syn_param' : {\n",
        "            \"AlphaTmax_gaba\": 1.52,\n",
        "            \"Beta_gaba\": 0.14,\n",
        "            \"Cdur_gaba\": 0.7254,\n",
        "            \"gbar_gaba\": 1,\n",
        "            \"Erev_gaba\": -75,\n",
        "            \"initW\": 1,\n",
        "            \"Wmax\": 3,\n",
        "            \"Wmin\": 0.25,\n",
        "            # \"delay\": 2,\n",
        "            # \"con_pattern\": 1,\n",
        "            \"lambda1\": 1,\n",
        "            \"lambda2\": 0.01,\n",
        "            \"threshold1\": 0.5,\n",
        "            \"threshold2\": 0.6,\n",
        "            \"tauD1\": 40,\n",
        "            \"d1\": 0.7,\n",
        "            \"tauD2\": 500,\n",
        "            \"d2\": 0.7,\n",
        "            \"tauF\": 1,\n",
        "            \"f\": 1\n",
        "        }\n",
        "    },\n",
        "    'SOM2PN': { # inh dendritic\n",
        "        'spec_settings': {\n",
        "            'post_cell': 'FSI_Cell',\n",
        "            'vclamp_amp' : -70.,\n",
        "            'sec_x': 0.5,\n",
        "            'sec_id': 1,\n",
        "            \"level_of_detail\": \"int2pyr\",\n",
        "        },\n",
        "        'spec_syn_param': {\n",
        "            \"AlphaTmax_gaba\": 1.52,\n",
        "            \"Beta_gaba\": 0.14,\n",
        "            \"Cdur_gaba\": 0.7254,\n",
        "            \"gbar_gaba\": 0.006,\n",
        "            \"Erev_gaba\": -75,\n",
        "            \"initW\": 1,\n",
        "            \"Wmax\": 3,\n",
        "            \"Wmin\": 0.25,\n",
        "            # \"delay\": 2,\n",
        "            # \"con_pattern\": 1,\n",
        "            \"lambda1\": 1,\n",
        "            \"lambda2\": 0.01,\n",
        "            \"threshold1\": 0.5,\n",
        "            \"threshold2\": 0.6,\n",
        "            \"tauD1\": 200,\n",
        "            \"d1\": 0.8,\n",
        "            \"tauD2\": 1,\n",
        "            \"d2\": 1,\n",
        "            \"tauF\": 1,\n",
        "            \"f\": 1\n",
        "        }\n",
        "    },\n",
        "    # --------------- Greg's -----------------------\n",
        "    'Fac2FSI': { # facilitating synapse\n",
        "        'spec_settings': {\n",
        "            'post_cell': 'FSI_Cell',\n",
        "            'vclamp_amp' : -70.,\n",
        "            'sec_x': 0.5,\n",
        "            'sec_id': 1,\n",
        "            \"level_of_detail\": \"AMPA_NMDA_STP\",\n",
        "        },\n",
        "        'spec_syn_param': {\n",
        "            'initW': 0.76,\n",
        "            'tau_r_AMPA': 0.45,\n",
        "            'tau_d_AMPA': 7.5,\n",
        "            'Use': 0.13,\n",
        "            'Dep': 0.,\n",
        "            'Fac': 200.\n",
        "        },\n",
        "    },\n",
        "    'Dep2FSI': { # depressing synapse\n",
        "        'spec_settings': {\n",
        "            'post_cell': 'FSI_Cell',\n",
        "            'vclamp_amp': -55,\n",
        "            'sec_x': 0.5,\n",
        "            'sec_id':0,\n",
        "            \"level_of_detail\": \"GABA_A_STP\",\n",
        "        },\n",
        "        'spec_syn_param': {\n",
        "            'initW': 20,\n",
        "            'tau_r_GABAA': 0.9,\n",
        "            'tau_d_GABAA': 15,\n",
        "            'e_GABAA':-75,\n",
        "            'Use': 0.4,\n",
        "            'Dep': 190.,\n",
        "            'Fac': 0.\n",
        "        },\n",
        "    },\n",
        "\n",
        "}"
      ]
    },
    {
      "cell_type": "code",
      "execution_count": 13,
      "metadata": {
        "id": "W7y3WE-6zF4v"
      },
      "outputs": [],
      "source": [
        "# connection = 'PN2PN'\n",
        "\n",
        "# # sliders_to_use = ['initW','Dep','Fac','Use','tau_r_AMPA','tau_d_AMPA'] # greg\n",
        "# sliders_to_use = ['initW',   'facfactor','f','F']#,'facfactor','P0g', 'fCag', 'lambda1', 'lambda2', 'threshold1', 'threshold2', 'tauCa', 'k', 'fmax', 'fmin']\n",
        "\n",
        "# current_name = 'inmda' #'i'\n",
        "# # NOTE sum iampa, inmda\n",
        "# #igaba for int2pyr\n",
        "# #inmda, iampa for pyrpyr\n",
        "# #probably i_NMDA, i_AMPA for AMPA_NMDA_STP\n",
        "# # probably i_GABA for GABA_AB_STP\n",
        "\n",
        "# other_vars_to_record = []"
      ]
    },
    {
      "cell_type": "markdown",
      "source": [
        "## replacing the FSI_Cell with L5PCtemplate cell"
      ],
      "metadata": {
        "id": "a0_76eQ0Fsg_"
      }
    },
    {
      "cell_type": "code",
      "execution_count": 14,
      "metadata": {
        "id": "_bKuzSxs49Aa"
      },
      "outputs": [],
      "source": [
        "# sys.path.append(\"/content/bmtool/bmtool/\")\n",
        "sys.path.append(\"/content/bmtool/bmtool/util/synapses.py\")"
      ]
    },
    {
      "cell_type": "code",
      "source": [
        "# !nrnivmodl modfiles"
      ],
      "metadata": {
        "id": "gwIZT9rW1rLd"
      },
      "execution_count": 15,
      "outputs": []
    },
    {
      "cell_type": "code",
      "source": [
        "# %ls x86_64/"
      ],
      "metadata": {
        "id": "gIjtDJMT1xRt"
      },
      "execution_count": 16,
      "outputs": []
    },
    {
      "cell_type": "code",
      "source": [
        "# %ls modfiles/x86_64/"
      ],
      "metadata": {
        "id": "sS95EWs806QI"
      },
      "execution_count": 17,
      "outputs": []
    },
    {
      "cell_type": "code",
      "source": [
        "# h.nrn_load_dll('modfiles/x86_64/')"
      ],
      "metadata": {
        "id": "gbcw6l2e3BBZ"
      },
      "execution_count": 18,
      "outputs": []
    },
    {
      "cell_type": "code",
      "source": [
        "neuron.load_mechanisms('modfiles/')"
      ],
      "metadata": {
        "colab": {
          "base_uri": "https://localhost:8080/"
        },
        "id": "RLKVyV2M4IUP",
        "outputId": "f516ec51-f79b-42b0-d1b9-b4348ac1c39d"
      },
      "execution_count": 19,
      "outputs": [
        {
          "output_type": "execute_result",
          "data": {
            "text/plain": [
              "True"
            ]
          },
          "metadata": {},
          "execution_count": 19
        }
      ]
    },
    {
      "cell_type": "code",
      "source": [
        "use_hay_cell = True # overwrite the target cell\n",
        "if use_hay_cell:\n",
        "    for cell_type,items in conn_type_settings.items():\n",
        "        conn_type_settings[cell_type]['spec_settings']['post_cell'] = 'L5PCtemplate'\n",
        "\n",
        "    # hoc_files_to_load = ['stdrun.hoc', \"../../../Neural-Modeling/cells/templates/L5PCbiophys3.hoc\", 'import3d.hoc', \"../../../Neural-Modeling/cells/templates/L5PCtemplate.hoc\"]\n",
        "\n",
        "    # needed for h.load_file(\"import3d.hoc\")\n",
        "    h.load_file('stdrun.hoc')\n",
        "\n",
        "    # load procedure L5PCbiophys() for distributing biophys in h.L5PCtemplate()\n",
        "    h.load_file(\"../../../Neural-Modeling/cells/templates/L5PCbiophys3.hoc\") # cannot be loaded without loading mechanisms first\n",
        "\n",
        "\t\t# # load needed procedure for importing 3d coordinates\n",
        "    h.load_file(\"import3d.hoc\")\n",
        "\n",
        "\t\t# # # Load h.L5PCtemplate()\n",
        "    h.load_file(\"../../../Neural-Modeling/cells/templates/L5PCtemplateMediumRes.hoc\") # load template that gets biophys and establishes sectioning\n",
        "    # called 'MediumRes' because semgentation is reverted back to original\n",
        "\n",
        "    # path to 3d coords file that will be passed to \"cell = h.L5PCtemplate(template_arg)\" in SynapseTuner.set_up_cell(self)\n",
        "    template_arg = \"../../../Neural-Modeling/cells/templates/cell1.asc\" # contains 3d coordinates\n",
        "else:\n",
        "    template_arg=None\n",
        "    hoc_files_to_load = None"
      ],
      "metadata": {
        "id": "GUBjhtGz0E3d"
      },
      "execution_count": 20,
      "outputs": []
    },
    {
      "cell_type": "code",
      "source": [
        "!rm -rf x86_64\n",
        "!rm -rf modfiles/x86_64"
      ],
      "metadata": {
        "id": "1LTsCG6k50L2"
      },
      "execution_count": 21,
      "outputs": []
    },
    {
      "cell_type": "markdown",
      "metadata": {
        "id": "tJ0-mRWqIHI5"
      },
      "source": [
        "## Initialize Synaptic Tuners"
      ]
    },
    {
      "cell_type": "code",
      "execution_count": 22,
      "metadata": {
        "colab": {
          "base_uri": "https://localhost:8080/"
        },
        "id": "vuEHbXEEQXcs",
        "outputId": "6b466473-c548-41a6-a6ac-816e5c7dba24"
      },
      "outputs": [
        {
          "output_type": "stream",
          "name": "stdout",
          "text": [
            "NEURON mechanisms not found in modfiles.\n",
            "NEURON mechanisms not found in modfiles.\n",
            "NEURON mechanisms not found in modfiles.\n"
          ]
        }
      ],
      "source": [
        "def InitializeSysnapseTuner(connection, current_name='i', other_vars_to_record=[], sliders_to_use=['initW'], template_arg=template_arg):\n",
        "  from synapses import SynapseTuner\n",
        "  mechanisms_dir = 'modfiles'\n",
        "  templates_file = 'templates.hoc'\n",
        "\n",
        "  tuner = SynapseTuner(mechanisms_dir=mechanisms_dir, # where x86_64 is located\n",
        "                      templates_dir=templates_file, # where the neuron templates are located\n",
        "                      conn_type_settings=conn_type_settings, # dict of connection settings\n",
        "                      general_settings = general_settings, # dict of general settings\n",
        "                      connection = connection, # key in connection settings for which connection you want to tune\n",
        "                      #json_folder_path=json_folder_path, # If your network uses json files the path can be set to update the connection settings based on the keys and values in the json\n",
        "                      current_name = current_name, # name of current variable in synapase\n",
        "                      other_vars_to_record = other_vars_to_record, # Other synaptic variables you wish to record besides the normal ones\n",
        "                      slider_vars=sliders_to_use,\n",
        "                       template_arg=template_arg) # Range variables you want to tune to adjust synaptic response.\n",
        "  return tuner\n",
        "\n",
        "ben_synapses = True\n",
        "if ben_synapses:\n",
        "  tunerForEXC = InitializeSysnapseTuner(connection='PN2PN',\n",
        "                                      current_name ='i',\n",
        "                                      sliders_to_use=['initW', 'gbar_nmda','gbar_ampa'])\n",
        "  tunerForInhPerisomatic =  InitializeSysnapseTuner(connection='PV2PN',\n",
        "                                      current_name ='igaba',\n",
        "                                      sliders_to_use=['initW', 'gbar_gaba'])\n",
        "  tunerForInhDendritic =  InitializeSysnapseTuner(connection='SOM2PN',\n",
        "                                      current_name ='igaba',\n",
        "                                      sliders_to_use=['initW', 'gbar_gaba'])\n",
        "else: # ziao synapses\n",
        "  tunerForEXC = InitializeSysnapseTuner(connection='CS2CP',\n",
        "                                      current_name ='i',\n",
        "                                      sliders_to_use=['initW', 'tau_d_AMPA','Use','Dep','Fac'])\n",
        "  tunerForEXC2 = InitializeSysnapseTuner(connection='CP2CP',\n",
        "                                      current_name ='i',\n",
        "                                      sliders_to_use=['initW', 'tau_d_AMPA','Use','Dep','Fac'])\n",
        "  tunerForInhPerisomatic =  InitializeSysnapseTuner(connection='LTS',\n",
        "                                      current_name ='i',\n",
        "                                      sliders_to_use=['initW', 'tau_d_GABAA','Use','Dep','Fac'])\n",
        "  tunerForInhDendritic =  InitializeSysnapseTuner(connection='FSI',\n",
        "                                      current_name ='i',\n",
        "                                      sliders_to_use=['initW', 'tau_d_GABAA','Use','Dep','Fac'])"
      ]
    },
    {
      "cell_type": "code",
      "source": [
        "tunerForEXC"
      ],
      "metadata": {
        "colab": {
          "base_uri": "https://localhost:8080/"
        },
        "id": "ef6GqBga78oY",
        "outputId": "292b3d0a-4b95-447c-e584-b4d00a8407ca"
      },
      "execution_count": 23,
      "outputs": [
        {
          "output_type": "execute_result",
          "data": {
            "text/plain": [
              "<synapses.SynapseTuner at 0x7a90d62fa0d0>"
            ]
          },
          "metadata": {},
          "execution_count": 23
        }
      ]
    },
    {
      "cell_type": "code",
      "execution_count": 24,
      "metadata": {
        "id": "YD-GOo1XVEGH"
      },
      "outputs": [],
      "source": [
        "  synapses = {\n",
        "      'exc': tunerForEXC,\n",
        "      'inhPerisomatic': tunerForInhPerisomatic,\n",
        "      'inhDendritic': tunerForInhDendritic\n",
        "  }"
      ]
    },
    {
      "cell_type": "markdown",
      "metadata": {
        "id": "Z2EUHcU3WTmO"
      },
      "source": [
        "## Single event\n",
        "\n",
        "(1) run to initialize input to the tuners\n",
        "\n",
        "(2) check the mangitude of an individual post-synaptic-current (PSC)"
      ]
    },
    {
      "cell_type": "code",
      "source": [
        "# %ls"
      ],
      "metadata": {
        "id": "NnVpnImNhILe"
      },
      "execution_count": 25,
      "outputs": []
    },
    {
      "cell_type": "code",
      "source": [
        "# h.load_file('templates.hoc')"
      ],
      "metadata": {
        "id": "mV8bBDE2fThd"
      },
      "execution_count": 26,
      "outputs": []
    },
    {
      "cell_type": "code",
      "source": [
        "# 'FSI_Cell' in dir(h)"
      ],
      "metadata": {
        "id": "zrhE_ZqtgXc2"
      },
      "execution_count": 27,
      "outputs": []
    },
    {
      "cell_type": "code",
      "execution_count": 28,
      "metadata": {
        "colab": {
          "base_uri": "https://localhost:8080/",
          "height": 1000
        },
        "id": "89plfI4wSwKR",
        "outputId": "0c0ba272-d98e-4000-9d92-2720e822556d"
      },
      "outputs": [
        {
          "output_type": "display_data",
          "data": {
            "text/plain": [
              "<Figure size 1200x700 with 2 Axes>"
            ],
            "image/png": "[encoded data removed]"
          },
          "metadata": {}
        },
        {
          "output_type": "stream",
          "name": "stdout",
          "text": [
            "('baseline', 0.16057155023698044)\n",
            "('sign', -1.0)\n",
            "('latency', 1.35)\n",
            "('amp', 0.16919321135269172)\n",
            "('rise_time', 0.17500000000000002)\n",
            "('decay_time', 2.184062554129262)\n",
            "('half_width', 3.125)\n",
            "Current Integral in pA*ms: -96909.44\n"
          ]
        },
        {
          "output_type": "display_data",
          "data": {
            "text/plain": [
              "<Figure size 1200x700 with 2 Axes>"
            ],
            "image/png": "[encoded data removed]"
          },
          "metadata": {}
        },
        {
          "output_type": "stream",
          "name": "stdout",
          "text": [
            "('baseline', 0.16057155023698044)\n",
            "('sign', 1.0)\n",
            "('latency', 0.025)\n",
            "('amp', 0.3403121462871894)\n",
            "('rise_time', 0.275)\n",
            "('decay_time', 15.917230083906905)\n",
            "('half_width', 17.425)\n",
            "Current Integral in pA*ms: -89960.83\n"
          ]
        },
        {
          "output_type": "display_data",
          "data": {
            "text/plain": [
              "<Figure size 1200x700 with 2 Axes>"
            ],
            "image/png": "[encoded data removed]"
          },
          "metadata": {}
        },
        {
          "output_type": "stream",
          "name": "stdout",
          "text": [
            "('baseline', 0.16057155023698044)\n",
            "('sign', 1.0)\n",
            "('latency', 0.025)\n",
            "('amp', 0.01596028781968073)\n",
            "('rise_time', 0.5750000000000001)\n",
            "('decay_time', 7.965617321282714)\n",
            "('half_width', 6.65)\n",
            "Current Integral in pA*ms: -96203.66\n"
          ]
        }
      ],
      "source": [
        "# have to run single_event to establish the input\n",
        "for synapse_type,tuner in synapses.items():\n",
        "  tuner.SingleEvent()"
      ]
    },
    {
      "cell_type": "markdown",
      "metadata": {
        "id": "ZNcXKk7zRGVp"
      },
      "source": [
        "## Interactive Tuner\n",
        "\n",
        "(1) select one of the synapse types\n",
        "\n",
        "(2) check individual induction(input_freq) or PPR\n",
        "\n",
        "(3) vary a parameter to understand how it affects the synapse"
      ]
    },
    {
      "cell_type": "code",
      "execution_count": 29,
      "metadata": {
        "id": "4riXjHLJmkiH",
        "colab": {
          "base_uri": "https://localhost:8080/",
          "height": 1000,
          "referenced_widgets": [
            "4d7d2a294f5c4e55bee1a62971159410",
            "40734a99836e420dbc9ac7d45dc9238d",
            "d0a0fe7b129a47c0afc0dc89a05ac751",
            "29e14e123ad8427fb4620fc4ce18e3cb",
            "8469c8c360034cba8e529640885561a5",
            "aaa3098c9a054849952e5093d7b955c8",
            "980cc6d7a16841dda981190bf7d95ec8",
            "cc6f33082e504d89ae06729e636d20e1",
            "6826762ea0c14595950b4b1e49bcaa34",
            "11264a6fd9cc4ac6a589b6ce5b7bddd9",
            "69231d874b07418d9963b754763f27f5",
            "12e173af7f0341fd91f769d5b199f03f",
            "4d9331aa01784b3b808bad4684e5a986",
            "13b7a77a3d2b47f1b8dad53dfa5b331c",
            "860ff9a6005240e8828e236ea690dc60",
            "dd7a8b40c59c4ed0bb1ddd83081d83b4",
            "ff7caf6479b243f98ae898462a6b956f",
            "28a255ef46f044d2bd3738b27aaf15e9",
            "a4721e24b3e149f69d3a44e36919767a",
            "dcaf5dec4a8b4203936faed627290961",
            "ca05a06b495c43b4932c00e795add1b3",
            "548ce0f00f064a57a891ecbd449b53f1",
            "89d74101807149bd914898aa9b3ff3a2",
            "92924fdf3ad1452d95c015cf2d63a986",
            "161679daa9b24ba6ab128f32b3dcefe3",
            "8ce2407a5e5d4c80bcd60005a0b1289a",
            "753e9ed3db9248e298d8f7dbadfeaf31",
            "9098ed0fd8eb481f81c2426df6034684",
            "39eda070357f4352a275c41771deca9d",
            "401b05f17a1a462f9d4e80b16d4286c0",
            "c8f43f25f6154f1dbb8457bca20cf0d5",
            "2b5d098f842c418e81084627e0b82b53",
            "8ed07c82c8cc4e1db3524f4ce1e07f5b",
            "7487c214575d4e11b22babcfe4c13348",
            "8d18e32606ec4d98a196d1cdecfdf6c1",
            "fe42d8f0c9a24c30baa82db2ba9a416b",
            "85cab5675bff4919bc23891e25481ce3",
            "20e2fc351827426dbed2075f905640ca",
            "13fd1cfe8dd24505a4e1d56b33a04a6d",
            "e8ed7b58b5794100939f8e1ad3ed01b1",
            "7bea7cfba3e4402eb61f892d3d10d9a3",
            "bcc6e3d8dcb34a25bc2d67296f838e7f"
          ]
        },
        "outputId": "560bb92d-e8ee-4e87-956a-00818d8025fd"
      },
      "outputs": [
        {
          "output_type": "display_data",
          "data": {
            "text/plain": [
              "VBox(children=(HBox(children=(Button(button_style='primary', description='Run Train', icon='history', style=Bu…"
            ],
            "application/vnd.jupyter.widget-view+json": {
              "version_major": 2,
              "version_minor": 0,
              "model_id": "4d7d2a294f5c4e55bee1a62971159410"
            }
          },
          "metadata": {}
        },
        {
          "output_type": "display_data",
          "data": {
            "text/plain": [
              "<Figure size 1200x700 with 2 Axes>"
            ],
            "image/png": "[encoded data removed]"
          },
          "metadata": {}
        },
        {
          "output_type": "stream",
          "name": "stdout",
          "text": [
            "\n",
            "========================================\n",
            "Short Term Plasticity Results for 50Hz with 250 Delay\n",
            "========================================\n",
            "PPR: Above 1 is facilitating, below 1 is depressing.\n",
            "Induction: Above 0 is facilitating, below 0 is depressing.\n",
            "Recovery: A measure of how fast STP decays.\n",
            "\n",
            "Paired Pulse Response (PPR)\n",
            "Calculation: 2nd pulse / 1st pulse\n",
            "Values: ([[328.77]]) / ([[370.22]]) = [[0.89]]\n",
            "\n",
            "Induction\n",
            "Calculation: (avg(6th, 7th, 8th pulses) - 1st pulse) / max amps\n",
            "Values: avg([[251.34, 243.11, 237.05]]) - [[370.22]] / [370.22]\n",
            "([243.83]) - ([370.22]) / [370.22] = -0.341\n",
            "\n",
            "Recovery\n",
            "Calculation: (avg(9th, 10th, 11th, 12th pulses) - avg(1st to 4th pulses)) / max amps\n",
            "Values: avg([[317.42, 290.26, 270.96, 257.19]]) - avg([[370.22, 328.77, 299.16, 277.93]]) / [370.22]\n",
            "([283.96]) - ([319.02]) / [370.22] = -0.095\n",
            "\n",
            "========================================\n",
            "\n"
          ]
        }
      ],
      "source": [
        "tuner_type = ['exc','inhPerisomatic','inhDendritic'][0] # select the first one\n",
        "# alternatively synapses.keys(0)\n",
        "print(tuner_type)\n",
        "synapses[tuner_type].InteractiveTuner()"
      ]
    },
    {
      "cell_type": "markdown",
      "metadata": {
        "id": "Z3GkE-tganTX"
      },
      "source": [
        "## Optimizer\n",
        "\n",
        "(1) run to fit the value for (initW or gbar_{current_type} or others)\n",
        "\n",
        "to the desired PSC magnitude (max ampltiude), PPR, and induction (from experimental data)"
      ]
    },
    {
      "cell_type": "code",
      "execution_count": 30,
      "metadata": {
        "id": "ykUS8UutbWjt"
      },
      "outputs": [],
      "source": [
        "def auto(param_bounds, target_metrics, tuner):\n",
        "  result = optimizer.optimize_parameters(\n",
        "    target_metrics=target_metrics,\n",
        "    param_bounds=param_bounds,\n",
        "    init_guess='random', # either random or middle_guess. Random will start the synapse witha random value in the param_bound. Middle guess will pick the middle value in the param_bounds\n",
        "    cost_function=custom_cost,\n",
        "    method='SLSQP' # I believe this will be the fastest method, but you may try others check out https://docs.scipy.org/doc/scipy-1.15.0/reference/generated/scipy.optimize.minimize.html\n",
        "    )\n",
        "  return result"
      ]
    },
    {
      "cell_type": "code",
      "source": [
        "from synapses import SynapseOptimizer"
      ],
      "metadata": {
        "id": "MbUgsZyzsvAV"
      },
      "execution_count": 31,
      "outputs": []
    },
    {
      "cell_type": "code",
      "execution_count": 32,
      "metadata": {
        "id": "0n9BOKHeacyn",
        "colab": {
          "base_uri": "https://localhost:8080/",
          "height": 1000
        },
        "outputId": "a00037e5-9458-44c0-a022-6f4dd1a06574"
      },
      "outputs": [
        {
          "output_type": "stream",
          "name": "stdout",
          "text": [
            "exc\n"
          ]
        },
        {
          "output_type": "display_data",
          "data": {
            "text/plain": [
              "<Figure size 800x500 with 1 Axes>"
            ],
            "image/png": "[encoded data removed]"
          },
          "metadata": {}
        },
        {
          "output_type": "display_data",
          "data": {
            "text/plain": [
              "<Figure size 800x1500 with 3 Axes>"
            ],
            "image/png": "[encoded data removed]"
          },
          "metadata": {}
        },
        {
          "output_type": "stream",
          "name": "stdout",
          "text": [
            "Optimization Results:\n",
            "Final Error: 1.72e+04\n",
            "\n",
            "Target Metrics:\n",
            "induction: 0.000 (target: -0.750)\n",
            "ppr: 1.000 (target: 0.800)\n",
            "recovery: 0.000 (target: 0.000)\n",
            "max_amplitude: -160.571 (target: 25.000)\n",
            "\n",
            "Optimal Parameters:\n",
            "initW: 0.000\n",
            "gbar_nmda: 0.000\n",
            "gbar_ampa: 0.000\n"
          ]
        },
        {
          "output_type": "display_data",
          "data": {
            "text/plain": [
              "<Figure size 1200x700 with 2 Axes>"
            ],
            "image/png": "[encoded data removed]"
          },
          "metadata": {}
        },
        {
          "output_type": "stream",
          "name": "stdout",
          "text": [
            "\n",
            "========================================\n",
            "Short Term Plasticity Results for 50Hz with 250 Delay\n",
            "========================================\n",
            "PPR: Above 1 is facilitating, below 1 is depressing.\n",
            "Induction: Above 0 is facilitating, below 0 is depressing.\n",
            "Recovery: A measure of how fast STP decays.\n",
            "\n",
            "Paired Pulse Response (PPR)\n",
            "Calculation: 2nd pulse / 1st pulse\n",
            "Values: ([[-160.57]]) / ([[-160.57]]) = [[1.]]\n",
            "\n",
            "Induction\n",
            "Calculation: (avg(6th, 7th, 8th pulses) - 1st pulse) / max amps\n",
            "Values: avg([[-160.57, -160.57, -160.57]]) - [[-160.57]] / [-160.57]\n",
            "([-160.57]) - ([-160.57]) / [-160.57] = 0.000\n",
            "\n",
            "Recovery\n",
            "Calculation: (avg(9th, 10th, 11th, 12th pulses) - avg(1st to 4th pulses)) / max amps\n",
            "Values: avg([[-160.57, -160.57, -160.57, -160.57]]) - avg([[-160.57, -160.57, -160.57, -160.57]]) / [-160.57]\n",
            "([-160.57]) - ([-160.57]) / [-160.57] = 0.000\n",
            "\n",
            "========================================\n",
            "\n"
          ]
        }
      ],
      "source": [
        "# NOTE maybe change the frequency of input\n",
        "# NOTE train frequency is new input parameter for optimizer which we can set to the mean in the table\n",
        "\n",
        "# CHOOSE specifications\n",
        "tuner_type = ['exc','inhPerisomatic','inhDendritic'][0] # ex. select the first one # if these keys get out of line you can use synapses.keys()[N]\n",
        "add_gbar_params = True\n",
        "\n",
        "print(tuner_type)\n",
        "optimizer = SynapseOptimizer(synapses[tuner_type])\n",
        "\n",
        "# initialize param_bounds (parameters that can vary within the specified range)\n",
        "param_bounds = {\n",
        "    'initW': (0,synapses[tuner_type].conn['spec_syn_param']['initW']*10),\n",
        "    # 'facfactor': (0, 400.0),\n",
        "    # 'f': (0, 400.0),\n",
        "    # 'F': (0, 400.0),\n",
        "    # 'gbar_nmda': (0,4), # fix range, maybe dont use # change for gaba synapse\n",
        "    # 'gbar_ampa': (0,1) # fix range, maybe dont use\n",
        "}\n",
        "\n",
        "# add variables to param_bounds with their ranges\n",
        "if add_gbar_params:\n",
        "  if 'pyr2pyr' in synapses[tuner_type].conn['spec_settings']['level_of_detail']:\n",
        "    param_bounds['gbar_nmda'] = (0,synapses[tuner_type].conn['spec_syn_param']['gbar_nmda']*10) # up to 10x the default\n",
        "    param_bounds['gbar_ampa'] = (0,synapses[tuner_type].conn['spec_syn_param']['gbar_ampa']*10) # up to 10x the default\n",
        "  elif 'int2pyr' in synapses[tuner_type].conn['spec_settings']['level_of_detail']:\n",
        "    param_bounds['gbar_gaba'] = (0,synapses[tuner_type].conn['spec_syn_param']['gbar_gaba']*10) #up to 10x the default\n",
        "\n",
        "\n",
        "# define the target metrics\n",
        "target_metrics = { # automatically selects based on tuner_type (need to be updated to match in vivo)\n",
        "    'exc': {\n",
        "            'induction': -0.75,\n",
        "            'ppr': 0.8,\n",
        "            'recovery': 0.0,\n",
        "            'max_amplitude':25 #magnitude of PSC\n",
        "    },\n",
        "    'inhPerisomatic': {\n",
        "            'induction': -0.75,\n",
        "            'ppr': 0.8,\n",
        "            'recovery': 0.0,\n",
        "            'max_amplitude':25 #magnitude of PSC\n",
        "    },\n",
        "    'inhDendritic': {\n",
        "            'induction': -0.75,\n",
        "            'ppr': 0.8,\n",
        "            'recovery': 0.0,\n",
        "            'max_amplitude':25 #magnitude of PSC\n",
        "    }\n",
        "}\n",
        "\n",
        "# currently the only metrics in the SynapseOptimizer are induction, prr, recovery, and max amplitude.\n",
        "def custom_cost(metrics, targets):\n",
        "    induction_error = (metrics['induction'] - targets['induction']) ** 2\n",
        "    ppr_error = (metrics['ppr'] - targets['ppr']) ** 2\n",
        "    recovery_error = (metrics['recovery'] - targets['recovery']) ** 2\n",
        "    max_amp_errror = (metrics['max_amplitude'] - targets['max_amplitude']) ** 2\n",
        "    # can weight each error term differently like this\n",
        "    return induction_error + 3 * ppr_error + recovery_error + 0.5*max_amp_errror\n",
        "\n",
        "# Run optimization with custom cost function\n",
        "result = optimizer.optimize_parameters(\n",
        "    target_metrics=target_metrics[tuner_type],\n",
        "    param_bounds=param_bounds,\n",
        "    init_guess='random', # either random or middle_guess. Random will start the synapse witha random value in the param_bound. Middle guess will pick the middle value in the param_bounds\n",
        "    cost_function=custom_cost,\n",
        "    method='SLSQP' # I believe this will be the fastest method, but you may try others check out https://docs.scipy.org/doc/scipy-1.15.0/reference/generated/scipy.optimize.minimize.html\n",
        ")\n",
        "\n",
        "# Plot results\n",
        "optimizer.plot_optimization_results(result)"
      ]
    },
    {
      "cell_type": "markdown",
      "source": [
        "After optimizing may need to update the variables in the original dictionary. (comment previous default)"
      ],
      "metadata": {
        "id": "LP32yyO7uEUW"
      }
    },
    {
      "cell_type": "markdown",
      "metadata": {
        "id": "Q0og-yU5RyNp"
      },
      "source": [
        "## STP Frequency Response\n",
        "Make sure that the induction/frequency curve matches in-vivo (fig 1. last column with\n",
        "(1) compute induction/frequency to make sure it matches in-vivo"
      ]
    },
    {
      "cell_type": "code",
      "execution_count": 33,
      "metadata": {
        "id": "CIf2r_CqRvmv",
        "colab": {
          "base_uri": "https://localhost:8080/",
          "height": 526,
          "referenced_widgets": [
            "1a13b87649f24a2abd50860f5390e19a",
            "3bf50531d7d247bda54977f4ddbb8ac1",
            "ecff026d538543f3a632df1c2032a9e3",
            "c45f2bbbcee14b8ea6e0ef70863708e7",
            "08555927d59043b2a7b3c212ecb445d6",
            "08c3ae83280f4f32b27c663df539fac4",
            "7da205f9b51948ddbb5e63b94e38b3a1",
            "c396c86a42da49e6a1ebe8b84ab3048f",
            "afe056c6a14e4b688ab768394239e596",
            "035cbb090297488f9dfb118a36abd1a6",
            "5dff2b5585cb4918bdf1693178b83e76"
          ]
        },
        "outputId": "fa998eba-10d9-4669-e14c-20982edcd874"
      },
      "outputs": [
        {
          "output_type": "stream",
          "name": "stdout",
          "text": [
            "exc\n"
          ]
        },
        {
          "output_type": "display_data",
          "data": {
            "text/plain": [
              "Analyzing frequencies:   0%|          | 0/3 [00:00<?, ?it/s]"
            ],
            "application/vnd.jupyter.widget-view+json": {
              "version_major": 2,
              "version_minor": 0,
              "model_id": "1a13b87649f24a2abd50860f5390e19a"
            }
          },
          "metadata": {}
        },
        {
          "output_type": "display_data",
          "data": {
            "text/plain": [
              "<Figure size 1500x500 with 3 Axes>"
            ],
            "image/png": "[encoded data removed]"
          },
          "metadata": {}
        }
      ],
      "source": [
        "tuner_type = ['exc','inhPerisomatic','inhDendritic'][0] # select the first one\n",
        "# alternatively synapses.keys(0)\n",
        "print(tuner_type)\n",
        "results = synapses[tuner_type].stp_frequency_response(log_plot = False, freqs=[10,20,50])"
      ]
    },
    {
      "cell_type": "markdown",
      "metadata": {
        "id": "qjnciSmIJGIT"
      },
      "source": [
        "## record PSC magnitude distribution across sections\n",
        "\n",
        "(1) specify region_type (section_type) and the synapse_type\n",
        "\n",
        "(2) compute the mean,std of the magnitude of PSCs across the cell's sections of that type"
      ]
    },
    {
      "cell_type": "code",
      "source": [
        "# could make this into a function that just computes a dictionary so we only call it once and only creating/deleting a cell once.\n",
        "# Could even pass the cell from the tuner instead of creating/deleting a new one.\n",
        "def get_sec_ids_from_type(section_type):\n",
        "  cell = h.L5PCtemplate(\"../../../Neural-Modeling/cells/templates/cell1.asc\")\n",
        "\n",
        "  if section_type == 'distal_apic': # distal apic (>100 microns from soma)\n",
        "    sec_ids_to_use = [idx for idx,sec in enumerate(cell.all) if (sec in cell.apic) and (h.distance(cell.soma[0](0.5), sec(0.5)) > 100)]\n",
        "  elif section_type == 'distal_basal': # distal basal dendrites (>100 microns from soma)\n",
        "    sec_ids_to_use = [idx for idx,sec in enumerate(cell.all) if (sec in cell.dend) and (h.distance(cell.soma[0](0.5), sec(0.5)) > 100)]\n",
        "  elif section_type == 'perisomatic': # proximal dendrites and soma  (within 100 microns of soma)\n",
        "    sec_ids_to_use = [idx for idx,sec in enumerate(cell.all) if (h.distance(cell.soma[0](0.5), sec(0.5)) < 100)]\n",
        "  else:\n",
        "    del cell\n",
        "    NotImplementedError(f\"{section_type} not implemented for get_sec_ids_from_type\")\n",
        "\n",
        "  del cell\n",
        "  return sec_ids_to_use"
      ],
      "metadata": {
        "id": "FB-vRLHJHVZQ"
      },
      "execution_count": 34,
      "outputs": []
    },
    {
      "cell_type": "markdown",
      "source": [
        "gather the post synaptic current magnitude at the middle of every section"
      ],
      "metadata": {
        "id": "6L-g-jL3HpDn"
      }
    },
    {
      "cell_type": "code",
      "execution_count": null,
      "metadata": {
        "id": "mFXiSjxeJGdD"
      },
      "outputs": [],
      "source": [
        "import numpy as np\n",
        "from synapses import SynapseTuner\n",
        "\n",
        "location_types_by_synapse_type = {\n",
        "    'inhPerisomatic': ['perisomatic'],\n",
        "    'exc': ['distal_basal', 'distal_apic'],\n",
        "    'inhDendritic': ['distal_basal', 'distal_apic']\n",
        "}\n",
        "\n",
        "# Initialize an empty list to store results\n",
        "results = []\n",
        "\n",
        "# gather distribution of PSC magnitudes for each synapse_type and location types\n",
        "for synapse_type, location_types in location_types_by_synapse_type.items():\n",
        "  for location_type in location_types:\n",
        "    # get the sections we need\n",
        "    sec_ids_to_use = get_sec_ids_from_type(location_type) # select the type using integar\n",
        "\n",
        "    # gather PSC magnitudes across locations\n",
        "    magnitudes = []\n",
        "    for sec_id_to_use in sec_ids_to_use:\n",
        "\n",
        "      # move the synapse to the target location\n",
        "      synapses[synapse_type].syn.loc(list(synapses[synapse_type].cell.all)[sec_id_to_use](0.5))\n",
        "\n",
        "      #record magnitude of PSC\n",
        "      PSC_mag = max(abs(tuner.SingleEvent(plot_and_print=False))) # NOTE: have to update to return\n",
        "      magnitudes.append(PSC_mag) # have to fix this line\n",
        "\n",
        "    # calc mean, std\n",
        "    psc_mean = np.mean(magnitudes)\n",
        "    psc_std = np.std(magnitudes)\n",
        "    print(f\"{synapse_type}\\n\")\n",
        "    print(f\"{location_type}\\n\")\n",
        "    print(f\" mean: {psc_mean}\\n std:{psc_std} \\n\\n\")\n",
        "\n",
        "    # Store results in the list\n",
        "    results.append({\n",
        "        \"Synapse Type\": synapse_type,\n",
        "        \"Location Type\": location_type,\n",
        "        \"PSC Mean\": psc_mean,\n",
        "        \"PSC Std\": psc_std\n",
        "    })\n",
        "\n",
        "# Convert the list to a DataFrame\n",
        "results_df = pd.DataFrame(results)\n",
        "import ace_tools as tools\n",
        "tools.display_dataframe_to_user(name=\"PSC Data\", dataframe=results_df)"
      ]
    },
    {
      "cell_type": "code",
      "source": [
        "# looks like building the cell worked.\n",
        "# # check cell properties\n",
        "# sec_id = 100\n",
        "# print(f\"{list(synapses['exc'].cell.all)[sec_id](0.5)}: {dir(list(synapses['exc'].cell.all)[sec_id](0.5))}\")"
      ],
      "metadata": {
        "id": "RzKsBVblGx1D"
      },
      "execution_count": null,
      "outputs": []
    },
    {
      "cell_type": "code",
      "source": [
        "# print(f\"{list(synapses['exc'].cell.all)[sec_id](0.5).Ca_HVA.gCa_HVAbar}: {dir(list(synapses['exc'].cell.all)[sec_id](0.5).Ca_HVA.gCa_HVAbar)}\")"
      ],
      "metadata": {
        "id": "GnomWbcnUVGH"
      },
      "execution_count": null,
      "outputs": []
    }
  ],
  "metadata": {
    "colab": {
      "provenance": [],
      "toc_visible": true,
      "include_colab_link": true
    },
    "kernelspec": {
      "display_name": "Python 3",
      "name": "python3"
    },
    "language_info": {
      "name": "python"
    },
    "widgets": {
      "application/vnd.jupyter.widget-state+json": {
        "4d7d2a294f5c4e55bee1a62971159410": {
          "model_module": "@jupyter-widgets/controls",
          "model_name": "VBoxModel",
          "model_module_version": "1.5.0",
          "state": {
            "_dom_classes": [],
            "_model_module": "@jupyter-widgets/controls",
            "_model_module_version": "1.5.0",
            "_model_name": "VBoxModel",
            "_view_count": null,
            "_view_module": "@jupyter-widgets/controls",
            "_view_module_version": "1.5.0",
            "_view_name": "VBoxView",
            "box_style": "",
            "children": [
              "IPY_MODEL_40734a99836e420dbc9ac7d45dc9238d",
              "IPY_MODEL_d0a0fe7b129a47c0afc0dc89a05ac751",
              "IPY_MODEL_29e14e123ad8427fb4620fc4ce18e3cb"
            ],
            "layout": "IPY_MODEL_8469c8c360034cba8e529640885561a5"
          }
        },
        "40734a99836e420dbc9ac7d45dc9238d": {
          "model_module": "@jupyter-widgets/controls",
          "model_name": "HBoxModel",
          "model_module_version": "1.5.0",
          "state": {
            "_dom_classes": [],
            "_model_module": "@jupyter-widgets/controls",
            "_model_module_version": "1.5.0",
            "_model_name": "HBoxModel",
            "_view_count": null,
            "_view_module": "@jupyter-widgets/controls",
            "_view_module_version": "1.5.0",
            "_view_name": "HBoxView",
            "box_style": "",
            "children": [
              "IPY_MODEL_aaa3098c9a054849952e5093d7b955c8",
              "IPY_MODEL_980cc6d7a16841dda981190bf7d95ec8",
              "IPY_MODEL_cc6f33082e504d89ae06729e636d20e1",
              "IPY_MODEL_6826762ea0c14595950b4b1e49bcaa34"
            ],
            "layout": "IPY_MODEL_11264a6fd9cc4ac6a589b6ce5b7bddd9"
          }
        },
        "d0a0fe7b129a47c0afc0dc89a05ac751": {
          "model_module": "@jupyter-widgets/controls",
          "model_name": "HBoxModel",
          "model_module_version": "1.5.0",
          "state": {
            "_dom_classes": [],
            "_model_module": "@jupyter-widgets/controls",
            "_model_module_version": "1.5.0",
            "_model_name": "HBoxModel",
            "_view_count": null,
            "_view_module": "@jupyter-widgets/controls",
            "_view_module_version": "1.5.0",
            "_view_name": "HBoxView",
            "box_style": "",
            "children": [
              "IPY_MODEL_69231d874b07418d9963b754763f27f5",
              "IPY_MODEL_12e173af7f0341fd91f769d5b199f03f",
              "IPY_MODEL_4d9331aa01784b3b808bad4684e5a986"
            ],
            "layout": "IPY_MODEL_13b7a77a3d2b47f1b8dad53dfa5b331c"
          }
        },
        "29e14e123ad8427fb4620fc4ce18e3cb": {
          "model_module": "@jupyter-widgets/controls",
          "model_name": "HBoxModel",
          "model_module_version": "1.5.0",
          "state": {
            "_dom_classes": [],
            "_model_module": "@jupyter-widgets/controls",
            "_model_module_version": "1.5.0",
            "_model_name": "HBoxModel",
            "_view_count": null,
            "_view_module": "@jupyter-widgets/controls",
            "_view_module_version": "1.5.0",
            "_view_name": "HBoxView",
            "box_style": "",
            "children": [
              "IPY_MODEL_860ff9a6005240e8828e236ea690dc60",
              "IPY_MODEL_dd7a8b40c59c4ed0bb1ddd83081d83b4"
            ],
            "layout": "IPY_MODEL_ff7caf6479b243f98ae898462a6b956f"
          }
        },
        "8469c8c360034cba8e529640885561a5": {
          "model_module": "@jupyter-widgets/base",
          "model_name": "LayoutModel",
          "model_module_version": "1.2.0",
          "state": {
            "_model_module": "@jupyter-widgets/base",
            "_model_module_version": "1.2.0",
            "_model_name": "LayoutModel",
            "_view_count": null,
            "_view_module": "@jupyter-widgets/base",
            "_view_module_version": "1.2.0",
            "_view_name": "LayoutView",
            "align_content": null,
            "align_items": null,
            "align_self": null,
            "border": null,
            "bottom": null,
            "display": null,
            "flex": null,
            "flex_flow": null,
            "grid_area": null,
            "grid_auto_columns": null,
            "grid_auto_flow": null,
            "grid_auto_rows": null,
            "grid_column": null,
            "grid_gap": null,
            "grid_row": null,
            "grid_template_areas": null,
            "grid_template_columns": null,
            "grid_template_rows": null,
            "height": null,
            "justify_content": null,
            "justify_items": null,
            "left": null,
            "margin": null,
            "max_height": null,
            "max_width": null,
            "min_height": null,
            "min_width": null,
            "object_fit": null,
            "object_position": null,
            "order": null,
            "overflow": null,
            "overflow_x": null,
            "overflow_y": null,
            "padding": null,
            "right": null,
            "top": null,
            "visibility": null,
            "width": null
          }
        },
        "aaa3098c9a054849952e5093d7b955c8": {
          "model_module": "@jupyter-widgets/controls",
          "model_name": "ButtonModel",
          "model_module_version": "1.5.0",
          "state": {
            "_dom_classes": [],
            "_model_module": "@jupyter-widgets/controls",
            "_model_module_version": "1.5.0",
            "_model_name": "ButtonModel",
            "_view_count": null,
            "_view_module": "@jupyter-widgets/controls",
            "_view_module_version": "1.5.0",
            "_view_name": "ButtonView",
            "button_style": "primary",
            "description": "Run Train",
            "disabled": false,
            "icon": "history",
            "layout": "IPY_MODEL_28a255ef46f044d2bd3738b27aaf15e9",
            "style": "IPY_MODEL_a4721e24b3e149f69d3a44e36919767a",
            "tooltip": ""
          }
        },
        "980cc6d7a16841dda981190bf7d95ec8": {
          "model_module": "@jupyter-widgets/controls",
          "model_name": "ButtonModel",
          "model_module_version": "1.5.0",
          "state": {
            "_dom_classes": [],
            "_model_module": "@jupyter-widgets/controls",
            "_model_module_version": "1.5.0",
            "_model_name": "ButtonModel",
            "_view_count": null,
            "_view_module": "@jupyter-widgets/controls",
            "_view_module_version": "1.5.0",
            "_view_name": "ButtonView",
            "button_style": "success",
            "description": "Single Event",
            "disabled": false,
            "icon": "check",
            "layout": "IPY_MODEL_dcaf5dec4a8b4203936faed627290961",
            "style": "IPY_MODEL_ca05a06b495c43b4932c00e795add1b3",
            "tooltip": ""
          }
        },
        "cc6f33082e504d89ae06729e636d20e1": {
          "model_module": "@jupyter-widgets/controls",
          "model_name": "ToggleButtonModel",
          "model_module_version": "1.5.0",
          "state": {
            "_dom_classes": [],
            "_model_module": "@jupyter-widgets/controls",
            "_model_module_version": "1.5.0",
            "_model_name": "ToggleButtonModel",
            "_view_count": null,
            "_view_module": "@jupyter-widgets/controls",
            "_view_module_version": "1.5.0",
            "_view_name": "ToggleButtonView",
            "button_style": "warning",
            "description": "Voltage Clamp",
            "description_tooltip": null,
            "disabled": false,
            "icon": "fast-backward",
            "layout": "IPY_MODEL_548ce0f00f064a57a891ecbd449b53f1",
            "style": "IPY_MODEL_89d74101807149bd914898aa9b3ff3a2",
            "tooltip": "",
            "value": true
          }
        },
        "6826762ea0c14595950b4b1e49bcaa34": {
          "model_module": "@jupyter-widgets/controls",
          "model_name": "ToggleButtonModel",
          "model_module_version": "1.5.0",
          "state": {
            "_dom_classes": [],
            "_model_module": "@jupyter-widgets/controls",
            "_model_module_version": "1.5.0",
            "_model_name": "ToggleButtonModel",
            "_view_count": null,
            "_view_module": "@jupyter-widgets/controls",
            "_view_module_version": "1.5.0",
            "_view_name": "ToggleButtonView",
            "button_style": "info",
            "description": "Continuous input",
            "description_tooltip": null,
            "disabled": false,
            "icon": "eject",
            "layout": "IPY_MODEL_92924fdf3ad1452d95c015cf2d63a986",
            "style": "IPY_MODEL_161679daa9b24ba6ab128f32b3dcefe3",
            "tooltip": "",
            "value": false
          }
        },
        "11264a6fd9cc4ac6a589b6ce5b7bddd9": {
          "model_module": "@jupyter-widgets/base",
          "model_name": "LayoutModel",
          "model_module_version": "1.2.0",
          "state": {
            "_model_module": "@jupyter-widgets/base",
            "_model_module_version": "1.2.0",
            "_model_name": "LayoutModel",
            "_view_count": null,
            "_view_module": "@jupyter-widgets/base",
            "_view_module_version": "1.2.0",
            "_view_name": "LayoutView",
            "align_content": null,
            "align_items": null,
            "align_self": null,
            "border": null,
            "bottom": null,
            "display": null,
            "flex": null,
            "flex_flow": null,
            "grid_area": null,
            "grid_auto_columns": null,
            "grid_auto_flow": null,
            "grid_auto_rows": null,
            "grid_column": null,
            "grid_gap": null,
            "grid_row": null,
            "grid_template_areas": null,
            "grid_template_columns": null,
            "grid_template_rows": null,
            "height": null,
            "justify_content": null,
            "justify_items": null,
            "left": null,
            "margin": null,
            "max_height": null,
            "max_width": null,
            "min_height": null,
            "min_width": null,
            "object_fit": null,
            "object_position": null,
            "order": null,
            "overflow": null,
            "overflow_x": null,
            "overflow_y": null,
            "padding": null,
            "right": null,
            "top": null,
            "visibility": null,
            "width": null
          }
        },
        "69231d874b07418d9963b754763f27f5": {
          "model_module": "@jupyter-widgets/controls",
          "model_name": "SelectionSliderModel",
          "model_module_version": "1.5.0",
          "state": {
            "_dom_classes": [],
            "_model_module": "@jupyter-widgets/controls",
            "_model_module_version": "1.5.0",
            "_model_name": "SelectionSliderModel",
            "_options_labels": [
              "1",
              "2",
              "3",
              "4",
              "5",
              "6",
              "7",
              "8",
              "9",
              "10",
              "15",
              "20",
              "35",
              "50",
              "100",
              "200"
            ],
            "_view_count": null,
            "_view_module": "@jupyter-widgets/controls",
            "_view_module_version": "1.5.0",
            "_view_name": "SelectionSliderView",
            "continuous_update": true,
            "description": "Input Freq",
            "description_tooltip": null,
            "disabled": false,
            "index": 13,
            "layout": "IPY_MODEL_8ce2407a5e5d4c80bcd60005a0b1289a",
            "orientation": "horizontal",
            "readout": true,
            "style": "IPY_MODEL_753e9ed3db9248e298d8f7dbadfeaf31"
          }
        },
        "12e173af7f0341fd91f769d5b199f03f": {
          "model_module": "@jupyter-widgets/controls",
          "model_name": "SelectionSliderModel",
          "model_module_version": "1.5.0",
          "state": {
            "_dom_classes": [],
            "_model_module": "@jupyter-widgets/controls",
            "_model_module_version": "1.5.0",
            "_model_name": "SelectionSliderModel",
            "_options_labels": [
              "125",
              "250",
              "500",
              "1000",
              "2000",
              "4000"
            ],
            "_view_count": null,
            "_view_module": "@jupyter-widgets/controls",
            "_view_module_version": "1.5.0",
            "_view_name": "SelectionSliderView",
            "continuous_update": true,
            "description": "Delay",
            "description_tooltip": null,
            "disabled": false,
            "index": 1,
            "layout": "IPY_MODEL_9098ed0fd8eb481f81c2426df6034684",
            "orientation": "horizontal",
            "readout": true,
            "style": "IPY_MODEL_39eda070357f4352a275c41771deca9d"
          }
        },
        "4d9331aa01784b3b808bad4684e5a986": {
          "model_module": "@jupyter-widgets/controls",
          "model_name": "SelectionSliderModel",
          "model_module_version": "1.5.0",
          "state": {
            "_dom_classes": [],
            "_model_module": "@jupyter-widgets/controls",
            "_model_module_version": "1.5.0",
            "_model_name": "SelectionSliderModel",
            "_options_labels": [
              "300",
              "500",
              "1000",
              "2000",
              "5000",
              "10000"
            ],
            "_view_count": null,
            "_view_module": "@jupyter-widgets/controls",
            "_view_module_version": "1.5.0",
            "_view_name": "SelectionSliderView",
            "continuous_update": true,
            "description": "Duration",
            "description_tooltip": null,
            "disabled": false,
            "index": 0,
            "layout": "IPY_MODEL_401b05f17a1a462f9d4e80b16d4286c0",
            "orientation": "horizontal",
            "readout": true,
            "style": "IPY_MODEL_c8f43f25f6154f1dbb8457bca20cf0d5"
          }
        },
        "13b7a77a3d2b47f1b8dad53dfa5b331c": {
          "model_module": "@jupyter-widgets/base",
          "model_name": "LayoutModel",
          "model_module_version": "1.2.0",
          "state": {
            "_model_module": "@jupyter-widgets/base",
            "_model_module_version": "1.2.0",
            "_model_name": "LayoutModel",
            "_view_count": null,
            "_view_module": "@jupyter-widgets/base",
            "_view_module_version": "1.2.0",
            "_view_name": "LayoutView",
            "align_content": null,
            "align_items": null,
            "align_self": null,
            "border": null,
            "bottom": null,
            "display": null,
            "flex": null,
            "flex_flow": null,
            "grid_area": null,
            "grid_auto_columns": null,
            "grid_auto_flow": null,
            "grid_auto_rows": null,
            "grid_column": null,
            "grid_gap": null,
            "grid_row": null,
            "grid_template_areas": null,
            "grid_template_columns": null,
            "grid_template_rows": null,
            "height": null,
            "justify_content": null,
            "justify_items": null,
            "left": null,
            "margin": null,
            "max_height": null,
            "max_width": null,
            "min_height": null,
            "min_width": null,
            "object_fit": null,
            "object_position": null,
            "order": null,
            "overflow": null,
            "overflow_x": null,
            "overflow_y": null,
            "padding": null,
            "right": null,
            "top": null,
            "visibility": null,
            "width": null
          }
        },
        "860ff9a6005240e8828e236ea690dc60": {
          "model_module": "@jupyter-widgets/controls",
          "model_name": "VBoxModel",
          "model_module_version": "1.5.0",
          "state": {
            "_dom_classes": [],
            "_model_module": "@jupyter-widgets/controls",
            "_model_module_version": "1.5.0",
            "_model_name": "VBoxModel",
            "_view_count": null,
            "_view_module": "@jupyter-widgets/controls",
            "_view_module_version": "1.5.0",
            "_view_name": "VBoxView",
            "box_style": "",
            "children": [
              "IPY_MODEL_2b5d098f842c418e81084627e0b82b53"
            ],
            "layout": "IPY_MODEL_8ed07c82c8cc4e1db3524f4ce1e07f5b"
          }
        },
        "dd7a8b40c59c4ed0bb1ddd83081d83b4": {
          "model_module": "@jupyter-widgets/controls",
          "model_name": "VBoxModel",
          "model_module_version": "1.5.0",
          "state": {
            "_dom_classes": [],
            "_model_module": "@jupyter-widgets/controls",
            "_model_module_version": "1.5.0",
            "_model_name": "VBoxModel",
            "_view_count": null,
            "_view_module": "@jupyter-widgets/controls",
            "_view_module_version": "1.5.0",
            "_view_name": "VBoxView",
            "box_style": "",
            "children": [
              "IPY_MODEL_7487c214575d4e11b22babcfe4c13348",
              "IPY_MODEL_8d18e32606ec4d98a196d1cdecfdf6c1"
            ],
            "layout": "IPY_MODEL_fe42d8f0c9a24c30baa82db2ba9a416b"
          }
        },
        "ff7caf6479b243f98ae898462a6b956f": {
          "model_module": "@jupyter-widgets/base",
          "model_name": "LayoutModel",
          "model_module_version": "1.2.0",
          "state": {
            "_model_module": "@jupyter-widgets/base",
            "_model_module_version": "1.2.0",
            "_model_name": "LayoutModel",
            "_view_count": null,
            "_view_module": "@jupyter-widgets/base",
            "_view_module_version": "1.2.0",
            "_view_name": "LayoutView",
            "align_content": null,
            "align_items": null,
            "align_self": null,
            "border": null,
            "bottom": null,
            "display": null,
            "flex": null,
            "flex_flow": null,
            "grid_area": null,
            "grid_auto_columns": null,
            "grid_auto_flow": null,
            "grid_auto_rows": null,
            "grid_column": null,
            "grid_gap": null,
            "grid_row": null,
            "grid_template_areas": null,
            "grid_template_columns": null,
            "grid_template_rows": null,
            "height": null,
            "justify_content": null,
            "justify_items": null,
            "left": null,
            "margin": null,
            "max_height": null,
            "max_width": null,
            "min_height": null,
            "min_width": null,
            "object_fit": null,
            "object_position": null,
            "order": null,
            "overflow": null,
            "overflow_x": null,
            "overflow_y": null,
            "padding": null,
            "right": null,
            "top": null,
            "visibility": null,
            "width": null
          }
        },
        "28a255ef46f044d2bd3738b27aaf15e9": {
          "model_module": "@jupyter-widgets/base",
          "model_name": "LayoutModel",
          "model_module_version": "1.2.0",
          "state": {
            "_model_module": "@jupyter-widgets/base",
            "_model_module_version": "1.2.0",
            "_model_name": "LayoutModel",
            "_view_count": null,
            "_view_module": "@jupyter-widgets/base",
            "_view_module_version": "1.2.0",
            "_view_name": "LayoutView",
            "align_content": null,
            "align_items": null,
            "align_self": null,
            "border": null,
            "bottom": null,
            "display": null,
            "flex": null,
            "flex_flow": null,
            "grid_area": null,
            "grid_auto_columns": null,
            "grid_auto_flow": null,
            "grid_auto_rows": null,
            "grid_column": null,
            "grid_gap": null,
            "grid_row": null,
            "grid_template_areas": null,
            "grid_template_columns": null,
            "grid_template_rows": null,
            "height": null,
            "justify_content": null,
            "justify_items": null,
            "left": null,
            "margin": null,
            "max_height": null,
            "max_width": null,
            "min_height": null,
            "min_width": null,
            "object_fit": null,
            "object_position": null,
            "order": null,
            "overflow": null,
            "overflow_x": null,
            "overflow_y": null,
            "padding": null,
            "right": null,
            "top": null,
            "visibility": null,
            "width": null
          }
        },
        "a4721e24b3e149f69d3a44e36919767a": {
          "model_module": "@jupyter-widgets/controls",
          "model_name": "ButtonStyleModel",
          "model_module_version": "1.5.0",
          "state": {
            "_model_module": "@jupyter-widgets/controls",
            "_model_module_version": "1.5.0",
            "_model_name": "ButtonStyleModel",
            "_view_count": null,
            "_view_module": "@jupyter-widgets/base",
            "_view_module_version": "1.2.0",
            "_view_name": "StyleView",
            "button_color": null,
            "font_weight": ""
          }
        },
        "dcaf5dec4a8b4203936faed627290961": {
          "model_module": "@jupyter-widgets/base",
          "model_name": "LayoutModel",
          "model_module_version": "1.2.0",
          "state": {
            "_model_module": "@jupyter-widgets/base",
            "_model_module_version": "1.2.0",
            "_model_name": "LayoutModel",
            "_view_count": null,
            "_view_module": "@jupyter-widgets/base",
            "_view_module_version": "1.2.0",
            "_view_name": "LayoutView",
            "align_content": null,
            "align_items": null,
            "align_self": null,
            "border": null,
            "bottom": null,
            "display": null,
            "flex": null,
            "flex_flow": null,
            "grid_area": null,
            "grid_auto_columns": null,
            "grid_auto_flow": null,
            "grid_auto_rows": null,
            "grid_column": null,
            "grid_gap": null,
            "grid_row": null,
            "grid_template_areas": null,
            "grid_template_columns": null,
            "grid_template_rows": null,
            "height": null,
            "justify_content": null,
            "justify_items": null,
            "left": null,
            "margin": null,
            "max_height": null,
            "max_width": null,
            "min_height": null,
            "min_width": null,
            "object_fit": null,
            "object_position": null,
            "order": null,
            "overflow": null,
            "overflow_x": null,
            "overflow_y": null,
            "padding": null,
            "right": null,
            "top": null,
            "visibility": null,
            "width": null
          }
        },
        "ca05a06b495c43b4932c00e795add1b3": {
          "model_module": "@jupyter-widgets/controls",
          "model_name": "ButtonStyleModel",
          "model_module_version": "1.5.0",
          "state": {
            "_model_module": "@jupyter-widgets/controls",
            "_model_module_version": "1.5.0",
            "_model_name": "ButtonStyleModel",
            "_view_count": null,
            "_view_module": "@jupyter-widgets/base",
            "_view_module_version": "1.2.0",
            "_view_name": "StyleView",
            "button_color": null,
            "font_weight": ""
          }
        },
        "548ce0f00f064a57a891ecbd449b53f1": {
          "model_module": "@jupyter-widgets/base",
          "model_name": "LayoutModel",
          "model_module_version": "1.2.0",
          "state": {
            "_model_module": "@jupyter-widgets/base",
            "_model_module_version": "1.2.0",
            "_model_name": "LayoutModel",
            "_view_count": null,
            "_view_module": "@jupyter-widgets/base",
            "_view_module_version": "1.2.0",
            "_view_name": "LayoutView",
            "align_content": null,
            "align_items": null,
            "align_self": null,
            "border": null,
            "bottom": null,
            "display": null,
            "flex": null,
            "flex_flow": null,
            "grid_area": null,
            "grid_auto_columns": null,
            "grid_auto_flow": null,
            "grid_auto_rows": null,
            "grid_column": null,
            "grid_gap": null,
            "grid_row": null,
            "grid_template_areas": null,
            "grid_template_columns": null,
            "grid_template_rows": null,
            "height": null,
            "justify_content": null,
            "justify_items": null,
            "left": null,
            "margin": null,
            "max_height": null,
            "max_width": null,
            "min_height": null,
            "min_width": null,
            "object_fit": null,
            "object_position": null,
            "order": null,
            "overflow": null,
            "overflow_x": null,
            "overflow_y": null,
            "padding": null,
            "right": null,
            "top": null,
            "visibility": null,
            "width": null
          }
        },
        "89d74101807149bd914898aa9b3ff3a2": {
          "model_module": "@jupyter-widgets/controls",
          "model_name": "DescriptionStyleModel",
          "model_module_version": "1.5.0",
          "state": {
            "_model_module": "@jupyter-widgets/controls",
            "_model_module_version": "1.5.0",
            "_model_name": "DescriptionStyleModel",
            "_view_count": null,
            "_view_module": "@jupyter-widgets/base",
            "_view_module_version": "1.2.0",
            "_view_name": "StyleView",
            "description_width": ""
          }
        },
        "92924fdf3ad1452d95c015cf2d63a986": {
          "model_module": "@jupyter-widgets/base",
          "model_name": "LayoutModel",
          "model_module_version": "1.2.0",
          "state": {
            "_model_module": "@jupyter-widgets/base",
            "_model_module_version": "1.2.0",
            "_model_name": "LayoutModel",
            "_view_count": null,
            "_view_module": "@jupyter-widgets/base",
            "_view_module_version": "1.2.0",
            "_view_name": "LayoutView",
            "align_content": null,
            "align_items": null,
            "align_self": null,
            "border": null,
            "bottom": null,
            "display": null,
            "flex": null,
            "flex_flow": null,
            "grid_area": null,
            "grid_auto_columns": null,
            "grid_auto_flow": null,
            "grid_auto_rows": null,
            "grid_column": null,
            "grid_gap": null,
            "grid_row": null,
            "grid_template_areas": null,
            "grid_template_columns": null,
            "grid_template_rows": null,
            "height": null,
            "justify_content": null,
            "justify_items": null,
            "left": null,
            "margin": null,
            "max_height": null,
            "max_width": null,
            "min_height": null,
            "min_width": null,
            "object_fit": null,
            "object_position": null,
            "order": null,
            "overflow": null,
            "overflow_x": null,
            "overflow_y": null,
            "padding": null,
            "right": null,
            "top": null,
            "visibility": null,
            "width": null
          }
        },
        "161679daa9b24ba6ab128f32b3dcefe3": {
          "model_module": "@jupyter-widgets/controls",
          "model_name": "DescriptionStyleModel",
          "model_module_version": "1.5.0",
          "state": {
            "_model_module": "@jupyter-widgets/controls",
            "_model_module_version": "1.5.0",
            "_model_name": "DescriptionStyleModel",
            "_view_count": null,
            "_view_module": "@jupyter-widgets/base",
            "_view_module_version": "1.2.0",
            "_view_name": "StyleView",
            "description_width": ""
          }
        },
        "8ce2407a5e5d4c80bcd60005a0b1289a": {
          "model_module": "@jupyter-widgets/base",
          "model_name": "LayoutModel",
          "model_module_version": "1.2.0",
          "state": {
            "_model_module": "@jupyter-widgets/base",
            "_model_module_version": "1.2.0",
            "_model_name": "LayoutModel",
            "_view_count": null,
            "_view_module": "@jupyter-widgets/base",
            "_view_module_version": "1.2.0",
            "_view_name": "LayoutView",
            "align_content": null,
            "align_items": null,
            "align_self": null,
            "border": null,
            "bottom": null,
            "display": null,
            "flex": null,
            "flex_flow": null,
            "grid_area": null,
            "grid_auto_columns": null,
            "grid_auto_flow": null,
            "grid_auto_rows": null,
            "grid_column": null,
            "grid_gap": null,
            "grid_row": null,
            "grid_template_areas": null,
            "grid_template_columns": null,
            "grid_template_rows": null,
            "height": null,
            "justify_content": null,
            "justify_items": null,
            "left": null,
            "margin": null,
            "max_height": null,
            "max_width": null,
            "min_height": null,
            "min_width": null,
            "object_fit": null,
            "object_position": null,
            "order": null,
            "overflow": null,
            "overflow_x": null,
            "overflow_y": null,
            "padding": null,
            "right": null,
            "top": null,
            "visibility": null,
            "width": null
          }
        },
        "753e9ed3db9248e298d8f7dbadfeaf31": {
          "model_module": "@jupyter-widgets/controls",
          "model_name": "DescriptionStyleModel",
          "model_module_version": "1.5.0",
          "state": {
            "_model_module": "@jupyter-widgets/controls",
            "_model_module_version": "1.5.0",
            "_model_name": "DescriptionStyleModel",
            "_view_count": null,
            "_view_module": "@jupyter-widgets/base",
            "_view_module_version": "1.2.0",
            "_view_name": "StyleView",
            "description_width": ""
          }
        },
        "9098ed0fd8eb481f81c2426df6034684": {
          "model_module": "@jupyter-widgets/base",
          "model_name": "LayoutModel",
          "model_module_version": "1.2.0",
          "state": {
            "_model_module": "@jupyter-widgets/base",
            "_model_module_version": "1.2.0",
            "_model_name": "LayoutModel",
            "_view_count": null,
            "_view_module": "@jupyter-widgets/base",
            "_view_module_version": "1.2.0",
            "_view_name": "LayoutView",
            "align_content": null,
            "align_items": null,
            "align_self": null,
            "border": null,
            "bottom": null,
            "display": null,
            "flex": null,
            "flex_flow": null,
            "grid_area": null,
            "grid_auto_columns": null,
            "grid_auto_flow": null,
            "grid_auto_rows": null,
            "grid_column": null,
            "grid_gap": null,
            "grid_row": null,
            "grid_template_areas": null,
            "grid_template_columns": null,
            "grid_template_rows": null,
            "height": null,
            "justify_content": null,
            "justify_items": null,
            "left": null,
            "margin": null,
            "max_height": null,
            "max_width": null,
            "min_height": null,
            "min_width": null,
            "object_fit": null,
            "object_position": null,
            "order": null,
            "overflow": null,
            "overflow_x": null,
            "overflow_y": null,
            "padding": null,
            "right": null,
            "top": null,
            "visibility": null,
            "width": null
          }
        },
        "39eda070357f4352a275c41771deca9d": {
          "model_module": "@jupyter-widgets/controls",
          "model_name": "DescriptionStyleModel",
          "model_module_version": "1.5.0",
          "state": {
            "_model_module": "@jupyter-widgets/controls",
            "_model_module_version": "1.5.0",
            "_model_name": "DescriptionStyleModel",
            "_view_count": null,
            "_view_module": "@jupyter-widgets/base",
            "_view_module_version": "1.2.0",
            "_view_name": "StyleView",
            "description_width": ""
          }
        },
        "401b05f17a1a462f9d4e80b16d4286c0": {
          "model_module": "@jupyter-widgets/base",
          "model_name": "LayoutModel",
          "model_module_version": "1.2.0",
          "state": {
            "_model_module": "@jupyter-widgets/base",
            "_model_module_version": "1.2.0",
            "_model_name": "LayoutModel",
            "_view_count": null,
            "_view_module": "@jupyter-widgets/base",
            "_view_module_version": "1.2.0",
            "_view_name": "LayoutView",
            "align_content": null,
            "align_items": null,
            "align_self": null,
            "border": null,
            "bottom": null,
            "display": "none",
            "flex": null,
            "flex_flow": null,
            "grid_area": null,
            "grid_auto_columns": null,
            "grid_auto_flow": null,
            "grid_auto_rows": null,
            "grid_column": null,
            "grid_gap": null,
            "grid_row": null,
            "grid_template_areas": null,
            "grid_template_columns": null,
            "grid_template_rows": null,
            "height": null,
            "justify_content": null,
            "justify_items": null,
            "left": null,
            "margin": null,
            "max_height": null,
            "max_width": null,
            "min_height": null,
            "min_width": null,
            "object_fit": null,
            "object_position": null,
            "order": null,
            "overflow": null,
            "overflow_x": null,
            "overflow_y": null,
            "padding": null,
            "right": null,
            "top": null,
            "visibility": null,
            "width": null
          }
        },
        "c8f43f25f6154f1dbb8457bca20cf0d5": {
          "model_module": "@jupyter-widgets/controls",
          "model_name": "DescriptionStyleModel",
          "model_module_version": "1.5.0",
          "state": {
            "_model_module": "@jupyter-widgets/controls",
            "_model_module_version": "1.5.0",
            "_model_name": "DescriptionStyleModel",
            "_view_count": null,
            "_view_module": "@jupyter-widgets/base",
            "_view_module_version": "1.2.0",
            "_view_name": "StyleView",
            "description_width": ""
          }
        },
        "2b5d098f842c418e81084627e0b82b53": {
          "model_module": "@jupyter-widgets/controls",
          "model_name": "FloatSliderModel",
          "model_module_version": "1.5.0",
          "state": {
            "_dom_classes": [],
            "_model_module": "@jupyter-widgets/controls",
            "_model_module_version": "1.5.0",
            "_model_name": "FloatSliderModel",
            "_view_count": null,
            "_view_module": "@jupyter-widgets/controls",
            "_view_module_version": "1.5.0",
            "_view_name": "FloatSliderView",
            "continuous_update": true,
            "description": "gbar_ampa",
            "description_tooltip": null,
            "disabled": false,
            "layout": "IPY_MODEL_85cab5675bff4919bc23891e25481ce3",
            "max": 0.02,
            "min": 0,
            "orientation": "horizontal",
            "readout": true,
            "readout_format": ".2f",
            "step": 0.0002,
            "style": "IPY_MODEL_20e2fc351827426dbed2075f905640ca",
            "value": 0.001
          }
        },
        "8ed07c82c8cc4e1db3524f4ce1e07f5b": {
          "model_module": "@jupyter-widgets/base",
          "model_name": "LayoutModel",
          "model_module_version": "1.2.0",
          "state": {
            "_model_module": "@jupyter-widgets/base",
            "_model_module_version": "1.2.0",
            "_model_name": "LayoutModel",
            "_view_count": null,
            "_view_module": "@jupyter-widgets/base",
            "_view_module_version": "1.2.0",
            "_view_name": "LayoutView",
            "align_content": null,
            "align_items": null,
            "align_self": null,
            "border": null,
            "bottom": null,
            "display": null,
            "flex": null,
            "flex_flow": null,
            "grid_area": null,
            "grid_auto_columns": null,
            "grid_auto_flow": null,
            "grid_auto_rows": null,
            "grid_column": null,
            "grid_gap": null,
            "grid_row": null,
            "grid_template_areas": null,
            "grid_template_columns": null,
            "grid_template_rows": null,
            "height": null,
            "justify_content": null,
            "justify_items": null,
            "left": null,
            "margin": null,
            "max_height": null,
            "max_width": null,
            "min_height": null,
            "min_width": null,
            "object_fit": null,
            "object_position": null,
            "order": null,
            "overflow": null,
            "overflow_x": null,
            "overflow_y": null,
            "padding": null,
            "right": null,
            "top": null,
            "visibility": null,
            "width": null
          }
        },
        "7487c214575d4e11b22babcfe4c13348": {
          "model_module": "@jupyter-widgets/controls",
          "model_name": "FloatSliderModel",
          "model_module_version": "1.5.0",
          "state": {
            "_dom_classes": [],
            "_model_module": "@jupyter-widgets/controls",
            "_model_module_version": "1.5.0",
            "_model_name": "FloatSliderModel",
            "_view_count": null,
            "_view_module": "@jupyter-widgets/controls",
            "_view_module_version": "1.5.0",
            "_view_name": "FloatSliderView",
            "continuous_update": true,
            "description": "gbar_nmda",
            "description_tooltip": null,
            "disabled": false,
            "layout": "IPY_MODEL_13fd1cfe8dd24505a4e1d56b33a04a6d",
            "max": 0.01,
            "min": 0,
            "orientation": "horizontal",
            "readout": true,
            "readout_format": ".2f",
            "step": 0.0001,
            "style": "IPY_MODEL_e8ed7b58b5794100939f8e1ad3ed01b1",
            "value": 0.0005
          }
        },
        "8d18e32606ec4d98a196d1cdecfdf6c1": {
          "model_module": "@jupyter-widgets/controls",
          "model_name": "FloatSliderModel",
          "model_module_version": "1.5.0",
          "state": {
            "_dom_classes": [],
            "_model_module": "@jupyter-widgets/controls",
            "_model_module_version": "1.5.0",
            "_model_name": "FloatSliderModel",
            "_view_count": null,
            "_view_module": "@jupyter-widgets/controls",
            "_view_module_version": "1.5.0",
            "_view_name": "FloatSliderView",
            "continuous_update": true,
            "description": "initW",
            "description_tooltip": null,
            "disabled": false,
            "layout": "IPY_MODEL_7bea7cfba3e4402eb61f892d3d10d9a3",
            "max": 100,
            "min": 0,
            "orientation": "horizontal",
            "readout": true,
            "readout_format": ".2f",
            "step": 1,
            "style": "IPY_MODEL_bcc6e3d8dcb34a25bc2d67296f838e7f",
            "value": 5
          }
        },
        "fe42d8f0c9a24c30baa82db2ba9a416b": {
          "model_module": "@jupyter-widgets/base",
          "model_name": "LayoutModel",
          "model_module_version": "1.2.0",
          "state": {
            "_model_module": "@jupyter-widgets/base",
            "_model_module_version": "1.2.0",
            "_model_name": "LayoutModel",
            "_view_count": null,
            "_view_module": "@jupyter-widgets/base",
            "_view_module_version": "1.2.0",
            "_view_name": "LayoutView",
            "align_content": null,
            "align_items": null,
            "align_self": null,
            "border": null,
            "bottom": null,
            "display": null,
            "flex": null,
            "flex_flow": null,
            "grid_area": null,
            "grid_auto_columns": null,
            "grid_auto_flow": null,
            "grid_auto_rows": null,
            "grid_column": null,
            "grid_gap": null,
            "grid_row": null,
            "grid_template_areas": null,
            "grid_template_columns": null,
            "grid_template_rows": null,
            "height": null,
            "justify_content": null,
            "justify_items": null,
            "left": null,
            "margin": null,
            "max_height": null,
            "max_width": null,
            "min_height": null,
            "min_width": null,
            "object_fit": null,
            "object_position": null,
            "order": null,
            "overflow": null,
            "overflow_x": null,
            "overflow_y": null,
            "padding": null,
            "right": null,
            "top": null,
            "visibility": null,
            "width": null
          }
        },
        "85cab5675bff4919bc23891e25481ce3": {
          "model_module": "@jupyter-widgets/base",
          "model_name": "LayoutModel",
          "model_module_version": "1.2.0",
          "state": {
            "_model_module": "@jupyter-widgets/base",
            "_model_module_version": "1.2.0",
            "_model_name": "LayoutModel",
            "_view_count": null,
            "_view_module": "@jupyter-widgets/base",
            "_view_module_version": "1.2.0",
            "_view_name": "LayoutView",
            "align_content": null,
            "align_items": null,
            "align_self": null,
            "border": null,
            "bottom": null,
            "display": null,
            "flex": null,
            "flex_flow": null,
            "grid_area": null,
            "grid_auto_columns": null,
            "grid_auto_flow": null,
            "grid_auto_rows": null,
            "grid_column": null,
            "grid_gap": null,
            "grid_row": null,
            "grid_template_areas": null,
            "grid_template_columns": null,
            "grid_template_rows": null,
            "height": null,
            "justify_content": null,
            "justify_items": null,
            "left": null,
            "margin": null,
            "max_height": null,
            "max_width": null,
            "min_height": null,
            "min_width": null,
            "object_fit": null,
            "object_position": null,
            "order": null,
            "overflow": null,
            "overflow_x": null,
            "overflow_y": null,
            "padding": null,
            "right": null,
            "top": null,
            "visibility": null,
            "width": null
          }
        },
        "20e2fc351827426dbed2075f905640ca": {
          "model_module": "@jupyter-widgets/controls",
          "model_name": "SliderStyleModel",
          "model_module_version": "1.5.0",
          "state": {
            "_model_module": "@jupyter-widgets/controls",
            "_model_module_version": "1.5.0",
            "_model_name": "SliderStyleModel",
            "_view_count": null,
            "_view_module": "@jupyter-widgets/base",
            "_view_module_version": "1.2.0",
            "_view_name": "StyleView",
            "description_width": "",
            "handle_color": null
          }
        },
        "13fd1cfe8dd24505a4e1d56b33a04a6d": {
          "model_module": "@jupyter-widgets/base",
          "model_name": "LayoutModel",
          "model_module_version": "1.2.0",
          "state": {
            "_model_module": "@jupyter-widgets/base",
            "_model_module_version": "1.2.0",
            "_model_name": "LayoutModel",
            "_view_count": null,
            "_view_module": "@jupyter-widgets/base",
            "_view_module_version": "1.2.0",
            "_view_name": "LayoutView",
            "align_content": null,
            "align_items": null,
            "align_self": null,
            "border": null,
            "bottom": null,
            "display": null,
            "flex": null,
            "flex_flow": null,
            "grid_area": null,
            "grid_auto_columns": null,
            "grid_auto_flow": null,
            "grid_auto_rows": null,
            "grid_column": null,
            "grid_gap": null,
            "grid_row": null,
            "grid_template_areas": null,
            "grid_template_columns": null,
            "grid_template_rows": null,
            "height": null,
            "justify_content": null,
            "justify_items": null,
            "left": null,
            "margin": null,
            "max_height": null,
            "max_width": null,
            "min_height": null,
            "min_width": null,
            "object_fit": null,
            "object_position": null,
            "order": null,
            "overflow": null,
            "overflow_x": null,
            "overflow_y": null,
            "padding": null,
            "right": null,
            "top": null,
            "visibility": null,
            "width": null
          }
        },
        "e8ed7b58b5794100939f8e1ad3ed01b1": {
          "model_module": "@jupyter-widgets/controls",
          "model_name": "SliderStyleModel",
          "model_module_version": "1.5.0",
          "state": {
            "_model_module": "@jupyter-widgets/controls",
            "_model_module_version": "1.5.0",
            "_model_name": "SliderStyleModel",
            "_view_count": null,
            "_view_module": "@jupyter-widgets/base",
            "_view_module_version": "1.2.0",
            "_view_name": "StyleView",
            "description_width": "",
            "handle_color": null
          }
        },
        "7bea7cfba3e4402eb61f892d3d10d9a3": {
          "model_module": "@jupyter-widgets/base",
          "model_name": "LayoutModel",
          "model_module_version": "1.2.0",
          "state": {
            "_model_module": "@jupyter-widgets/base",
            "_model_module_version": "1.2.0",
            "_model_name": "LayoutModel",
            "_view_count": null,
            "_view_module": "@jupyter-widgets/base",
            "_view_module_version": "1.2.0",
            "_view_name": "LayoutView",
            "align_content": null,
            "align_items": null,
            "align_self": null,
            "border": null,
            "bottom": null,
            "display": null,
            "flex": null,
            "flex_flow": null,
            "grid_area": null,
            "grid_auto_columns": null,
            "grid_auto_flow": null,
            "grid_auto_rows": null,
            "grid_column": null,
            "grid_gap": null,
            "grid_row": null,
            "grid_template_areas": null,
            "grid_template_columns": null,
            "grid_template_rows": null,
            "height": null,
            "justify_content": null,
            "justify_items": null,
            "left": null,
            "margin": null,
            "max_height": null,
            "max_width": null,
            "min_height": null,
            "min_width": null,
            "object_fit": null,
            "object_position": null,
            "order": null,
            "overflow": null,
            "overflow_x": null,
            "overflow_y": null,
            "padding": null,
            "right": null,
            "top": null,
            "visibility": null,
            "width": null
          }
        },
        "bcc6e3d8dcb34a25bc2d67296f838e7f": {
          "model_module": "@jupyter-widgets/controls",
          "model_name": "SliderStyleModel",
          "model_module_version": "1.5.0",
          "state": {
            "_model_module": "@jupyter-widgets/controls",
            "_model_module_version": "1.5.0",
            "_model_name": "SliderStyleModel",
            "_view_count": null,
            "_view_module": "@jupyter-widgets/base",
            "_view_module_version": "1.2.0",
            "_view_name": "StyleView",
            "description_width": "",
            "handle_color": null
          }
        },
        "1a13b87649f24a2abd50860f5390e19a": {
          "model_module": "@jupyter-widgets/controls",
          "model_name": "HBoxModel",
          "model_module_version": "1.5.0",
          "state": {
            "_dom_classes": [],
            "_model_module": "@jupyter-widgets/controls",
            "_model_module_version": "1.5.0",
            "_model_name": "HBoxModel",
            "_view_count": null,
            "_view_module": "@jupyter-widgets/controls",
            "_view_module_version": "1.5.0",
            "_view_name": "HBoxView",
            "box_style": "",
            "children": [
              "IPY_MODEL_3bf50531d7d247bda54977f4ddbb8ac1",
              "IPY_MODEL_ecff026d538543f3a632df1c2032a9e3",
              "IPY_MODEL_c45f2bbbcee14b8ea6e0ef70863708e7"
            ],
            "layout": "IPY_MODEL_08555927d59043b2a7b3c212ecb445d6"
          }
        },
        "3bf50531d7d247bda54977f4ddbb8ac1": {
          "model_module": "@jupyter-widgets/controls",
          "model_name": "HTMLModel",
          "model_module_version": "1.5.0",
          "state": {
            "_dom_classes": [],
            "_model_module": "@jupyter-widgets/controls",
            "_model_module_version": "1.5.0",
            "_model_name": "HTMLModel",
            "_view_count": null,
            "_view_module": "@jupyter-widgets/controls",
            "_view_module_version": "1.5.0",
            "_view_name": "HTMLView",
            "description": "",
            "description_tooltip": null,
            "layout": "IPY_MODEL_08c3ae83280f4f32b27c663df539fac4",
            "placeholder": "​",
            "style": "IPY_MODEL_7da205f9b51948ddbb5e63b94e38b3a1",
            "value": "Analyzing frequencies: 100%"
          }
        },
        "ecff026d538543f3a632df1c2032a9e3": {
          "model_module": "@jupyter-widgets/controls",
          "model_name": "FloatProgressModel",
          "model_module_version": "1.5.0",
          "state": {
            "_dom_classes": [],
            "_model_module": "@jupyter-widgets/controls",
            "_model_module_version": "1.5.0",
            "_model_name": "FloatProgressModel",
            "_view_count": null,
            "_view_module": "@jupyter-widgets/controls",
            "_view_module_version": "1.5.0",
            "_view_name": "ProgressView",
            "bar_style": "success",
            "description": "",
            "description_tooltip": null,
            "layout": "IPY_MODEL_c396c86a42da49e6a1ebe8b84ab3048f",
            "max": 3,
            "min": 0,
            "orientation": "horizontal",
            "style": "IPY_MODEL_afe056c6a14e4b688ab768394239e596",
            "value": 3
          }
        },
        "c45f2bbbcee14b8ea6e0ef70863708e7": {
          "model_module": "@jupyter-widgets/controls",
          "model_name": "HTMLModel",
          "model_module_version": "1.5.0",
          "state": {
            "_dom_classes": [],
            "_model_module": "@jupyter-widgets/controls",
            "_model_module_version": "1.5.0",
            "_model_name": "HTMLModel",
            "_view_count": null,
            "_view_module": "@jupyter-widgets/controls",
            "_view_module_version": "1.5.0",
            "_view_name": "HTMLView",
            "description": "",
            "description_tooltip": null,
            "layout": "IPY_MODEL_035cbb090297488f9dfb118a36abd1a6",
            "placeholder": "​",
            "style": "IPY_MODEL_5dff2b5585cb4918bdf1693178b83e76",
            "value": " 3/3 [04:16&lt;00:00, 79.14s/it]"
          }
        },
        "08555927d59043b2a7b3c212ecb445d6": {
          "model_module": "@jupyter-widgets/base",
          "model_name": "LayoutModel",
          "model_module_version": "1.2.0",
          "state": {
            "_model_module": "@jupyter-widgets/base",
            "_model_module_version": "1.2.0",
            "_model_name": "LayoutModel",
            "_view_count": null,
            "_view_module": "@jupyter-widgets/base",
            "_view_module_version": "1.2.0",
            "_view_name": "LayoutView",
            "align_content": null,
            "align_items": null,
            "align_self": null,
            "border": null,
            "bottom": null,
            "display": null,
            "flex": null,
            "flex_flow": null,
            "grid_area": null,
            "grid_auto_columns": null,
            "grid_auto_flow": null,
            "grid_auto_rows": null,
            "grid_column": null,
            "grid_gap": null,
            "grid_row": null,
            "grid_template_areas": null,
            "grid_template_columns": null,
            "grid_template_rows": null,
            "height": null,
            "justify_content": null,
            "justify_items": null,
            "left": null,
            "margin": null,
            "max_height": null,
            "max_width": null,
            "min_height": null,
            "min_width": null,
            "object_fit": null,
            "object_position": null,
            "order": null,
            "overflow": null,
            "overflow_x": null,
            "overflow_y": null,
            "padding": null,
            "right": null,
            "top": null,
            "visibility": null,
            "width": null
          }
        },
        "08c3ae83280f4f32b27c663df539fac4": {
          "model_module": "@jupyter-widgets/base",
          "model_name": "LayoutModel",
          "model_module_version": "1.2.0",
          "state": {
            "_model_module": "@jupyter-widgets/base",
            "_model_module_version": "1.2.0",
            "_model_name": "LayoutModel",
            "_view_count": null,
            "_view_module": "@jupyter-widgets/base",
            "_view_module_version": "1.2.0",
            "_view_name": "LayoutView",
            "align_content": null,
            "align_items": null,
            "align_self": null,
            "border": null,
            "bottom": null,
            "display": null,
            "flex": null,
            "flex_flow": null,
            "grid_area": null,
            "grid_auto_columns": null,
            "grid_auto_flow": null,
            "grid_auto_rows": null,
            "grid_column": null,
            "grid_gap": null,
            "grid_row": null,
            "grid_template_areas": null,
            "grid_template_columns": null,
            "grid_template_rows": null,
            "height": null,
            "justify_content": null,
            "justify_items": null,
            "left": null,
            "margin": null,
            "max_height": null,
            "max_width": null,
            "min_height": null,
            "min_width": null,
            "object_fit": null,
            "object_position": null,
            "order": null,
            "overflow": null,
            "overflow_x": null,
            "overflow_y": null,
            "padding": null,
            "right": null,
            "top": null,
            "visibility": null,
            "width": null
          }
        },
        "7da205f9b51948ddbb5e63b94e38b3a1": {
          "model_module": "@jupyter-widgets/controls",
          "model_name": "DescriptionStyleModel",
          "model_module_version": "1.5.0",
          "state": {
            "_model_module": "@jupyter-widgets/controls",
            "_model_module_version": "1.5.0",
            "_model_name": "DescriptionStyleModel",
            "_view_count": null,
            "_view_module": "@jupyter-widgets/base",
            "_view_module_version": "1.2.0",
            "_view_name": "StyleView",
            "description_width": ""
          }
        },
        "c396c86a42da49e6a1ebe8b84ab3048f": {
          "model_module": "@jupyter-widgets/base",
          "model_name": "LayoutModel",
          "model_module_version": "1.2.0",
          "state": {
            "_model_module": "@jupyter-widgets/base",
            "_model_module_version": "1.2.0",
            "_model_name": "LayoutModel",
            "_view_count": null,
            "_view_module": "@jupyter-widgets/base",
            "_view_module_version": "1.2.0",
            "_view_name": "LayoutView",
            "align_content": null,
            "align_items": null,
            "align_self": null,
            "border": null,
            "bottom": null,
            "display": null,
            "flex": null,
            "flex_flow": null,
            "grid_area": null,
            "grid_auto_columns": null,
            "grid_auto_flow": null,
            "grid_auto_rows": null,
            "grid_column": null,
            "grid_gap": null,
            "grid_row": null,
            "grid_template_areas": null,
            "grid_template_columns": null,
            "grid_template_rows": null,
            "height": null,
            "justify_content": null,
            "justify_items": null,
            "left": null,
            "margin": null,
            "max_height": null,
            "max_width": null,
            "min_height": null,
            "min_width": null,
            "object_fit": null,
            "object_position": null,
            "order": null,
            "overflow": null,
            "overflow_x": null,
            "overflow_y": null,
            "padding": null,
            "right": null,
            "top": null,
            "visibility": null,
            "width": null
          }
        },
        "afe056c6a14e4b688ab768394239e596": {
          "model_module": "@jupyter-widgets/controls",
          "model_name": "ProgressStyleModel",
          "model_module_version": "1.5.0",
          "state": {
            "_model_module": "@jupyter-widgets/controls",
            "_model_module_version": "1.5.0",
            "_model_name": "ProgressStyleModel",
            "_view_count": null,
            "_view_module": "@jupyter-widgets/base",
            "_view_module_version": "1.2.0",
            "_view_name": "StyleView",
            "bar_color": null,
            "description_width": ""
          }
        },
        "035cbb090297488f9dfb118a36abd1a6": {
          "model_module": "@jupyter-widgets/base",
          "model_name": "LayoutModel",
          "model_module_version": "1.2.0",
          "state": {
            "_model_module": "@jupyter-widgets/base",
            "_model_module_version": "1.2.0",
            "_model_name": "LayoutModel",
            "_view_count": null,
            "_view_module": "@jupyter-widgets/base",
            "_view_module_version": "1.2.0",
            "_view_name": "LayoutView",
            "align_content": null,
            "align_items": null,
            "align_self": null,
            "border": null,
            "bottom": null,
            "display": null,
            "flex": null,
            "flex_flow": null,
            "grid_area": null,
            "grid_auto_columns": null,
            "grid_auto_flow": null,
            "grid_auto_rows": null,
            "grid_column": null,
            "grid_gap": null,
            "grid_row": null,
            "grid_template_areas": null,
            "grid_template_columns": null,
            "grid_template_rows": null,
            "height": null,
            "justify_content": null,
            "justify_items": null,
            "left": null,
            "margin": null,
            "max_height": null,
            "max_width": null,
            "min_height": null,
            "min_width": null,
            "object_fit": null,
            "object_position": null,
            "order": null,
            "overflow": null,
            "overflow_x": null,
            "overflow_y": null,
            "padding": null,
            "right": null,
            "top": null,
            "visibility": null,
            "width": null
          }
        },
        "5dff2b5585cb4918bdf1693178b83e76": {
          "model_module": "@jupyter-widgets/controls",
          "model_name": "DescriptionStyleModel",
          "model_module_version": "1.5.0",
          "state": {
            "_model_module": "@jupyter-widgets/controls",
            "_model_module_version": "1.5.0",
            "_model_name": "DescriptionStyleModel",
            "_view_count": null,
            "_view_module": "@jupyter-widgets/base",
            "_view_module_version": "1.2.0",
            "_view_name": "StyleView",
            "description_width": ""
          }
        }
      }
    }
  },
  "nbformat": 4,
  "nbformat_minor": 0
}