{
 "cells": [
  {
   "cell_type": "code",
   "execution_count": null,
   "metadata": {},
   "outputs": [],
   "source": [
    "is_colab = 'google.colab' in str(get_ipython())\n",
    "if is_colab:\n",
    "    !pip install neuron\n",
    "    !git clone https://github.com/davidfague/Neural-Modeling.git -b cleanup\n",
    "    %cd Neural-Modeling/scripts\n",
    "    !pip install neuron_reduce\n",
    "    !pip install ipympl"
   ]
  },
  {
   "cell_type": "code",
   "execution_count": null,
   "metadata": {},
   "outputs": [],
   "source": [
    "import sys\n",
    "sys.path.append(\"../\")\n",
    "sys.path.append(\"../Modules/\")\n",
    "\n",
    "from Modules.simulation import Simulation\n",
    "from Modules.cell_builder import SkeletonCell, CellBuilder\n",
    "from Modules.constants import HayParameters\n",
    "\n",
    "import os\n",
    "from neuron import h\n",
    "\n",
    "from logger import Logger # type: ignore\n",
    "\n",
    "import numpy as np"
   ]
  },
  {
   "cell_type": "code",
   "execution_count": null,
   "metadata": {},
   "outputs": [],
   "source": [
    "%cd ../scripts"
   ]
  },
  {
   "cell_type": "code",
   "execution_count": null,
   "metadata": {},
   "outputs": [],
   "source": [
    "try:\n",
    "    os.system(\"rm -r x86_64/\")\n",
    "except:\n",
    "    pass"
   ]
  },
  {
   "cell_type": "code",
   "execution_count": 5,
   "metadata": {},
   "outputs": [],
   "source": [
    "# plot FI with synapses and no mapping\n",
    "import os\n",
    "import numpy as np\n",
    "\n",
    "# Define the template for common attributes\n",
    "common_attributes = {\n",
    "    'h_tstop': 2000,\n",
    "    'all_synapses_off': False,\n",
    "    'CI_on': True,\n",
    "    'h_i_duration': 1950,\n",
    "    'h_i_delay': 50,\n",
    "    'synapse_mapping': False\n",
    "}\n",
    "\n",
    "# Define the varying attributes for each sim_name, without including 'sim_name' key\n",
    "varying_attributes = [\n",
    "    {'base_sim_name': 'Complex', 'reduce_cell_selective': False},\n",
    "    {'base_sim_name': 'Basals', 'reduce_basals': True},\n",
    "    {'base_sim_name': 'Tufts', 'reduce_tufts': True},\n",
    "    {'base_sim_name': 'Obliques', 'reduce_obliques': True},\n",
    "    {'base_sim_name': 'All', 'reduce_obliques': True, 'reduce_tufts': True, 'reduce_basals': True}\n",
    "]\n",
    "\n",
    "# Generate the list of HayParameters with updated sim_names\n",
    "all_parameters = [\n",
    "    HayParameters(\n",
    "        **common_attributes,\n",
    "        h_i_amplitude=round(amp, 1),\n",
    "        sim_name=f\"{attributes['base_sim_name']}_amp_{round(amp, 1)}\",\n",
    "        **{k: v for k, v in attributes.items() if k != 'base_sim_name'}\n",
    "    )\n",
    "    for amp in np.arange(-2, 2.1, 0.2)\n",
    "    for attributes in varying_attributes\n",
    "]\n",
    "\n",
    "# Initialize simulation\n",
    "sim = Simulation(SkeletonCell.Hay, title='FI_SynapsesNoMapping')\n",
    "\n",
    "# Submit jobs to simulation\n",
    "for parameters in all_parameters:\n",
    "    sim.submit_job(parameters)\n",
    "\n",
    "# Remove directory if it exists\n",
    "try:\n",
    "    os.system(\"rm -r x86_64/\")\n",
    "except:\n",
    "    pass\n",
    "\n",
    "# Run the simulation\n",
    "sim.run()\n",
    "\n",
    "# Create directory for saving results\n",
    "output_dir = f\"../notebooks/{sim.title}\"\n",
    "os.makedirs(output_dir, exist_ok=True)\n",
    "\n",
    "# Get all parameter paths\n",
    "all_parameters_paths = [parameters.path for parameters in all_parameters]\n",
    "\n",
    "# Plot results and save to the directory\n",
    "plot_command = f\"python3 plot_fi.py -d {sim.path} -s {output_dir}\"\n",
    "os.system(plot_command)"
   ]
  }
 ],
 "metadata": {
  "kernelspec": {
   "display_name": "sim_env",
   "language": "python",
   "name": "python3"
  },
  "language_info": {
   "codemirror_mode": {
    "name": "ipython",
    "version": 3
   },
   "file_extension": ".py",
   "mimetype": "text/x-python",
   "name": "python",
   "nbconvert_exporter": "python",
   "pygments_lexer": "ipython3",
   "version": "3.10.14"
  }
 },
 "nbformat": 4,
 "nbformat_minor": 2
}
