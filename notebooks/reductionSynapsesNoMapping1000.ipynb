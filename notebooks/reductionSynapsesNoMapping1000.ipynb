{
 "cells": [
  {
   "cell_type": "code",
   "execution_count": 1,
   "metadata": {},
   "outputs": [],
   "source": [
    "is_colab = 'google.colab' in str(get_ipython())\n",
    "if is_colab:\n",
    "    !pip install neuron\n",
    "    !git clone https://github.com/davidfague/Neural-Modeling.git -b cleanup\n",
    "    %cd Neural-Modeling/scripts\n",
    "    !pip install neuron_reduce\n",
    "    !pip install ipympl"
   ]
  },
  {
   "cell_type": "code",
   "execution_count": 2,
   "metadata": {},
   "outputs": [
    {
     "name": "stderr",
     "output_type": "stream",
     "text": [
      "Warning: no DISPLAY environment variable.\n",
      "--No graphics will be displayed.\n"
     ]
    }
   ],
   "source": [
    "import sys\n",
    "sys.path.append(\"../\")\n",
    "sys.path.append(\"../Modules/\")\n",
    "\n",
    "from Modules.simulation import Simulation\n",
    "from Modules.cell_builder import SkeletonCell, CellBuilder\n",
    "from Modules.constants import HayParameters\n",
    "\n",
    "import os\n",
    "from neuron import h\n",
    "\n",
    "from logger import Logger # type: ignore\n",
    "\n",
    "import numpy as np"
   ]
  },
  {
   "cell_type": "code",
   "execution_count": 3,
   "metadata": {},
   "outputs": [],
   "source": [
    "sim = Simulation(SkeletonCell.Hay)\n",
    "parameters = HayParameters(sim_name = 'test', h_tstop= 5000, all_synapses_off=True) # NOTE: synapses will crash the simulation since they are not mapped and will remain on deleted sections"
   ]
  },
  {
   "cell_type": "code",
   "execution_count": 4,
   "metadata": {},
   "outputs": [
    {
     "name": "stdout",
     "output_type": "stream",
     "text": [
      "axial_currents.ipynb       NoMappingNumber5000.png\n",
      "bAP_matching.ipynb         NoMappingNumber.png\n",
      "cell_graph.ipynb           NoMapping.png\n",
      "FI_all.png                 reductionPassive.ipynb\n",
      "FI_curve.png               reductionSynapses.ipynb\n",
      "FI_NoMapping1000.png       reductionSynapsesLFP.ipynb\n",
      "Mapping.png                reductionSynapsesNoMapping1000.ipynb\n",
      "NoMapping1000synapses.png  reductionSynapsesNoMapping.ipynb\n",
      "NoMappingDensity.png       UsefulMarkdowns.ipynb\n"
     ]
    }
   ],
   "source": [
    "%ls"
   ]
  },
  {
   "cell_type": "code",
   "execution_count": 5,
   "metadata": {},
   "outputs": [
    {
     "name": "stderr",
     "output_type": "stream",
     "text": [
      "rm: cannot remove 'x86_64/': No such file or directory\n"
     ]
    }
   ],
   "source": [
    "try:\n",
    "    os.system(\"rm -r x86_64/\")\n",
    "except:\n",
    "    pass"
   ]
  },
  {
   "cell_type": "code",
   "execution_count": 6,
   "metadata": {},
   "outputs": [
    {
     "name": "stdout",
     "output_type": "stream",
     "text": [
      "/home/drfrbc/Neural-Modeling/scripts\n"
     ]
    },
    {
     "name": "stderr",
     "output_type": "stream",
     "text": [
      "/home/drfrbc/miniconda3/envs/sim_env/lib/python3.10/site-packages/IPython/core/magics/osm.py:417: UserWarning: using dhist requires you to install the `pickleshare` library.\n",
      "  self.shell.db['dhist'] = compress_dhist(dhist)[-100:]\n"
     ]
    }
   ],
   "source": [
    "%cd ../scripts"
   ]
  },
  {
   "cell_type": "code",
   "execution_count": 7,
   "metadata": {},
   "outputs": [
    {
     "data": {
      "text/plain": [
       "1.0"
      ]
     },
     "execution_count": 7,
     "metadata": {},
     "output_type": "execute_result"
    }
   ],
   "source": [
    "os.system(f\"nrnivmodl {sim.cell_type.value['modfiles']} > /dev/null 2>&1\")\n",
    "\n",
    "h.load_file('stdrun.hoc')\n",
    "h.nrn_load_dll('./x86_64/.libs/libnrnmech.so')"
   ]
  },
  {
   "cell_type": "code",
   "execution_count": 8,
   "metadata": {},
   "outputs": [],
   "source": [
    "%matplotlib widget\n",
    "\n",
    "import matplotlib.pyplot as plt\n",
    "from mpl_toolkits.mplot3d import Axes3D\n",
    "from ipywidgets import interactive, fixed, FloatSlider\n",
    "\n",
    "# Setup a global reference for figure and axes\n",
    "fig, ax = None, None\n",
    "\n",
    "def plot_segments(seg_data, elevation=0, azimuth=-100, radius_scale=1.0, deleted_indices=[]):\n",
    "    global fig, ax\n",
    "    if fig is None or ax is None:\n",
    "        plt.close('all')  # Close any existing plots\n",
    "        fig = plt.figure()\n",
    "        ax = fig.add_subplot(111, projection='3d')\n",
    "    else:\n",
    "        ax.cla()  # Clear the existing axes\n",
    "\n",
    "    for i, seg in enumerate(seg_data):\n",
    "        x_points = [seg.coords['p0_0'].iloc[0], seg.coords['pc_0'].iloc[0], seg.coords['p1_0'].iloc[0]]\n",
    "        y_points = [seg.coords['p0_1'].iloc[0], seg.coords['pc_1'].iloc[0], seg.coords['p1_1'].iloc[0]]\n",
    "        z_points = [seg.coords['p0_2'].iloc[0], seg.coords['pc_2'].iloc[0], seg.coords['p1_2'].iloc[0]]\n",
    "\n",
    "        radius = seg.coords['r'].iloc[0] * radius_scale\n",
    "        color = 'red' if i in deleted_indices else 'black'\n",
    "        radius = radius*0.1 if i in deleted_indices else radius # can adjust multiplier to increase red radius\n",
    "        ax.plot(x_points, z_points, y_points, linewidth=radius, color=color)\n",
    "\n",
    "    ax.view_init(elev=elevation, azim=azimuth)\n",
    "    ax.set_xlabel('X')\n",
    "    ax.set_ylabel('Z')\n",
    "    ax.set_zlabel('Y')"
   ]
  },
  {
   "cell_type": "code",
   "execution_count": 9,
   "metadata": {},
   "outputs": [],
   "source": [
    "from Modules.morph_reduction_utils import get_reduced_cell"
   ]
  },
  {
   "cell_type": "code",
   "execution_count": 10,
   "metadata": {},
   "outputs": [],
   "source": [
    "os.mkdir(sim.path)\n",
    "parameters.path = os.path.join(sim.path, parameters.sim_name)"
   ]
  },
  {
   "cell_type": "code",
   "execution_count": 11,
   "metadata": {},
   "outputs": [],
   "source": [
    "os.mkdir(parameters.path)"
   ]
  },
  {
   "cell_type": "code",
   "execution_count": 12,
   "metadata": {},
   "outputs": [],
   "source": [
    "logger = Logger(None)\n",
    "cell_builder = CellBuilder(sim.cell_type, parameters, logger)"
   ]
  },
  {
   "cell_type": "code",
   "execution_count": 13,
   "metadata": {},
   "outputs": [
    {
     "name": "stdout",
     "output_type": "stream",
     "text": [
      "(2024-05-20 20:30:54.922405)-[PID: 2835669]–[INFO]: Building SkeletonCell.Hay.\n",
      "all: [L5PCtemplate[0].soma[0], L5PCtemplate[0].dend[0], L5PCtemplate[0].dend[1], L5PCtemplate[0].dend[2], L5PCtemplate[0].dend[3], L5PCtemplate[0].dend[4], L5PCtemplate[0].dend[5], L5PCtemplate[0].dend[6], L5PCtemplate[0].dend[7], L5PCtemplate[0].dend[8], L5PCtemplate[0].dend[9], L5PCtemplate[0].dend[10], L5PCtemplate[0].dend[11], L5PCtemplate[0].dend[12], L5PCtemplate[0].dend[13], L5PCtemplate[0].dend[14], L5PCtemplate[0].dend[15], L5PCtemplate[0].dend[16], L5PCtemplate[0].dend[17], L5PCtemplate[0].dend[18], L5PCtemplate[0].dend[19], L5PCtemplate[0].dend[20], L5PCtemplate[0].dend[21], L5PCtemplate[0].dend[22], L5PCtemplate[0].dend[23], L5PCtemplate[0].dend[24], L5PCtemplate[0].dend[25], L5PCtemplate[0].dend[26], L5PCtemplate[0].dend[27], L5PCtemplate[0].dend[28], L5PCtemplate[0].dend[29], L5PCtemplate[0].dend[30], L5PCtemplate[0].dend[31], L5PCtemplate[0].dend[32], L5PCtemplate[0].dend[33], L5PCtemplate[0].dend[34], L5PCtemplate[0].dend[35], L5PCtemplate[0].dend[36], L5PCtemplate[0].dend[37], L5PCtemplate[0].dend[38], L5PCtemplate[0].dend[39], L5PCtemplate[0].dend[40], L5PCtemplate[0].dend[41], L5PCtemplate[0].dend[42], L5PCtemplate[0].dend[43], L5PCtemplate[0].dend[44], L5PCtemplate[0].dend[45], L5PCtemplate[0].dend[46], L5PCtemplate[0].dend[47], L5PCtemplate[0].dend[48], L5PCtemplate[0].dend[49], L5PCtemplate[0].dend[50], L5PCtemplate[0].dend[51], L5PCtemplate[0].dend[52], L5PCtemplate[0].dend[53], L5PCtemplate[0].dend[54], L5PCtemplate[0].dend[55], L5PCtemplate[0].dend[56], L5PCtemplate[0].dend[57], L5PCtemplate[0].dend[58], L5PCtemplate[0].dend[59], L5PCtemplate[0].dend[60], L5PCtemplate[0].dend[61], L5PCtemplate[0].dend[62], L5PCtemplate[0].dend[63], L5PCtemplate[0].dend[64], L5PCtemplate[0].dend[65], L5PCtemplate[0].dend[66], L5PCtemplate[0].dend[67], L5PCtemplate[0].dend[68], L5PCtemplate[0].dend[69], L5PCtemplate[0].dend[70], L5PCtemplate[0].dend[71], L5PCtemplate[0].dend[72], L5PCtemplate[0].dend[73], L5PCtemplate[0].dend[74], L5PCtemplate[0].dend[75], L5PCtemplate[0].dend[76], L5PCtemplate[0].dend[77], L5PCtemplate[0].dend[78], L5PCtemplate[0].dend[79], L5PCtemplate[0].dend[80], L5PCtemplate[0].dend[81], L5PCtemplate[0].dend[82], L5PCtemplate[0].dend[83], L5PCtemplate[0].apic[0], L5PCtemplate[0].apic[1], L5PCtemplate[0].apic[2], L5PCtemplate[0].apic[3], L5PCtemplate[0].apic[4], L5PCtemplate[0].apic[5], L5PCtemplate[0].apic[6], L5PCtemplate[0].apic[7], L5PCtemplate[0].apic[8], L5PCtemplate[0].apic[9], L5PCtemplate[0].apic[10], L5PCtemplate[0].apic[11], L5PCtemplate[0].apic[12], L5PCtemplate[0].apic[13], L5PCtemplate[0].apic[14], L5PCtemplate[0].apic[15], L5PCtemplate[0].apic[16], L5PCtemplate[0].apic[17], L5PCtemplate[0].apic[18], L5PCtemplate[0].apic[19], L5PCtemplate[0].apic[20], L5PCtemplate[0].apic[21], L5PCtemplate[0].apic[22], L5PCtemplate[0].apic[23], L5PCtemplate[0].apic[24], L5PCtemplate[0].apic[25], L5PCtemplate[0].apic[26], L5PCtemplate[0].apic[27], L5PCtemplate[0].apic[28], L5PCtemplate[0].apic[29], L5PCtemplate[0].apic[30], L5PCtemplate[0].apic[31], L5PCtemplate[0].apic[32], L5PCtemplate[0].apic[33], L5PCtemplate[0].apic[34], L5PCtemplate[0].apic[35], L5PCtemplate[0].apic[36], L5PCtemplate[0].apic[37], L5PCtemplate[0].apic[38], L5PCtemplate[0].apic[39], L5PCtemplate[0].apic[40], L5PCtemplate[0].apic[41], L5PCtemplate[0].apic[42], L5PCtemplate[0].apic[43], L5PCtemplate[0].apic[44], L5PCtemplate[0].apic[45], L5PCtemplate[0].apic[46], L5PCtemplate[0].apic[47], L5PCtemplate[0].apic[48], L5PCtemplate[0].apic[49], L5PCtemplate[0].apic[50], L5PCtemplate[0].apic[51], L5PCtemplate[0].apic[52], L5PCtemplate[0].apic[53], L5PCtemplate[0].apic[54], L5PCtemplate[0].apic[55], L5PCtemplate[0].apic[56], L5PCtemplate[0].apic[57], L5PCtemplate[0].apic[58], L5PCtemplate[0].apic[59], L5PCtemplate[0].apic[60], L5PCtemplate[0].apic[61], L5PCtemplate[0].apic[62], L5PCtemplate[0].apic[63], L5PCtemplate[0].apic[64], L5PCtemplate[0].apic[65], L5PCtemplate[0].apic[66], L5PCtemplate[0].apic[67], L5PCtemplate[0].apic[68], L5PCtemplate[0].apic[69], L5PCtemplate[0].apic[70], L5PCtemplate[0].apic[71], L5PCtemplate[0].apic[72], L5PCtemplate[0].apic[73], L5PCtemplate[0].apic[74], L5PCtemplate[0].apic[75], L5PCtemplate[0].apic[76], L5PCtemplate[0].apic[77], L5PCtemplate[0].apic[78], L5PCtemplate[0].apic[79], L5PCtemplate[0].apic[80], L5PCtemplate[0].apic[81], L5PCtemplate[0].apic[82], L5PCtemplate[0].apic[83], L5PCtemplate[0].apic[84], L5PCtemplate[0].apic[85], L5PCtemplate[0].apic[86], L5PCtemplate[0].apic[87], L5PCtemplate[0].apic[88], L5PCtemplate[0].apic[89], L5PCtemplate[0].apic[90], L5PCtemplate[0].apic[91], L5PCtemplate[0].apic[92], L5PCtemplate[0].apic[93], L5PCtemplate[0].apic[94], L5PCtemplate[0].apic[95], L5PCtemplate[0].apic[96], L5PCtemplate[0].apic[97], L5PCtemplate[0].apic[98], L5PCtemplate[0].apic[99], L5PCtemplate[0].apic[100], L5PCtemplate[0].apic[101], L5PCtemplate[0].apic[102], L5PCtemplate[0].apic[103], L5PCtemplate[0].apic[104], L5PCtemplate[0].apic[105], L5PCtemplate[0].apic[106], L5PCtemplate[0].apic[107], L5PCtemplate[0].apic[108], L5PCtemplate[0].axon[0]]\n",
      "soma: [L5PCtemplate[0].soma[0]]\n",
      "dend: [L5PCtemplate[0].dend[0], L5PCtemplate[0].dend[1], L5PCtemplate[0].dend[2], L5PCtemplate[0].dend[3], L5PCtemplate[0].dend[4], L5PCtemplate[0].dend[5], L5PCtemplate[0].dend[6], L5PCtemplate[0].dend[7], L5PCtemplate[0].dend[8], L5PCtemplate[0].dend[9], L5PCtemplate[0].dend[10], L5PCtemplate[0].dend[11], L5PCtemplate[0].dend[12], L5PCtemplate[0].dend[13], L5PCtemplate[0].dend[14], L5PCtemplate[0].dend[15], L5PCtemplate[0].dend[16], L5PCtemplate[0].dend[17], L5PCtemplate[0].dend[18], L5PCtemplate[0].dend[19], L5PCtemplate[0].dend[20], L5PCtemplate[0].dend[21], L5PCtemplate[0].dend[22], L5PCtemplate[0].dend[23], L5PCtemplate[0].dend[24], L5PCtemplate[0].dend[25], L5PCtemplate[0].dend[26], L5PCtemplate[0].dend[27], L5PCtemplate[0].dend[28], L5PCtemplate[0].dend[29], L5PCtemplate[0].dend[30], L5PCtemplate[0].dend[31], L5PCtemplate[0].dend[32], L5PCtemplate[0].dend[33], L5PCtemplate[0].dend[34], L5PCtemplate[0].dend[35], L5PCtemplate[0].dend[36], L5PCtemplate[0].dend[37], L5PCtemplate[0].dend[38], L5PCtemplate[0].dend[39], L5PCtemplate[0].dend[40], L5PCtemplate[0].dend[41], L5PCtemplate[0].dend[42], L5PCtemplate[0].dend[43], L5PCtemplate[0].dend[44], L5PCtemplate[0].dend[45], L5PCtemplate[0].dend[46], L5PCtemplate[0].dend[47], L5PCtemplate[0].dend[48], L5PCtemplate[0].dend[49], L5PCtemplate[0].dend[50], L5PCtemplate[0].dend[51], L5PCtemplate[0].dend[52], L5PCtemplate[0].dend[53], L5PCtemplate[0].dend[54], L5PCtemplate[0].dend[55], L5PCtemplate[0].dend[56], L5PCtemplate[0].dend[57], L5PCtemplate[0].dend[58], L5PCtemplate[0].dend[59], L5PCtemplate[0].dend[60], L5PCtemplate[0].dend[61], L5PCtemplate[0].dend[62], L5PCtemplate[0].dend[63], L5PCtemplate[0].dend[64], L5PCtemplate[0].dend[65], L5PCtemplate[0].dend[66], L5PCtemplate[0].dend[67], L5PCtemplate[0].dend[68], L5PCtemplate[0].dend[69], L5PCtemplate[0].dend[70], L5PCtemplate[0].dend[71], L5PCtemplate[0].dend[72], L5PCtemplate[0].dend[73], L5PCtemplate[0].dend[74], L5PCtemplate[0].dend[75], L5PCtemplate[0].dend[76], L5PCtemplate[0].dend[77], L5PCtemplate[0].dend[78], L5PCtemplate[0].dend[79], L5PCtemplate[0].dend[80], L5PCtemplate[0].dend[81], L5PCtemplate[0].dend[82], L5PCtemplate[0].dend[83]]\n",
      "apic: [L5PCtemplate[0].apic[0], L5PCtemplate[0].apic[1], L5PCtemplate[0].apic[2], L5PCtemplate[0].apic[3], L5PCtemplate[0].apic[4], L5PCtemplate[0].apic[5], L5PCtemplate[0].apic[6], L5PCtemplate[0].apic[7], L5PCtemplate[0].apic[8], L5PCtemplate[0].apic[9], L5PCtemplate[0].apic[10], L5PCtemplate[0].apic[11], L5PCtemplate[0].apic[12], L5PCtemplate[0].apic[13], L5PCtemplate[0].apic[14], L5PCtemplate[0].apic[15], L5PCtemplate[0].apic[16], L5PCtemplate[0].apic[17], L5PCtemplate[0].apic[18], L5PCtemplate[0].apic[19], L5PCtemplate[0].apic[20], L5PCtemplate[0].apic[21], L5PCtemplate[0].apic[22], L5PCtemplate[0].apic[23], L5PCtemplate[0].apic[24], L5PCtemplate[0].apic[25], L5PCtemplate[0].apic[26], L5PCtemplate[0].apic[27], L5PCtemplate[0].apic[28], L5PCtemplate[0].apic[29], L5PCtemplate[0].apic[30], L5PCtemplate[0].apic[31], L5PCtemplate[0].apic[32], L5PCtemplate[0].apic[33], L5PCtemplate[0].apic[34], L5PCtemplate[0].apic[35], L5PCtemplate[0].apic[36], L5PCtemplate[0].apic[37], L5PCtemplate[0].apic[38], L5PCtemplate[0].apic[39], L5PCtemplate[0].apic[40], L5PCtemplate[0].apic[41], L5PCtemplate[0].apic[42], L5PCtemplate[0].apic[43], L5PCtemplate[0].apic[44], L5PCtemplate[0].apic[45], L5PCtemplate[0].apic[46], L5PCtemplate[0].apic[47], L5PCtemplate[0].apic[48], L5PCtemplate[0].apic[49], L5PCtemplate[0].apic[50], L5PCtemplate[0].apic[51], L5PCtemplate[0].apic[52], L5PCtemplate[0].apic[53], L5PCtemplate[0].apic[54], L5PCtemplate[0].apic[55], L5PCtemplate[0].apic[56], L5PCtemplate[0].apic[57], L5PCtemplate[0].apic[58], L5PCtemplate[0].apic[59], L5PCtemplate[0].apic[60], L5PCtemplate[0].apic[61], L5PCtemplate[0].apic[62], L5PCtemplate[0].apic[63], L5PCtemplate[0].apic[64], L5PCtemplate[0].apic[65], L5PCtemplate[0].apic[66], L5PCtemplate[0].apic[67], L5PCtemplate[0].apic[68], L5PCtemplate[0].apic[69], L5PCtemplate[0].apic[70], L5PCtemplate[0].apic[71], L5PCtemplate[0].apic[72], L5PCtemplate[0].apic[73], L5PCtemplate[0].apic[74], L5PCtemplate[0].apic[75], L5PCtemplate[0].apic[76], L5PCtemplate[0].apic[77], L5PCtemplate[0].apic[78], L5PCtemplate[0].apic[79], L5PCtemplate[0].apic[80], L5PCtemplate[0].apic[81], L5PCtemplate[0].apic[82], L5PCtemplate[0].apic[83], L5PCtemplate[0].apic[84], L5PCtemplate[0].apic[85], L5PCtemplate[0].apic[86], L5PCtemplate[0].apic[87], L5PCtemplate[0].apic[88], L5PCtemplate[0].apic[89], L5PCtemplate[0].apic[90], L5PCtemplate[0].apic[91], L5PCtemplate[0].apic[92], L5PCtemplate[0].apic[93], L5PCtemplate[0].apic[94], L5PCtemplate[0].apic[95], L5PCtemplate[0].apic[96], L5PCtemplate[0].apic[97], L5PCtemplate[0].apic[98], L5PCtemplate[0].apic[99], L5PCtemplate[0].apic[100], L5PCtemplate[0].apic[101], L5PCtemplate[0].apic[102], L5PCtemplate[0].apic[103], L5PCtemplate[0].apic[104], L5PCtemplate[0].apic[105], L5PCtemplate[0].apic[106], L5PCtemplate[0].apic[107], L5PCtemplate[0].apic[108]]\n",
      "axon: [L5PCtemplate[0].axon[0]]\n",
      "(2024-05-20 20:30:55.177768)-[PID: 2835669]–[INFO]: Finished creating a CellModel object.\n",
      "(2024-05-20 20:30:55.177787)-[PID: 2835669]–[INFO]: Finish building in 0.25591611862182617\n",
      "(2024-05-20 20:30:55.178370)-[PID: 2835669]–[INFO]: Building SkeletonCell.Hay.\n",
      "all: [L5PCtemplate[1].soma[0], L5PCtemplate[1].dend[0], L5PCtemplate[1].dend[1], L5PCtemplate[1].dend[2], L5PCtemplate[1].dend[3], L5PCtemplate[1].dend[4], L5PCtemplate[1].dend[5], L5PCtemplate[1].dend[6], L5PCtemplate[1].dend[7], L5PCtemplate[1].dend[8], L5PCtemplate[1].dend[9], L5PCtemplate[1].dend[10], L5PCtemplate[1].dend[11], L5PCtemplate[1].dend[12], L5PCtemplate[1].dend[13], L5PCtemplate[1].dend[14], L5PCtemplate[1].dend[15], L5PCtemplate[1].dend[16], L5PCtemplate[1].dend[17], L5PCtemplate[1].dend[18], L5PCtemplate[1].dend[19], L5PCtemplate[1].dend[20], L5PCtemplate[1].dend[21], L5PCtemplate[1].dend[22], L5PCtemplate[1].dend[23], L5PCtemplate[1].dend[24], L5PCtemplate[1].dend[25], L5PCtemplate[1].dend[26], L5PCtemplate[1].dend[27], L5PCtemplate[1].dend[28], L5PCtemplate[1].dend[29], L5PCtemplate[1].dend[30], L5PCtemplate[1].dend[31], L5PCtemplate[1].dend[32], L5PCtemplate[1].dend[33], L5PCtemplate[1].dend[34], L5PCtemplate[1].dend[35], L5PCtemplate[1].dend[36], L5PCtemplate[1].dend[37], L5PCtemplate[1].dend[38], L5PCtemplate[1].dend[39], L5PCtemplate[1].dend[40], L5PCtemplate[1].dend[41], L5PCtemplate[1].dend[42], L5PCtemplate[1].dend[43], L5PCtemplate[1].dend[44], L5PCtemplate[1].dend[45], L5PCtemplate[1].dend[46], L5PCtemplate[1].dend[47], L5PCtemplate[1].dend[48], L5PCtemplate[1].dend[49], L5PCtemplate[1].dend[50], L5PCtemplate[1].dend[51], L5PCtemplate[1].dend[52], L5PCtemplate[1].dend[53], L5PCtemplate[1].dend[54], L5PCtemplate[1].dend[55], L5PCtemplate[1].dend[56], L5PCtemplate[1].dend[57], L5PCtemplate[1].dend[58], L5PCtemplate[1].dend[59], L5PCtemplate[1].dend[60], L5PCtemplate[1].dend[61], L5PCtemplate[1].dend[62], L5PCtemplate[1].dend[63], L5PCtemplate[1].dend[64], L5PCtemplate[1].dend[65], L5PCtemplate[1].dend[66], L5PCtemplate[1].dend[67], L5PCtemplate[1].dend[68], L5PCtemplate[1].dend[69], L5PCtemplate[1].dend[70], L5PCtemplate[1].dend[71], L5PCtemplate[1].dend[72], L5PCtemplate[1].dend[73], L5PCtemplate[1].dend[74], L5PCtemplate[1].dend[75], L5PCtemplate[1].dend[76], L5PCtemplate[1].dend[77], L5PCtemplate[1].dend[78], L5PCtemplate[1].dend[79], L5PCtemplate[1].dend[80], L5PCtemplate[1].dend[81], L5PCtemplate[1].dend[82], L5PCtemplate[1].dend[83], L5PCtemplate[1].apic[0], L5PCtemplate[1].apic[1], L5PCtemplate[1].apic[2], L5PCtemplate[1].apic[3], L5PCtemplate[1].apic[4], L5PCtemplate[1].apic[5], L5PCtemplate[1].apic[6], L5PCtemplate[1].apic[7], L5PCtemplate[1].apic[8], L5PCtemplate[1].apic[9], L5PCtemplate[1].apic[10], L5PCtemplate[1].apic[11], L5PCtemplate[1].apic[12], L5PCtemplate[1].apic[13], L5PCtemplate[1].apic[14], L5PCtemplate[1].apic[15], L5PCtemplate[1].apic[16], L5PCtemplate[1].apic[17], L5PCtemplate[1].apic[18], L5PCtemplate[1].apic[19], L5PCtemplate[1].apic[20], L5PCtemplate[1].apic[21], L5PCtemplate[1].apic[22], L5PCtemplate[1].apic[23], L5PCtemplate[1].apic[24], L5PCtemplate[1].apic[25], L5PCtemplate[1].apic[26], L5PCtemplate[1].apic[27], L5PCtemplate[1].apic[28], L5PCtemplate[1].apic[29], L5PCtemplate[1].apic[30], L5PCtemplate[1].apic[31], L5PCtemplate[1].apic[32], L5PCtemplate[1].apic[33], L5PCtemplate[1].apic[34], L5PCtemplate[1].apic[35], L5PCtemplate[1].apic[36], L5PCtemplate[1].apic[37], L5PCtemplate[1].apic[38], L5PCtemplate[1].apic[39], L5PCtemplate[1].apic[40], L5PCtemplate[1].apic[41], L5PCtemplate[1].apic[42], L5PCtemplate[1].apic[43], L5PCtemplate[1].apic[44], L5PCtemplate[1].apic[45], L5PCtemplate[1].apic[46], L5PCtemplate[1].apic[47], L5PCtemplate[1].apic[48], L5PCtemplate[1].apic[49], L5PCtemplate[1].apic[50], L5PCtemplate[1].apic[51], L5PCtemplate[1].apic[52], L5PCtemplate[1].apic[53], L5PCtemplate[1].apic[54], L5PCtemplate[1].apic[55], L5PCtemplate[1].apic[56], L5PCtemplate[1].apic[57], L5PCtemplate[1].apic[58], L5PCtemplate[1].apic[59], L5PCtemplate[1].apic[60], L5PCtemplate[1].apic[61], L5PCtemplate[1].apic[62], L5PCtemplate[1].apic[63], L5PCtemplate[1].apic[64], L5PCtemplate[1].apic[65], L5PCtemplate[1].apic[66], L5PCtemplate[1].apic[67], L5PCtemplate[1].apic[68], L5PCtemplate[1].apic[69], L5PCtemplate[1].apic[70], L5PCtemplate[1].apic[71], L5PCtemplate[1].apic[72], L5PCtemplate[1].apic[73], L5PCtemplate[1].apic[74], L5PCtemplate[1].apic[75], L5PCtemplate[1].apic[76], L5PCtemplate[1].apic[77], L5PCtemplate[1].apic[78], L5PCtemplate[1].apic[79], L5PCtemplate[1].apic[80], L5PCtemplate[1].apic[81], L5PCtemplate[1].apic[82], L5PCtemplate[1].apic[83], L5PCtemplate[1].apic[84], L5PCtemplate[1].apic[85], L5PCtemplate[1].apic[86], L5PCtemplate[1].apic[87], L5PCtemplate[1].apic[88], L5PCtemplate[1].apic[89], L5PCtemplate[1].apic[90], L5PCtemplate[1].apic[91], L5PCtemplate[1].apic[92], L5PCtemplate[1].apic[93], L5PCtemplate[1].apic[94], L5PCtemplate[1].apic[95], L5PCtemplate[1].apic[96], L5PCtemplate[1].apic[97], L5PCtemplate[1].apic[98], L5PCtemplate[1].apic[99], L5PCtemplate[1].apic[100], L5PCtemplate[1].apic[101], L5PCtemplate[1].apic[102], L5PCtemplate[1].apic[103], L5PCtemplate[1].apic[104], L5PCtemplate[1].apic[105], L5PCtemplate[1].apic[106], L5PCtemplate[1].apic[107], L5PCtemplate[1].apic[108], L5PCtemplate[1].axon[0]]\n",
      "soma: [L5PCtemplate[1].soma[0]]\n",
      "dend: [L5PCtemplate[1].dend[0], L5PCtemplate[1].dend[1], L5PCtemplate[1].dend[2], L5PCtemplate[1].dend[3], L5PCtemplate[1].dend[4], L5PCtemplate[1].dend[5], L5PCtemplate[1].dend[6], L5PCtemplate[1].dend[7], L5PCtemplate[1].dend[8], L5PCtemplate[1].dend[9], L5PCtemplate[1].dend[10], L5PCtemplate[1].dend[11], L5PCtemplate[1].dend[12], L5PCtemplate[1].dend[13], L5PCtemplate[1].dend[14], L5PCtemplate[1].dend[15], L5PCtemplate[1].dend[16], L5PCtemplate[1].dend[17], L5PCtemplate[1].dend[18], L5PCtemplate[1].dend[19], L5PCtemplate[1].dend[20], L5PCtemplate[1].dend[21], L5PCtemplate[1].dend[22], L5PCtemplate[1].dend[23], L5PCtemplate[1].dend[24], L5PCtemplate[1].dend[25], L5PCtemplate[1].dend[26], L5PCtemplate[1].dend[27], L5PCtemplate[1].dend[28], L5PCtemplate[1].dend[29], L5PCtemplate[1].dend[30], L5PCtemplate[1].dend[31], L5PCtemplate[1].dend[32], L5PCtemplate[1].dend[33], L5PCtemplate[1].dend[34], L5PCtemplate[1].dend[35], L5PCtemplate[1].dend[36], L5PCtemplate[1].dend[37], L5PCtemplate[1].dend[38], L5PCtemplate[1].dend[39], L5PCtemplate[1].dend[40], L5PCtemplate[1].dend[41], L5PCtemplate[1].dend[42], L5PCtemplate[1].dend[43], L5PCtemplate[1].dend[44], L5PCtemplate[1].dend[45], L5PCtemplate[1].dend[46], L5PCtemplate[1].dend[47], L5PCtemplate[1].dend[48], L5PCtemplate[1].dend[49], L5PCtemplate[1].dend[50], L5PCtemplate[1].dend[51], L5PCtemplate[1].dend[52], L5PCtemplate[1].dend[53], L5PCtemplate[1].dend[54], L5PCtemplate[1].dend[55], L5PCtemplate[1].dend[56], L5PCtemplate[1].dend[57], L5PCtemplate[1].dend[58], L5PCtemplate[1].dend[59], L5PCtemplate[1].dend[60], L5PCtemplate[1].dend[61], L5PCtemplate[1].dend[62], L5PCtemplate[1].dend[63], L5PCtemplate[1].dend[64], L5PCtemplate[1].dend[65], L5PCtemplate[1].dend[66], L5PCtemplate[1].dend[67], L5PCtemplate[1].dend[68], L5PCtemplate[1].dend[69], L5PCtemplate[1].dend[70], L5PCtemplate[1].dend[71], L5PCtemplate[1].dend[72], L5PCtemplate[1].dend[73], L5PCtemplate[1].dend[74], L5PCtemplate[1].dend[75], L5PCtemplate[1].dend[76], L5PCtemplate[1].dend[77], L5PCtemplate[1].dend[78], L5PCtemplate[1].dend[79], L5PCtemplate[1].dend[80], L5PCtemplate[1].dend[81], L5PCtemplate[1].dend[82], L5PCtemplate[1].dend[83]]\n",
      "apic: [L5PCtemplate[1].apic[0], L5PCtemplate[1].apic[1], L5PCtemplate[1].apic[2], L5PCtemplate[1].apic[3], L5PCtemplate[1].apic[4], L5PCtemplate[1].apic[5], L5PCtemplate[1].apic[6], L5PCtemplate[1].apic[7], L5PCtemplate[1].apic[8], L5PCtemplate[1].apic[9], L5PCtemplate[1].apic[10], L5PCtemplate[1].apic[11], L5PCtemplate[1].apic[12], L5PCtemplate[1].apic[13], L5PCtemplate[1].apic[14], L5PCtemplate[1].apic[15], L5PCtemplate[1].apic[16], L5PCtemplate[1].apic[17], L5PCtemplate[1].apic[18], L5PCtemplate[1].apic[19], L5PCtemplate[1].apic[20], L5PCtemplate[1].apic[21], L5PCtemplate[1].apic[22], L5PCtemplate[1].apic[23], L5PCtemplate[1].apic[24], L5PCtemplate[1].apic[25], L5PCtemplate[1].apic[26], L5PCtemplate[1].apic[27], L5PCtemplate[1].apic[28], L5PCtemplate[1].apic[29], L5PCtemplate[1].apic[30], L5PCtemplate[1].apic[31], L5PCtemplate[1].apic[32], L5PCtemplate[1].apic[33], L5PCtemplate[1].apic[34], L5PCtemplate[1].apic[35], L5PCtemplate[1].apic[36], L5PCtemplate[1].apic[37], L5PCtemplate[1].apic[38], L5PCtemplate[1].apic[39], L5PCtemplate[1].apic[40], L5PCtemplate[1].apic[41], L5PCtemplate[1].apic[42], L5PCtemplate[1].apic[43], L5PCtemplate[1].apic[44], L5PCtemplate[1].apic[45], L5PCtemplate[1].apic[46], L5PCtemplate[1].apic[47], L5PCtemplate[1].apic[48], L5PCtemplate[1].apic[49], L5PCtemplate[1].apic[50], L5PCtemplate[1].apic[51], L5PCtemplate[1].apic[52], L5PCtemplate[1].apic[53], L5PCtemplate[1].apic[54], L5PCtemplate[1].apic[55], L5PCtemplate[1].apic[56], L5PCtemplate[1].apic[57], L5PCtemplate[1].apic[58], L5PCtemplate[1].apic[59], L5PCtemplate[1].apic[60], L5PCtemplate[1].apic[61], L5PCtemplate[1].apic[62], L5PCtemplate[1].apic[63], L5PCtemplate[1].apic[64], L5PCtemplate[1].apic[65], L5PCtemplate[1].apic[66], L5PCtemplate[1].apic[67], L5PCtemplate[1].apic[68], L5PCtemplate[1].apic[69], L5PCtemplate[1].apic[70], L5PCtemplate[1].apic[71], L5PCtemplate[1].apic[72], L5PCtemplate[1].apic[73], L5PCtemplate[1].apic[74], L5PCtemplate[1].apic[75], L5PCtemplate[1].apic[76], L5PCtemplate[1].apic[77], L5PCtemplate[1].apic[78], L5PCtemplate[1].apic[79], L5PCtemplate[1].apic[80], L5PCtemplate[1].apic[81], L5PCtemplate[1].apic[82], L5PCtemplate[1].apic[83], L5PCtemplate[1].apic[84], L5PCtemplate[1].apic[85], L5PCtemplate[1].apic[86], L5PCtemplate[1].apic[87], L5PCtemplate[1].apic[88], L5PCtemplate[1].apic[89], L5PCtemplate[1].apic[90], L5PCtemplate[1].apic[91], L5PCtemplate[1].apic[92], L5PCtemplate[1].apic[93], L5PCtemplate[1].apic[94], L5PCtemplate[1].apic[95], L5PCtemplate[1].apic[96], L5PCtemplate[1].apic[97], L5PCtemplate[1].apic[98], L5PCtemplate[1].apic[99], L5PCtemplate[1].apic[100], L5PCtemplate[1].apic[101], L5PCtemplate[1].apic[102], L5PCtemplate[1].apic[103], L5PCtemplate[1].apic[104], L5PCtemplate[1].apic[105], L5PCtemplate[1].apic[106], L5PCtemplate[1].apic[107], L5PCtemplate[1].apic[108]]\n",
      "axon: [L5PCtemplate[1].axon[0]]\n",
      "(2024-05-20 20:30:55.402924)-[PID: 2835669]–[INFO]: Finished creating a CellModel object.\n",
      "(2024-05-20 20:30:55.402942)-[PID: 2835669]–[INFO]: Finish building in 0.22483277320861816\n",
      "(2024-05-20 20:31:00.094409)-[PID: 2835669]–[INFO]: Building SkeletonCell.Hay.\n",
      "all: [L5PCtemplate[2].soma[0], L5PCtemplate[2].dend[0], L5PCtemplate[2].dend[1], L5PCtemplate[2].dend[2], L5PCtemplate[2].dend[3], L5PCtemplate[2].dend[4], L5PCtemplate[2].dend[5], L5PCtemplate[2].dend[6], L5PCtemplate[2].dend[7], L5PCtemplate[2].dend[8], L5PCtemplate[2].dend[9], L5PCtemplate[2].dend[10], L5PCtemplate[2].dend[11], L5PCtemplate[2].dend[12], L5PCtemplate[2].dend[13], L5PCtemplate[2].dend[14], L5PCtemplate[2].dend[15], L5PCtemplate[2].dend[16], L5PCtemplate[2].dend[17], L5PCtemplate[2].dend[18], L5PCtemplate[2].dend[19], L5PCtemplate[2].dend[20], L5PCtemplate[2].dend[21], L5PCtemplate[2].dend[22], L5PCtemplate[2].dend[23], L5PCtemplate[2].dend[24], L5PCtemplate[2].dend[25], L5PCtemplate[2].dend[26], L5PCtemplate[2].dend[27], L5PCtemplate[2].dend[28], L5PCtemplate[2].dend[29], L5PCtemplate[2].dend[30], L5PCtemplate[2].dend[31], L5PCtemplate[2].dend[32], L5PCtemplate[2].dend[33], L5PCtemplate[2].dend[34], L5PCtemplate[2].dend[35], L5PCtemplate[2].dend[36], L5PCtemplate[2].dend[37], L5PCtemplate[2].dend[38], L5PCtemplate[2].dend[39], L5PCtemplate[2].dend[40], L5PCtemplate[2].dend[41], L5PCtemplate[2].dend[42], L5PCtemplate[2].dend[43], L5PCtemplate[2].dend[44], L5PCtemplate[2].dend[45], L5PCtemplate[2].dend[46], L5PCtemplate[2].dend[47], L5PCtemplate[2].dend[48], L5PCtemplate[2].dend[49], L5PCtemplate[2].dend[50], L5PCtemplate[2].dend[51], L5PCtemplate[2].dend[52], L5PCtemplate[2].dend[53], L5PCtemplate[2].dend[54], L5PCtemplate[2].dend[55], L5PCtemplate[2].dend[56], L5PCtemplate[2].dend[57], L5PCtemplate[2].dend[58], L5PCtemplate[2].dend[59], L5PCtemplate[2].dend[60], L5PCtemplate[2].dend[61], L5PCtemplate[2].dend[62], L5PCtemplate[2].dend[63], L5PCtemplate[2].dend[64], L5PCtemplate[2].dend[65], L5PCtemplate[2].dend[66], L5PCtemplate[2].dend[67], L5PCtemplate[2].dend[68], L5PCtemplate[2].dend[69], L5PCtemplate[2].dend[70], L5PCtemplate[2].dend[71], L5PCtemplate[2].dend[72], L5PCtemplate[2].dend[73], L5PCtemplate[2].dend[74], L5PCtemplate[2].dend[75], L5PCtemplate[2].dend[76], L5PCtemplate[2].dend[77], L5PCtemplate[2].dend[78], L5PCtemplate[2].dend[79], L5PCtemplate[2].dend[80], L5PCtemplate[2].dend[81], L5PCtemplate[2].dend[82], L5PCtemplate[2].dend[83], L5PCtemplate[2].apic[0], L5PCtemplate[2].apic[1], L5PCtemplate[2].apic[2], L5PCtemplate[2].apic[3], L5PCtemplate[2].apic[4], L5PCtemplate[2].apic[5], L5PCtemplate[2].apic[6], L5PCtemplate[2].apic[7], L5PCtemplate[2].apic[8], L5PCtemplate[2].apic[9], L5PCtemplate[2].apic[10], L5PCtemplate[2].apic[11], L5PCtemplate[2].apic[12], L5PCtemplate[2].apic[13], L5PCtemplate[2].apic[14], L5PCtemplate[2].apic[15], L5PCtemplate[2].apic[16], L5PCtemplate[2].apic[17], L5PCtemplate[2].apic[18], L5PCtemplate[2].apic[19], L5PCtemplate[2].apic[20], L5PCtemplate[2].apic[21], L5PCtemplate[2].apic[22], L5PCtemplate[2].apic[23], L5PCtemplate[2].apic[24], L5PCtemplate[2].apic[25], L5PCtemplate[2].apic[26], L5PCtemplate[2].apic[27], L5PCtemplate[2].apic[28], L5PCtemplate[2].apic[29], L5PCtemplate[2].apic[30], L5PCtemplate[2].apic[31], L5PCtemplate[2].apic[32], L5PCtemplate[2].apic[33], L5PCtemplate[2].apic[34], L5PCtemplate[2].apic[35], L5PCtemplate[2].apic[36], L5PCtemplate[2].apic[37], L5PCtemplate[2].apic[38], L5PCtemplate[2].apic[39], L5PCtemplate[2].apic[40], L5PCtemplate[2].apic[41], L5PCtemplate[2].apic[42], L5PCtemplate[2].apic[43], L5PCtemplate[2].apic[44], L5PCtemplate[2].apic[45], L5PCtemplate[2].apic[46], L5PCtemplate[2].apic[47], L5PCtemplate[2].apic[48], L5PCtemplate[2].apic[49], L5PCtemplate[2].apic[50], L5PCtemplate[2].apic[51], L5PCtemplate[2].apic[52], L5PCtemplate[2].apic[53], L5PCtemplate[2].apic[54], L5PCtemplate[2].apic[55], L5PCtemplate[2].apic[56], L5PCtemplate[2].apic[57], L5PCtemplate[2].apic[58], L5PCtemplate[2].apic[59], L5PCtemplate[2].apic[60], L5PCtemplate[2].apic[61], L5PCtemplate[2].apic[62], L5PCtemplate[2].apic[63], L5PCtemplate[2].apic[64], L5PCtemplate[2].apic[65], L5PCtemplate[2].apic[66], L5PCtemplate[2].apic[67], L5PCtemplate[2].apic[68], L5PCtemplate[2].apic[69], L5PCtemplate[2].apic[70], L5PCtemplate[2].apic[71], L5PCtemplate[2].apic[72], L5PCtemplate[2].apic[73], L5PCtemplate[2].apic[74], L5PCtemplate[2].apic[75], L5PCtemplate[2].apic[76], L5PCtemplate[2].apic[77], L5PCtemplate[2].apic[78], L5PCtemplate[2].apic[79], L5PCtemplate[2].apic[80], L5PCtemplate[2].apic[81], L5PCtemplate[2].apic[82], L5PCtemplate[2].apic[83], L5PCtemplate[2].apic[84], L5PCtemplate[2].apic[85], L5PCtemplate[2].apic[86], L5PCtemplate[2].apic[87], L5PCtemplate[2].apic[88], L5PCtemplate[2].apic[89], L5PCtemplate[2].apic[90], L5PCtemplate[2].apic[91], L5PCtemplate[2].apic[92], L5PCtemplate[2].apic[93], L5PCtemplate[2].apic[94], L5PCtemplate[2].apic[95], L5PCtemplate[2].apic[96], L5PCtemplate[2].apic[97], L5PCtemplate[2].apic[98], L5PCtemplate[2].apic[99], L5PCtemplate[2].apic[100], L5PCtemplate[2].apic[101], L5PCtemplate[2].apic[102], L5PCtemplate[2].apic[103], L5PCtemplate[2].apic[104], L5PCtemplate[2].apic[105], L5PCtemplate[2].apic[106], L5PCtemplate[2].apic[107], L5PCtemplate[2].apic[108], L5PCtemplate[2].axon[0]]\n",
      "soma: [L5PCtemplate[2].soma[0]]\n",
      "dend: [L5PCtemplate[2].dend[0], L5PCtemplate[2].dend[1], L5PCtemplate[2].dend[2], L5PCtemplate[2].dend[3], L5PCtemplate[2].dend[4], L5PCtemplate[2].dend[5], L5PCtemplate[2].dend[6], L5PCtemplate[2].dend[7], L5PCtemplate[2].dend[8], L5PCtemplate[2].dend[9], L5PCtemplate[2].dend[10], L5PCtemplate[2].dend[11], L5PCtemplate[2].dend[12], L5PCtemplate[2].dend[13], L5PCtemplate[2].dend[14], L5PCtemplate[2].dend[15], L5PCtemplate[2].dend[16], L5PCtemplate[2].dend[17], L5PCtemplate[2].dend[18], L5PCtemplate[2].dend[19], L5PCtemplate[2].dend[20], L5PCtemplate[2].dend[21], L5PCtemplate[2].dend[22], L5PCtemplate[2].dend[23], L5PCtemplate[2].dend[24], L5PCtemplate[2].dend[25], L5PCtemplate[2].dend[26], L5PCtemplate[2].dend[27], L5PCtemplate[2].dend[28], L5PCtemplate[2].dend[29], L5PCtemplate[2].dend[30], L5PCtemplate[2].dend[31], L5PCtemplate[2].dend[32], L5PCtemplate[2].dend[33], L5PCtemplate[2].dend[34], L5PCtemplate[2].dend[35], L5PCtemplate[2].dend[36], L5PCtemplate[2].dend[37], L5PCtemplate[2].dend[38], L5PCtemplate[2].dend[39], L5PCtemplate[2].dend[40], L5PCtemplate[2].dend[41], L5PCtemplate[2].dend[42], L5PCtemplate[2].dend[43], L5PCtemplate[2].dend[44], L5PCtemplate[2].dend[45], L5PCtemplate[2].dend[46], L5PCtemplate[2].dend[47], L5PCtemplate[2].dend[48], L5PCtemplate[2].dend[49], L5PCtemplate[2].dend[50], L5PCtemplate[2].dend[51], L5PCtemplate[2].dend[52], L5PCtemplate[2].dend[53], L5PCtemplate[2].dend[54], L5PCtemplate[2].dend[55], L5PCtemplate[2].dend[56], L5PCtemplate[2].dend[57], L5PCtemplate[2].dend[58], L5PCtemplate[2].dend[59], L5PCtemplate[2].dend[60], L5PCtemplate[2].dend[61], L5PCtemplate[2].dend[62], L5PCtemplate[2].dend[63], L5PCtemplate[2].dend[64], L5PCtemplate[2].dend[65], L5PCtemplate[2].dend[66], L5PCtemplate[2].dend[67], L5PCtemplate[2].dend[68], L5PCtemplate[2].dend[69], L5PCtemplate[2].dend[70], L5PCtemplate[2].dend[71], L5PCtemplate[2].dend[72], L5PCtemplate[2].dend[73], L5PCtemplate[2].dend[74], L5PCtemplate[2].dend[75], L5PCtemplate[2].dend[76], L5PCtemplate[2].dend[77], L5PCtemplate[2].dend[78], L5PCtemplate[2].dend[79], L5PCtemplate[2].dend[80], L5PCtemplate[2].dend[81], L5PCtemplate[2].dend[82], L5PCtemplate[2].dend[83]]\n",
      "apic: [L5PCtemplate[2].apic[0], L5PCtemplate[2].apic[1], L5PCtemplate[2].apic[2], L5PCtemplate[2].apic[3], L5PCtemplate[2].apic[4], L5PCtemplate[2].apic[5], L5PCtemplate[2].apic[6], L5PCtemplate[2].apic[7], L5PCtemplate[2].apic[8], L5PCtemplate[2].apic[9], L5PCtemplate[2].apic[10], L5PCtemplate[2].apic[11], L5PCtemplate[2].apic[12], L5PCtemplate[2].apic[13], L5PCtemplate[2].apic[14], L5PCtemplate[2].apic[15], L5PCtemplate[2].apic[16], L5PCtemplate[2].apic[17], L5PCtemplate[2].apic[18], L5PCtemplate[2].apic[19], L5PCtemplate[2].apic[20], L5PCtemplate[2].apic[21], L5PCtemplate[2].apic[22], L5PCtemplate[2].apic[23], L5PCtemplate[2].apic[24], L5PCtemplate[2].apic[25], L5PCtemplate[2].apic[26], L5PCtemplate[2].apic[27], L5PCtemplate[2].apic[28], L5PCtemplate[2].apic[29], L5PCtemplate[2].apic[30], L5PCtemplate[2].apic[31], L5PCtemplate[2].apic[32], L5PCtemplate[2].apic[33], L5PCtemplate[2].apic[34], L5PCtemplate[2].apic[35], L5PCtemplate[2].apic[36], L5PCtemplate[2].apic[37], L5PCtemplate[2].apic[38], L5PCtemplate[2].apic[39], L5PCtemplate[2].apic[40], L5PCtemplate[2].apic[41], L5PCtemplate[2].apic[42], L5PCtemplate[2].apic[43], L5PCtemplate[2].apic[44], L5PCtemplate[2].apic[45], L5PCtemplate[2].apic[46], L5PCtemplate[2].apic[47], L5PCtemplate[2].apic[48], L5PCtemplate[2].apic[49], L5PCtemplate[2].apic[50], L5PCtemplate[2].apic[51], L5PCtemplate[2].apic[52], L5PCtemplate[2].apic[53], L5PCtemplate[2].apic[54], L5PCtemplate[2].apic[55], L5PCtemplate[2].apic[56], L5PCtemplate[2].apic[57], L5PCtemplate[2].apic[58], L5PCtemplate[2].apic[59], L5PCtemplate[2].apic[60], L5PCtemplate[2].apic[61], L5PCtemplate[2].apic[62], L5PCtemplate[2].apic[63], L5PCtemplate[2].apic[64], L5PCtemplate[2].apic[65], L5PCtemplate[2].apic[66], L5PCtemplate[2].apic[67], L5PCtemplate[2].apic[68], L5PCtemplate[2].apic[69], L5PCtemplate[2].apic[70], L5PCtemplate[2].apic[71], L5PCtemplate[2].apic[72], L5PCtemplate[2].apic[73], L5PCtemplate[2].apic[74], L5PCtemplate[2].apic[75], L5PCtemplate[2].apic[76], L5PCtemplate[2].apic[77], L5PCtemplate[2].apic[78], L5PCtemplate[2].apic[79], L5PCtemplate[2].apic[80], L5PCtemplate[2].apic[81], L5PCtemplate[2].apic[82], L5PCtemplate[2].apic[83], L5PCtemplate[2].apic[84], L5PCtemplate[2].apic[85], L5PCtemplate[2].apic[86], L5PCtemplate[2].apic[87], L5PCtemplate[2].apic[88], L5PCtemplate[2].apic[89], L5PCtemplate[2].apic[90], L5PCtemplate[2].apic[91], L5PCtemplate[2].apic[92], L5PCtemplate[2].apic[93], L5PCtemplate[2].apic[94], L5PCtemplate[2].apic[95], L5PCtemplate[2].apic[96], L5PCtemplate[2].apic[97], L5PCtemplate[2].apic[98], L5PCtemplate[2].apic[99], L5PCtemplate[2].apic[100], L5PCtemplate[2].apic[101], L5PCtemplate[2].apic[102], L5PCtemplate[2].apic[103], L5PCtemplate[2].apic[104], L5PCtemplate[2].apic[105], L5PCtemplate[2].apic[106], L5PCtemplate[2].apic[107], L5PCtemplate[2].apic[108]]\n",
      "axon: [L5PCtemplate[2].axon[0]]\n",
      "(2024-05-20 20:31:00.317839)-[PID: 2835669]–[INFO]: Finished creating a CellModel object.\n",
      "(2024-05-20 20:31:00.317862)-[PID: 2835669]–[INFO]: Finish building in 0.2240605354309082\n",
      "(2024-05-20 20:31:10.752771)-[PID: 2835669]–[INFO]: Building SkeletonCell.Hay.\n",
      "all: [L5PCtemplate[3].soma[0], L5PCtemplate[3].dend[0], L5PCtemplate[3].dend[1], L5PCtemplate[3].dend[2], L5PCtemplate[3].dend[3], L5PCtemplate[3].dend[4], L5PCtemplate[3].dend[5], L5PCtemplate[3].dend[6], L5PCtemplate[3].dend[7], L5PCtemplate[3].dend[8], L5PCtemplate[3].dend[9], L5PCtemplate[3].dend[10], L5PCtemplate[3].dend[11], L5PCtemplate[3].dend[12], L5PCtemplate[3].dend[13], L5PCtemplate[3].dend[14], L5PCtemplate[3].dend[15], L5PCtemplate[3].dend[16], L5PCtemplate[3].dend[17], L5PCtemplate[3].dend[18], L5PCtemplate[3].dend[19], L5PCtemplate[3].dend[20], L5PCtemplate[3].dend[21], L5PCtemplate[3].dend[22], L5PCtemplate[3].dend[23], L5PCtemplate[3].dend[24], L5PCtemplate[3].dend[25], L5PCtemplate[3].dend[26], L5PCtemplate[3].dend[27], L5PCtemplate[3].dend[28], L5PCtemplate[3].dend[29], L5PCtemplate[3].dend[30], L5PCtemplate[3].dend[31], L5PCtemplate[3].dend[32], L5PCtemplate[3].dend[33], L5PCtemplate[3].dend[34], L5PCtemplate[3].dend[35], L5PCtemplate[3].dend[36], L5PCtemplate[3].dend[37], L5PCtemplate[3].dend[38], L5PCtemplate[3].dend[39], L5PCtemplate[3].dend[40], L5PCtemplate[3].dend[41], L5PCtemplate[3].dend[42], L5PCtemplate[3].dend[43], L5PCtemplate[3].dend[44], L5PCtemplate[3].dend[45], L5PCtemplate[3].dend[46], L5PCtemplate[3].dend[47], L5PCtemplate[3].dend[48], L5PCtemplate[3].dend[49], L5PCtemplate[3].dend[50], L5PCtemplate[3].dend[51], L5PCtemplate[3].dend[52], L5PCtemplate[3].dend[53], L5PCtemplate[3].dend[54], L5PCtemplate[3].dend[55], L5PCtemplate[3].dend[56], L5PCtemplate[3].dend[57], L5PCtemplate[3].dend[58], L5PCtemplate[3].dend[59], L5PCtemplate[3].dend[60], L5PCtemplate[3].dend[61], L5PCtemplate[3].dend[62], L5PCtemplate[3].dend[63], L5PCtemplate[3].dend[64], L5PCtemplate[3].dend[65], L5PCtemplate[3].dend[66], L5PCtemplate[3].dend[67], L5PCtemplate[3].dend[68], L5PCtemplate[3].dend[69], L5PCtemplate[3].dend[70], L5PCtemplate[3].dend[71], L5PCtemplate[3].dend[72], L5PCtemplate[3].dend[73], L5PCtemplate[3].dend[74], L5PCtemplate[3].dend[75], L5PCtemplate[3].dend[76], L5PCtemplate[3].dend[77], L5PCtemplate[3].dend[78], L5PCtemplate[3].dend[79], L5PCtemplate[3].dend[80], L5PCtemplate[3].dend[81], L5PCtemplate[3].dend[82], L5PCtemplate[3].dend[83], L5PCtemplate[3].apic[0], L5PCtemplate[3].apic[1], L5PCtemplate[3].apic[2], L5PCtemplate[3].apic[3], L5PCtemplate[3].apic[4], L5PCtemplate[3].apic[5], L5PCtemplate[3].apic[6], L5PCtemplate[3].apic[7], L5PCtemplate[3].apic[8], L5PCtemplate[3].apic[9], L5PCtemplate[3].apic[10], L5PCtemplate[3].apic[11], L5PCtemplate[3].apic[12], L5PCtemplate[3].apic[13], L5PCtemplate[3].apic[14], L5PCtemplate[3].apic[15], L5PCtemplate[3].apic[16], L5PCtemplate[3].apic[17], L5PCtemplate[3].apic[18], L5PCtemplate[3].apic[19], L5PCtemplate[3].apic[20], L5PCtemplate[3].apic[21], L5PCtemplate[3].apic[22], L5PCtemplate[3].apic[23], L5PCtemplate[3].apic[24], L5PCtemplate[3].apic[25], L5PCtemplate[3].apic[26], L5PCtemplate[3].apic[27], L5PCtemplate[3].apic[28], L5PCtemplate[3].apic[29], L5PCtemplate[3].apic[30], L5PCtemplate[3].apic[31], L5PCtemplate[3].apic[32], L5PCtemplate[3].apic[33], L5PCtemplate[3].apic[34], L5PCtemplate[3].apic[35], L5PCtemplate[3].apic[36], L5PCtemplate[3].apic[37], L5PCtemplate[3].apic[38], L5PCtemplate[3].apic[39], L5PCtemplate[3].apic[40], L5PCtemplate[3].apic[41], L5PCtemplate[3].apic[42], L5PCtemplate[3].apic[43], L5PCtemplate[3].apic[44], L5PCtemplate[3].apic[45], L5PCtemplate[3].apic[46], L5PCtemplate[3].apic[47], L5PCtemplate[3].apic[48], L5PCtemplate[3].apic[49], L5PCtemplate[3].apic[50], L5PCtemplate[3].apic[51], L5PCtemplate[3].apic[52], L5PCtemplate[3].apic[53], L5PCtemplate[3].apic[54], L5PCtemplate[3].apic[55], L5PCtemplate[3].apic[56], L5PCtemplate[3].apic[57], L5PCtemplate[3].apic[58], L5PCtemplate[3].apic[59], L5PCtemplate[3].apic[60], L5PCtemplate[3].apic[61], L5PCtemplate[3].apic[62], L5PCtemplate[3].apic[63], L5PCtemplate[3].apic[64], L5PCtemplate[3].apic[65], L5PCtemplate[3].apic[66], L5PCtemplate[3].apic[67], L5PCtemplate[3].apic[68], L5PCtemplate[3].apic[69], L5PCtemplate[3].apic[70], L5PCtemplate[3].apic[71], L5PCtemplate[3].apic[72], L5PCtemplate[3].apic[73], L5PCtemplate[3].apic[74], L5PCtemplate[3].apic[75], L5PCtemplate[3].apic[76], L5PCtemplate[3].apic[77], L5PCtemplate[3].apic[78], L5PCtemplate[3].apic[79], L5PCtemplate[3].apic[80], L5PCtemplate[3].apic[81], L5PCtemplate[3].apic[82], L5PCtemplate[3].apic[83], L5PCtemplate[3].apic[84], L5PCtemplate[3].apic[85], L5PCtemplate[3].apic[86], L5PCtemplate[3].apic[87], L5PCtemplate[3].apic[88], L5PCtemplate[3].apic[89], L5PCtemplate[3].apic[90], L5PCtemplate[3].apic[91], L5PCtemplate[3].apic[92], L5PCtemplate[3].apic[93], L5PCtemplate[3].apic[94], L5PCtemplate[3].apic[95], L5PCtemplate[3].apic[96], L5PCtemplate[3].apic[97], L5PCtemplate[3].apic[98], L5PCtemplate[3].apic[99], L5PCtemplate[3].apic[100], L5PCtemplate[3].apic[101], L5PCtemplate[3].apic[102], L5PCtemplate[3].apic[103], L5PCtemplate[3].apic[104], L5PCtemplate[3].apic[105], L5PCtemplate[3].apic[106], L5PCtemplate[3].apic[107], L5PCtemplate[3].apic[108], L5PCtemplate[3].axon[0]]\n",
      "soma: [L5PCtemplate[3].soma[0]]\n",
      "dend: [L5PCtemplate[3].dend[0], L5PCtemplate[3].dend[1], L5PCtemplate[3].dend[2], L5PCtemplate[3].dend[3], L5PCtemplate[3].dend[4], L5PCtemplate[3].dend[5], L5PCtemplate[3].dend[6], L5PCtemplate[3].dend[7], L5PCtemplate[3].dend[8], L5PCtemplate[3].dend[9], L5PCtemplate[3].dend[10], L5PCtemplate[3].dend[11], L5PCtemplate[3].dend[12], L5PCtemplate[3].dend[13], L5PCtemplate[3].dend[14], L5PCtemplate[3].dend[15], L5PCtemplate[3].dend[16], L5PCtemplate[3].dend[17], L5PCtemplate[3].dend[18], L5PCtemplate[3].dend[19], L5PCtemplate[3].dend[20], L5PCtemplate[3].dend[21], L5PCtemplate[3].dend[22], L5PCtemplate[3].dend[23], L5PCtemplate[3].dend[24], L5PCtemplate[3].dend[25], L5PCtemplate[3].dend[26], L5PCtemplate[3].dend[27], L5PCtemplate[3].dend[28], L5PCtemplate[3].dend[29], L5PCtemplate[3].dend[30], L5PCtemplate[3].dend[31], L5PCtemplate[3].dend[32], L5PCtemplate[3].dend[33], L5PCtemplate[3].dend[34], L5PCtemplate[3].dend[35], L5PCtemplate[3].dend[36], L5PCtemplate[3].dend[37], L5PCtemplate[3].dend[38], L5PCtemplate[3].dend[39], L5PCtemplate[3].dend[40], L5PCtemplate[3].dend[41], L5PCtemplate[3].dend[42], L5PCtemplate[3].dend[43], L5PCtemplate[3].dend[44], L5PCtemplate[3].dend[45], L5PCtemplate[3].dend[46], L5PCtemplate[3].dend[47], L5PCtemplate[3].dend[48], L5PCtemplate[3].dend[49], L5PCtemplate[3].dend[50], L5PCtemplate[3].dend[51], L5PCtemplate[3].dend[52], L5PCtemplate[3].dend[53], L5PCtemplate[3].dend[54], L5PCtemplate[3].dend[55], L5PCtemplate[3].dend[56], L5PCtemplate[3].dend[57], L5PCtemplate[3].dend[58], L5PCtemplate[3].dend[59], L5PCtemplate[3].dend[60], L5PCtemplate[3].dend[61], L5PCtemplate[3].dend[62], L5PCtemplate[3].dend[63], L5PCtemplate[3].dend[64], L5PCtemplate[3].dend[65], L5PCtemplate[3].dend[66], L5PCtemplate[3].dend[67], L5PCtemplate[3].dend[68], L5PCtemplate[3].dend[69], L5PCtemplate[3].dend[70], L5PCtemplate[3].dend[71], L5PCtemplate[3].dend[72], L5PCtemplate[3].dend[73], L5PCtemplate[3].dend[74], L5PCtemplate[3].dend[75], L5PCtemplate[3].dend[76], L5PCtemplate[3].dend[77], L5PCtemplate[3].dend[78], L5PCtemplate[3].dend[79], L5PCtemplate[3].dend[80], L5PCtemplate[3].dend[81], L5PCtemplate[3].dend[82], L5PCtemplate[3].dend[83]]\n",
      "apic: [L5PCtemplate[3].apic[0], L5PCtemplate[3].apic[1], L5PCtemplate[3].apic[2], L5PCtemplate[3].apic[3], L5PCtemplate[3].apic[4], L5PCtemplate[3].apic[5], L5PCtemplate[3].apic[6], L5PCtemplate[3].apic[7], L5PCtemplate[3].apic[8], L5PCtemplate[3].apic[9], L5PCtemplate[3].apic[10], L5PCtemplate[3].apic[11], L5PCtemplate[3].apic[12], L5PCtemplate[3].apic[13], L5PCtemplate[3].apic[14], L5PCtemplate[3].apic[15], L5PCtemplate[3].apic[16], L5PCtemplate[3].apic[17], L5PCtemplate[3].apic[18], L5PCtemplate[3].apic[19], L5PCtemplate[3].apic[20], L5PCtemplate[3].apic[21], L5PCtemplate[3].apic[22], L5PCtemplate[3].apic[23], L5PCtemplate[3].apic[24], L5PCtemplate[3].apic[25], L5PCtemplate[3].apic[26], L5PCtemplate[3].apic[27], L5PCtemplate[3].apic[28], L5PCtemplate[3].apic[29], L5PCtemplate[3].apic[30], L5PCtemplate[3].apic[31], L5PCtemplate[3].apic[32], L5PCtemplate[3].apic[33], L5PCtemplate[3].apic[34], L5PCtemplate[3].apic[35], L5PCtemplate[3].apic[36], L5PCtemplate[3].apic[37], L5PCtemplate[3].apic[38], L5PCtemplate[3].apic[39], L5PCtemplate[3].apic[40], L5PCtemplate[3].apic[41], L5PCtemplate[3].apic[42], L5PCtemplate[3].apic[43], L5PCtemplate[3].apic[44], L5PCtemplate[3].apic[45], L5PCtemplate[3].apic[46], L5PCtemplate[3].apic[47], L5PCtemplate[3].apic[48], L5PCtemplate[3].apic[49], L5PCtemplate[3].apic[50], L5PCtemplate[3].apic[51], L5PCtemplate[3].apic[52], L5PCtemplate[3].apic[53], L5PCtemplate[3].apic[54], L5PCtemplate[3].apic[55], L5PCtemplate[3].apic[56], L5PCtemplate[3].apic[57], L5PCtemplate[3].apic[58], L5PCtemplate[3].apic[59], L5PCtemplate[3].apic[60], L5PCtemplate[3].apic[61], L5PCtemplate[3].apic[62], L5PCtemplate[3].apic[63], L5PCtemplate[3].apic[64], L5PCtemplate[3].apic[65], L5PCtemplate[3].apic[66], L5PCtemplate[3].apic[67], L5PCtemplate[3].apic[68], L5PCtemplate[3].apic[69], L5PCtemplate[3].apic[70], L5PCtemplate[3].apic[71], L5PCtemplate[3].apic[72], L5PCtemplate[3].apic[73], L5PCtemplate[3].apic[74], L5PCtemplate[3].apic[75], L5PCtemplate[3].apic[76], L5PCtemplate[3].apic[77], L5PCtemplate[3].apic[78], L5PCtemplate[3].apic[79], L5PCtemplate[3].apic[80], L5PCtemplate[3].apic[81], L5PCtemplate[3].apic[82], L5PCtemplate[3].apic[83], L5PCtemplate[3].apic[84], L5PCtemplate[3].apic[85], L5PCtemplate[3].apic[86], L5PCtemplate[3].apic[87], L5PCtemplate[3].apic[88], L5PCtemplate[3].apic[89], L5PCtemplate[3].apic[90], L5PCtemplate[3].apic[91], L5PCtemplate[3].apic[92], L5PCtemplate[3].apic[93], L5PCtemplate[3].apic[94], L5PCtemplate[3].apic[95], L5PCtemplate[3].apic[96], L5PCtemplate[3].apic[97], L5PCtemplate[3].apic[98], L5PCtemplate[3].apic[99], L5PCtemplate[3].apic[100], L5PCtemplate[3].apic[101], L5PCtemplate[3].apic[102], L5PCtemplate[3].apic[103], L5PCtemplate[3].apic[104], L5PCtemplate[3].apic[105], L5PCtemplate[3].apic[106], L5PCtemplate[3].apic[107], L5PCtemplate[3].apic[108]]\n",
      "axon: [L5PCtemplate[3].axon[0]]\n",
      "(2024-05-20 20:31:10.976367)-[PID: 2835669]–[INFO]: Finished creating a CellModel object.\n",
      "(2024-05-20 20:31:10.976391)-[PID: 2835669]–[INFO]: Finish building in 0.22389793395996094\n"
     ]
    },
    {
     "name": "stderr",
     "output_type": "stream",
     "text": [
      "There is no segment to segment copy, it means that some segments in thereduced model did not receive channels from the original cell.Trying to compensate by copying channels from neighboring segments\n"
     ]
    },
    {
     "name": "stdout",
     "output_type": "stream",
     "text": [
      "(2024-05-20 20:31:22.082307)-[PID: 2835669]–[INFO]: Building SkeletonCell.Hay.\n",
      "all: [L5PCtemplate[4].soma[0], L5PCtemplate[4].dend[0], L5PCtemplate[4].dend[1], L5PCtemplate[4].dend[2], L5PCtemplate[4].dend[3], L5PCtemplate[4].dend[4], L5PCtemplate[4].dend[5], L5PCtemplate[4].dend[6], L5PCtemplate[4].dend[7], L5PCtemplate[4].dend[8], L5PCtemplate[4].dend[9], L5PCtemplate[4].dend[10], L5PCtemplate[4].dend[11], L5PCtemplate[4].dend[12], L5PCtemplate[4].dend[13], L5PCtemplate[4].dend[14], L5PCtemplate[4].dend[15], L5PCtemplate[4].dend[16], L5PCtemplate[4].dend[17], L5PCtemplate[4].dend[18], L5PCtemplate[4].dend[19], L5PCtemplate[4].dend[20], L5PCtemplate[4].dend[21], L5PCtemplate[4].dend[22], L5PCtemplate[4].dend[23], L5PCtemplate[4].dend[24], L5PCtemplate[4].dend[25], L5PCtemplate[4].dend[26], L5PCtemplate[4].dend[27], L5PCtemplate[4].dend[28], L5PCtemplate[4].dend[29], L5PCtemplate[4].dend[30], L5PCtemplate[4].dend[31], L5PCtemplate[4].dend[32], L5PCtemplate[4].dend[33], L5PCtemplate[4].dend[34], L5PCtemplate[4].dend[35], L5PCtemplate[4].dend[36], L5PCtemplate[4].dend[37], L5PCtemplate[4].dend[38], L5PCtemplate[4].dend[39], L5PCtemplate[4].dend[40], L5PCtemplate[4].dend[41], L5PCtemplate[4].dend[42], L5PCtemplate[4].dend[43], L5PCtemplate[4].dend[44], L5PCtemplate[4].dend[45], L5PCtemplate[4].dend[46], L5PCtemplate[4].dend[47], L5PCtemplate[4].dend[48], L5PCtemplate[4].dend[49], L5PCtemplate[4].dend[50], L5PCtemplate[4].dend[51], L5PCtemplate[4].dend[52], L5PCtemplate[4].dend[53], L5PCtemplate[4].dend[54], L5PCtemplate[4].dend[55], L5PCtemplate[4].dend[56], L5PCtemplate[4].dend[57], L5PCtemplate[4].dend[58], L5PCtemplate[4].dend[59], L5PCtemplate[4].dend[60], L5PCtemplate[4].dend[61], L5PCtemplate[4].dend[62], L5PCtemplate[4].dend[63], L5PCtemplate[4].dend[64], L5PCtemplate[4].dend[65], L5PCtemplate[4].dend[66], L5PCtemplate[4].dend[67], L5PCtemplate[4].dend[68], L5PCtemplate[4].dend[69], L5PCtemplate[4].dend[70], L5PCtemplate[4].dend[71], L5PCtemplate[4].dend[72], L5PCtemplate[4].dend[73], L5PCtemplate[4].dend[74], L5PCtemplate[4].dend[75], L5PCtemplate[4].dend[76], L5PCtemplate[4].dend[77], L5PCtemplate[4].dend[78], L5PCtemplate[4].dend[79], L5PCtemplate[4].dend[80], L5PCtemplate[4].dend[81], L5PCtemplate[4].dend[82], L5PCtemplate[4].dend[83], L5PCtemplate[4].apic[0], L5PCtemplate[4].apic[1], L5PCtemplate[4].apic[2], L5PCtemplate[4].apic[3], L5PCtemplate[4].apic[4], L5PCtemplate[4].apic[5], L5PCtemplate[4].apic[6], L5PCtemplate[4].apic[7], L5PCtemplate[4].apic[8], L5PCtemplate[4].apic[9], L5PCtemplate[4].apic[10], L5PCtemplate[4].apic[11], L5PCtemplate[4].apic[12], L5PCtemplate[4].apic[13], L5PCtemplate[4].apic[14], L5PCtemplate[4].apic[15], L5PCtemplate[4].apic[16], L5PCtemplate[4].apic[17], L5PCtemplate[4].apic[18], L5PCtemplate[4].apic[19], L5PCtemplate[4].apic[20], L5PCtemplate[4].apic[21], L5PCtemplate[4].apic[22], L5PCtemplate[4].apic[23], L5PCtemplate[4].apic[24], L5PCtemplate[4].apic[25], L5PCtemplate[4].apic[26], L5PCtemplate[4].apic[27], L5PCtemplate[4].apic[28], L5PCtemplate[4].apic[29], L5PCtemplate[4].apic[30], L5PCtemplate[4].apic[31], L5PCtemplate[4].apic[32], L5PCtemplate[4].apic[33], L5PCtemplate[4].apic[34], L5PCtemplate[4].apic[35], L5PCtemplate[4].apic[36], L5PCtemplate[4].apic[37], L5PCtemplate[4].apic[38], L5PCtemplate[4].apic[39], L5PCtemplate[4].apic[40], L5PCtemplate[4].apic[41], L5PCtemplate[4].apic[42], L5PCtemplate[4].apic[43], L5PCtemplate[4].apic[44], L5PCtemplate[4].apic[45], L5PCtemplate[4].apic[46], L5PCtemplate[4].apic[47], L5PCtemplate[4].apic[48], L5PCtemplate[4].apic[49], L5PCtemplate[4].apic[50], L5PCtemplate[4].apic[51], L5PCtemplate[4].apic[52], L5PCtemplate[4].apic[53], L5PCtemplate[4].apic[54], L5PCtemplate[4].apic[55], L5PCtemplate[4].apic[56], L5PCtemplate[4].apic[57], L5PCtemplate[4].apic[58], L5PCtemplate[4].apic[59], L5PCtemplate[4].apic[60], L5PCtemplate[4].apic[61], L5PCtemplate[4].apic[62], L5PCtemplate[4].apic[63], L5PCtemplate[4].apic[64], L5PCtemplate[4].apic[65], L5PCtemplate[4].apic[66], L5PCtemplate[4].apic[67], L5PCtemplate[4].apic[68], L5PCtemplate[4].apic[69], L5PCtemplate[4].apic[70], L5PCtemplate[4].apic[71], L5PCtemplate[4].apic[72], L5PCtemplate[4].apic[73], L5PCtemplate[4].apic[74], L5PCtemplate[4].apic[75], L5PCtemplate[4].apic[76], L5PCtemplate[4].apic[77], L5PCtemplate[4].apic[78], L5PCtemplate[4].apic[79], L5PCtemplate[4].apic[80], L5PCtemplate[4].apic[81], L5PCtemplate[4].apic[82], L5PCtemplate[4].apic[83], L5PCtemplate[4].apic[84], L5PCtemplate[4].apic[85], L5PCtemplate[4].apic[86], L5PCtemplate[4].apic[87], L5PCtemplate[4].apic[88], L5PCtemplate[4].apic[89], L5PCtemplate[4].apic[90], L5PCtemplate[4].apic[91], L5PCtemplate[4].apic[92], L5PCtemplate[4].apic[93], L5PCtemplate[4].apic[94], L5PCtemplate[4].apic[95], L5PCtemplate[4].apic[96], L5PCtemplate[4].apic[97], L5PCtemplate[4].apic[98], L5PCtemplate[4].apic[99], L5PCtemplate[4].apic[100], L5PCtemplate[4].apic[101], L5PCtemplate[4].apic[102], L5PCtemplate[4].apic[103], L5PCtemplate[4].apic[104], L5PCtemplate[4].apic[105], L5PCtemplate[4].apic[106], L5PCtemplate[4].apic[107], L5PCtemplate[4].apic[108], L5PCtemplate[4].axon[0]]\n",
      "soma: [L5PCtemplate[4].soma[0]]\n",
      "dend: [L5PCtemplate[4].dend[0], L5PCtemplate[4].dend[1], L5PCtemplate[4].dend[2], L5PCtemplate[4].dend[3], L5PCtemplate[4].dend[4], L5PCtemplate[4].dend[5], L5PCtemplate[4].dend[6], L5PCtemplate[4].dend[7], L5PCtemplate[4].dend[8], L5PCtemplate[4].dend[9], L5PCtemplate[4].dend[10], L5PCtemplate[4].dend[11], L5PCtemplate[4].dend[12], L5PCtemplate[4].dend[13], L5PCtemplate[4].dend[14], L5PCtemplate[4].dend[15], L5PCtemplate[4].dend[16], L5PCtemplate[4].dend[17], L5PCtemplate[4].dend[18], L5PCtemplate[4].dend[19], L5PCtemplate[4].dend[20], L5PCtemplate[4].dend[21], L5PCtemplate[4].dend[22], L5PCtemplate[4].dend[23], L5PCtemplate[4].dend[24], L5PCtemplate[4].dend[25], L5PCtemplate[4].dend[26], L5PCtemplate[4].dend[27], L5PCtemplate[4].dend[28], L5PCtemplate[4].dend[29], L5PCtemplate[4].dend[30], L5PCtemplate[4].dend[31], L5PCtemplate[4].dend[32], L5PCtemplate[4].dend[33], L5PCtemplate[4].dend[34], L5PCtemplate[4].dend[35], L5PCtemplate[4].dend[36], L5PCtemplate[4].dend[37], L5PCtemplate[4].dend[38], L5PCtemplate[4].dend[39], L5PCtemplate[4].dend[40], L5PCtemplate[4].dend[41], L5PCtemplate[4].dend[42], L5PCtemplate[4].dend[43], L5PCtemplate[4].dend[44], L5PCtemplate[4].dend[45], L5PCtemplate[4].dend[46], L5PCtemplate[4].dend[47], L5PCtemplate[4].dend[48], L5PCtemplate[4].dend[49], L5PCtemplate[4].dend[50], L5PCtemplate[4].dend[51], L5PCtemplate[4].dend[52], L5PCtemplate[4].dend[53], L5PCtemplate[4].dend[54], L5PCtemplate[4].dend[55], L5PCtemplate[4].dend[56], L5PCtemplate[4].dend[57], L5PCtemplate[4].dend[58], L5PCtemplate[4].dend[59], L5PCtemplate[4].dend[60], L5PCtemplate[4].dend[61], L5PCtemplate[4].dend[62], L5PCtemplate[4].dend[63], L5PCtemplate[4].dend[64], L5PCtemplate[4].dend[65], L5PCtemplate[4].dend[66], L5PCtemplate[4].dend[67], L5PCtemplate[4].dend[68], L5PCtemplate[4].dend[69], L5PCtemplate[4].dend[70], L5PCtemplate[4].dend[71], L5PCtemplate[4].dend[72], L5PCtemplate[4].dend[73], L5PCtemplate[4].dend[74], L5PCtemplate[4].dend[75], L5PCtemplate[4].dend[76], L5PCtemplate[4].dend[77], L5PCtemplate[4].dend[78], L5PCtemplate[4].dend[79], L5PCtemplate[4].dend[80], L5PCtemplate[4].dend[81], L5PCtemplate[4].dend[82], L5PCtemplate[4].dend[83]]\n",
      "apic: [L5PCtemplate[4].apic[0], L5PCtemplate[4].apic[1], L5PCtemplate[4].apic[2], L5PCtemplate[4].apic[3], L5PCtemplate[4].apic[4], L5PCtemplate[4].apic[5], L5PCtemplate[4].apic[6], L5PCtemplate[4].apic[7], L5PCtemplate[4].apic[8], L5PCtemplate[4].apic[9], L5PCtemplate[4].apic[10], L5PCtemplate[4].apic[11], L5PCtemplate[4].apic[12], L5PCtemplate[4].apic[13], L5PCtemplate[4].apic[14], L5PCtemplate[4].apic[15], L5PCtemplate[4].apic[16], L5PCtemplate[4].apic[17], L5PCtemplate[4].apic[18], L5PCtemplate[4].apic[19], L5PCtemplate[4].apic[20], L5PCtemplate[4].apic[21], L5PCtemplate[4].apic[22], L5PCtemplate[4].apic[23], L5PCtemplate[4].apic[24], L5PCtemplate[4].apic[25], L5PCtemplate[4].apic[26], L5PCtemplate[4].apic[27], L5PCtemplate[4].apic[28], L5PCtemplate[4].apic[29], L5PCtemplate[4].apic[30], L5PCtemplate[4].apic[31], L5PCtemplate[4].apic[32], L5PCtemplate[4].apic[33], L5PCtemplate[4].apic[34], L5PCtemplate[4].apic[35], L5PCtemplate[4].apic[36], L5PCtemplate[4].apic[37], L5PCtemplate[4].apic[38], L5PCtemplate[4].apic[39], L5PCtemplate[4].apic[40], L5PCtemplate[4].apic[41], L5PCtemplate[4].apic[42], L5PCtemplate[4].apic[43], L5PCtemplate[4].apic[44], L5PCtemplate[4].apic[45], L5PCtemplate[4].apic[46], L5PCtemplate[4].apic[47], L5PCtemplate[4].apic[48], L5PCtemplate[4].apic[49], L5PCtemplate[4].apic[50], L5PCtemplate[4].apic[51], L5PCtemplate[4].apic[52], L5PCtemplate[4].apic[53], L5PCtemplate[4].apic[54], L5PCtemplate[4].apic[55], L5PCtemplate[4].apic[56], L5PCtemplate[4].apic[57], L5PCtemplate[4].apic[58], L5PCtemplate[4].apic[59], L5PCtemplate[4].apic[60], L5PCtemplate[4].apic[61], L5PCtemplate[4].apic[62], L5PCtemplate[4].apic[63], L5PCtemplate[4].apic[64], L5PCtemplate[4].apic[65], L5PCtemplate[4].apic[66], L5PCtemplate[4].apic[67], L5PCtemplate[4].apic[68], L5PCtemplate[4].apic[69], L5PCtemplate[4].apic[70], L5PCtemplate[4].apic[71], L5PCtemplate[4].apic[72], L5PCtemplate[4].apic[73], L5PCtemplate[4].apic[74], L5PCtemplate[4].apic[75], L5PCtemplate[4].apic[76], L5PCtemplate[4].apic[77], L5PCtemplate[4].apic[78], L5PCtemplate[4].apic[79], L5PCtemplate[4].apic[80], L5PCtemplate[4].apic[81], L5PCtemplate[4].apic[82], L5PCtemplate[4].apic[83], L5PCtemplate[4].apic[84], L5PCtemplate[4].apic[85], L5PCtemplate[4].apic[86], L5PCtemplate[4].apic[87], L5PCtemplate[4].apic[88], L5PCtemplate[4].apic[89], L5PCtemplate[4].apic[90], L5PCtemplate[4].apic[91], L5PCtemplate[4].apic[92], L5PCtemplate[4].apic[93], L5PCtemplate[4].apic[94], L5PCtemplate[4].apic[95], L5PCtemplate[4].apic[96], L5PCtemplate[4].apic[97], L5PCtemplate[4].apic[98], L5PCtemplate[4].apic[99], L5PCtemplate[4].apic[100], L5PCtemplate[4].apic[101], L5PCtemplate[4].apic[102], L5PCtemplate[4].apic[103], L5PCtemplate[4].apic[104], L5PCtemplate[4].apic[105], L5PCtemplate[4].apic[106], L5PCtemplate[4].apic[107], L5PCtemplate[4].apic[108]]\n",
      "axon: [L5PCtemplate[4].axon[0]]\n",
      "(2024-05-20 20:31:22.305018)-[PID: 2835669]–[INFO]: Finished creating a CellModel object.\n",
      "(2024-05-20 20:31:22.305042)-[PID: 2835669]–[INFO]: Finish building in 0.2230088710784912\n"
     ]
    },
    {
     "name": "stderr",
     "output_type": "stream",
     "text": [
      "There is no segment to segment copy, it means that some segments in thereduced model did not receive channels from the original cell.Trying to compensate by copying channels from neighboring segments\n"
     ]
    },
    {
     "name": "stdout",
     "output_type": "stream",
     "text": [
      "(2024-05-20 20:31:32.595040)-[PID: 2835669]–[INFO]: Building SkeletonCell.Hay.\n",
      "all: [L5PCtemplate[5].soma[0], L5PCtemplate[5].dend[0], L5PCtemplate[5].dend[1], L5PCtemplate[5].dend[2], L5PCtemplate[5].dend[3], L5PCtemplate[5].dend[4], L5PCtemplate[5].dend[5], L5PCtemplate[5].dend[6], L5PCtemplate[5].dend[7], L5PCtemplate[5].dend[8], L5PCtemplate[5].dend[9], L5PCtemplate[5].dend[10], L5PCtemplate[5].dend[11], L5PCtemplate[5].dend[12], L5PCtemplate[5].dend[13], L5PCtemplate[5].dend[14], L5PCtemplate[5].dend[15], L5PCtemplate[5].dend[16], L5PCtemplate[5].dend[17], L5PCtemplate[5].dend[18], L5PCtemplate[5].dend[19], L5PCtemplate[5].dend[20], L5PCtemplate[5].dend[21], L5PCtemplate[5].dend[22], L5PCtemplate[5].dend[23], L5PCtemplate[5].dend[24], L5PCtemplate[5].dend[25], L5PCtemplate[5].dend[26], L5PCtemplate[5].dend[27], L5PCtemplate[5].dend[28], L5PCtemplate[5].dend[29], L5PCtemplate[5].dend[30], L5PCtemplate[5].dend[31], L5PCtemplate[5].dend[32], L5PCtemplate[5].dend[33], L5PCtemplate[5].dend[34], L5PCtemplate[5].dend[35], L5PCtemplate[5].dend[36], L5PCtemplate[5].dend[37], L5PCtemplate[5].dend[38], L5PCtemplate[5].dend[39], L5PCtemplate[5].dend[40], L5PCtemplate[5].dend[41], L5PCtemplate[5].dend[42], L5PCtemplate[5].dend[43], L5PCtemplate[5].dend[44], L5PCtemplate[5].dend[45], L5PCtemplate[5].dend[46], L5PCtemplate[5].dend[47], L5PCtemplate[5].dend[48], L5PCtemplate[5].dend[49], L5PCtemplate[5].dend[50], L5PCtemplate[5].dend[51], L5PCtemplate[5].dend[52], L5PCtemplate[5].dend[53], L5PCtemplate[5].dend[54], L5PCtemplate[5].dend[55], L5PCtemplate[5].dend[56], L5PCtemplate[5].dend[57], L5PCtemplate[5].dend[58], L5PCtemplate[5].dend[59], L5PCtemplate[5].dend[60], L5PCtemplate[5].dend[61], L5PCtemplate[5].dend[62], L5PCtemplate[5].dend[63], L5PCtemplate[5].dend[64], L5PCtemplate[5].dend[65], L5PCtemplate[5].dend[66], L5PCtemplate[5].dend[67], L5PCtemplate[5].dend[68], L5PCtemplate[5].dend[69], L5PCtemplate[5].dend[70], L5PCtemplate[5].dend[71], L5PCtemplate[5].dend[72], L5PCtemplate[5].dend[73], L5PCtemplate[5].dend[74], L5PCtemplate[5].dend[75], L5PCtemplate[5].dend[76], L5PCtemplate[5].dend[77], L5PCtemplate[5].dend[78], L5PCtemplate[5].dend[79], L5PCtemplate[5].dend[80], L5PCtemplate[5].dend[81], L5PCtemplate[5].dend[82], L5PCtemplate[5].dend[83], L5PCtemplate[5].apic[0], L5PCtemplate[5].apic[1], L5PCtemplate[5].apic[2], L5PCtemplate[5].apic[3], L5PCtemplate[5].apic[4], L5PCtemplate[5].apic[5], L5PCtemplate[5].apic[6], L5PCtemplate[5].apic[7], L5PCtemplate[5].apic[8], L5PCtemplate[5].apic[9], L5PCtemplate[5].apic[10], L5PCtemplate[5].apic[11], L5PCtemplate[5].apic[12], L5PCtemplate[5].apic[13], L5PCtemplate[5].apic[14], L5PCtemplate[5].apic[15], L5PCtemplate[5].apic[16], L5PCtemplate[5].apic[17], L5PCtemplate[5].apic[18], L5PCtemplate[5].apic[19], L5PCtemplate[5].apic[20], L5PCtemplate[5].apic[21], L5PCtemplate[5].apic[22], L5PCtemplate[5].apic[23], L5PCtemplate[5].apic[24], L5PCtemplate[5].apic[25], L5PCtemplate[5].apic[26], L5PCtemplate[5].apic[27], L5PCtemplate[5].apic[28], L5PCtemplate[5].apic[29], L5PCtemplate[5].apic[30], L5PCtemplate[5].apic[31], L5PCtemplate[5].apic[32], L5PCtemplate[5].apic[33], L5PCtemplate[5].apic[34], L5PCtemplate[5].apic[35], L5PCtemplate[5].apic[36], L5PCtemplate[5].apic[37], L5PCtemplate[5].apic[38], L5PCtemplate[5].apic[39], L5PCtemplate[5].apic[40], L5PCtemplate[5].apic[41], L5PCtemplate[5].apic[42], L5PCtemplate[5].apic[43], L5PCtemplate[5].apic[44], L5PCtemplate[5].apic[45], L5PCtemplate[5].apic[46], L5PCtemplate[5].apic[47], L5PCtemplate[5].apic[48], L5PCtemplate[5].apic[49], L5PCtemplate[5].apic[50], L5PCtemplate[5].apic[51], L5PCtemplate[5].apic[52], L5PCtemplate[5].apic[53], L5PCtemplate[5].apic[54], L5PCtemplate[5].apic[55], L5PCtemplate[5].apic[56], L5PCtemplate[5].apic[57], L5PCtemplate[5].apic[58], L5PCtemplate[5].apic[59], L5PCtemplate[5].apic[60], L5PCtemplate[5].apic[61], L5PCtemplate[5].apic[62], L5PCtemplate[5].apic[63], L5PCtemplate[5].apic[64], L5PCtemplate[5].apic[65], L5PCtemplate[5].apic[66], L5PCtemplate[5].apic[67], L5PCtemplate[5].apic[68], L5PCtemplate[5].apic[69], L5PCtemplate[5].apic[70], L5PCtemplate[5].apic[71], L5PCtemplate[5].apic[72], L5PCtemplate[5].apic[73], L5PCtemplate[5].apic[74], L5PCtemplate[5].apic[75], L5PCtemplate[5].apic[76], L5PCtemplate[5].apic[77], L5PCtemplate[5].apic[78], L5PCtemplate[5].apic[79], L5PCtemplate[5].apic[80], L5PCtemplate[5].apic[81], L5PCtemplate[5].apic[82], L5PCtemplate[5].apic[83], L5PCtemplate[5].apic[84], L5PCtemplate[5].apic[85], L5PCtemplate[5].apic[86], L5PCtemplate[5].apic[87], L5PCtemplate[5].apic[88], L5PCtemplate[5].apic[89], L5PCtemplate[5].apic[90], L5PCtemplate[5].apic[91], L5PCtemplate[5].apic[92], L5PCtemplate[5].apic[93], L5PCtemplate[5].apic[94], L5PCtemplate[5].apic[95], L5PCtemplate[5].apic[96], L5PCtemplate[5].apic[97], L5PCtemplate[5].apic[98], L5PCtemplate[5].apic[99], L5PCtemplate[5].apic[100], L5PCtemplate[5].apic[101], L5PCtemplate[5].apic[102], L5PCtemplate[5].apic[103], L5PCtemplate[5].apic[104], L5PCtemplate[5].apic[105], L5PCtemplate[5].apic[106], L5PCtemplate[5].apic[107], L5PCtemplate[5].apic[108], L5PCtemplate[5].axon[0]]\n",
      "soma: [L5PCtemplate[5].soma[0]]\n",
      "dend: [L5PCtemplate[5].dend[0], L5PCtemplate[5].dend[1], L5PCtemplate[5].dend[2], L5PCtemplate[5].dend[3], L5PCtemplate[5].dend[4], L5PCtemplate[5].dend[5], L5PCtemplate[5].dend[6], L5PCtemplate[5].dend[7], L5PCtemplate[5].dend[8], L5PCtemplate[5].dend[9], L5PCtemplate[5].dend[10], L5PCtemplate[5].dend[11], L5PCtemplate[5].dend[12], L5PCtemplate[5].dend[13], L5PCtemplate[5].dend[14], L5PCtemplate[5].dend[15], L5PCtemplate[5].dend[16], L5PCtemplate[5].dend[17], L5PCtemplate[5].dend[18], L5PCtemplate[5].dend[19], L5PCtemplate[5].dend[20], L5PCtemplate[5].dend[21], L5PCtemplate[5].dend[22], L5PCtemplate[5].dend[23], L5PCtemplate[5].dend[24], L5PCtemplate[5].dend[25], L5PCtemplate[5].dend[26], L5PCtemplate[5].dend[27], L5PCtemplate[5].dend[28], L5PCtemplate[5].dend[29], L5PCtemplate[5].dend[30], L5PCtemplate[5].dend[31], L5PCtemplate[5].dend[32], L5PCtemplate[5].dend[33], L5PCtemplate[5].dend[34], L5PCtemplate[5].dend[35], L5PCtemplate[5].dend[36], L5PCtemplate[5].dend[37], L5PCtemplate[5].dend[38], L5PCtemplate[5].dend[39], L5PCtemplate[5].dend[40], L5PCtemplate[5].dend[41], L5PCtemplate[5].dend[42], L5PCtemplate[5].dend[43], L5PCtemplate[5].dend[44], L5PCtemplate[5].dend[45], L5PCtemplate[5].dend[46], L5PCtemplate[5].dend[47], L5PCtemplate[5].dend[48], L5PCtemplate[5].dend[49], L5PCtemplate[5].dend[50], L5PCtemplate[5].dend[51], L5PCtemplate[5].dend[52], L5PCtemplate[5].dend[53], L5PCtemplate[5].dend[54], L5PCtemplate[5].dend[55], L5PCtemplate[5].dend[56], L5PCtemplate[5].dend[57], L5PCtemplate[5].dend[58], L5PCtemplate[5].dend[59], L5PCtemplate[5].dend[60], L5PCtemplate[5].dend[61], L5PCtemplate[5].dend[62], L5PCtemplate[5].dend[63], L5PCtemplate[5].dend[64], L5PCtemplate[5].dend[65], L5PCtemplate[5].dend[66], L5PCtemplate[5].dend[67], L5PCtemplate[5].dend[68], L5PCtemplate[5].dend[69], L5PCtemplate[5].dend[70], L5PCtemplate[5].dend[71], L5PCtemplate[5].dend[72], L5PCtemplate[5].dend[73], L5PCtemplate[5].dend[74], L5PCtemplate[5].dend[75], L5PCtemplate[5].dend[76], L5PCtemplate[5].dend[77], L5PCtemplate[5].dend[78], L5PCtemplate[5].dend[79], L5PCtemplate[5].dend[80], L5PCtemplate[5].dend[81], L5PCtemplate[5].dend[82], L5PCtemplate[5].dend[83]]\n",
      "apic: [L5PCtemplate[5].apic[0], L5PCtemplate[5].apic[1], L5PCtemplate[5].apic[2], L5PCtemplate[5].apic[3], L5PCtemplate[5].apic[4], L5PCtemplate[5].apic[5], L5PCtemplate[5].apic[6], L5PCtemplate[5].apic[7], L5PCtemplate[5].apic[8], L5PCtemplate[5].apic[9], L5PCtemplate[5].apic[10], L5PCtemplate[5].apic[11], L5PCtemplate[5].apic[12], L5PCtemplate[5].apic[13], L5PCtemplate[5].apic[14], L5PCtemplate[5].apic[15], L5PCtemplate[5].apic[16], L5PCtemplate[5].apic[17], L5PCtemplate[5].apic[18], L5PCtemplate[5].apic[19], L5PCtemplate[5].apic[20], L5PCtemplate[5].apic[21], L5PCtemplate[5].apic[22], L5PCtemplate[5].apic[23], L5PCtemplate[5].apic[24], L5PCtemplate[5].apic[25], L5PCtemplate[5].apic[26], L5PCtemplate[5].apic[27], L5PCtemplate[5].apic[28], L5PCtemplate[5].apic[29], L5PCtemplate[5].apic[30], L5PCtemplate[5].apic[31], L5PCtemplate[5].apic[32], L5PCtemplate[5].apic[33], L5PCtemplate[5].apic[34], L5PCtemplate[5].apic[35], L5PCtemplate[5].apic[36], L5PCtemplate[5].apic[37], L5PCtemplate[5].apic[38], L5PCtemplate[5].apic[39], L5PCtemplate[5].apic[40], L5PCtemplate[5].apic[41], L5PCtemplate[5].apic[42], L5PCtemplate[5].apic[43], L5PCtemplate[5].apic[44], L5PCtemplate[5].apic[45], L5PCtemplate[5].apic[46], L5PCtemplate[5].apic[47], L5PCtemplate[5].apic[48], L5PCtemplate[5].apic[49], L5PCtemplate[5].apic[50], L5PCtemplate[5].apic[51], L5PCtemplate[5].apic[52], L5PCtemplate[5].apic[53], L5PCtemplate[5].apic[54], L5PCtemplate[5].apic[55], L5PCtemplate[5].apic[56], L5PCtemplate[5].apic[57], L5PCtemplate[5].apic[58], L5PCtemplate[5].apic[59], L5PCtemplate[5].apic[60], L5PCtemplate[5].apic[61], L5PCtemplate[5].apic[62], L5PCtemplate[5].apic[63], L5PCtemplate[5].apic[64], L5PCtemplate[5].apic[65], L5PCtemplate[5].apic[66], L5PCtemplate[5].apic[67], L5PCtemplate[5].apic[68], L5PCtemplate[5].apic[69], L5PCtemplate[5].apic[70], L5PCtemplate[5].apic[71], L5PCtemplate[5].apic[72], L5PCtemplate[5].apic[73], L5PCtemplate[5].apic[74], L5PCtemplate[5].apic[75], L5PCtemplate[5].apic[76], L5PCtemplate[5].apic[77], L5PCtemplate[5].apic[78], L5PCtemplate[5].apic[79], L5PCtemplate[5].apic[80], L5PCtemplate[5].apic[81], L5PCtemplate[5].apic[82], L5PCtemplate[5].apic[83], L5PCtemplate[5].apic[84], L5PCtemplate[5].apic[85], L5PCtemplate[5].apic[86], L5PCtemplate[5].apic[87], L5PCtemplate[5].apic[88], L5PCtemplate[5].apic[89], L5PCtemplate[5].apic[90], L5PCtemplate[5].apic[91], L5PCtemplate[5].apic[92], L5PCtemplate[5].apic[93], L5PCtemplate[5].apic[94], L5PCtemplate[5].apic[95], L5PCtemplate[5].apic[96], L5PCtemplate[5].apic[97], L5PCtemplate[5].apic[98], L5PCtemplate[5].apic[99], L5PCtemplate[5].apic[100], L5PCtemplate[5].apic[101], L5PCtemplate[5].apic[102], L5PCtemplate[5].apic[103], L5PCtemplate[5].apic[104], L5PCtemplate[5].apic[105], L5PCtemplate[5].apic[106], L5PCtemplate[5].apic[107], L5PCtemplate[5].apic[108]]\n",
      "axon: [L5PCtemplate[5].axon[0]]\n",
      "(2024-05-20 20:31:32.818259)-[PID: 2835669]–[INFO]: Finished creating a CellModel object.\n",
      "(2024-05-20 20:31:32.818284)-[PID: 2835669]–[INFO]: Finish building in 0.2235121726989746\n"
     ]
    },
    {
     "name": "stderr",
     "output_type": "stream",
     "text": [
      "There is no segment to segment copy, it means that some segments in thereduced model did not receive channels from the original cell.Trying to compensate by copying channels from neighboring segments\n"
     ]
    },
    {
     "name": "stdout",
     "output_type": "stream",
     "text": [
      "(2024-05-20 20:31:45.238455)-[PID: 2835669]–[INFO]: Building SkeletonCell.Hay.\n",
      "all: [L5PCtemplate[6].soma[0], L5PCtemplate[6].dend[0], L5PCtemplate[6].dend[1], L5PCtemplate[6].dend[2], L5PCtemplate[6].dend[3], L5PCtemplate[6].dend[4], L5PCtemplate[6].dend[5], L5PCtemplate[6].dend[6], L5PCtemplate[6].dend[7], L5PCtemplate[6].dend[8], L5PCtemplate[6].dend[9], L5PCtemplate[6].dend[10], L5PCtemplate[6].dend[11], L5PCtemplate[6].dend[12], L5PCtemplate[6].dend[13], L5PCtemplate[6].dend[14], L5PCtemplate[6].dend[15], L5PCtemplate[6].dend[16], L5PCtemplate[6].dend[17], L5PCtemplate[6].dend[18], L5PCtemplate[6].dend[19], L5PCtemplate[6].dend[20], L5PCtemplate[6].dend[21], L5PCtemplate[6].dend[22], L5PCtemplate[6].dend[23], L5PCtemplate[6].dend[24], L5PCtemplate[6].dend[25], L5PCtemplate[6].dend[26], L5PCtemplate[6].dend[27], L5PCtemplate[6].dend[28], L5PCtemplate[6].dend[29], L5PCtemplate[6].dend[30], L5PCtemplate[6].dend[31], L5PCtemplate[6].dend[32], L5PCtemplate[6].dend[33], L5PCtemplate[6].dend[34], L5PCtemplate[6].dend[35], L5PCtemplate[6].dend[36], L5PCtemplate[6].dend[37], L5PCtemplate[6].dend[38], L5PCtemplate[6].dend[39], L5PCtemplate[6].dend[40], L5PCtemplate[6].dend[41], L5PCtemplate[6].dend[42], L5PCtemplate[6].dend[43], L5PCtemplate[6].dend[44], L5PCtemplate[6].dend[45], L5PCtemplate[6].dend[46], L5PCtemplate[6].dend[47], L5PCtemplate[6].dend[48], L5PCtemplate[6].dend[49], L5PCtemplate[6].dend[50], L5PCtemplate[6].dend[51], L5PCtemplate[6].dend[52], L5PCtemplate[6].dend[53], L5PCtemplate[6].dend[54], L5PCtemplate[6].dend[55], L5PCtemplate[6].dend[56], L5PCtemplate[6].dend[57], L5PCtemplate[6].dend[58], L5PCtemplate[6].dend[59], L5PCtemplate[6].dend[60], L5PCtemplate[6].dend[61], L5PCtemplate[6].dend[62], L5PCtemplate[6].dend[63], L5PCtemplate[6].dend[64], L5PCtemplate[6].dend[65], L5PCtemplate[6].dend[66], L5PCtemplate[6].dend[67], L5PCtemplate[6].dend[68], L5PCtemplate[6].dend[69], L5PCtemplate[6].dend[70], L5PCtemplate[6].dend[71], L5PCtemplate[6].dend[72], L5PCtemplate[6].dend[73], L5PCtemplate[6].dend[74], L5PCtemplate[6].dend[75], L5PCtemplate[6].dend[76], L5PCtemplate[6].dend[77], L5PCtemplate[6].dend[78], L5PCtemplate[6].dend[79], L5PCtemplate[6].dend[80], L5PCtemplate[6].dend[81], L5PCtemplate[6].dend[82], L5PCtemplate[6].dend[83], L5PCtemplate[6].apic[0], L5PCtemplate[6].apic[1], L5PCtemplate[6].apic[2], L5PCtemplate[6].apic[3], L5PCtemplate[6].apic[4], L5PCtemplate[6].apic[5], L5PCtemplate[6].apic[6], L5PCtemplate[6].apic[7], L5PCtemplate[6].apic[8], L5PCtemplate[6].apic[9], L5PCtemplate[6].apic[10], L5PCtemplate[6].apic[11], L5PCtemplate[6].apic[12], L5PCtemplate[6].apic[13], L5PCtemplate[6].apic[14], L5PCtemplate[6].apic[15], L5PCtemplate[6].apic[16], L5PCtemplate[6].apic[17], L5PCtemplate[6].apic[18], L5PCtemplate[6].apic[19], L5PCtemplate[6].apic[20], L5PCtemplate[6].apic[21], L5PCtemplate[6].apic[22], L5PCtemplate[6].apic[23], L5PCtemplate[6].apic[24], L5PCtemplate[6].apic[25], L5PCtemplate[6].apic[26], L5PCtemplate[6].apic[27], L5PCtemplate[6].apic[28], L5PCtemplate[6].apic[29], L5PCtemplate[6].apic[30], L5PCtemplate[6].apic[31], L5PCtemplate[6].apic[32], L5PCtemplate[6].apic[33], L5PCtemplate[6].apic[34], L5PCtemplate[6].apic[35], L5PCtemplate[6].apic[36], L5PCtemplate[6].apic[37], L5PCtemplate[6].apic[38], L5PCtemplate[6].apic[39], L5PCtemplate[6].apic[40], L5PCtemplate[6].apic[41], L5PCtemplate[6].apic[42], L5PCtemplate[6].apic[43], L5PCtemplate[6].apic[44], L5PCtemplate[6].apic[45], L5PCtemplate[6].apic[46], L5PCtemplate[6].apic[47], L5PCtemplate[6].apic[48], L5PCtemplate[6].apic[49], L5PCtemplate[6].apic[50], L5PCtemplate[6].apic[51], L5PCtemplate[6].apic[52], L5PCtemplate[6].apic[53], L5PCtemplate[6].apic[54], L5PCtemplate[6].apic[55], L5PCtemplate[6].apic[56], L5PCtemplate[6].apic[57], L5PCtemplate[6].apic[58], L5PCtemplate[6].apic[59], L5PCtemplate[6].apic[60], L5PCtemplate[6].apic[61], L5PCtemplate[6].apic[62], L5PCtemplate[6].apic[63], L5PCtemplate[6].apic[64], L5PCtemplate[6].apic[65], L5PCtemplate[6].apic[66], L5PCtemplate[6].apic[67], L5PCtemplate[6].apic[68], L5PCtemplate[6].apic[69], L5PCtemplate[6].apic[70], L5PCtemplate[6].apic[71], L5PCtemplate[6].apic[72], L5PCtemplate[6].apic[73], L5PCtemplate[6].apic[74], L5PCtemplate[6].apic[75], L5PCtemplate[6].apic[76], L5PCtemplate[6].apic[77], L5PCtemplate[6].apic[78], L5PCtemplate[6].apic[79], L5PCtemplate[6].apic[80], L5PCtemplate[6].apic[81], L5PCtemplate[6].apic[82], L5PCtemplate[6].apic[83], L5PCtemplate[6].apic[84], L5PCtemplate[6].apic[85], L5PCtemplate[6].apic[86], L5PCtemplate[6].apic[87], L5PCtemplate[6].apic[88], L5PCtemplate[6].apic[89], L5PCtemplate[6].apic[90], L5PCtemplate[6].apic[91], L5PCtemplate[6].apic[92], L5PCtemplate[6].apic[93], L5PCtemplate[6].apic[94], L5PCtemplate[6].apic[95], L5PCtemplate[6].apic[96], L5PCtemplate[6].apic[97], L5PCtemplate[6].apic[98], L5PCtemplate[6].apic[99], L5PCtemplate[6].apic[100], L5PCtemplate[6].apic[101], L5PCtemplate[6].apic[102], L5PCtemplate[6].apic[103], L5PCtemplate[6].apic[104], L5PCtemplate[6].apic[105], L5PCtemplate[6].apic[106], L5PCtemplate[6].apic[107], L5PCtemplate[6].apic[108], L5PCtemplate[6].axon[0]]\n",
      "soma: [L5PCtemplate[6].soma[0]]\n",
      "dend: [L5PCtemplate[6].dend[0], L5PCtemplate[6].dend[1], L5PCtemplate[6].dend[2], L5PCtemplate[6].dend[3], L5PCtemplate[6].dend[4], L5PCtemplate[6].dend[5], L5PCtemplate[6].dend[6], L5PCtemplate[6].dend[7], L5PCtemplate[6].dend[8], L5PCtemplate[6].dend[9], L5PCtemplate[6].dend[10], L5PCtemplate[6].dend[11], L5PCtemplate[6].dend[12], L5PCtemplate[6].dend[13], L5PCtemplate[6].dend[14], L5PCtemplate[6].dend[15], L5PCtemplate[6].dend[16], L5PCtemplate[6].dend[17], L5PCtemplate[6].dend[18], L5PCtemplate[6].dend[19], L5PCtemplate[6].dend[20], L5PCtemplate[6].dend[21], L5PCtemplate[6].dend[22], L5PCtemplate[6].dend[23], L5PCtemplate[6].dend[24], L5PCtemplate[6].dend[25], L5PCtemplate[6].dend[26], L5PCtemplate[6].dend[27], L5PCtemplate[6].dend[28], L5PCtemplate[6].dend[29], L5PCtemplate[6].dend[30], L5PCtemplate[6].dend[31], L5PCtemplate[6].dend[32], L5PCtemplate[6].dend[33], L5PCtemplate[6].dend[34], L5PCtemplate[6].dend[35], L5PCtemplate[6].dend[36], L5PCtemplate[6].dend[37], L5PCtemplate[6].dend[38], L5PCtemplate[6].dend[39], L5PCtemplate[6].dend[40], L5PCtemplate[6].dend[41], L5PCtemplate[6].dend[42], L5PCtemplate[6].dend[43], L5PCtemplate[6].dend[44], L5PCtemplate[6].dend[45], L5PCtemplate[6].dend[46], L5PCtemplate[6].dend[47], L5PCtemplate[6].dend[48], L5PCtemplate[6].dend[49], L5PCtemplate[6].dend[50], L5PCtemplate[6].dend[51], L5PCtemplate[6].dend[52], L5PCtemplate[6].dend[53], L5PCtemplate[6].dend[54], L5PCtemplate[6].dend[55], L5PCtemplate[6].dend[56], L5PCtemplate[6].dend[57], L5PCtemplate[6].dend[58], L5PCtemplate[6].dend[59], L5PCtemplate[6].dend[60], L5PCtemplate[6].dend[61], L5PCtemplate[6].dend[62], L5PCtemplate[6].dend[63], L5PCtemplate[6].dend[64], L5PCtemplate[6].dend[65], L5PCtemplate[6].dend[66], L5PCtemplate[6].dend[67], L5PCtemplate[6].dend[68], L5PCtemplate[6].dend[69], L5PCtemplate[6].dend[70], L5PCtemplate[6].dend[71], L5PCtemplate[6].dend[72], L5PCtemplate[6].dend[73], L5PCtemplate[6].dend[74], L5PCtemplate[6].dend[75], L5PCtemplate[6].dend[76], L5PCtemplate[6].dend[77], L5PCtemplate[6].dend[78], L5PCtemplate[6].dend[79], L5PCtemplate[6].dend[80], L5PCtemplate[6].dend[81], L5PCtemplate[6].dend[82], L5PCtemplate[6].dend[83]]\n",
      "apic: [L5PCtemplate[6].apic[0], L5PCtemplate[6].apic[1], L5PCtemplate[6].apic[2], L5PCtemplate[6].apic[3], L5PCtemplate[6].apic[4], L5PCtemplate[6].apic[5], L5PCtemplate[6].apic[6], L5PCtemplate[6].apic[7], L5PCtemplate[6].apic[8], L5PCtemplate[6].apic[9], L5PCtemplate[6].apic[10], L5PCtemplate[6].apic[11], L5PCtemplate[6].apic[12], L5PCtemplate[6].apic[13], L5PCtemplate[6].apic[14], L5PCtemplate[6].apic[15], L5PCtemplate[6].apic[16], L5PCtemplate[6].apic[17], L5PCtemplate[6].apic[18], L5PCtemplate[6].apic[19], L5PCtemplate[6].apic[20], L5PCtemplate[6].apic[21], L5PCtemplate[6].apic[22], L5PCtemplate[6].apic[23], L5PCtemplate[6].apic[24], L5PCtemplate[6].apic[25], L5PCtemplate[6].apic[26], L5PCtemplate[6].apic[27], L5PCtemplate[6].apic[28], L5PCtemplate[6].apic[29], L5PCtemplate[6].apic[30], L5PCtemplate[6].apic[31], L5PCtemplate[6].apic[32], L5PCtemplate[6].apic[33], L5PCtemplate[6].apic[34], L5PCtemplate[6].apic[35], L5PCtemplate[6].apic[36], L5PCtemplate[6].apic[37], L5PCtemplate[6].apic[38], L5PCtemplate[6].apic[39], L5PCtemplate[6].apic[40], L5PCtemplate[6].apic[41], L5PCtemplate[6].apic[42], L5PCtemplate[6].apic[43], L5PCtemplate[6].apic[44], L5PCtemplate[6].apic[45], L5PCtemplate[6].apic[46], L5PCtemplate[6].apic[47], L5PCtemplate[6].apic[48], L5PCtemplate[6].apic[49], L5PCtemplate[6].apic[50], L5PCtemplate[6].apic[51], L5PCtemplate[6].apic[52], L5PCtemplate[6].apic[53], L5PCtemplate[6].apic[54], L5PCtemplate[6].apic[55], L5PCtemplate[6].apic[56], L5PCtemplate[6].apic[57], L5PCtemplate[6].apic[58], L5PCtemplate[6].apic[59], L5PCtemplate[6].apic[60], L5PCtemplate[6].apic[61], L5PCtemplate[6].apic[62], L5PCtemplate[6].apic[63], L5PCtemplate[6].apic[64], L5PCtemplate[6].apic[65], L5PCtemplate[6].apic[66], L5PCtemplate[6].apic[67], L5PCtemplate[6].apic[68], L5PCtemplate[6].apic[69], L5PCtemplate[6].apic[70], L5PCtemplate[6].apic[71], L5PCtemplate[6].apic[72], L5PCtemplate[6].apic[73], L5PCtemplate[6].apic[74], L5PCtemplate[6].apic[75], L5PCtemplate[6].apic[76], L5PCtemplate[6].apic[77], L5PCtemplate[6].apic[78], L5PCtemplate[6].apic[79], L5PCtemplate[6].apic[80], L5PCtemplate[6].apic[81], L5PCtemplate[6].apic[82], L5PCtemplate[6].apic[83], L5PCtemplate[6].apic[84], L5PCtemplate[6].apic[85], L5PCtemplate[6].apic[86], L5PCtemplate[6].apic[87], L5PCtemplate[6].apic[88], L5PCtemplate[6].apic[89], L5PCtemplate[6].apic[90], L5PCtemplate[6].apic[91], L5PCtemplate[6].apic[92], L5PCtemplate[6].apic[93], L5PCtemplate[6].apic[94], L5PCtemplate[6].apic[95], L5PCtemplate[6].apic[96], L5PCtemplate[6].apic[97], L5PCtemplate[6].apic[98], L5PCtemplate[6].apic[99], L5PCtemplate[6].apic[100], L5PCtemplate[6].apic[101], L5PCtemplate[6].apic[102], L5PCtemplate[6].apic[103], L5PCtemplate[6].apic[104], L5PCtemplate[6].apic[105], L5PCtemplate[6].apic[106], L5PCtemplate[6].apic[107], L5PCtemplate[6].apic[108]]\n",
      "axon: [L5PCtemplate[6].axon[0]]\n",
      "(2024-05-20 20:31:45.463873)-[PID: 2835669]–[INFO]: Finished creating a CellModel object.\n",
      "(2024-05-20 20:31:45.463899)-[PID: 2835669]–[INFO]: Finish building in 0.22570490837097168\n",
      "(2024-05-20 20:31:55.501943)-[PID: 2835669]–[INFO]: Building SkeletonCell.Hay.\n",
      "all: [L5PCtemplate[7].soma[0], L5PCtemplate[7].dend[0], L5PCtemplate[7].dend[1], L5PCtemplate[7].dend[2], L5PCtemplate[7].dend[3], L5PCtemplate[7].dend[4], L5PCtemplate[7].dend[5], L5PCtemplate[7].dend[6], L5PCtemplate[7].dend[7], L5PCtemplate[7].dend[8], L5PCtemplate[7].dend[9], L5PCtemplate[7].dend[10], L5PCtemplate[7].dend[11], L5PCtemplate[7].dend[12], L5PCtemplate[7].dend[13], L5PCtemplate[7].dend[14], L5PCtemplate[7].dend[15], L5PCtemplate[7].dend[16], L5PCtemplate[7].dend[17], L5PCtemplate[7].dend[18], L5PCtemplate[7].dend[19], L5PCtemplate[7].dend[20], L5PCtemplate[7].dend[21], L5PCtemplate[7].dend[22], L5PCtemplate[7].dend[23], L5PCtemplate[7].dend[24], L5PCtemplate[7].dend[25], L5PCtemplate[7].dend[26], L5PCtemplate[7].dend[27], L5PCtemplate[7].dend[28], L5PCtemplate[7].dend[29], L5PCtemplate[7].dend[30], L5PCtemplate[7].dend[31], L5PCtemplate[7].dend[32], L5PCtemplate[7].dend[33], L5PCtemplate[7].dend[34], L5PCtemplate[7].dend[35], L5PCtemplate[7].dend[36], L5PCtemplate[7].dend[37], L5PCtemplate[7].dend[38], L5PCtemplate[7].dend[39], L5PCtemplate[7].dend[40], L5PCtemplate[7].dend[41], L5PCtemplate[7].dend[42], L5PCtemplate[7].dend[43], L5PCtemplate[7].dend[44], L5PCtemplate[7].dend[45], L5PCtemplate[7].dend[46], L5PCtemplate[7].dend[47], L5PCtemplate[7].dend[48], L5PCtemplate[7].dend[49], L5PCtemplate[7].dend[50], L5PCtemplate[7].dend[51], L5PCtemplate[7].dend[52], L5PCtemplate[7].dend[53], L5PCtemplate[7].dend[54], L5PCtemplate[7].dend[55], L5PCtemplate[7].dend[56], L5PCtemplate[7].dend[57], L5PCtemplate[7].dend[58], L5PCtemplate[7].dend[59], L5PCtemplate[7].dend[60], L5PCtemplate[7].dend[61], L5PCtemplate[7].dend[62], L5PCtemplate[7].dend[63], L5PCtemplate[7].dend[64], L5PCtemplate[7].dend[65], L5PCtemplate[7].dend[66], L5PCtemplate[7].dend[67], L5PCtemplate[7].dend[68], L5PCtemplate[7].dend[69], L5PCtemplate[7].dend[70], L5PCtemplate[7].dend[71], L5PCtemplate[7].dend[72], L5PCtemplate[7].dend[73], L5PCtemplate[7].dend[74], L5PCtemplate[7].dend[75], L5PCtemplate[7].dend[76], L5PCtemplate[7].dend[77], L5PCtemplate[7].dend[78], L5PCtemplate[7].dend[79], L5PCtemplate[7].dend[80], L5PCtemplate[7].dend[81], L5PCtemplate[7].dend[82], L5PCtemplate[7].dend[83], L5PCtemplate[7].apic[0], L5PCtemplate[7].apic[1], L5PCtemplate[7].apic[2], L5PCtemplate[7].apic[3], L5PCtemplate[7].apic[4], L5PCtemplate[7].apic[5], L5PCtemplate[7].apic[6], L5PCtemplate[7].apic[7], L5PCtemplate[7].apic[8], L5PCtemplate[7].apic[9], L5PCtemplate[7].apic[10], L5PCtemplate[7].apic[11], L5PCtemplate[7].apic[12], L5PCtemplate[7].apic[13], L5PCtemplate[7].apic[14], L5PCtemplate[7].apic[15], L5PCtemplate[7].apic[16], L5PCtemplate[7].apic[17], L5PCtemplate[7].apic[18], L5PCtemplate[7].apic[19], L5PCtemplate[7].apic[20], L5PCtemplate[7].apic[21], L5PCtemplate[7].apic[22], L5PCtemplate[7].apic[23], L5PCtemplate[7].apic[24], L5PCtemplate[7].apic[25], L5PCtemplate[7].apic[26], L5PCtemplate[7].apic[27], L5PCtemplate[7].apic[28], L5PCtemplate[7].apic[29], L5PCtemplate[7].apic[30], L5PCtemplate[7].apic[31], L5PCtemplate[7].apic[32], L5PCtemplate[7].apic[33], L5PCtemplate[7].apic[34], L5PCtemplate[7].apic[35], L5PCtemplate[7].apic[36], L5PCtemplate[7].apic[37], L5PCtemplate[7].apic[38], L5PCtemplate[7].apic[39], L5PCtemplate[7].apic[40], L5PCtemplate[7].apic[41], L5PCtemplate[7].apic[42], L5PCtemplate[7].apic[43], L5PCtemplate[7].apic[44], L5PCtemplate[7].apic[45], L5PCtemplate[7].apic[46], L5PCtemplate[7].apic[47], L5PCtemplate[7].apic[48], L5PCtemplate[7].apic[49], L5PCtemplate[7].apic[50], L5PCtemplate[7].apic[51], L5PCtemplate[7].apic[52], L5PCtemplate[7].apic[53], L5PCtemplate[7].apic[54], L5PCtemplate[7].apic[55], L5PCtemplate[7].apic[56], L5PCtemplate[7].apic[57], L5PCtemplate[7].apic[58], L5PCtemplate[7].apic[59], L5PCtemplate[7].apic[60], L5PCtemplate[7].apic[61], L5PCtemplate[7].apic[62], L5PCtemplate[7].apic[63], L5PCtemplate[7].apic[64], L5PCtemplate[7].apic[65], L5PCtemplate[7].apic[66], L5PCtemplate[7].apic[67], L5PCtemplate[7].apic[68], L5PCtemplate[7].apic[69], L5PCtemplate[7].apic[70], L5PCtemplate[7].apic[71], L5PCtemplate[7].apic[72], L5PCtemplate[7].apic[73], L5PCtemplate[7].apic[74], L5PCtemplate[7].apic[75], L5PCtemplate[7].apic[76], L5PCtemplate[7].apic[77], L5PCtemplate[7].apic[78], L5PCtemplate[7].apic[79], L5PCtemplate[7].apic[80], L5PCtemplate[7].apic[81], L5PCtemplate[7].apic[82], L5PCtemplate[7].apic[83], L5PCtemplate[7].apic[84], L5PCtemplate[7].apic[85], L5PCtemplate[7].apic[86], L5PCtemplate[7].apic[87], L5PCtemplate[7].apic[88], L5PCtemplate[7].apic[89], L5PCtemplate[7].apic[90], L5PCtemplate[7].apic[91], L5PCtemplate[7].apic[92], L5PCtemplate[7].apic[93], L5PCtemplate[7].apic[94], L5PCtemplate[7].apic[95], L5PCtemplate[7].apic[96], L5PCtemplate[7].apic[97], L5PCtemplate[7].apic[98], L5PCtemplate[7].apic[99], L5PCtemplate[7].apic[100], L5PCtemplate[7].apic[101], L5PCtemplate[7].apic[102], L5PCtemplate[7].apic[103], L5PCtemplate[7].apic[104], L5PCtemplate[7].apic[105], L5PCtemplate[7].apic[106], L5PCtemplate[7].apic[107], L5PCtemplate[7].apic[108], L5PCtemplate[7].axon[0]]\n",
      "soma: [L5PCtemplate[7].soma[0]]\n",
      "dend: [L5PCtemplate[7].dend[0], L5PCtemplate[7].dend[1], L5PCtemplate[7].dend[2], L5PCtemplate[7].dend[3], L5PCtemplate[7].dend[4], L5PCtemplate[7].dend[5], L5PCtemplate[7].dend[6], L5PCtemplate[7].dend[7], L5PCtemplate[7].dend[8], L5PCtemplate[7].dend[9], L5PCtemplate[7].dend[10], L5PCtemplate[7].dend[11], L5PCtemplate[7].dend[12], L5PCtemplate[7].dend[13], L5PCtemplate[7].dend[14], L5PCtemplate[7].dend[15], L5PCtemplate[7].dend[16], L5PCtemplate[7].dend[17], L5PCtemplate[7].dend[18], L5PCtemplate[7].dend[19], L5PCtemplate[7].dend[20], L5PCtemplate[7].dend[21], L5PCtemplate[7].dend[22], L5PCtemplate[7].dend[23], L5PCtemplate[7].dend[24], L5PCtemplate[7].dend[25], L5PCtemplate[7].dend[26], L5PCtemplate[7].dend[27], L5PCtemplate[7].dend[28], L5PCtemplate[7].dend[29], L5PCtemplate[7].dend[30], L5PCtemplate[7].dend[31], L5PCtemplate[7].dend[32], L5PCtemplate[7].dend[33], L5PCtemplate[7].dend[34], L5PCtemplate[7].dend[35], L5PCtemplate[7].dend[36], L5PCtemplate[7].dend[37], L5PCtemplate[7].dend[38], L5PCtemplate[7].dend[39], L5PCtemplate[7].dend[40], L5PCtemplate[7].dend[41], L5PCtemplate[7].dend[42], L5PCtemplate[7].dend[43], L5PCtemplate[7].dend[44], L5PCtemplate[7].dend[45], L5PCtemplate[7].dend[46], L5PCtemplate[7].dend[47], L5PCtemplate[7].dend[48], L5PCtemplate[7].dend[49], L5PCtemplate[7].dend[50], L5PCtemplate[7].dend[51], L5PCtemplate[7].dend[52], L5PCtemplate[7].dend[53], L5PCtemplate[7].dend[54], L5PCtemplate[7].dend[55], L5PCtemplate[7].dend[56], L5PCtemplate[7].dend[57], L5PCtemplate[7].dend[58], L5PCtemplate[7].dend[59], L5PCtemplate[7].dend[60], L5PCtemplate[7].dend[61], L5PCtemplate[7].dend[62], L5PCtemplate[7].dend[63], L5PCtemplate[7].dend[64], L5PCtemplate[7].dend[65], L5PCtemplate[7].dend[66], L5PCtemplate[7].dend[67], L5PCtemplate[7].dend[68], L5PCtemplate[7].dend[69], L5PCtemplate[7].dend[70], L5PCtemplate[7].dend[71], L5PCtemplate[7].dend[72], L5PCtemplate[7].dend[73], L5PCtemplate[7].dend[74], L5PCtemplate[7].dend[75], L5PCtemplate[7].dend[76], L5PCtemplate[7].dend[77], L5PCtemplate[7].dend[78], L5PCtemplate[7].dend[79], L5PCtemplate[7].dend[80], L5PCtemplate[7].dend[81], L5PCtemplate[7].dend[82], L5PCtemplate[7].dend[83]]\n",
      "apic: [L5PCtemplate[7].apic[0], L5PCtemplate[7].apic[1], L5PCtemplate[7].apic[2], L5PCtemplate[7].apic[3], L5PCtemplate[7].apic[4], L5PCtemplate[7].apic[5], L5PCtemplate[7].apic[6], L5PCtemplate[7].apic[7], L5PCtemplate[7].apic[8], L5PCtemplate[7].apic[9], L5PCtemplate[7].apic[10], L5PCtemplate[7].apic[11], L5PCtemplate[7].apic[12], L5PCtemplate[7].apic[13], L5PCtemplate[7].apic[14], L5PCtemplate[7].apic[15], L5PCtemplate[7].apic[16], L5PCtemplate[7].apic[17], L5PCtemplate[7].apic[18], L5PCtemplate[7].apic[19], L5PCtemplate[7].apic[20], L5PCtemplate[7].apic[21], L5PCtemplate[7].apic[22], L5PCtemplate[7].apic[23], L5PCtemplate[7].apic[24], L5PCtemplate[7].apic[25], L5PCtemplate[7].apic[26], L5PCtemplate[7].apic[27], L5PCtemplate[7].apic[28], L5PCtemplate[7].apic[29], L5PCtemplate[7].apic[30], L5PCtemplate[7].apic[31], L5PCtemplate[7].apic[32], L5PCtemplate[7].apic[33], L5PCtemplate[7].apic[34], L5PCtemplate[7].apic[35], L5PCtemplate[7].apic[36], L5PCtemplate[7].apic[37], L5PCtemplate[7].apic[38], L5PCtemplate[7].apic[39], L5PCtemplate[7].apic[40], L5PCtemplate[7].apic[41], L5PCtemplate[7].apic[42], L5PCtemplate[7].apic[43], L5PCtemplate[7].apic[44], L5PCtemplate[7].apic[45], L5PCtemplate[7].apic[46], L5PCtemplate[7].apic[47], L5PCtemplate[7].apic[48], L5PCtemplate[7].apic[49], L5PCtemplate[7].apic[50], L5PCtemplate[7].apic[51], L5PCtemplate[7].apic[52], L5PCtemplate[7].apic[53], L5PCtemplate[7].apic[54], L5PCtemplate[7].apic[55], L5PCtemplate[7].apic[56], L5PCtemplate[7].apic[57], L5PCtemplate[7].apic[58], L5PCtemplate[7].apic[59], L5PCtemplate[7].apic[60], L5PCtemplate[7].apic[61], L5PCtemplate[7].apic[62], L5PCtemplate[7].apic[63], L5PCtemplate[7].apic[64], L5PCtemplate[7].apic[65], L5PCtemplate[7].apic[66], L5PCtemplate[7].apic[67], L5PCtemplate[7].apic[68], L5PCtemplate[7].apic[69], L5PCtemplate[7].apic[70], L5PCtemplate[7].apic[71], L5PCtemplate[7].apic[72], L5PCtemplate[7].apic[73], L5PCtemplate[7].apic[74], L5PCtemplate[7].apic[75], L5PCtemplate[7].apic[76], L5PCtemplate[7].apic[77], L5PCtemplate[7].apic[78], L5PCtemplate[7].apic[79], L5PCtemplate[7].apic[80], L5PCtemplate[7].apic[81], L5PCtemplate[7].apic[82], L5PCtemplate[7].apic[83], L5PCtemplate[7].apic[84], L5PCtemplate[7].apic[85], L5PCtemplate[7].apic[86], L5PCtemplate[7].apic[87], L5PCtemplate[7].apic[88], L5PCtemplate[7].apic[89], L5PCtemplate[7].apic[90], L5PCtemplate[7].apic[91], L5PCtemplate[7].apic[92], L5PCtemplate[7].apic[93], L5PCtemplate[7].apic[94], L5PCtemplate[7].apic[95], L5PCtemplate[7].apic[96], L5PCtemplate[7].apic[97], L5PCtemplate[7].apic[98], L5PCtemplate[7].apic[99], L5PCtemplate[7].apic[100], L5PCtemplate[7].apic[101], L5PCtemplate[7].apic[102], L5PCtemplate[7].apic[103], L5PCtemplate[7].apic[104], L5PCtemplate[7].apic[105], L5PCtemplate[7].apic[106], L5PCtemplate[7].apic[107], L5PCtemplate[7].apic[108]]\n",
      "axon: [L5PCtemplate[7].axon[0]]\n",
      "(2024-05-20 20:31:55.726648)-[PID: 2835669]–[INFO]: Finished creating a CellModel object.\n",
      "(2024-05-20 20:31:55.726670)-[PID: 2835669]–[INFO]: Finish building in 0.2249915599822998\n"
     ]
    },
    {
     "name": "stderr",
     "output_type": "stream",
     "text": [
      "There is no segment to segment copy, it means that some segments in thereduced model did not receive channels from the original cell.Trying to compensate by copying channels from neighboring segments\n"
     ]
    }
   ],
   "source": [
    "complex_cell, _ = cell_builder.build_cell()\n",
    "reduced_cell_tufts, original_seg_data, all_deleted_seg_indices = get_reduced_cell(cell_builder, reduce_tufts = True, reduce_obliques = False)\n",
    "reduced_cell_obliques, original_seg_data, all_deleted_seg_indices = get_reduced_cell(cell_builder, reduce_tufts = False, reduce_obliques = True)\n",
    "reduced_cell_basals, original_seg_data, all_deleted_seg_indices = get_reduced_cell(cell_builder, reduce_basals = True)\n",
    "# reduced_cell_tufts_basals, original_seg_data, all_deleted_seg_indices = get_reduced_cell(cell_builder, reduce_tufts = True, reduce_basals = True, reduce_obliques = False)\n",
    "reduced_cell_tufts_basals_obliques, original_seg_data, all_deleted_seg_indices = get_reduced_cell(cell_builder, reduce_tufts = True, reduce_basals = True, reduce_obliques = True)\n",
    "# reduced_cell_tufts_obliques, original_seg_data, all_deleted_seg_indices = get_reduced_cell(cell_builder, reduce_tufts = True, reduce_basals = False, reduce_obliques = True)\n",
    "# reduced_cell_basals_obliques, original_seg_data, all_deleted_seg_indices = get_reduced_cell(cell_builder, reduce_tufts = False, reduce_basals = True, reduce_obliques = True)\n",
    "\n",
    "cells = {\n",
    "    'Complex':complex_cell,\n",
    "    'Reduced Tufts':reduced_cell_tufts,\n",
    "    'Reduced Basals':reduced_cell_basals,\n",
    "    'Reduced Obliques':reduced_cell_obliques,\n",
    "    # 'Reduced Tufts and Basals':reduced_cell_tufts_basals,\n",
    "    # 'Reduced Tufts and Obliques':reduced_cell_tufts_obliques,\n",
    "    # 'Reduced Basals and Obliques':reduced_cell_basals_obliques,\n",
    "    'Reduced Tufts, Basals, Obliques': reduced_cell_tufts_basals_obliques\n",
    "}"
   ]
  },
  {
   "cell_type": "code",
   "execution_count": 14,
   "metadata": {},
   "outputs": [],
   "source": [
    "# define custom synpase distribution ( in this case 700 exc 300 inh)\n",
    "from spike_generator import PoissonTrainGenerator\n",
    "from presynaptic import PCBuilder\n",
    "from functools import partial\n",
    "import scipy.stats as st\n",
    "\n",
    "def build_synapses(cell, random_state):\n",
    "    # craete synapse objects\n",
    "    #self.logger.log(\"Building excitatory synapses.\")\n",
    "    build_excitatory_synapses(cell = cell)\n",
    "\n",
    "    #self.logger.log(\"Building inhibitory synapses.\")\n",
    "    build_inhibitory_synapses(cell = cell)\n",
    "\n",
    "    #self.logger.log(\"Building soma synapses.\")\n",
    "    build_soma_synapses(cell = cell)\n",
    "\n",
    "    # Assign spike trains\n",
    "    #self.logger.log(\"Assigning excitatory spike trains.\")\n",
    "    assign_exitatory_spike_trains(cell = cell, random_state = random_state)\n",
    "\n",
    "    #self.logger.log(\"Assigning inhibitory spike trains.\")\n",
    "    assign_inhibitory_spike_trains(cell = cell, random_state = random_state)\n",
    "\n",
    "    #self.logger.log(\"Assigning soma spike trains.\")\n",
    "    assign_soma_spike_trains(cell = cell, random_state = random_state)\n",
    "\n",
    "def binned_log_norm_dist(gmax_mean, gmax_std, gmax_scalar, size, clip):\n",
    "\tval = np.random.lognormal(gmax_mean, gmax_std, size)\n",
    "\ts = gmax_scalar * float(np.clip(val, clip[0], clip[1]))\n",
    "\n",
    "\t# Bin\n",
    "\tnum_bins = 10\n",
    "\tbin_size = (clip[1] - clip[0]) / num_bins\n",
    "\tbins = np.arange(0, clip[1], bin_size)\n",
    "\tind = np.digitize(s, bins)\n",
    "\n",
    "\tif ind == num_bins:\n",
    "\t\treturn bins[-1]\n",
    "\telse:\n",
    "\t\treturn bins[ind]\n",
    "\n",
    "def assign_soma_spike_trains(cell, random_state) -> None:\n",
    "\n",
    "    PCBuilder.assign_presynaptic_cells(\n",
    "        cell = cell,\n",
    "        n_func_gr = 1,\n",
    "        n_pc_per_fg = 1,\n",
    "        synapse_names = [\"soma\"]\n",
    "    )\n",
    "\n",
    "    # Proximal inh mean_fr distribution\n",
    "    mean_fr, std_fr = parameters.inh_prox_mean_fr, parameters.inh_prox_std_fr\n",
    "    a, b = (0 - mean_fr) / std_fr, (100 - mean_fr) / std_fr\n",
    "    proximal_inh_dist = partial(st.truncnorm.rvs, a = a, b = b, loc = mean_fr, scale = std_fr)\n",
    "\n",
    "    for i, synapse in enumerate(cell.synapses):\n",
    "        if synapse.name == \"soma\":\n",
    "            mean_fr = proximal_inh_dist(size = 1)\n",
    "            firing_rates = PoissonTrainGenerator.generate_lambdas_from_pink_noise(\n",
    "                num = parameters.h_tstop,\n",
    "                random_state = random_state,\n",
    "                lambda_mean = mean_fr)\n",
    "            spike_train = PoissonTrainGenerator.generate_spike_train(\n",
    "                lambdas = firing_rates, \n",
    "                random_state = random_state)\n",
    "\n",
    "            cell.synapses[i].set_spike_train_for_pc(mean_fr = mean_fr, spike_train = spike_train.spike_times)\n",
    "\n",
    "\n",
    "def assign_inhibitory_spike_trains(cell, random_state) -> None:\n",
    "\n",
    "    PCBuilder.assign_presynaptic_cells(\n",
    "        cell = cell,\n",
    "        n_func_gr = parameters.inh_distributed_n_FuncGroups,\n",
    "        n_pc_per_fg = parameters.inh_distributed_n_PreCells_per_FuncGroup,\n",
    "        synapse_names = [\"inh\"]\n",
    "    )\n",
    "\n",
    "    # Proximal inh mean_fr distribution\n",
    "    mean_fr, std_fr = parameters.inh_prox_mean_fr, parameters.inh_prox_std_fr\n",
    "    a, b = (0 - mean_fr) / std_fr, (100 - mean_fr) / std_fr\n",
    "    proximal_inh_dist = partial(st.truncnorm.rvs, a = a, b = b, loc = mean_fr, scale = std_fr)\n",
    "\n",
    "    # Distal inh mean_fr distribution\n",
    "    mean_fr, std_fr = parameters.inh_distal_mean_fr, parameters.inh_distal_std_fr\n",
    "    a, b = (0 - mean_fr) / std_fr, (100 - mean_fr) / std_fr\n",
    "    distal_inh_dist = partial(st.truncnorm.rvs, a = a, b = b, loc = mean_fr, scale = std_fr)\n",
    "\n",
    "    soma_coords = cell.get_segments([\"soma\"])[1][0].coords[[\"pc_0\", \"pc_1\", \"pc_2\"]].to_numpy()\n",
    "\n",
    "    for i, synapse in enumerate(cell.synapses):\n",
    "        if synapse.name == \"inh\":\n",
    "            if np.linalg.norm(soma_coords - synapse.pc.cluster_center) < 100:\n",
    "                mean_fr = proximal_inh_dist(size = 1)\n",
    "            else:\n",
    "                mean_fr = distal_inh_dist(size = 1)\n",
    "\n",
    "            firing_rates = PoissonTrainGenerator.generate_lambdas_from_pink_noise(\n",
    "                num = parameters.h_tstop,\n",
    "                random_state = random_state,\n",
    "                lambda_mean = mean_fr)\n",
    "            spike_train = PoissonTrainGenerator.generate_spike_train(\n",
    "                lambdas = firing_rates, \n",
    "                random_state = random_state)\n",
    "            \n",
    "            cell.synapses[i].set_spike_train_for_pc(mean_fr = mean_fr, spike_train = spike_train.spike_times)\n",
    "\n",
    "\n",
    "def assign_exitatory_spike_trains(cell, random_state) -> None:\n",
    "\n",
    "    PCBuilder.assign_presynaptic_cells(\n",
    "        cell = cell,\n",
    "        n_func_gr = parameters.exc_n_FuncGroups,\n",
    "        n_pc_per_fg = parameters.exc_n_PreCells_per_FuncGroup,\n",
    "        synapse_names = [\"exc\"]\n",
    "    )\n",
    "\n",
    "    # Distribution of mean firing rates\n",
    "    # mean_fr_dist = partial(gamma_dist, mean = self.parameters.exc_mean_fr, size = 1)\n",
    "    mean_fr, std_fr = parameters.exc_mean_fr, parameters.exc_std_fr\n",
    "    a, b = (0 - mean_fr) / std_fr, (100 - mean_fr) / std_fr\n",
    "    mean_fr_dist = partial(st.truncnorm.rvs, a = a, b = b, loc = mean_fr, scale = std_fr)\n",
    "\n",
    "    for i, synapse in enumerate(cell.synapses):\n",
    "        if synapse.name == \"exc\":\n",
    "            mean_fr = mean_fr_dist(size = 1)\n",
    "            firing_rates = PoissonTrainGenerator.generate_lambdas_from_pink_noise(\n",
    "                num = parameters.h_tstop,\n",
    "                random_state = random_state,\n",
    "                lambda_mean = mean_fr)\n",
    "            spike_train = PoissonTrainGenerator.generate_spike_train(\n",
    "                lambdas = firing_rates, \n",
    "                random_state = random_state)\n",
    "            cell.synapses[i].set_spike_train_for_pc(mean_fr = mean_fr, spike_train = spike_train.spike_times)\n",
    "\n",
    "            \n",
    "def build_soma_synapses(cell) -> None:\n",
    "    \n",
    "    if (parameters.CI_on) or (not parameters.add_soma_inh_synapses):\n",
    "        return None\n",
    "    \n",
    "    # inh_soma_P_dist = partial(\n",
    "    # \tP_release_dist, \n",
    "    # \tP_mean = self.parameters.inh_soma_P_release_mean, \n",
    "    # \tP_std = self.parameters.inh_soma_P_release_std, \n",
    "    # \tsize = 1)\n",
    "    \n",
    "    segments, seg_data = cell.get_segments([\"soma\"])\n",
    "    probs = [data.membrane_surface_area for data in seg_data]\n",
    "    \n",
    "    cell.add_synapses_over_segments(\n",
    "        segments = segments,\n",
    "        nsyn = 100,\n",
    "        syn_mod = parameters.inh_syn_mod,\n",
    "        syn_params = parameters.inh_syn_params,\n",
    "        gmax = parameters.soma_gmax_dist,\n",
    "        name = \"soma\",\n",
    "        density = False,\n",
    "        seg_probs = probs,\n",
    "        release_p = None)\n",
    "        \n",
    "def build_inhibitory_synapses(cell) -> None:\n",
    "    \n",
    "    if parameters.CI_on:\n",
    "        return None\n",
    "    \n",
    "    # Inhibitory release probability distributions\n",
    "    # inh_apic_P_dist = partial(\n",
    "    # \tP_release_dist, \n",
    "    # \tP_mean = self.parameters.inh_apic_P_release_mean, \n",
    "    # \tP_std = self.parameters.inh_apic_P_release_std, \n",
    "    # \tsize = 1)\n",
    "    # inh_basal_P_dist = partial(\n",
    "    # \tP_release_dist, \n",
    "    # \tP_mean = self.parameters.inh_basal_P_release_mean, \n",
    "    # \tP_std = self.parameters.inh_basal_P_release_std, \n",
    "    # \tsize = 1)\n",
    "    \n",
    "    # inh_P_dist = {}\n",
    "    # inh_P_dist[\"apic\"] = inh_apic_P_dist\n",
    "    # inh_P_dist[\"dend\"] = inh_basal_P_dist\n",
    "    \n",
    "    segments, seg_data = cell.get_segments([\"apic\", \"dend\"])\n",
    "    probs = [data.membrane_surface_area for data in seg_data]\n",
    "\n",
    "    cell.add_synapses_over_segments(\n",
    "        segments = segments,\n",
    "        nsyn = 200,\n",
    "        syn_mod = parameters.inh_syn_mod,\n",
    "        syn_params = parameters.inh_syn_params,\n",
    "        gmax = parameters.inh_gmax_dist,\n",
    "        name = \"inh\",\n",
    "        density = False,\n",
    "        seg_probs = probs,\n",
    "        release_p = None)\n",
    "        \n",
    "def build_excitatory_synapses(cell) -> None:\n",
    "    \n",
    "    if parameters.CI_on:\n",
    "        return None\n",
    "\n",
    "    # Excitatory gmax distribution\n",
    "    gmax_exc_dist = partial(\n",
    "        binned_log_norm_dist,#log_norm_dist, \n",
    "        parameters.exc_gmax_mean_0, \n",
    "        parameters.exc_gmax_std_0, \n",
    "        parameters.exc_scalar, \n",
    "        size = 1, \n",
    "        clip = parameters.exc_gmax_clip)\n",
    "    \n",
    "    # exc release probability distribution everywhere\n",
    "    # exc_P_dist = partial(\n",
    "    # \tP_release_dist, \n",
    "    # \tP_mean = self.parameters.exc_P_release_mean, \n",
    "    # \tP_std = self.parameters.exc_P_release_std, \n",
    "    # \tsize = 1)\n",
    "\n",
    "    segments, seg_data = cell.get_segments([\"apic\", \"dend\"])\n",
    "    if parameters.use_SA_exc:\n",
    "        probs = [data.membrane_surface_area for data in seg_data]\n",
    "    else:\n",
    "        raise NotImplementedError\n",
    "\n",
    "    cell.add_synapses_over_segments(\n",
    "        segments = segments,\n",
    "        nsyn = 700,\n",
    "        syn_mod = parameters.exc_syn_mod,\n",
    "        syn_params = parameters.exc_syn_params,\n",
    "        gmax = gmax_exc_dist,\n",
    "        name = \"exc\",\n",
    "        density = False,\n",
    "        seg_probs = probs,\n",
    "        release_p = None)"
   ]
  },
  {
   "cell_type": "code",
   "execution_count": 15,
   "metadata": {},
   "outputs": [
    {
     "name": "stderr",
     "output_type": "stream",
     "text": [
      "/tmp/ipykernel_2835669/1363389152.py:30: DeprecationWarning: Conversion of an array with ndim > 0 to a scalar is deprecated, and will error in future. Ensure you extract a single element from your array before performing this operation. (Deprecated NumPy 1.25.)\n",
      "  s = gmax_scalar * float(np.clip(val, clip[0], clip[1]))\n",
      "/tmp/ipykernel_2835669/1363389152.py:30: DeprecationWarning: Conversion of an array with ndim > 0 to a scalar is deprecated, and will error in future. Ensure you extract a single element from your array before performing this operation. (Deprecated NumPy 1.25.)\n",
      "  s = gmax_scalar * float(np.clip(val, clip[0], clip[1]))\n",
      "/tmp/ipykernel_2835669/1363389152.py:30: DeprecationWarning: Conversion of an array with ndim > 0 to a scalar is deprecated, and will error in future. Ensure you extract a single element from your array before performing this operation. (Deprecated NumPy 1.25.)\n",
      "  s = gmax_scalar * float(np.clip(val, clip[0], clip[1]))\n",
      "/tmp/ipykernel_2835669/1363389152.py:30: DeprecationWarning: Conversion of an array with ndim > 0 to a scalar is deprecated, and will error in future. Ensure you extract a single element from your array before performing this operation. (Deprecated NumPy 1.25.)\n",
      "  s = gmax_scalar * float(np.clip(val, clip[0], clip[1]))\n",
      "/tmp/ipykernel_2835669/1363389152.py:30: DeprecationWarning: Conversion of an array with ndim > 0 to a scalar is deprecated, and will error in future. Ensure you extract a single element from your array before performing this operation. (Deprecated NumPy 1.25.)\n",
      "  s = gmax_scalar * float(np.clip(val, clip[0], clip[1]))\n",
      "/tmp/ipykernel_2835669/1363389152.py:30: DeprecationWarning: Conversion of an array with ndim > 0 to a scalar is deprecated, and will error in future. Ensure you extract a single element from your array before performing this operation. (Deprecated NumPy 1.25.)\n",
      "  s = gmax_scalar * float(np.clip(val, clip[0], clip[1]))\n",
      "/tmp/ipykernel_2835669/1363389152.py:30: DeprecationWarning: Conversion of an array with ndim > 0 to a scalar is deprecated, and will error in future. Ensure you extract a single element from your array before performing this operation. (Deprecated NumPy 1.25.)\n",
      "  s = gmax_scalar * float(np.clip(val, clip[0], clip[1]))\n",
      "/tmp/ipykernel_2835669/1363389152.py:30: DeprecationWarning: Conversion of an array with ndim > 0 to a scalar is deprecated, and will error in future. Ensure you extract a single element from your array before performing this operation. (Deprecated NumPy 1.25.)\n",
      "  s = gmax_scalar * float(np.clip(val, clip[0], clip[1]))\n"
     ]
    }
   ],
   "source": [
    "# build synapses (2 cases)\n",
    "\n",
    "for cell_name, cell in cells.items():\n",
    "    random_state = np.random.RandomState(parameters.numpy_random_state)\n",
    "    # cell_builder.build_synapses(cell, random_state) # with synaptic densities as defined by constants.py & original script/code\n",
    "    build_synapses(cell, random_state) # with 1000 synapses as defined by the functions in this notebook."
   ]
  },
  {
   "cell_type": "markdown",
   "metadata": {},
   "source": [
    "Show Reduced Cell"
   ]
  },
  {
   "cell_type": "code",
   "execution_count": 16,
   "metadata": {},
   "outputs": [],
   "source": [
    "parameters.record_ecp = True"
   ]
  },
  {
   "cell_type": "code",
   "execution_count": 17,
   "metadata": {},
   "outputs": [],
   "source": [
    "import Modules.analysis as analysis"
   ]
  },
  {
   "cell_type": "code",
   "execution_count": 18,
   "metadata": {},
   "outputs": [],
   "source": [
    "# !python3 plot_lfp.py -d SkeletonCell.Hay-07-05-2024-17-20-41/test"
   ]
  },
  {
   "cell_type": "markdown",
   "metadata": {},
   "source": [
    "Some Notes: \n",
    "Compare detailed and reduced\n",
    "Try allen database cell\n",
    "1. We adapted neuron_reduce for more user-control.\n",
    "2. Currently not Mapping synapses, but it will be easy to add.\n",
    "3. We could convert single-cylinders into an equivalent set of nbranches."
   ]
  },
  {
   "cell_type": "markdown",
   "metadata": {},
   "source": [
    "COMPARISONS"
   ]
  },
  {
   "cell_type": "code",
   "execution_count": 19,
   "metadata": {},
   "outputs": [
    {
     "name": "stdout",
     "output_type": "stream",
     "text": [
      "(2024-05-20 20:35:44.583622)-[PID: 2835669]–[WARNING]: Recording ECP adds the extracellular channel to all segments after computing electrotonic distance.                                      This channel is therefore not accounted for in impedence calculation, but it might affect the simulation.\n",
      "(2024-05-20 20:35:45.617576)-[PID: 2835669]–[WARNING]: Recording ECP adds the extracellular channel to all segments after computing electrotonic distance.                                      This channel is therefore not accounted for in impedence calculation, but it might affect the simulation.\n",
      "(2024-05-20 20:35:46.398579)-[PID: 2835669]–[WARNING]: Recording ECP adds the extracellular channel to all segments after computing electrotonic distance.                                      This channel is therefore not accounted for in impedence calculation, but it might affect the simulation.\n",
      "(2024-05-20 20:35:47.300352)-[PID: 2835669]–[WARNING]: Recording ECP adds the extracellular channel to all segments after computing electrotonic distance.                                      This channel is therefore not accounted for in impedence calculation, but it might affect the simulation.\n",
      "(2024-05-20 20:35:47.962895)-[PID: 2835669]–[WARNING]: Recording ECP adds the extracellular channel to all segments after computing electrotonic distance.                                      This channel is therefore not accounted for in impedence calculation, but it might affect the simulation.\n",
      "(2024-05-20 20:35:48.482368)-[PID: 2835669]–[WARNING]: Recording ECP adds the extracellular channel to all segments after computing electrotonic distance.                                      This channel is therefore not accounted for in impedence calculation, but it might affect the simulation.\n",
      "(2024-05-20 20:35:49.073914)-[PID: 2835669]–[WARNING]: Recording ECP adds the extracellular channel to all segments after computing electrotonic distance.                                      This channel is therefore not accounted for in impedence calculation, but it might affect the simulation.\n",
      "(2024-05-20 20:35:49.435196)-[PID: 2835669]–[WARNING]: Recording ECP adds the extracellular channel to all segments after computing electrotonic distance.                                      This channel is therefore not accounted for in impedence calculation, but it might affect the simulation.\n"
     ]
    }
   ],
   "source": [
    "for cell_name, cell in cells.items():\n",
    "    sim.set_all_recorders(cell, parameters)"
   ]
  },
  {
   "cell_type": "code",
   "execution_count": 20,
   "metadata": {},
   "outputs": [
    {
     "name": "stdout",
     "output_type": "stream",
     "text": [
      "pass\n"
     ]
    }
   ],
   "source": [
    "try:os.mkdir(parameters.path)\n",
    "except:print('pass')"
   ]
  },
  {
   "cell_type": "code",
   "execution_count": 21,
   "metadata": {},
   "outputs": [
    {
     "name": "stdout",
     "output_type": "stream",
     "text": [
      "simulating Complex\n",
      "(2024-05-20 20:35:49.715984)-[PID: 2835669]–[INFO]: Starting simulation.\n",
      "(2024-05-20 20:36:25.145693)-[PID: 2835669]–[INFO]: Saving data at step: 10000\n",
      "(2024-05-20 20:36:25.210334)-[PID: 2835669]–[INFO]: Finished writing data\n",
      "(2024-05-20 20:36:25.211308)-[PID: 2835669]–[INFO]: Finished clearing recorders\n",
      "(2024-05-20 20:37:01.553984)-[PID: 2835669]–[INFO]: Saving data at step: 20000\n",
      "(2024-05-20 20:37:01.623864)-[PID: 2835669]–[INFO]: Finished writing data\n",
      "(2024-05-20 20:37:01.624994)-[PID: 2835669]–[INFO]: Finished clearing recorders\n",
      "(2024-05-20 20:37:38.944538)-[PID: 2835669]–[INFO]: Saving data at step: 30000\n",
      "(2024-05-20 20:37:39.026530)-[PID: 2835669]–[INFO]: Finished writing data\n",
      "(2024-05-20 20:37:39.027538)-[PID: 2835669]–[INFO]: Finished clearing recorders\n",
      "(2024-05-20 20:38:17.164294)-[PID: 2835669]–[INFO]: Saving data at step: 40000\n",
      "(2024-05-20 20:38:17.247523)-[PID: 2835669]–[INFO]: Finished writing data\n",
      "(2024-05-20 20:38:17.248518)-[PID: 2835669]–[INFO]: Finished clearing recorders\n",
      "(2024-05-20 20:38:54.675067)-[PID: 2835669]–[INFO]: Saving data at step: 50000\n",
      "(2024-05-20 20:38:54.754531)-[PID: 2835669]–[INFO]: Finished writing data\n",
      "(2024-05-20 20:38:54.755534)-[PID: 2835669]–[INFO]: Finished clearing recorders\n",
      "(2024-05-20 20:38:54.796006)-[PID: 2835669]–[INFO]: Finish simulation in 185.080 seconds\n",
      "simulating Reduced Tufts\n",
      "(2024-05-20 20:38:54.838905)-[PID: 2835669]–[INFO]: Starting simulation.\n",
      "(2024-05-20 20:39:31.056005)-[PID: 2835669]–[INFO]: Saving data at step: 10000\n",
      "(2024-05-20 20:39:31.109740)-[PID: 2835669]–[INFO]: Finished writing data\n",
      "(2024-05-20 20:39:31.110530)-[PID: 2835669]–[INFO]: Finished clearing recorders\n",
      "(2024-05-20 20:40:08.166637)-[PID: 2835669]–[INFO]: Saving data at step: 20000\n",
      "(2024-05-20 20:40:08.221160)-[PID: 2835669]–[INFO]: Finished writing data\n",
      "(2024-05-20 20:40:08.221927)-[PID: 2835669]–[INFO]: Finished clearing recorders\n",
      "(2024-05-20 20:40:45.497848)-[PID: 2835669]–[INFO]: Saving data at step: 30000\n",
      "(2024-05-20 20:40:45.552495)-[PID: 2835669]–[INFO]: Finished writing data\n",
      "(2024-05-20 20:40:45.553289)-[PID: 2835669]–[INFO]: Finished clearing recorders\n",
      "(2024-05-20 20:41:23.121639)-[PID: 2835669]–[INFO]: Saving data at step: 40000\n",
      "(2024-05-20 20:41:23.172807)-[PID: 2835669]–[INFO]: Finished writing data\n",
      "(2024-05-20 20:41:23.173564)-[PID: 2835669]–[INFO]: Finished clearing recorders\n",
      "(2024-05-20 20:42:00.619896)-[PID: 2835669]–[INFO]: Saving data at step: 50000\n",
      "(2024-05-20 20:42:00.675747)-[PID: 2835669]–[INFO]: Finished writing data\n",
      "(2024-05-20 20:42:00.676532)-[PID: 2835669]–[INFO]: Finished clearing recorders\n",
      "(2024-05-20 20:42:00.717609)-[PID: 2835669]–[INFO]: Finish simulation in 185.879 seconds\n",
      "simulating Reduced Basals\n",
      "(2024-05-20 20:42:00.754192)-[PID: 2835669]–[INFO]: Starting simulation.\n"
     ]
    }
   ],
   "source": [
    "import shutil\n",
    "import os\n",
    "import pickle\n",
    "import numpy as np\n",
    "import matplotlib.pyplot as plt\n",
    "import csv\n",
    "from scipy.stats import pearsonr\n",
    "\n",
    "# Adjust the parameters and initialize the cell structure here\n",
    "root_path = parameters.path\n",
    "FI_paths = []\n",
    "parameters.h_tstop = 5000\n",
    "parameters.h_i_duration = 1950\n",
    "parameters.h_i_delay = 50\n",
    "# amps = np.arange(-2, 2.1, 0.2)\n",
    "\n",
    "# Prepare subplots: one for the somatic injection, another for the nexus injection\n",
    "fig, axes = plt.subplots(1, 1, figsize=(12, 6))\n",
    "\n",
    "# Create a CSV file to store the results\n",
    "csv_file_path = \"FI_Curve_Data.csv\"\n",
    "with open(csv_file_path, mode='w', newline='') as file:\n",
    "    writer = csv.writer(file)\n",
    "    writer.writerow([\"Cell Name\", \"Firing Rate (Hz)\"])\n",
    "\n",
    "    # Dictionary to store data for each cell\n",
    "    cell_data = {}\n",
    "\n",
    "    for ax in [axes]:\n",
    "        for cell_name, cell in cells.items():\n",
    "            firing_rates = []\n",
    "\n",
    "            parameters.path = root_path + f\"/{cell_name}_synapses\"\n",
    "            # os.mkdir(parameters.path)\n",
    "            # with open(os.path.join(parameters.path, \"parameters.pickle\"), \"wb\") as file:\n",
    "            #     pickle.dump(parameters, file)\n",
    "            FI_paths.append(parameters.path)\n",
    "\n",
    "            # Perform simulation\n",
    "            print(f\"simulating {cell_name}\")\n",
    "            sim.simulate(cell, parameters)\n",
    "\n",
    "            # Read the voltage and spike data\n",
    "            v = analysis.DataReader.read_data(parameters.path, \"v\", parameters=parameters)\n",
    "            soma_spikes = analysis.DataReader.read_data(parameters.path, \"soma_spikes\", parameters=parameters)\n",
    "\n",
    "            # Calculate the firing rate\n",
    "            firing_rate = len(soma_spikes[0]) / (parameters.h_tstop / 1000)\n",
    "            firing_rates.append(firing_rate)\n",
    "\n",
    "            # Write the results to the CSV file\n",
    "            writer.writerow([cell_name, firing_rate])\n",
    "\n",
    "            # Store the data for later analysis\n",
    "            cell_data[cell_name] = v[0]\n",
    "\n",
    "            label = cell_name\n",
    "            ax.plot(np.arange(0, len(v[0])), v[0], label=parameters.path)\n",
    "\n",
    "        ax.set_title(cell_name)\n",
    "        ax.set_xlabel('Time')\n",
    "        ax.set_ylabel('Somatic Vm')\n",
    "        # ax.set_xlim(0,2)\n",
    "        ax.legend()\n",
    "\n",
    "# Display the plots\n",
    "plt.tight_layout()\n",
    "\n",
    "# Save the figure to the current directory\n",
    "plt.savefig(\"Synapses_Vm_no_mapping.png\")  # You can specify other formats like 'pdf' by changing the file extension\n",
    "\n",
    "plt.show()\n",
    "\n",
    "# Clean up temporary directories\n",
    "for FI_path in FI_paths:\n",
    "    shutil.rmtree(FI_path)\n",
    "\n",
    "# Compute correlations with the \"Complex Cell\" data\n",
    "complex_cell_data = cell_data.get(\"Complex\")\n",
    "correlations = {}\n",
    "if complex_cell_data is not None:\n",
    "    for cell_name, data in cell_data.items():\n",
    "        if cell_name != \"Complex\":\n",
    "            correlation, _ = pearsonr(complex_cell_data, data)\n",
    "            correlations[cell_name] = correlation\n",
    "\n",
    "# Print correlations\n",
    "for cell_name, correlation in correlations.items():\n",
    "    print(f\"Correlation between Complex Cell and {cell_name}: {correlation}\")\n",
    "\n",
    "# Optionally, store the data and correlations in a file\n",
    "with open(\"Cell_Data_and_Correlations.pkl\", \"wb\") as file:\n",
    "    pickle.dump({\"cell_data\": cell_data, \"correlations\": correlations}, file)\n",
    "    \n",
    "parameters.path = root_path\n"
   ]
  },
  {
   "cell_type": "code",
   "execution_count": null,
   "metadata": {},
   "outputs": [],
   "source": [
    "cell_data.get('Complex')"
   ]
  },
  {
   "cell_type": "code",
   "execution_count": null,
   "metadata": {},
   "outputs": [],
   "source": [
    "# Print correlations\n",
    "for cell_name, correlation in correlations.items():\n",
    "    print(f\"Correlation between Complex Cell and {cell_name}: {correlation}\")"
   ]
  },
  {
   "cell_type": "markdown",
   "metadata": {},
   "source": [
    "Now with current injection."
   ]
  },
  {
   "cell_type": "code",
   "execution_count": null,
   "metadata": {},
   "outputs": [],
   "source": [
    "root_path"
   ]
  },
  {
   "cell_type": "code",
   "execution_count": null,
   "metadata": {},
   "outputs": [],
   "source": [
    "from Modules.notebook_utils import plot_FI"
   ]
  },
  {
   "cell_type": "code",
   "execution_count": null,
   "metadata": {},
   "outputs": [],
   "source": [
    "# F/I with synapses\n",
    "\n",
    "for cell_name, cell in cells.items():\n",
    "    cell.set_injection(amp = 0, dur = 1950, delay = 50, target='soma')\n",
    "plot_FI(cells, parameters=parameters, savename = \"1000SynapsesFI.png\")"
   ]
  }
 ],
 "metadata": {
  "kernelspec": {
   "display_name": "sim_env",
   "language": "python",
   "name": "python3"
  },
  "language_info": {
   "codemirror_mode": {
    "name": "ipython",
    "version": 3
   },
   "file_extension": ".py",
   "mimetype": "text/x-python",
   "name": "python",
   "nbconvert_exporter": "python",
   "pygments_lexer": "ipython3",
   "version": "3.1.-1"
  }
 },
 "nbformat": 4,
 "nbformat_minor": 2
}
