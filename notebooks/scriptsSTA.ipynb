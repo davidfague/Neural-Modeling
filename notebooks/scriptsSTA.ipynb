{
 "cells": [
  {
   "cell_type": "code",
   "execution_count": 1,
   "metadata": {},
   "outputs": [],
   "source": [
    "is_colab = 'google.colab' in str(get_ipython())\n",
    "if is_colab:\n",
    "    !pip install neuron\n",
    "    !git clone https://github.com/davidfague/Neural-Modeling.git -b cleanup\n",
    "    %cd Neural-Modeling/scripts\n",
    "    !pip install neuron_reduce\n",
    "    !pip install ipympl"
   ]
  },
  {
   "cell_type": "code",
   "execution_count": 2,
   "metadata": {},
   "outputs": [
    {
     "name": "stderr",
     "output_type": "stream",
     "text": [
      "Warning: no DISPLAY environment variable.\n",
      "--No graphics will be displayed.\n"
     ]
    }
   ],
   "source": [
    "import sys\n",
    "sys.path.append(\"../\")\n",
    "sys.path.append(\"../Modules/\")\n",
    "\n",
    "from Modules.simulation import Simulation\n",
    "from Modules.cell_builder import SkeletonCell, CellBuilder\n",
    "from Modules.constants import HayParameters\n",
    "\n",
    "import os\n",
    "from neuron import h\n",
    "\n",
    "from logger import Logger # type: ignore\n",
    "\n",
    "import numpy as np"
   ]
  },
  {
   "cell_type": "code",
   "execution_count": 3,
   "metadata": {},
   "outputs": [
    {
     "name": "stdout",
     "output_type": "stream",
     "text": [
      "/home/drfrbc/Neural-Modeling/scripts\n"
     ]
    }
   ],
   "source": [
    "%cd ../scripts"
   ]
  },
  {
   "cell_type": "code",
   "execution_count": 4,
   "metadata": {},
   "outputs": [
    {
     "name": "stderr",
     "output_type": "stream",
     "text": [
      "rm: cannot remove 'x86_64/': No such file or directory\n"
     ]
    }
   ],
   "source": [
    "try:\n",
    "    os.system(\"rm -r x86_64/\")\n",
    "except:\n",
    "    pass"
   ]
  },
  {
   "cell_type": "code",
   "execution_count": 5,
   "metadata": {},
   "outputs": [
    {
     "name": "stdout",
     "output_type": "stream",
     "text": [
      "HayParameters(sim_name='Complex', numpy_random_state=130, neuron_random_state=90, h_celcius=37, h_tstop=10000, h_dt=0.1, CI_on=False, CI_target='soma', h_i_amplitude=10.0, h_i_duration=1000, h_i_delay=10, record_ecp=True, record_seg_to_seg=False, all_synapses_off=False, trunk_exc_synapses=True, perisomatic_exc_synapses=True, add_soma_inh_synapses=True, num_soma_inh_syns=150, exc_gmax_mean_0=2.3, exc_gmax_std_0=0.2, exc_gmax_clip=(0, 15), inh_gmax_dist=0.5, soma_gmax_dist=0.5, exc_scalar=1, exc_synaptic_density=2.16, inh_synaptic_density=0.22, exc_use_density=True, inh_use_density=True, exc_syn_number=700, inh_syn_number=150, use_SA_exc=True, exc_P_release_mean=0.53, exc_P_release_std=0.22, inh_basal_P_release_mean=0.72, inh_basal_P_release_std=0.1, inh_apic_P_release_mean=0.3, inh_apic_P_release_std=0.08, inh_soma_P_release_mean=0.88, inh_soma_P_release_std=0.05, exc_syn_mod='AMPA_NMDA_STP', inh_syn_mod='GABA_AB_STP', exc_mean_fr=4.43, exc_std_fr=2.9, inh_prox_mean_fr=16.9, inh_prox_std_fr=14.3, inh_distal_mean_fr=3.9, inh_distal_std_fr=4.9, exc_syn_params=({'tau_d_AMPA': 5.2, 'Use': 0.41, 'Dep': 532.0, 'Fac': 65.0}, {'tau_d_AMPA': 5.2, 'Use': 0.37, 'Dep': 31.7, 'Fac': 519.0}), inh_syn_params=({'e_GABAA': -90.0, 'Use': 0.3, 'Dep': 400.0, 'Fac': 0.0}, {'e_GABAA': -90.0, 'Use': 0.3, 'Dep': 25.0, 'Fac': 100.0}), exc_n_FuncGroups=24, exc_n_PreCells_per_FuncGroup=15, inh_distributed_n_FuncGroups=24, inh_distributed_n_PreCells_per_FuncGroup=15, exc_functional_group_span=100, exc_cluster_span=10, exc_synapses_per_cluster=5, inh_cluster_span=10, inh_number_of_groups=1, inh_functional_group_span=100, soma_number_of_clusters=15, soma_cluster_span=10, soma_synapses_per_cluster=10, soma_number_of_groups=1, soma_functional_group_span=100, spike_threshold=-10, number_of_presynaptic_cells=2651, PSC_start=5, skip=300, save_every_ms=1000, path='', reduce_cell=False, expand_cable=False, reduction_frequency=0, choose_branches=22, optimize_nseg_by_lambda=False, merge_synapses=True, segs_per_lambda=10, Hay_biophys='L5PCbiophys3.hoc', only_one_synapse=False, one_syn_index=0, simulate_EPSPs=False, record_soma_spikes=True, record_axon_spikes=False, record_all_channels=True, record_all_synapses=True, record_all_v=True, reduce_cell_NRCE=False, reduce_cell_selective=False, reduce_tufts=False, reduce_apic=False, reduce_basals=False, reduce_obliques=False, synapse_mapping=True)\n",
      "HayParameters(sim_name='All', numpy_random_state=130, neuron_random_state=90, h_celcius=37, h_tstop=10000, h_dt=0.1, CI_on=False, CI_target='soma', h_i_amplitude=10.0, h_i_duration=1000, h_i_delay=10, record_ecp=True, record_seg_to_seg=False, all_synapses_off=False, trunk_exc_synapses=True, perisomatic_exc_synapses=True, add_soma_inh_synapses=True, num_soma_inh_syns=150, exc_gmax_mean_0=2.3, exc_gmax_std_0=0.2, exc_gmax_clip=(0, 15), inh_gmax_dist=0.5, soma_gmax_dist=0.5, exc_scalar=1, exc_synaptic_density=2.16, inh_synaptic_density=0.22, exc_use_density=True, inh_use_density=True, exc_syn_number=700, inh_syn_number=150, use_SA_exc=True, exc_P_release_mean=0.53, exc_P_release_std=0.22, inh_basal_P_release_mean=0.72, inh_basal_P_release_std=0.1, inh_apic_P_release_mean=0.3, inh_apic_P_release_std=0.08, inh_soma_P_release_mean=0.88, inh_soma_P_release_std=0.05, exc_syn_mod='AMPA_NMDA_STP', inh_syn_mod='GABA_AB_STP', exc_mean_fr=4.43, exc_std_fr=2.9, inh_prox_mean_fr=16.9, inh_prox_std_fr=14.3, inh_distal_mean_fr=3.9, inh_distal_std_fr=4.9, exc_syn_params=({'tau_d_AMPA': 5.2, 'Use': 0.41, 'Dep': 532.0, 'Fac': 65.0}, {'tau_d_AMPA': 5.2, 'Use': 0.37, 'Dep': 31.7, 'Fac': 519.0}), inh_syn_params=({'e_GABAA': -90.0, 'Use': 0.3, 'Dep': 400.0, 'Fac': 0.0}, {'e_GABAA': -90.0, 'Use': 0.3, 'Dep': 25.0, 'Fac': 100.0}), exc_n_FuncGroups=24, exc_n_PreCells_per_FuncGroup=15, inh_distributed_n_FuncGroups=24, inh_distributed_n_PreCells_per_FuncGroup=15, exc_functional_group_span=100, exc_cluster_span=10, exc_synapses_per_cluster=5, inh_cluster_span=10, inh_number_of_groups=1, inh_functional_group_span=100, soma_number_of_clusters=15, soma_cluster_span=10, soma_synapses_per_cluster=10, soma_number_of_groups=1, soma_functional_group_span=100, spike_threshold=-10, number_of_presynaptic_cells=2651, PSC_start=5, skip=300, save_every_ms=1000, path='', reduce_cell=False, expand_cable=False, reduction_frequency=0, choose_branches=22, optimize_nseg_by_lambda=False, merge_synapses=True, segs_per_lambda=10, Hay_biophys='L5PCbiophys3.hoc', only_one_synapse=False, one_syn_index=0, simulate_EPSPs=False, record_soma_spikes=True, record_axon_spikes=False, record_all_channels=True, record_all_synapses=True, record_all_v=True, reduce_cell_NRCE=False, reduce_cell_selective=True, reduce_tufts=True, reduce_apic=False, reduce_basals=True, reduce_obliques=True, synapse_mapping=True)\n",
      "(2024-05-22 18:00:41.859598)-[PID: 1502754]–[INFO]: Total number of jobs: 2\n",
      "(2024-05-22 18:00:41.859638)-[PID: 1502754]–[INFO]: Total number of proccessors: 192\n",
      "(2024-05-22 18:00:41.859800)-[PID: 1502754]–[INFO]: Compiling modfiles.\n"
     ]
    },
    {
     "name": "stderr",
     "output_type": "stream",
     "text": [
      "rm: cannot remove 'x86_64/': No such file or directory\n"
     ]
    },
    {
     "name": "stdout",
     "output_type": "stream",
     "text": [
      "(2024-05-22 18:00:42.455933)-[PID: 1503065]–[INFO]: Building SkeletonCell.Hay.(2024-05-22 18:00:42.455933)-[PID: 1503066]–[INFO]: Building SkeletonCell.Hay.\n",
      "\n",
      "(2024-05-22 18:00:42.708554)-[PID: 1503065]–[INFO]: Building excitatory synapses.(2024-05-22 18:00:42.708795)-[PID: 1503066]–[INFO]: Building excitatory synapses.\n",
      "\n",
      "(2024-05-22 18:01:18.825027)-[PID: 1503065]–[INFO]: Building inhibitory synapses.\n",
      "(2024-05-22 18:01:18.946457)-[PID: 1503066]–[INFO]: Building inhibitory synapses.\n",
      "(2024-05-22 18:01:22.919640)-[PID: 1503065]–[INFO]: Building soma synapses.\n",
      "(2024-05-22 18:01:22.931692)-[PID: 1503065]–[INFO]: Assigning excitatory spike trains.\n",
      "(2024-05-22 18:01:23.052545)-[PID: 1503066]–[INFO]: Building soma synapses.\n",
      "(2024-05-22 18:01:23.064479)-[PID: 1503066]–[INFO]: Assigning excitatory spike trains.\n",
      "(2024-05-22 18:05:31.684837)-[PID: 1503065]–[INFO]: Assigning inhibitory spike trains.\n",
      "(2024-05-22 18:06:03.143396)-[PID: 1503066]–[INFO]: Assigning inhibitory spike trains.\n",
      "(2024-05-22 18:06:12.773851)-[PID: 1503065]–[INFO]: Assigning soma spike trains.\n",
      "(2024-05-22 18:06:15.757790)-[PID: 1503065]–[INFO]: Merging synapses.\n",
      "(2024-05-22 18:06:15.915210)-[PID: 1503065]–[INFO]: Finished creating a CellModel object.\n",
      "(2024-05-22 18:06:15.917988)-[PID: 1503065]–[INFO]: Finish building in 333.4630215167999\n",
      "(2024-05-22 18:06:29.457780)-[PID: 1503065]–[WARNING]: Recording ECP adds the extracellular channel to all segments after computing electrotonic distance.                                      This channel is therefore not accounted for in impedence calculation, but it might affect the simulation.\n",
      "(2024-05-22 18:06:30.679253)-[PID: 1503065]–[INFO]: Starting simulation.\n",
      "(2024-05-22 18:06:46.820730)-[PID: 1503066]–[INFO]: Assigning soma spike trains.\n",
      "(2024-05-22 18:06:51.582519)-[PID: 1503065]–[INFO]: Saving data at step: 10000\n",
      "(2024-05-22 18:06:53.467674)-[PID: 1503065]–[INFO]: Finished writing data\n",
      "(2024-05-22 18:06:53.486285)-[PID: 1503065]–[INFO]: Finished clearing recorders\n",
      "(2024-05-22 18:07:15.104930)-[PID: 1503065]–[INFO]: Saving data at step: 20000\n",
      "(2024-05-22 18:07:17.393147)-[PID: 1503065]–[INFO]: Finished writing data\n",
      "(2024-05-22 18:07:17.410193)-[PID: 1503065]–[INFO]: Finished clearing recorders\n"
     ]
    },
    {
     "name": "stderr",
     "output_type": "stream",
     "text": [
      "There is no segment to segment copy, it means that some segments in thereduced model did not receive channels from the original cell.Trying to compensate by copying channels from neighboring segments\n"
     ]
    },
    {
     "name": "stdout",
     "output_type": "stream",
     "text": [
      "(2024-05-22 18:07:37.183810)-[PID: 1503065]–[INFO]: Saving data at step: 30000\n",
      "(2024-05-22 18:07:39.068190)-[PID: 1503065]–[INFO]: Finished writing data\n",
      "(2024-05-22 18:07:39.083997)-[PID: 1503065]–[INFO]: Finished clearing recorders\n",
      "(2024-05-22 18:07:58.879378)-[PID: 1503065]–[INFO]: Saving data at step: 40000\n",
      "(2024-05-22 18:08:00.664949)-[PID: 1503065]–[INFO]: Finished writing data\n",
      "(2024-05-22 18:08:00.682225)-[PID: 1503065]–[INFO]: Finished clearing recorders\n",
      "(2024-05-22 18:08:19.827451)-[PID: 1503066]–[INFO]: Merging synapses.\n",
      "(2024-05-22 18:08:19.947951)-[PID: 1503066]–[INFO]: Finished creating a CellModel object.\n",
      "(2024-05-22 18:08:19.950528)-[PID: 1503066]–[INFO]: Finish building in 457.4955825805664\n",
      "(2024-05-22 18:08:21.093209)-[PID: 1503065]–[INFO]: Saving data at step: 50000\n",
      "(2024-05-22 18:08:22.127290)-[PID: 1503066]–[WARNING]: Recording ECP adds the extracellular channel to all segments after computing electrotonic distance.                                      This channel is therefore not accounted for in impedence calculation, but it might affect the simulation.\n",
      "(2024-05-22 18:08:22.282194)-[PID: 1503066]–[INFO]: Starting simulation.\n",
      "(2024-05-22 18:08:22.907144)-[PID: 1503065]–[INFO]: Finished writing data\n",
      "(2024-05-22 18:08:22.924056)-[PID: 1503065]–[INFO]: Finished clearing recorders\n",
      "(2024-05-22 18:08:28.594231)-[PID: 1503066]–[INFO]: Saving data at step: 10000\n",
      "(2024-05-22 18:08:28.944364)-[PID: 1503066]–[INFO]: Finished writing data\n",
      "(2024-05-22 18:08:28.950220)-[PID: 1503066]–[INFO]: Finished clearing recorders\n",
      "(2024-05-22 18:08:35.406329)-[PID: 1503066]–[INFO]: Saving data at step: 20000\n",
      "(2024-05-22 18:08:35.722404)-[PID: 1503066]–[INFO]: Finished writing data\n",
      "(2024-05-22 18:08:35.728221)-[PID: 1503066]–[INFO]: Finished clearing recorders\n",
      "(2024-05-22 18:08:42.180483)-[PID: 1503066]–[INFO]: Saving data at step: 30000\n",
      "(2024-05-22 18:08:42.525691)-[PID: 1503066]–[INFO]: Finished writing data\n",
      "(2024-05-22 18:08:42.531395)-[PID: 1503066]–[INFO]: Finished clearing recorders\n",
      "(2024-05-22 18:08:43.391407)-[PID: 1503065]–[INFO]: Saving data at step: 60000\n",
      "(2024-05-22 18:08:45.382105)-[PID: 1503065]–[INFO]: Finished writing data\n",
      "(2024-05-22 18:08:45.398170)-[PID: 1503065]–[INFO]: Finished clearing recorders\n",
      "(2024-05-22 18:08:49.001189)-[PID: 1503066]–[INFO]: Saving data at step: 40000\n",
      "(2024-05-22 18:08:49.346404)-[PID: 1503066]–[INFO]: Finished writing data\n",
      "(2024-05-22 18:08:49.351962)-[PID: 1503066]–[INFO]: Finished clearing recorders\n",
      "(2024-05-22 18:08:55.827081)-[PID: 1503066]–[INFO]: Saving data at step: 50000\n",
      "(2024-05-22 18:08:56.170748)-[PID: 1503066]–[INFO]: Finished writing data\n",
      "(2024-05-22 18:08:56.176304)-[PID: 1503066]–[INFO]: Finished clearing recorders\n",
      "(2024-05-22 18:09:02.666919)-[PID: 1503066]–[INFO]: Saving data at step: 60000\n",
      "(2024-05-22 18:09:03.033251)-[PID: 1503066]–[INFO]: Finished writing data\n",
      "(2024-05-22 18:09:03.038977)-[PID: 1503066]–[INFO]: Finished clearing recorders\n",
      "(2024-05-22 18:09:05.215923)-[PID: 1503065]–[INFO]: Saving data at step: 70000\n",
      "(2024-05-22 18:09:07.039508)-[PID: 1503065]–[INFO]: Finished writing data\n",
      "(2024-05-22 18:09:07.055066)-[PID: 1503065]–[INFO]: Finished clearing recorders\n",
      "(2024-05-22 18:09:09.516985)-[PID: 1503066]–[INFO]: Saving data at step: 70000\n",
      "(2024-05-22 18:09:09.861518)-[PID: 1503066]–[INFO]: Finished writing data\n",
      "(2024-05-22 18:09:09.867355)-[PID: 1503066]–[INFO]: Finished clearing recorders\n",
      "(2024-05-22 18:09:16.351739)-[PID: 1503066]–[INFO]: Saving data at step: 80000\n",
      "(2024-05-22 18:09:16.696055)-[PID: 1503066]–[INFO]: Finished writing data\n",
      "(2024-05-22 18:09:16.701815)-[PID: 1503066]–[INFO]: Finished clearing recorders\n",
      "(2024-05-22 18:09:23.182463)-[PID: 1503066]–[INFO]: Saving data at step: 90000\n",
      "(2024-05-22 18:09:23.527230)-[PID: 1503066]–[INFO]: Finished writing data\n",
      "(2024-05-22 18:09:23.532983)-[PID: 1503066]–[INFO]: Finished clearing recorders\n",
      "(2024-05-22 18:09:26.842399)-[PID: 1503065]–[INFO]: Saving data at step: 80000\n",
      "(2024-05-22 18:09:28.572649)-[PID: 1503065]–[INFO]: Finished writing data\n",
      "(2024-05-22 18:09:28.588380)-[PID: 1503065]–[INFO]: Finished clearing recorders\n",
      "(2024-05-22 18:09:30.007132)-[PID: 1503066]–[INFO]: Saving data at step: 100000\n",
      "(2024-05-22 18:09:30.404279)-[PID: 1503066]–[INFO]: Finished writing data\n",
      "(2024-05-22 18:09:30.409958)-[PID: 1503066]–[INFO]: Finished clearing recorders\n",
      "(2024-05-22 18:09:30.419457)-[PID: 1503066]–[INFO]: Finish simulation in 68.136 seconds\n",
      "(2024-05-22 18:09:48.377101)-[PID: 1503065]–[INFO]: Saving data at step: 90000\n",
      "(2024-05-22 18:09:50.153946)-[PID: 1503065]–[INFO]: Finished writing data\n",
      "(2024-05-22 18:09:50.170026)-[PID: 1503065]–[INFO]: Finished clearing recorders\n",
      "(2024-05-22 18:10:09.945734)-[PID: 1503065]–[INFO]: Saving data at step: 100000\n",
      "(2024-05-22 18:10:11.793340)-[PID: 1503065]–[INFO]: Finished writing data\n",
      "(2024-05-22 18:10:11.808993)-[PID: 1503065]–[INFO]: Finished clearing recorders\n",
      "(2024-05-22 18:10:11.836533)-[PID: 1503065]–[INFO]: Finish simulation in 221.155 seconds\n"
     ]
    }
   ],
   "source": [
    "# STA\n",
    "import os\n",
    "import numpy as np\n",
    "\n",
    "# Define the template for common attributes\n",
    "common_attributes = {\n",
    "    'h_tstop': 10000,\n",
    "    'merge_synapses': True,\n",
    "    'record_ecp': True,\n",
    "    'record_all_channels':True,\n",
    "    'record_all_synapses':True\n",
    "}\n",
    "\n",
    "# Define the varying attributes for each sim_name, without including 'sim_name' key\n",
    "varying_attributes = [\n",
    "    {'base_sim_name': 'Complex', 'reduce_cell_selective': False},\n",
    "    # {'base_sim_name': 'Basals', 'reduce_basals': True},\n",
    "    # {'base_sim_name': 'Tufts', 'reduce_tufts': True},\n",
    "    # {'base_sim_name': 'Obliques', 'reduce_obliques': True},\n",
    "    {'base_sim_name': 'All', 'reduce_obliques': True, 'reduce_tufts': True, 'reduce_basals': True}\n",
    "    # {'base_sim_name': 'All - entire apic', 'reduce_apic': True, 'reduce_basals': True}\n",
    "]\n",
    "\n",
    "# Generate the list of HayParameters with updated sim_names\n",
    "all_parameters = [\n",
    "    HayParameters(\n",
    "        **common_attributes,\n",
    "        sim_name=attributes['base_sim_name'],\n",
    "        **{k: v for k, v in attributes.items() if k != 'base_sim_name'}\n",
    "    )\n",
    "    for attributes in varying_attributes\n",
    "]\n",
    "\n",
    "# Initialize simulation\n",
    "sim = Simulation(SkeletonCell.Hay, title='STA')\n",
    "\n",
    "# Submit jobs to simulation\n",
    "for parameters in all_parameters:\n",
    "    print(parameters)\n",
    "    sim.submit_job(parameters)\n",
    "\n",
    "# Remove directory if it exists\n",
    "try:\n",
    "    os.system(\"rm -r x86_64/\")\n",
    "except:    pass\n",
    "\n",
    "# Run the simulation\n",
    "sim.run()"
   ]
  },
  {
   "cell_type": "code",
   "execution_count": 6,
   "metadata": {},
   "outputs": [
    {
     "name": "stderr",
     "output_type": "stream",
     "text": [
      "Warning: no DISPLAY environment variable.\n",
      "--No graphics will be displayed.\n"
     ]
    },
    {
     "name": "stdout",
     "output_type": "stream",
     "text": [
      "(2024-05-22 18:10:13.385040)-[PID: 1504283]–[INFO]: Soma firing rate: 5.7 Hz\n",
      "(2024-05-22 18:10:13.385066)-[PID: 1504283]–[INFO]: Analyzing all spike relationships.\n",
      "sim_directory: STA-22-05-2024-18-00-41/Complex\n",
      "Figure(800x600)\n",
      "SUCCESS analyzing Na spikes w.r.t. Na spikes in apic section, soma distance:\n",
      "sim_directory: STA-22-05-2024-18-00-41/Complex\n",
      "Figure(800x600)\n",
      "SUCCESS analyzing Na spikes w.r.t. Na spikes in dend section, soma distance:\n",
      "sim_directory: STA-22-05-2024-18-00-41/Complex\n",
      "Figure(800x600)\n",
      "SUCCESS analyzing Na spikes w.r.t. Ca spikes in apic section, soma distance:\n",
      "sim_directory: STA-22-05-2024-18-00-41/Complex\n",
      "Figure(800x600)\n",
      "SUCCESS analyzing Na spikes w.r.t. NMDA spikes in apic section, soma distance:\n",
      "sim_directory: STA-22-05-2024-18-00-41/Complex\n",
      "Figure(800x600)\n",
      "SUCCESS analyzing Na spikes w.r.t. NMDA spikes in dend section, soma distance:\n",
      "sim_directory: STA-22-05-2024-18-00-41/Complex\n",
      "Figure(800x600)\n",
      "SUCCESS analyzing Na spikes w.r.t. soma_spikes spikes in apic section, soma distance:\n",
      "sim_directory: STA-22-05-2024-18-00-41/Complex\n",
      "Figure(800x600)\n",
      "SUCCESS analyzing Na spikes w.r.t. soma_spikes spikes in dend section, soma distance:\n",
      "sim_directory: STA-22-05-2024-18-00-41/Complex\n",
      "Figure(800x600)\n",
      "SUCCESS analyzing Ca spikes w.r.t. Na spikes in apic section, soma distance:\n",
      "sim_directory: STA-22-05-2024-18-00-41/Complex\n",
      "Figure(800x600)\n",
      "SUCCESS analyzing Ca spikes w.r.t. Ca spikes in apic section, soma distance:\n",
      "sim_directory: STA-22-05-2024-18-00-41/Complex\n",
      "Figure(800x600)\n",
      "SUCCESS analyzing Ca spikes w.r.t. Ca spikes in apic section, nexus distance:\n",
      "sim_directory: STA-22-05-2024-18-00-41/Complex\n",
      "Figure(800x600)\n",
      "SUCCESS analyzing Ca spikes w.r.t. NMDA spikes in apic section, soma distance:\n",
      "sim_directory: STA-22-05-2024-18-00-41/Complex\n",
      "Figure(800x600)\n",
      "SUCCESS analyzing Ca spikes w.r.t. soma_spikes spikes in apic section, soma distance:\n",
      "sim_directory: STA-22-05-2024-18-00-41/Complex\n",
      "Figure(800x600)\n",
      "SUCCESS analyzing NMDA spikes w.r.t. Na spikes in apic section, soma distance:\n",
      "sim_directory: STA-22-05-2024-18-00-41/Complex\n",
      "Figure(800x600)\n",
      "SUCCESS analyzing NMDA spikes w.r.t. Na spikes in dend section, soma distance:\n",
      "sim_directory: STA-22-05-2024-18-00-41/Complex\n",
      "Figure(800x600)\n",
      "SUCCESS analyzing NMDA spikes w.r.t. Ca spikes in apic section, soma distance:\n",
      "sim_directory: STA-22-05-2024-18-00-41/Complex\n",
      "Figure(800x600)\n",
      "SUCCESS analyzing NMDA spikes w.r.t. NMDA spikes in apic section, soma distance:\n",
      "sim_directory: STA-22-05-2024-18-00-41/Complex\n",
      "Figure(800x600)\n",
      "SUCCESS analyzing NMDA spikes w.r.t. NMDA spikes in dend section, soma distance:\n",
      "sim_directory: STA-22-05-2024-18-00-41/Complex\n",
      "Figure(800x600)\n",
      "SUCCESS analyzing NMDA spikes w.r.t. soma_spikes spikes in apic section, soma distance:\n",
      "sim_directory: STA-22-05-2024-18-00-41/Complex\n",
      "Figure(800x600)\n",
      "SUCCESS analyzing NMDA spikes w.r.t. soma_spikes spikes in dend section, soma distance:\n"
     ]
    },
    {
     "name": "stderr",
     "output_type": "stream",
     "text": [
      "Warning: no DISPLAY environment variable.\n",
      "--No graphics will be displayed.\n"
     ]
    },
    {
     "name": "stdout",
     "output_type": "stream",
     "text": [
      "(2024-05-22 18:10:45.998536)-[PID: 1504361]–[INFO]: Soma firing rate: 4.7 Hz\n",
      "(2024-05-22 18:10:45.998563)-[PID: 1504361]–[INFO]: Analyzing all spike relationships.\n",
      "sim_directory: STA-22-05-2024-18-00-41/All\n",
      "Figure(800x600)\n",
      "SUCCESS analyzing Na spikes w.r.t. Na spikes in apic section, soma distance:\n",
      "sim_directory: STA-22-05-2024-18-00-41/All\n",
      "Figure(800x600)\n",
      "SUCCESS analyzing Na spikes w.r.t. Na spikes in dend section, soma distance:\n",
      "sim_directory: STA-22-05-2024-18-00-41/All\n",
      "Figure(800x600)\n",
      "SUCCESS analyzing Na spikes w.r.t. Ca spikes in apic section, soma distance:\n",
      "sim_directory: STA-22-05-2024-18-00-41/All\n",
      "Figure(800x600)\n",
      "SUCCESS analyzing Na spikes w.r.t. NMDA spikes in apic section, soma distance:\n",
      "sim_directory: STA-22-05-2024-18-00-41/All\n",
      "Figure(800x600)\n",
      "SUCCESS analyzing Na spikes w.r.t. NMDA spikes in dend section, soma distance:\n",
      "sim_directory: STA-22-05-2024-18-00-41/All\n",
      "Figure(800x600)\n",
      "SUCCESS analyzing Na spikes w.r.t. soma_spikes spikes in apic section, soma distance:\n",
      "sim_directory: STA-22-05-2024-18-00-41/All\n",
      "Figure(800x600)\n",
      "SUCCESS analyzing Na spikes w.r.t. soma_spikes spikes in dend section, soma distance:\n",
      "sim_directory: STA-22-05-2024-18-00-41/All\n",
      "Figure(800x600)\n",
      "SUCCESS analyzing Ca spikes w.r.t. Na spikes in apic section, soma distance:\n",
      "sim_directory: STA-22-05-2024-18-00-41/All\n",
      "Figure(800x600)\n",
      "SUCCESS analyzing Ca spikes w.r.t. Ca spikes in apic section, soma distance:\n",
      "sim_directory: STA-22-05-2024-18-00-41/All\n",
      "Figure(800x600)\n",
      "SUCCESS analyzing Ca spikes w.r.t. Ca spikes in apic section, nexus distance:\n",
      "sim_directory: STA-22-05-2024-18-00-41/All\n",
      "Figure(800x600)\n",
      "SUCCESS analyzing Ca spikes w.r.t. NMDA spikes in apic section, soma distance:\n",
      "sim_directory: STA-22-05-2024-18-00-41/All\n",
      "Figure(800x600)\n",
      "SUCCESS analyzing Ca spikes w.r.t. soma_spikes spikes in apic section, soma distance:\n",
      "sim_directory: STA-22-05-2024-18-00-41/All\n",
      "Figure(800x600)\n",
      "SUCCESS analyzing NMDA spikes w.r.t. Na spikes in apic section, soma distance:\n",
      "sim_directory: STA-22-05-2024-18-00-41/All\n",
      "Figure(800x600)\n",
      "SUCCESS analyzing NMDA spikes w.r.t. Na spikes in dend section, soma distance:\n",
      "sim_directory: STA-22-05-2024-18-00-41/All\n",
      "Figure(800x600)\n",
      "SUCCESS analyzing NMDA spikes w.r.t. Ca spikes in apic section, soma distance:\n",
      "sim_directory: STA-22-05-2024-18-00-41/All\n",
      "Figure(800x600)\n",
      "SUCCESS analyzing NMDA spikes w.r.t. NMDA spikes in apic section, soma distance:\n",
      "sim_directory: STA-22-05-2024-18-00-41/All\n",
      "Figure(800x600)\n",
      "SUCCESS analyzing NMDA spikes w.r.t. NMDA spikes in dend section, soma distance:\n",
      "sim_directory: STA-22-05-2024-18-00-41/All\n",
      "Figure(800x600)\n",
      "SUCCESS analyzing NMDA spikes w.r.t. soma_spikes spikes in apic section, soma distance:\n",
      "sim_directory: STA-22-05-2024-18-00-41/All\n",
      "Figure(800x600)\n",
      "SUCCESS analyzing NMDA spikes w.r.t. soma_spikes spikes in dend section, soma distance:\n"
     ]
    }
   ],
   "source": [
    "# Create directory for saving results\n",
    "output_dir = f\"../notebooks/STA\"\n",
    "os.makedirs(output_dir, exist_ok=True)\n",
    "\n",
    "# Plot results for each parameter set and save to individual directories\n",
    "for parameters in all_parameters:\n",
    "    sim_name_dir = f\"{output_dir}/{parameters.sim_name}\"\n",
    "    os.makedirs(sim_name_dir, exist_ok=True)\n",
    "    plot_command = f\"python3 plot_sta.py -d {parameters.path} -s {sim_name_dir}\"\n",
    "    os.system(plot_command)"
   ]
  },
  {
   "cell_type": "code",
   "execution_count": 7,
   "metadata": {},
   "outputs": [
    {
     "name": "stderr",
     "output_type": "stream",
     "text": [
      "Warning: no DISPLAY environment variable.\n",
      "--No graphics will be displayed.\n"
     ]
    },
    {
     "name": "stdout",
     "output_type": "stream",
     "text": [
      "morph['pc']: {morph['pc']}\n",
      "morph['dl']: {morph['dl']}\n"
     ]
    },
    {
     "name": "stderr",
     "output_type": "stream",
     "text": [
      "Warning: no DISPLAY environment variable.\n",
      "--No graphics will be displayed.\n"
     ]
    },
    {
     "name": "stdout",
     "output_type": "stream",
     "text": [
      "morph['pc']: {morph['pc']}\n",
      "morph['dl']: {morph['dl']}\n"
     ]
    }
   ],
   "source": [
    "# Create directory for saving results\n",
    "output_dir = f\"../notebooks/LFP\"\n",
    "os.makedirs(output_dir, exist_ok=True)\n",
    "for parameters in all_parameters:\n",
    "    sim_name_dir = f\"{output_dir}/{parameters.sim_name}\"\n",
    "    os.makedirs(sim_name_dir, exist_ok=True)\n",
    "    plot_command = f\"python3 plot_lfp.py -d {parameters.path} -s {sim_name_dir}\"\n",
    "    os.system(plot_command)"
   ]
  }
 ],
 "metadata": {
  "kernelspec": {
   "display_name": "sim_env",
   "language": "python",
   "name": "python3"
  },
  "language_info": {
   "codemirror_mode": {
    "name": "ipython",
    "version": 3
   },
   "file_extension": ".py",
   "mimetype": "text/x-python",
   "name": "python",
   "nbconvert_exporter": "python",
   "pygments_lexer": "ipython3",
   "version": "3.10.14"
  }
 },
 "nbformat": 4,
 "nbformat_minor": 2
}
