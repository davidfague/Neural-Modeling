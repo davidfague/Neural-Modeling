{
 "cells": [
  {
   "cell_type": "code",
   "execution_count": null,
   "metadata": {},
   "outputs": [],
   "source": [
    "is_colab = 'google.colab' in str(get_ipython())\n",
    "if is_colab:\n",
    "    !pip install neuron\n",
    "    !git clone https://github.com/davidfague/Neural-Modeling.git -b cleanup\n",
    "    %cd Neural-Modeling/scripts\n",
    "    !pip install neuron_reduce\n",
    "    !pip install ipympl"
   ]
  },
  {
   "cell_type": "code",
   "execution_count": null,
   "metadata": {},
   "outputs": [],
   "source": [
    "import sys\n",
    "sys.path.append(\"../\")\n",
    "sys.path.append(\"../Modules/\")\n",
    "\n",
    "from Modules.simulation import Simulation\n",
    "from Modules.cell_builder import SkeletonCell, CellBuilder\n",
    "from Modules.constants import HayParameters\n",
    "\n",
    "import os\n",
    "from neuron import h\n",
    "\n",
    "from logger import Logger # type: ignore\n",
    "\n",
    "import numpy as np"
   ]
  },
  {
   "cell_type": "code",
   "execution_count": null,
   "metadata": {},
   "outputs": [],
   "source": [
    "%cd ../scripts"
   ]
  },
  {
   "cell_type": "code",
   "execution_count": null,
   "metadata": {},
   "outputs": [],
   "source": [
    "try:\n",
    "    os.system(\"rm -r x86_64/\")\n",
    "except:\n",
    "    pass"
   ]
  },
  {
   "cell_type": "code",
   "execution_count": null,
   "metadata": {},
   "outputs": [
    {
     "ename": "",
     "evalue": "",
     "output_type": "error",
     "traceback": [
      "\u001b[1;31mThe Kernel crashed while executing code in the current cell or a previous cell. \n",
      "\u001b[1;31mPlease review the code in the cell(s) to identify a possible cause of the failure. \n",
      "\u001b[1;31mClick <a href='https://aka.ms/vscodeJupyterKernelCrash'>here</a> for more info. \n",
      "\u001b[1;31mView Jupyter <a href='command:jupyter.viewOutput'>log</a> for further details."
     ]
    }
   ],
   "source": [
    "# LFP\n",
    "\n",
    "# Define the template for common attributes\n",
    "common_attributes = {\n",
    "    'h_tstop': 1000,\n",
    "    'record_ecp': True\n",
    "}\n",
    "\n",
    "# Define the varying attributes for each sim_name, without including 'sim_name' key\n",
    "varying_attributes = [\n",
    "    {'base_sim_name': 'Complex', 'reduce_cell_selective': False},\n",
    "    {'base_sim_name': 'Basals', 'reduce_basals': True},\n",
    "    {'base_sim_name': 'Tufts', 'reduce_tufts': True},\n",
    "    {'base_sim_name': 'Obliques', 'reduce_obliques': True},\n",
    "    {'base_sim_name': 'All', 'reduce_obliques': True, 'reduce_tufts': True, 'reduce_basals': True},\n",
    "    {'base_sim_name': 'All - entire apic', 'reduce_apic': True, 'reduce_basals': True}\n",
    "]\n",
    "\n",
    "# Generate the list of HayParameters with updated sim_names\n",
    "all_parameters = [\n",
    "    HayParameters(\n",
    "        **common_attributes,\n",
    "        sim_name=attributes['base_sim_name'],\n",
    "        **{k: v for k, v in attributes.items() if k != 'base_sim_name'}\n",
    "    )\n",
    "    for attributes in varying_attributes\n",
    "]\n",
    "\n",
    "# Initialize simulation\n",
    "sim = Simulation(SkeletonCell.Hay, title='LFP')\n",
    "\n",
    "# Submit jobs to simulation\n",
    "for parameters in all_parameters:\n",
    "    sim.submit_job(parameters)\n",
    "\n",
    "# Remove directory if it exists\n",
    "try:\n",
    "    os.system(\"rm -r x86_64/\")\n",
    "except Exception as e:\n",
    "    print(f\"Error while removing directory: {e}\")\n",
    "\n",
    "# Run the simulation\n",
    "sim.run()\n",
    "\n",
    "# Create directory for saving results\n",
    "output_dir = f\"../notebooks/{sim.title}\"\n",
    "os.makedirs(output_dir, exist_ok=True)\n",
    "\n",
    "# Plot results for each parameter set and save to individual directories\n",
    "for parameters in all_parameters:\n",
    "    sim_name_dir = f\"{output_dir}/{parameters.sim_name}\"\n",
    "    os.makedirs(sim_name_dir, exist_ok=True)\n",
    "    plot_command = f\"python3 plot_lfp.py -d {parameters.path} -s {sim_name_dir}\"\n",
    "    os.system(plot_command)\n",
    "\n",
    "# Placeholder for future enhancements\n",
    "# Example: Compute correlations between LFP heatmaps\n",
    "# def compute_correlations(parameter_paths):\n",
    "#     # Logic to compute and plot correlations\n",
    "#     pass\n",
    "\n",
    "# all_parameter_paths = [parameters.path for parameters in all_parameters]\n",
    "# compute_correlations(all_parameter_paths)\n"
   ]
  }
 ],
 "metadata": {
  "kernelspec": {
   "display_name": "sim_env",
   "language": "python",
   "name": "python3"
  },
  "language_info": {
   "codemirror_mode": {
    "name": "ipython",
    "version": 3
   },
   "file_extension": ".py",
   "mimetype": "text/x-python",
   "name": "python",
   "nbconvert_exporter": "python",
   "pygments_lexer": "ipython3",
   "version": "3.10.13"
  }
 },
 "nbformat": 4,
 "nbformat_minor": 2
}
