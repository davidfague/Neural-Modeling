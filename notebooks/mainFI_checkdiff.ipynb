{
 "cells": [
  {
   "cell_type": "code",
   "execution_count": 1,
   "metadata": {},
   "outputs": [
    {
     "name": "stdout",
     "output_type": "stream",
     "text": [
      "/home/drfrbc/Neural-Modeling/scripts\n"
     ]
    }
   ],
   "source": [
    "import sys\n",
    "sys.path.append(\"../\")\n",
    "sys.path.append(\"../Modules/\")\n",
    "\n",
    "import os\n",
    "\n",
    "import numpy as np\n",
    "\n",
    "%cd ../scripts/"
   ]
  },
  {
   "cell_type": "code",
   "execution_count": 2,
   "metadata": {},
   "outputs": [
    {
     "data": {
      "text/plain": [
       "'11-06-2024-09-25-12-FinalFExcFR'"
      ]
     },
     "execution_count": 2,
     "metadata": {},
     "output_type": "execute_result"
    }
   ],
   "source": [
    "'11-06-2024-09-25-12-FinalFExcFR'"
   ]
  },
  {
   "cell_type": "code",
   "execution_count": 3,
   "metadata": {},
   "outputs": [],
   "source": [
    "sim_directory = '12-06-2024-12-11-06-FISynapses'\n",
    "#'11-06-2024-09-25-12-FinalFExcFR'#'11-06-2024-19-20-06-FISynapses'\n",
    "#'11-06-2024-09-25-12-FinalFExcFR'# '11-06-2024-00-07-44-FinalFExcFR'#'11-06-2024-09-25-12-FinalFExcFR'\n",
    "#'11-06-2024-00-07-44-FinalFExcFR'#'10-06-2024-23-29-29-FinalFExcFR'\n",
    "#'10-06-2024-23-02-13-FinalFExcFR'\n",
    "#'10-06-2024-22-11-03-FinalFExcFR'\n",
    "#'10-06-2024-21-45-08-FinalFExcFR'#'10-06-2024-21-20-46-FinalFExcFR'\n",
    "#'10-06-2024-20-33-14-FinalFExcFR'#'10-06-2024-19-46-34-FinalFExcFR'#'10-06-2024-18-06-23-FinalFExcFR'#'10-06-2024-17-29-38-TestingBenSynapses'\n",
    "#'10-06-2024-15-59-04-FSynFixedEXCFR'#'10-06-2024-15-35-00-FSynFixedEXCFR'\n",
    "#'10-06-2024-14-25-38-FSynMoreThan64Sims'#'10-06-2024-13-40-11-TestingSomaPCsAnd2ndBasals'#'10-06-2024-13-02-30-TestingSomaPCsAnd2ndBasals'#'10-06-2024-11-53-41-TestingSomaPCsAnd2ndBasals' #'10-06-2024-11-28-28-TestingSomaPCsAnd2ndBasals'#'10-06-2024-10-42-46-TestingSomaPCsAnd2ndBasals'#'10-06-2024-09-51-35-TestingSomaPCsAnd2ndBasals'#'09-06-2024-23-32-58-TestingSomaPCsAnd2ndBasals'#'09-06-2024-22-52-03-TestingSomaPCsAnd2ndBasals'#'09-06-2024-22-24-02-TestingNewPCsAndReleaseProbs'#'09-06-2024-21-55-56-TestingNewPCsAndReleaseProbs'#09-06-2024-20-45-08-Testing3dCoords'#'09-06-2024-19-37-13-Testing3dCoords' #'09-06-2024-16-49-21-Testing3dCoords'#09-06-2024-12-47-58-FSynapses'#'09-06-2024-12-19-56-FSynapses'#'09-06-2024-11-57-30-FSynapses'#'09-06-2024-11-40-14-FSynapses'#'07-06-2024-14-41-31-FSynapses'\n",
    "\n",
    "excFR_fi = True"
   ]
  },
  {
   "cell_type": "code",
   "execution_count": 4,
   "metadata": {},
   "outputs": [
    {
     "ename": "ValueError",
     "evalue": "Folder name Complex_Np5 format is incorrect, expected 'basename_seed_ampINT'",
     "output_type": "error",
     "traceback": [
      "\u001b[0;31m---------------------------------------------------------------------------\u001b[0m",
      "\u001b[0;31mValueError\u001b[0m                                Traceback (most recent call last)",
      "Cell \u001b[0;32mIn[4], line 20\u001b[0m\n\u001b[1;32m      6\u001b[0m os\u001b[38;5;241m.\u001b[39mmakedirs(save_directory, exist_ok\u001b[38;5;241m=\u001b[39m\u001b[38;5;28;01mTrue\u001b[39;00m)\n\u001b[1;32m      8\u001b[0m \u001b[38;5;66;03m# for sim_directory in sim_directories:\u001b[39;00m\n\u001b[1;32m      9\u001b[0m \u001b[38;5;66;03m#     grouped_directories = group_directories_by_prefix(sim_directory)\u001b[39;00m\n\u001b[1;32m     10\u001b[0m \u001b[38;5;66;03m#     all_data = {}\u001b[39;00m\n\u001b[0;32m   (...)\u001b[0m\n\u001b[1;32m     16\u001b[0m \u001b[38;5;66;03m#         except Exception as e:\u001b[39;00m\n\u001b[1;32m     17\u001b[0m \u001b[38;5;66;03m#             print(f\"Error processing {base_name}: {e}\")\u001b[39;00m\n\u001b[0;32m---> 20\u001b[0m grouped_directories \u001b[38;5;241m=\u001b[39m \u001b[43mgroup_directories_by_prefix\u001b[49m\u001b[43m(\u001b[49m\u001b[43msim_directory\u001b[49m\u001b[43m)\u001b[49m\n\u001b[1;32m     22\u001b[0m all_data \u001b[38;5;241m=\u001b[39m {}\n\u001b[1;32m     23\u001b[0m \u001b[38;5;28;01mfor\u001b[39;00m celltype, seeds \u001b[38;5;129;01min\u001b[39;00m grouped_directories\u001b[38;5;241m.\u001b[39mitems():\n",
      "File \u001b[0;32m~/Neural-Modeling/notebooks/../scripts/compare_fi.py:184\u001b[0m, in \u001b[0;36mgroup_directories_by_prefix\u001b[0;34m(directory_path)\u001b[0m\n\u001b[1;32m    182\u001b[0m             grouped_directories[celltype][seed]\u001b[38;5;241m.\u001b[39mappend(full_path)\n\u001b[1;32m    183\u001b[0m         \u001b[38;5;28;01melse\u001b[39;00m:\n\u001b[0;32m--> 184\u001b[0m             \u001b[38;5;28;01mraise\u001b[39;00m \u001b[38;5;167;01mValueError\u001b[39;00m(\u001b[38;5;124mf\u001b[39m\u001b[38;5;124m\"\u001b[39m\u001b[38;5;124mFolder name \u001b[39m\u001b[38;5;132;01m{\u001b[39;00mfolder_name\u001b[38;5;132;01m}\u001b[39;00m\u001b[38;5;124m format is incorrect, expected \u001b[39m\u001b[38;5;124m'\u001b[39m\u001b[38;5;124mbasename_seed_ampINT\u001b[39m\u001b[38;5;124m'\u001b[39m\u001b[38;5;124m\"\u001b[39m)\n\u001b[1;32m    185\u001b[0m \u001b[38;5;28;01mreturn\u001b[39;00m grouped_directories\n",
      "\u001b[0;31mValueError\u001b[0m: Folder name Complex_Np5 format is incorrect, expected 'basename_seed_ampINT'"
     ]
    }
   ],
   "source": [
    "from scripts.compare_fi import group_directories_by_prefix, collect_fi_data, sort_amplitudes_and_firing_rates, plot_all_fi_curves, plot_mean_and_std\n",
    "\n",
    "# sim_directories = #[sim.path]#,'FI_Seeds30000Syn-23-05-2024-17-40-25']\n",
    "save = True\n",
    "save_directory = f\"../notebooks/{sim_directory}\"#f\"../notebooks/{sim.title}\"\n",
    "os.makedirs(save_directory, exist_ok=True)\n",
    "\n",
    "# for sim_directory in sim_directories:\n",
    "#     grouped_directories = group_directories_by_prefix(sim_directory)\n",
    "#     all_data = {}\n",
    "#     for base_name, directories in grouped_directories.items():\n",
    "#         try:\n",
    "#             print(\"Collecting FI curves data for\", base_name)\n",
    "#             # amplitudes, firing_rates = collect_fi_data(directories, base_name)\n",
    "#             # all_data[base_name] = (amplitudes, firing_rates)\n",
    "#         except Exception as e:\n",
    "#             print(f\"Error processing {base_name}: {e}\")\n",
    "\n",
    "\n",
    "grouped_directories = group_directories_by_prefix(sim_directory)\n",
    "\n",
    "all_data = {}\n",
    "for celltype, seeds in grouped_directories.items():\n",
    "    if excFR_fi:\n",
    "        seed_data = collect_fi_data(seeds, get_amp=False)\n",
    "    else:\n",
    "        seed_data = collect_fi_data(seeds)\n",
    "    all_data[celltype] = seed_data\n",
    "    \n",
    "data = sort_amplitudes_and_firing_rates(all_data)"
   ]
  },
  {
   "cell_type": "code",
   "execution_count": null,
   "metadata": {},
   "outputs": [],
   "source": [
    "data"
   ]
  },
  {
   "cell_type": "code",
   "execution_count": null,
   "metadata": {},
   "outputs": [],
   "source": [
    "plot_all_fi_curves(data)"
   ]
  },
  {
   "cell_type": "code",
   "execution_count": null,
   "metadata": {},
   "outputs": [],
   "source": [
    "# plot_mean_and_std(data, x_axis='increase in mean FR for all exc synapses(Hz)')\n",
    "plot_mean_and_std(data, x_axis='Excitatory synapse FR (Hz)')"
   ]
  },
  {
   "cell_type": "code",
   "execution_count": null,
   "metadata": {},
   "outputs": [],
   "source": [
    "# compute MSE and MAE of\n",
    "def calculate_errors(y_true, y_pred):\n",
    "    mse = np.mean((y_true - y_pred) * (y_true - y_pred))\n",
    "    mae = np.mean(np.abs(y_true - y_pred))\n",
    "    return mse, mae\n",
    "\n",
    "errors = {}\n",
    "\n",
    "for model in all_data.keys():\n",
    "    errors[model] = []\n",
    "    for seed in all_data['Complex'].keys():\n",
    "        errors[model].append(calculate_errors(np.array(all_data['Complex'][seed][1]),np.array(all_data[model][seed][1])))\n",
    "        \n",
    "avg_errors = {}\n",
    "for model,error in errors.items():\n",
    "    avg_errors[model] = {'MSE': None, 'MAE': None}\n",
    "    MSE_errors = [seed_errors[0] for seed_errors in error]\n",
    "    MAE_errors = [seed_errors[1] for seed_errors in error]\n",
    "    avg_errors[model]['MSE'] = round(np.mean(MSE_errors), 2)\n",
    "    avg_errors[model]['MAE'] = round(np.mean(MAE_errors), 2)\n",
    "    \n",
    "for model, errors in avg_errors.items():\n",
    "    print(f\"{model}: {errors}\")"
   ]
  }
 ],
 "metadata": {
  "kernelspec": {
   "display_name": "sim_env",
   "language": "python",
   "name": "python3"
  },
  "language_info": {
   "codemirror_mode": {
    "name": "ipython",
    "version": 3
   },
   "file_extension": ".py",
   "mimetype": "text/x-python",
   "name": "python",
   "nbconvert_exporter": "python",
   "pygments_lexer": "ipython3",
   "version": "3.10.14"
  }
 },
 "nbformat": 4,
 "nbformat_minor": 2
}
