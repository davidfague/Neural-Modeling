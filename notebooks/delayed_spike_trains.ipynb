{
  "cells": [
    {
      "cell_type": "code",
      "execution_count": 1,
      "metadata": {
        "id": "eVwmYTO0t49V"
      },
      "outputs": [],
      "source": [
        "import numpy as np\n",
        "import matplotlib.pyplot as plt\n",
        "from scipy.signal import lfilter, welch"
      ]
    },
    {
      "cell_type": "code",
      "execution_count": 2,
      "metadata": {
        "id": "ldW_C0kJuTjz"
      },
      "outputs": [],
      "source": [
        "# From the poisson train generation notebook\n",
        "\n",
        "def inhomogeneous_poisson_through_num_points_for_window_one(lambdas):\n",
        "    t = np.zeros(len(lambdas))\n",
        "    for i, lambd in enumerate(lambdas):\n",
        "        num_points = np.random.poisson(lambd)\n",
        "        if num_points > 0: t[i] = 1\n",
        "    return t\n",
        "\n",
        "def generate_pink_noise(num_obs, mean = 1, std = 0.5):\n",
        "\n",
        "    white_noise = np.random.normal(mean, std, num_obs + 2000)\n",
        "\n",
        "    A = [1, -2.494956002, 2.017265875, -0.522189400]\n",
        "    B = [0.049922035, -0.095993537, 0.050612699, -0.004408786]\n",
        "\n",
        "    pink_noise = lfilter(B, A, white_noise)[2000:]\n",
        "\n",
        "    return pink_noise"
      ]
    },
    {
      "cell_type": "code",
      "execution_count": 3,
      "metadata": {
        "id": "gnKbZpha1Yrs"
      },
      "outputs": [],
      "source": [
        "def generate_train_matrix(N_syn, T):\n",
        "    matrix = np.zeros((N_syn, T))\n",
        "    for i in range(N_syn):\n",
        "        matrix[i, :] = inhomogeneous_poisson_through_num_points_for_window_one(generate_pink_noise(num_obs = T, mean = 2) / 1000)\n",
        "    return matrix\n",
        "\n",
        "def shift_wrap_array(arr, by):\n",
        "    wrap = arr[-by:].copy()\n",
        "    arr[by:] = arr[0:-by]\n",
        "    arr[0:by] = wrap\n",
        "    return arr\n",
        "\n",
        "def compute_frs_from_probs(spike_probs):\n",
        "    '''in units mHz'''\n",
        "    return -np.log(1 - spike_probs)\n",
        "\n",
        "def shift_mean(frs, desired_mean):\n",
        "    '''frs: np.array of firing rates that will be lamda\n",
        "    units mHz'''\n",
        "    frs = frs + (desired_mean - np.mean(frs))\n",
        "    return frs\n",
        "\n",
        "def generate_delayed_fr_profile(exc_trains_matrix, desired_mean):\n",
        "    '''trains_matrix is n_pre_cells x n_timepoints'''\n",
        "    # all of the following are 1x n _timepoints\n",
        "    exc_spike_probs = np.mean(exc_trains_matrix, axis = 0) # merge all exc spike trains\n",
        "    inh_spike_probs = shift_wrap_array(exc_spike_probs, 4) # delay the exc spike train\n",
        "    inh_frs = compute_frs_from_probs(inh_spike_probs)\n",
        "    inh_frs = shift_mean(inh_frs, desired_mean=desired_mean)\n",
        "    return inh_frs"
      ]
    },
    {
      "cell_type": "code",
      "execution_count": null,
      "metadata": {},
      "outputs": [],
      "source": []
    },
    {
      "cell_type": "code",
      "execution_count": 4,
      "metadata": {},
      "outputs": [],
      "source": [
        "def generate_delayed_fr_profile(exc_trains_matrix, desired_mean):\n",
        "    '''trains_matrix is n_pre_cells x n_timepoints'''\n",
        "    # all of the following are 1x n _timepoints\n",
        "    exc_spike_probs = np.mean(exc_trains_matrix, axis = 0) # merge all exc spike trains\n",
        "    inh_spike_probs = shift_wrap_array(exc_spike_probs, 4) # delay the exc spike train\n",
        "    inh_frs = -np.log(1 - inh_spike_probs)\n",
        "    inh_frs = shift_mean(inh_frs, desired_mean=desired_mean)\n",
        "    return inh_frs"
      ]
    },
    {
      "cell_type": "code",
      "execution_count": 5,
      "metadata": {
        "id": "M58l2jChubYg"
      },
      "outputs": [],
      "source": [
        "# Generate a matrix of excitatory trains (we will use uniform lambdas, but we can also use 1/f or anything else)\n",
        "np.random.seed(123)\n",
        "N_syn = 10\n",
        "T = 1000 # 5 seconds\n",
        "\n",
        "matrix = generate_train_matrix(N_syn, T)"
      ]
    },
    {
      "cell_type": "code",
      "execution_count": 6,
      "metadata": {},
      "outputs": [
        {
          "data": {
            "text/plain": [
              "[1, 10, 100]"
            ]
          },
          "execution_count": 6,
          "metadata": {},
          "output_type": "execute_result"
        }
      ],
      "source": [
        "[1,10,100]"
      ]
    },
    {
      "cell_type": "code",
      "execution_count": 7,
      "metadata": {},
      "outputs": [
        {
          "data": {
            "text/plain": [
              "numpy.ndarray"
            ]
          },
          "execution_count": 7,
          "metadata": {},
          "output_type": "execute_result"
        }
      ],
      "source": [
        "type(matrix)"
      ]
    },
    {
      "cell_type": "code",
      "execution_count": 8,
      "metadata": {},
      "outputs": [
        {
          "data": {
            "text/plain": [
              "array([0., 0., 0., 0., 0., 0., 0., 0., 0., 0., 0., 0., 0., 0., 0., 0., 0.,\n",
              "       0., 0., 0., 0., 0., 0., 0., 0., 0., 0., 0., 0., 0., 0., 0., 0., 0.,\n",
              "       0., 0., 0., 0., 0., 0., 0., 0., 0., 0., 0., 0., 0., 0., 0., 0., 0.,\n",
              "       0., 0., 0., 0., 0., 0., 0., 0., 0., 0., 0., 0., 0., 0., 0., 0., 0.,\n",
              "       0., 0., 0., 0., 0., 0., 0., 0., 0., 0., 0., 0., 0., 0., 0., 0., 0.,\n",
              "       0., 0., 0., 0., 0., 0., 0., 0., 0., 0., 0., 0., 0., 0., 0., 0., 0.,\n",
              "       0., 0., 0., 0., 0., 0., 0., 0., 0., 0., 0., 0., 0., 0., 0., 0., 0.,\n",
              "       0., 0., 0., 0., 0., 0., 0., 0., 0., 0., 0., 0., 0., 0., 0., 0., 0.,\n",
              "       0., 0., 0., 0., 0., 0., 0., 0., 0., 0., 0., 0., 0., 0., 0., 0., 0.,\n",
              "       0., 0., 0., 0., 0., 0., 0., 0., 0., 0., 0., 0., 0., 0., 0., 0., 0.,\n",
              "       0., 0., 0., 0., 0., 0., 0., 0., 0., 0., 0., 0., 0., 0., 0., 0., 0.,\n",
              "       0., 0., 0., 0., 0., 0., 0., 0., 0., 0., 0., 0., 0., 0., 0., 0., 0.,\n",
              "       0., 0., 0., 0., 0., 0., 0., 0., 0., 0., 0., 0., 0., 0., 0., 0., 1.,\n",
              "       0., 0., 0., 0., 0., 0., 0., 0., 0., 0., 0., 0., 0., 0., 0., 0., 0.,\n",
              "       0., 0., 0., 0., 0., 0., 0., 0., 0., 0., 0., 0., 0., 0., 0., 0., 0.,\n",
              "       0., 0., 0., 0., 0., 0., 0., 0., 0., 0., 0., 0., 0., 0., 0., 0., 0.,\n",
              "       0., 0., 0., 0., 0., 0., 0., 0., 0., 0., 0., 0., 0., 0., 0., 0., 0.,\n",
              "       0., 0., 0., 0., 0., 0., 0., 0., 0., 0., 0., 0., 0., 0., 0., 0., 0.,\n",
              "       0., 0., 0., 0., 0., 0., 0., 0., 0., 0., 0., 0., 0., 0., 0., 0., 0.,\n",
              "       0., 0., 0., 0., 0., 0., 0., 0., 0., 0., 0., 0., 0., 0., 0., 0., 0.,\n",
              "       0., 0., 0., 0., 0., 0., 0., 1., 0., 0., 0., 0., 0., 0., 0., 0., 0.,\n",
              "       0., 0., 0., 0., 0., 0., 0., 0., 0., 0., 0., 0., 0., 0., 0., 0., 0.,\n",
              "       0., 0., 0., 0., 0., 0., 0., 0., 0., 0., 0., 0., 0., 0., 0., 0., 0.,\n",
              "       0., 0., 0., 0., 0., 0., 0., 0., 0., 0., 0., 0., 0., 0., 0., 0., 0.,\n",
              "       0., 0., 0., 0., 0., 0., 0., 0., 0., 0., 0., 0., 0., 0., 0., 0., 0.,\n",
              "       0., 0., 0., 0., 0., 0., 0., 0., 0., 0., 0., 0., 0., 0., 0., 0., 0.,\n",
              "       0., 0., 0., 0., 0., 0., 0., 0., 0., 0., 0., 0., 0., 0., 0., 0., 0.,\n",
              "       0., 0., 0., 0., 0., 0., 0., 0., 0., 0., 0., 0., 0., 0., 0., 0., 0.,\n",
              "       0., 0., 0., 0., 0., 0., 0., 0., 0., 0., 0., 0., 0., 0., 0., 0., 0.,\n",
              "       0., 0., 0., 0., 0., 0., 0., 0., 0., 0., 0., 0., 0., 0., 0., 0., 0.,\n",
              "       0., 0., 0., 0., 0., 0., 0., 0., 0., 0., 0., 0., 0., 0., 0., 0., 0.,\n",
              "       0., 0., 0., 0., 0., 0., 0., 0., 0., 0., 0., 0., 0., 0., 0., 0., 0.,\n",
              "       0., 0., 0., 0., 0., 0., 0., 0., 0., 0., 0., 0., 0., 0., 0., 0., 0.,\n",
              "       0., 0., 0., 0., 0., 0., 0., 0., 0., 0., 0., 0., 0., 0., 0., 0., 0.,\n",
              "       0., 0., 0., 0., 0., 0., 0., 0., 0., 0., 0., 0., 0., 0., 0., 0., 0.,\n",
              "       0., 0., 0., 0., 0., 0., 0., 0., 0., 0., 0., 0., 0., 0., 0., 0., 0.,\n",
              "       0., 0., 0., 0., 0., 0., 0., 0., 0., 0., 0., 0., 0., 0., 0., 0., 0.,\n",
              "       0., 0., 0., 0., 0., 0., 0., 0., 0., 0., 0., 0., 0., 0., 0., 0., 0.,\n",
              "       0., 0., 0., 0., 0., 0., 0., 0., 0., 0., 0., 0., 0., 0., 0., 0., 0.,\n",
              "       0., 0., 0., 0., 0., 0., 0., 0., 0., 0., 0., 0., 0., 0., 0., 0., 0.,\n",
              "       0., 0., 0., 0., 0., 0., 0., 0., 0., 0., 0., 0., 0., 0., 0., 0., 0.,\n",
              "       0., 0., 0., 0., 0., 0., 0., 0., 0., 0., 0., 0., 0., 0., 0., 0., 0.,\n",
              "       0., 0., 0., 0., 0., 0., 0., 0., 0., 0., 0., 0., 0., 0., 0., 0., 0.,\n",
              "       0., 0., 0., 0., 0., 0., 0., 0., 0., 0., 0., 0., 0., 0., 0., 0., 0.,\n",
              "       0., 0., 0., 0., 0., 0., 0., 0., 0., 0., 0., 0., 0., 0., 0., 0., 0.,\n",
              "       0., 0., 0., 0., 0., 0., 0., 0., 0., 0., 0., 0., 0., 0., 0., 0., 0.,\n",
              "       0., 0., 0., 0., 0., 0., 0., 0., 0., 0., 0., 0., 0., 0., 0., 0., 0.,\n",
              "       0., 0., 0., 0., 0., 0., 0., 0., 0., 0., 0., 0., 0., 0., 0., 0., 0.,\n",
              "       0., 0., 0., 0., 0., 0., 0., 0., 0., 0., 0., 0., 0., 0., 0., 0., 0.,\n",
              "       0., 0., 0., 0., 0., 0., 0., 0., 0., 0., 0., 0., 0., 0., 0., 0., 0.,\n",
              "       0., 0., 0., 0., 0., 0., 0., 0., 0., 0., 0., 0., 0., 0., 0., 0., 0.,\n",
              "       0., 0., 0., 0., 0., 0., 0., 0., 0., 0., 0., 0., 0., 0., 0., 0., 0.,\n",
              "       0., 0., 0., 0., 0., 0., 0., 0., 0., 0., 0., 0., 0., 0., 0., 0., 0.,\n",
              "       0., 0., 0., 0., 0., 0., 0., 0., 0., 0., 0., 0., 0., 0., 0., 0., 0.,\n",
              "       0., 0., 0., 0., 0., 0., 0., 0., 0., 0., 0., 0., 0., 0., 0., 0., 0.,\n",
              "       0., 0., 0., 0., 0., 0., 0., 0., 0., 0., 0., 0., 0., 0., 0., 0., 0.,\n",
              "       0., 0., 0., 0., 0., 0., 0., 0., 0., 0., 0., 0., 0., 0., 0., 0., 0.,\n",
              "       0., 0., 0., 0., 0., 0., 0., 0., 0., 0., 0., 0., 0., 0., 0., 0., 0.,\n",
              "       0., 0., 0., 0., 0., 0., 0., 0., 0., 0., 0., 0., 0., 0.])"
            ]
          },
          "execution_count": 8,
          "metadata": {},
          "output_type": "execute_result"
        }
      ],
      "source": [
        "matrix[0]"
      ]
    },
    {
      "cell_type": "code",
      "execution_count": 9,
      "metadata": {},
      "outputs": [
        {
          "ename": "SyntaxError",
          "evalue": "invalid syntax. Perhaps you forgot a comma? (4129026192.py, line 1)",
          "output_type": "error",
          "traceback": [
            "\u001b[0;36m  Cell \u001b[0;32mIn[9], line 1\u001b[0;36m\u001b[0m\n\u001b[0;31m    matrix = [[   175    796   1455   1585   1755   2061   2129   2745   2876   2966\u001b[0m\n\u001b[0m                  ^\u001b[0m\n\u001b[0;31mSyntaxError\u001b[0m\u001b[0;31m:\u001b[0m invalid syntax. Perhaps you forgot a comma?\n"
          ]
        }
      ],
      "source": [
        "matrix = [[   175    796   1455   1585   1755   2061   2129   2745   2876   2966\n",
        "   3127   3187   3683   3762   3966   4086   5571   6123   6830   7101\n",
        "   7148   7282   7285   7372   7381   7384   7572   8008   8777   8858\n",
        "   9208   9887  10889  11180  11283  11642  12220  12250  12358  12521\n",
        "  12541  12644  12650  12766  12833  13098  13105  13383  13410  13630\n",
        "  13660  13807  14011  14807  14977  14991  15155  15184  15457  15827\n",
        "  15858  16756  16796  16968  17062  17265  17289  17318  17354  17412\n",
        "  17514  17536  18242  18358  18731  18782  18977  19392  19627  19896\n",
        "  20052  20262  20277  20709  20770  20806  21129  21522  21945  22164\n",
        "  22703  22858  23052  23261  23331  24515  24691  24714  25418  25698\n",
        "  26020  26425  27409  27430  27905  28156  29031  29284  30285  30325\n",
        "  30560  30812  31006  31378  31646  31680  31708  32114  32137  32254\n",
        "  32348  32488  32807  32834  33341  33413  33679  33803  33814  33931\n",
        "  34521  34658  35009  35273  35380  35523  35776  35843  35900  36142\n",
        "  36145  36239  36291  36662  36855  37016  37269  37432  37467  37723\n",
        "  37732  37897  37901  38009  38312  39573  39789  40024  40368  40401\n",
        "  40509  40527  40884  40962  41290  41833  43050  43051  43674  44025\n",
        "  44177  45058  45059  45278  45339  45408  45425  45637  45659  45892\n",
        "  46595  46606  46943  47410  48527  48630  48850  48854  48922  49331\n",
        "  49504  49972  50255  50557  50959  51302  52230  52347  52497  52854\n",
        "  53287  53378  53777  54088  54536  54844  55131  55522  55548  55563\n",
        "  56290  56318  56817  56833  56867  57389  57447  57559  57866  57925\n",
        "  57946  58143  58271  58547  58626  58716  59078  60138  60301  60730\n",
        "  61007  61301  61415  61455  61952  62094  62364  62451  62593  63094\n",
        "  63473  63651  63776  63859  64709  64769  64811  65139  65538  65923\n",
        "  66068  66163  66167  66380  66767  67329  67575  67585  67892  68009\n",
        "  68781  68832  69527  69539  69891  69996  70059  70181  70208  70245\n",
        "  70860  70886  71410  71440  71457  71555  71562  71575  71837  72246\n",
        "  72765  72804  73062  73390  73442  73671  73809  73830  73885  74592\n",
        "  75176  75309  75704  75966  76574  76678  77383  77427  77978  78080\n",
        "  78568  79434  79591  79943  80566  80708  80965  81155  81387  81491\n",
        "  81562  82377  82648  83064  83192  83202  83312  83424  83599  83661\n",
        "  84199  84481  84928  84958  85504  86379  86465  86847  86907  87157\n",
        "  87585  87615  87840  88961  89264  89336  89347  89705  89979  90003\n",
        "  90205  90390  90405  90808  91267  91351  91445  91553  91554  91711\n",
        "  91955  92243  92394  92508  93305  93561  93888  94597  94940  95180\n",
        "  95184  95239  95306  95475  96021  96400  96671  96935  96968  97067\n",
        "  97565  97692  97988  98039  98314  98434  98947  99774 100348 100949\n",
        " 100982 101994 102660 103452 104088 104298 104372 104858 105240 105401\n",
        " 105649 105673 105822 105985 106333 106573 106912 107042 107406 107560\n",
        " 108121 108270 108538 108901 109577 109628 109721 110081 110182 110233\n",
        " 110339 110622 110728 111021 111120 111352 111960 111990 112347 112553\n",
        " 112801 112930 112947 113262 113276 113894 113941 113996 114113 114740\n",
        " 114975 115605 115768 115868 115880 115936 116009 116449 116682 117108\n",
        " 117543 117851 118216 118645 118785 119056 119135 119524 119885 119894]...]"
      ]
    },
    {
      "cell_type": "code",
      "execution_count": null,
      "metadata": {},
      "outputs": [],
      "source": [
        "matrix.shape"
      ]
    },
    {
      "cell_type": "code",
      "execution_count": null,
      "metadata": {
        "colab": {
          "base_uri": "https://localhost:8080/"
        },
        "id": "QfYmROth0AKk",
        "outputId": "616233a5-c0f6-4e69-bfc6-d598a4211bd7"
      },
      "outputs": [],
      "source": [
        "# Compute the array of probabilities of observing at least one spike at time point t\n",
        "exc_spike_prob = np.mean(matrix, axis = 0)\n",
        "exc_spike_prob[:10]"
      ]
    },
    {
      "cell_type": "code",
      "execution_count": null,
      "metadata": {},
      "outputs": [],
      "source": [
        "exc_spike_prob.shape"
      ]
    },
    {
      "cell_type": "code",
      "execution_count": null,
      "metadata": {},
      "outputs": [],
      "source": []
    },
    {
      "cell_type": "code",
      "execution_count": null,
      "metadata": {
        "colab": {
          "base_uri": "https://localhost:8080/"
        },
        "id": "qNpb6nTfuhtd",
        "outputId": "30a331a0-d40f-42db-8140-6819c5063409"
      },
      "outputs": [],
      "source": [
        "# Shift the array to get probabilities for inh synapses\n",
        "inh_spike_prob = shift_wrap_array(exc_spike_prob, 4)\n",
        "inh_spike_prob[:10]"
      ]
    },
    {
      "cell_type": "markdown",
      "metadata": {
        "id": "4mzDohkv0BBM"
      },
      "source": [
        "To convert from probabilities to firing rates, we can use the following analysis.\n",
        "\n",
        "$$\n",
        "p = p(N_{sp} > 0) = 1 - p(N_{sp} = 0) = 1 - \\frac{e^{-\\lambda}\\lambda^0}{0!} = 1 - e^{-\\lambda}.\n",
        "$$\n",
        "\n",
        "Then\n",
        "\n",
        "$$\n",
        "\\begin{align*}\n",
        "e^{-\\lambda} &= 1 - p \\\\\n",
        "\\lambda &= -\\log(1-p)\n",
        "\\end{align*}\n",
        "$$"
      ]
    },
    {
      "cell_type": "code",
      "execution_count": null,
      "metadata": {
        "colab": {
          "base_uri": "https://localhost:8080/"
        },
        "id": "bYhpUPPnzCvk",
        "outputId": "bb8fe235-d1ac-487e-ad28-eb791d5f142f"
      },
      "outputs": [],
      "source": [
        "exc_fr = -np.log(1 - exc_spike_prob)\n",
        "inh_fr = -np.log(1 - inh_spike_prob)\n",
        "\n",
        "# Check that the mean rates are preserved at this point\n",
        "print(\"Exc MFR from probabilities: \", np.mean(exc_fr))\n",
        "print(\"Inh MFR from probabilities: \", np.mean(inh_fr))"
      ]
    },
    {
      "cell_type": "code",
      "execution_count": null,
      "metadata": {},
      "outputs": [],
      "source": [
        "def compute_frs_from_probs(spike_probs):\n",
        "    '''in units mHz'''\n",
        "    return -np.log(1 - spike_probs)"
      ]
    },
    {
      "cell_type": "code",
      "execution_count": null,
      "metadata": {},
      "outputs": [],
      "source": [
        "exc_fr"
      ]
    },
    {
      "cell_type": "code",
      "execution_count": null,
      "metadata": {},
      "outputs": [],
      "source": [
        "inh_spikes"
      ]
    },
    {
      "cell_type": "code",
      "execution_count": null,
      "metadata": {},
      "outputs": [],
      "source": [
        "np.mean(inh_fr)\n",
        "new_fr = shift_mean(inh_fr, desired_mean=0.008)\n",
        "print(np.mean(new_fr))"
      ]
    },
    {
      "cell_type": "code",
      "execution_count": null,
      "metadata": {
        "colab": {
          "base_uri": "https://localhost:8080/",
          "height": 422
        },
        "id": "zM8d6zYXywQ4",
        "outputId": "855c9a7e-4d72-4694-f9bc-35e4a1ccaf89"
      },
      "outputs": [],
      "source": [
        "def shift_mean(frs, desired_mean):\n",
        "    '''frs: np.array of firing rates that will be lamda\n",
        "    units mHz'''\n",
        "    frs = frs + (desired_mean - np.mean(frs))\n",
        "    return frs\n",
        "\n",
        "np.random.seed(123)\n",
        "exc_spikes = inhomogeneous_poisson_through_num_points_for_window_one(exc_fr)\n",
        "inh_spikes = inhomogeneous_poisson_through_num_points_for_window_one(shift_mean(inh_fr, desired_mean=0.008)) # 4.5 = desired inh mean firing rate\n",
        "\n",
        "fig, ax = plt.subplots(1, 2, figsize = (20, 5))\n",
        "ax[0].stem(exc_spikes, markerfmt = ' ')\n",
        "ax[1].stem(inh_spikes, markerfmt = ' ', linefmt = '--')\n",
        "\n",
        "ax[0].set_title(\"Average Excitatory Train\")\n",
        "ax[1].set_title(\"Inhibitory Train\")\n",
        "\n",
        "print(f\"FR exc spikes: {np.mean(exc_spikes) * 1000 } Hz\")\n",
        "print(f\"FR inh spikes: {np.mean(inh_spikes) * 1000} Hz\")"
      ]
    },
    {
      "cell_type": "code",
      "execution_count": null,
      "metadata": {},
      "outputs": [],
      "source": [
        "exc"
      ]
    },
    {
      "cell_type": "code",
      "execution_count": null,
      "metadata": {
        "id": "WCgnY7Qw2lRW"
      },
      "outputs": [],
      "source": [
        "plt.plot(range(len(exc_spike_prob)), exc_spike_prob*N_syn)"
      ]
    }
  ],
  "metadata": {
    "colab": {
      "provenance": []
    },
    "kernelspec": {
      "display_name": "Python 3",
      "name": "python3"
    },
    "language_info": {
      "codemirror_mode": {
        "name": "ipython",
        "version": 3
      },
      "file_extension": ".py",
      "mimetype": "text/x-python",
      "name": "python",
      "nbconvert_exporter": "python",
      "pygments_lexer": "ipython3",
      "version": "3.1.undefined"
    }
  },
  "nbformat": 4,
  "nbformat_minor": 0
}
