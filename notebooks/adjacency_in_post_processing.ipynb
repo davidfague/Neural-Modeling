{
 "cells": [
  {
   "cell_type": "markdown",
   "metadata": {},
   "source": [
    "## testing adjacency matrix for separating basal, obliques, tufts, trunk"
   ]
  },
  {
   "cell_type": "code",
   "execution_count": 1,
   "metadata": {},
   "outputs": [],
   "source": [
    "import numpy as np\n",
    "import os\n",
    "import sys\n",
    "\n",
    "import os\n",
    "import sys\n",
    "sys.path.append(\"../\")\n",
    "sys.path.append(\"../Modules/\")\n",
    "import pandas as pd"
   ]
  },
  {
   "cell_type": "markdown",
   "metadata": {},
   "source": [
    "load segments"
   ]
  },
  {
   "cell_type": "code",
   "execution_count": 2,
   "metadata": {},
   "outputs": [],
   "source": [
    "sim_directory = \"/home/drfrbc/Neural-Modeling/scripts/2024-12-17-16-16-39-ZiaoSynapses_final_detailed_syn_dist_analysis/Complex_InhGmaxApic204_InhGmaxDend7.0_SomaGmax6.0_ExcGmax-1.0351_Np1000\"\n",
    "seg_data = pd.read_csv(os.path.join(sim_directory, \"segment_data.csv\"))"
   ]
  },
  {
   "cell_type": "code",
   "execution_count": 3,
   "metadata": {},
   "outputs": [],
   "source": [
    "# Function to fix pseg ending with (1)\n",
    "def replace_pseg_with_greatest_seg(df):\n",
    "    for i, row in df.iterrows():\n",
    "        if row['pseg'].endswith('(1)'):\n",
    "            # Extract the section prefix (e.g., \"L5PCtemplate[0].dend[0]\")\n",
    "            section_prefix = row['pseg'].rsplit('(', 1)[0]\n",
    "\n",
    "            # Filter segments in the same section\n",
    "            matching_segs = df['seg'][df['seg'].str.startswith(section_prefix)]\n",
    "\n",
    "            # Find the greatest value before (1)\n",
    "            max_seg = None\n",
    "            max_value = -np.inf\n",
    "            for seg in matching_segs:\n",
    "                if seg.endswith('(1)'):\n",
    "                    continue\n",
    "                try:\n",
    "                    value = float(seg.split('(')[-1].rstrip(')'))\n",
    "                    if value > max_value:\n",
    "                        max_value = value\n",
    "                        max_seg = seg\n",
    "                except ValueError:\n",
    "                    continue\n",
    "\n",
    "            # Replace pseg if a valid max_seg is found\n",
    "            if max_seg:\n",
    "                df.at[i, 'pseg'] = max_seg\n",
    "\n",
    "    return df"
   ]
  },
  {
   "cell_type": "code",
   "execution_count": 4,
   "metadata": {},
   "outputs": [],
   "source": [
    "# Replace NaN parent segments with a placeholder (optional, e.g., \"No Parent\")\n",
    "seg_data['pseg'] = seg_data['pseg'].fillna('No Parent')"
   ]
  },
  {
   "cell_type": "code",
   "execution_count": 5,
   "metadata": {},
   "outputs": [],
   "source": [
    "seg_data = replace_pseg_with_greatest_seg(seg_data)"
   ]
  },
  {
   "cell_type": "code",
   "execution_count": 6,
   "metadata": {},
   "outputs": [
    {
     "name": "stdout",
     "output_type": "stream",
     "text": [
      "Values in pseg but not in seg:\n",
      "{'No Parent'}\n"
     ]
    }
   ],
   "source": [
    "# Values in pseg that are not in seg\n",
    "not_in_seg = set(seg_data['pseg']) - set(seg_data['seg'])\n",
    "\n",
    "print(\"Values in pseg but not in seg:\")\n",
    "print(not_in_seg)"
   ]
  },
  {
   "cell_type": "code",
   "execution_count": 39,
   "metadata": {},
   "outputs": [
    {
     "data": {
      "text/plain": [
       "2512"
      ]
     },
     "execution_count": 39,
     "metadata": {},
     "output_type": "execute_result"
    }
   ],
   "source": [
    "len(seg_to_index)"
   ]
  },
  {
   "cell_type": "code",
   "execution_count": 40,
   "metadata": {},
   "outputs": [
    {
     "data": {
      "text/plain": [
       "2511"
      ]
     },
     "execution_count": 40,
     "metadata": {},
     "output_type": "execute_result"
    }
   ],
   "source": [
    "len(seg_data)"
   ]
  },
  {
   "cell_type": "code",
   "execution_count": 43,
   "metadata": {},
   "outputs": [],
   "source": [
    "# Get unique segments\n",
    "segments = sorted(set(seg_data['seg']).union(seg_data['pseg']))\n",
    "\n",
    "# Create a unique list of segments (seg + pseg) directly from seg_data\n",
    "unique_segments = pd.concat([seg_data['seg'], seg_data['pseg']]).unique()\n",
    "seg_to_index = {seg: idx for idx, seg in enumerate(unique_segments)}\n",
    "\n",
    "\n",
    "\n",
    "len(seg_data)\n",
    "len(seg_to_index)\n",
    "\n",
    "# Initialize an adjacency matrix with size equal to the number of unique segments\n",
    "n = len(unique_segments)\n",
    "adjacency_matrix = np.zeros((n, n), dtype=int)\n",
    "\n",
    "# Populate the adjacency matrix\n",
    "for _, row in seg_data.iterrows():\n",
    "    parent = row['pseg']\n",
    "    child = row['seg']\n",
    "    # Ensure valid indices and exclude \"No Parent\"\n",
    "    if parent in seg_to_index and child in seg_to_index and parent != 'No Parent':\n",
    "        parent_idx = seg_to_index[parent]\n",
    "        child_idx = seg_to_index[child]\n",
    "        adjacency_matrix[parent_idx, child_idx] = 1"
   ]
  },
  {
   "cell_type": "code",
   "execution_count": 8,
   "metadata": {},
   "outputs": [],
   "source": [
    "from Modules import adjacency"
   ]
  },
  {
   "cell_type": "code",
   "execution_count": 45,
   "metadata": {},
   "outputs": [],
   "source": [
    "soma_children = adjacency.get_children_indices(0, adjacency_matrix)"
   ]
  },
  {
   "cell_type": "code",
   "execution_count": 64,
   "metadata": {},
   "outputs": [],
   "source": [
    "y_coords = []\n",
    "for i, seg in seg_data.iterrows():\n",
    "    # print(seg[\"p1_1\"])\n",
    "    y_coord = seg[\"p1_1\"]#.iloc[0] if not seg[\"p1_1\"] else None\n",
    "    y_coords.append(y_coord)\n",
    "#print(f\"y_coords: {y_coords}\")\n",
    "#print(f\"all_seg_list: {all_seg_list}\")\n",
    "apical_segment_indices = [i for i, seg in seg_data.iterrows() if 'apic' in seg.section]\n",
    "#print(f\"apical_segment_indices: {apical_segment_indices}\")\n",
    "nexus_index_in_all_list, _ = adjacency.find_branching_seg_with_most_branching_descendants_in_subset_y(adjacency_matrix, apical_segment_indices, y_coords)"
   ]
  },
  {
   "cell_type": "code",
   "execution_count": 74,
   "metadata": {},
   "outputs": [
    {
     "data": {
      "text/html": [
       "<div>\n",
       "<style scoped>\n",
       "    .dataframe tbody tr th:only-of-type {\n",
       "        vertical-align: middle;\n",
       "    }\n",
       "\n",
       "    .dataframe tbody tr th {\n",
       "        vertical-align: top;\n",
       "    }\n",
       "\n",
       "    .dataframe thead th {\n",
       "        text-align: right;\n",
       "    }\n",
       "</style>\n",
       "<table border=\"1\" class=\"dataframe\">\n",
       "  <thead>\n",
       "    <tr style=\"text-align: right;\">\n",
       "      <th></th>\n",
       "      <th>Unnamed: 0</th>\n",
       "      <th>section</th>\n",
       "      <th>idx_in_section_type</th>\n",
       "      <th>seg_half_seg_RA</th>\n",
       "      <th>L</th>\n",
       "      <th>seg</th>\n",
       "      <th>pseg</th>\n",
       "      <th>Section_L</th>\n",
       "      <th>Section_diam</th>\n",
       "      <th>Distance</th>\n",
       "      <th>...</th>\n",
       "      <th>pc_0</th>\n",
       "      <th>pc_1</th>\n",
       "      <th>pc_2</th>\n",
       "      <th>p1_0</th>\n",
       "      <th>p1_1</th>\n",
       "      <th>p1_2</th>\n",
       "      <th>r</th>\n",
       "      <th>dl_0</th>\n",
       "      <th>dl_1</th>\n",
       "      <th>dl_2</th>\n",
       "    </tr>\n",
       "  </thead>\n",
       "  <tbody>\n",
       "    <tr>\n",
       "      <th>1475</th>\n",
       "      <td>1475</td>\n",
       "      <td>apic</td>\n",
       "      <td>36</td>\n",
       "      <td>0.397875</td>\n",
       "      <td>5.005411</td>\n",
       "      <td>L5PCtemplate[0].apic[36](0.989796)</td>\n",
       "      <td>L5PCtemplate[0].apic[36](0.969388)</td>\n",
       "      <td>245.265118</td>\n",
       "      <td>2.57</td>\n",
       "      <td>624.284848</td>\n",
       "      <td>...</td>\n",
       "      <td>18.948452</td>\n",
       "      <td>591.963829</td>\n",
       "      <td>-57.742575</td>\n",
       "      <td>18.73</td>\n",
       "      <td>594.349976</td>\n",
       "      <td>-57.02</td>\n",
       "      <td>1.415</td>\n",
       "      <td>-0.517102</td>\n",
       "      <td>4.846356</td>\n",
       "      <td>0.986031</td>\n",
       "    </tr>\n",
       "  </tbody>\n",
       "</table>\n",
       "<p>1 rows × 23 columns</p>\n",
       "</div>"
      ],
      "text/plain": [
       "      Unnamed: 0 section  idx_in_section_type  seg_half_seg_RA         L  \\\n",
       "1475        1475    apic                   36         0.397875  5.005411   \n",
       "\n",
       "                                     seg                                pseg  \\\n",
       "1475  L5PCtemplate[0].apic[36](0.989796)  L5PCtemplate[0].apic[36](0.969388)   \n",
       "\n",
       "       Section_L  Section_diam    Distance  ...       pc_0        pc_1  \\\n",
       "1475  245.265118          2.57  624.284848  ...  18.948452  591.963829   \n",
       "\n",
       "           pc_2   p1_0        p1_1   p1_2      r      dl_0      dl_1      dl_2  \n",
       "1475 -57.742575  18.73  594.349976 -57.02  1.415 -0.517102  4.846356  0.986031  \n",
       "\n",
       "[1 rows x 23 columns]"
      ]
     },
     "execution_count": 74,
     "metadata": {},
     "output_type": "execute_result"
    }
   ],
   "source": [
    "seg_data[seg_data['Unnamed: 0'] == nexus_index_in_all_list]"
   ]
  }
 ],
 "metadata": {
  "kernelspec": {
   "display_name": "sim_env",
   "language": "python",
   "name": "python3"
  },
  "language_info": {
   "codemirror_mode": {
    "name": "ipython",
    "version": 3
   },
   "file_extension": ".py",
   "mimetype": "text/x-python",
   "name": "python",
   "nbconvert_exporter": "python",
   "pygments_lexer": "ipython3",
   "version": "3.10.14"
  }
 },
 "nbformat": 4,
 "nbformat_minor": 2
}
