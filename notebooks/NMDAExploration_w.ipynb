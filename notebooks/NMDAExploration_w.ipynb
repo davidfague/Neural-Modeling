{
 "cells": [
  {
   "cell_type": "code",
   "execution_count": 1,
   "metadata": {},
   "outputs": [],
   "source": [
    "import pandas as pd\n",
    "import h5py\n",
    "import numpy as np\n",
    "import matplotlib.pyplot as plt\n",
    "import seaborn as sns\n",
    "import scipy.signal as ss\n",
    "\n",
    "def voltage_criterion(data=None, v_thresh=-40, time_thresh=260):\n",
    "    threshold_crossings = np.diff(data > v_thresh, prepend=False)\n",
    "    upward_crossings = np.argwhere(threshold_crossings)[::2,0]\n",
    "    downward_crossings = np.argwhere(threshold_crossings)[1::2,0]\n",
    "    # If length of threshold_crossings is not even\n",
    "    if np.mod(np.argwhere(threshold_crossings).reshape(-1,).shape[0],2)!=0:\n",
    "        legit_up_crossings = upward_crossings[:-1][np.diff(np.argwhere(threshold_crossings).reshape(-1,))[::2]>time_thresh]\n",
    "        legit_down_crossings = downward_crossings[np.diff(np.argwhere(threshold_crossings).reshape(-1,))[::2]>time_thresh]\n",
    "    else:\n",
    "        legit_up_crossings = upward_crossings[np.diff(np.argwhere(threshold_crossings).reshape(-1,))[::2]>time_thresh]\n",
    "        legit_down_crossings = downward_crossings[np.diff(np.argwhere(threshold_crossings).reshape(-1,))[::2]>time_thresh]\n",
    "    return upward_crossings, legit_up_crossings, legit_down_crossings\n",
    "\n",
    "# Input: upward and downward crossings\n",
    "# Output: bounds of NMDA spikes meeting current criterion\n",
    "def current_criterion(legit_uc_iso=[], legit_dc_iso=[], p=1, control_inmda=np.array([1])):\n",
    "    bounds = []\n",
    "    sum_current = []\n",
    "    \n",
    "\n",
    "    for ind1 in np.arange(0,len(legit_uc_iso)):\n",
    "        e1 = control_inmda[legit_uc_iso[ind1], p] #current @ up_crossing[ind1]\n",
    "        #all the indices where current crosses 130% of e1\n",
    "        x30 = np.argwhere(np.diff(control_inmda[legit_uc_iso[ind1]:legit_dc_iso[ind1], p] < 1.3*e1, prepend=False))\n",
    "        #all the indices where current crosses 115% of e1\n",
    "        x15 = np.argwhere(np.diff(control_inmda[legit_uc_iso[ind1]:legit_dc_iso[ind1], p] < 1.15*e1, prepend=False))\n",
    "        \n",
    "        if len(x30)>0:\n",
    "        \n",
    "            x15_copy = x15\n",
    "            x30_copy = x30\n",
    "            \n",
    "            try:\n",
    "                i = x30[0][0]\n",
    "            except:\n",
    "                import pdb; pdb.set_trace()\n",
    "                \n",
    "            n = 0\n",
    "            \n",
    "            \n",
    "            while n==0:\n",
    "                if len(np.sort(x15[x15>i]))!=0:\n",
    "                    b1 = i\n",
    "                    b2 = np.sort(x15[x15>i])[0]\n",
    "                    bounds.append([legit_uc_iso[ind1]+b1,legit_uc_iso[ind1]+b2])\n",
    "                    sum_current.append(np.sum(control_inmda[legit_uc_iso[ind1]+b1:legit_uc_iso[ind1]+b2,p])/10)\n",
    "                else:\n",
    "                    b1 = i\n",
    "                    b2 = (legit_dc_iso[ind1]-legit_uc_iso[ind1])\n",
    "                    bounds.append([legit_uc_iso[ind1]+b1,legit_uc_iso[ind1]+b2])\n",
    "                    sum_current.append(np.sum(control_inmda[legit_uc_iso[ind1]+b1:legit_uc_iso[ind1]+b2,p])/10)\n",
    "                    n=1\n",
    "                \n",
    "                x30_copy = x30_copy[x30_copy>legit_uc_iso[ind1]+b2]\n",
    "                #import pdb; pdb.set_trace()\n",
    "                \n",
    "                if len(x30_copy)!=0:\n",
    "                    i = x30_copy[x30_copy>b2][0]\n",
    "                else:\n",
    "                    n=1\n",
    "    return bounds, sum_current\n",
    "\n"
   ]
  },
  {
   "cell_type": "code",
   "execution_count": 2,
   "metadata": {},
   "outputs": [],
   "source": [
    "# import sys\n",
    "# sys.path.append(\"../../../\")\n",
    "# sys.path.append(\"../../../Modules/\")\n",
    "# import analysis\n",
    "# sim_directory = '/home/vovwm/reduced_model/Neural-Modeling/scripts/2024-09-18-17-09-49-SkeletonCell.Hay/test'\n",
    " "
   ]
  },
  {
   "cell_type": "code",
   "execution_count": null,
   "metadata": {},
   "outputs": [
    {
     "name": "stdout",
     "output_type": "stream",
     "text": [
      "/home/drfrbc/Neural-Modeling/scripts\n"
     ]
    },
    {
     "name": "stderr",
     "output_type": "stream",
     "text": [
      "Warning: no DISPLAY environment variable.\n",
      "--No graphics will be displayed.\n"
     ]
    }
   ],
   "source": [
    "ben=False\n",
    "if ben:\n",
    "    dur_to_use = 150\n",
    "    soma_id_to_use = 2\n",
    "    %cd ../scripts/L5BaselineResults/\n",
    "    v = np.array(h5py.File('v_report.h5','r')['report']['biophysical']['data'])\n",
    "    hva = np.array(h5py.File('Ca_HVA.ica_report.h5','r')['report']['biophysical']['data'])\n",
    "    lva = np.array(h5py.File('Ca_LVAst.ica_report.h5','r')['report']['biophysical']['data'])\n",
    "    ih = np.array(h5py.File('Ih.ihcn_report.h5','r')['report']['biophysical']['data'])\n",
    "    nmda = np.array(h5py.File('inmda_report.h5','r')['report']['biophysical']['data'])\n",
    "    na = np.array(h5py.File('NaTa_t.gNaTa_t_report.h5','r')['report']['biophysical']['data'])\n",
    "    spks = h5py.File('spikes.h5','r')\n",
    "    spktimes = spks['spikes']['biophysical']['timestamps'][:]\n",
    "    spkinds = np.sort((spktimes*10).astype(int))\n",
    "\n",
    "    na_df = pd.read_csv('na.csv')\n",
    "    ca_df = pd.read_csv('ca.csv')\n",
    "    nmda_df = pd.read_csv('nmda.csv')\n",
    "else:\n",
    "    dur_to_use = 150\n",
    "    soma_id_to_use = 0\n",
    "    sim_directory = '2024-10-12-00-28-34-ZiaoSynapses_final_detailed_refactored150sec/Complex_InhGmaxApic204_InhGmaxDend7.0_SomaGmax6.0_ExcGmax-1.0351_Np1000'\n",
    "    #'2024-10-11-14-32-54-BenSynapses_final_detailed150sec/Complex_InhGmaxApic7.1_InhGmaxDend0.0016_SomaGmax0.0025_ExcGmax-1.0351_Np1000/' # ben synapses refactored detailed 150 sec\n",
    "    #'2024-08-29-12-19-13-CheckdSpikes_AfterTuningSynapses_AfterUpdateExcRates/Complex_InhGmaxApic204_InhGmaxDend7.0_SomaGmax6.0_ExcGmax-1.0351_Np1000'\n",
    "    # BEN SYNAPSES:'2024-10-10-15-46-14-BenSynapses_final_detailed/Complex_InhGmaxApic7.1_InhGmaxDend0.0016_SomaGmax0.0025_ExcGmax-1.0351_Np1000'\n",
    "    #'2024-09-16-09-35-21-TuningBenInhSynapses/Complex_InhGmaxApic7.1_InhGmaxDend0.0016_SomaGmax0.0025_ExcGmax-1.0351_Np1000'\n",
    "    #'2024-08-29-12-19-13-CheckdSpikes_AfterTuningSynapses_AfterUpdateExcRates/Complex_InhGmaxApic204_InhGmaxDend7.0_SomaGmax6.0_ExcGmax-1.0351_Np1000'\n",
    "    #'2024-08-09-09-19-21-2500Segs_TripleNa/Complex_Np5'\n",
    "    # sim_directory = '2024-07-24-15-59-37-STA/Complex_Np5'33\n",
    "    #'2024-07-12-12-17-52-STA/Complex_Np5'\n",
    "    %cd ../scripts/\n",
    "    import sys\n",
    "    sys.path.append(\"../\")\n",
    "    sys.path.append(\"../Modules/\")\n",
    "    import analysis\n",
    "    na = analysis.DataReader.read_data(sim_directory, \"gNaTa_t_NaTa_t\").T\n",
    "    spks = analysis.DataReader.read_data(sim_directory, \"soma_spikes\")\n",
    "    v = analysis.DataReader.read_data(sim_directory, \"v\").T\n",
    "    hva = analysis.DataReader.read_data(sim_directory, \"ica_Ca_HVA\").T\n",
    "    lva = analysis.DataReader.read_data(sim_directory, \"ica_Ca_LVAst\").T\n",
    "    # ih = analysis.DataReader.read_data(sim_directory, \"ihcn_Ih\").T\n",
    "    nmda = analysis.DataReader.read_data(sim_directory, \"i_NMDA\").T\n",
    "    # nmda = analysis.DataReader.read_data(sim_directory, \"inmda\").T\n",
    "    # na = analysis.DataReader.read_data(sim_directory, \"na\")\n",
    "    spktimes = spks[0][:]\n",
    "    spkinds = np.sort((spktimes*10).astype(int))\n",
    "\n",
    "    import os\n",
    "    na_df = pd.read_csv(os.path.join(sim_directory,'na.csv'))\n",
    "    ca_df = pd.read_csv(os.path.join(sim_directory,'ca.csv'))\n",
    "    nmda_df = pd.read_csv(os.path.join(sim_directory,'nmda.csv'))"
   ]
  },
  {
   "cell_type": "code",
   "execution_count": 4,
   "metadata": {},
   "outputs": [],
   "source": [
    "if ben:\n",
    "    # segs = pd.read_csv('/Volumes/TOSHIBA EXT/L5NeuronSimulation_new/L5NeuronSimulation/MorphAnalysis/Segments.csv')\n",
    "    segs = pd.read_csv('Segments.csv')\n",
    "    segs_degrees = pd.read_csv('SegmentsDegrees.csv').groupby(['Type','Sec ID'])['Degrees'].max().reset_index()\n",
    "    segs['segmentID'] = segs.index\n",
    "    segs = segs.set_index(['Type','Sec ID']).join(segs_degrees.set_index(['Type','Sec ID'])).reset_index()\n",
    "\n",
    "    segs['Sec ID'] = segs['Sec ID'].astype(int)\n",
    "    segs['X'] = segs['X'].astype(float)\n",
    "    segs['Elec_distanceQ'] = 'None'\n",
    "\n",
    "    segs.loc[segs.Type=='dend','Elec_distanceQ'] = pd.qcut(segs.loc[segs.Type=='dend','Elec_distance'], 10, labels=False)\n",
    "    segs.loc[segs.Type=='apic','Elec_distanceQ'] = pd.qcut(segs.loc[segs.Type=='apic','Elec_distance'], 10, labels=False)\n",
    "else:\n",
    "    import os\n",
    "    segs = pd.read_csv(os.path.join(sim_directory, \"segment_data.csv\"))\n",
    "    # make same\n",
    "    segs['Sec ID'] = segs['idx_in_section_type']\n",
    "    segs['Type'] = segs['section']\n",
    "    segs['Coord X'] = segs['pc_0']\n",
    "    segs['Coord Y'] = segs['pc_1']\n",
    "    segs['Coord Z'] = segs['pc_2']\n",
    "    elec_dist = pd.read_csv(os.path.join(sim_directory, f\"elec_distance_{'soma'}.csv\"))\n",
    "    segs['Elec_distance'] = elec_dist['25_active']\n",
    "    elec_dist = pd.read_csv(os.path.join(sim_directory, f\"elec_distance_{'nexus'}.csv\"))\n",
    "    segs['Elec_distance_nexus'] = elec_dist['25_active']\n",
    "    Xs = []\n",
    "    for seg in segs['seg']:\n",
    "        Xs.append(seg.split('(')[-1].split(')')[0])\n",
    "    segs['X'] = Xs\n",
    "\n",
    "    # continue\n",
    "    segs['segmentID'] = segs.index\n",
    "\n",
    "    segs['Sec ID'] = segs['Sec ID'].astype(int)\n",
    "    segs['X'] = segs['X'].astype(float)\n",
    "    segs['Elec_distanceQ'] = 'None'\n",
    "\n",
    "    segs.loc[segs.Type=='dend','Elec_distanceQ'] = pd.qcut(segs.loc[segs.Type=='dend','Elec_distance'], 10, labels=False)\n",
    "    segs.loc[segs.Type=='apic','Elec_distanceQ'] = pd.qcut(segs.loc[segs.Type=='apic','Elec_distance'], 10, labels=False)"
   ]
  },
  {
   "cell_type": "code",
   "execution_count": 5,
   "metadata": {},
   "outputs": [],
   "source": [
    "# output_folder = 'output_control'\n",
    "\n",
    "# conns = pd.read_csv('./{}/Connections.csv'.format(output_folder))\n"
   ]
  },
  {
   "cell_type": "code",
   "execution_count": 6,
   "metadata": {},
   "outputs": [],
   "source": [
    "# conns.loc[conns.Type=='dend','Sec ID'] = conns.loc[conns.Type=='dend','Name'].apply(lambda x: int(x.split('dend[')[1].split(']')[0]))\n",
    "# conns.loc[conns.Type=='apic','Sec ID'] = conns.loc[conns.Type=='apic','Name'].apply(lambda x: int(x.split('apic[')[1].split(']')[0]))\n",
    "# conns.loc[conns.Type=='soma','Sec ID'] = conns.loc[conns.Type=='soma','Name'].apply(lambda x: int(x.split('soma[')[1].split(']')[0]))\n",
    "# conns.loc[conns.Type=='axon','Sec ID'] = conns.loc[conns.Type=='axon','Name'].apply(lambda x: int(x.split('axon[')[1].split(']')[0]))\n",
    "\n",
    "# conns['X'] = conns['Name'].apply(lambda x: float(x.split('(')[1].split(')')[0]))\n",
    "\n",
    "# conns.rename(columns={'Distance':'conns_Distance'},inplace=True)\n",
    "\n",
    "# conns['Sec ID'] = conns['Sec ID'].astype(int)\n",
    "# conns['X'] = conns['X'].astype(float)"
   ]
  },
  {
   "cell_type": "code",
   "execution_count": 7,
   "metadata": {},
   "outputs": [],
   "source": [
    "# conns.head()"
   ]
  },
  {
   "cell_type": "code",
   "execution_count": 8,
   "metadata": {},
   "outputs": [],
   "source": [
    "# segs = pd.read_csv('L5Segments.csv')\n",
    "# segs_degrees = pd.read_csv('SegmentsDegrees.csv').groupby(['Type','Sec ID'])['Degrees'].max().reset_index()\n",
    "# segs['segmentID'] = segs.index\n",
    "# segs = segs.set_index(['Type','Sec ID']).join(segs_degrees.set_index(['Type','Sec ID'])).reset_index()\n",
    "\n",
    "# segs['Sec ID'] = segs['Sec ID'].astype(int)\n",
    "# segs['X'] = segs['X'].astype(float)\n",
    "# segs['Elec_distanceQ'] = 'None'\n",
    "\n",
    "# segs.loc[segs.Type=='dend','Elec_distanceQ'] = pd.qcut(segs.loc[segs.Type=='dend','Elec_distance'], 10, labels=False)\n",
    "# segs.loc[segs.Type=='apic','Elec_distanceQ'] = pd.qcut(segs.loc[segs.Type=='apic','Elec_distance'], 10, labels=False)"
   ]
  },
  {
   "cell_type": "code",
   "execution_count": 9,
   "metadata": {},
   "outputs": [],
   "source": [
    "# import os\n",
    "# segs = pd.read_csv(os.path.join(sim_directory, \"segment_data.csv\"))\n",
    "# # make same\n",
    "# segs['Sec ID'] = segs['idx_in_section_type']\n",
    "# segs['Type'] = segs['section']\n",
    "# segs['Coord X'] = segs['pc_0']\n",
    "# segs['Coord Y'] = segs['pc_1']\n",
    "# segs['Coord Z'] = segs['pc_2']\n",
    "# elec_dist = pd.read_csv(os.path.join(sim_directory, f\"elec_distance_{'soma'}.csv\"))\n",
    "# segs['Elec_distance'] = elec_dist['25_active']\n",
    "# elec_dist = pd.read_csv(os.path.join(sim_directory, f\"elec_distance_{'nexus'}.csv\"))\n",
    "# segs['Elec_distance_nexus'] = elec_dist['25_active']\n",
    "# Xs = []\n",
    "# for seg in segs['seg']:\n",
    "#     Xs.append(seg.split('(')[-1].split(')')[0])\n",
    "# segs['X'] = Xs\n",
    "\n",
    "# # continue\n",
    "# segs['segmentID'] = segs.index\n",
    "\n",
    "# segs['Sec ID'] = segs['Sec ID'].astype(int)\n",
    "# segs['X'] = segs['X'].astype(float)\n",
    "# segs['Elec_distanceQ'] = 'None'\n",
    "\n",
    "# segs.loc[segs.Type=='dend','Elec_distanceQ'] = pd.qcut(segs.loc[segs.Type=='dend','Elec_distance'], 10, labels=False)\n",
    "# segs.loc[segs.Type=='apic','Elec_distanceQ'] = pd.qcut(segs.loc[segs.Type=='apic','Elec_distance'], 10, labels=False)"
   ]
  },
  {
   "cell_type": "code",
   "execution_count": 10,
   "metadata": {},
   "outputs": [],
   "source": [
    "# exc_syns_per_seg = conns[conns['Source Population']=='exc_stim'].groupby(['Type','Sec ID','X'])['Conductance'].count().reset_index().rename(columns={'Conductance':'num_syns'})\n",
    "\n",
    "\n"
   ]
  },
  {
   "cell_type": "code",
   "execution_count": 11,
   "metadata": {},
   "outputs": [],
   "source": [
    "# exc_syns_per_seg.head()"
   ]
  },
  {
   "cell_type": "code",
   "execution_count": 12,
   "metadata": {},
   "outputs": [],
   "source": [
    "# segs['segmentID'] = segs.groupby(['Type','Sec ID']).cumcount()+1"
   ]
  },
  {
   "cell_type": "code",
   "execution_count": 13,
   "metadata": {},
   "outputs": [],
   "source": [
    "# exc_syns_per_seg['segmentID'] = exc_syns_per_seg.groupby(['Type','Sec ID']).cumcount()+1"
   ]
  },
  {
   "cell_type": "code",
   "execution_count": 14,
   "metadata": {},
   "outputs": [],
   "source": [
    "# exc_syns = segs.set_index(['Type','Sec ID','segmentID']).join(exc_syns_per_seg[['Type','Sec ID','segmentID','num_syns']].set_index(['Type','Sec ID','segmentID'])).reset_index()\n"
   ]
  },
  {
   "cell_type": "code",
   "execution_count": 15,
   "metadata": {},
   "outputs": [],
   "source": [
    "# v = h5py.File('./{}/v_report.h5'.format(output_folder),'r')\n",
    "# hva = h5py.File('./{}/Ca_HVA.ica_report.h5'.format(output_folder),'r')\n",
    "# lva = h5py.File('./{}/Ca_LVAst.ica_report.h5'.format(output_folder),'r')\n",
    "# ih = h5py.File('./{}/Ih.ihcn_report.h5'.format(output_folder),'r')\n",
    "\n",
    "# nmda = h5py.File('./{}/inmda_report.h5'.format(output_folder),'r')\n",
    "\n",
    "# na = h5py.File('./{}/NaTa_t.gNaTa_t_report.h5'.format(output_folder),'r')\n",
    "# spks = h5py.File('./{}/spikes.h5'.format(output_folder),'r')"
   ]
  },
  {
   "cell_type": "code",
   "execution_count": 16,
   "metadata": {},
   "outputs": [],
   "source": [
    "   \n",
    "# na = analysis.DataReader.read_data(sim_directory, \"gNaTa_t_NaTa_t\").T\n",
    "# spks = analysis.DataReader.read_data(sim_directory, \"soma_spikes\")\n",
    "# v = analysis.DataReader.read_data(sim_directory, \"v\").T\n",
    "# hva = analysis.DataReader.read_data(sim_directory, \"ica_Ca_HVA\").T\n",
    "# lva = analysis.DataReader.read_data(sim_directory, \"ica_Ca_LVAst\").T\n",
    "# ih = analysis.DataReader.read_data(sim_directory, \"ihcn_Ih\").T\n",
    "# nmda = analysis.DataReader.read_data(sim_directory, \"i_NMDA\").T\n",
    "# # na = analysis.DataReader.read_data(sim_directory, \"na\")\n",
    "# spktimes = spks[0][:]\n",
    "# spkinds = np.sort((spktimes*10).astype(int))"
   ]
  },
  {
   "cell_type": "code",
   "execution_count": 17,
   "metadata": {},
   "outputs": [],
   "source": [
    "# spktimes = spks['spikes']['biophysical']['timestamps'][:]\n",
    "# spkinds = np.sort((spktimes*10).astype(int))"
   ]
  },
  {
   "cell_type": "code",
   "execution_count": 18,
   "metadata": {},
   "outputs": [],
   "source": [
    "# na_df = pd.DataFrame(columns=['segmentID','na_lower_bound'])\n",
    "\n",
    "# for p in segs[(segs.Type=='dend')|(segs.Type=='apic')].index:\n",
    "#     print(p)\n",
    "#     threshold_crossings = np.diff(na['report']['biophysical']['data'][:,p] > 0.003, prepend=False)\n",
    "#     upward_crossings = np.argwhere(threshold_crossings)[::2,0]\n",
    "#     downward_crossings = np.argwhere(threshold_crossings)[1::2,0]\n",
    "#     # Only count if not within 2 ms after a somatic spike\n",
    "#     na_spks = [i for i in upward_crossings if ~np.any((i-spkinds>=-5) & (i-spkinds<50))]\n",
    "    \n",
    "#     if len(na_spks)>0:\n",
    "#         na_df = na_df.append(pd.DataFrame({'segmentID':np.tile(p,len(na_spks)),\n",
    "#                                                'na_lower_bound':na_spks}))\n",
    "#     else:\n",
    "#         na_df = na_df.append(pd.DataFrame({'segmentID':p,\n",
    "#                                                'na_lower_bound':np.array([np.nan])}))"
   ]
  },
  {
   "cell_type": "code",
   "execution_count": 19,
   "metadata": {},
   "outputs": [],
   "source": [
    "#na_df.to_csv('64Hz_soma_inh_na_df.csv')\n",
    "# na_df = pd.read_csv('na.csv')"
   ]
  },
  {
   "cell_type": "code",
   "execution_count": 20,
   "metadata": {},
   "outputs": [],
   "source": [
    "# may have to run this multiple times\n",
    "for i in np.random.choice(na_df[(na_df.na_lower_bound>20) & (na_df.na_lower_bound<1400000)].index,10000):\n",
    "    seg = na_df.loc[i,'segmentID']\n",
    "    if not pd.isnull(na_df.loc[i,'na_lower_bound']):\n",
    "        spkt = int(na_df.loc[i,'na_lower_bound'])\n",
    "        trace = na[spkt-10:spkt+10,seg]\n",
    "        peak_value = np.max(trace)\n",
    "        half_peak = peak_value/2\n",
    "        duration = np.arange(0,20)[trace>half_peak] + spkt - 10\n",
    "        na_df.loc[i,'duration_low'] = duration[0]\n",
    "        na_df.loc[i,'duration_high'] = duration[-1]\n",
    "        na_df.loc[i,'peak_value'] = peak_value\n",
    "    else:\n",
    "        na_df.loc[i,'duration_low'] = np.nan\n",
    "        na_df.loc[i,'duration_high'] = np.nan\n",
    "        na_df.loc[i,'peak_value'] = np.nan"
   ]
  },
  {
   "cell_type": "code",
   "execution_count": 21,
   "metadata": {},
   "outputs": [],
   "source": [
    "na_df['duration'] = (na_df['duration_high'] - na_df['duration_low'] + 1)/10"
   ]
  },
  {
   "cell_type": "code",
   "execution_count": 22,
   "metadata": {},
   "outputs": [],
   "source": [
    "segs_na_df = segs.set_index('segmentID').combine_first(na_df.set_index('segmentID')).reset_index()"
   ]
  },
  {
   "cell_type": "code",
   "execution_count": 23,
   "metadata": {},
   "outputs": [],
   "source": [
    "def get_sta(segs_na_df, spktimes):\n",
    "    na_dend = np.zeros((10,39,))\n",
    "    na_apic = np.zeros((10,39,))\n",
    "    \n",
    "    edges_dend=np.quantile(segs_na_df[(~pd.isnull(segs_na_df.na_lower_bound))&\n",
    "                                       (segs_na_df.Type=='dend')]['Elec_distance'].unique(),np.arange(0,1.1,0.1))\n",
    "    \n",
    "    edges_apic=np.quantile(segs_na_df[(~pd.isnull(segs_na_df.na_lower_bound))&\n",
    "                                       (segs_na_df.Type=='apic')]['Elec_distance'].unique(),np.arange(0,1.1,0.1))\n",
    "    \n",
    "    actual_spktimes = []\n",
    "    c = 0\n",
    "    for i in np.sort(spktimes):\n",
    "        # excludes bursts\n",
    "        if i-c > 10:\n",
    "            for e in np.arange(0,10):\n",
    "                na_inds = segs_na_df[(~pd.isnull(segs_na_df.na_lower_bound))&\n",
    "                                     (segs_na_df.Type=='dend')&\n",
    "                                     (segs_na_df.Elec_distance>edges_dend[e])&\n",
    "                                     (segs_na_df.Elec_distance<=edges_dend[e+1])]['na_lower_bound'].values.astype(int)\n",
    "    \n",
    "                x2, _ = np.histogram(na_inds/10,bins=np.arange(np.floor(i)-20,np.floor(i)+20,1))\n",
    "                na_dend[e] += x2\n",
    "                \n",
    "                na_inds = segs_na_df[(~pd.isnull(segs_na_df.na_lower_bound))&\n",
    "                                     (segs_na_df.Type=='apic')&\n",
    "                                     (segs_na_df.Elec_distance>edges_apic[e])&\n",
    "                                     (segs_na_df.Elec_distance<=edges_apic[e+1])]['na_lower_bound'].values.astype(int)\n",
    "    \n",
    "                x2, _ = np.histogram(na_inds/10,bins=np.arange(np.floor(i)-20,np.floor(i)+20,1))\n",
    "                na_apic[e] += x2\n",
    "            \n",
    "            actual_spktimes.append(i)\n",
    "        c = i\n",
    "    return na_dend, na_apic"
   ]
  },
  {
   "cell_type": "code",
   "execution_count": 24,
   "metadata": {},
   "outputs": [],
   "source": [
    "na_dend, na_apic = get_sta(segs_na_df, spktimes)"
   ]
  },
  {
   "cell_type": "code",
   "execution_count": 25,
   "metadata": {},
   "outputs": [],
   "source": [
    "# rand_spktimes = np.sort(np.random.choice(np.arange(0,150000), spktimes.shape[0]))\n",
    "rand_spktimes = np.sort(np.random.choice(np.arange(0,dur_to_use*1000), spktimes.shape[0]))"
   ]
  },
  {
   "cell_type": "code",
   "execution_count": 26,
   "metadata": {},
   "outputs": [],
   "source": [
    "na_dend_rand, na_apic_rand = get_sta(segs_na_df, rand_spktimes)"
   ]
  },
  {
   "cell_type": "code",
   "execution_count": null,
   "metadata": {},
   "outputs": [],
   "source": [
    "plt.figure(figsize=(10,10))\n",
    "plt.subplot(2,1,1)\n",
    "plt.title('Na spikes - apical')\n",
    "plt.imshow((na_apic-na_apic_rand)/len(spktimes),cmap='jet',vmin=-0.5)\n",
    "plt.colorbar(label='additional events per AP')\n",
    "plt.xticks(ticks=np.arange(0,40,5)-0.5,labels=['{}'.format(i) for i in np.arange(-20,20,5)])\n",
    "plt.yticks(ticks=[0,9],labels=['further','closer'])\n",
    "plt.xlim(5,35)\n",
    "\n",
    "plt.subplot(2,1,2)\n",
    "plt.title('Na spikes - basal')\n",
    "plt.imshow((na_dend-na_dend_rand)/len(spktimes),cmap='jet',vmin=-0.2, vmax=0.2)\n",
    "plt.colorbar(label='additional events per AP')\n",
    "plt.xticks(ticks=np.arange(0,40,5)-0.5,labels=['{}'.format(i) for i in np.arange(-20,20,5)])\n",
    "plt.yticks(ticks=[0,9],labels=['further','closer'])\n",
    "plt.xlabel('time(ms)')\n",
    "plt.xlim(5,35)\n",
    "\n",
    "plt.show()"
   ]
  },
  {
   "cell_type": "markdown",
   "metadata": {},
   "source": [
    "----------"
   ]
  },
  {
   "cell_type": "code",
   "execution_count": 28,
   "metadata": {},
   "outputs": [],
   "source": [
    "# ca_df = pd.DataFrame(columns=['segmentID','ca_lower_bound'])\n",
    "\n",
    "# segIDs = segs[(segs.Type=='apic')]['segmentID']\n",
    "# for p in segIDs:\n",
    "#     print(p)\n",
    "#     trace = hva['report']['biophysical']['data'][:,p]+\\\n",
    "#                 lva['report']['biophysical']['data'][:,p]+\\\n",
    "#                 ih['report']['biophysical']['data'][:,p]\n",
    "#     m = np.mean(trace)\n",
    "#     s = np.std(trace)\n",
    "\n",
    "#     legit_uc = voltage_criterion(data=v['report']['biophysical']['data'][:-10000,p],v_thresh=-40, time_thresh=200)[1]\n",
    "#     legit_dc = voltage_criterion(data=v['report']['biophysical']['data'][:-10000,p],v_thresh=-40, time_thresh=200)[-1]\n",
    "    \n",
    "#     legit_uc_iso = legit_uc\n",
    "    \n",
    "#     legit_dc_iso = legit_dc\n",
    "    \n",
    "    \n",
    "#     if (len(legit_uc_iso)!=0) & (np.min(trace)!=0):\n",
    "#         bnds, sum_curr = current_criterion(legit_uc_iso=legit_uc_iso, \n",
    "#                                            legit_dc_iso=legit_dc_iso, \n",
    "#                                            p=p, \n",
    "#                                            control_inmda=hva['report']['biophysical']['data'])\n",
    "#         ca_df = ca_df.append(pd.DataFrame({'segmentID':np.tile(p,len(bnds)),\n",
    "#                                                'ca_lower_bound':np.array(bnds).reshape(-1,2)[:,0],\n",
    "#                                                'ca_upper_bound':np.array(bnds).reshape(-1,2)[:,1],\n",
    "#                                                'mag':sum_curr}))\n",
    "    \n",
    "#     else:\n",
    "#         ca_df = ca_df.append(pd.DataFrame({'segmentID':np.tile(p,1),\n",
    "#                                                'ca_lower_bound':np.nan,\n",
    "#                                                'ca_upper_bound':np.nan,\n",
    "#                                                'mag':np.nan}))"
   ]
  },
  {
   "cell_type": "code",
   "execution_count": 29,
   "metadata": {},
   "outputs": [],
   "source": [
    "# ca_df.to_csv('ca_df.csv')\n",
    "#ca_df = pd.read_csv('ca_df.csv')"
   ]
  },
  {
   "cell_type": "markdown",
   "metadata": {},
   "source": [
    "# durations"
   ]
  },
  {
   "cell_type": "code",
   "execution_count": 30,
   "metadata": {},
   "outputs": [],
   "source": [
    "# segs[(segs['Coord Y']>600)&(segs['Coord Y']<800)]"
   ]
  },
  {
   "cell_type": "code",
   "execution_count": 31,
   "metadata": {},
   "outputs": [],
   "source": [
    "# np.random.choice(segs[(segs['Coord Y']<-50)&\n",
    "#      (segs['Coord Y']>-100)&\n",
    "#      (segs['Coord X']>-50)&\n",
    "#      (segs['Coord X']<50)&\n",
    "#      (segs['Type']=='dend')]['segmentID'])"
   ]
  },
  {
   "cell_type": "markdown",
   "metadata": {},
   "source": [
    "## Plotting morphology as heat maps"
   ]
  },
  {
   "cell_type": "code",
   "execution_count": 32,
   "metadata": {},
   "outputs": [],
   "source": [
    "# exc_syns.shape"
   ]
  },
  {
   "cell_type": "code",
   "execution_count": 33,
   "metadata": {},
   "outputs": [],
   "source": [
    "# plt.figure(figsize=(4,10))\n",
    "# ax = plt.scatter(exc_syns['Coord X'], exc_syns['Coord Y'],c=np.log(exc_syns['Elec_distance']))\n",
    "# plt.vlines(110,400,500)\n",
    "# plt.text(0,450,'100 um')\n",
    "# plt.hlines(400,110,210)\n",
    "# plt.text(110,350,'100 um')\n",
    "# plt.xticks([])\n",
    "# plt.yticks([])\n",
    "# cbar = plt.colorbar()\n",
    "# cbar.ax.set_ylabel('log(elec_distance)', rotation=270)\n",
    "\n",
    "# #ax2.ax.set_title('log(elec_distance)',rotation=270)\n",
    "# plt.box(False)\n",
    "# plt.savefig('Elec_distance.svg')"
   ]
  },
  {
   "cell_type": "code",
   "execution_count": 34,
   "metadata": {},
   "outputs": [],
   "source": [
    "# exc_syns.loc[pd.isnull(exc_syns.num_syns),'num_syns'] = 0"
   ]
  },
  {
   "cell_type": "code",
   "execution_count": 35,
   "metadata": {},
   "outputs": [],
   "source": [
    "# exc_syns[exc_syns.num_syns==0].shape, exc_syns[exc_syns.num_syns!=0].shape"
   ]
  },
  {
   "cell_type": "code",
   "execution_count": 36,
   "metadata": {},
   "outputs": [],
   "source": [
    "# plt.figure(figsize=(4,10))\n",
    "# ax = plt.scatter(exc_syns['Coord X'], exc_syns['Coord Y'],c=exc_syns['num_syns'],s=4,cmap='jet')\n",
    "# plt.vlines(110,400,500)\n",
    "# plt.text(0,450,'100 um')\n",
    "# plt.hlines(400,110,210)\n",
    "# plt.text(110,350,'100 um')\n",
    "# plt.xticks([])\n",
    "# plt.yticks([])\n",
    "# cbar = plt.colorbar()\n",
    "# cbar.ax.set_ylabel('log(elec_distance)', rotation=270)\n",
    "\n",
    "# #ax2.ax.set_title('log(elec_distance)',rotation=270)\n",
    "# plt.box(False)\n",
    "# plt.savefig('exc_syns.svg')"
   ]
  },
  {
   "cell_type": "markdown",
   "metadata": {},
   "source": [
    "## Plotting morphology and voltage traces"
   ]
  },
  {
   "cell_type": "code",
   "execution_count": 37,
   "metadata": {},
   "outputs": [],
   "source": [
    "# plt.figure(figsize=(3,10))\n",
    "# ax = plt.plot(segs['Coord X'], segs['Coord Y'],'.',color='k',markersize=6)\n",
    "# plt.vlines(110,400,500)\n",
    "# plt.text(0,450,'100 um')\n",
    "# plt.hlines(400,110,210)\n",
    "# plt.text(110,350,'100 um')\n",
    "# plt.xticks([])\n",
    "# plt.yticks([])\n",
    "# plt.box(False)\n",
    "# plt.plot(segs.loc[segs.segmentID==1959,'Coord X'], \n",
    "#          segs.loc[segs.segmentID==1959,'Coord Y'],\n",
    "#          'r*')\n",
    "# plt.plot(segs.loc[segs.segmentID==1112,'Coord X'], \n",
    "#          segs.loc[segs.segmentID==1112,'Coord Y'],\n",
    "#          'b*')\n",
    "# plt.plot(segs.loc[segs.segmentID==1046,'Coord X'], \n",
    "#          segs.loc[segs.segmentID==1046,'Coord Y'],\n",
    "#          'm*')\n",
    "# plt.plot(segs.loc[segs.segmentID==1500,'Coord X'], \n",
    "#          segs.loc[segs.segmentID==1500,'Coord Y'],\n",
    "#          'g*')\n",
    "# plt.plot(segs.loc[segs.segmentID==680,'Coord X'], \n",
    "#          segs.loc[segs.segmentID==680,'Coord Y'],\n",
    "#          '*',color='orange')\n",
    "# plt.plot(segs.loc[segs.segmentID==482,'Coord X'], \n",
    "#          segs.loc[segs.segmentID==482,'Coord Y'],\n",
    "#          '*',color='grey')\n",
    "# plt.savefig('fig1A.svg')"
   ]
  },
  {
   "cell_type": "code",
   "execution_count": 38,
   "metadata": {},
   "outputs": [],
   "source": [
    "# v = h5py.File('../../../L5NeuronSimulation_expts/L5_control/L5_control_exc_med/L5NeuronSimulation/FullSimulation/output/v_report.h5','r')\n"
   ]
  },
  {
   "cell_type": "code",
   "execution_count": 39,
   "metadata": {},
   "outputs": [],
   "source": [
    "# t"
   ]
  },
  {
   "cell_type": "code",
   "execution_count": 40,
   "metadata": {},
   "outputs": [],
   "source": [
    "# t = np.random.choice(segs[(segs['Coord Y']<-50)&\n",
    "#      (segs['Coord Y']>-100)&\n",
    "#      (segs['Coord X']>-50)&\n",
    "#      (segs['Coord X']<50)&\n",
    "#      (segs['Type']=='dend')]['segmentID'])\n",
    "\n",
    "# plt.figure(figsize=(10,4))\n",
    "# s1 = 323548+1500#np.random.choice(range(v['report']['biophysical']['data'].shape[0]))\n",
    "# plt.plot(np.arange(0,400,.1),v['report']['biophysical']['data'][s1:s1+4000,t],color='grey')\n",
    "# #1433413, 1161455\n",
    "# plt.hlines(-50,70,100)\n",
    "# plt.text(70,-55,'30 ms')\n",
    "# plt.vlines(70,-50,-40)\n",
    "# plt.text(40,-45,'10 mV')\n",
    "# plt.box(False)\n",
    "# plt.xticks([])\n",
    "# plt.yticks([])\n",
    "# plt.savefig('fig2G.svg')"
   ]
  },
  {
   "cell_type": "code",
   "execution_count": 41,
   "metadata": {},
   "outputs": [],
   "source": [
    "# plt.figure(figsize=(10,4))\n",
    "# s1 = 323548+1500#np.random.choice(range(v['report']['biophysical']['data'].shape[0]))\n",
    "# plt.plot(np.arange(0,400,.1),v['report']['biophysical']['data'][s1:s1+4000,680],color='orange')\n",
    "# #1433413, 1161455\n",
    "# plt.hlines(-50,70,100)\n",
    "# plt.text(70,-55,'30 ms')\n",
    "# plt.vlines(70,-50,-40)\n",
    "# plt.text(40,-45,'10 mV')\n",
    "# plt.box(False)\n",
    "# plt.xticks([])\n",
    "# plt.yticks([])\n",
    "# plt.savefig('fig2F.svg')"
   ]
  },
  {
   "cell_type": "code",
   "execution_count": 42,
   "metadata": {},
   "outputs": [],
   "source": [
    "# plt.figure(figsize=(10,4))\n",
    "# s1 = 323548+1500#np.random.choice(range(v['report']['biophysical']['data'].shape[0]))\n",
    "# plt.plot(np.arange(0,400,.1),v['report']['biophysical']['data'][s1:s1+4000,0],color='k')\n",
    "# #1433413, 1161455\n",
    "# plt.hlines(-50,70,100)\n",
    "# plt.text(70,-55,'30 ms')\n",
    "# plt.vlines(70,-50,-40)\n",
    "# plt.text(40,-45,'10 mV')\n",
    "# plt.box(False)\n",
    "# plt.xticks([])\n",
    "# plt.yticks([])\n",
    "# plt.savefig('fig2E.svg')"
   ]
  },
  {
   "cell_type": "code",
   "execution_count": 43,
   "metadata": {},
   "outputs": [],
   "source": [
    "# plt.figure(figsize=(10,4))\n",
    "# s1 = 323548+1500#np.random.choice(range(v['report']['biophysical']['data'].shape[0]))\n",
    "# plt.plot(np.arange(0,400,.1),v['report']['biophysical']['data'][s1:s1+4000,1500],color='g')\n",
    "# #1433413, 1161455\n",
    "# plt.hlines(-50,70,100)\n",
    "# plt.text(70,-55,'30 ms')\n",
    "# plt.vlines(70,-50,-40)\n",
    "# plt.text(40,-45,'10 mV')\n",
    "# plt.box(False)\n",
    "# plt.xticks([])\n",
    "# plt.yticks([])\n",
    "# plt.savefig('fig2C.svg')"
   ]
  },
  {
   "cell_type": "code",
   "execution_count": 44,
   "metadata": {},
   "outputs": [],
   "source": [
    "# plt.figure(figsize=(10,4))\n",
    "# s1 = 323548+1500#np.random.choice(range(v['report']['biophysical']['data'].shape[0]))\n",
    "# plt.plot(np.arange(0,400,.1),v['report']['biophysical']['data'][s1:s1+4000,1046],color='m')\n",
    "# #1433413, 1161455\n",
    "# plt.hlines(-50,70,100)\n",
    "# plt.text(70,-55,'30 ms')\n",
    "# plt.vlines(70,-50,-40)\n",
    "# plt.text(40,-45,'10 mV')\n",
    "# plt.box(False)\n",
    "# plt.xticks([])\n",
    "# plt.yticks([])\n",
    "# plt.savefig('fig2D.svg')"
   ]
  },
  {
   "cell_type": "code",
   "execution_count": 45,
   "metadata": {},
   "outputs": [],
   "source": [
    "# plt.figure(figsize=(10,4))\n",
    "# s1 = 323548+1500#np.random.choice(range(v['report']['biophysical']['data'].shape[0]))\n",
    "# plt.plot(np.arange(0,400,.1),v['report']['biophysical']['data'][s1:s1+4000,1112],color='b')\n",
    "# #1433413, 1161455\n",
    "# plt.hlines(-50,70,100)\n",
    "# plt.text(70,-55,'30 ms')\n",
    "# plt.vlines(70,-50,-40)\n",
    "# plt.text(40,-45,'10 mV')\n",
    "# plt.box(False)\n",
    "# plt.xticks([])\n",
    "# plt.yticks([])\n",
    "# plt.savefig('fig2B.svg')"
   ]
  },
  {
   "cell_type": "code",
   "execution_count": 46,
   "metadata": {},
   "outputs": [],
   "source": [
    "# plt.figure(figsize=(10,4))\n",
    "# s1 = 323548+1500#np.random.choice(range(v['report']['biophysical']['data'].shape[0]))\n",
    "# plt.plot(np.arange(0,400,.1),v['report']['biophysical']['data'][s1:s1+4000,1959],color='r')\n",
    "# #1433413, 1161455\n",
    "# plt.hlines(-60,170,200)\n",
    "# plt.text(170,-65,'30 ms')\n",
    "# plt.vlines(170,-60,-50)\n",
    "# plt.text(140,-55,'10 mV')\n",
    "# plt.box(False)\n",
    "# plt.xticks([])\n",
    "# plt.yticks([])\n",
    "# plt.savefig('fig2A.svg')"
   ]
  },
  {
   "cell_type": "code",
   "execution_count": 47,
   "metadata": {},
   "outputs": [],
   "source": [
    "# s1"
   ]
  },
  {
   "cell_type": "code",
   "execution_count": 48,
   "metadata": {},
   "outputs": [],
   "source": [
    "# plt.figure(figsize=(10,4))\n",
    "# s1 = 559133+1000#np.random.choice(range(v['report']['biophysical']['data'].shape[0]))\n",
    "# plt.plot(np.arange(0,400,.1),v['report']['biophysical']['data'][s1:s1+4000,0],color='k')\n",
    "# #1433413, 1161455\n",
    "# plt.hlines(-10,40,70)\n",
    "# plt.text(40,-15,'30 ms')\n",
    "# plt.vlines(40,-10,0)\n",
    "# plt.text(5,-5,'10 mV')\n",
    "# plt.box(False)\n",
    "# plt.xticks([])\n",
    "# plt.yticks([])"
   ]
  },
  {
   "cell_type": "code",
   "execution_count": 49,
   "metadata": {},
   "outputs": [],
   "source": [
    "# x = ca_df[~pd.isnull(ca_df.ca_lower_bound)].reset_index()\n",
    "# i = np.random.choice(x.index)"
   ]
  },
  {
   "cell_type": "code",
   "execution_count": 50,
   "metadata": {},
   "outputs": [],
   "source": [
    "# seg = 1842\n",
    "# lower_bound = 15000\n",
    "# plt.figure(figsize=(12,10))\n",
    "# plt.plot(np.arange(0,600,.1),-(hva['report']['biophysical']['data'][lower_bound-1000:lower_bound+5000,seg]+\\\n",
    "#          lva['report']['biophysical']['data'][lower_bound-1000:lower_bound+5000,seg]+\\\n",
    "#          ih['report']['biophysical']['data'][lower_bound-1000:lower_bound+5000,seg]),color='b')\n",
    "# plt.hlines(np.mean(-(hva['report']['biophysical']['data'][lower_bound-1000:lower_bound+5000,seg]+\\\n",
    "#          lva['report']['biophysical']['data'][lower_bound-1000:lower_bound+5000,seg]+\\\n",
    "#          ih['report']['biophysical']['data'][lower_bound-1000:lower_bound+5000,seg])),0,600,color='b')\n",
    "# plt.xlim(0,200)\n",
    "\n",
    "# plt.twinx()\n",
    "# plt.plot(np.arange(0,600,.1),v['report']['biophysical']['data'][lower_bound-1000:lower_bound+5000,seg],color='k')\n",
    "# plt.plot(np.arange(0,600,.1),v['report']['biophysical']['data'][lower_bound-1000:lower_bound+5000,0],color='k',alpha=0.2)\n",
    "# plt.xlim(0,200)\n"
   ]
  },
  {
   "cell_type": "code",
   "execution_count": 51,
   "metadata": {},
   "outputs": [],
   "source": [
    "# ca_df.reset_index(inplace=True)"
   ]
  },
  {
   "cell_type": "code",
   "execution_count": 52,
   "metadata": {},
   "outputs": [],
   "source": [
    "# for i in np.random.choice(ca_df[(ca_df.ca_lower_bound>2000) & (ca_df.ca_lower_bound<1400000)].index,100):\n",
    "#     seg = ca_df.loc[i,'segmentID']\n",
    "#     if not pd.isnull(ca_df.loc[i,'ca_lower_bound']):\n",
    "#         spkt = int(ca_df.loc[i,'ca_lower_bound'])\n",
    "        \n",
    "#         trace = -(hva['report']['biophysical']['data'][spkt-1000:spkt+1000,seg] + \\\n",
    "#                 lva['report']['biophysical']['data'][spkt-1000:spkt+1000,seg] + \\\n",
    "#                 ih['report']['biophysical']['data'][spkt-1000:spkt+1000,seg])\n",
    "#         peak_value = np.max(trace)\n",
    "#         half_peak = peak_value/2\n",
    "#         duration = np.arange(0,2000)[trace>half_peak] + spkt - 10\n",
    "#         ca_df.loc[i,'duration_low'] = duration[0]\n",
    "#         ca_df.loc[i,'duration_high'] = duration[-1]\n",
    "#         ca_df.loc[i,'peak_value'] = peak_value\n",
    "#     else:\n",
    "#         ca_df.loc[i,'duration_low'] = np.nan\n",
    "#         ca_df.loc[i,'duration_high'] = np.nan\n",
    "#         ca_df.loc[i,'peak_value'] = np.nan"
   ]
  },
  {
   "cell_type": "code",
   "execution_count": 53,
   "metadata": {},
   "outputs": [],
   "source": [
    "# ca_df[~pd.isnull(ca_df.duration_high)]"
   ]
  },
  {
   "cell_type": "code",
   "execution_count": 54,
   "metadata": {},
   "outputs": [],
   "source": [
    "# seg = 2403\n",
    "# lower_bound = 204744\n",
    "# #upper_bound = \n",
    "# plt.plot(-(hva['report']['biophysical']['data'][lower_bound-1000:lower_bound+1000,seg]+\\\n",
    "#          lva['report']['biophysical']['data'][lower_bound-1000:lower_bound+1000,seg]+\\\n",
    "#          ih['report']['biophysical']['data'][lower_bound-1000:lower_bound+1000,seg]))\n",
    "# plt.plot(1000,-(hva['report']['biophysical']['data'][lower_bound,seg]+\\\n",
    "#          lva['report']['biophysical']['data'][lower_bound,seg]+\\\n",
    "#          ih['report']['biophysical']['data'][lower_bound,seg]),'*')\n",
    "\n",
    "# plt.plot(1000+205494-lower_bound,-(hva['report']['biophysical']['data'][205494,seg]+\\\n",
    "#          lva['report']['biophysical']['data'][205494,seg]+\\\n",
    "#          ih['report']['biophysical']['data'][205494,seg]),'*')\n",
    "\n",
    "# plt.twinx()\n",
    "# plt.plot(v['report']['biophysical']['data'][lower_bound-1000:lower_bound+1000,seg],color='k')"
   ]
  },
  {
   "cell_type": "markdown",
   "metadata": {},
   "source": [
    "----------"
   ]
  },
  {
   "cell_type": "code",
   "execution_count": 55,
   "metadata": {},
   "outputs": [],
   "source": [
    "# ca_df = pd.read_csv('ca.csv')"
   ]
  },
  {
   "cell_type": "code",
   "execution_count": 56,
   "metadata": {},
   "outputs": [],
   "source": [
    "segs_ca_df = segs.set_index('segmentID').combine_first(ca_df.set_index('segmentID')).reset_index() "
   ]
  },
  {
   "cell_type": "code",
   "execution_count": 57,
   "metadata": {},
   "outputs": [],
   "source": [
    "def get_ca_sta(segs_ca_df, spktimes):\n",
    "\n",
    "    ca_apic = np.zeros((10,39,))\n",
    "    \n",
    "    edges_apic=np.quantile(segs_ca_df[(~pd.isnull(segs_ca_df.ca_lower_bound))&\n",
    "                                       (segs_ca_df.Type=='apic')]['Elec_distance'].unique(),np.arange(0,1.1,0.1))\n",
    "    \n",
    "    \n",
    "    \n",
    "    actual_spktimes = []\n",
    "    c = 0\n",
    "    for i in np.sort(spktimes):\n",
    "        # excludes bursts\n",
    "        if i-c > 10:\n",
    "            for e in np.arange(0,10):\n",
    "                ca_inds = segs_ca_df[(~pd.isnull(segs_ca_df.ca_lower_bound))&\n",
    "                                     (segs_ca_df.Type=='apic')&\n",
    "                                     (segs_ca_df.Elec_distance>edges_apic[e])&\n",
    "                                     (segs_ca_df.Elec_distance<=edges_apic[e+1])]['ca_lower_bound'].values.astype(int)\n",
    "    \n",
    "                x2, _ = np.histogram(ca_inds/10,bins=np.arange(np.floor(i)-20,np.floor(i)+20,1))\n",
    "                ca_apic[e] += x2\n",
    "                \n",
    "                \n",
    "            \n",
    "            actual_spktimes.append(i)\n",
    "        c = i\n",
    "    return ca_apic"
   ]
  },
  {
   "cell_type": "code",
   "execution_count": 58,
   "metadata": {},
   "outputs": [],
   "source": [
    "ca_apic = get_ca_sta(segs_ca_df, spktimes)"
   ]
  },
  {
   "cell_type": "code",
   "execution_count": 59,
   "metadata": {},
   "outputs": [],
   "source": [
    "# rand_spktimes = np.sort(np.random.choice(np.arange(0,150000), spktimes.shape[0]))\n",
    "rand_spktimes = np.sort(np.random.choice(np.arange(0,dur_to_use*1000), spktimes.shape[0]))\n",
    "ca_apic_rand = get_ca_sta(segs_ca_df, rand_spktimes)"
   ]
  },
  {
   "cell_type": "code",
   "execution_count": null,
   "metadata": {},
   "outputs": [],
   "source": []
  },
  {
   "cell_type": "code",
   "execution_count": null,
   "metadata": {},
   "outputs": [],
   "source": [
    "plt.figure(figsize=(10,10))\n",
    "plt.subplot(2,1,1)\n",
    "plt.title('Ca spikes - apical')\n",
    "plt.imshow((ca_apic-ca_apic_rand)/len(spktimes),cmap='jet')\n",
    "plt.xticks(ticks=np.arange(0,40,2)-0.5,labels=['{}'.format(i) for i in np.arange(-20,20,2)])\n",
    "plt.colorbar(label='events per AP')\n",
    "plt.yticks(ticks=[0,9],labels=['further','closer'])\n",
    "\n",
    "plt.show()"
   ]
  },
  {
   "cell_type": "markdown",
   "metadata": {},
   "source": [
    "----------------------"
   ]
  },
  {
   "cell_type": "code",
   "execution_count": 61,
   "metadata": {},
   "outputs": [],
   "source": [
    "# apic_exc = segs_conns[(segs_conns['Source Population']=='exc_stim')&(segs_conns.Type=='apic')].groupby('segmentID')['Conductance'].sum().reset_index()\n",
    "\n",
    "# basal_exc = segs_conns[(segs_conns['Source Population']=='exc_stim')&(segs_conns.Type=='dend')].groupby('segmentID')['Conductance'].sum().reset_index()\n"
   ]
  },
  {
   "cell_type": "code",
   "execution_count": 62,
   "metadata": {},
   "outputs": [],
   "source": [
    "# nmda_df = pd.DataFrame(columns=['segmentID','nmda_lower_bound', 'nmda_upper_bound', 'mag'])\n",
    "# for p in segs[(segs.Type=='dend')|(segs.Type=='apic')].index:\n",
    "#     print(p)\n",
    "#     legit_uc = voltage_criterion(data=v['report']['biophysical']['data'][:-10000,p],v_thresh=-40, time_thresh=260)[1]\n",
    "#     legit_dc = voltage_criterion(data=v['report']['biophysical']['data'][:-10000,p],v_thresh=-40, time_thresh=260)[-1]\n",
    "    \n",
    "#     legit_uc_iso = legit_uc\n",
    "    \n",
    "#     legit_dc_iso = legit_dc\n",
    "    \n",
    "    \n",
    "#     if (len(legit_uc_iso)!=0) & (np.min(nmda['report']['biophysical']['data'][:,p])!=0):\n",
    "#         bnds, sum_curr = current_criterion(legit_uc_iso=legit_uc_iso, \n",
    "#                                            legit_dc_iso=legit_dc_iso, \n",
    "#                                            p=p, \n",
    "#                                            control_inmda=nmda['report']['biophysical']['data'])\n",
    "#         nmda_df = nmda_df.append(pd.DataFrame({'segmentID':np.tile(p,len(bnds)),\n",
    "#                                                'nmda_lower_bound':np.array(bnds).reshape(-1,2)[:,0],\n",
    "#                                                'nmda_upper_bound':np.array(bnds).reshape(-1,2)[:,1],\n",
    "#                                                'mag':sum_curr}))\n",
    "    \n",
    "#     else:\n",
    "#         nmda_df = nmda_df.append(pd.DataFrame({'segmentID':np.tile(p,1),\n",
    "#                                                'nmda_lower_bound':np.nan,\n",
    "#                                                'nmda_upper_bound':np.nan,\n",
    "#                                                'mag':np.nan}))\n",
    "        "
   ]
  },
  {
   "cell_type": "code",
   "execution_count": 63,
   "metadata": {},
   "outputs": [],
   "source": [
    "#nmda_df.to_csv('64Hz_soma_inh_nmda_df.csv')\n",
    "# nmda_df = pd.read_csv('nmda.csv')"
   ]
  },
  {
   "cell_type": "code",
   "execution_count": 64,
   "metadata": {},
   "outputs": [],
   "source": [
    "nmda_df.rename(columns={'seg_id':'segmentID'},inplace=True)"
   ]
  },
  {
   "cell_type": "code",
   "execution_count": 65,
   "metadata": {},
   "outputs": [],
   "source": [
    "segs_nmda_df = segs.set_index('segmentID').combine_first(nmda_df.set_index('segmentID')).reset_index()"
   ]
  },
  {
   "cell_type": "code",
   "execution_count": 66,
   "metadata": {},
   "outputs": [],
   "source": [
    "def get_nmda_sta(segs_nmda_df, spktimes):    \n",
    "    nmda_dend = np.zeros((10,27,))\n",
    "    nmda_apic = np.zeros((10,27,))\n",
    "    \n",
    "    edges_dend=np.quantile(segs_nmda_df[(segs_nmda_df.mag<-0.1)&\n",
    "                                   (segs_nmda_df.Type=='dend')]['Elec_distance'].unique(),np.arange(0,1.1,0.1))\n",
    "    edges_apic=np.quantile(segs_nmda_df[(segs_nmda_df.mag<-0.1)&\n",
    "                                   (segs_nmda_df.Type=='apic')]['Elec_distance'].unique(),np.arange(0,1.1,0.1))\n",
    "    \n",
    "    actual_spktimes = []\n",
    "    c = 0\n",
    "    for i in np.sort(spktimes):\n",
    "        # excludes bursts\n",
    "        if i-c > 10:\n",
    "            for e in np.arange(0,10):\n",
    "                nmda_inds = segs_nmda_df[(segs_nmda_df.mag<-0.1)&\n",
    "                                     (segs_nmda_df.Type=='dend')&\n",
    "                                     (segs_nmda_df.Elec_distance>edges_dend[e])&\n",
    "                                     (segs_nmda_df.Elec_distance<=edges_dend[e+1])]['nmda_lower_bound'].values.astype(int)\n",
    "    \n",
    "                x2, _ = np.histogram(nmda_inds/10,bins=np.arange(np.floor(i)-100,np.floor(i)+40,5))\n",
    "                nmda_dend[e] += x2\n",
    "                \n",
    "                nmda_inds = segs_nmda_df[(segs_nmda_df.mag<-0.1)&\n",
    "                                     (segs_nmda_df.Type=='apic')&\n",
    "                                     (segs_nmda_df.Elec_distance>edges_apic[e])&\n",
    "                                     (segs_nmda_df.Elec_distance<=edges_apic[e+1])]['nmda_lower_bound'].values.astype(int)\n",
    "    \n",
    "                x2, _ = np.histogram(nmda_inds/10,bins=np.arange(np.floor(i)-100,np.floor(i)+40,5))\n",
    "                nmda_apic[e] += x2\n",
    "            \n",
    "            actual_spktimes.append(i)\n",
    "        c = i\n",
    "        \n",
    "    return nmda_dend, nmda_apic"
   ]
  },
  {
   "cell_type": "code",
   "execution_count": 67,
   "metadata": {},
   "outputs": [],
   "source": [
    "nmda_dend, nmda_apic = get_nmda_sta(segs_nmda_df, spktimes)"
   ]
  },
  {
   "cell_type": "code",
   "execution_count": 68,
   "metadata": {},
   "outputs": [],
   "source": [
    "# rand_spktimes = np.sort(np.random.choice(np.arange(0,150000), spktimes.shape[0]))\n",
    "rand_spktimes = np.sort(np.random.choice(np.arange(0,dur_to_use*1000), spktimes.shape[0]))"
   ]
  },
  {
   "cell_type": "code",
   "execution_count": 69,
   "metadata": {},
   "outputs": [],
   "source": [
    "nmda_dend_rand, nmda_apic_rand = get_nmda_sta(segs_nmda_df, rand_spktimes)"
   ]
  },
  {
   "cell_type": "code",
   "execution_count": null,
   "metadata": {},
   "outputs": [],
   "source": [
    "plt.figure(figsize=(10,10))\n",
    "plt.subplot(2,1,1)\n",
    "plt.title('NMDA spikes - apical')\n",
    "plt.imshow((nmda_apic-nmda_apic_rand)/len(spktimes),cmap='jet',vmin=-0.7,vmax=0.7)\n",
    "plt.xticks(ticks=np.arange(0,26,4)-0.5,labels=['{}'.format(i) for i in np.arange(-100,40,20)])\n",
    "plt.yticks(ticks=[0,9],labels=['further','closer'])\n",
    "plt.colorbar(label='additional events per AP')\n",
    "plt.xlabel('time (ms)')\n",
    "plt.xlim(5,26)\n",
    "\n",
    "plt.subplot(2,1,2)\n",
    "plt.title('NMDA spikes - basal')\n",
    "plt.imshow((nmda_dend-nmda_dend_rand)/len(spktimes),cmap='jet', vmin=-0.7, vmax=0.7)\n",
    "plt.xticks(ticks=np.arange(0,26,4)-0.5,labels=['{}'.format(i) for i in np.arange(-100,40,20)])\n",
    "plt.yticks(ticks=[0,9],labels=['further','closer'])\n",
    "plt.colorbar(label='additional events per AP')\n",
    "plt.xlim(5,26)\n",
    "\n",
    "plt.xlabel('time (ms)')\n",
    "plt.show()"
   ]
  },
  {
   "cell_type": "code",
   "execution_count": null,
   "metadata": {},
   "outputs": [],
   "source": []
  },
  {
   "cell_type": "code",
   "execution_count": null,
   "metadata": {},
   "outputs": [],
   "source": []
  },
  {
   "cell_type": "code",
   "execution_count": 71,
   "metadata": {},
   "outputs": [],
   "source": [
    "# for i in np.arange(0,10):\n",
    "#     plt.plot(np.arange(-100,95,5),nmda_dend[i]/np.sum(nmda_dend[i]))\n"
   ]
  },
  {
   "cell_type": "code",
   "execution_count": 72,
   "metadata": {},
   "outputs": [],
   "source": [
    "# segs_conns[(segs_conns['Sec ID']==80) & (segs_conns.Type=='dend')]['Source Population'].value_counts()"
   ]
  },
  {
   "cell_type": "code",
   "execution_count": 73,
   "metadata": {},
   "outputs": [],
   "source": [
    "# plt.figure(figsize=(10,10))\n",
    "# ind = 55\n",
    "# plt.plot(segs['Coord X'], segs['Coord Y'], 'b.')\n",
    "# plt.plot(segs.loc[0,'Coord X'], segs.loc[0,'Coord Y'], 'k.',markersize=20)\n",
    "\n",
    "# plt.plot(segs.loc[ind,'Coord X'], segs.loc[ind,'Coord Y'], 'r*',markersize=20)\n",
    "\n",
    "# for i in segs_conns[(segs_conns.Type=='dend')&(segs_conns['Sec ID']==2)]['Sec ID'].unique():\n",
    "#     plt.plot(segs[(segs['Sec ID']==i)&(segs['Type']=='dend')]['Coord X'],\n",
    "#              segs[(segs['Sec ID']==i)&(segs['Type']=='dend')]['Coord Y'],color='r')\n",
    "    \n",
    "# #for i in segs_conns[(segs_conns.Type=='dend')&(segs_conns['Sec ID']==7)]['Sec ID'].unique():\n",
    "# #    plt.plot(segs[(segs['Sec ID']==i)&(segs['Type']=='dend')]['Coord X'],\n",
    "# #             segs[(segs['Sec ID']==i)&(segs['Type']=='dend')]['Coord Y'],color='c')\n",
    "    \n",
    "# #plt.plot(segs[segs.segmentID==119]['Coord X'], segs[segs.segmentID==119]['Coord Y'],'r*',markersize=14)\n",
    "# #plt.plot(segs[segs.segmentID==110]['Coord X'], segs[segs.segmentID==110]['Coord Y'],'r*',markersize=14)\n",
    "# #plt.plot(segs[segs.segmentID==103]['Coord X'], segs[segs.segmentID==103]['Coord Y'],'r*',markersize=14)\n",
    "\n",
    "# #plt.plot(segs[segs.segmentID==134]['Coord X'], segs[segs.segmentID==134]['Coord Y'],'c*',markersize=14)\n",
    "# plt.ylim(-25,50)\n",
    "# plt.xlim(-150,150)"
   ]
  },
  {
   "cell_type": "code",
   "execution_count": 74,
   "metadata": {},
   "outputs": [],
   "source": [
    "# f was undefined\n",
    "# plt.figure(figsize=(10,10))\n",
    "# plt.plot(f['report']['biophysical']['data'][:,119],color='b')\n",
    "# plt.plot(f['report']['biophysical']['data'][:,110],color='b',alpha=0.5)\n",
    "# plt.plot(f['report']['biophysical']['data'][:,104],color='b',alpha=0.1)\n",
    "\n",
    "# plt.plot(f['report']['biophysical']['data'][:,134],color='c',alpha=1)\n",
    "# plt.plot(f['report']['biophysical']['data'][:,0],'k')\n",
    "# plt.twinx()\n",
    "# plt.plot(h['report']['biophysical']['data'][:,119],color='r')\n",
    "# plt.plot(h['report']['biophysical']['data'][:,110],color='r',alpha=0.5)\n",
    "# plt.plot(h['report']['biophysical']['data'][:,103],color='r',alpha=0.1)\n",
    "\n",
    "# plt.xlim(526519-100,526519+1000)"
   ]
  },
  {
   "cell_type": "code",
   "execution_count": null,
   "metadata": {},
   "outputs": [],
   "source": []
  },
  {
   "cell_type": "code",
   "execution_count": null,
   "metadata": {},
   "outputs": [],
   "source": [
    "nmda2 = np.zeros((79,))\n",
    "\n",
    "for i in spktimes:\n",
    "    nmda_inds2 = np.sort(segs_nmda_df[(segs_nmda_df.Degrees<=3)&\n",
    "             (~pd.isnull(segs_nmda_df.nmda_lower_bound))&\n",
    "             (segs_nmda_df.mag<-0.1)&\n",
    "                (segs_nmda_df.Type=='dend')]['nmda_lower_bound'].values.astype(int))\n",
    "\n",
    "    x2, _ = np.histogram(nmda_inds2/10,bins=np.arange(i-40,i+40,1))\n",
    "    nmda2 += x2\n",
    "    \n",
    "    #na_inds3 = segs_na_df[(segs_na_df.Degrees==3)&(~pd.isnull(segs_na_df.na_lower_bound))]['na_lower_bound'].values.astype(int)\n",
    "    #x3, _ = np.histogram(na_inds3/10,bins=np.arange(i-20,i+20,1))\n",
    "    #na3 += x3\n",
    "    \n",
    "    #na_inds4 = segs_na_df[(segs_na_df.Degrees==4)&(~pd.isnull(segs_na_df.na_lower_bound))]['na_lower_bound'].values.astype(int)\n",
    "    #x4, _ = np.histogram(na_inds4/10,bins=np.arange(i-20,i+20,1))\n",
    "    #na4 += x4\n",
    "    \n",
    "    #na_inds5 = segs_na_df[(segs_na_df.Degrees==5)&(~pd.isnull(segs_na_df.na_lower_bound))]['na_lower_bound'].values.astype(int)\n",
    "    #x5, _ = np.histogram(na_inds5/10,bins=np.arange(i-20,i+20,1))\n",
    "    #na5 += x5\n",
    "    "
   ]
  },
  {
   "cell_type": "code",
   "execution_count": null,
   "metadata": {},
   "outputs": [],
   "source": [
    "plt.plot(nmda2)"
   ]
  },
  {
   "cell_type": "code",
   "execution_count": null,
   "metadata": {},
   "outputs": [],
   "source": []
  },
  {
   "cell_type": "code",
   "execution_count": null,
   "metadata": {},
   "outputs": [],
   "source": []
  },
  {
   "cell_type": "code",
   "execution_count": null,
   "metadata": {},
   "outputs": [],
   "source": []
  },
  {
   "cell_type": "code",
   "execution_count": null,
   "metadata": {},
   "outputs": [],
   "source": [
    "import matplotlib\n",
    "font = {'family' : 'normal',\n",
    "        'weight' : 'normal',\n",
    "        'size'   : 16}\n",
    "\n",
    "matplotlib.rc('font', **font)\n",
    "\n",
    "ind = 1139\n",
    "plt.figure(figsize=(12,10))\n",
    "plt.plot(np.arange(0,60000,.1),f['report']['biophysical']['data'][:,ind],color='b',label='dend voltage')\n",
    "plt.plot(np.arange(0,60000,.1),f['report']['biophysical']['data'][:,0],color='k',alpha=0.3,label='soma voltage')\n",
    "plt.legend(loc='lower left')\n",
    "plt.hlines(-40,0,60000,linestyle='dashed')\n",
    "plt.ylabel('voltage (mV)')\n",
    "plt.ylim(-85,25)\n",
    "plt.xlabel('time (ms)')\n",
    "plt.twinx()\n",
    "plt.plot(np.arange(0,60000,.1),h['report']['biophysical']['data'][:,ind],color='r',label='inmda dend')\n",
    "plt.legend(loc='upper right')\n",
    "plt.plot(np.arange(0,60000,.1)[nmda_df[nmda_df.seg_id==ind]['nmda_lower_bound'].values.astype(int)],\n",
    "         h['report']['biophysical']['data'][nmda_df[nmda_df.seg_id==ind]['nmda_lower_bound'].values.astype(int),ind],'m*',markersize=20)\n",
    "plt.plot(np.arange(0,60000,.1)[nmda_df[nmda_df.seg_id==ind]['nmda_upper_bound'].values.astype(int)],\n",
    "         h['report']['biophysical']['data'][nmda_df[nmda_df.seg_id==ind]['nmda_upper_bound'].values.astype(int),ind],'k*',markersize=20)\n",
    "plt.ylim(-0.009,0.001)\n",
    "plt.xlim(37000,39000)\n",
    "plt.ylabel('current (nA)')\n"
   ]
  },
  {
   "cell_type": "code",
   "execution_count": null,
   "metadata": {},
   "outputs": [],
   "source": [
    "import matplotlib\n",
    "font = {'family' : 'normal',\n",
    "        'weight' : 'normal',\n",
    "        'size'   : 16}\n",
    "\n",
    "matplotlib.rc('font', **font)\n",
    "\n",
    "plt.figure(figsize=(12,10))\n",
    "plt.plot(np.arange(0,60000,.1),f['report']['biophysical']['data'][:,175],color='b',label='dend voltage')\n",
    "plt.plot(np.arange(0,60000,.1),f['report']['biophysical']['data'][:,0],color='k',alpha=0.3,label='soma voltage')\n",
    "plt.legend(loc='lower left')\n",
    "plt.hlines(-40,0,60000,linestyle='dashed')\n",
    "plt.ylabel('voltage (mV)')\n",
    "plt.ylim(-85,25)\n",
    "plt.xlabel('time (ms)')\n",
    "plt.twinx()\n",
    "plt.plot(np.arange(0,60000,.1),h['report']['biophysical']['data'][:,175],color='r',label='inmda dend')\n",
    "plt.legend(loc='upper right')\n",
    "plt.plot(np.arange(0,60000,.1)[nmda_df[nmda_df.seg_id==175]['nmda_lower_bound'].values.astype(int)],\n",
    "         h['report']['biophysical']['data'][nmda_df[nmda_df.seg_id==175]['nmda_lower_bound'].values.astype(int),175],'m*',markersize=20)\n",
    "plt.plot(np.arange(0,60000,.1)[nmda_df[nmda_df.seg_id==175]['nmda_upper_bound'].values.astype(int)],\n",
    "         h['report']['biophysical']['data'][nmda_df[nmda_df.seg_id==175]['nmda_upper_bound'].values.astype(int),175],'k*',markersize=20)\n",
    "plt.xlim(32000,32400)\n",
    "plt.ylim(-0.009,0.001)\n",
    "plt.ylabel('current (nA)')\n"
   ]
  },
  {
   "cell_type": "code",
   "execution_count": 46,
   "metadata": {},
   "outputs": [],
   "source": [
    "nmda_spktimes = nmda_df[nmda_df.mag<-0.1]['nmda_lower_bound']/10\n",
    "n = np.zeros((12,))\n",
    "for i in spktimes:\n",
    "    x,y = np.histogram(nmda_spktimes[(nmda_spktimes>i-30) & (nmda_spktimes<i+30)]-i,bins=np.arange(-30,31,5))\n",
    "    n+=x"
   ]
  },
  {
   "cell_type": "code",
   "execution_count": null,
   "metadata": {},
   "outputs": [],
   "source": [
    "np.arange(-30,31,5).shape"
   ]
  },
  {
   "cell_type": "code",
   "execution_count": null,
   "metadata": {},
   "outputs": [],
   "source": [
    "plt.plot(np.arange(-30,30,5),n)"
   ]
  },
  {
   "cell_type": "code",
   "execution_count": 26,
   "metadata": {},
   "outputs": [],
   "source": [
    "na_spktimes = na_df[~pd.isnull(na_df.na_lower_bound)]['na_lower_bound']/10\n",
    "na = np.zeros((20,))\n",
    "for i in spktimes:\n",
    "    x,y = np.histogram(na_spktimes[(na_spktimes>i-10) & (na_spktimes<i+10)]-i,bins=np.arange(-10,11,1))\n",
    "    na+=x"
   ]
  },
  {
   "cell_type": "code",
   "execution_count": null,
   "metadata": {},
   "outputs": [],
   "source": [
    "plt.plot(na_df[~pd.isnull(na_df.na_lower_bound)]['na_lower_bound']/10,\n",
    "         na_df[~pd.isnull(na_df.na_lower_bound)]['seg_id'],'*')"
   ]
  },
  {
   "cell_type": "code",
   "execution_count": null,
   "metadata": {},
   "outputs": [],
   "source": []
  },
  {
   "cell_type": "code",
   "execution_count": null,
   "metadata": {},
   "outputs": [],
   "source": []
  },
  {
   "cell_type": "code",
   "execution_count": null,
   "metadata": {},
   "outputs": [],
   "source": [
    "plt.plot(nmda_spktimes,np.random.randint(low=0,high=100,size=len(nmda_spktimes)),'.')\n",
    "plt.plot(spktimes,np.tile(40,len(spktimes)),'r*')"
   ]
  },
  {
   "cell_type": "code",
   "execution_count": 396,
   "metadata": {},
   "outputs": [],
   "source": [
    "x1,_=np.histogram(spktimes,bins=np.arange(0,10000,100))\n",
    "x2,_=np.histogram(nmda_spktimes,bins=np.arange(0,10000,100))"
   ]
  },
  {
   "cell_type": "code",
   "execution_count": null,
   "metadata": {},
   "outputs": [],
   "source": [
    "plt.figure(figsize=(10,8))\n",
    "plt.plot(np.arange(0,10000,.1),control_v[:,176],color='b')\n",
    "plt.plot(np.arange(0,10000,.1)[nmda_df.loc[nmda_df.seg_id==175,'nmda_lower_bound'].values.astype(int)],control_v[nmda_df.loc[nmda_df.seg_id==175,'nmda_lower_bound'].values.astype(int),176],'m*')\n",
    "plt.plot(np.arange(0,10000,.1),control_v[:,0],color='k')\n",
    "plt.xlim(6000,7000)"
   ]
  },
  {
   "cell_type": "code",
   "execution_count": null,
   "metadata": {},
   "outputs": [],
   "source": []
  },
  {
   "cell_type": "code",
   "execution_count": null,
   "metadata": {},
   "outputs": [],
   "source": []
  },
  {
   "cell_type": "code",
   "execution_count": null,
   "metadata": {},
   "outputs": [],
   "source": []
  },
  {
   "cell_type": "code",
   "execution_count": null,
   "metadata": {},
   "outputs": [],
   "source": []
  },
  {
   "cell_type": "code",
   "execution_count": 247,
   "metadata": {},
   "outputs": [],
   "source": [
    "# ind1 = 3 sent to Drew\n",
    "ind1 = 2\n",
    "e1 = control_inmda[legit_uc_iso[ind1], p]\n",
    "e2 = control_inmda[legit_dc_iso[ind1], p]\n",
    "x30 = np.argwhere(np.diff(control_inmda[legit_uc_iso[ind1]:legit_dc_iso[ind1], p] < 1.3*e1, prepend=False))\n",
    "x15 = np.argwhere(np.diff(control_inmda[legit_uc_iso[ind1]:legit_dc_iso[ind1], p] < 1.15*e1, prepend=False))"
   ]
  },
  {
   "cell_type": "code",
   "execution_count": null,
   "metadata": {},
   "outputs": [],
   "source": [
    "import matplotlib\n",
    "font = {'family' : 'normal',\n",
    "        'weight' : 'normal',\n",
    "        'size'   : 16}\n",
    "\n",
    "matplotlib.rc('font', **font)\n",
    "\n",
    "plt.figure(figsize=(12,10))\n",
    "plt.plot(np.arange(0,(legit_dc_iso[ind1]-legit_uc_iso[ind1])/10, 0.1),\n",
    "         control_inmda[legit_uc_iso[ind1]:legit_dc_iso[ind1], p],color='r',label='inmda @ dend.')\n",
    "plt.hlines(1.3*e1,0,np.max(np.arange(0,(legit_dc_iso[ind1]-legit_uc_iso[ind1])/10, 0.1)),color='r',alpha=0.2)\n",
    "plt.hlines(1.15*e1,0,np.max(np.arange(0,(legit_dc_iso[ind1]-legit_uc_iso[ind1])/10, 0.1)),color='r',alpha=0.2)\n",
    "plt.ylabel('current (nA)')\n",
    "plt.ylim(-0.010,0)\n",
    "plt.legend(loc='upper center')\n",
    "plt.xlabel('time (ms)')\n",
    "plt.twinx()\n",
    "plt.plot(np.arange(0,(legit_dc_iso[ind1]-legit_uc_iso[ind1])/10, 0.1),\n",
    "         control_v[legit_uc_iso[ind1]:legit_dc_iso[ind1],p],color='b',label='dend. volt.')\n",
    "plt.plot(np.arange(0,(legit_dc_iso[ind1]-legit_uc_iso[ind1])/10, 0.1),\n",
    "         control_v[legit_uc_iso[ind1]:legit_dc_iso[ind1],0], color='k',label='soma volt.')\n",
    "\n",
    "\n",
    "for i in np.arange(0,len(bounds)):\n",
    "    plt.fill_between(np.array([bounds[i][0]/10,bounds[i][1]/10]).reshape(2,),-70,20,color='k',alpha=0.2)\n",
    "    plt.text(bounds[i][0]/10,-20-(i*10),'{x:.2f}'.format(x=sum_current[i]))\n",
    "##plt.fill_between(np.array([bounds[1][0]/10,bounds[1][1]/10]).reshape(2,),-70,20,color='k',alpha=0.2)\n",
    "##plt.fill_between(np.array([bounds[2][0]/10,bounds[2][1]/10]).reshape(2,),-70,20,color='k',alpha=0.2)\n",
    "#plt.hlines(-40,0,np.max(np.arange(0,(legit_uc_iso[ind1+1]-legit_uc_iso[ind1])/10, 0.1)),linestyle='dashed')\n",
    "##plt.text(1.5,14,'NMDA\\nspike')\n",
    "#plt.ylabel('voltage (mV)')\n",
    "#plt.legend()"
   ]
  },
  {
   "cell_type": "code",
   "execution_count": null,
   "metadata": {},
   "outputs": [],
   "source": [
    "plt.figure(figsize=(12,10))\n",
    "plt.plot(np.arange(0,10000,.1),control_v[:,p],label='control dend. v')\n",
    "plt.plot(np.arange(0,10000,.1),NMDAblock_v[:,p],label='NMDA block dend. v')\n",
    "plt.plot(np.arange(0,10000,.1),control_v[:,0],color='k',label='control soma v')\n",
    "\n",
    "uc = voltage_criterion(control_v[:,p],-40)[0]\n",
    "\n",
    "\n",
    "plt.plot(np.arange(0,10000,.1)[uc],control_v[uc,p],'*')\n",
    "plt.plot(np.arange(0,10000,.1)[legit_uc],control_v[legit_uc,p],'m*')\n",
    "\n",
    "\n",
    "center = np.floor(legit_uc[np.random.choice(np.arange(0,legit_uc.shape[0]))]/10)\n",
    "\n",
    "plt.plot([center,center+26],[-80,-80],color='k')\n",
    "plt.legend(loc='lower left')\n",
    "\n",
    "plt.twinx()\n",
    "plt.plot(np.arange(0,10000,.1),control_inmda[:,p],color='r',label='NMDA current')\n",
    "plt.plot(np.arange(0,10000,.1)[legit_uc],control_inmda[legit_uc, p],'*')\n",
    "#plt.plot(np.arange(0,10000,.1),control_gna[:,p],color='r',alpha=0.2, label='gNa')\n",
    "plt.xlim(center-100,center+100)\n",
    "\n",
    "plt.legend(loc='lower right')\n",
    "plt.title('{}'.format(legit_uc))"
   ]
  },
  {
   "cell_type": "code",
   "execution_count": null,
   "metadata": {},
   "outputs": [],
   "source": [
    "p = np.random.choice(segs[segs.Type=='apic'].index)\n",
    "for i in spktimes:\n",
    "    plt.plot(np.arange(0,20,.1), control_v[int(i*10)-100:int(i*10)+100,p])\n",
    "plt.vlines(10,-65,0,color='k')\n",
    "plt.ylim(-65,0)"
   ]
  },
  {
   "cell_type": "code",
   "execution_count": null,
   "metadata": {},
   "outputs": [],
   "source": [
    "p = 829#np.random.choice(segs[segs.Type=='dend'].index)\n",
    "plt.title('dend {}'.format(p))\n",
    "plt.plot(control_v[7200:7700,p],label='dend')\n",
    "plt.plot(control_v[7200:7700,0],label='soma')\n",
    "plt.hlines(-40,0,500)\n",
    "plt.twinx()\n",
    "plt.plot(control_inmda[7200:7700,p],color='r')\n",
    "plt.legend()"
   ]
  },
  {
   "cell_type": "code",
   "execution_count": null,
   "metadata": {},
   "outputs": [],
   "source": [
    "control_v[10000,0]"
   ]
  },
  {
   "cell_type": "code",
   "execution_count": null,
   "metadata": {},
   "outputs": [],
   "source": [
    "plt.hist(control_v[10000,:])"
   ]
  },
  {
   "cell_type": "code",
   "execution_count": null,
   "metadata": {},
   "outputs": [],
   "source": [
    "plt.plot(control_v[:,1200])\n",
    "plt.plot(NMDAblock_v[:,1200])"
   ]
  },
  {
   "cell_type": "code",
   "execution_count": 16,
   "metadata": {},
   "outputs": [],
   "source": [
    "df = ids_pos.set_index(['BMTK ID', 'X']).join(segs.set_index(['BMTK ID', 'X'])).reset_index()"
   ]
  },
  {
   "cell_type": "code",
   "execution_count": null,
   "metadata": {},
   "outputs": [],
   "source": [
    "df.loc[0,'Distance'], np.mean(f['report']['biophysical']['data'],axis=0)[0]"
   ]
  },
  {
   "cell_type": "code",
   "execution_count": null,
   "metadata": {},
   "outputs": [],
   "source": [
    "df[(df.Distance>900) & (df.Distance<1000)]"
   ]
  },
  {
   "cell_type": "code",
   "execution_count": null,
   "metadata": {},
   "outputs": [],
   "source": [
    "plt.scatter(np.arange(0,df.shape[0]), np.mean(f['report']['biophysical']['data'],axis=0))\n",
    "plt.xlim(1740,1760)"
   ]
  },
  {
   "cell_type": "code",
   "execution_count": null,
   "metadata": {},
   "outputs": [],
   "source": [
    "plt.figure(figsize=(10,6))\n",
    "plt.scatter(df['Distance'],np.mean(f['report']['biophysical']['data'],axis=0),alpha=0.2)\n",
    "plt.scatter(df.loc[0,'Distance'], np.mean(f['report']['biophysical']['data'],axis=0)[0],color='r', marker='*', s=75)\n",
    "plt.scatter(df.loc[1452,'Distance'], np.mean(f['report']['biophysical']['data'],axis=0)[1452],color='m',marker='*', s=75)\n",
    "plt.scatter(df.loc[1754,'Distance'], np.mean(f['report']['biophysical']['data'],axis=0)[1754],color='k',marker='*', s=75)\n",
    "plt.xlabel('distance from soma')\n",
    "plt.ylabel('mean potential of segment (mV)')"
   ]
  },
  {
   "cell_type": "code",
   "execution_count": null,
   "metadata": {},
   "outputs": [],
   "source": [
    "#plt.scatter(np.arange(0,f['report']['biophysical']['data'].shape[1]),np.mean(f['report']['biophysical']['data'],axis=0))\n",
    "\n",
    "plt.figure(figsize=(10,6))\n",
    "\n",
    "plt.plot(np.arange(0,2,0.0001),f['report']['biophysical']['data'][:,0],color='r')\n",
    "plt.plot(np.arange(0,2,0.0001),f['report']['biophysical']['data'][:,1452],color='m')\n",
    "plt.plot(np.arange(0,2,0.0001),f['report']['biophysical']['data'][:,1754],color='k')\n",
    "plt.xlim(1.75,2)\n",
    "plt.xlabel('time (s)')\n",
    "plt.ylabel('membrane potential (mV)')"
   ]
  },
  {
   "cell_type": "code",
   "execution_count": null,
   "metadata": {},
   "outputs": [],
   "source": []
  }
 ],
 "metadata": {
  "kernelspec": {
   "display_name": "sim_env",
   "language": "python",
   "name": "python3"
  },
  "language_info": {
   "codemirror_mode": {
    "name": "ipython",
    "version": 3
   },
   "file_extension": ".py",
   "mimetype": "text/x-python",
   "name": "python",
   "nbconvert_exporter": "python",
   "pygments_lexer": "ipython3",
   "version": "3.10.14"
  }
 },
 "nbformat": 4,
 "nbformat_minor": 4
}
