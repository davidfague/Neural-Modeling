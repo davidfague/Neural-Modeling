{
 "cells": [
  {
   "cell_type": "code",
   "execution_count": null,
   "metadata": {},
   "outputs": [],
   "source": [
    "import pandas as pd\n",
    "import h5py\n",
    "import numpy as np\n",
    "import matplotlib.pyplot as plt\n",
    "import seaborn as sns\n",
    "import scipy.signal as ss\n",
    "\n",
    "def voltage_criterion(data=None, v_thresh=-40, time_thresh=260):\n",
    "    threshold_crossings = np.diff(data > v_thresh, prepend=False)\n",
    "    upward_crossings = np.argwhere(threshold_crossings)[::2,0]\n",
    "    downward_crossings = np.argwhere(threshold_crossings)[1::2,0]\n",
    "    # If length of threshold_crossings is not even\n",
    "    if np.mod(np.argwhere(threshold_crossings).reshape(-1,).shape[0],2)!=0:\n",
    "        legit_up_crossings = upward_crossings[:-1][np.diff(np.argwhere(threshold_crossings).reshape(-1,))[::2]>time_thresh]\n",
    "        legit_down_crossings = downward_crossings[np.diff(np.argwhere(threshold_crossings).reshape(-1,))[::2]>time_thresh]\n",
    "    else:\n",
    "        legit_up_crossings = upward_crossings[np.diff(np.argwhere(threshold_crossings).reshape(-1,))[::2]>time_thresh]\n",
    "        legit_down_crossings = downward_crossings[np.diff(np.argwhere(threshold_crossings).reshape(-1,))[::2]>time_thresh]\n",
    "    return upward_crossings, legit_up_crossings, legit_down_crossings\n",
    "\n",
    "# Input: upward and downward crossings\n",
    "# Output: bounds of NMDA spikes meeting current criterion\n",
    "def current_criterion(legit_uc_iso=[], legit_dc_iso=[], p=1, control_inmda=np.array([1])):\n",
    "    bounds = []\n",
    "    sum_current = []\n",
    "    \n",
    "\n",
    "    for ind1 in np.arange(0,len(legit_uc_iso)):\n",
    "        e1 = control_inmda[legit_uc_iso[ind1], p] #current @ up_crossing[ind1]\n",
    "        #all the indices where current crosses 130% of e1\n",
    "        x30 = np.argwhere(np.diff(control_inmda[legit_uc_iso[ind1]:legit_dc_iso[ind1], p] < 1.3*e1, prepend=False))\n",
    "        #all the indices where current crosses 115% of e1\n",
    "        x15 = np.argwhere(np.diff(control_inmda[legit_uc_iso[ind1]:legit_dc_iso[ind1], p] < 1.15*e1, prepend=False))\n",
    "        \n",
    "        if len(x30)>0:\n",
    "        \n",
    "            x15_copy = x15\n",
    "            x30_copy = x30\n",
    "            \n",
    "            try:\n",
    "                i = x30[0][0]\n",
    "            except:\n",
    "                import pdb; pdb.set_trace()\n",
    "                \n",
    "            n = 0\n",
    "            \n",
    "            \n",
    "            while n==0:\n",
    "                if len(np.sort(x15[x15>i]))!=0:\n",
    "                    b1 = i\n",
    "                    b2 = np.sort(x15[x15>i])[0]\n",
    "                    bounds.append([legit_uc_iso[ind1]+b1,legit_uc_iso[ind1]+b2])\n",
    "                    sum_current.append(np.sum(control_inmda[legit_uc_iso[ind1]+b1:legit_uc_iso[ind1]+b2,p])/10)\n",
    "                else:\n",
    "                    b1 = i\n",
    "                    b2 = (legit_dc_iso[ind1]-legit_uc_iso[ind1])\n",
    "                    bounds.append([legit_uc_iso[ind1]+b1,legit_uc_iso[ind1]+b2])\n",
    "                    sum_current.append(np.sum(control_inmda[legit_uc_iso[ind1]+b1:legit_uc_iso[ind1]+b2,p])/10)\n",
    "                    n=1\n",
    "                \n",
    "                x30_copy = x30_copy[x30_copy>legit_uc_iso[ind1]+b2]\n",
    "                #import pdb; pdb.set_trace()\n",
    "                \n",
    "                if len(x30_copy)!=0:\n",
    "                    i = x30_copy[x30_copy>b2][0]\n",
    "                else:\n",
    "                    n=1\n",
    "    return bounds, sum_current"
   ]
  },
  {
   "cell_type": "code",
   "execution_count": null,
   "metadata": {},
   "outputs": [],
   "source": [
    "%cd ../scripts/L5BaselineResults/"
   ]
  },
  {
   "cell_type": "code",
   "execution_count": null,
   "metadata": {},
   "outputs": [],
   "source": [
    "conns = pd.read_csv('Connections.csv')"
   ]
  },
  {
   "cell_type": "code",
   "execution_count": null,
   "metadata": {},
   "outputs": [],
   "source": [
    "segs = pd.read_csv('Segments.csv')\n",
    "segs_degrees = pd.read_csv('SegmentsDegrees.csv').groupby(['Type','Sec ID'])['Degrees'].max().reset_index()\n",
    "segs['segmentID'] = segs.index\n",
    "segs = segs.set_index(['Type','Sec ID']).join(segs_degrees.set_index(['Type','Sec ID'])).reset_index()\n",
    "\n",
    "segs['Sec ID'] = segs['Sec ID'].astype(int)\n",
    "segs['X'] = segs['X'].astype(float)\n",
    "segs['Elec_distanceQ'] = 'None'\n",
    "\n",
    "segs.loc[segs.Type=='dend','Elec_distanceQ'] = pd.qcut(segs.loc[segs.Type=='dend','Elec_distance'], 10, labels=False)\n",
    "segs.loc[segs.Type=='apic','Elec_distanceQ'] = pd.qcut(segs.loc[segs.Type=='apic','Elec_distance'], 10, labels=False)"
   ]
  },
  {
   "cell_type": "code",
   "execution_count": null,
   "metadata": {},
   "outputs": [],
   "source": [
    "v = h5py.File('v_report.h5','r')\n",
    "hva = h5py.File('Ca_HVA.ica_report.h5','r')\n",
    "lva = h5py.File('Ca_LVAst.ica_report.h5','r')\n",
    "ih = h5py.File('Ih.ihcn_report.h5','r')\n",
    "\n",
    "nmda = h5py.File('inmda_report.h5','r')\n",
    "\n",
    "na = h5py.File('NaTa_t.gNaTa_t_report.h5','r')\n",
    "spks = h5py.File('spikes.h5','r')"
   ]
  },
  {
   "cell_type": "code",
   "execution_count": null,
   "metadata": {},
   "outputs": [],
   "source": [
    "spktimes = spks['spikes']['biophysical']['timestamps'][:]\n",
    "spkinds = np.sort((spktimes*10).astype(int))"
   ]
  },
  {
   "cell_type": "markdown",
   "metadata": {},
   "source": [
    "get na spikes"
   ]
  },
  {
   "cell_type": "code",
   "execution_count": null,
   "metadata": {},
   "outputs": [],
   "source": [
    "na_df = pd.DataFrame(columns=['segmentID','na_lower_bound'])\n",
    "\n",
    "for p in segs[(segs.Type=='dend')|(segs.Type=='apic')].index:\n",
    "    # print(p)\n",
    "    threshold_crossings = np.diff(na['report']['biophysical']['data'][:,p] > 0.003, prepend=False)\n",
    "    upward_crossings = np.argwhere(threshold_crossings)[::2,0]\n",
    "    downward_crossings = np.argwhere(threshold_crossings)[1::2,0]\n",
    "    # Only count if not within 2 ms after a somatic spike\n",
    "    na_spks = [i for i in upward_crossings if ~np.any((i-spkinds>=-5) & (i-spkinds<50))]\n",
    "    \n",
    "#     if len(na_spks)>0:\n",
    "#         na_df = na_df.append(pd.DataFrame({'segmentID':np.tile(p,len(na_spks)),\n",
    "#                                                'na_lower_bound':na_spks}))\n",
    "#     else:\n",
    "#         na_df = na_df.append(pd.DataFrame({'segmentID':p,\n",
    "#                                                'na_lower_bound':np.array([np.nan])}))\n",
    "    \n",
    "    #df.append is depracated; have to use pd.concat.\n",
    "    if len(na_spks) > 0:\n",
    "        new_rows = pd.DataFrame({'segmentID': np.tile(p, len(na_spks)),\n",
    "                                 'na_lower_bound': na_spks})\n",
    "    else:\n",
    "        new_rows = pd.DataFrame({'segmentID': [p],\n",
    "                                 'na_lower_bound': [np.nan]})\n",
    "    \n",
    "    na_df = pd.concat([na_df, new_rows], ignore_index=True)\n"
   ]
  },
  {
   "cell_type": "code",
   "execution_count": null,
   "metadata": {},
   "outputs": [],
   "source": [
    "# get the value of the conductance at the peak\n",
    "df = pd.DataFrame(columns=['segmentID','na_lower_bound','peak_value'])\n",
    "\n",
    "for s in na_df[~pd.isnull(na_df.na_lower_bound)].segmentID.unique():\n",
    "\n",
    "    inds = na_df[na_df.segmentID==s]['na_lower_bound'].astype(int).values\n",
    "    \n",
    "    L = np.split(na['report']['biophysical']['data'][:,s], inds)\n",
    "    \n",
    "    X = reshape_pad(L)\n",
    "    \n",
    "    peak_vals = np.max(X[:,0:10], axis=1)\n",
    "    \n",
    "    df = pd.concat((df,pd.DataFrame({'segmentID': s*np.ones((inds.shape[0],)).astype(int),\n",
    "                                     'na_lower_bound': inds, \n",
    "                                     'peak_value': peak_vals[1:]})))"
   ]
  },
  {
   "cell_type": "markdown",
   "metadata": {},
   "source": [
    "get ca spikes"
   ]
  },
  {
   "cell_type": "code",
   "execution_count": null,
   "metadata": {},
   "outputs": [],
   "source": []
  }
 ],
 "metadata": {
  "language_info": {
   "name": "python"
  }
 },
 "nbformat": 4,
 "nbformat_minor": 2
}
