{
 "cells": [
  {
   "cell_type": "markdown",
   "metadata": {},
   "source": [
    "32"
   ]
  },
  {
   "cell_type": "code",
   "execution_count": 1,
   "metadata": {},
   "outputs": [
    {
     "name": "stderr",
     "output_type": "stream",
     "text": [
      "Warning: no DISPLAY environment variable.\n",
      "--No graphics will be displayed.\n"
     ]
    }
   ],
   "source": [
    "import sys\n",
    "sys.path.append(\"../\")\n",
    "sys.path.append(\"../Modules/\")\n",
    "\n",
    "from Modules.simulation import Simulation\n",
    "from Modules.cell_builder import SkeletonCell, CellBuilder\n",
    "from Modules.constants import HayParameters\n",
    "\n",
    "import os\n",
    "from neuron import h\n",
    "\n",
    "from logger import Logger\n",
    "\n",
    "import numpy as np"
   ]
  },
  {
   "cell_type": "code",
   "execution_count": 2,
   "metadata": {},
   "outputs": [],
   "source": [
    "sim = Simulation(SkeletonCell.Hay)\n",
    "parameters = HayParameters(sim_name = 'test', h_tstop= 1000, all_synapses_off=True) # NOTE: synapses will crash the simulation since they are not mapped and will remain on deleted sections"
   ]
  },
  {
   "cell_type": "code",
   "execution_count": 3,
   "metadata": {},
   "outputs": [
    {
     "name": "stdout",
     "output_type": "stream",
     "text": [
      " axial_currents.ipynb   builder_runtime.txt  'Figure 1.png'\n",
      " bAP_matching.ipynb     cell_graph.ipynb      reduction.ipynb\n"
     ]
    }
   ],
   "source": [
    "%ls"
   ]
  },
  {
   "cell_type": "code",
   "execution_count": 4,
   "metadata": {},
   "outputs": [
    {
     "name": "stderr",
     "output_type": "stream",
     "text": [
      "rm: cannot remove 'x86_64/': No such file or directory\n"
     ]
    }
   ],
   "source": [
    "try:\n",
    "    os.system(\"rm -r x86_64/\")\n",
    "except:\n",
    "    pass"
   ]
  },
  {
   "cell_type": "code",
   "execution_count": 5,
   "metadata": {},
   "outputs": [
    {
     "name": "stdout",
     "output_type": "stream",
     "text": [
      "/home/drfrbc/Neural-Modeling/scripts\n"
     ]
    },
    {
     "name": "stderr",
     "output_type": "stream",
     "text": [
      "/home/drfrbc/miniconda3/envs/sim_env/lib/python3.10/site-packages/IPython/core/magics/osm.py:417: UserWarning: using dhist requires you to install the `pickleshare` library.\n",
      "  self.shell.db['dhist'] = compress_dhist(dhist)[-100:]\n"
     ]
    }
   ],
   "source": [
    "%cd ../scripts"
   ]
  },
  {
   "cell_type": "code",
   "execution_count": 6,
   "metadata": {},
   "outputs": [
    {
     "data": {
      "text/plain": [
       "1.0"
      ]
     },
     "execution_count": 6,
     "metadata": {},
     "output_type": "execute_result"
    }
   ],
   "source": [
    "os.system(f\"nrnivmodl {sim.cell_type.value['modfiles']} > /dev/null 2>&1\")\n",
    "\n",
    "h.load_file('stdrun.hoc')\n",
    "h.nrn_load_dll('./x86_64/.libs/libnrnmech.so')"
   ]
  },
  {
   "cell_type": "code",
   "execution_count": 7,
   "metadata": {},
   "outputs": [
    {
     "name": "stdout",
     "output_type": "stream",
     "text": [
      "(2024-04-26 14:24:02.089101)-[PID: 3969763]–[INFO]: Building SkeletonCell.Hay.\n",
      "all: [L5PCtemplate[0].soma[0], L5PCtemplate[0].dend[0], L5PCtemplate[0].dend[1], L5PCtemplate[0].dend[2], L5PCtemplate[0].dend[3], L5PCtemplate[0].dend[4], L5PCtemplate[0].dend[5], L5PCtemplate[0].dend[6], L5PCtemplate[0].dend[7], L5PCtemplate[0].dend[8], L5PCtemplate[0].dend[9], L5PCtemplate[0].dend[10], L5PCtemplate[0].dend[11], L5PCtemplate[0].dend[12], L5PCtemplate[0].dend[13], L5PCtemplate[0].dend[14], L5PCtemplate[0].dend[15], L5PCtemplate[0].dend[16], L5PCtemplate[0].dend[17], L5PCtemplate[0].dend[18], L5PCtemplate[0].dend[19], L5PCtemplate[0].dend[20], L5PCtemplate[0].dend[21], L5PCtemplate[0].dend[22], L5PCtemplate[0].dend[23], L5PCtemplate[0].dend[24], L5PCtemplate[0].dend[25], L5PCtemplate[0].dend[26], L5PCtemplate[0].dend[27], L5PCtemplate[0].dend[28], L5PCtemplate[0].dend[29], L5PCtemplate[0].dend[30], L5PCtemplate[0].dend[31], L5PCtemplate[0].dend[32], L5PCtemplate[0].dend[33], L5PCtemplate[0].dend[34], L5PCtemplate[0].dend[35], L5PCtemplate[0].dend[36], L5PCtemplate[0].dend[37], L5PCtemplate[0].dend[38], L5PCtemplate[0].dend[39], L5PCtemplate[0].dend[40], L5PCtemplate[0].dend[41], L5PCtemplate[0].dend[42], L5PCtemplate[0].dend[43], L5PCtemplate[0].dend[44], L5PCtemplate[0].dend[45], L5PCtemplate[0].dend[46], L5PCtemplate[0].dend[47], L5PCtemplate[0].dend[48], L5PCtemplate[0].dend[49], L5PCtemplate[0].dend[50], L5PCtemplate[0].dend[51], L5PCtemplate[0].dend[52], L5PCtemplate[0].dend[53], L5PCtemplate[0].dend[54], L5PCtemplate[0].dend[55], L5PCtemplate[0].dend[56], L5PCtemplate[0].dend[57], L5PCtemplate[0].dend[58], L5PCtemplate[0].dend[59], L5PCtemplate[0].dend[60], L5PCtemplate[0].dend[61], L5PCtemplate[0].dend[62], L5PCtemplate[0].dend[63], L5PCtemplate[0].dend[64], L5PCtemplate[0].dend[65], L5PCtemplate[0].dend[66], L5PCtemplate[0].dend[67], L5PCtemplate[0].dend[68], L5PCtemplate[0].dend[69], L5PCtemplate[0].dend[70], L5PCtemplate[0].dend[71], L5PCtemplate[0].dend[72], L5PCtemplate[0].dend[73], L5PCtemplate[0].dend[74], L5PCtemplate[0].dend[75], L5PCtemplate[0].dend[76], L5PCtemplate[0].dend[77], L5PCtemplate[0].dend[78], L5PCtemplate[0].dend[79], L5PCtemplate[0].dend[80], L5PCtemplate[0].dend[81], L5PCtemplate[0].dend[82], L5PCtemplate[0].dend[83], L5PCtemplate[0].apic[0], L5PCtemplate[0].apic[1], L5PCtemplate[0].apic[2], L5PCtemplate[0].apic[3], L5PCtemplate[0].apic[4], L5PCtemplate[0].apic[5], L5PCtemplate[0].apic[6], L5PCtemplate[0].apic[7], L5PCtemplate[0].apic[8], L5PCtemplate[0].apic[9], L5PCtemplate[0].apic[10], L5PCtemplate[0].apic[11], L5PCtemplate[0].apic[12], L5PCtemplate[0].apic[13], L5PCtemplate[0].apic[14], L5PCtemplate[0].apic[15], L5PCtemplate[0].apic[16], L5PCtemplate[0].apic[17], L5PCtemplate[0].apic[18], L5PCtemplate[0].apic[19], L5PCtemplate[0].apic[20], L5PCtemplate[0].apic[21], L5PCtemplate[0].apic[22], L5PCtemplate[0].apic[23], L5PCtemplate[0].apic[24], L5PCtemplate[0].apic[25], L5PCtemplate[0].apic[26], L5PCtemplate[0].apic[27], L5PCtemplate[0].apic[28], L5PCtemplate[0].apic[29], L5PCtemplate[0].apic[30], L5PCtemplate[0].apic[31], L5PCtemplate[0].apic[32], L5PCtemplate[0].apic[33], L5PCtemplate[0].apic[34], L5PCtemplate[0].apic[35], L5PCtemplate[0].apic[36], L5PCtemplate[0].apic[37], L5PCtemplate[0].apic[38], L5PCtemplate[0].apic[39], L5PCtemplate[0].apic[40], L5PCtemplate[0].apic[41], L5PCtemplate[0].apic[42], L5PCtemplate[0].apic[43], L5PCtemplate[0].apic[44], L5PCtemplate[0].apic[45], L5PCtemplate[0].apic[46], L5PCtemplate[0].apic[47], L5PCtemplate[0].apic[48], L5PCtemplate[0].apic[49], L5PCtemplate[0].apic[50], L5PCtemplate[0].apic[51], L5PCtemplate[0].apic[52], L5PCtemplate[0].apic[53], L5PCtemplate[0].apic[54], L5PCtemplate[0].apic[55], L5PCtemplate[0].apic[56], L5PCtemplate[0].apic[57], L5PCtemplate[0].apic[58], L5PCtemplate[0].apic[59], L5PCtemplate[0].apic[60], L5PCtemplate[0].apic[61], L5PCtemplate[0].apic[62], L5PCtemplate[0].apic[63], L5PCtemplate[0].apic[64], L5PCtemplate[0].apic[65], L5PCtemplate[0].apic[66], L5PCtemplate[0].apic[67], L5PCtemplate[0].apic[68], L5PCtemplate[0].apic[69], L5PCtemplate[0].apic[70], L5PCtemplate[0].apic[71], L5PCtemplate[0].apic[72], L5PCtemplate[0].apic[73], L5PCtemplate[0].apic[74], L5PCtemplate[0].apic[75], L5PCtemplate[0].apic[76], L5PCtemplate[0].apic[77], L5PCtemplate[0].apic[78], L5PCtemplate[0].apic[79], L5PCtemplate[0].apic[80], L5PCtemplate[0].apic[81], L5PCtemplate[0].apic[82], L5PCtemplate[0].apic[83], L5PCtemplate[0].apic[84], L5PCtemplate[0].apic[85], L5PCtemplate[0].apic[86], L5PCtemplate[0].apic[87], L5PCtemplate[0].apic[88], L5PCtemplate[0].apic[89], L5PCtemplate[0].apic[90], L5PCtemplate[0].apic[91], L5PCtemplate[0].apic[92], L5PCtemplate[0].apic[93], L5PCtemplate[0].apic[94], L5PCtemplate[0].apic[95], L5PCtemplate[0].apic[96], L5PCtemplate[0].apic[97], L5PCtemplate[0].apic[98], L5PCtemplate[0].apic[99], L5PCtemplate[0].apic[100], L5PCtemplate[0].apic[101], L5PCtemplate[0].apic[102], L5PCtemplate[0].apic[103], L5PCtemplate[0].apic[104], L5PCtemplate[0].apic[105], L5PCtemplate[0].apic[106], L5PCtemplate[0].apic[107], L5PCtemplate[0].apic[108], L5PCtemplate[0].axon[0]]\n",
      "soma: [L5PCtemplate[0].soma[0]]\n",
      "dend: [L5PCtemplate[0].dend[0], L5PCtemplate[0].dend[1], L5PCtemplate[0].dend[2], L5PCtemplate[0].dend[3], L5PCtemplate[0].dend[4], L5PCtemplate[0].dend[5], L5PCtemplate[0].dend[6], L5PCtemplate[0].dend[7], L5PCtemplate[0].dend[8], L5PCtemplate[0].dend[9], L5PCtemplate[0].dend[10], L5PCtemplate[0].dend[11], L5PCtemplate[0].dend[12], L5PCtemplate[0].dend[13], L5PCtemplate[0].dend[14], L5PCtemplate[0].dend[15], L5PCtemplate[0].dend[16], L5PCtemplate[0].dend[17], L5PCtemplate[0].dend[18], L5PCtemplate[0].dend[19], L5PCtemplate[0].dend[20], L5PCtemplate[0].dend[21], L5PCtemplate[0].dend[22], L5PCtemplate[0].dend[23], L5PCtemplate[0].dend[24], L5PCtemplate[0].dend[25], L5PCtemplate[0].dend[26], L5PCtemplate[0].dend[27], L5PCtemplate[0].dend[28], L5PCtemplate[0].dend[29], L5PCtemplate[0].dend[30], L5PCtemplate[0].dend[31], L5PCtemplate[0].dend[32], L5PCtemplate[0].dend[33], L5PCtemplate[0].dend[34], L5PCtemplate[0].dend[35], L5PCtemplate[0].dend[36], L5PCtemplate[0].dend[37], L5PCtemplate[0].dend[38], L5PCtemplate[0].dend[39], L5PCtemplate[0].dend[40], L5PCtemplate[0].dend[41], L5PCtemplate[0].dend[42], L5PCtemplate[0].dend[43], L5PCtemplate[0].dend[44], L5PCtemplate[0].dend[45], L5PCtemplate[0].dend[46], L5PCtemplate[0].dend[47], L5PCtemplate[0].dend[48], L5PCtemplate[0].dend[49], L5PCtemplate[0].dend[50], L5PCtemplate[0].dend[51], L5PCtemplate[0].dend[52], L5PCtemplate[0].dend[53], L5PCtemplate[0].dend[54], L5PCtemplate[0].dend[55], L5PCtemplate[0].dend[56], L5PCtemplate[0].dend[57], L5PCtemplate[0].dend[58], L5PCtemplate[0].dend[59], L5PCtemplate[0].dend[60], L5PCtemplate[0].dend[61], L5PCtemplate[0].dend[62], L5PCtemplate[0].dend[63], L5PCtemplate[0].dend[64], L5PCtemplate[0].dend[65], L5PCtemplate[0].dend[66], L5PCtemplate[0].dend[67], L5PCtemplate[0].dend[68], L5PCtemplate[0].dend[69], L5PCtemplate[0].dend[70], L5PCtemplate[0].dend[71], L5PCtemplate[0].dend[72], L5PCtemplate[0].dend[73], L5PCtemplate[0].dend[74], L5PCtemplate[0].dend[75], L5PCtemplate[0].dend[76], L5PCtemplate[0].dend[77], L5PCtemplate[0].dend[78], L5PCtemplate[0].dend[79], L5PCtemplate[0].dend[80], L5PCtemplate[0].dend[81], L5PCtemplate[0].dend[82], L5PCtemplate[0].dend[83]]\n",
      "apic: [L5PCtemplate[0].apic[0], L5PCtemplate[0].apic[1], L5PCtemplate[0].apic[2], L5PCtemplate[0].apic[3], L5PCtemplate[0].apic[4], L5PCtemplate[0].apic[5], L5PCtemplate[0].apic[6], L5PCtemplate[0].apic[7], L5PCtemplate[0].apic[8], L5PCtemplate[0].apic[9], L5PCtemplate[0].apic[10], L5PCtemplate[0].apic[11], L5PCtemplate[0].apic[12], L5PCtemplate[0].apic[13], L5PCtemplate[0].apic[14], L5PCtemplate[0].apic[15], L5PCtemplate[0].apic[16], L5PCtemplate[0].apic[17], L5PCtemplate[0].apic[18], L5PCtemplate[0].apic[19], L5PCtemplate[0].apic[20], L5PCtemplate[0].apic[21], L5PCtemplate[0].apic[22], L5PCtemplate[0].apic[23], L5PCtemplate[0].apic[24], L5PCtemplate[0].apic[25], L5PCtemplate[0].apic[26], L5PCtemplate[0].apic[27], L5PCtemplate[0].apic[28], L5PCtemplate[0].apic[29], L5PCtemplate[0].apic[30], L5PCtemplate[0].apic[31], L5PCtemplate[0].apic[32], L5PCtemplate[0].apic[33], L5PCtemplate[0].apic[34], L5PCtemplate[0].apic[35], L5PCtemplate[0].apic[36], L5PCtemplate[0].apic[37], L5PCtemplate[0].apic[38], L5PCtemplate[0].apic[39], L5PCtemplate[0].apic[40], L5PCtemplate[0].apic[41], L5PCtemplate[0].apic[42], L5PCtemplate[0].apic[43], L5PCtemplate[0].apic[44], L5PCtemplate[0].apic[45], L5PCtemplate[0].apic[46], L5PCtemplate[0].apic[47], L5PCtemplate[0].apic[48], L5PCtemplate[0].apic[49], L5PCtemplate[0].apic[50], L5PCtemplate[0].apic[51], L5PCtemplate[0].apic[52], L5PCtemplate[0].apic[53], L5PCtemplate[0].apic[54], L5PCtemplate[0].apic[55], L5PCtemplate[0].apic[56], L5PCtemplate[0].apic[57], L5PCtemplate[0].apic[58], L5PCtemplate[0].apic[59], L5PCtemplate[0].apic[60], L5PCtemplate[0].apic[61], L5PCtemplate[0].apic[62], L5PCtemplate[0].apic[63], L5PCtemplate[0].apic[64], L5PCtemplate[0].apic[65], L5PCtemplate[0].apic[66], L5PCtemplate[0].apic[67], L5PCtemplate[0].apic[68], L5PCtemplate[0].apic[69], L5PCtemplate[0].apic[70], L5PCtemplate[0].apic[71], L5PCtemplate[0].apic[72], L5PCtemplate[0].apic[73], L5PCtemplate[0].apic[74], L5PCtemplate[0].apic[75], L5PCtemplate[0].apic[76], L5PCtemplate[0].apic[77], L5PCtemplate[0].apic[78], L5PCtemplate[0].apic[79], L5PCtemplate[0].apic[80], L5PCtemplate[0].apic[81], L5PCtemplate[0].apic[82], L5PCtemplate[0].apic[83], L5PCtemplate[0].apic[84], L5PCtemplate[0].apic[85], L5PCtemplate[0].apic[86], L5PCtemplate[0].apic[87], L5PCtemplate[0].apic[88], L5PCtemplate[0].apic[89], L5PCtemplate[0].apic[90], L5PCtemplate[0].apic[91], L5PCtemplate[0].apic[92], L5PCtemplate[0].apic[93], L5PCtemplate[0].apic[94], L5PCtemplate[0].apic[95], L5PCtemplate[0].apic[96], L5PCtemplate[0].apic[97], L5PCtemplate[0].apic[98], L5PCtemplate[0].apic[99], L5PCtemplate[0].apic[100], L5PCtemplate[0].apic[101], L5PCtemplate[0].apic[102], L5PCtemplate[0].apic[103], L5PCtemplate[0].apic[104], L5PCtemplate[0].apic[105], L5PCtemplate[0].apic[106], L5PCtemplate[0].apic[107], L5PCtemplate[0].apic[108]]\n",
      "axon: [L5PCtemplate[0].axon[0]]\n",
      "(2024-04-26 14:24:02.345712)-[PID: 3969763]–[INFO]: Finished creating a CellModel object.\n",
      "(2024-04-26 14:24:02.345741)-[PID: 3969763]–[INFO]: Finish building in 0.2575387954711914\n"
     ]
    }
   ],
   "source": [
    "# Build the cell\n",
    "logger = Logger(None)\n",
    "cell_builder = CellBuilder(sim.cell_type, parameters, logger)\n",
    "cell, _ = cell_builder.build_cell()"
   ]
  },
  {
   "cell_type": "code",
   "execution_count": 8,
   "metadata": {},
   "outputs": [],
   "source": [
    "from adjacency import get_all_descendants, find_terminal_descendants, get_branching_seg_indices"
   ]
  },
  {
   "cell_type": "code",
   "execution_count": 9,
   "metadata": {},
   "outputs": [],
   "source": [
    "%matplotlib widget\n",
    "import matplotlib.pyplot as plt\n",
    "from mpl_toolkits.mplot3d import Axes3D\n",
    "from ipywidgets import interactive, fixed, FloatSlider\n",
    "\n",
    "# Modify the plot_segments function to use rotate_data\n",
    "def plot_segments(seg_data, elevation=0, azimuth=-100, radius_scale=1.0, deleted_indices=[]):\n",
    "    plt.close('all')  # Close any existing plots to prevent overload\n",
    "    fig = plt.figure()\n",
    "    ax = fig.add_subplot(111, projection='3d')\n",
    "\n",
    "    for i, seg in enumerate(seg_data):\n",
    "        x_points = [seg.coords['p0_0'].iloc[0], seg.coords['pc_0'].iloc[0], seg.coords['p1_0'].iloc[0]]\n",
    "        y_points = [seg.coords['p0_1'].iloc[0], seg.coords['pc_1'].iloc[0], seg.coords['p1_1'].iloc[0]]\n",
    "        z_points = [seg.coords['p0_2'].iloc[0], seg.coords['pc_2'].iloc[0], seg.coords['p1_2'].iloc[0]]\n",
    "        \n",
    "        radius = seg.coords['r'].iloc[0] * radius_scale  # Scale the radius for the linewidth\n",
    "        color = 'red' if i in deleted_indices else 'black'\n",
    "        radius = radius*10 if i in deleted_indices else radius\n",
    "        ax.plot(x_points, z_points, y_points, linewidth=radius, color=color)\n",
    "\n",
    "    ax.view_init(elev=elevation, azim=azimuth)\n",
    "    ax.set_xlabel('X')\n",
    "    ax.set_ylabel('Z')\n",
    "    ax.set_zlabel('Y')\n",
    "    plt.show()"
   ]
  },
  {
   "cell_type": "code",
   "execution_count": 10,
   "metadata": {},
   "outputs": [],
   "source": [
    "from Modules.morph_reduction_utils import get_terminal_coordinates, create_segments_to_mech_vals, EXCLUDE_MECHANISMS, disconnect_root, reduce_subtree, calculate_nsegs_from_lambda, apply_params_to_section, create_seg_to_seg, copy_dendritic_mech, average_coordinates, calculate_third_point"
   ]
  },
  {
   "cell_type": "code",
   "execution_count": 11,
   "metadata": {},
   "outputs": [],
   "source": [
    "adjacency_matrix = cell.compute_directed_adjacency_matrix()"
   ]
  },
  {
   "cell_type": "code",
   "execution_count": 12,
   "metadata": {},
   "outputs": [
    {
     "name": "stdout",
     "output_type": "stream",
     "text": [
      "root_sections_to_reduce: [L5PCtemplate[0].apic[50], L5PCtemplate[0].apic[37]]\n"
     ]
    }
   ],
   "source": [
    "from cell_model import find_nexus_seg\n",
    "all_segments, seg_data = cell.get_segments(['all'])\n",
    "\n",
    "nexus_seg_index = find_nexus_seg(cell, adjacency_matrix)\n",
    "nexus_seg = all_segments[nexus_seg_index]\n",
    "root_sections_to_reduce = nexus_seg.sec.children()\n",
    "print(f\"root_sections_to_reduce: {root_sections_to_reduce}\")"
   ]
  },
  {
   "cell_type": "code",
   "execution_count": 13,
   "metadata": {},
   "outputs": [],
   "source": [
    "def reduce_tree(root_section, all_segments, seg_data, adjacency_matrix):\n",
    "    print(f\"Reducing {root_section} and its descendants to single uniform cylindrical cable.\")\n",
    "    # gather the sectuibs and segments to delete.\n",
    "    root_seg = root_section(0.000001)\n",
    "    root_seg_index = all_segments.index(root_seg)\n",
    "    root_seg_descendants_indices = get_all_descendants(adjacency_matrix, start_segment=root_seg_index, descendants=None)\n",
    "    root_seg_descendants = [all_segments[seg_index] for seg_index in root_seg_descendants_indices]\n",
    "    root_sec_descendants = list(np.unique([seg.sec for seg in root_seg_descendants]))\n",
    "    sections_to_delete = np.unique([root_section] + root_sec_descendants) # root_sec will be in root_sec_descendants if root_sec is multiple segments\n",
    "    deleted_seg_indices = [all_segments.index(seg) for sec in sections_to_delete for seg in sec]\n",
    "    \n",
    "    # get 3D coordinates # consider updating to get all the coordinates along the tree?\n",
    "    terminal_descendant_indices = find_terminal_descendants(adjacency_matrix, start_index=root_seg_index, visited=None, terminal_indices=None)\n",
    "    original_terminal_seg_coords = get_terminal_coordinates(seg_data, terminal_descendant_indices)\n",
    "    original_root_seg_coords = seg_data[root_seg_index].coords # have to dissect this correctly\n",
    "    new_section_begin_coordinates = [original_root_seg_coords.p0_0, original_root_seg_coords.p0_1, original_root_seg_coords.p0_2]\n",
    "    \n",
    "    # remove active conductances and get seg_to_mech dictionary that maps the holds mechanism values for the deleted segments\n",
    "    deleted_segment_mechs_dict = create_segments_to_mech_vals(sections_to_delete=sections_to_delete, remove_mechs=False, exclude=EXCLUDE_MECHANISMS)\n",
    "    \n",
    "    # disconnet the root (ascendant/seg_to_reduce_from) from its ascendants. store x to reconnect later.\n",
    "    root_parent_sec, root_connection_x_loc = disconnect_root(root_section)\n",
    "    \n",
    "    # get the new cable properties\n",
    "    new_cable_properties = reduce_subtree(root_section)\n",
    "    print(f\"new_cable_properties: {new_cable_properties}\")\n",
    "    \n",
    "    # determine nseg for the new branches\n",
    "    new_cable_nseg = calculate_nsegs_from_lambda(new_cable_properties)\n",
    "    \n",
    "    # create reduced branches\n",
    "    root_sec_type = str(root_section).split('.')[-1].split('[')[0]\n",
    "    num_sec_of_root_sec_type = len(getattr(cell, root_sec_type))\n",
    "    new_section_name  = 'New.' + root_sec_type + '[' + str(num_sec_of_root_sec_type)+ ']'\n",
    "    new_section = h.Section(name=new_section_name)\n",
    "    apply_params_to_section(new_section, new_cable_properties, new_cable_nseg)\n",
    "    new_section.connect(root_parent_sec(root_connection_x_loc), 0)\n",
    "    getattr(cell, root_sec_type).append(new_section)\n",
    "    cell.all.append(new_section)\n",
    "    \n",
    "    # give 3D coordinates to new section\n",
    "    average_terminal_coordinates = average_coordinates(original_terminal_seg_coords)\n",
    "    new_section_end_coordinates = calculate_third_point(new_section_begin_coordinates, average_terminal_coordinates, new_cable_properties.length)\n",
    "    new_section.pt3dadd(float(new_section_begin_coordinates[0].iloc[0]), float(new_section_begin_coordinates[1].iloc[0]), float(new_section_begin_coordinates[2].iloc[0]), new_section.diam)\n",
    "    new_section.pt3dadd(float(new_section_end_coordinates[0].iloc[0]), float(new_section_end_coordinates[1].iloc[0]), float(new_section_end_coordinates[2].iloc[0]), new_section.diam)\n",
    "    \n",
    "    # deal with synapses\n",
    "\n",
    "    # create segment to segment mapping\n",
    "    reduction_frequency=0\n",
    "    mapping_type = 'impedance'\n",
    "    original_seg_to_reduced_seg, reduced_seg_to_original_seg = create_seg_to_seg(new_section,\n",
    "                        root_sec_descendants,\n",
    "                        root_section,\n",
    "                        new_cable_properties,\n",
    "                        mapping_type,\n",
    "                        reduction_frequency)\n",
    "    \n",
    "    # copy active mechanisms\n",
    "    copy_dendritic_mech(original_seg_to_reduced_seg=original_seg_to_reduced_seg,\n",
    "                        reduced_seg_to_original_seg=reduced_seg_to_original_seg,\n",
    "                        segment_to_mech_vals=deleted_segment_mechs_dict,\n",
    "                        new_section=new_section,\n",
    "                        mapping_type=mapping_type)\n",
    "    \n",
    "    # delete the sections to delete\n",
    "    for sec in sections_to_delete:\n",
    "        sec_type = str(sec).split('.')[-1].split('[')[0]\n",
    "        getattr(cell,sec_type).remove(sec)\n",
    "        cell.all.remove(sec)\n",
    "        h.delete_section(sec=sec)\n",
    "        \n",
    "    return deleted_seg_indices, new_section"
   ]
  },
  {
   "cell_type": "markdown",
   "metadata": {},
   "source": [
    "Equation (1):\n",
    "$$\n",
    "Z_{0,X} (\\omega) = \\frac{R_{\\infty} \\cosh (q (L - X))}{q \\sinh(qL)},\n",
    "$$\n",
    "\n",
    "where\n",
    "\n",
    "Equation (2):\n",
    "$$\n",
    "R_{\\infty} = \\frac{2}{\\pi} \\sqrt{R_m R_a} d^{-\\frac{3}{2}},\n",
    "$$\n",
    "\n",
    "and\n",
    "\n",
    "Equation (3):\n",
    "$$\n",
    "q = \\sqrt{1 + i\\omega\\tau},\n",
    "$$\n",
    "\n",
    "where $\\tau$ is the membrane time constant, $R_m C_m$."
   ]
  },
  {
   "cell_type": "markdown",
   "metadata": {},
   "source": [
    "From Eq. (1), the input impedance at $(X=0)$ is\n",
    "\n",
    "Equation (4):\n",
    "$$\n",
    "Z_{0,0} (\\omega) = \\frac{R_{\\infty}}{q} \\coth(qL).\n",
    "$$\n",
    "\n",
    "We next want a cylindrical cable of electrotonic length $L$, in which both $|Z_{0,L} (\\omega)|$ and $|Z_{0,0} (\\omega)|$ are identical to those measured in the respective original stem dendrite (Fig. 1). For this purpose, we first look for an $L$ value in which the ratio $\\frac{|Z_{0,L} (\\omega)|}{|Z_{0,0} (\\omega)|}$ is preserved. Dividing Eq. (1) by Eq. (4), we get\n",
    "\n",
    "\n",
    "Equation (5):\n",
    "$$\n",
    "\\frac{Z_{0,X} (\\omega)}{Z_{0,0} (\\omega)} = \\frac{\\cosh(q(L - X))}{\\cosh(qL)},\n",
    "$$\n",
    "\n",
    "which can be expressed as\n",
    "\n",
    "Equation (6):\n",
    "$$\n",
    "\\frac{Z_{0,X} (\\omega)}{Z_{0,0} (\\omega)} = \\frac{\\cosh (a(L - X) + i b(L - X))}{\\cosh(aL + i bL)} = M \\exp(i \\phi),\n",
    "$$\n"
   ]
  },
  {
   "cell_type": "markdown",
   "metadata": {},
   "source": [
    "where $a$ and $b$ are the real and the imaginary parts of $q$, respectively, and $M$ and $phi$ are the modulus and phase angle of this complex ratio.\n",
    "\n",
    "As shown previously\\(^{62}\\), it follows that\n",
    "\n",
    "$$\n",
    "M = \\frac{|Z_{0,X} (\\omega)|}{|Z_{0,0} (\\omega)|} = \\left[ \\frac{\\cosh(2a (L - X)) + \\cos(2b (L - X))}{\\cosh(2aL) + \\cos(2bL)} \\right]^{0.5}\n",
    "$$\n",
    "\n",
    "and\n",
    "\n",
    "$$\n",
    "\\phi = \\arctan \\left[ \\frac{\\tanh(a (L - X)) \\tan(b (L - X))}{1 - \\tanh(a (L - X)) \\tan(b (L - X))} \\right]\n",
    "$$\n",
    "\n",
    "Importantly, for a fixed $( M )$ (and a given $( \\omega )$) there is a unique value of $( L )$ that satisfies Eq. (7) (see Fig. 4 in ref. $( ^{62} )$ and note the one-to-one mapping between $( M )$ and $( L )$ for a given $( \\omega )$ value). However, there are an infinite number of cylindrical cables (with different diameters and lengths) that have identical $( L )$ values preserving a given $( M )$ value in Eq. (7).\n"
   ]
  },
  {
   "cell_type": "markdown",
   "metadata": {},
   "source": [
    "We next need a unique cable, with a specific diameter $d$, that also preserves the measured value of $|Z_{0,0}(\\omega)|$ (and therefore it also preserves $Z_{0,L}(\\omega)$, see Eq. (7)).\n",
    "\n",
    "From Eqs. (2) and (4) we get\n",
    "\n",
    "$$\n",
    "Z_{0,0} (\\omega) = \\frac{2}{\\pi q} \\sqrt{R_m R_a} d^{-\\frac{3}{2}} \\coth(qL)\n",
    "$$\n",
    "\n",
    "and thus\n",
    "\n",
    "$$\n",
    "|Z_{0,0} (\\omega)| = \\left| \\frac{2}{\\pi q} \\sqrt{R_m R_a} d^{-\\frac{3}{2}} \\coth(qL) \\right|\n",
    "$$\n",
    "\n",
    "from which we compute the diameter, $d$, for that cylinder\n",
    "\n",
    "$$\n",
    "|d| = \\left( \\frac{2}{\\pi} \\sqrt{R_m R_a} \\frac{\\coth(qL)}{|Z_{0,0} (\\omega)|} \\right)^{\\frac{2}{3}}.\n",
    "$$\n"
   ]
  },
  {
   "cell_type": "markdown",
   "metadata": {},
   "source": [
    "Equations (1)--(11) provide the unique cylindrical cable (with a specific $d$ and $L$, and the given membrane and axial properties) that preserves the values of $|Z_{0,L} (\\omega)|$ and $|Z_{0,0} (\\omega)|$ as in the respective stem dendrite. Note that this unique cable does not necessarily preserve the phase ratio ($\\phi$ in Eq. (8)) as in the original tree.\n"
   ]
  },
  {
   "cell_type": "code",
   "execution_count": 14,
   "metadata": {},
   "outputs": [
    {
     "name": "stdout",
     "output_type": "stream",
     "text": [
      "Reducing L5PCtemplate[0].apic[50] and its descendants to single uniform cylindrical cable.\n",
      "new_cable_properties: CableParams(length=1140.2024431017408, diam=1.6538087750516277, space_const=837.8282558822426, cm=2.0, rm=16977.92869269949, ra=100.0, e_pas=-90.0, electrotonic_length=1.3609023509252438)\n",
      "Reducing L5PCtemplate[0].apic[37] and its descendants to single uniform cylindrical cable.\n",
      "new_cable_properties: CableParams(length=702.1941510897877, diam=1.4055829093126275, space_const=772.397022359403, cm=2.0, rm=16977.92869269949, ra=100.0, e_pas=-90.0, electrotonic_length=0.9091103807531908)\n"
     ]
    }
   ],
   "source": [
    "all_deleted_seg_indices = []\n",
    "new_sections = []\n",
    "for root_section in root_sections_to_reduce:\n",
    "    deleted_seg_indices, new_section = reduce_tree(root_section, all_segments, seg_data, adjacency_matrix)\n",
    "    all_deleted_seg_indices.extend(deleted_seg_indices)\n",
    "    new_sections.append(new_section)"
   ]
  },
  {
   "cell_type": "code",
   "execution_count": 15,
   "metadata": {},
   "outputs": [
    {
     "data": {
      "text/plain": [
       "New.apic[81]"
      ]
     },
     "execution_count": 15,
     "metadata": {},
     "output_type": "execute_result"
    }
   ],
   "source": [
    "new_section"
   ]
  },
  {
   "cell_type": "markdown",
   "metadata": {},
   "source": [
    "Show Reduced Cell"
   ]
  },
  {
   "cell_type": "code",
   "execution_count": 16,
   "metadata": {},
   "outputs": [
    {
     "data": {
      "application/vnd.jupyter.widget-view+json": {
       "model_id": "c37d40af2f3049458325c89d7956b635",
       "version_major": 2,
       "version_minor": 0
      },
      "text/plain": [
       "interactive(children=(IntSlider(value=0, description='elevation', max=90, min=-90), IntSlider(value=-100, desc…"
      ]
     },
     "execution_count": 16,
     "metadata": {},
     "output_type": "execute_result"
    }
   ],
   "source": [
    "# Now include the updated plot_segments function in your interactive widget setup\n",
    "interactive_plot = interactive(plot_segments, \n",
    "                               seg_data=fixed(seg_data),\n",
    "                               elevation=(-90, 90, 1),\n",
    "                               azimuth=(-180, 180, 1),\n",
    "                               radius_scale=FloatSlider(min=0.1, max=5.0, step=0.1, value=1.0),\n",
    "                               deleted_indices=fixed(all_deleted_seg_indices))\n",
    "interactive_plot"
   ]
  },
  {
   "cell_type": "code",
   "execution_count": 17,
   "metadata": {},
   "outputs": [
    {
     "data": {
      "text/plain": [
       "[L5PCtemplate[0].axon[0], New.apic[109], New.apic[81]]"
      ]
     },
     "execution_count": 17,
     "metadata": {},
     "output_type": "execute_result"
    }
   ],
   "source": [
    "# new_section.name()\n",
    "cell.all[-3:]"
   ]
  },
  {
   "cell_type": "code",
   "execution_count": 18,
   "metadata": {},
   "outputs": [],
   "source": [
    "new_segments = [list(new_section) for new_section in new_sections]"
   ]
  },
  {
   "cell_type": "code",
   "execution_count": 19,
   "metadata": {},
   "outputs": [
    {
     "data": {
      "text/plain": [
       "[L5PCtemplate[0].apic[108], New.apic[109], New.apic[81]]"
      ]
     },
     "execution_count": 19,
     "metadata": {},
     "output_type": "execute_result"
    }
   ],
   "source": [
    "cell.apic[-3:]"
   ]
  },
  {
   "cell_type": "code",
   "execution_count": 20,
   "metadata": {},
   "outputs": [],
   "source": [
    "all_segments_after_reduction, new_seg_data = cell.get_segments(['all'])"
   ]
  },
  {
   "cell_type": "code",
   "execution_count": 21,
   "metadata": {},
   "outputs": [
    {
     "ename": "ValueError",
     "evalue": "[New.apic[109](0.0384615), New.apic[109](0.115385), New.apic[109](0.192308), New.apic[109](0.269231), New.apic[109](0.346154), New.apic[109](0.423077), New.apic[109](0.5), New.apic[109](0.576923), New.apic[109](0.653846), New.apic[109](0.730769), New.apic[109](0.807692), New.apic[109](0.884615), New.apic[109](0.961538)] is not in list",
     "output_type": "error",
     "traceback": [
      "\u001b[0;31m---------------------------------------------------------------------------\u001b[0m",
      "\u001b[0;31mValueError\u001b[0m                                Traceback (most recent call last)",
      "Cell \u001b[0;32mIn[21], line 3\u001b[0m\n\u001b[1;32m      1\u001b[0m new_seg_indices \u001b[38;5;241m=\u001b[39m []\n\u001b[1;32m      2\u001b[0m \u001b[38;5;28;01mfor\u001b[39;00m seg \u001b[38;5;129;01min\u001b[39;00m new_segments: \u001b[38;5;66;03m# new_sections is a list of segments as of writing this\u001b[39;00m\n\u001b[0;32m----> 3\u001b[0m     new_seg_indices\u001b[38;5;241m.\u001b[39mappend(\u001b[43mall_segments_after_reduction\u001b[49m\u001b[38;5;241;43m.\u001b[39;49m\u001b[43mindex\u001b[49m\u001b[43m(\u001b[49m\u001b[43mseg\u001b[49m\u001b[43m)\u001b[49m)\n",
      "\u001b[0;31mValueError\u001b[0m: [New.apic[109](0.0384615), New.apic[109](0.115385), New.apic[109](0.192308), New.apic[109](0.269231), New.apic[109](0.346154), New.apic[109](0.423077), New.apic[109](0.5), New.apic[109](0.576923), New.apic[109](0.653846), New.apic[109](0.730769), New.apic[109](0.807692), New.apic[109](0.884615), New.apic[109](0.961538)] is not in list"
     ]
    }
   ],
   "source": [
    "new_seg_indices = []\n",
    "for seg in new_segments: # new_sections is a list of segments as of writing this\n",
    "    new_seg_indices.append(all_segments_after_reduction.index(seg))"
   ]
  },
  {
   "cell_type": "code",
   "execution_count": null,
   "metadata": {},
   "outputs": [],
   "source": [
    "# Now include the updated plot_segments function in your interactive widget setup\n",
    "interactive_plot = interactive(plot_segments, \n",
    "                               seg_data=fixed(new_seg_data),\n",
    "                               elevation=(-90, 90, 1),\n",
    "                               azimuth=(-180, 180, 1),\n",
    "                               radius_scale=FloatSlider(min=0.1, max=5.0, step=0.1, value=1.0),\n",
    "                               deleted_indices=fixed(new_seg_indices))\n",
    "interactive_plot"
   ]
  },
  {
   "cell_type": "code",
   "execution_count": null,
   "metadata": {},
   "outputs": [],
   "source": [
    "parameters"
   ]
  },
  {
   "cell_type": "code",
   "execution_count": null,
   "metadata": {},
   "outputs": [],
   "source": [
    "os.mkdir(sim.path)"
   ]
  },
  {
   "cell_type": "code",
   "execution_count": null,
   "metadata": {},
   "outputs": [],
   "source": [
    "parameters.path = os.path.join(sim.path, parameters.sim_name)"
   ]
  },
  {
   "cell_type": "code",
   "execution_count": null,
   "metadata": {},
   "outputs": [],
   "source": [
    "parameters.path"
   ]
  },
  {
   "cell_type": "code",
   "execution_count": null,
   "metadata": {},
   "outputs": [],
   "source": [
    "sim.set_all_recorders(cell, parameters)"
   ]
  },
  {
   "cell_type": "code",
   "execution_count": null,
   "metadata": {},
   "outputs": [],
   "source": [
    "parameters.record_all_v"
   ]
  },
  {
   "cell_type": "code",
   "execution_count": null,
   "metadata": {},
   "outputs": [],
   "source": [
    "sim.simulate(cell, parameters)"
   ]
  },
  {
   "cell_type": "code",
   "execution_count": null,
   "metadata": {},
   "outputs": [],
   "source": [
    "import pickle\n",
    "with open(os.path.join(parameters.path, \"parameters.pickle\"), \"wb\") as file:\n",
    "    pickle.dump(parameters, file)"
   ]
  },
  {
   "cell_type": "code",
   "execution_count": null,
   "metadata": {},
   "outputs": [],
   "source": [
    "import analysis\n",
    "soma_spikes = analysis.DataReader.read_data(parameters.path, \"soma_spikes\")"
   ]
  },
  {
   "cell_type": "code",
   "execution_count": null,
   "metadata": {},
   "outputs": [],
   "source": [
    "v = analysis.DataReader.read_data(parameters.path, \"v\")"
   ]
  },
  {
   "cell_type": "code",
   "execution_count": null,
   "metadata": {},
   "outputs": [],
   "source": [
    "v[0]"
   ]
  }
 ],
 "metadata": {
  "kernelspec": {
   "display_name": "sim_env",
   "language": "python",
   "name": "python3"
  },
  "language_info": {
   "codemirror_mode": {
    "name": "ipython",
    "version": 3
   },
   "file_extension": ".py",
   "mimetype": "text/x-python",
   "name": "python",
   "nbconvert_exporter": "python",
   "pygments_lexer": "ipython3",
   "version": "3.10.13"
  }
 },
 "nbformat": 4,
 "nbformat_minor": 2
}
