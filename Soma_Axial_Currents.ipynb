{
  "nbformat": 4,
  "nbformat_minor": 0,
  "metadata": {
    "colab": {
      "provenance": [],
      "authorship_tag": "ABX9TyNOp+RUQlA9HEUtX92L6fhS",
      "include_colab_link": true
    },
    "kernelspec": {
      "name": "python3",
      "display_name": "Python 3"
    },
    "language_info": {
      "name": "python"
    }
  },
  "cells": [
    {
      "cell_type": "markdown",
      "metadata": {
        "id": "view-in-github",
        "colab_type": "text"
      },
      "source": [
        "<a href=\"https://colab.research.google.com/github/davidfague/Neural-Modeling/blob/main/Soma_Axial_Currents.ipynb\" target=\"_parent\"><img src=\"https://colab.research.google.com/assets/colab-badge.svg\" alt=\"Open In Colab\"/></a>"
      ]
    },
    {
      "cell_type": "code",
      "source": [
        "is_colab = 'google.colab' in str(get_ipython())"
      ],
      "metadata": {
        "id": "tsWNeJoxv_sV"
      },
      "execution_count": 1,
      "outputs": []
    },
    {
      "cell_type": "code",
      "source": [
        "if is_colab:\n",
        "    !git clone https://github.com/davidfague/Neural-Modeling.git\n",
        "    from google.colab import drive\n",
        "    drive.mount('/content/drive')\n",
        "    %cd /content/drive/MyDrive/"
      ],
      "metadata": {
        "colab": {
          "base_uri": "https://localhost:8080/"
        },
        "id": "Is01TBChwA6C",
        "outputId": "88e5f01e-0b0c-48ba-d38c-9e1f0b59a207"
      },
      "execution_count": 2,
      "outputs": [
        {
          "output_type": "stream",
          "name": "stdout",
          "text": [
            "Cloning into 'Neural-Modeling'...\n",
            "remote: Enumerating objects: 843, done.\u001b[K\n",
            "remote: Counting objects: 100% (400/400), done.\u001b[K\n",
            "remote: Compressing objects: 100% (256/256), done.\u001b[K\n",
            "remote: Total 843 (delta 266), reused 220 (delta 143), pack-reused 443\u001b[K\n",
            "Receiving objects: 100% (843/843), 4.40 MiB | 16.57 MiB/s, done.\n",
            "Resolving deltas: 100% (537/537), done.\n",
            "Mounted at /content/drive\n",
            "/content/drive/MyDrive\n"
          ]
        }
      ]
    },
    {
      "cell_type": "code",
      "execution_count": 3,
      "metadata": {
        "id": "_cykmYCD201Z"
      },
      "outputs": [],
      "source": [
        "import pandas as pd\n",
        "import h5py\n",
        "import numpy as np\n",
        "import matplotlib.pyplot as plt\n",
        "import seaborn as sns\n",
        "import scipy.signal as ss\n",
        "from mpl_toolkits import mplot3d\n",
        "import pdb #python debugger"
      ]
    },
    {
      "cell_type": "code",
      "source": [
        "output_folder = 'L5PCtemplate[0]_50e-1Hz_196nseg_2000ms_108nbranch_29068NCs_29068nsyn'\n",
        "v = h5py.File('./{}/Vm_report.h5'.format(output_folder),'r') #read segment voltage traces\n",
        "segs = pd.read_csv('./{}/seg_info.csv'.format(output_folder)) # read segment values"
      ],
      "metadata": {
        "id": "2WLF-kL7HJhQ"
      },
      "execution_count": 4,
      "outputs": []
    },
    {
      "cell_type": "code",
      "source": [
        "print(segs.columns)"
      ],
      "metadata": {
        "colab": {
          "base_uri": "https://localhost:8080/"
        },
        "id": "dOm2hQ_rvmLT",
        "outputId": "4e9f15b9-1c86-41a9-f296-7faef02fca82"
      },
      "execution_count": 5,
      "outputs": [
        {
          "output_type": "stream",
          "name": "stdout",
          "text": [
            "Index(['seg', 'seg index', 'p0 x3d', 'p0 y3d', 'p0 z3d', 'p0.5 x3d',\n",
            "       'p0.5 y3d', 'p0.5 z3d', 'p1 x3d', 'p1 y3d', 'p1 z3d', 'seg diam',\n",
            "       'bmtk index', 'x', 'sec', 'Type', 'sec index', 'sec diam', 'sec nseg',\n",
            "       'sec Ra', 'seg L', 'sec L', 'seg SA', 'seg h.distance', 'pseg index',\n",
            "       'seg elec distance', 'netcons_per_seg', 'netcon_density_per_seg',\n",
            "       'netcon_SA_density_per_seg'],\n",
            "      dtype='object')\n"
          ]
        }
      ]
    },
    {
      "cell_type": "markdown",
      "source": [
        "Probe class for making a segment's attributes accesible."
      ],
      "metadata": {
        "id": "wKxAvtzX23Wk"
      }
    },
    {
      "cell_type": "code",
      "source": [
        "#Get Columns\n",
        "segIDs=segs['seg index']\n",
        "# segs = segs.set_index(['Type','Sec ID']).join(segs_degrees.set_index(['Type','Sec ID'])).reset_index() #not sure what this does\n",
        "segs['sec index'] = segs['sec index'].astype(int)\n",
        "segs['x'] = segs['x'].astype(float)\n",
        "segs['Elec_distanceQ'] = 'None'\n",
        "AllSegXCoord=segs['p0.5 x3d']\n",
        "AllSegYCoord=segs['p0.5 y3d']\n",
        "AllSegZCoord=segs['p0.5 z3d']\n",
        "AllSegSec_ID=segs['sec index']\n",
        "seg_types=segs['Type']\n",
        "segLs=segs[\"seg L\"]\n",
        "segxs=segs[\"x\"]\n",
        "segdists=segs[\"seg h.distance\"]\n",
        "SegSecL=segs[\"sec\"]\n",
        "segdiams=segs[\"seg diam\"]\n",
        "SegSecnseg=segs[\"sec nseg\"]\n",
        "secRas=segs[\"sec Ra\"]\n",
        "psegIDs=segs[\"pseg index\"]\n",
        "secids=segs[\"sec index\"]\n",
        "# bmtkid=segs[\"BMTK index\"]\n",
        "# sectypes=segs[\"Type\"]\n",
        "\n",
        "#get simulation time\n",
        "seg_v=v['report']['biophysical']['data'][:,0] # get segment 0 voltage trace\n",
        "print(len(seg_v)) #should be equivalnt to (tstop=1000ms)/(dt=0.1ms)=10000\n",
        "tstop=1000 #simulation stop\n",
        "dt=0.1 #timestep\n",
        "t=np.arange(0,tstop,dt) #time array\n",
        "print(len(t))\n",
        "if len(t)!=len(seg_v):\n",
        "  print('Update Time array')\n",
        "\n",
        "psegids=[]\n",
        "for i in range(len(psegIDs)):\n",
        "  if np.isnan(psegIDs[i]) == False:\n",
        "    psegids.append(int(psegIDs[i]))\n",
        "  else:\n",
        "    psegids.append(psegIDs[i])"
      ],
      "metadata": {
        "id": "86t0Rtq95nAc",
        "outputId": "5f5f1e02-248a-435e-9027-a8729bdf7a97",
        "colab": {
          "base_uri": "https://localhost:8080/"
        }
      },
      "execution_count": 14,
      "outputs": [
        {
          "output_type": "stream",
          "name": "stdout",
          "text": [
            "20001\n",
            "10000\n",
            "Update Time array\n"
          ]
        }
      ]
    },
    {
      "cell_type": "code",
      "source": [
        "# # dir(segs)\n",
        "# new_dict=segs.values\n",
        "# print(new_dict)\n",
        "# print(segs)"
      ],
      "metadata": {
        "id": "dMaTofdRwBoM",
        "outputId": "097598d9-1f75-45c3-bc73-27c171d777c5",
        "colab": {
          "base_uri": "https://localhost:8080/"
        }
      },
      "execution_count": 39,
      "outputs": [
        {
          "output_type": "stream",
          "name": "stdout",
          "text": [
            "[['L5PCtemplate[0].soma[0](0.5)' 0 34.16338398827675 ...\n",
            "  \"{'exc': 0.0, 'inh': 13.034428828596507, 'total': 13.034428828596507}\"\n",
            "  \"{'exc': 0.0, 'inh': 0.30798217769474995, 'total': 0.30798217769474995}\"\n",
            "  'None']\n",
            " ['L5PCtemplate[0].dend[0](0.5)' 1 34.16338398827675 ...\n",
            "  \"{'exc': 3.0990610872415645, 'inh': 0.08264162899310838, 'total': 3.181702716234673}\"\n",
            "  \"{'exc': 0.8564667182501665, 'inh': 0.022839112486671108, 'total': 0.8793058307368377}\"\n",
            "  'None']\n",
            " ['L5PCtemplate[0].dend[1](0.5)' 2 34.16338398827675 ...\n",
            "  \"{'exc': 2.7663981778247946, 'inh': 0.39519973968925637, 'total': 3.161597917514051}\"\n",
            "  \"{'exc': 1.0006498794249166, 'inh': 0.1429499827749881, 'total': 1.1435998621999048}\"\n",
            "  'None']\n",
            " ...\n",
            " ['L5PCtemplate[0].apic[108](0.5)' 193 34.16338398827675 ...\n",
            "  \"{'exc': 0.831263676701926, 'inh': 0.13300218827230817, 'total': 0.9642658649742343}\"\n",
            "  \"{'exc': 0.45620595505770306, 'inh': 0.0729929528092325, 'total': 0.5291989078669356}\"\n",
            "  'None']\n",
            " ['L5PCtemplate[0].axon[0](0.5)' 194 34.16338398827675 ...\n",
            "  \"{'exc': 0.0, 'inh': 0.0, 'total': 0.0}\"\n",
            "  \"{'exc': 0.0, 'inh': 0.0, 'total': 0.0}\" 'None']\n",
            " ['L5PCtemplate[0].axon[1](0.5)' 195 34.16338398827675 ...\n",
            "  \"{'exc': 0.0, 'inh': 0.0, 'total': 0.0}\"\n",
            "  \"{'exc': 0.0, 'inh': 0.0, 'total': 0.0}\" 'None']]\n",
            "                                seg  seg index     p0 x3d     p0 y3d  p0 z3d  \\\n",
            "0      L5PCtemplate[0].soma[0](0.5)          0  34.163384  17.621519  -50.25   \n",
            "1      L5PCtemplate[0].dend[0](0.5)          1  34.163384  17.621519  -50.25   \n",
            "2      L5PCtemplate[0].dend[1](0.5)          2  34.163384  17.621519  -50.25   \n",
            "3      L5PCtemplate[0].dend[2](0.5)          3  34.163384  17.621519  -50.25   \n",
            "4      L5PCtemplate[0].dend[3](0.5)          4  34.163384  17.621519  -50.25   \n",
            "..                              ...        ...        ...        ...     ...   \n",
            "191  L5PCtemplate[0].apic[106](0.5)        191  34.163384  17.621519  -50.25   \n",
            "192  L5PCtemplate[0].apic[107](0.5)        192  34.163384  17.621519  -50.25   \n",
            "193  L5PCtemplate[0].apic[108](0.5)        193  34.163384  17.621519  -50.25   \n",
            "194    L5PCtemplate[0].axon[0](0.5)        194  34.163384  17.621519  -50.25   \n",
            "195    L5PCtemplate[0].axon[1](0.5)        195  34.163384  17.621519  -50.25   \n",
            "\n",
            "      p0.5 x3d   p0.5 y3d  p0.5 z3d     p1 x3d     p1 y3d  ...       seg L  \\\n",
            "0    45.725557  18.343678    -50.25  57.287731  19.065837  ...   23.169408   \n",
            "1    45.725557  18.343678    -50.25  57.287731  19.065837  ...   24.200878   \n",
            "2    45.725557  18.343678    -50.25  57.287731  19.065837  ...   15.182196   \n",
            "3    45.725557  18.343678    -50.25  57.287731  19.065837  ...  151.651052   \n",
            "4    45.725557  18.343678    -50.25  57.287731  19.065837  ...    7.455634   \n",
            "..         ...        ...       ...        ...        ...  ...         ...   \n",
            "191  45.725557  18.343678    -50.25  57.287731  19.065837  ...   22.085166   \n",
            "192  45.725557  18.343678    -50.25  57.287731  19.065837  ...   36.097826   \n",
            "193  45.725557  18.343678    -50.25  57.287731  19.065837  ...   30.074693   \n",
            "194  45.725557  18.343678    -50.25  57.287731  19.065837  ...   30.000000   \n",
            "195  45.725557  18.343678    -50.25  57.287731  19.065837  ...   29.999996   \n",
            "\n",
            "          sec L      seg SA  seg h.distance pseg index  \\\n",
            "0     23.169408  980.576221        0.000000        NaN   \n",
            "1     24.200878   87.569077       12.100439        0.0   \n",
            "2     15.182196   41.972723       31.791976        1.0   \n",
            "3    151.651052  252.358195      115.208601        2.0   \n",
            "4      7.455634   20.611857       43.110891        2.0   \n",
            "..          ...         ...             ...        ...   \n",
            "191   22.085166   40.241903       80.522464      189.0   \n",
            "192   36.097826   65.774703      109.613960      191.0   \n",
            "193   30.074693   54.799811      106.602393      191.0   \n",
            "194   30.000000   94.247780       15.000000        0.0   \n",
            "195   29.999996   94.247768       44.999998      194.0   \n",
            "\n",
            "                                     seg elec distance  \\\n",
            "0    {'delta': {'active_soma': 1.0, 'passive_soma':...   \n",
            "1    {'delta': {'active_soma': 0.8253193621381326, ...   \n",
            "2    {'delta': {'active_soma': 0.6205161287576743, ...   \n",
            "3    {'delta': {'active_soma': 0.14685661518979082,...   \n",
            "4    {'delta': {'active_soma': 0.5185473162830017, ...   \n",
            "..                                                 ...   \n",
            "191  {'delta': {'active_soma': 0.46398642191367856,...   \n",
            "192  {'delta': {'active_soma': 0.24264692652529202,...   \n",
            "193  {'delta': {'active_soma': 0.2552071855328755, ...   \n",
            "194  {'delta': {'active_soma': 0.7534492183295336, ...   \n",
            "195  {'delta': {'active_soma': 0.503902939588552, '...   \n",
            "\n",
            "                           netcons_per_seg  \\\n",
            "0     {'exc': 0, 'inh': 302, 'total': 302}   \n",
            "1       {'exc': 75, 'inh': 2, 'total': 77}   \n",
            "2       {'exc': 42, 'inh': 6, 'total': 48}   \n",
            "3    {'exc': 240, 'inh': 44, 'total': 284}   \n",
            "4       {'exc': 23, 'inh': 4, 'total': 27}   \n",
            "..                                     ...   \n",
            "191     {'exc': 30, 'inh': 0, 'total': 30}   \n",
            "192    {'exc': 70, 'inh': 10, 'total': 80}   \n",
            "193     {'exc': 25, 'inh': 4, 'total': 29}   \n",
            "194       {'exc': 0, 'inh': 0, 'total': 0}   \n",
            "195       {'exc': 0, 'inh': 0, 'total': 0}   \n",
            "\n",
            "                                netcon_density_per_seg  \\\n",
            "0    {'exc': 0.0, 'inh': 13.034428828596507, 'total...   \n",
            "1    {'exc': 3.0990610872415645, 'inh': 0.082641628...   \n",
            "2    {'exc': 2.7663981778247946, 'inh': 0.395199739...   \n",
            "3    {'exc': 1.5825805138144489, 'inh': 0.290139760...   \n",
            "4    {'exc': 3.0849154192286665, 'inh': 0.536507029...   \n",
            "..                                                 ...   \n",
            "191  {'exc': 1.3583778651964908, 'inh': 0.0, 'total...   \n",
            "192  {'exc': 1.9391749723265617, 'inh': 0.277024996...   \n",
            "193  {'exc': 0.831263676701926, 'inh': 0.1330021882...   \n",
            "194             {'exc': 0.0, 'inh': 0.0, 'total': 0.0}   \n",
            "195             {'exc': 0.0, 'inh': 0.0, 'total': 0.0}   \n",
            "\n",
            "                             netcon_SA_density_per_seg  Elec_distanceQ  \n",
            "0    {'exc': 0.0, 'inh': 0.30798217769474995, 'tota...            None  \n",
            "1    {'exc': 0.8564667182501665, 'inh': 0.022839112...            None  \n",
            "2    {'exc': 1.0006498794249166, 'inh': 0.142949982...            None  \n",
            "3    {'exc': 0.9510291497601382, 'inh': 0.174355344...            None  \n",
            "4    {'exc': 1.1158625923888013, 'inh': 0.194063059...            None  \n",
            "..                                                 ...             ...  \n",
            "191  {'exc': 0.7454915794948422, 'inh': 0.0, 'total...            None  \n",
            "192  {'exc': 1.064238935332977, 'inh': 0.1520341336...            None  \n",
            "193  {'exc': 0.45620595505770306, 'inh': 0.07299295...            None  \n",
            "194             {'exc': 0.0, 'inh': 0.0, 'total': 0.0}            None  \n",
            "195             {'exc': 0.0, 'inh': 0.0, 'total': 0.0}            None  \n",
            "\n",
            "[196 rows x 30 columns]\n"
          ]
        }
      ]
    },
    {
      "cell_type": "code",
      "source": [
        "segs"
      ],
      "metadata": {
        "id": "WviiV51ZxgZz",
        "outputId": "f146d2cd-722f-4a14-dc2e-35bb9e60dcaf",
        "colab": {
          "base_uri": "https://localhost:8080/",
          "height": 172
        }
      },
      "execution_count": 47,
      "outputs": [
        {
          "output_type": "error",
          "ename": "TypeError",
          "evalue": "ignored",
          "traceback": [
            "\u001b[0;31m---------------------------------------------------------------------------\u001b[0m",
            "\u001b[0;31mTypeError\u001b[0m                                 Traceback (most recent call last)",
            "\u001b[0;32m<ipython-input-47-5dde23bb4f35>\u001b[0m in \u001b[0;36m<cell line: 1>\u001b[0;34m()\u001b[0m\n\u001b[0;32m----> 1\u001b[0;31m \u001b[0msegs\u001b[0m\u001b[0;34m(\u001b[0m\u001b[0;36m0\u001b[0m\u001b[0;34m)\u001b[0m\u001b[0;34m\u001b[0m\u001b[0;34m\u001b[0m\u001b[0m\n\u001b[0m",
            "\u001b[0;31mTypeError\u001b[0m: 'DataFrame' object is not callable"
          ]
        }
      ]
    },
    {
      "cell_type": "code",
      "source": [
        "probes=[]\n",
        "class Segment():\n",
        "  def __init__(self,sectionindex,sectionname,color,XCoord,YCoord,ZCoord,secRa,segdiam,segx,segdist,sectionL,sectionNseg,segL,seg_v,parentseg,seg_type,seg):\n",
        "    self.seg=seg # seg info dictionary\n",
        "    self.seg.Vm=seg_v\n",
        "    self.name='sec:'+str(self.sectionname)+str(self.sectionindex)+' seg:'+str(self.seg)\n",
        "    self.seg['adjacent segs']=[]\n",
        "    self.parent_segs=[]\n",
        "    self.children_segs=[]\n",
        "    self.axial_currents=[]\n",
        "    self.parent_axial_currents=[]\n",
        "    self.children_axial_currents=[]\n",
        "    self.halfsegRa=.01*self.secRa*(self.secL/2/self.secnseg)/(np.pi*(self.segdiam/2)**2)\n",
        "    self.parentseg=parentseg\n",
        "    # self.sectype=seg_types\n",
        "    # self.seg=seg_type\n",
        "    # self.sectionindex=sectionindex\n",
        "    # self.sectionname=sectionname\n",
        "    # self.color=color\n",
        "    # self.XCoord=XCoord\n",
        "    # self.YCoord=YCoord\n",
        "    # self.ZCoord=ZCoord\n",
        "    # self.secRa=secRa\n",
        "    # self.segdiam=segdiam\n",
        "    # self.x=segx\n",
        "    # self.segdist=segdist\n",
        "    # self.secL=sectionL\n",
        "    # self.secnseg=sectionNseg\n",
        "    # self.segL=segL\n",
        "\n",
        "    # try:\n",
        "    #   self.axial_current=[Record_Axial_Current(section,single_seg=True)]\n",
        "    # except:\n",
        "    #   print(section)\n",
        "for i in range(len(segIDs)):\n",
        "  newprobe=Segment(sectionindex=AllSegSec_ID[i],sectionname=str(seg_types[i]),color='r',XCoord=AllSegXCoord[i],YCoord=AllSegYCoord[i],ZCoord=AllSegZCoord[i],\n",
        "                secRa=secRas[i],segdiam=segdiams[i],segx=segxs[i],segdist=segdists[i],sectionL=SegSecL[i],sectionNseg=SegSecnseg[i],segL=segLs[i],\n",
        "                seg_v=v['report']['biophysical']['data'][:,i],parentseg=psegids[i],seg_type=seg_types[i], seg=segs.iloc(i))\n",
        "  probes.append(newprobe)"
      ],
      "metadata": {
        "id": "MkB-ZzVxbDNx",
        "colab": {
          "base_uri": "https://localhost:8080/",
          "height": 399
        },
        "outputId": "e9dde106-6ca5-4b39-c130-df072e4ebb08"
      },
      "execution_count": 54,
      "outputs": [
        {
          "output_type": "error",
          "ename": "ValueError",
          "evalue": "ignored",
          "traceback": [
            "\u001b[0;31m---------------------------------------------------------------------------\u001b[0m",
            "\u001b[0;31mValueError\u001b[0m                                Traceback (most recent call last)",
            "\u001b[0;32m<ipython-input-54-daa0021bad14>\u001b[0m in \u001b[0;36m<cell line: 35>\u001b[0;34m()\u001b[0m\n\u001b[1;32m     34\u001b[0m     \u001b[0;31m#   print(section)\u001b[0m\u001b[0;34m\u001b[0m\u001b[0;34m\u001b[0m\u001b[0m\n\u001b[1;32m     35\u001b[0m \u001b[0;32mfor\u001b[0m \u001b[0mi\u001b[0m \u001b[0;32min\u001b[0m \u001b[0mrange\u001b[0m\u001b[0;34m(\u001b[0m\u001b[0mlen\u001b[0m\u001b[0;34m(\u001b[0m\u001b[0msegIDs\u001b[0m\u001b[0;34m)\u001b[0m\u001b[0;34m)\u001b[0m\u001b[0;34m:\u001b[0m\u001b[0;34m\u001b[0m\u001b[0;34m\u001b[0m\u001b[0m\n\u001b[0;32m---> 36\u001b[0;31m   newprobe=Segment(sectionindex=AllSegSec_ID[i],sectionname=str(seg_types[i]),color='r',XCoord=AllSegXCoord[i],YCoord=AllSegYCoord[i],ZCoord=AllSegZCoord[i],\n\u001b[0m\u001b[1;32m     37\u001b[0m                 \u001b[0msecRa\u001b[0m\u001b[0;34m=\u001b[0m\u001b[0msecRas\u001b[0m\u001b[0;34m[\u001b[0m\u001b[0mi\u001b[0m\u001b[0;34m]\u001b[0m\u001b[0;34m,\u001b[0m\u001b[0msegdiam\u001b[0m\u001b[0;34m=\u001b[0m\u001b[0msegdiams\u001b[0m\u001b[0;34m[\u001b[0m\u001b[0mi\u001b[0m\u001b[0;34m]\u001b[0m\u001b[0;34m,\u001b[0m\u001b[0msegx\u001b[0m\u001b[0;34m=\u001b[0m\u001b[0msegxs\u001b[0m\u001b[0;34m[\u001b[0m\u001b[0mi\u001b[0m\u001b[0;34m]\u001b[0m\u001b[0;34m,\u001b[0m\u001b[0msegdist\u001b[0m\u001b[0;34m=\u001b[0m\u001b[0msegdists\u001b[0m\u001b[0;34m[\u001b[0m\u001b[0mi\u001b[0m\u001b[0;34m]\u001b[0m\u001b[0;34m,\u001b[0m\u001b[0msectionL\u001b[0m\u001b[0;34m=\u001b[0m\u001b[0mSegSecL\u001b[0m\u001b[0;34m[\u001b[0m\u001b[0mi\u001b[0m\u001b[0;34m]\u001b[0m\u001b[0;34m,\u001b[0m\u001b[0msectionNseg\u001b[0m\u001b[0;34m=\u001b[0m\u001b[0mSegSecnseg\u001b[0m\u001b[0;34m[\u001b[0m\u001b[0mi\u001b[0m\u001b[0;34m]\u001b[0m\u001b[0;34m,\u001b[0m\u001b[0msegL\u001b[0m\u001b[0;34m=\u001b[0m\u001b[0msegLs\u001b[0m\u001b[0;34m[\u001b[0m\u001b[0mi\u001b[0m\u001b[0;34m]\u001b[0m\u001b[0;34m,\u001b[0m\u001b[0;34m\u001b[0m\u001b[0;34m\u001b[0m\u001b[0m\n\u001b[1;32m     38\u001b[0m                 seg_v=v['report']['biophysical']['data'][:,i],parentseg=psegids[i],seg_type=seg_types[i], seg=segs.iloc(i))\n",
            "\u001b[0;32m<ipython-input-54-daa0021bad14>\u001b[0m in \u001b[0;36m__init__\u001b[0;34m(self, sectionindex, sectionname, color, XCoord, YCoord, ZCoord, secRa, segdiam, segx, segdist, sectionL, sectionNseg, segL, seg_v, parentseg, seg_type, seg)\u001b[0m\n\u001b[1;32m      3\u001b[0m   \u001b[0;32mdef\u001b[0m \u001b[0m__init__\u001b[0m\u001b[0;34m(\u001b[0m\u001b[0mself\u001b[0m\u001b[0;34m,\u001b[0m\u001b[0msectionindex\u001b[0m\u001b[0;34m,\u001b[0m\u001b[0msectionname\u001b[0m\u001b[0;34m,\u001b[0m\u001b[0mcolor\u001b[0m\u001b[0;34m,\u001b[0m\u001b[0mXCoord\u001b[0m\u001b[0;34m,\u001b[0m\u001b[0mYCoord\u001b[0m\u001b[0;34m,\u001b[0m\u001b[0mZCoord\u001b[0m\u001b[0;34m,\u001b[0m\u001b[0msecRa\u001b[0m\u001b[0;34m,\u001b[0m\u001b[0msegdiam\u001b[0m\u001b[0;34m,\u001b[0m\u001b[0msegx\u001b[0m\u001b[0;34m,\u001b[0m\u001b[0msegdist\u001b[0m\u001b[0;34m,\u001b[0m\u001b[0msectionL\u001b[0m\u001b[0;34m,\u001b[0m\u001b[0msectionNseg\u001b[0m\u001b[0;34m,\u001b[0m\u001b[0msegL\u001b[0m\u001b[0;34m,\u001b[0m\u001b[0mseg_v\u001b[0m\u001b[0;34m,\u001b[0m\u001b[0mparentseg\u001b[0m\u001b[0;34m,\u001b[0m\u001b[0mseg_type\u001b[0m\u001b[0;34m,\u001b[0m\u001b[0mseg\u001b[0m\u001b[0;34m)\u001b[0m\u001b[0;34m:\u001b[0m\u001b[0;34m\u001b[0m\u001b[0;34m\u001b[0m\u001b[0m\n\u001b[1;32m      4\u001b[0m     \u001b[0mself\u001b[0m\u001b[0;34m.\u001b[0m\u001b[0mseg\u001b[0m\u001b[0;34m=\u001b[0m\u001b[0mseg\u001b[0m \u001b[0;31m# seg info dictionary\u001b[0m\u001b[0;34m\u001b[0m\u001b[0;34m\u001b[0m\u001b[0m\n\u001b[0;32m----> 5\u001b[0;31m     \u001b[0mself\u001b[0m\u001b[0;34m.\u001b[0m\u001b[0mseg\u001b[0m\u001b[0;34m[\u001b[0m\u001b[0;34m'Vm'\u001b[0m\u001b[0;34m]\u001b[0m\u001b[0;34m=\u001b[0m\u001b[0;34m[\u001b[0m\u001b[0mseg_v\u001b[0m\u001b[0;34m]\u001b[0m\u001b[0;34m\u001b[0m\u001b[0;34m\u001b[0m\u001b[0m\n\u001b[0m\u001b[1;32m      6\u001b[0m     \u001b[0mself\u001b[0m\u001b[0;34m.\u001b[0m\u001b[0mname\u001b[0m\u001b[0;34m=\u001b[0m\u001b[0;34m'sec:'\u001b[0m\u001b[0;34m+\u001b[0m\u001b[0mstr\u001b[0m\u001b[0;34m(\u001b[0m\u001b[0mself\u001b[0m\u001b[0;34m.\u001b[0m\u001b[0msectionname\u001b[0m\u001b[0;34m)\u001b[0m\u001b[0;34m+\u001b[0m\u001b[0mstr\u001b[0m\u001b[0;34m(\u001b[0m\u001b[0mself\u001b[0m\u001b[0;34m.\u001b[0m\u001b[0msectionindex\u001b[0m\u001b[0;34m)\u001b[0m\u001b[0;34m+\u001b[0m\u001b[0;34m' seg:'\u001b[0m\u001b[0;34m+\u001b[0m\u001b[0mstr\u001b[0m\u001b[0;34m(\u001b[0m\u001b[0mself\u001b[0m\u001b[0;34m.\u001b[0m\u001b[0mseg\u001b[0m\u001b[0;34m)\u001b[0m\u001b[0;34m\u001b[0m\u001b[0;34m\u001b[0m\u001b[0m\n\u001b[1;32m      7\u001b[0m     \u001b[0mself\u001b[0m\u001b[0;34m.\u001b[0m\u001b[0mseg\u001b[0m\u001b[0;34m[\u001b[0m\u001b[0;34m'adjacent segs'\u001b[0m\u001b[0;34m]\u001b[0m\u001b[0;34m=\u001b[0m\u001b[0;34m[\u001b[0m\u001b[0;34m]\u001b[0m\u001b[0;34m\u001b[0m\u001b[0;34m\u001b[0m\u001b[0m\n",
            "\u001b[0;32m/usr/local/lib/python3.10/dist-packages/pandas/core/indexing.py\u001b[0m in \u001b[0;36m__setitem__\u001b[0;34m(self, key, value)\u001b[0m\n\u001b[1;32m    816\u001b[0m \u001b[0;34m\u001b[0m\u001b[0m\n\u001b[1;32m    817\u001b[0m         \u001b[0miloc\u001b[0m \u001b[0;34m=\u001b[0m \u001b[0mself\u001b[0m \u001b[0;32mif\u001b[0m \u001b[0mself\u001b[0m\u001b[0;34m.\u001b[0m\u001b[0mname\u001b[0m \u001b[0;34m==\u001b[0m \u001b[0;34m\"iloc\"\u001b[0m \u001b[0;32melse\u001b[0m \u001b[0mself\u001b[0m\u001b[0;34m.\u001b[0m\u001b[0mobj\u001b[0m\u001b[0;34m.\u001b[0m\u001b[0miloc\u001b[0m\u001b[0;34m\u001b[0m\u001b[0;34m\u001b[0m\u001b[0m\n\u001b[0;32m--> 818\u001b[0;31m         \u001b[0miloc\u001b[0m\u001b[0;34m.\u001b[0m\u001b[0m_setitem_with_indexer\u001b[0m\u001b[0;34m(\u001b[0m\u001b[0mindexer\u001b[0m\u001b[0;34m,\u001b[0m \u001b[0mvalue\u001b[0m\u001b[0;34m,\u001b[0m \u001b[0mself\u001b[0m\u001b[0;34m.\u001b[0m\u001b[0mname\u001b[0m\u001b[0;34m)\u001b[0m\u001b[0;34m\u001b[0m\u001b[0;34m\u001b[0m\u001b[0m\n\u001b[0m\u001b[1;32m    819\u001b[0m \u001b[0;34m\u001b[0m\u001b[0m\n\u001b[1;32m    820\u001b[0m     \u001b[0;32mdef\u001b[0m \u001b[0m_validate_key\u001b[0m\u001b[0;34m(\u001b[0m\u001b[0mself\u001b[0m\u001b[0;34m,\u001b[0m \u001b[0mkey\u001b[0m\u001b[0;34m,\u001b[0m \u001b[0maxis\u001b[0m\u001b[0;34m:\u001b[0m \u001b[0mint\u001b[0m\u001b[0;34m)\u001b[0m\u001b[0;34m:\u001b[0m\u001b[0;34m\u001b[0m\u001b[0;34m\u001b[0m\u001b[0m\n",
            "\u001b[0;32m/usr/local/lib/python3.10/dist-packages/pandas/core/indexing.py\u001b[0m in \u001b[0;36m_setitem_with_indexer\u001b[0;34m(self, indexer, value, name)\u001b[0m\n\u001b[1;32m   1793\u001b[0m         \u001b[0;32mif\u001b[0m \u001b[0mtake_split_path\u001b[0m\u001b[0;34m:\u001b[0m\u001b[0;34m\u001b[0m\u001b[0;34m\u001b[0m\u001b[0m\n\u001b[1;32m   1794\u001b[0m             \u001b[0;31m# We have to operate column-wise\u001b[0m\u001b[0;34m\u001b[0m\u001b[0;34m\u001b[0m\u001b[0m\n\u001b[0;32m-> 1795\u001b[0;31m             \u001b[0mself\u001b[0m\u001b[0;34m.\u001b[0m\u001b[0m_setitem_with_indexer_split_path\u001b[0m\u001b[0;34m(\u001b[0m\u001b[0mindexer\u001b[0m\u001b[0;34m,\u001b[0m \u001b[0mvalue\u001b[0m\u001b[0;34m,\u001b[0m \u001b[0mname\u001b[0m\u001b[0;34m)\u001b[0m\u001b[0;34m\u001b[0m\u001b[0;34m\u001b[0m\u001b[0m\n\u001b[0m\u001b[1;32m   1796\u001b[0m         \u001b[0;32melse\u001b[0m\u001b[0;34m:\u001b[0m\u001b[0;34m\u001b[0m\u001b[0;34m\u001b[0m\u001b[0m\n\u001b[1;32m   1797\u001b[0m             \u001b[0mself\u001b[0m\u001b[0;34m.\u001b[0m\u001b[0m_setitem_single_block\u001b[0m\u001b[0;34m(\u001b[0m\u001b[0mindexer\u001b[0m\u001b[0;34m,\u001b[0m \u001b[0mvalue\u001b[0m\u001b[0;34m,\u001b[0m \u001b[0mname\u001b[0m\u001b[0;34m)\u001b[0m\u001b[0;34m\u001b[0m\u001b[0;34m\u001b[0m\u001b[0m\n",
            "\u001b[0;32m/usr/local/lib/python3.10/dist-packages/pandas/core/indexing.py\u001b[0m in \u001b[0;36m_setitem_with_indexer_split_path\u001b[0;34m(self, indexer, value, name)\u001b[0m\n\u001b[1;32m   1832\u001b[0m \u001b[0;34m\u001b[0m\u001b[0m\n\u001b[1;32m   1833\u001b[0m             \u001b[0;32melif\u001b[0m \u001b[0mnp\u001b[0m\u001b[0;34m.\u001b[0m\u001b[0mndim\u001b[0m\u001b[0;34m(\u001b[0m\u001b[0mvalue\u001b[0m\u001b[0;34m)\u001b[0m \u001b[0;34m==\u001b[0m \u001b[0;36m2\u001b[0m\u001b[0;34m:\u001b[0m\u001b[0;34m\u001b[0m\u001b[0;34m\u001b[0m\u001b[0m\n\u001b[0;32m-> 1834\u001b[0;31m                 \u001b[0mself\u001b[0m\u001b[0;34m.\u001b[0m\u001b[0m_setitem_with_indexer_2d_value\u001b[0m\u001b[0;34m(\u001b[0m\u001b[0mindexer\u001b[0m\u001b[0;34m,\u001b[0m \u001b[0mvalue\u001b[0m\u001b[0;34m)\u001b[0m\u001b[0;34m\u001b[0m\u001b[0;34m\u001b[0m\u001b[0m\n\u001b[0m\u001b[1;32m   1835\u001b[0m \u001b[0;34m\u001b[0m\u001b[0m\n\u001b[1;32m   1836\u001b[0m             \u001b[0;32melif\u001b[0m \u001b[0mlen\u001b[0m\u001b[0;34m(\u001b[0m\u001b[0milocs\u001b[0m\u001b[0;34m)\u001b[0m \u001b[0;34m==\u001b[0m \u001b[0;36m1\u001b[0m \u001b[0;32mand\u001b[0m \u001b[0mlplane_indexer\u001b[0m \u001b[0;34m==\u001b[0m \u001b[0mlen\u001b[0m\u001b[0;34m(\u001b[0m\u001b[0mvalue\u001b[0m\u001b[0;34m)\u001b[0m \u001b[0;32mand\u001b[0m \u001b[0;32mnot\u001b[0m \u001b[0mis_scalar\u001b[0m\u001b[0;34m(\u001b[0m\u001b[0mpi\u001b[0m\u001b[0;34m)\u001b[0m\u001b[0;34m:\u001b[0m\u001b[0;34m\u001b[0m\u001b[0;34m\u001b[0m\u001b[0m\n",
            "\u001b[0;32m/usr/local/lib/python3.10/dist-packages/pandas/core/indexing.py\u001b[0m in \u001b[0;36m_setitem_with_indexer_2d_value\u001b[0;34m(self, indexer, value)\u001b[0m\n\u001b[1;32m   1898\u001b[0m         \u001b[0mvalue\u001b[0m \u001b[0;34m=\u001b[0m \u001b[0mnp\u001b[0m\u001b[0;34m.\u001b[0m\u001b[0marray\u001b[0m\u001b[0;34m(\u001b[0m\u001b[0mvalue\u001b[0m\u001b[0;34m,\u001b[0m \u001b[0mdtype\u001b[0m\u001b[0;34m=\u001b[0m\u001b[0mobject\u001b[0m\u001b[0;34m)\u001b[0m\u001b[0;34m\u001b[0m\u001b[0;34m\u001b[0m\u001b[0m\n\u001b[1;32m   1899\u001b[0m         \u001b[0;32mif\u001b[0m \u001b[0mlen\u001b[0m\u001b[0;34m(\u001b[0m\u001b[0milocs\u001b[0m\u001b[0;34m)\u001b[0m \u001b[0;34m!=\u001b[0m \u001b[0mvalue\u001b[0m\u001b[0;34m.\u001b[0m\u001b[0mshape\u001b[0m\u001b[0;34m[\u001b[0m\u001b[0;36m1\u001b[0m\u001b[0;34m]\u001b[0m\u001b[0;34m:\u001b[0m\u001b[0;34m\u001b[0m\u001b[0;34m\u001b[0m\u001b[0m\n\u001b[0;32m-> 1900\u001b[0;31m             raise ValueError(\n\u001b[0m\u001b[1;32m   1901\u001b[0m                 \u001b[0;34m\"Must have equal len keys and value when setting with an ndarray\"\u001b[0m\u001b[0;34m\u001b[0m\u001b[0;34m\u001b[0m\u001b[0m\n\u001b[1;32m   1902\u001b[0m             )\n",
            "\u001b[0;31mValueError\u001b[0m: Must have equal len keys and value when setting with an ndarray"
          ]
        }
      ]
    },
    {
      "cell_type": "markdown",
      "source": [
        "Determine which segments are next to each other."
      ],
      "metadata": {
        "id": "D42YVHEB26tM"
      }
    },
    {
      "cell_type": "code",
      "source": [
        "#getting adjacent segments using parent segment IDs\n",
        "#getting children segments\n",
        "for i in range(len(psegids)): #iterate through segment index\n",
        "  if np.isnan(psegids[i]) == False:\n",
        "    for seg in segIDs: #check segIDs\n",
        "      if psegids[i]==seg: #find parent seg from parent seg id\n",
        "        probes[seg].adjprobes.append(probes[i]) #add child probe to probe's adjprobe list\n",
        "        probes[seg].childprobes.append(probes[i]) #add child probe to probe's childprobe list\n",
        "#getting parent segment\n",
        "for i in range(len(segIDs)):\n",
        "  if np.isnan(psegids[i]) == False:\n",
        "    probes[i].adjprobes.append(probes[int(psegids[i])]) #add parent seg probe to adj probes\n",
        "    probes[i].parentprobe.append(probes[int(psegids[i])]) #add parent seg probe to parent probes"
      ],
      "metadata": {
        "id": "c8p83unK0J11"
      },
      "execution_count": null,
      "outputs": []
    },
    {
      "cell_type": "markdown",
      "source": [
        "Compute axial currents from each segment toward its adjacent segments."
      ],
      "metadata": {
        "id": "X-18MDqr2-Nr"
      }
    },
    {
      "cell_type": "code",
      "source": [
        "#compute axial currents between all segments\n",
        "for probe in probes:\n",
        "  for adjprobe in probe.adjprobes:\n",
        "    axc=(probe.seg_v-adjprobe.seg_v)/(probe.halfsegRa+adjprobe.halfsegRa) #compute axial current using (v_in-v_out)/(halfsegRa+halfsegRa)\n",
        "    probe.axialcurrents.append(axc)\n",
        "    if [adjprobe] == probe.parentprobe:\n",
        "      probe.parentaxialcurrent.append(axc)\n",
        "    elif adjprobe in probe.childprobes:\n",
        "      probe.childrenaxialcurrents.append(axc)"
      ],
      "metadata": {
        "id": "ce_QlQqzAogx"
      },
      "execution_count": null,
      "outputs": []
    },
    {
      "cell_type": "markdown",
      "source": [
        "Find Segments adjacent to the soma segments"
      ],
      "metadata": {
        "id": "DvWIETq83AMK"
      }
    },
    {
      "cell_type": "code",
      "source": [
        "#Find soma segments and adjacent segments\n",
        "#Usefull subsetting method\n",
        "# print(segs[(segs.Type=='soma')]) #how to separate by type\n",
        "somasegIDs = segs[(segs.Type=='soma')]['segmentID'] #how to pull a column after separating by type\n",
        "print(somasegIDs)\n",
        "somaprobes=[]\n",
        "for seg in somasegIDs:\n",
        "  somaprobes.append(probes[seg])\n",
        "\n",
        "adjsomaprobes=[]\n",
        "for probe in somaprobes:\n",
        "  for adjprobe in probe.adjprobes:\n",
        "    if adjprobe.sectype != \"soma\": #need to make sure this works\n",
        "      adjsomaprobes.append(adjprobe) # get probes adjacent to soma\n",
        "\n",
        "somaaxialcurrents=[] #list of axial currents going into the soma if needed\n",
        "for probe in adjsomaprobes:\n",
        "    somaaxialcurrents.append(probe.parentaxialcurrent) # get axial current from outward segment to soma segment"
      ],
      "metadata": {
        "id": "2zOh0Cu5pF4k"
      },
      "execution_count": null,
      "outputs": []
    },
    {
      "cell_type": "markdown",
      "source": [
        "Plot segments adjacent to soma"
      ],
      "metadata": {
        "id": "p3Q8oouEpCQV"
      }
    },
    {
      "cell_type": "code",
      "source": [
        "plt.figure(figsize=(3,10))\n",
        "ax = plt.plot(AllSegXCoord, AllSegYCoord,'.',color='k',markersize=6)\n",
        "plt.vlines(110,400,500)\n",
        "plt.text(0,450,'100 um')\n",
        "plt.hlines(400,110,210)\n",
        "plt.text(110,350,'100 um')\n",
        "plt.xticks([])\n",
        "plt.yticks([])\n",
        "plt.box(False)\n",
        "\n",
        "for probe in adjsomaprobes:\n",
        "  plt.plot(AllSegXCoord[probe.seg],\n",
        "         AllSegYCoord[probe.seg],\n",
        "         '*',color=probe.color)\n",
        "\n",
        "for probe in somaprobes:\n",
        "  plt.plot(AllSegXCoord[probe.seg],\n",
        "         AllSegYCoord[probe.seg],\n",
        "         '*',color='blue')"
      ],
      "metadata": {
        "id": "-raTrVDW5grp"
      },
      "execution_count": null,
      "outputs": []
    },
    {
      "cell_type": "markdown",
      "source": [
        "Plot Axial Currents"
      ],
      "metadata": {
        "id": "WrDMaVRI3IBr"
      }
    },
    {
      "cell_type": "code",
      "source": [
        "def plot_parent_axial_current(probe):\n",
        "  title='Axial Current from ['+probe.name+'] to ['+probe.parentprobe[0].name+']'\n",
        "  plt.figure(figsize=(12.8,4.8))\n",
        "  plt.plot(t,probe.parentaxialcurrent[0],color=probe.color)\n",
        "  plt.ylabel('nA')\n",
        "  plt.title(title)\n",
        "  plt.xlabel('time (ms)')\n",
        "  plt.show()"
      ],
      "metadata": {
        "id": "cxFgH6e7vFI1"
      },
      "execution_count": null,
      "outputs": []
    },
    {
      "cell_type": "code",
      "source": [
        "for probe in adjsomaprobes:\n",
        "  plot_parent_axial_current(probe)"
      ],
      "metadata": {
        "id": "Wl7a2gv4urQP"
      },
      "execution_count": null,
      "outputs": []
    }
  ]
}