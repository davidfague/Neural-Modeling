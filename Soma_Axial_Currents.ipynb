{
  "nbformat": 4,
  "nbformat_minor": 0,
  "metadata": {
    "colab": {
      "provenance": [],
      "authorship_tag": "ABX9TyPHGjaX75vt3KcI8esQzIJG",
      "include_colab_link": true
    },
    "kernelspec": {
      "name": "python3",
      "display_name": "Python 3"
    },
    "language_info": {
      "name": "python"
    }
  },
  "cells": [
    {
      "cell_type": "markdown",
      "metadata": {
        "id": "view-in-github",
        "colab_type": "text"
      },
      "source": [
        "<a href=\"https://colab.research.google.com/github/davidfague/Neural-Modeling/blob/main/Soma_Axial_Currents.ipynb\" target=\"_parent\"><img src=\"https://colab.research.google.com/assets/colab-badge.svg\" alt=\"Open In Colab\"/></a>"
      ]
    },
    {
      "cell_type": "code",
      "source": [
        "is_colab = 'google.colab' in str(get_ipython())"
      ],
      "metadata": {
        "id": "tsWNeJoxv_sV"
      },
      "execution_count": null,
      "outputs": []
    },
    {
      "cell_type": "code",
      "source": [
        "if is_colab:\n",
        "    !git clone https://github.com/davidfague/Neural-Modeling.git\n",
        "    from google.colab import drive\n",
        "    drive.mount('/content/drive')\n",
        "    %cd /content/drive/MyDrive/"
      ],
      "metadata": {
        "id": "Is01TBChwA6C"
      },
      "execution_count": null,
      "outputs": []
    },
    {
      "cell_type": "code",
      "execution_count": 1,
      "metadata": {
        "id": "_cykmYCD201Z"
      },
      "outputs": [],
      "source": [
        "import pandas as pd\n",
        "import h5py\n",
        "import numpy as np\n",
        "import matplotlib.pyplot as plt\n",
        "import seaborn as sns\n",
        "import scipy.signal as ss\n",
        "from mpl_toolkits import mplot3d\n",
        "import pdb #python debugger"
      ]
    },
    {
      "cell_type": "code",
      "source": [
        "output_folder = 'L5PCtemplate[0]_5.0Hz_196nseg_2000.0ms_108nbranch_29068NCs_29068nsyn'\n",
        "v = h5py.File('./{}/Vm_report.h5'.format(output_folder),'r') #read segment voltage traces\n",
        "segs = pd.read_csv('./{}/seg_info.csv'.format(output_folder)) # read segment values"
      ],
      "metadata": {
        "id": "2WLF-kL7HJhQ"
      },
      "execution_count": 9,
      "outputs": []
    },
    {
      "cell_type": "code",
      "source": [
        "print(segs.columns)"
      ],
      "metadata": {
        "id": "dOm2hQ_rvmLT",
        "outputId": "98298a0b-017a-4098-d08b-c63aeefa0476",
        "colab": {
          "base_uri": "https://localhost:8080/"
        }
      },
      "execution_count": 15,
      "outputs": [
        {
          "output_type": "stream",
          "name": "stdout",
          "text": [
            "Index(['seg', 'seg_id', 'Beginning X Coord', 'Beginning Y Coord',\n",
            "       'Beginning Z Coord', 'Center X Coord', 'Center Y Coord',\n",
            "       'Center Z Coord', 'End X Coord', 'End Y Coord', 'End Z Coord',\n",
            "       'seg diam', 'bmtk_id', 'x', 'sec', 'Type', 'Sec ID', 'sec diam',\n",
            "       'sec nseg', 'Ra', 'seg_L', 'seg_SA', 'parent_seg_id', 'seg_elec_info',\n",
            "       'netcons_per_seg', 'netcon_density_per_seg',\n",
            "       'netcon_SA_density_per_seg', 'X', 'Elec_distanceQ'],\n",
            "      dtype='object')\n"
          ]
        }
      ]
    },
    {
      "cell_type": "markdown",
      "source": [
        "Probe class for making a segment's attributes accesible."
      ],
      "metadata": {
        "id": "wKxAvtzX23Wk"
      }
    },
    {
      "cell_type": "code",
      "source": [
        "#Get Columns\n",
        "segIDs=segs['seg index']\n",
        "# segs = segs.set_index(['Type','Sec ID']).join(segs_degrees.set_index(['Type','Sec ID'])).reset_index() #not sure what this does\n",
        "segs['sec index'] = segs['sec index'].astype(int)\n",
        "segs['x'] = segs['x'].astype(float)\n",
        "segs['Elec_distanceQ'] = 'None'\n",
        "AllSegXCoord=segs['Center X Coord']\n",
        "AllSegYCoord=segs['Center Y Coord']\n",
        "AllSegZCoord=segs['Center Z Coord']\n",
        "AllSegSec_ID=segs['sec index']\n",
        "AllSegSec_name=segs['Type']\n",
        "segLs=segs[\"seg L\"]\n",
        "segxs=segs[\"seg x\"]\n",
        "segdists=segs[\"seg h.distance\"]\n",
        "SegSecL=segs[\"sec\"]\n",
        "segdiams=segs[\"seg diam\"]\n",
        "SegSecnseg=segs[\"sec nseg\"]\n",
        "secRas=segs[\"section Ra\"]\n",
        "psegIDs=segs[\"pseg index\"]\n",
        "secids=segs[\"sec index\"]\n",
        "bmtkid=segs[\"BMTK ID\"]\n",
        "# sectypes=segs[\"Type\"]\n",
        "\n",
        "#get simulation time\n",
        "seg_v=v['report']['biophysical']['data'][:,0] # get segment 0 voltage trace\n",
        "print(len(seg_v)) #should be equivalnt to (tstop=1000ms)/(dt=0.1ms)=10000\n",
        "tstop=1000 #simulation stop\n",
        "dt=0.1 #timestep\n",
        "t=np.arange(0,tstop,dt) #time array\n",
        "print(len(t))\n",
        "if len(t)!=len(seg_v):\n",
        "  print('Update Time array')\n",
        "\n",
        "psegids=[]\n",
        "for i in range(len(psegIDs)):\n",
        "  if np.isnan(psegIDs[i]) == False:\n",
        "    psegids.append(int(psegIDs[i]))\n",
        "  else:\n",
        "    psegids.append(psegIDs[i])"
      ],
      "metadata": {
        "id": "86t0Rtq95nAc",
        "outputId": "a3adc877-b170-43ff-9d01-ee1ec88db5d4",
        "colab": {
          "base_uri": "https://localhost:8080/",
          "height": 528
        }
      },
      "execution_count": 19,
      "outputs": [
        {
          "output_type": "error",
          "ename": "KeyError",
          "evalue": "ignored",
          "traceback": [
            "\u001b[0;31m---------------------------------------------------------------------------\u001b[0m",
            "\u001b[0;31mKeyError\u001b[0m                                  Traceback (most recent call last)",
            "\u001b[0;32m/usr/local/lib/python3.10/dist-packages/pandas/core/indexes/base.py\u001b[0m in \u001b[0;36mget_loc\u001b[0;34m(self, key, method, tolerance)\u001b[0m\n\u001b[1;32m   3801\u001b[0m             \u001b[0;32mtry\u001b[0m\u001b[0;34m:\u001b[0m\u001b[0;34m\u001b[0m\u001b[0;34m\u001b[0m\u001b[0m\n\u001b[0;32m-> 3802\u001b[0;31m                 \u001b[0;32mreturn\u001b[0m \u001b[0mself\u001b[0m\u001b[0;34m.\u001b[0m\u001b[0m_engine\u001b[0m\u001b[0;34m.\u001b[0m\u001b[0mget_loc\u001b[0m\u001b[0;34m(\u001b[0m\u001b[0mcasted_key\u001b[0m\u001b[0;34m)\u001b[0m\u001b[0;34m\u001b[0m\u001b[0;34m\u001b[0m\u001b[0m\n\u001b[0m\u001b[1;32m   3803\u001b[0m             \u001b[0;32mexcept\u001b[0m \u001b[0mKeyError\u001b[0m \u001b[0;32mas\u001b[0m \u001b[0merr\u001b[0m\u001b[0;34m:\u001b[0m\u001b[0;34m\u001b[0m\u001b[0;34m\u001b[0m\u001b[0m\n",
            "\u001b[0;32m/usr/local/lib/python3.10/dist-packages/pandas/_libs/index.pyx\u001b[0m in \u001b[0;36mpandas._libs.index.IndexEngine.get_loc\u001b[0;34m()\u001b[0m\n",
            "\u001b[0;32m/usr/local/lib/python3.10/dist-packages/pandas/_libs/index.pyx\u001b[0m in \u001b[0;36mpandas._libs.index.IndexEngine.get_loc\u001b[0;34m()\u001b[0m\n",
            "\u001b[0;32mpandas/_libs/hashtable_class_helper.pxi\u001b[0m in \u001b[0;36mpandas._libs.hashtable.PyObjectHashTable.get_item\u001b[0;34m()\u001b[0m\n",
            "\u001b[0;32mpandas/_libs/hashtable_class_helper.pxi\u001b[0m in \u001b[0;36mpandas._libs.hashtable.PyObjectHashTable.get_item\u001b[0;34m()\u001b[0m\n",
            "\u001b[0;31mKeyError\u001b[0m: 'sec_L'",
            "\nThe above exception was the direct cause of the following exception:\n",
            "\u001b[0;31mKeyError\u001b[0m                                  Traceback (most recent call last)",
            "\u001b[0;32m<ipython-input-19-e4f743150a50>\u001b[0m in \u001b[0;36m<cell line: 15>\u001b[0;34m()\u001b[0m\n\u001b[1;32m     13\u001b[0m \u001b[0msegxs\u001b[0m\u001b[0;34m=\u001b[0m\u001b[0msegs\u001b[0m\u001b[0;34m[\u001b[0m\u001b[0;34m\"X\"\u001b[0m\u001b[0;34m]\u001b[0m\u001b[0;34m\u001b[0m\u001b[0;34m\u001b[0m\u001b[0m\n\u001b[1;32m     14\u001b[0m \u001b[0;31m# segdists=segs[\"Distance\"]\u001b[0m\u001b[0;34m\u001b[0m\u001b[0;34m\u001b[0m\u001b[0m\n\u001b[0;32m---> 15\u001b[0;31m \u001b[0mSegSecL\u001b[0m\u001b[0;34m=\u001b[0m\u001b[0msegs\u001b[0m\u001b[0;34m[\u001b[0m\u001b[0;34m\"sec_L\"\u001b[0m\u001b[0;34m]\u001b[0m\u001b[0;34m\u001b[0m\u001b[0;34m\u001b[0m\u001b[0m\n\u001b[0m\u001b[1;32m     16\u001b[0m \u001b[0msegdiams\u001b[0m\u001b[0;34m=\u001b[0m\u001b[0msegs\u001b[0m\u001b[0;34m[\u001b[0m\u001b[0;34m\"Seg_diam\"\u001b[0m\u001b[0;34m]\u001b[0m\u001b[0;34m\u001b[0m\u001b[0;34m\u001b[0m\u001b[0m\n\u001b[1;32m     17\u001b[0m \u001b[0mSegSecnseg\u001b[0m\u001b[0;34m=\u001b[0m\u001b[0msegs\u001b[0m\u001b[0;34m[\u001b[0m\u001b[0;34m\"Section_nseg\"\u001b[0m\u001b[0;34m]\u001b[0m\u001b[0;34m\u001b[0m\u001b[0;34m\u001b[0m\u001b[0m\n",
            "\u001b[0;32m/usr/local/lib/python3.10/dist-packages/pandas/core/frame.py\u001b[0m in \u001b[0;36m__getitem__\u001b[0;34m(self, key)\u001b[0m\n\u001b[1;32m   3805\u001b[0m             \u001b[0;32mif\u001b[0m \u001b[0mself\u001b[0m\u001b[0;34m.\u001b[0m\u001b[0mcolumns\u001b[0m\u001b[0;34m.\u001b[0m\u001b[0mnlevels\u001b[0m \u001b[0;34m>\u001b[0m \u001b[0;36m1\u001b[0m\u001b[0;34m:\u001b[0m\u001b[0;34m\u001b[0m\u001b[0;34m\u001b[0m\u001b[0m\n\u001b[1;32m   3806\u001b[0m                 \u001b[0;32mreturn\u001b[0m \u001b[0mself\u001b[0m\u001b[0;34m.\u001b[0m\u001b[0m_getitem_multilevel\u001b[0m\u001b[0;34m(\u001b[0m\u001b[0mkey\u001b[0m\u001b[0;34m)\u001b[0m\u001b[0;34m\u001b[0m\u001b[0;34m\u001b[0m\u001b[0m\n\u001b[0;32m-> 3807\u001b[0;31m             \u001b[0mindexer\u001b[0m \u001b[0;34m=\u001b[0m \u001b[0mself\u001b[0m\u001b[0;34m.\u001b[0m\u001b[0mcolumns\u001b[0m\u001b[0;34m.\u001b[0m\u001b[0mget_loc\u001b[0m\u001b[0;34m(\u001b[0m\u001b[0mkey\u001b[0m\u001b[0;34m)\u001b[0m\u001b[0;34m\u001b[0m\u001b[0;34m\u001b[0m\u001b[0m\n\u001b[0m\u001b[1;32m   3808\u001b[0m             \u001b[0;32mif\u001b[0m \u001b[0mis_integer\u001b[0m\u001b[0;34m(\u001b[0m\u001b[0mindexer\u001b[0m\u001b[0;34m)\u001b[0m\u001b[0;34m:\u001b[0m\u001b[0;34m\u001b[0m\u001b[0;34m\u001b[0m\u001b[0m\n\u001b[1;32m   3809\u001b[0m                 \u001b[0mindexer\u001b[0m \u001b[0;34m=\u001b[0m \u001b[0;34m[\u001b[0m\u001b[0mindexer\u001b[0m\u001b[0;34m]\u001b[0m\u001b[0;34m\u001b[0m\u001b[0;34m\u001b[0m\u001b[0m\n",
            "\u001b[0;32m/usr/local/lib/python3.10/dist-packages/pandas/core/indexes/base.py\u001b[0m in \u001b[0;36mget_loc\u001b[0;34m(self, key, method, tolerance)\u001b[0m\n\u001b[1;32m   3802\u001b[0m                 \u001b[0;32mreturn\u001b[0m \u001b[0mself\u001b[0m\u001b[0;34m.\u001b[0m\u001b[0m_engine\u001b[0m\u001b[0;34m.\u001b[0m\u001b[0mget_loc\u001b[0m\u001b[0;34m(\u001b[0m\u001b[0mcasted_key\u001b[0m\u001b[0;34m)\u001b[0m\u001b[0;34m\u001b[0m\u001b[0;34m\u001b[0m\u001b[0m\n\u001b[1;32m   3803\u001b[0m             \u001b[0;32mexcept\u001b[0m \u001b[0mKeyError\u001b[0m \u001b[0;32mas\u001b[0m \u001b[0merr\u001b[0m\u001b[0;34m:\u001b[0m\u001b[0;34m\u001b[0m\u001b[0;34m\u001b[0m\u001b[0m\n\u001b[0;32m-> 3804\u001b[0;31m                 \u001b[0;32mraise\u001b[0m \u001b[0mKeyError\u001b[0m\u001b[0;34m(\u001b[0m\u001b[0mkey\u001b[0m\u001b[0;34m)\u001b[0m \u001b[0;32mfrom\u001b[0m \u001b[0merr\u001b[0m\u001b[0;34m\u001b[0m\u001b[0;34m\u001b[0m\u001b[0m\n\u001b[0m\u001b[1;32m   3805\u001b[0m             \u001b[0;32mexcept\u001b[0m \u001b[0mTypeError\u001b[0m\u001b[0;34m:\u001b[0m\u001b[0;34m\u001b[0m\u001b[0;34m\u001b[0m\u001b[0m\n\u001b[1;32m   3806\u001b[0m                 \u001b[0;31m# If we have a listlike key, _check_indexing_error will raise\u001b[0m\u001b[0;34m\u001b[0m\u001b[0;34m\u001b[0m\u001b[0m\n",
            "\u001b[0;31mKeyError\u001b[0m: 'sec_L'"
          ]
        }
      ]
    },
    {
      "cell_type": "code",
      "source": [
        "probes=[]\n",
        "class probe():\n",
        "  def __init__(self,seg,sectionindex,sectionname,color,XCoord,YCoord,ZCoord,secRa,segdiam,segx,segdist,sectionL,sectionNseg,segL,seg_v,parentseg,sectype):\n",
        "    self.seg=seg\n",
        "    self.sectionindex=sectionindex\n",
        "    self.sectionname=sectionname\n",
        "    self.color=color\n",
        "    self.XCoord=XCoord\n",
        "    self.YCoord=YCoord\n",
        "    self.ZCoord=ZCoord\n",
        "    self.secRa=secRa\n",
        "    self.segdiam=segdiam\n",
        "    self.x=segx\n",
        "    self.segdist=segdist\n",
        "    self.secL=sectionL\n",
        "    self.secnseg=sectionNseg\n",
        "    self.segL=segL\n",
        "    self.seg_v=seg_v\n",
        "    self.name='sec:'+str(self.sectionname)+str(self.sectionindex)+' seg:'+str(self.seg)\n",
        "    self.adjprobes=[]\n",
        "    self.parentprobe=[]\n",
        "    self.childprobes=[]\n",
        "    self.axialcurrents=[]\n",
        "    self.parentaxialcurrent=[]\n",
        "    self.childrenaxialcurrents=[]\n",
        "    self.halfsegRa=.01*self.secRa*(self.secL/2/self.secnseg)/(np.pi*(self.segdiam/2)**2)\n",
        "    self.parentseg=parentseg\n",
        "    self.sectype=sectype\n",
        "\n",
        "    # try:\n",
        "    #   self.axial_current=[Record_Axial_Current(section,single_seg=True)]\n",
        "    # except:\n",
        "    #   print(section)\n",
        "for i in range(len(segIDs)):\n",
        "  newprobe=probe(seg=i,sectionindex=AllSegSec_ID[i],sectionname=str(AllSegSec_name[i]),color='r',XCoord=AllSegXCoord[i],YCoord=AllSegYCoord[i],ZCoord=AllSegZCoord[i],\n",
        "                secRa=secRas[i],segdiam=segdiams[i],segx=segxs[i],segdist=segdists[i],sectionL=SegSecL[i],sectionNseg=SegSecnseg[i],segL=segLs[i],\n",
        "                seg_v=v['report']['biophysical']['data'][:,i],parentseg=psegids[i],sectype=sectypes[i])\n",
        "  probes.append(newprobe)"
      ],
      "metadata": {
        "id": "MkB-ZzVxbDNx"
      },
      "execution_count": null,
      "outputs": []
    },
    {
      "cell_type": "markdown",
      "source": [
        "Determine which segments are next to each other."
      ],
      "metadata": {
        "id": "D42YVHEB26tM"
      }
    },
    {
      "cell_type": "code",
      "source": [
        "#getting adjacent segments using parent segment IDs\n",
        "#getting children segments\n",
        "for i in range(len(psegids)): #iterate through segment index\n",
        "  if np.isnan(psegids[i]) == False:\n",
        "    for seg in segIDs: #check segIDs\n",
        "      if psegids[i]==seg: #find parent seg from parent seg id\n",
        "        probes[seg].adjprobes.append(probes[i]) #add child probe to probe's adjprobe list\n",
        "        probes[seg].childprobes.append(probes[i]) #add child probe to probe's childprobe list\n",
        "#getting parent segment\n",
        "for i in range(len(segIDs)):\n",
        "  if np.isnan(psegids[i]) == False:\n",
        "    probes[i].adjprobes.append(probes[int(psegids[i])]) #add parent seg probe to adj probes\n",
        "    probes[i].parentprobe.append(probes[int(psegids[i])]) #add parent seg probe to parent probes"
      ],
      "metadata": {
        "id": "c8p83unK0J11"
      },
      "execution_count": null,
      "outputs": []
    },
    {
      "cell_type": "markdown",
      "source": [
        "Compute axial currents from each segment toward its adjacent segments."
      ],
      "metadata": {
        "id": "X-18MDqr2-Nr"
      }
    },
    {
      "cell_type": "code",
      "source": [
        "#compute axial currents between all segments\n",
        "for probe in probes:\n",
        "  for adjprobe in probe.adjprobes:\n",
        "    axc=(probe.seg_v-adjprobe.seg_v)/(probe.halfsegRa+adjprobe.halfsegRa) #compute axial current using (v_in-v_out)/(halfsegRa+halfsegRa)\n",
        "    probe.axialcurrents.append(axc)\n",
        "    if [adjprobe] == probe.parentprobe:\n",
        "      probe.parentaxialcurrent.append(axc)\n",
        "    elif adjprobe in probe.childprobes:\n",
        "      probe.childrenaxialcurrents.append(axc)"
      ],
      "metadata": {
        "id": "ce_QlQqzAogx"
      },
      "execution_count": null,
      "outputs": []
    },
    {
      "cell_type": "markdown",
      "source": [
        "Find Segments adjacent to the soma segments"
      ],
      "metadata": {
        "id": "DvWIETq83AMK"
      }
    },
    {
      "cell_type": "code",
      "source": [
        "#Find soma segments and adjacent segments\n",
        "#Usefull subsetting method\n",
        "# print(segs[(segs.Type=='soma')]) #how to separate by type\n",
        "somasegIDs = segs[(segs.Type=='soma')]['segmentID'] #how to pull a column after separating by type\n",
        "print(somasegIDs)\n",
        "somaprobes=[]\n",
        "for seg in somasegIDs:\n",
        "  somaprobes.append(probes[seg])\n",
        "\n",
        "adjsomaprobes=[]\n",
        "for probe in somaprobes:\n",
        "  for adjprobe in probe.adjprobes:\n",
        "    if adjprobe.sectype != \"soma\": #need to make sure this works\n",
        "      adjsomaprobes.append(adjprobe) # get probes adjacent to soma\n",
        "\n",
        "somaaxialcurrents=[] #list of axial currents going into the soma if needed\n",
        "for probe in adjsomaprobes:\n",
        "    somaaxialcurrents.append(probe.parentaxialcurrent) # get axial current from outward segment to soma segment"
      ],
      "metadata": {
        "id": "2zOh0Cu5pF4k"
      },
      "execution_count": null,
      "outputs": []
    },
    {
      "cell_type": "markdown",
      "source": [
        "Plot segments adjacent to soma"
      ],
      "metadata": {
        "id": "p3Q8oouEpCQV"
      }
    },
    {
      "cell_type": "code",
      "source": [
        "plt.figure(figsize=(3,10))\n",
        "ax = plt.plot(AllSegXCoord, AllSegYCoord,'.',color='k',markersize=6)\n",
        "plt.vlines(110,400,500)\n",
        "plt.text(0,450,'100 um')\n",
        "plt.hlines(400,110,210)\n",
        "plt.text(110,350,'100 um')\n",
        "plt.xticks([])\n",
        "plt.yticks([])\n",
        "plt.box(False)\n",
        "\n",
        "for probe in adjsomaprobes:\n",
        "  plt.plot(AllSegXCoord[probe.seg],\n",
        "         AllSegYCoord[probe.seg],\n",
        "         '*',color=probe.color)\n",
        "\n",
        "for probe in somaprobes:\n",
        "  plt.plot(AllSegXCoord[probe.seg],\n",
        "         AllSegYCoord[probe.seg],\n",
        "         '*',color='blue')"
      ],
      "metadata": {
        "id": "-raTrVDW5grp"
      },
      "execution_count": null,
      "outputs": []
    },
    {
      "cell_type": "markdown",
      "source": [
        "Plot Axial Currents"
      ],
      "metadata": {
        "id": "WrDMaVRI3IBr"
      }
    },
    {
      "cell_type": "code",
      "source": [
        "def plot_parent_axial_current(probe):\n",
        "  title='Axial Current from ['+probe.name+'] to ['+probe.parentprobe[0].name+']'\n",
        "  plt.figure(figsize=(12.8,4.8))\n",
        "  plt.plot(t,probe.parentaxialcurrent[0],color=probe.color)\n",
        "  plt.ylabel('nA')\n",
        "  plt.title(title)\n",
        "  plt.xlabel('time (ms)')\n",
        "  plt.show()"
      ],
      "metadata": {
        "id": "cxFgH6e7vFI1"
      },
      "execution_count": null,
      "outputs": []
    },
    {
      "cell_type": "code",
      "source": [
        "for probe in adjsomaprobes:\n",
        "  plot_parent_axial_current(probe)"
      ],
      "metadata": {
        "id": "Wl7a2gv4urQP"
      },
      "execution_count": null,
      "outputs": []
    }
  ]
}