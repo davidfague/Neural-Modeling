{
  "cells": [
    {
      "cell_type": "markdown",
      "metadata": {
        "id": "view-in-github",
        "colab_type": "text"
      },
      "source": [
        "<a href=\"https://colab.research.google.com/github/davidfague/Neural-Modeling/blob/main/Copy_of_NMDAExploration.ipynb\" target=\"_parent\"><img src=\"https://colab.research.google.com/assets/colab-badge.svg\" alt=\"Open In Colab\"/></a>"
      ]
    },
    {
      "cell_type": "code",
      "source": [
        "is_colab = 'google.colab' in str(get_ipython())"
      ],
      "metadata": {
        "id": "85kqbVbXgLEj"
      },
      "execution_count": 1,
      "outputs": []
    },
    {
      "cell_type": "code",
      "source": [
        "if is_colab:\n",
        "    !git clone https://github.com/davidfague/Neural-Modeling.git\n",
        "    from google.colab import drive\n",
        "    drive.mount('/content/drive')\n",
        "    %cd /content/drive/MyDrive/"
      ],
      "metadata": {
        "colab": {
          "base_uri": "https://localhost:8080/"
        },
        "id": "15zNvRPpgvPT",
        "outputId": "2f870413-7ad8-44e3-e6dd-43d7427bbca5"
      },
      "execution_count": 2,
      "outputs": [
        {
          "output_type": "stream",
          "name": "stdout",
          "text": [
            "Cloning into 'Neural-Modeling'...\n",
            "remote: Enumerating objects: 871, done.\u001b[K\n",
            "remote: Counting objects: 100% (428/428), done.\u001b[K\n",
            "remote: Compressing objects: 100% (163/163), done.\u001b[K\n",
            "remote: Total 871 (delta 286), reused 396 (delta 264), pack-reused 443\u001b[K\n",
            "Receiving objects: 100% (871/871), 4.67 MiB | 16.95 MiB/s, done.\n",
            "Resolving deltas: 100% (557/557), done.\n",
            "Mounted at /content/drive\n",
            "/content/drive/MyDrive\n"
          ]
        }
      ]
    },
    {
      "cell_type": "code",
      "source": [
        "import pandas as pd\n",
        "import h5py\n",
        "import numpy as np\n",
        "import matplotlib.pyplot as plt\n",
        "import seaborn as sns\n",
        "import scipy.signal as ss\n",
        "from mpl_toolkits import mplot3d\n",
        "import pdb #python debugger"
      ],
      "metadata": {
        "id": "1OdJsKr8hYn-"
      },
      "execution_count": 3,
      "outputs": []
    },
    {
      "cell_type": "markdown",
      "source": [
        "Specify output folder and read data"
      ],
      "metadata": {
        "id": "JLRK47ZlleGU"
      }
    },
    {
      "cell_type": "code",
      "source": [
        "output_folder = 'L5PCtemplate[0]_50e-1Hz_196nseg_2000ms_108nbranch_29068NCs_29068nsyn'\n",
        "\n",
        "v = h5py.File('./{}/Vm_report.h5'.format(output_folder),'r') #read segment voltage traces\n",
        "\n",
        "gNaTa = h5py.File('./{}/gNaTa_T_data_report.h5'.format(output_folder),'r') #read segment voltage traces\n",
        "iampa = h5py.File('./{}/i_AMPA_report.h5'.format(output_folder),'r') #read segment voltage traces\n",
        "inmda = h5py.File('./{}/i_NMDA_report.h5'.format(output_folder),'r') #read segment voltage traces\n",
        "icah = h5py.File('./{}/icah_data_report.h5'.format(output_folder),'r') #read segment voltage traces\n",
        "ical = h5py.File('./{}/ical_data_report.h5'.format(output_folder),'r') #read segment voltage traces\n",
        "ih = h5py.File('./{}/ih_data_report.h5'.format(output_folder),'r') #read segment voltage traces\n",
        "ina = h5py.File('./{}/ina_data_report.h5'.format(output_folder),'r') #read segment voltage traces\n",
        "\n",
        "spikes = h5py.File('./{}/spikes_report.h5'.format(output_folder),'r') #read segment voltage traces\n",
        "\n",
        "segs = pd.read_csv('./{}/seg_info.csv'.format(output_folder)) # read segment values"
      ],
      "metadata": {
        "id": "vl5xhs1bg1Td"
      },
      "execution_count": 4,
      "outputs": []
    },
    {
      "cell_type": "code",
      "source": [
        "v=v['report']['biophysical']['data']\n",
        "gNaTa=gNaTa['report']['biophysical']['data']\n",
        "iampa=iampa['report']['biophysical']['data']\n",
        "inmda=inmda['report']['biophysical']['data']\n",
        "icah=icah['report']['biophysical']['data']\n",
        "ical=ical['report']['biophysical']['data']\n",
        "ih=ih['report']['biophysical']['data']\n",
        "ina=ina['report']['biophysical']['data']\n",
        "spikes=spikes['report']['biophysical']['data']"
      ],
      "metadata": {
        "id": "VVg8caBuiMmW"
      },
      "execution_count": 5,
      "outputs": []
    },
    {
      "cell_type": "markdown",
      "source": [
        "Specify simulation time"
      ],
      "metadata": {
        "id": "W9dZobVDljFi"
      }
    },
    {
      "cell_type": "code",
      "execution_count": 6,
      "metadata": {
        "id": "kjthfjOQ8Lqs",
        "colab": {
          "base_uri": "https://localhost:8080/"
        },
        "outputId": "b0269c85-f681-4911-8c77-6b177e63d79d"
      },
      "outputs": [
        {
          "output_type": "stream",
          "name": "stdout",
          "text": [
            "20001\n",
            "20001\n"
          ]
        }
      ],
      "source": [
        "#get simulation time\n",
        "v_len=len(v[:,0]) # length of soma voltage recording\n",
        "tstop=2000.1 #simulation stop\n",
        "dt=0.1 #timestep\n",
        "t=np.arange(0,tstop,dt) #time array\n",
        "print(v_len) #should be equivalnt to (tstop=1000ms)/(dt=0.1ms)=10000\n",
        "print(len(t))\n",
        "if len(t)!=v_len:\n",
        "  print('Update Time array')"
      ]
    },
    {
      "cell_type": "markdown",
      "source": [
        "Voltage and current criterion"
      ],
      "metadata": {
        "id": "ZziKDAGFlmU-"
      }
    },
    {
      "cell_type": "code",
      "execution_count": 7,
      "metadata": {
        "id": "E2Jp8o0E4vac"
      },
      "outputs": [],
      "source": [
        "def voltage_criterion(data=None, v_thresh=-40, time_thresh=260):\n",
        "    threshold_crossings = np.diff(data > v_thresh, prepend=False)\n",
        "    upward_crossings = np.argwhere(threshold_crossings)[::2,0]\n",
        "    downward_crossings = np.argwhere(threshold_crossings)[1::2,0]\n",
        "    # If length of threshold_crossings is not even\n",
        "    if np.mod(np.argwhere(threshold_crossings).reshape(-1,).shape[0],2)!=0:\n",
        "        legit_up_crossings = upward_crossings[:-1][np.diff(np.argwhere(threshold_crossings).reshape(-1,))[::2]>time_thresh]\n",
        "        legit_down_crossings = downward_crossings[np.diff(np.argwhere(threshold_crossings).reshape(-1,))[::2]>time_thresh]\n",
        "    else:\n",
        "        legit_up_crossings = upward_crossings[np.diff(np.argwhere(threshold_crossings).reshape(-1,))[::2]>time_thresh]\n",
        "        legit_down_crossings = downward_crossings[np.diff(np.argwhere(threshold_crossings).reshape(-1,))[::2]>time_thresh]\n",
        "    return upward_crossings, legit_up_crossings, legit_down_crossings\n",
        "\n",
        "# Input: upward and downward crossings\n",
        "# Output: bounds of NMDA spikes meeting current criterion\n",
        "def current_criterion(legit_uc_iso=[], legit_dc_iso=[], p=1, control_inmda=np.array([1])):\n",
        "    bounds = []\n",
        "    sum_current = []\n",
        "\n",
        "\n",
        "    for ind1 in np.arange(0,len(legit_uc_iso)):\n",
        "        e1 = control_inmda[legit_uc_iso[ind1], p] #current @ up_crossing[ind1]\n",
        "        #all the indices where current crosses 130% of e1\n",
        "        x30 = np.argwhere(np.diff(control_inmda[legit_uc_iso[ind1]:legit_dc_iso[ind1], p] < 1.3*e1, prepend=False))\n",
        "        #all the indices where current crosses 115% of e1\n",
        "        x15 = np.argwhere(np.diff(control_inmda[legit_uc_iso[ind1]:legit_dc_iso[ind1], p] < 1.15*e1, prepend=False))\n",
        "\n",
        "        if len(x30)>0:\n",
        "\n",
        "            x15_copy = x15\n",
        "            x30_copy = x30\n",
        "\n",
        "            try:\n",
        "                i = x30[0][0]\n",
        "            except:\n",
        "                import pdb; pdb.set_trace()\n",
        "\n",
        "            n = 0\n",
        "\n",
        "\n",
        "            while n==0:\n",
        "                if len(np.sort(x15[x15>i]))!=0:\n",
        "                    b1 = i\n",
        "                    b2 = np.sort(x15[x15>i])[0]\n",
        "                    bounds.append([legit_uc_iso[ind1]+b1,legit_uc_iso[ind1]+b2])\n",
        "                    sum_current.append(np.sum(control_inmda[legit_uc_iso[ind1]+b1:legit_uc_iso[ind1]+b2,p])/10)\n",
        "                else:\n",
        "                    b1 = i\n",
        "                    b2 = (legit_dc_iso[ind1]-legit_uc_iso[ind1])\n",
        "                    bounds.append([legit_uc_iso[ind1]+b1,legit_uc_iso[ind1]+b2])\n",
        "                    sum_current.append(np.sum(control_inmda[legit_uc_iso[ind1]+b1:legit_uc_iso[ind1]+b2,p])/10)\n",
        "                    n=1\n",
        "\n",
        "                x30_copy = x30_copy[x30_copy>legit_uc_iso[ind1]+b2]\n",
        "                #import pdb; pdb.set_trace()\n",
        "\n",
        "                if len(x30_copy)!=0:\n",
        "                    i = x30_copy[x30_copy>b2][0]\n",
        "                else:\n",
        "                    n=1\n",
        "    return bounds, sum_current\n"
      ]
    },
    {
      "cell_type": "code",
      "execution_count": 8,
      "metadata": {
        "id": "1lrjxBj8-e4L"
      },
      "outputs": [],
      "source": [
        "# conns.head()"
      ]
    },
    {
      "cell_type": "code",
      "execution_count": 9,
      "metadata": {
        "id": "YBYCzx-D52YK"
      },
      "outputs": [],
      "source": [
        "# conns.loc[conns.Type=='dend','Sec ID'] = conns.loc[conns.Type=='dend','Name'].apply(lambda x: int(x.split('dend[')[1].split(']')[0]))"
      ]
    },
    {
      "cell_type": "code",
      "execution_count": 10,
      "metadata": {
        "id": "xsVHZyAX4vaf"
      },
      "outputs": [],
      "source": [
        "# conns.loc[conns.Type=='dend','Sec ID'] = conns.loc[conns.Type=='dend','Name'].apply(lambda x: int(x.split('dend[')[1].split(']')[0]))\n",
        "# conns.loc[conns.Type=='apic','Sec ID'] = conns.loc[conns.Type=='apic','Name'].apply(lambda x: int(x.split('apic[')[1].split(']')[0]))\n",
        "# conns.loc[conns.Type=='soma','Sec ID'] = conns.loc[conns.Type=='soma','Name'].apply(lambda x: int(x.split('soma[')[1].split(']')[0]))\n",
        "# conns.loc[conns.Type=='axon','Sec ID'] = conns.loc[conns.Type=='axon','Name'].apply(lambda x: int(x.split('axon[')[1].split(']')[0]))\n",
        "\n",
        "# conns['X'] = conns['Name'].apply(lambda x: float(x.split('(')[1].split(')')[0]))\n",
        "\n",
        "# conns.rename(columns={'Distance':'conns_Distance'},inplace=True)\n",
        "\n",
        "# conns['Sec ID'] = conns['Sec ID'].astype(int)\n",
        "# conns['X'] = conns['X'].astype(float)"
      ]
    },
    {
      "cell_type": "code",
      "execution_count": 11,
      "metadata": {
        "id": "gGg4sgk19z_S"
      },
      "outputs": [],
      "source": [
        "# print(segs['segmentID'])"
      ]
    },
    {
      "cell_type": "code",
      "execution_count": 12,
      "metadata": {
        "id": "X0R18sPc9z_T"
      },
      "outputs": [],
      "source": [
        "# print(segs)"
      ]
    },
    {
      "cell_type": "markdown",
      "source": [
        "Separate segment elec distance and distance into quantiles"
      ],
      "metadata": {
        "id": "8H5l4iUblvKC"
      }
    },
    {
      "cell_type": "code",
      "source": [
        "import ast\n",
        "\n",
        "def try_literal_eval(s):\n",
        "    try:\n",
        "        return ast.literal_eval(s)\n",
        "    except ValueError:\n",
        "        return s\n",
        "\n",
        "segs['seg elec distance'] = segs['seg elec distance'].apply(try_literal_eval)"
      ],
      "metadata": {
        "id": "TENEotkp3IQj"
      },
      "execution_count": 13,
      "outputs": []
    },
    {
      "cell_type": "code",
      "source": [
        "# Define a function to retrieve a value from the nested dictionary\n",
        "def get_value_from_nested_dict(row, key1, key2):\n",
        "    return row['seg elec distance'].get(key1, {}).get(key2, None)  # return None if any key not found\n",
        "\n",
        "# Apply the function to each row of the DataFrame to create a new column\n",
        "segs['Elec_distance'] = segs.apply(get_value_from_nested_dict, args=('beta', 'passive_soma',), axis=1)"
      ],
      "metadata": {
        "id": "U8FngC1B4hur"
      },
      "execution_count": 14,
      "outputs": []
    },
    {
      "cell_type": "code",
      "execution_count": 15,
      "metadata": {
        "colab": {
          "base_uri": "https://localhost:8080/"
        },
        "id": "0BpOPokH4vag",
        "outputId": "5b9994b2-e0e5-43ad-f9ec-51aaf8943978"
      },
      "outputs": [
        {
          "output_type": "stream",
          "name": "stdout",
          "text": [
            "Segment Degrees Missing\n",
            "Segment Degrees Missing\n"
          ]
        }
      ],
      "source": [
        "try:\n",
        "  segs_degrees = pd.read_csv(degrees_f).groupby(['Sec ID','Type'])['Degrees'].max().reset_index() #degrees_f is segment degrees .csv file\n",
        "except:\n",
        "  print('Segment Degrees Missing')\n",
        "\n",
        "segs['segmentID'] = segs.index\n",
        "\n",
        "try:\n",
        "  segs = segs.set_index(['Type','Sec ID']).join(segs_degrees.set_index(['Type','Sec ID'])).reset_index()\n",
        "except:\n",
        "  print('Segment Degrees Missing')\n",
        "\n",
        "segs['sec index'] = segs['sec index'].astype(int)\n",
        "segs['x'] = segs['x'].astype(float)\n",
        "segs['Elec DistanceQ'] = None\n",
        "segs['DistanceQ'] = None\n",
        "\n",
        "segs.loc[segs.Type=='dend','Elec DistanceQ'] = pd.qcut(segs.loc[segs.Type=='dend','Elec_distance'], 10, labels=False, duplicates = 'drop')\n",
        "segs.loc[segs.Type=='apic','Elec DistanceQ'] = pd.qcut(segs.loc[segs.Type=='apic','Elec_distance'], 10, labels=False, duplicates = 'drop')\n",
        "segs.loc[segs.Type=='dend','DistanceQ'] = pd.qcut(segs.loc[segs.Type=='dend','seg h.distance'], 10, labels=False, duplicates = 'drop')\n",
        "segs.loc[segs.Type=='apic','DistanceQ'] = pd.qcut(segs.loc[segs.Type=='apic','seg h.distance'], 10, labels=False, duplicates = 'drop')"
      ]
    },
    {
      "cell_type": "code",
      "source": [
        "segments=[]\n",
        "class Segment():\n",
        "    def __init__(self, seg_info: dict = None, seg_data: dict = None):\n",
        "        # seg_info is a row from a dataframe\n",
        "        # set seg_info into Segment attributes\n",
        "        for info_key, info_value in seg_info.items():\n",
        "            clean_key = str(info_key).replace(\" \", \"_\").replace(\".\", \"_\") # change space and '.' both to '_'\n",
        "            setattr(self, clean_key, info_value)\n",
        "\n",
        "        self.name = self.seg # for clarity\n",
        "        # set seg_data into Segment attributes\n",
        "        for data_type in seg_data:\n",
        "            setattr(self, str(data_type), seg_data[data_type])\n",
        "\n",
        "        # set segment color\n",
        "        if self.Type == 'soma':\n",
        "          self.color = 'purple'\n",
        "        elif self.Type == 'dend':\n",
        "          self.color = 'red'\n",
        "        elif self.Type == 'apic':\n",
        "          self.color = 'blue'\n",
        "        elif self.Type == 'axon':\n",
        "          self.color = 'green'\n",
        "        else:\n",
        "          raise(ValueError(\"Section type not implemented\", self.Type))\n",
        "        # initialize lists for later\n",
        "        self.axial_currents = []\n",
        "        self.adj_segs = [] # adjacent segments list\n",
        "        self.child_segs = []\n",
        "        self.parent_segs = []\n",
        "        self.parent_axial_currents = []\n",
        "        self.child_axial_currents = []\n",
        "\n",
        "# Use Segment() class to store segment info and recorded data\n",
        "for i in range(len(segs)):\n",
        "    # assuming v, gNaTa etc. are pre-defined arrays or lists\n",
        "    seg_data = {\n",
        "        'v': v[:,i],\n",
        "        'gNaTa': gNaTa[:,i],\n",
        "        'iampa': iampa[:,i],\n",
        "        'inmda': inmda[:,i],\n",
        "        'icah': icah[:,i],\n",
        "        'ical': ical[:,i],\n",
        "        'ih': ih[:,i],\n",
        "        'ina': ina[:,i]\n",
        "    }\n",
        "    newprobe = Segment(seg_info = segs.iloc[i], seg_data = seg_data)\n",
        "    segments.append(newprobe)"
      ],
      "metadata": {
        "id": "5qQ8N-Q9naMo"
      },
      "execution_count": 16,
      "outputs": []
    },
    {
      "cell_type": "code",
      "execution_count": 17,
      "metadata": {
        "id": "ObhvUlAb4vag"
      },
      "outputs": [],
      "source": [
        "# #connections.csv may need improvement\n",
        "# exc_syns_per_seg = conns[conns['Source Population']=='exc_stim'].groupby(['Type','Sec ID','X'])['Conductance'].count().reset_index().rename(columns={'Conductance':'num_syns'})\n",
        "# inh_conns = conns[(conns['Source Population']=='dist_inh_stim')|\n",
        "#                   (conns['Source Population']=='prox_inh_stim')].sort_values(by=['Type','Sec ID','X']).reset_index(drop=True)\n",
        "# inh_syns_per_seg = inh_conns.groupby(['Type','Sec ID','X'])['Conductance'].count().reset_index().rename(columns={'Conductance':'num_syns'})\n",
        "\n",
        "# segs['segmentID'] = segs.groupby(['Type','Sec ID']).cumcount()+1 #* alters segmentIDs\n",
        "\n",
        "# exc_syns_per_seg['segmentID'] = exc_syns_per_seg.groupby(['Type','Sec ID']).cumcount()+1\n",
        "# inh_syns_per_seg['segmentID'] = inh_syns_per_seg.groupby(['Type','Sec ID']).cumcount()+1\n",
        "\n",
        "# exc_syns = segs.set_index(['Type','Sec ID','segmentID']).join(exc_syns_per_seg[['Type','Sec ID','segmentID','num_syns']].set_index(['Type','Sec ID','segmentID'])).reset_index()\n",
        "# inh_syns = segs.set_index(['Type','Sec ID','segmentID']).join(inh_syns_per_seg[['Type','Sec ID','segmentID','num_syns']].set_index(['Type','Sec ID','segmentID'])).reset_index()\n"
      ]
    },
    {
      "cell_type": "code",
      "execution_count": 18,
      "metadata": {
        "id": "2Few52k-4vag"
      },
      "outputs": [],
      "source": [
        "# exc_syns_per_seg.head()"
      ]
    },
    {
      "cell_type": "code",
      "execution_count": 19,
      "metadata": {
        "id": "GqAaIDem4vah"
      },
      "outputs": [],
      "source": [
        "# segs['segmentID'] = segs.groupby(['Type','sec index']).cumcount()+1"
      ]
    },
    {
      "cell_type": "code",
      "execution_count": 20,
      "metadata": {
        "id": "X-FQZkN64vah"
      },
      "outputs": [],
      "source": [
        "# exc_syns_per_seg['segmentID'] = exc_syns_per_seg.groupby(['Type','Sec ID']).cumcount()+1"
      ]
    },
    {
      "cell_type": "code",
      "execution_count": 21,
      "metadata": {
        "id": "YFfgDwZL4vah"
      },
      "outputs": [],
      "source": [
        "# exc_syns = segs.set_index(['Type','Sec ID','segmentID']).join(exc_syns_per_seg[['Type','Sec ID','segmentID','num_syns']].set_index(['Type','Sec ID','segmentID'])).reset_index()\n"
      ]
    },
    {
      "cell_type": "code",
      "source": [
        "# %ls"
      ],
      "metadata": {
        "id": "AmkF5wGx5Ewz"
      },
      "execution_count": 22,
      "outputs": []
    },
    {
      "cell_type": "code",
      "execution_count": 23,
      "metadata": {
        "id": "bhpJr1up4vai"
      },
      "outputs": [],
      "source": [
        "# v = h5py.File('./{}/v_report.h5'.format(output_folder),'r')\n",
        "# hva = h5py.File('./{}/Ca_HVA.ica_report.h5'.format(output_folder),'r')\n",
        "# lva = h5py.File('./{}/Ca_LVAst.ica_report.h5'.format(output_folder),'r')\n",
        "# ih = h5py.File('./{}/Ih.ihcn_report.h5'.format(output_folder),'r')\n",
        "\n",
        "# nmda = h5py.File('./{}/inmda_report.h5'.format(output_folder),'r')\n",
        "\n",
        "# na = h5py.File('./{}/NaTa_t.gNaTa_t_report.h5'.format(output_folder),'r')\n",
        "# ina = h5py.File('./{}/NaTa_t.ina_report.h5'.format(output_folder),'r')\n",
        "\n",
        "# spks = h5py.File('./{}/spikes.h5'.format(output_folder),'r')\n",
        "\n",
        "# v = h5py.File('Vm_report.h5'.format(output_folder),'r')\n",
        "# hva = h5py.File('icah_data_report.h5'.format(output_folder),'r')\n",
        "# lva = h5py.File('ical_data_report.h5'.format(output_folder),'r')\n",
        "# ih = h5py.File('ih_data_report.h5'.format(output_folder),'r')\n",
        "\n",
        "# nmda = h5py.File('i_NMDA_report.h5'.format(output_folder),'r')\n",
        "\n",
        "# na = h5py.File('gNaTa_T_data_report.h5'.format(output_folder),'r')\n",
        "# ina = h5py.File('ina_data_report.h5'.format(output_folder),'r')\n",
        "\n",
        "# spks = h5py.File('spikes_report.h5'.format(output_folder),'r')\n",
        "\n",
        "\n",
        "\n",
        "#v['report']['biophysical']['data'][:]"
      ]
    },
    {
      "cell_type": "code",
      "source": [
        "# figure out new keys to access spikes since changed data saving\n",
        "# print the names of the groups in the HDF5 file\n",
        "# print(\"Keys: %s\" % spikes.keys())"
      ],
      "metadata": {
        "id": "oxfh_LWaBFkw"
      },
      "execution_count": 24,
      "outputs": []
    },
    {
      "cell_type": "code",
      "execution_count": 25,
      "metadata": {
        "id": "CxkFxWNLtXA1",
        "colab": {
          "base_uri": "https://localhost:8080/"
        },
        "outputId": "ca933040-a0d3-45a3-946a-75c02a19715c"
      },
      "outputs": [
        {
          "output_type": "execute_result",
          "data": {
            "text/plain": [
              "array([False, False, False, ..., False, False, False])"
            ]
          },
          "metadata": {},
          "execution_count": 25
        }
      ],
      "source": [
        "v_thresh = -40\n",
        "np.diff(v[:-10000,1]> v_thresh, prepend=False) # not sure what this does"
      ]
    },
    {
      "cell_type": "code",
      "execution_count": 26,
      "metadata": {
        "id": "JrQxbXCr4vai"
      },
      "outputs": [],
      "source": [
        "# spktimes = spks['spikes']['biophysical']['timestamps'][:] # old data saving\n",
        "spiketimes = spikes[:] # (ms)\n",
        "spiketimestamps = np.sort((spiketimes/dt).astype(int)) # index in time array"
      ]
    },
    {
      "cell_type": "code",
      "source": [
        "dendritic_segs=[]\n",
        "for seg in segments:\n",
        "  if seg.Type in ['apic','dend']:\n",
        "    dendritic_segs.append(seg)"
      ],
      "metadata": {
        "id": "IFKA8rK0oBla"
      },
      "execution_count": 27,
      "outputs": []
    },
    {
      "cell_type": "code",
      "source": [
        "for seg in dendritic_segs:\n",
        "    seg_index=seg.seg_index # index in all segments list\n",
        "    threshold_crossings = np.diff(gNaTa[:,seg_index] > (0.003/1000), prepend=False) #if na conductance changes a certain amount\n",
        "    upward_crossings = np.argwhere(threshold_crossings)[::2,0]\n",
        "    downward_crossings = np.argwhere(threshold_crossings)[1::2,0]\n",
        "\n",
        "print(upward_crossings)"
      ],
      "metadata": {
        "colab": {
          "base_uri": "https://localhost:8080/"
        },
        "id": "3UpJYjqj_RJ5",
        "outputId": "909b5f0e-8543-4ae6-e92b-2eedbe3e619c"
      },
      "execution_count": 28,
      "outputs": [
        {
          "output_type": "stream",
          "name": "stdout",
          "text": [
            "[  580   716   970  1033  1137  1254  1347  1887  2005  2316  2718  2868\n",
            "  2884  3131  3259  3367  3558  3828  3861  4018  4126  4376  4675  4837\n",
            "  5033  5116  5289  5367  5644  5774  5829  5998  6025  6356  6436  6536\n",
            "  6760  6867  6896  7004  7239  7331  7357  7838  7866  7883  8045  8163\n",
            "  8452  8565  8643  8770  8794  8865  9109  9170  9320  9429  9507  9577\n",
            "  9729  9856  9955 10307 10742 10838 10997 11210 11245 11276 11317 11368\n",
            " 11500 11933 11944 12028 12271 12297 12548 12660 12676 13037 13098 13277\n",
            " 13545 13919 13944 14046 14120 14228 14256 14498 14568 14704 14866 14910\n",
            " 14960 15003 15028 15220 15369 15504 15577 15795 15875 15920 15996 16315\n",
            " 16517 16617 16708 16847 17061 17095 17168 17308 17780 18048 18085 18196\n",
            " 18378 18573 18645 18988 19195 19358 19408 19557 19656 19938 19988]\n"
          ]
        }
      ]
    },
    {
      "cell_type": "code",
      "source": [
        "print(spiketimestamps)"
      ],
      "metadata": {
        "colab": {
          "base_uri": "https://localhost:8080/"
        },
        "id": "bruutidP_ya5",
        "outputId": "e4eede68-9bbe-4f11-8003-57fbdbcebedc"
      },
      "execution_count": 29,
      "outputs": [
        {
          "output_type": "stream",
          "name": "stdout",
          "text": [
            "[ 1042  4589  5465  5847  6025  7286  9986 11015 18200 19231]\n"
          ]
        }
      ]
    },
    {
      "cell_type": "code",
      "source": [
        "na_spks = [i for i in upward_crossings if ~np.any((i-spiketimestamps>=-5) & (i-spiketimestamps<50))]\n",
        "print(na_spks)"
      ],
      "metadata": {
        "colab": {
          "base_uri": "https://localhost:8080/"
        },
        "id": "H3t48144_tvj",
        "outputId": "b633ca21-6e9b-40ae-fb69-fdfa209ff4b4"
      },
      "execution_count": 30,
      "outputs": [
        {
          "output_type": "stream",
          "name": "stdout",
          "text": [
            "[580, 716, 970, 1033, 1137, 1254, 1347, 1887, 2005, 2316, 2718, 2868, 2884, 3131, 3259, 3367, 3558, 3828, 3861, 4018, 4126, 4376, 4675, 4837, 5033, 5116, 5289, 5367, 5644, 5774, 5829, 5998, 6356, 6436, 6536, 6760, 6867, 6896, 7004, 7239, 7357, 7838, 7866, 7883, 8045, 8163, 8452, 8565, 8643, 8770, 8794, 8865, 9109, 9170, 9320, 9429, 9507, 9577, 9729, 9856, 9955, 10307, 10742, 10838, 10997, 11210, 11245, 11276, 11317, 11368, 11500, 11933, 11944, 12028, 12271, 12297, 12548, 12660, 12676, 13037, 13098, 13277, 13545, 13919, 13944, 14046, 14120, 14228, 14256, 14498, 14568, 14704, 14866, 14910, 14960, 15003, 15028, 15220, 15369, 15504, 15577, 15795, 15875, 15920, 15996, 16315, 16517, 16617, 16708, 16847, 17061, 17095, 17168, 17308, 17780, 18048, 18085, 18378, 18573, 18645, 18988, 19195, 19358, 19408, 19557, 19656, 19938, 19988]\n"
          ]
        }
      ]
    },
    {
      "cell_type": "code",
      "execution_count": 31,
      "metadata": {
        "id": "7EMfd8Hw4vai"
      },
      "outputs": [],
      "source": [
        "na_df = pd.DataFrame(columns=['seg_index','na_lower_bound'])\n",
        "# na_df1 = pd.DataFrame(columns=['segmentID','na_lower_bound'])\n",
        "\n",
        "for seg in dendritic_segs:\n",
        "    seg_index=seg.seg_index # index in all segments list\n",
        "    threshold_crossings = np.diff(gNaTa[:,seg_index] > (0.003/1000), prepend=False)\n",
        "    upward_crossings = np.argwhere(threshold_crossings)[::2,0]\n",
        "    downward_crossings = np.argwhere(threshold_crossings)[1::2,0]\n",
        "    # Only count if not within 2 ms after a somatic spike\n",
        "    na_spks = [i for i in upward_crossings if ~np.any((i-spiketimestamps < 2/dt))]\n",
        "\n",
        "    if len(na_spks)>0:\n",
        "        na_df = pd.concat([na_df,pd.DataFrame({'seg_index':np.tile(seg_index,len(na_spks)),\n",
        "                                                'na_lower_bound':na_spks})],axis=0, join='outer')\n",
        "    else:\n",
        "        na_df = pd.concat([na_df,pd.DataFrame({'seg_index':seg_index,\n",
        "                                        'na_lower_bound':np.array([np.nan])})],axis=0, join='outer')\n",
        "\n",
        "# print(na_df==na_df1)"
      ]
    },
    {
      "cell_type": "code",
      "execution_count": 32,
      "metadata": {
        "id": "P_AErLdR4vai",
        "colab": {
          "base_uri": "https://localhost:8080/",
          "height": 209
        },
        "outputId": "bb5d816f-c4d0-4be0-be6c-47571e3b4f71"
      },
      "outputs": [
        {
          "output_type": "error",
          "ename": "NameError",
          "evalue": "ignored",
          "traceback": [
            "\u001b[0;31m---------------------------------------------------------------------------\u001b[0m",
            "\u001b[0;31mNameError\u001b[0m                                 Traceback (most recent call last)",
            "\u001b[0;32m<ipython-input-32-2c0c4e10168e>\u001b[0m in \u001b[0;36m<cell line: 1>\u001b[0;34m()\u001b[0m\n\u001b[0;32m----> 1\u001b[0;31m \u001b[0;32mif\u001b[0m \u001b[0msave_dfs\u001b[0m\u001b[0;34m==\u001b[0m\u001b[0;32mTrue\u001b[0m\u001b[0;34m:\u001b[0m\u001b[0;34m\u001b[0m\u001b[0;34m\u001b[0m\u001b[0m\n\u001b[0m\u001b[1;32m      2\u001b[0m     \u001b[0mna_df\u001b[0m\u001b[0;34m.\u001b[0m\u001b[0mto_csv\u001b[0m\u001b[0;34m(\u001b[0m\u001b[0moutput_folder\u001b[0m\u001b[0;34m+\u001b[0m\u001b[0;34m'/'\u001b[0m\u001b[0;34m+\u001b[0m\u001b[0;34m'na_df.csv'\u001b[0m\u001b[0;34m)\u001b[0m\u001b[0;34m\u001b[0m\u001b[0;34m\u001b[0m\u001b[0m\n\u001b[1;32m      3\u001b[0m     \u001b[0mna_df\u001b[0m \u001b[0;34m=\u001b[0m \u001b[0mpd\u001b[0m\u001b[0;34m.\u001b[0m\u001b[0mread_csv\u001b[0m\u001b[0;34m(\u001b[0m\u001b[0moutput_folder\u001b[0m\u001b[0;34m+\u001b[0m\u001b[0;34m'/'\u001b[0m\u001b[0;34m+\u001b[0m\u001b[0;34m'na_df.csv'\u001b[0m\u001b[0;34m)\u001b[0m\u001b[0;34m\u001b[0m\u001b[0;34m\u001b[0m\u001b[0m\n",
            "\u001b[0;31mNameError\u001b[0m: name 'save_dfs' is not defined"
          ]
        }
      ],
      "source": [
        "if save_dfs==True:\n",
        "    na_df.to_csv(output_folder+'/'+'na_df.csv')\n",
        "    na_df = pd.read_csv(output_folder+'/'+'na_df.csv')"
      ]
    },
    {
      "cell_type": "code",
      "source": [
        "def reshape_pad(v, fillval=np.nan):\n",
        "    lens = np.array([len(item) for item in v])\n",
        "    mask = lens[:,None] > np.arange(lens.max())\n",
        "    out = np.full(mask.shape,fillval)\n",
        "    out[mask] = np.concatenate(v)\n",
        "    return out"
      ],
      "metadata": {
        "id": "Y1GPro00v2YH"
      },
      "execution_count": 33,
      "outputs": []
    },
    {
      "cell_type": "code",
      "execution_count": 34,
      "metadata": {
        "id": "pSnsZWvzUIlx",
        "colab": {
          "base_uri": "https://localhost:8080/",
          "height": 727
        },
        "outputId": "60b47053-c9f0-4dcd-a0a9-442c040f1f24"
      },
      "outputs": [
        {
          "output_type": "stream",
          "name": "stdout",
          "text": [
            "(133, 3)\n",
            "   seg_index na_lower_bound  peak_value\n",
            "0         86          19393    0.000004\n",
            "1         86          19511    0.000003\n",
            "2         86          19654    0.000004\n",
            "3         86          19727    0.000004\n",
            "4         86          19939    0.000004\n",
            "..       ...            ...         ...\n",
            "1        193          19408    0.000004\n",
            "2        193          19557    0.000035\n",
            "3        193          19656    0.000036\n",
            "4        193          19938    0.000005\n",
            "5        193          19988    0.000008\n",
            "\n",
            "[133 rows x 3 columns]\n"
          ]
        },
        {
          "output_type": "execute_result",
          "data": {
            "text/plain": [
              "<Axes: >"
            ]
          },
          "metadata": {},
          "execution_count": 34
        },
        {
          "output_type": "display_data",
          "data": {
            "text/plain": [
              "<Figure size 640x480 with 1 Axes>"
            ],
            "image/png": "[encoded data removed]"
          },
          "metadata": {}
        }
      ],
      "source": [
        "#* investigate\n",
        "# get the value of the conductance at the peak\n",
        "df = pd.DataFrame(columns=['seg_index','na_lower_bound','peak_value'])\n",
        "\n",
        "for s in na_df[~pd.isnull(na_df.na_lower_bound)].seg_index.unique():\n",
        "    inds = na_df[na_df.seg_index==s]['na_lower_bound'].astype(int).values # indices where gmax begins to be high\n",
        "\n",
        "\n",
        "    L = np.split(gNaTa[:,s], inds) # list of gmaxes between indices\n",
        "\n",
        "    X = reshape_pad(L) # make all timeframes in L have same length by appending nan to the end\n",
        "\n",
        "    peak_vals = np.max(X[:,0:10], axis=1) # peak value of only the first 1 ms after crossing bound\n",
        "\n",
        "    df = pd.concat((df,pd.DataFrame({'seg_index': s*np.ones((inds.shape[0],)).astype(int),\n",
        "                                     'na_lower_bound': inds,\n",
        "                                     'peak_value': peak_vals[1:]})))\n",
        "\n",
        "\n",
        "\n",
        "print(df.shape)\n",
        "print(df)\n",
        "df.groupby('seg_index')['peak_value'].mean().hist() # plot\n",
        "df_gb = df.groupby('seg_index')['na_lower_bound'].count().sort_values().reset_index() #count unique lower bounds\n",
        "outliers = df_gb[df_gb.na_lower_bound>1000]['seg_index'].values\n",
        "df_noout = df[(df.seg_index.isin(outliers))&(df.peak_value>0.006)]\n",
        "na_df_new = pd.concat((df_noout[['seg_index','na_lower_bound','peak_value']],na_df.loc[~na_df.seg_index.isin(outliers),['seg_index','na_lower_bound']]))\n",
        "na_df_new.to_csv('na_df.csv',index=False)\n",
        "\n",
        "df.loc[df.seg_index==936,'peak_value'].hist(bins=np.arange(0.003,0.01,0.001))"
      ]
    },
    {
      "cell_type": "code",
      "source": [
        "na_df=na_df_new"
      ],
      "metadata": {
        "id": "4UwdTUfcLAR6"
      },
      "execution_count": 35,
      "outputs": []
    },
    {
      "cell_type": "code",
      "source": [
        "na_df=na_df.reset_index(drop=True)"
      ],
      "metadata": {
        "id": "6mnECZ7pLZXL"
      },
      "execution_count": 36,
      "outputs": []
    },
    {
      "cell_type": "code",
      "source": [
        "# print(na_df.loc[4,'na_lower_bound'])"
      ],
      "metadata": {
        "colab": {
          "base_uri": "https://localhost:8080/"
        },
        "id": "XJ9EXbI7K4s_",
        "outputId": "d4732cea-3ecc-45c0-9479-1980ace787e1"
      },
      "execution_count": 37,
      "outputs": [
        {
          "output_type": "stream",
          "name": "stdout",
          "text": [
            "nan\n"
          ]
        }
      ]
    },
    {
      "cell_type": "code",
      "execution_count": 39,
      "metadata": {
        "id": "b7lOX8Uq4vai"
      },
      "outputs": [],
      "source": [
        "# #could try to make this recursive in the case that the random choice fails\n",
        "\n",
        "# for i in na_df.segmentID.unique():\n",
        "#    seg = na_df.loc[i,'segmentID']\n",
        "#    if not pd.isnull(na_df.loc[i,'na_lower_bound']):\n",
        "#        spkt = int(na_df.loc[i,'na_lower_bound'])\n",
        "#        trace = na['report']['biophysical']['data'][spkt-10:spkt+10,seg]\n",
        "#        peak_value = np.max(trace)\n",
        "#        half_peak = peak_value/2\n",
        "#        duration = np.arange(0,20)[trace>half_peak] + spkt - 10\n",
        "#        na_df.loc[i,'duration_low'] = duration[0]\n",
        "#        na_df.loc[i,'duration_high'] = duration[-1]\n",
        "#        na_df.loc[i,'peak_value'] = peak_value\n",
        "#    else:\n",
        "#        na_df.loc[i,'duration_low'] = np.nan\n",
        "#        na_df.loc[i,'duration_high'] = np.nan\n",
        "#        na_df.loc[i,'peak_value'] = np.nan\n",
        "\n",
        "# na_df['duration'] = (na_df['duration_high'] - na_df['duration_low'] + 1)/10\n",
        "\n",
        "for i in na_df.seg_index.unique():\n",
        "    seg = na_df.loc[i,'seg_index']\n",
        "    if not pd.isnull(na_df.loc[i,'na_lower_bound']):\n",
        "        spkt = int(na_df.loc[i,'na_lower_bound'])\n",
        "        trace = gNaTa[spkt-10:spkt+10,seg]\n",
        "        peak_value = np.max(trace)\n",
        "        half_peak = peak_value/2\n",
        "        # duration = np.arange(0,20)[trace>half_peak] + spkt - 10 #gave occasional error\n",
        "        duration = np.arange(0,len(trace))[trace>half_peak] + spkt - 10\n",
        "        na_df.loc[i,'duration_low'] = duration[0]\n",
        "        na_df.loc[i,'duration_high'] = duration[-1]\n",
        "        na_df.loc[i,'peak_value'] = peak_value\n",
        "    else:\n",
        "        na_df.loc[i,'duration_low'] = np.nan\n",
        "        na_df.loc[i,'duration_high'] = np.nan\n",
        "        na_df.loc[i,'peak_value'] = np.nan"
      ]
    },
    {
      "cell_type": "code",
      "execution_count": 40,
      "metadata": {
        "id": "BI9Bf8hl4vai"
      },
      "outputs": [],
      "source": [
        "na_df['duration'] = (na_df['duration_high'] - na_df['duration_low'] + 1)/10"
      ]
    },
    {
      "cell_type": "code",
      "execution_count": 41,
      "metadata": {
        "id": "FnJPbRFl4vaj"
      },
      "outputs": [],
      "source": [
        "segs_na_df = segs.join(na_df.set_index('seg_index')).reset_index()\n",
        "# segs_na_df = segs.set_index('seg_index').join(na_df.set_index('seg_index')).reset_index()\n",
        "# display(segs_na_df.Type.to_string())\n",
        "# display(segs_na_df.Elec_distance.to_string())\n",
        "\n",
        "\n",
        "segs_na_df = segs_na_df.fillna(value=np.nan)\n",
        "\n",
        "\n",
        "# segs_na_df[(~pd.isnull(segs_na_df.na_lower_bound))&(segs_na_df.Type=='apic')]"
      ]
    },
    {
      "cell_type": "code",
      "source": [
        "print(segs_na_df)"
      ],
      "metadata": {
        "colab": {
          "base_uri": "https://localhost:8080/"
        },
        "id": "rJlxwhhFNumQ",
        "outputId": "6e6f6761-83bf-4ede-fe1d-eb3182ae785c"
      },
      "execution_count": 42,
      "outputs": [
        {
          "output_type": "stream",
          "name": "stdout",
          "text": [
            "     index                             seg  seg index      p0 x3d     p0 y3d  \\\n",
            "0        0    L5PCtemplate[0].soma[0](0.5)          0   34.163384  17.621519   \n",
            "1        1    L5PCtemplate[0].dend[0](0.5)          1   60.067916  24.460821   \n",
            "2        2    L5PCtemplate[0].dend[1](0.5)          2   75.043081  18.176627   \n",
            "3        3    L5PCtemplate[0].dend[2](0.5)          3  122.409150  46.734807   \n",
            "4        4    L5PCtemplate[0].dend[3](0.5)          4   86.410004  19.889999   \n",
            "..     ...                             ...        ...         ...        ...   \n",
            "272    193  L5PCtemplate[0].apic[108](0.5)        193    1.757957  73.813991   \n",
            "273    193  L5PCtemplate[0].apic[108](0.5)        193    1.757957  73.813991   \n",
            "274    193  L5PCtemplate[0].apic[108](0.5)        193    1.757957  73.813991   \n",
            "275    194    L5PCtemplate[0].axon[0](0.5)        194   45.725559  18.343678   \n",
            "276    195    L5PCtemplate[0].axon[1](0.5)        195   45.725559  48.343678   \n",
            "\n",
            "        p0 z3d    p0.5 x3d   p0.5 y3d   p0.5 z3d      p1 x3d  ...  \\\n",
            "0   -50.250000   45.725557  18.343678 -50.250000   57.287731  ...   \n",
            "1   -61.353874   66.929149  21.040891 -51.991813   73.790382  ...   \n",
            "2   -44.915674   81.006490  20.137203 -40.647341   86.969898  ...   \n",
            "3    47.312976  125.219392  65.340469 -26.140698  128.029634  ...   \n",
            "4   -44.299999   88.896599  20.192551 -41.539216   91.383194  ...   \n",
            "..         ...         ...        ...        ...         ...  ...   \n",
            "272 -76.846571   -6.608136  72.501664 -89.272675  -14.974230  ...   \n",
            "273 -76.846571   -6.608136  72.501664 -89.272675  -14.974230  ...   \n",
            "274 -76.846571   -6.608136  72.501664 -89.272675  -14.974230  ...   \n",
            "275 -50.250000   45.725559  33.343678 -50.250000   45.725559  ...   \n",
            "276 -50.250000   45.725559  63.343676 -50.250000   45.725559  ...   \n",
            "\n",
            "                             netcon_SA_density_per_seg  Elec_distance  \\\n",
            "0    {'exc': 0.0, 'inh': 0.30798217769474995, 'tota...       1.000000   \n",
            "1    {'exc': 0.8564667182501665, 'inh': 0.022839112...       0.790003   \n",
            "2    {'exc': 1.0244748765540814, 'inh': 0.142949982...       0.534257   \n",
            "3    {'exc': 0.9510291497601382, 'inh': 0.174355344...       0.090679   \n",
            "4    {'exc': 1.0673468275023317, 'inh': 0.194063059...       0.418009   \n",
            "..                                                 ...            ...   \n",
            "272  {'exc': 0.45620595505770306, 'inh': 0.07299295...       0.168892   \n",
            "273  {'exc': 0.45620595505770306, 'inh': 0.07299295...       0.168892   \n",
            "274  {'exc': 0.45620595505770306, 'inh': 0.07299295...       0.168892   \n",
            "275             {'exc': 0.0, 'inh': 0.0, 'total': 0.0}       0.695620   \n",
            "276             {'exc': 0.0, 'inh': 0.0, 'total': 0.0}       0.398412   \n",
            "\n",
            "     segmentID  Elec DistanceQ  DistanceQ na_lower_bound peak_value  \\\n",
            "0            0             NaN        NaN            NaN        NaN   \n",
            "1            1             9.0        0.0            NaN        NaN   \n",
            "2            2             7.0        1.0            NaN        NaN   \n",
            "3            3             3.0        7.0            NaN        NaN   \n",
            "4            4             7.0        2.0            NaN        NaN   \n",
            "..         ...             ...        ...            ...        ...   \n",
            "272        193             6.0        0.0        19656.0        NaN   \n",
            "273        193             6.0        0.0        19938.0        NaN   \n",
            "274        193             6.0        0.0        19988.0        NaN   \n",
            "275        194             NaN        NaN            NaN        NaN   \n",
            "276        195             NaN        NaN            NaN        NaN   \n",
            "\n",
            "     duration_low  duration_high  duration  \n",
            "0             NaN            NaN       NaN  \n",
            "1             NaN            NaN       NaN  \n",
            "2             NaN            NaN       NaN  \n",
            "3             NaN            NaN       NaN  \n",
            "4             NaN            NaN       NaN  \n",
            "..            ...            ...       ...  \n",
            "272           NaN            NaN       NaN  \n",
            "273           NaN            NaN       NaN  \n",
            "274           NaN            NaN       NaN  \n",
            "275           NaN            NaN       NaN  \n",
            "276           NaN            NaN       NaN  \n",
            "\n",
            "[277 rows x 41 columns]\n"
          ]
        }
      ]
    },
    {
      "cell_type": "code",
      "execution_count": null,
      "metadata": {
        "id": "sB1diydHZvEg"
      },
      "outputs": [],
      "source": [
        "#pd.set_option(\"display.max_rows\", None, \"display.max_columns\", None)\n",
        "\n",
        "#print(na_df)"
      ]
    },
    {
      "cell_type": "code",
      "execution_count": 43,
      "metadata": {
        "id": "2EvZxPFY4vaj"
      },
      "outputs": [],
      "source": [
        "def get_sta(segs_na_df, spktimes):\n",
        "    na_dend = np.zeros((10,39,))\n",
        "    na_apic = np.zeros((10,39,))\n",
        "\n",
        "    edges_dend=np.quantile(segs_na_df[(~pd.isnull(segs_na_df.na_lower_bound))&\n",
        "                                       (segs_na_df.Type=='dend')]['Elec_distance'].unique(),np.arange(0,1.1,0.1))\n",
        "\n",
        "    edges_apic=np.quantile(segs_na_df[(~pd.isnull(segs_na_df.na_lower_bound))&\n",
        "                                       (segs_na_df.Type=='apic')]['Elec_distance'].unique(),np.arange(0,1.1,0.1))\n",
        "\n",
        "    actual_spktimes = []\n",
        "    c = 0\n",
        "    for i in np.sort(spktimes):\n",
        "        # excludes bursts\n",
        "        if i-c > 10:\n",
        "            for e in np.arange(0,10):\n",
        "                na_inds = segs_na_df[(~pd.isnull(segs_na_df.na_lower_bound))&\n",
        "                                     (segs_na_df.Type=='dend')&\n",
        "                                     (segs_na_df.Distance>edges_dend[e])&\n",
        "                                     (segs_na_df.Distance<=edges_dend[e+1])]['na_lower_bound'].values.astype(int)\n",
        "\n",
        "                x2, _ = np.histogram(na_inds/10,bins=np.arange(np.floor(i)-20,np.floor(i)+20,1))\n",
        "                na_dend[e] += x2\n",
        "\n",
        "                na_inds = segs_na_df[(~pd.isnull(segs_na_df.na_lower_bound))&\n",
        "                                     (segs_na_df.Type=='apic')&\n",
        "                                     (segs_na_df.Distance>edges_apic[e])&\n",
        "                                     (segs_na_df.Distance<=edges_apic[e+1])]['na_lower_bound'].values.astype(int)\n",
        "\n",
        "                x2, _ = np.histogram(na_inds/10,bins=np.arange(np.floor(i)-20,np.floor(i)+20,1))\n",
        "                na_apic[e] += x2\n",
        "\n",
        "            actual_spktimes.append(i)\n",
        "        c = i\n",
        "    return na_dend, na_apic"
      ]
    },
    {
      "cell_type": "code",
      "execution_count": 44,
      "metadata": {
        "id": "PTdNlzPK9z_Y",
        "colab": {
          "base_uri": "https://localhost:8080/",
          "height": 1000
        },
        "outputId": "20da87cb-881a-48a2-d839-3c3e41f7f5ce"
      },
      "outputs": [
        {
          "output_type": "error",
          "ename": "IndexError",
          "evalue": "ignored",
          "traceback": [
            "\u001b[0;31m---------------------------------------------------------------------------\u001b[0m",
            "\u001b[0;31mIndexError\u001b[0m                                Traceback (most recent call last)",
            "\u001b[0;32m<ipython-input-44-003dec8f73e6>\u001b[0m in \u001b[0;36m<cell line: 1>\u001b[0;34m()\u001b[0m\n\u001b[0;32m----> 1\u001b[0;31m \u001b[0mna_dend\u001b[0m\u001b[0;34m,\u001b[0m \u001b[0mna_apic\u001b[0m \u001b[0;34m=\u001b[0m \u001b[0mget_sta\u001b[0m\u001b[0;34m(\u001b[0m\u001b[0msegs_na_df\u001b[0m\u001b[0;34m,\u001b[0m \u001b[0mspiketimes\u001b[0m\u001b[0;34m)\u001b[0m\u001b[0;34m\u001b[0m\u001b[0;34m\u001b[0m\u001b[0m\n\u001b[0m\u001b[1;32m      2\u001b[0m \u001b[0mrand_spktimes\u001b[0m \u001b[0;34m=\u001b[0m \u001b[0mnp\u001b[0m\u001b[0;34m.\u001b[0m\u001b[0msort\u001b[0m\u001b[0;34m(\u001b[0m\u001b[0mnp\u001b[0m\u001b[0;34m.\u001b[0m\u001b[0mrandom\u001b[0m\u001b[0;34m.\u001b[0m\u001b[0mchoice\u001b[0m\u001b[0;34m(\u001b[0m\u001b[0mnp\u001b[0m\u001b[0;34m.\u001b[0m\u001b[0marange\u001b[0m\u001b[0;34m(\u001b[0m\u001b[0;36m0\u001b[0m\u001b[0;34m,\u001b[0m\u001b[0;36m150000\u001b[0m\u001b[0;34m)\u001b[0m\u001b[0;34m,\u001b[0m \u001b[0mspiketimes\u001b[0m\u001b[0;34m.\u001b[0m\u001b[0mshape\u001b[0m\u001b[0;34m[\u001b[0m\u001b[0;36m0\u001b[0m\u001b[0;34m]\u001b[0m\u001b[0;34m)\u001b[0m\u001b[0;34m)\u001b[0m\u001b[0;34m\u001b[0m\u001b[0;34m\u001b[0m\u001b[0m\n\u001b[1;32m      3\u001b[0m \u001b[0mna_dend_rand\u001b[0m\u001b[0;34m,\u001b[0m \u001b[0mna_apic_rand\u001b[0m \u001b[0;34m=\u001b[0m \u001b[0mget_sta\u001b[0m\u001b[0;34m(\u001b[0m\u001b[0msegs_na_df\u001b[0m\u001b[0;34m,\u001b[0m \u001b[0mrand_spktimes\u001b[0m\u001b[0;34m)\u001b[0m\u001b[0;34m\u001b[0m\u001b[0;34m\u001b[0m\u001b[0m\n",
            "\u001b[0;32m<ipython-input-43-249324e51d72>\u001b[0m in \u001b[0;36mget_sta\u001b[0;34m(segs_na_df, spktimes)\u001b[0m\n\u001b[1;32m      3\u001b[0m     \u001b[0mna_apic\u001b[0m \u001b[0;34m=\u001b[0m \u001b[0mnp\u001b[0m\u001b[0;34m.\u001b[0m\u001b[0mzeros\u001b[0m\u001b[0;34m(\u001b[0m\u001b[0;34m(\u001b[0m\u001b[0;36m10\u001b[0m\u001b[0;34m,\u001b[0m\u001b[0;36m39\u001b[0m\u001b[0;34m,\u001b[0m\u001b[0;34m)\u001b[0m\u001b[0;34m)\u001b[0m\u001b[0;34m\u001b[0m\u001b[0;34m\u001b[0m\u001b[0m\n\u001b[1;32m      4\u001b[0m \u001b[0;34m\u001b[0m\u001b[0m\n\u001b[0;32m----> 5\u001b[0;31m     edges_dend=np.quantile(segs_na_df[(~pd.isnull(segs_na_df.na_lower_bound))&\n\u001b[0m\u001b[1;32m      6\u001b[0m                                        (segs_na_df.Type=='dend')]['Elec_distance'].unique(),np.arange(0,1.1,0.1))\n\u001b[1;32m      7\u001b[0m \u001b[0;34m\u001b[0m\u001b[0m\n",
            "\u001b[0;32m/usr/local/lib/python3.10/dist-packages/numpy/core/overrides.py\u001b[0m in \u001b[0;36mquantile\u001b[0;34m(*args, **kwargs)\u001b[0m\n",
            "\u001b[0;32m/usr/local/lib/python3.10/dist-packages/numpy/lib/function_base.py\u001b[0m in \u001b[0;36mquantile\u001b[0;34m(a, q, axis, out, overwrite_input, method, keepdims, interpolation)\u001b[0m\n\u001b[1;32m   4369\u001b[0m     \u001b[0;32mif\u001b[0m \u001b[0;32mnot\u001b[0m \u001b[0m_quantile_is_valid\u001b[0m\u001b[0;34m(\u001b[0m\u001b[0mq\u001b[0m\u001b[0;34m)\u001b[0m\u001b[0;34m:\u001b[0m\u001b[0;34m\u001b[0m\u001b[0;34m\u001b[0m\u001b[0m\n\u001b[1;32m   4370\u001b[0m         \u001b[0;32mraise\u001b[0m \u001b[0mValueError\u001b[0m\u001b[0;34m(\u001b[0m\u001b[0;34m\"Quantiles must be in the range [0, 1]\"\u001b[0m\u001b[0;34m)\u001b[0m\u001b[0;34m\u001b[0m\u001b[0;34m\u001b[0m\u001b[0m\n\u001b[0;32m-> 4371\u001b[0;31m     return _quantile_unchecked(\n\u001b[0m\u001b[1;32m   4372\u001b[0m         a, q, axis, out, overwrite_input, method, keepdims)\n\u001b[1;32m   4373\u001b[0m \u001b[0;34m\u001b[0m\u001b[0m\n",
            "\u001b[0;32m/usr/local/lib/python3.10/dist-packages/numpy/lib/function_base.py\u001b[0m in \u001b[0;36m_quantile_unchecked\u001b[0;34m(a, q, axis, out, overwrite_input, method, keepdims)\u001b[0m\n\u001b[1;32m   4381\u001b[0m                         keepdims=False):\n\u001b[1;32m   4382\u001b[0m     \u001b[0;34m\"\"\"Assumes that q is in [0, 1], and is an ndarray\"\"\"\u001b[0m\u001b[0;34m\u001b[0m\u001b[0;34m\u001b[0m\u001b[0m\n\u001b[0;32m-> 4383\u001b[0;31m     r, k = _ureduce(a,\n\u001b[0m\u001b[1;32m   4384\u001b[0m                     \u001b[0mfunc\u001b[0m\u001b[0;34m=\u001b[0m\u001b[0m_quantile_ureduce_func\u001b[0m\u001b[0;34m,\u001b[0m\u001b[0;34m\u001b[0m\u001b[0;34m\u001b[0m\u001b[0m\n\u001b[1;32m   4385\u001b[0m                     \u001b[0mq\u001b[0m\u001b[0;34m=\u001b[0m\u001b[0mq\u001b[0m\u001b[0;34m,\u001b[0m\u001b[0;34m\u001b[0m\u001b[0;34m\u001b[0m\u001b[0m\n",
            "\u001b[0;32m/usr/local/lib/python3.10/dist-packages/numpy/lib/function_base.py\u001b[0m in \u001b[0;36m_ureduce\u001b[0;34m(a, func, **kwargs)\u001b[0m\n\u001b[1;32m   3700\u001b[0m         \u001b[0mkeepdim\u001b[0m \u001b[0;34m=\u001b[0m \u001b[0;34m(\u001b[0m\u001b[0;36m1\u001b[0m\u001b[0;34m,\u001b[0m\u001b[0;34m)\u001b[0m \u001b[0;34m*\u001b[0m \u001b[0ma\u001b[0m\u001b[0;34m.\u001b[0m\u001b[0mndim\u001b[0m\u001b[0;34m\u001b[0m\u001b[0;34m\u001b[0m\u001b[0m\n\u001b[1;32m   3701\u001b[0m \u001b[0;34m\u001b[0m\u001b[0m\n\u001b[0;32m-> 3702\u001b[0;31m     \u001b[0mr\u001b[0m \u001b[0;34m=\u001b[0m \u001b[0mfunc\u001b[0m\u001b[0;34m(\u001b[0m\u001b[0ma\u001b[0m\u001b[0;34m,\u001b[0m \u001b[0;34m**\u001b[0m\u001b[0mkwargs\u001b[0m\u001b[0;34m)\u001b[0m\u001b[0;34m\u001b[0m\u001b[0;34m\u001b[0m\u001b[0m\n\u001b[0m\u001b[1;32m   3703\u001b[0m     \u001b[0;32mreturn\u001b[0m \u001b[0mr\u001b[0m\u001b[0;34m,\u001b[0m \u001b[0mkeepdim\u001b[0m\u001b[0;34m\u001b[0m\u001b[0;34m\u001b[0m\u001b[0m\n\u001b[1;32m   3704\u001b[0m \u001b[0;34m\u001b[0m\u001b[0m\n",
            "\u001b[0;32m/usr/local/lib/python3.10/dist-packages/numpy/lib/function_base.py\u001b[0m in \u001b[0;36m_quantile_ureduce_func\u001b[0;34m(a, q, axis, out, overwrite_input, method)\u001b[0m\n\u001b[1;32m   4550\u001b[0m         \u001b[0;32melse\u001b[0m\u001b[0;34m:\u001b[0m\u001b[0;34m\u001b[0m\u001b[0;34m\u001b[0m\u001b[0m\n\u001b[1;32m   4551\u001b[0m             \u001b[0marr\u001b[0m \u001b[0;34m=\u001b[0m \u001b[0ma\u001b[0m\u001b[0;34m.\u001b[0m\u001b[0mcopy\u001b[0m\u001b[0;34m(\u001b[0m\u001b[0;34m)\u001b[0m\u001b[0;34m\u001b[0m\u001b[0;34m\u001b[0m\u001b[0m\n\u001b[0;32m-> 4552\u001b[0;31m     result = _quantile(arr,\n\u001b[0m\u001b[1;32m   4553\u001b[0m                        \u001b[0mquantiles\u001b[0m\u001b[0;34m=\u001b[0m\u001b[0mq\u001b[0m\u001b[0;34m,\u001b[0m\u001b[0;34m\u001b[0m\u001b[0;34m\u001b[0m\u001b[0m\n\u001b[1;32m   4554\u001b[0m                        \u001b[0maxis\u001b[0m\u001b[0;34m=\u001b[0m\u001b[0maxis\u001b[0m\u001b[0;34m,\u001b[0m\u001b[0;34m\u001b[0m\u001b[0;34m\u001b[0m\u001b[0m\n",
            "\u001b[0;32m/usr/local/lib/python3.10/dist-packages/numpy/lib/function_base.py\u001b[0m in \u001b[0;36m_quantile\u001b[0;34m(arr, quantiles, axis, method, out)\u001b[0m\n\u001b[1;32m   4656\u001b[0m         \u001b[0;32mif\u001b[0m \u001b[0mnp\u001b[0m\u001b[0;34m.\u001b[0m\u001b[0missubdtype\u001b[0m\u001b[0;34m(\u001b[0m\u001b[0marr\u001b[0m\u001b[0;34m.\u001b[0m\u001b[0mdtype\u001b[0m\u001b[0;34m,\u001b[0m \u001b[0mnp\u001b[0m\u001b[0;34m.\u001b[0m\u001b[0minexact\u001b[0m\u001b[0;34m)\u001b[0m\u001b[0;34m:\u001b[0m\u001b[0;34m\u001b[0m\u001b[0;34m\u001b[0m\u001b[0m\n\u001b[1;32m   4657\u001b[0m             slices_having_nans = np.isnan(\n\u001b[0;32m-> 4658\u001b[0;31m                 \u001b[0mtake\u001b[0m\u001b[0;34m(\u001b[0m\u001b[0marr\u001b[0m\u001b[0;34m,\u001b[0m \u001b[0mindices\u001b[0m\u001b[0;34m=\u001b[0m\u001b[0;34m-\u001b[0m\u001b[0;36m1\u001b[0m\u001b[0;34m,\u001b[0m \u001b[0maxis\u001b[0m\u001b[0;34m=\u001b[0m\u001b[0mDATA_AXIS\u001b[0m\u001b[0;34m)\u001b[0m\u001b[0;34m\u001b[0m\u001b[0;34m\u001b[0m\u001b[0m\n\u001b[0m\u001b[1;32m   4659\u001b[0m             )\n\u001b[1;32m   4660\u001b[0m         \u001b[0;32melse\u001b[0m\u001b[0;34m:\u001b[0m\u001b[0;34m\u001b[0m\u001b[0;34m\u001b[0m\u001b[0m\n",
            "\u001b[0;32m/usr/local/lib/python3.10/dist-packages/numpy/core/overrides.py\u001b[0m in \u001b[0;36mtake\u001b[0;34m(*args, **kwargs)\u001b[0m\n",
            "\u001b[0;32m/usr/local/lib/python3.10/dist-packages/numpy/core/fromnumeric.py\u001b[0m in \u001b[0;36mtake\u001b[0;34m(a, indices, axis, out, mode)\u001b[0m\n\u001b[1;32m    188\u001b[0m            [5, 7]])\n\u001b[1;32m    189\u001b[0m     \"\"\"\n\u001b[0;32m--> 190\u001b[0;31m     \u001b[0;32mreturn\u001b[0m \u001b[0m_wrapfunc\u001b[0m\u001b[0;34m(\u001b[0m\u001b[0ma\u001b[0m\u001b[0;34m,\u001b[0m \u001b[0;34m'take'\u001b[0m\u001b[0;34m,\u001b[0m \u001b[0mindices\u001b[0m\u001b[0;34m,\u001b[0m \u001b[0maxis\u001b[0m\u001b[0;34m=\u001b[0m\u001b[0maxis\u001b[0m\u001b[0;34m,\u001b[0m \u001b[0mout\u001b[0m\u001b[0;34m=\u001b[0m\u001b[0mout\u001b[0m\u001b[0;34m,\u001b[0m \u001b[0mmode\u001b[0m\u001b[0;34m=\u001b[0m\u001b[0mmode\u001b[0m\u001b[0;34m)\u001b[0m\u001b[0;34m\u001b[0m\u001b[0;34m\u001b[0m\u001b[0m\n\u001b[0m\u001b[1;32m    191\u001b[0m \u001b[0;34m\u001b[0m\u001b[0m\n\u001b[1;32m    192\u001b[0m \u001b[0;34m\u001b[0m\u001b[0m\n",
            "\u001b[0;32m/usr/local/lib/python3.10/dist-packages/numpy/core/fromnumeric.py\u001b[0m in \u001b[0;36m_wrapfunc\u001b[0;34m(obj, method, *args, **kwds)\u001b[0m\n\u001b[1;32m     55\u001b[0m \u001b[0;34m\u001b[0m\u001b[0m\n\u001b[1;32m     56\u001b[0m     \u001b[0;32mtry\u001b[0m\u001b[0;34m:\u001b[0m\u001b[0;34m\u001b[0m\u001b[0;34m\u001b[0m\u001b[0m\n\u001b[0;32m---> 57\u001b[0;31m         \u001b[0;32mreturn\u001b[0m \u001b[0mbound\u001b[0m\u001b[0;34m(\u001b[0m\u001b[0;34m*\u001b[0m\u001b[0margs\u001b[0m\u001b[0;34m,\u001b[0m \u001b[0;34m**\u001b[0m\u001b[0mkwds\u001b[0m\u001b[0;34m)\u001b[0m\u001b[0;34m\u001b[0m\u001b[0;34m\u001b[0m\u001b[0m\n\u001b[0m\u001b[1;32m     58\u001b[0m     \u001b[0;32mexcept\u001b[0m \u001b[0mTypeError\u001b[0m\u001b[0;34m:\u001b[0m\u001b[0;34m\u001b[0m\u001b[0;34m\u001b[0m\u001b[0m\n\u001b[1;32m     59\u001b[0m         \u001b[0;31m# A TypeError occurs if the object does have such a method in its\u001b[0m\u001b[0;34m\u001b[0m\u001b[0;34m\u001b[0m\u001b[0m\n",
            "\u001b[0;31mIndexError\u001b[0m: cannot do a non-empty take from an empty axes."
          ]
        }
      ],
      "source": [
        "na_dend, na_apic = get_sta(segs_na_df, spiketimes)\n",
        "rand_spktimes = np.sort(np.random.choice(np.arange(0,150000), spiketimes.shape[0]))\n",
        "na_dend_rand, na_apic_rand = get_sta(segs_na_df, rand_spktimes)"
      ]
    },
    {
      "cell_type": "code",
      "execution_count": null,
      "metadata": {
        "id": "2--OhaH54vaj"
      },
      "outputs": [],
      "source": [
        "plt.figure(figsize=(10,10))\n",
        "plt.subplot(2,1,1)\n",
        "plt.title('Na spikes - apical')\n",
        "plt.imshow((na_dend-na_dend_rand)/len(spiketimes),cmap='jet',vmin=-0.4, vmax=0.6)\n",
        "# plt.imshow((na_apic-na_apic_rand)/len(spktimes),cmap='jet')\n",
        "plt.colorbar(label='additional events per AP')\n",
        "plt.xticks(ticks=np.arange(0,40,5)-0.5,labels=['{}'.format(i) for i in np.arange(-20,20,5)])\n",
        "plt.yticks(ticks=[0,9],labels=['further','closer'])\n",
        "plt.xlim(5,35)\n",
        "\n",
        "plt.subplot(2,1,2)\n",
        "plt.title('Na spikes - basal')\n",
        "plt.imshow((na_dend-na_dend_rand)/len(spktimes),cmap='jet',vmin=-0.2, vmax=0.2)\n",
        "# plt.imshow((na_dend-na_dend_rand)/len(spktimes),cmap='jet')\n",
        "plt.colorbar(label='additional events per AP')\n",
        "plt.xticks(ticks=np.arange(0,40,5)-0.5,labels=['{}'.format(i) for i in np.arange(-20,20,5)])\n",
        "plt.yticks(ticks=[0,9],labels=['further','closer'])\n",
        "plt.xlabel('time(ms)')\n",
        "plt.xlim(5,35)\n",
        "if Detailed==True:\n",
        "    plt.savefig(output_folder+'/DetailedNaSpikestoAP.png')\n",
        "else:\n",
        "    plt.savefig(output_folder+'/ReducedNaSpikestoAP.png')\n",
        "\n",
        "plt.show()"
      ]
    },
    {
      "cell_type": "markdown",
      "metadata": {
        "id": "2mh6u46u4vak"
      },
      "source": [
        "----------"
      ]
    },
    {
      "cell_type": "code",
      "execution_count": null,
      "metadata": {
        "id": "KA5opS-19z_b"
      },
      "outputs": [],
      "source": [
        "if Detailed==True:\n",
        "    print('Detailed')\n",
        "    lowery=500\n",
        "    uppery=700\n",
        "    plt.scatter(segs['Coord X'], segs['Coord Y'])\n",
        "    plt.scatter(segs.loc[(segs['Coord Y']>lowery) & (segs['Coord Y']<uppery),'Coord X'],\n",
        "                segs.loc[(segs['Coord Y']>lowery) & (segs['Coord Y']<uppery),'Coord Y'])\n",
        "else: # change segments considered\n",
        "    print('Reduced Order')\n",
        "    lowery=500\n",
        "    uppery=700\n",
        "    plt.scatter(segs['Coord X'], segs['Coord Y'])\n",
        "    plt.scatter(segs.loc[(segs['Sec Name']=='disttrunk') | (segs['Sec Name']=='proxtuft') | ((segs['Sec Name']=='midtrunk') & (segs['Coord Y']>400)),'Coord X'],\n",
        "                segs.loc[(segs['Sec Name']=='disttrunk') | (segs['Sec Name']=='proxtuft') | ((segs['Sec Name']=='midtrunk') & (segs['Coord Y']>400)),'Coord Y'])"
      ]
    },
    {
      "cell_type": "code",
      "execution_count": null,
      "metadata": {
        "id": "qF4bFWUk9z_c"
      },
      "outputs": [],
      "source": [
        "Dnexus=segs[((segs['Sec Name']=='disttrunk')&(segs['Elec_distance']>910)) | (segs['Sec Name']=='proxtuft')]\n",
        "print(Dnexus['Elec_distance'].max())\n",
        "print(Dnexus['Elec_distance'].min())"
      ]
    },
    {
      "cell_type": "code",
      "execution_count": null,
      "metadata": {
        "id": "o36hLzYo4vak"
      },
      "outputs": [],
      "source": [
        "ca_df = pd.DataFrame(columns=['segmentID','ca_lower_bound'])\n",
        "\n",
        "segs['segmentID'] = segs.index\n",
        "if Detailed==True:\n",
        "    CAsegIDs = segs[(segs.Type=='apic')&(segs['Coord Y']>lowery)&(segs['Coord Y']<uppery)]['segmentID']\n",
        "else:\n",
        "    CAsegIDs = segs[(segs['Sec Name']=='disttrunk') | (segs['Sec Name']=='proxtuft') | (segs['Sec Name']=='midtrunk')]['segmentID']\n",
        "for p in CAsegIDs:\n",
        "    trace = hva['report']['biophysical']['data'][:,p]+\\\n",
        "                lva['report']['biophysical']['data'][:,p]+\\\n",
        "                ih['report']['biophysical']['data'][:,p]\n",
        "    m = np.mean(trace)\n",
        "    s = np.std(trace)\n",
        "\n",
        "    legit_uc = voltage_criterion(data=v['report']['biophysical']['data'][:,p],v_thresh=-40, time_thresh=200)[1]\n",
        "    legit_dc = voltage_criterion(data=v['report']['biophysical']['data'][:,p],v_thresh=-40, time_thresh=200)[-1]\n",
        "\n",
        "    legit_uc_iso = legit_uc\n",
        "\n",
        "    legit_dc_iso = legit_dc\n",
        "\n",
        "\n",
        "\n",
        "    if (len(legit_uc_iso)!=0) & (np.min(trace)!=0):\n",
        "        bnds, sum_curr = current_criterion(legit_uc_iso=legit_uc_iso,\n",
        "                                           legit_dc_iso=legit_dc_iso,\n",
        "                                           p=p,\n",
        "                                           control_inmda=hva['report']['biophysical']['data'])\n",
        "        ca_df = pd.concat([ca_df,pd.DataFrame({'segmentID':np.tile(p,len(bnds)),\n",
        "                                               'ca_lower_bound':np.array(bnds).reshape(-1,2)[:,0],\n",
        "                                               'ca_upper_bound':np.array(bnds).reshape(-1,2)[:,1],\n",
        "                                               'mag':sum_curr})],axis=0, join='outer')\n",
        "\n",
        "    else:\n",
        "        ca_df = pd.concat([ca_df,pd.DataFrame({'segmentID':np.tile(p,1),\n",
        "                                               'ca_lower_bound':np.nan,\n",
        "                                               'ca_upper_bound':np.nan,\n",
        "                                               'mag':np.nan})],axis=0, join='outer')"
      ]
    },
    {
      "cell_type": "code",
      "execution_count": null,
      "metadata": {
        "id": "qOf83soDjiCm"
      },
      "outputs": [],
      "source": [
        "#print(ca_df)"
      ]
    },
    {
      "cell_type": "code",
      "execution_count": null,
      "metadata": {
        "id": "C36RU9wM4vak"
      },
      "outputs": [],
      "source": [
        "if save_dfs==True:\n",
        "    ca_df.to_csv(output_folder+'/'+'ca_df.csv')\n",
        "    ca_df = pd.read_csv(output_folder+'/'+'ca_df.csv')"
      ]
    },
    {
      "cell_type": "markdown",
      "metadata": {
        "id": "TvfdmW7E4vak"
      },
      "source": [
        "# durations"
      ]
    },
    {
      "cell_type": "code",
      "execution_count": null,
      "metadata": {
        "id": "k-VESnKr4vak"
      },
      "outputs": [],
      "source": [
        "np.random.choice(segs[(segs['Coord Y']<-50)&\n",
        "     (segs['Coord Y']>-100)&\n",
        "     (segs['Coord X']>-50)&\n",
        "     (segs['Coord X']<50)&\n",
        "     (segs['Type']=='dend')]['segmentID'])"
      ]
    },
    {
      "cell_type": "markdown",
      "metadata": {
        "id": "mUUMQV414val"
      },
      "source": [
        "## Plotting morphology as heat maps"
      ]
    },
    {
      "cell_type": "code",
      "execution_count": null,
      "metadata": {
        "id": "Vnjms8KJ4val"
      },
      "outputs": [],
      "source": [
        "plt.figure(figsize=(4,10))\n",
        "ax = plt.scatter(segs['Coord X'], segs['Coord Y'],c=100*segs['Elec_distance'],s=4,cmap='jet', norm='log')\n",
        "plt.vlines(110,400,500)\n",
        "plt.text(0,450,'100 um')\n",
        "plt.hlines(400,110,210)\n",
        "plt.text(110,350,'100 um')\n",
        "plt.xticks([])\n",
        "plt.yticks([])\n",
        "cbar = plt.colorbar()\n",
        "cbar.ax.set_ylabel('Percentage of Somatic signal', rotation=270)\n",
        "\n",
        "#ax2.ax.set_title('log(elec_distance)',rotation=270)\n",
        "plt.box(False)\n",
        "plt.savefig('Elec_distance.png')"
      ]
    },
    {
      "cell_type": "markdown",
      "metadata": {
        "id": "tJFXhTRg4val"
      },
      "source": [
        "## Plotting morphology and voltage traces"
      ]
    },
    {
      "cell_type": "code",
      "execution_count": null,
      "metadata": {
        "id": "PWAxSjgM4vam"
      },
      "outputs": [],
      "source": [
        "# x = ca_df[~pd.isnull(ca_df.ca_lower_bound)].reset_index()\n",
        "# i = np.random.choice(x.index)"
      ]
    },
    {
      "cell_type": "code",
      "execution_count": null,
      "metadata": {
        "id": "8mkUlMNO4van"
      },
      "outputs": [],
      "source": [
        "ca_df.reset_index(inplace=True)"
      ]
    },
    {
      "cell_type": "code",
      "execution_count": null,
      "metadata": {
        "id": "jjypwBwsjbTg"
      },
      "outputs": [],
      "source": [
        "ca_df"
      ]
    },
    {
      "cell_type": "code",
      "execution_count": null,
      "metadata": {
        "id": "dtBzzaBz4van"
      },
      "outputs": [],
      "source": [
        "for i in np.random.choice(ca_df[(ca_df.ca_lower_bound>20) & (ca_df.ca_lower_bound<1400000)].index,100):\n",
        "    seg = ca_df.loc[i,'segmentID']\n",
        "    if not pd.isnull(ca_df.loc[i,'ca_lower_bound']):\n",
        "        spkt = int(ca_df.loc[i,'ca_lower_bound'])\n",
        "        if spkt>100:\n",
        "\n",
        "          trace = -(hva['report']['biophysical']['data'][spkt-100:spkt+200,seg] + \\\n",
        "                  lva['report']['biophysical']['data'][spkt-100:spkt+200,seg] + \\\n",
        "                  ih['report']['biophysical']['data'][spkt-100:spkt+200,seg])\n",
        "          try:\n",
        "            peak_value = np.max(trace) # may recieve error here if trace is empty. in that case, check segmentID and seg\n",
        "          except:\n",
        "            pdb.set_trace()\n",
        "          half_peak = peak_value/2\n",
        "          duration = np.arange(0,300)[trace>half_peak] + spkt - 10\n",
        "          ca_df.loc[i,'duration_low'] = duration[0]\n",
        "          ca_df.loc[i,'duration_high'] = duration[-1]\n",
        "          ca_df.loc[i,'peak_value'] = peak_value\n",
        "    else:\n",
        "        ca_df.loc[i,'duration_low'] = np.nan\n",
        "        ca_df.loc[i,'duration_high'] = np.nan\n",
        "        ca_df.loc[i,'peak_value'] = np.nan"
      ]
    },
    {
      "cell_type": "markdown",
      "metadata": {
        "id": "HBev4JNL4vao"
      },
      "source": [
        "----------"
      ]
    },
    {
      "cell_type": "code",
      "execution_count": null,
      "metadata": {
        "id": "R71f8PX94vao"
      },
      "outputs": [],
      "source": [
        "segs_ca_df = segs.set_index('segmentID').join(ca_df.set_index('segmentID')).reset_index()"
      ]
    },
    {
      "cell_type": "code",
      "execution_count": null,
      "metadata": {
        "id": "iqcIqkju9z_g"
      },
      "outputs": [],
      "source": [
        "# segs_ca_df['logElec_distance']=np.log(segs_ca_df['Elec_distance'])"
      ]
    },
    {
      "cell_type": "code",
      "execution_count": null,
      "metadata": {
        "id": "LyMAEk3i4vao"
      },
      "outputs": [],
      "source": [
        "def get_ca_sta(segs_ca_df, spktimes):\n",
        "\n",
        "    ca_apic = np.zeros((10,27,))\n",
        "\n",
        "    edges_apic=np.quantile(segs_ca_df[(~pd.isnull(segs_ca_df.ca_lower_bound))&\n",
        "                                       (segs_ca_df.Type=='apic')]['Elec_distance'].unique(),np.arange(0,1.1,0.1)) #split apical segments into 10 groups with equally spaced electrotonic distance\n",
        "\n",
        "\n",
        "\n",
        "    actual_spktimes = []\n",
        "    c = 0\n",
        "    for i in np.sort(spktimes):\n",
        "        # excludes bursts\n",
        "        if i-c > 10:\n",
        "            for e in np.arange(0,10):\n",
        "                ca_inds = segs_ca_df[(~pd.isnull(segs_ca_df.ca_lower_bound))&\n",
        "                                     (segs_ca_df.Type=='apic')&\n",
        "                                     (segs_ca_df.Elec_distance>edges_apic[e])&\n",
        "                                     (segs_ca_df.Elec_distance<=edges_apic[e+1])]['ca_lower_bound'].values.astype(int) #get spikes within the electrotonic distance groups\n",
        "\n",
        "                x2, _ = np.histogram(ca_inds/10,bins=np.arange(np.floor(i)-100,np.floor(i)+40,5)) #bin the spikes based on time\n",
        "                ca_apic[e] += x2\n",
        "\n",
        "\n",
        "\n",
        "            actual_spktimes.append(i)\n",
        "        c = i\n",
        "    return ca_apic"
      ]
    },
    {
      "cell_type": "code",
      "execution_count": null,
      "metadata": {
        "id": "kQYQ-85F4vao"
      },
      "outputs": [],
      "source": [
        "ca_apic = get_ca_sta(segs_ca_df, spktimes)"
      ]
    },
    {
      "cell_type": "code",
      "execution_count": null,
      "metadata": {
        "id": "Yl3731-G4vao"
      },
      "outputs": [],
      "source": [
        "rand_spktimes = np.sort(np.random.choice(np.arange(0,150000), spktimes.shape[0]))\n",
        "ca_apic_rand = get_ca_sta(segs_ca_df, rand_spktimes)"
      ]
    },
    {
      "cell_type": "code",
      "execution_count": null,
      "metadata": {
        "id": "n5K1ytuF4vao"
      },
      "outputs": [],
      "source": [
        "plt.figure(figsize=(10,10))\n",
        "plt.subplot(2,1,1)\n",
        "plt.title('Ca2+ Spikes - Nexus')\n",
        "plt.imshow((ca_apic-ca_apic_rand)/len(spktimes),cmap='jet')\n",
        "# plt.imshow((ca_apic-ca_apic_rand)/len(spktimes),cmap='jet',vmin=-1.5,vmax=1.5)\n",
        "plt.imshow((ca_apic-ca_apic_rand)/len(spktimes),cmap='jet',vmin=None,vmax=None)\n",
        "# plt.xticks(ticks=np.arange(0,40,2)-0.5,labels=['{}'.format(i) for i in np.arange(-20,20,2)])\n",
        "plt.xticks(ticks=np.arange(0,26,4)-0.5,labels=['{}'.format(i) for i in np.arange(-100,40,20)])\n",
        "plt.colorbar(label='Additional events per AP')\n",
        "# plt.yticks(ticks=[0,9],labels=['further','closer'])\n",
        "plt.yticks(ticks=[0,9],labels=['further','closer'])\n",
        "if Detailed==True:\n",
        "    plt.savefig(output_folder+'/DetailedCaSpikes.png')\n",
        "else:\n",
        "    plt.savefig(output_folder+'/ReducedCaSpikes.png')\n",
        "plt.show()"
      ]
    },
    {
      "cell_type": "markdown",
      "metadata": {
        "id": "Gng6B9sn4vao"
      },
      "source": [
        "----------------------"
      ]
    },
    {
      "cell_type": "code",
      "execution_count": null,
      "metadata": {
        "id": "BMeGyYxP4vao"
      },
      "outputs": [],
      "source": [
        "#apic_exc = segs_conns[(segs_conns['Source Population']=='exc_stim')&(segs_conns.Type=='apic')].groupby('segmentID')['Conductance'].sum().reset_index()\n",
        "\n",
        "#basal_exc = segs_conns[(segs_conns['Source Population']=='exc_stim')&(segs_conns.Type=='dend')].groupby('segmentID')['Conductance'].sum().reset_index()\n"
      ]
    },
    {
      "cell_type": "code",
      "execution_count": null,
      "metadata": {
        "id": "R7QuYb4C9z_h"
      },
      "outputs": [],
      "source": []
    },
    {
      "cell_type": "code",
      "execution_count": null,
      "metadata": {
        "id": "6Qva4P0Y9z_h"
      },
      "outputs": [],
      "source": []
    },
    {
      "cell_type": "code",
      "execution_count": null,
      "metadata": {
        "id": "MfzXuS744vao"
      },
      "outputs": [],
      "source": [
        "nmda_df = pd.DataFrame(columns=['segmentID','nmda_lower_bound', 'nmda_upper_bound', 'mag'])\n",
        "for p in segs[(segs.Type=='dend')|(segs.Type=='apic')].index: #(segs.Type=='dend')|(segs.Type=='apic')\n",
        "    #print(p)\n",
        "    legit_uc = voltage_criterion(data=v['report']['biophysical']['data'][:,p],v_thresh=-40, time_thresh=260)[1]\n",
        "    legit_dc = voltage_criterion(data=v['report']['biophysical']['data'][:,p],v_thresh=-40, time_thresh=260)[-1]\n",
        "\n",
        "    legit_uc_iso = legit_uc\n",
        "\n",
        "    legit_dc_iso = legit_dc\n",
        "\n",
        "    #print(legit_uc)\n",
        "    #print(legit_dc)\n",
        "\n",
        "    if (len(legit_uc_iso)!=0) & (np.min(nmda['report']['biophysical']['data'][:,p])!=0):\n",
        "        bnds, sum_curr = current_criterion(legit_uc_iso=legit_uc_iso,\n",
        "                                           legit_dc_iso=legit_dc_iso,\n",
        "                                           p=p,\n",
        "                                           control_inmda=nmda['report']['biophysical']['data'])\n",
        "\n",
        "\n",
        "        # nmda_df = nmda_df.append(pd.DataFrame({'segmentID':np.tile(p,len(bnds)),\n",
        "        #                                        'nmda_lower_bound':np.array(bnds).reshape(-1,2)[:,0],\n",
        "        #                                        'nmda_upper_bound':np.array(bnds).reshape(-1,2)[:,1],\n",
        "        #                                        'mag':sum_curr}))\n",
        "        nmda_df = pd.concat([nmda_df,pd.DataFrame({'segmentID':np.tile(p,len(bnds)),\n",
        "                                               'nmda_lower_bound':np.array(bnds).reshape(-1,2)[:,0],\n",
        "                                               'nmda_upper_bound':np.array(bnds).reshape(-1,2)[:,1],\n",
        "                                               'mag':sum_curr})],axis=0, join='outer')\n",
        "        #print(nmda_df.mag)\n",
        "\n",
        "    else:\n",
        "        #print('else')\n",
        "        # nmda_df = nmda_df.append(pd.DataFrame({'segmentID':np.tile(p,1),\n",
        "        #                                        'nmda_lower_bound':np.nan,\n",
        "        #                                        'nmda_upper_bound':np.nan,\n",
        "        #                                        'mag':np.nan}))\n",
        "        nmda_df = pd.concat([nmda_df,pd.DataFrame({'segmentID':np.tile(p,1),\n",
        "                                               'nmda_lower_bound':np.nan,\n",
        "                                               'nmda_upper_bound':np.nan,\n",
        "                                               'mag':np.nan})],axis=0, join='outer')\n",
        "\n",
        "\n",
        "#display(nmda_df.mag.to_string())\n",
        "\n",
        "\n",
        "#min(nmda_df.mag)"
      ]
    },
    {
      "cell_type": "code",
      "execution_count": null,
      "metadata": {
        "id": "aJjsh-nm4vao"
      },
      "outputs": [],
      "source": [
        "nmda_df['duration'] = nmda_df['nmda_upper_bound'] - nmda_df['nmda_lower_bound']\n",
        "if save_dfs==True:\n",
        "    nmda_df.to_csv(output_folder+'/'+'nmda_df.csv')\n",
        "    nmda_df = pd.read_csv(output_folder+'/'+'nmda_df.csv')"
      ]
    },
    {
      "cell_type": "code",
      "execution_count": null,
      "metadata": {
        "id": "uIBW0Pcvm_9_"
      },
      "outputs": [],
      "source": [
        "#mda_df.mag <= -0.000000001"
      ]
    },
    {
      "cell_type": "code",
      "execution_count": null,
      "metadata": {
        "id": "K6VLU3bijMpa"
      },
      "outputs": [],
      "source": [
        "#segs_nmda_df[:]"
      ]
    },
    {
      "cell_type": "code",
      "execution_count": null,
      "metadata": {
        "id": "OmMMqHsd4vao"
      },
      "outputs": [],
      "source": [
        "#nmda_df.rename(columns={'seg_id':'segmentID'},inplace=True)"
      ]
    },
    {
      "cell_type": "code",
      "execution_count": null,
      "metadata": {
        "id": "uV6HLncB4vao"
      },
      "outputs": [],
      "source": [
        "segs_nmda_df = segs.join(nmda_df.set_index('segmentID')).reset_index()"
      ]
    },
    {
      "cell_type": "code",
      "execution_count": null,
      "metadata": {
        "id": "BelzXR-DaPcv"
      },
      "outputs": [],
      "source": [
        "segs_nmda_df[(segs_nmda_df.mag<-0.0001)&\n",
        "                                  (segs_nmda_df.Type=='dend')]"
      ]
    },
    {
      "cell_type": "code",
      "execution_count": null,
      "metadata": {
        "id": "KqVpKnXVhEvv"
      },
      "outputs": [],
      "source": [
        "#min(segs_nmda_df.mag)"
      ]
    },
    {
      "cell_type": "code",
      "execution_count": null,
      "metadata": {
        "id": "daMclJ5hn1Sd"
      },
      "outputs": [],
      "source": [
        "#segs_nmda_df[(segs_nmda_df.mag<-0.0001)]"
      ]
    },
    {
      "cell_type": "code",
      "execution_count": null,
      "metadata": {
        "id": "UERHIibr4vao"
      },
      "outputs": [],
      "source": [
        "def get_nmda_sta(segs_nmda_df, spktimes):\n",
        "    nmda_dend = np.zeros((10,27,))\n",
        "    nmda_apic = np.zeros((10,27,))\n",
        "\n",
        "    edges_dend=np.quantile(segs_nmda_df[(segs_nmda_df.mag<-0.0001)&\n",
        "                                  (segs_nmda_df.Type=='dend')]['Elec_distance'].unique(),np.arange(0,1.1,0.1))\n",
        "    edges_apic=np.quantile(segs_nmda_df[(segs_nmda_df.mag<-0.00001)&\n",
        "                                   (segs_nmda_df.Type=='apic')]['Elec_distance'].unique(),np.arange(0,1.1,0.1))\n",
        "\n",
        "    actual_spktimes = []\n",
        "    c = 0\n",
        "    for i in np.sort(spktimes):\n",
        "        # excludes bursts\n",
        "        if i-c > 10:\n",
        "            for e in np.arange(0,10):\n",
        "                nmda_inds = segs_nmda_df[(segs_nmda_df.mag<-0.0001)&\n",
        "                                     (segs_nmda_df.Type=='dend')&\n",
        "                                     (segs_nmda_df.Elec_distance>edges_dend[e])&\n",
        "                                     (segs_nmda_df.Elec_distance<=edges_dend[e+1])]['nmda_lower_bound'].values.astype(int)\n",
        "\n",
        "                x2, _ = np.histogram(nmda_inds/10,bins=np.arange(np.floor(i)-100,np.floor(i)+40,5))\n",
        "                nmda_dend[e] += x2\n",
        "\n",
        "                nmda_inds = segs_nmda_df[(segs_nmda_df.mag<-0.0001)&\n",
        "                                     (segs_nmda_df.Type=='apic')&\n",
        "                                     (segs_nmda_df.Elec_distance>edges_apic[e])&\n",
        "                                     (segs_nmda_df.Elec_distance<=edges_apic[e+1])]['nmda_lower_bound'].values.astype(int)\n",
        "\n",
        "                x2, _ = np.histogram(nmda_inds/10,bins=np.arange(np.floor(i)-100,np.floor(i)+40,5))\n",
        "                nmda_apic[e] += x2\n",
        "\n",
        "            actual_spktimes.append(i)\n",
        "        c = i\n",
        "\n",
        "    return nmda_dend, nmda_apic"
      ]
    },
    {
      "cell_type": "code",
      "execution_count": null,
      "metadata": {
        "id": "tW8SvGK54vap"
      },
      "outputs": [],
      "source": [
        "nmda_dend, nmda_apic = get_nmda_sta(segs_nmda_df, spktimes)"
      ]
    },
    {
      "cell_type": "code",
      "execution_count": null,
      "metadata": {
        "id": "rwHm5TI-4vap"
      },
      "outputs": [],
      "source": [
        "rand_spktimes = np.sort(np.random.choice(np.arange(0,150000), spktimes.shape[0]))"
      ]
    },
    {
      "cell_type": "code",
      "execution_count": null,
      "metadata": {
        "id": "fWaFLebh4vap"
      },
      "outputs": [],
      "source": [
        "nmda_dend_rand, nmda_apic_rand = get_nmda_sta(segs_nmda_df, rand_spktimes)"
      ]
    },
    {
      "cell_type": "code",
      "execution_count": null,
      "metadata": {
        "id": "Xn3bcESa4vap"
      },
      "outputs": [],
      "source": [
        "plt.figure(num=3,figsize=(10,10))\n",
        "plt.subplot(2,1,1)\n",
        "plt.title('NMDA spikes - apical')\n",
        "plt.imshow((nmda_apic-nmda_apic_rand)/len(spktimes),cmap='jet')\n",
        "# plt.imshow((nmda_apic-nmda_apic_rand)/len(spktimes),cmap='jet',vmin=-0.6,vmax=0.6)\n",
        "plt.xticks(ticks=np.arange(0,26,4)-0.5,labels=['{}'.format(i) for i in np.arange(-100,40,20)])\n",
        "plt.yticks(ticks=[0,9],labels=['further','closer'])\n",
        "plt.yticks(ticks=[0,9],labels=[str(segs_nmda_df[segs_nmda_df.Type=='apic']['Elec_distance'].max()),str(segs_nmda_df[segs_nmda_df.Type=='apic']['Elec_distance'].min())])\n",
        "plt.colorbar(label='additional events per AP')\n",
        "plt.xlabel('time (ms)')\n",
        "plt.xlim(5,26)\n",
        "\n",
        "plt.subplot(2,1,2)\n",
        "plt.title('NMDA spikes - basal')\n",
        "plt.imshow((nmda_dend-nmda_dend_rand)/len(spktimes),cmap='jet')\n",
        "# plt.imshow((nmda_dend-nmda_dend_rand)/len(spktimes),cmap='jet', vmin=-0.6, vmax=0.6)\n",
        "plt.xticks(ticks=np.arange(0,26,4)-0.5,labels=['{}'.format(i) for i in np.arange(-100,40,20)])\n",
        "plt.yticks(ticks=[0,9],labels=['further','closer'])\n",
        "plt.yticks(ticks=[0,9],labels=[str(segs_nmda_df[segs_nmda_df.Type=='dend']['Elec_distance'].max()),str(segs_nmda_df[segs_nmda_df.Type=='dend']['Elec_distance'].min())])\n",
        "plt.colorbar(label='additional events per AP')\n",
        "plt.xlim(5,26)\n",
        "\n",
        "plt.xlabel('time (ms)')\n",
        "if Detailed==True:\n",
        "    plt.savefig(output_folder+'/DetailedNMDASpikes.png')\n",
        "else:\n",
        "    plt.savefig(output_folder+'/ReducedNMDASpikes.png')\n",
        "plt.show(plt.figure(num=3)) #test"
      ]
    },
    {
      "cell_type": "code",
      "execution_count": null,
      "metadata": {
        "id": "tRJwv3z0ZJuF"
      },
      "outputs": [],
      "source": [
        "sum(segs_nmda_df['segmentID'][segs_nmda_df.Type=='dend'])"
      ]
    },
    {
      "cell_type": "code",
      "execution_count": null,
      "metadata": {
        "id": "qjid5JcothuP"
      },
      "outputs": [],
      "source": [
        "segs.Type"
      ]
    },
    {
      "cell_type": "code",
      "execution_count": null,
      "metadata": {
        "id": "kTTHWoHn9z_k"
      },
      "outputs": [],
      "source": [
        "def plot_colorfield(color_field=str,vmin = None,vmax = None,lw=1):\n",
        "    ax = plt.figure(figsize=(10,16))\n",
        "    import matplotlib\n",
        "    from matplotlib.colors import Normalize\n",
        "    cmap = matplotlib.cm.get_cmap('jet')\n",
        "    norm = matplotlib.colors.Normalize(vmin = vmin, vmax = vmax)\n",
        "\n",
        "    for i in segs[segs.Type=='apic']['Sec ID'].unique():\n",
        "        section_L = segs[(segs.Type=='apic')&(segs['Sec ID']==i)]['Section_L'].unique()[0]\n",
        "        plt.plot(segs[(segs.Type=='apic')&(segs['Sec ID']==i)]['Coord X'],\n",
        "                segs[(segs.Type=='apic')&(segs['Sec ID']==i)]['Coord Y'],\n",
        "                color=cmap(norm(segs[(segs.Type=='apic')&(segs['Sec ID']==i)][color_field].sum()/section_L)),\n",
        "                linewidth = lw*segs[(segs.Type=='apic')&(segs['Sec ID']==i)]['Section_diam'].unique())\n",
        "\n",
        "    for i in segs[segs.Type=='dend']['Sec ID'].unique():\n",
        "        section_L = segs[(segs.Type=='dend')&(segs['Sec ID']==i)]['Section_L'].unique()[0]\n",
        "        plt.plot(segs[(segs.Type=='dend')&(segs['Sec ID']==i)]['Coord X'],\n",
        "                segs[(segs.Type=='dend')&(segs['Sec ID']==i)]['Coord Y'],\n",
        "                color=cmap(norm(segs[(segs.Type=='dend')&(segs['Sec ID']==i)][color_field].sum()/section_L)),\n",
        "                linewidth = lw*segs[(segs.Type=='dend')&(segs['Sec ID']==i)]['Section_diam'].unique())\n",
        "    #\n",
        "    #\n",
        "    plt.scatter(segs[(segs.Type=='soma')&(segs['Sec ID']==0)].loc[0,'Coord X'],\n",
        "            segs[(segs.Type=='soma')&(segs['Sec ID']==0)].loc[0,'Coord Y'],color='k',s=100)\n",
        "    plt.vlines(110,400,500)\n",
        "    plt.text(0,450,'100 um')\n",
        "    plt.hlines(400,110,210)\n",
        "    plt.text(110,350,'100 um')\n",
        "    plt.xticks([])\n",
        "    plt.yticks([])\n",
        "    cbar = plt.colorbar(matplotlib.cm.ScalarMappable(norm=norm, cmap=cmap))\n",
        "    #cbar.ax.set_ylabel('log(elec_distance)', rotation=270)\n",
        "\n",
        "    #ax2.ax.set_title('log(elec_distance)',rotation=270)\n",
        "    plt.box(False)\n",
        "    plt.savefig(output_folder+str(color_field)+'.png')\n",
        "\n",
        "plot_colorfield(color_field='num_syns_exc',vmax=2.2,vmin=0,lw=5)\n",
        "plot_colorfield(color_field='num_syns_inh',vmax=0.3,vmin=0,lw=5)"
      ]
    },
    {
      "cell_type": "code",
      "execution_count": null,
      "metadata": {
        "id": "RS0tai6w9z_k"
      },
      "outputs": [],
      "source": [
        "#NMDA effect on calcium\n",
        "#ca_spktimes = segs_ca_df[segs_ca_df.segmentID==1738]['ca_lower_bound']/10\n",
        "def get_nmda_sta_calcium(segs_nmda_df, spktimes):\n",
        "    nmda_dend = np.zeros((10,27,))\n",
        "    nmda_apic = np.zeros((10,27,))\n",
        "\n",
        "    edges_dend=np.quantile(segs_nmda_df[(segs_nmda_df.Type=='dend')]['Elec_distance_nexus'].unique(),np.arange(0,1.1,0.1))\n",
        "    edges_apic=np.quantile(segs_nmda_df[(segs_nmda_df.Type=='apic')]['Elec_distance_nexus'].unique(),np.arange(0,1.1,0.1))\n",
        "\n",
        "    actual_spktimes = []\n",
        "    c = 0\n",
        "    for i in np.sort(spktimes):\n",
        "        # excludes bursts\n",
        "        if i-c > 10:\n",
        "            for e in np.arange(0,10):\n",
        "                nmda_inds = segs_nmda_df[(segs_nmda_df.mag<-0.1)&\n",
        "                                     (segs_nmda_df.Type=='dend')&\n",
        "                                     (segs_nmda_df.Elec_distance_nexus>edges_dend[e])&\n",
        "                                     (segs_nmda_df.Elec_distance_nexus<=edges_dend[e+1])]['nmda_lower_bound'].values.astype(int)\n",
        "\n",
        "                x2, _ = np.histogram(nmda_inds/10,bins=np.arange(np.floor(i)-100,np.floor(i)+40,5))\n",
        "                nmda_dend[e] += x2\n",
        "\n",
        "                nmda_inds = segs_nmda_df[(segs_nmda_df.mag<-0.1)&\n",
        "                                     (segs_nmda_df.Type=='apic')&\n",
        "                                     (segs_nmda_df.Elec_distance_nexus>edges_apic[e])&\n",
        "                                     (segs_nmda_df.Elec_distance_nexus<=edges_apic[e+1])]['nmda_lower_bound'].values.astype(int)\n",
        "\n",
        "                x2, _ = np.histogram(nmda_inds/10,bins=np.arange(np.floor(i)-100,np.floor(i)+40,5))\n",
        "                nmda_apic[e] += x2\n",
        "\n",
        "            actual_spktimes.append(i)\n",
        "        c = i\n",
        "\n",
        "    return nmda_dend, nmda_apic\n",
        "edges_apic=np.quantile(segs_nmda_df[(segs_nmda_df.Type=='apic')]['Elec_distance_nexus'].unique(),np.arange(0,1.1,0.1))\n"
      ]
    },
    {
      "cell_type": "code",
      "execution_count": null,
      "metadata": {
        "id": "vxmXSB7P9z_l"
      },
      "outputs": [],
      "source": [
        "ca_spktimes = segs_ca_df[(segs_ca_df['Sec Name']=='disttrunk')]['ca_lower_bound']/10"
      ]
    },
    {
      "cell_type": "code",
      "execution_count": null,
      "metadata": {
        "id": "pM8WWGxn9z_l"
      },
      "outputs": [],
      "source": [
        "ca_spktimes_nodupes = np.sort(ca_spktimes[1:])[np.diff(np.sort(ca_spktimes))>100]\n",
        "nmda_dend, nmda_apic = get_nmda_sta_calcium(segs_nmda_df,ca_spktimes_nodupes)\n",
        "rand_spktimes = np.sort(np.random.choice(np.arange(0,150000), ca_spktimes_nodupes.shape[0]))\n",
        "nmda_dend_rand, nmda_apic_rand = get_nmda_sta_calcium(segs_nmda_df, rand_spktimes)\n",
        "plt.figure(figsize=(10,10))\n",
        "plt.subplot(2,1,1)\n",
        "plt.title('NMDA spikes - apical')\n",
        "x = (nmda_apic-nmda_apic_rand)/ca_spktimes_nodupes.shape[0]\n",
        "# plt.imshow(x,cmap='jet',vmin = -1, vmax = 5)\n",
        "plt.imshow(x,cmap='jet',vmin = None, vmax = None)\n",
        "plt.xticks(ticks=np.arange(0,26,4)+0.5,labels=['{}'.format(i) for i in np.arange(-100,40,20)])\n",
        "plt.yticks(ticks=[0,9],labels=['further','closer'])\n",
        "plt.colorbar(label='additional events per Ca2+ spike')\n",
        "plt.xlabel('time (ms)')\n",
        "plt.xlim(5,26)\n",
        "\n",
        "plt.subplot(2,1,2)\n",
        "plt.title('NMDA spikes - basal')\n",
        "x = (nmda_dend-nmda_dend_rand)/ca_spktimes_nodupes.shape[0]\n",
        "plt.imshow(x,cmap='jet',vmin = -1, vmax = 5)\n",
        "plt.xticks(ticks=np.arange(0,26,4)+0.5,labels=['{}'.format(i) for i in np.arange(-100,40,20)])\n",
        "plt.yticks(ticks=[0,9],labels=['further','closer'])\n",
        "plt.colorbar(label='additional events per Ca2+ spike')\n",
        "plt.xlim(5,26)\n",
        "\n",
        "plt.xlabel('time (ms)')\n",
        "plt.savefig(output_folder+'/nmdaspikes.png')\n",
        "plt.show()"
      ]
    },
    {
      "cell_type": "code",
      "execution_count": null,
      "metadata": {
        "id": "Vjftq5wT9z_l"
      },
      "outputs": [],
      "source": [
        "segs_nmda_df['Elec_distance_nexus']"
      ]
    },
    {
      "cell_type": "code",
      "execution_count": null,
      "metadata": {
        "id": "k29syMroudLK"
      },
      "outputs": [],
      "source": [
        "# print(segs_nmda_df[segs_nmda_df['nmda_lower_bound']>8000]) #get every index where nmda_lower_bound>8000\n",
        "# print(segs[segs['Seg_L']>5]) #show segs with this condition\n",
        "totallength=sum(segs['Seg_L'])"
      ]
    },
    {
      "cell_type": "code",
      "execution_count": null,
      "metadata": {
        "id": "p8xAAj5CXXXj"
      },
      "outputs": [],
      "source": [
        "total_basal_nmda = sum(segs_nmda_df['segmentID'][segs_nmda_df.Type=='dend'][~pd.isnull(segs_nmda_df.mag)])\n",
        "# num_basal_seg = len(segs[segs.Type=='dend'])\n",
        "basal_length = sum(segs['Seg_L'][segs.Type=='dend'])\n",
        "\n",
        "total_apic_nmda = sum(segs_nmda_df['segmentID'][segs_nmda_df.Type=='apic'][~pd.isnull(segs_nmda_df.mag)])\n",
        "# num_apic_seg = len(segs[segs.Type=='apic'])\n",
        "apic_length = sum(segs['Seg_L'][segs.Type=='apic'])\n",
        "\n",
        "# apic_nmda_perSeg_perSec = (total_apic_nmda / num_apic_seg)/(tstop/dt)\n",
        "# basal_ndma_perSeg_perSec = (total_basal_nmda / num_basal_seg)/(tstop/dt)\n",
        "apic_nmda_perUM_perSec = (total_apic_nmda / apic_length)/(tstop/1000) # Can divide by x microns to get per X microns\n",
        "basal_ndma_perUM_perSec = (total_basal_nmda / basal_length)/(tstop/1000) # Can divide by x microns to get per X microns\n",
        "\n",
        "# data = {'basal':basal_ndma_perSeg_perSec, 'apic':apic_nmda_perSeg_perSec}\n",
        "data = {'basal':basal_ndma_perUM_perSec, 'apic':apic_nmda_perUM_perSec}\n",
        "group = list(data.keys())\n",
        "value = list(data.values())\n",
        "\n",
        "fig = plt.figure(figsize = (10, 5))\n",
        "# plt.title('NMDA spikes per segment per second')\n",
        "plt.title('NMDA spikes per micron per second')\n",
        "\n",
        "\n",
        "# creating the bar plot\n",
        "plt.barh(group, value, color ='lightseagreen')\n",
        "if Detailed==True:\n",
        "    plt.savefig(output_folder+'/DetailedNMDASpikesPerUmPerSec.png')\n",
        "else:\n",
        "    plt.savefig(output_folder+'/ReducedNMDASpikesPerUmPerSec.png')"
      ]
    },
    {
      "cell_type": "code",
      "execution_count": null,
      "metadata": {
        "id": "k9-SY0ioXYnh"
      },
      "outputs": [],
      "source": [
        "total_basal_na = sum(segs_na_df['segmentID'][segs_na_df.Type=='dend'][~pd.isnull(segs_na_df.duration_high)])\n",
        "# num_basal_seg = len(segs[segs.Type=='dend'])\n",
        "basal_length = sum(segs['Seg_L'][segs.Type=='dend'])\n",
        "\n",
        "total_apic_na = sum(segs_na_df['segmentID'][segs_na_df.Type=='apic'][~pd.isnull(segs_na_df.duration_high)])\n",
        "# num_apic_seg = len(segs[segs.Type=='apic'])\n",
        "apic_length = sum(segs['Seg_L'][segs.Type=='apic'])\n",
        "\n",
        "# apic_na_perSeg_perSec = (total_apic_na / num_apic_seg)/(tstop/dt)\n",
        "# basal_na_perSeg_perSec = (total_basal_na / num_basal_seg)/(tstop/dt)\n",
        "apic_na_perUM_perSec = (total_apic_na / apic_length)/(tstop/1000) # Can divide by x microns to get per X microns\n",
        "basal_na_perUM_perSec = (total_basal_na / basal_length)/(tstop/1000) # Can divide by x microns to get per X microns\n",
        "\n",
        "# data = {'basal':basal_na_perSeg_perSec, 'apic':apic_na_perSeg_perSec}\n",
        "data = {'basal':basal_na_perUM_perSec, 'apic':apic_na_perUM_perSec}\n",
        "group = list(data.keys())\n",
        "value = list(data.values())\n",
        "\n",
        "fig = plt.figure(figsize = (10, 5))\n",
        "# plt.title('Na spikes per segment per second')\n",
        "plt.title('Na spikes per micron per second')\n",
        "\n",
        "\n",
        "# creating the bar plot\n",
        "plt.barh(group, value, color ='powderblue')\n",
        "if Detailed==True:\n",
        "    plt.savefig(output_folder+'/DetailedNASpikesPerUmPerSec.png')\n",
        "else:\n",
        "    plt.savefig(output_folder+'/ReducedNASpikesPerUmPerSec.png')"
      ]
    },
    {
      "cell_type": "code",
      "execution_count": null,
      "metadata": {
        "id": "lGeNOKN4aPrg"
      },
      "outputs": [],
      "source": [
        "total_basal_ca = sum(segs_ca_df['index'][segs_ca_df.Type=='dend'][~pd.isnull(segs_ca_df.duration_high)])\n",
        "# num_basal_seg = len(segs[segs.Type=='dend'])\n",
        "basal_length = sum(segs['Seg_L'][segs.Type=='dend'])\n",
        "\n",
        "print(total_basal_ca)\n",
        "\n",
        "total_apic_ca = sum(segs_ca_df['index'][segs_ca_df.Type=='apic'][~pd.isnull(segs_ca_df.duration_high)])\n",
        "# num_apic_seg = len(segs[segs.Type=='apic'])\n",
        "apic_length = sum(segs['Seg_L'][segs.Type=='apic'])\n",
        "\n",
        "# apic_ca_perSeg_perSec = (total_apic_ca / num_apic_seg)(tstop/dt)\n",
        "# basal_ca_perSeg_perSec = (total_basal_ca / num_basal_seg)(tstop/dt)\n",
        "\n",
        "apic_ca_perUM_perSec = (total_apic_ca / apic_length)/(tstop/1000) # Can divide by x microns to get per X microns\n",
        "basal_ca_perUM_perSec = (total_basal_ca / basal_length)/(tstop/1000) # Can divide by x microns to get per X microns\n",
        "\n",
        "\n",
        "# data = {'basal':basal_ca_perSeg_perSec, 'apic':apic_ca_perSeg_perSec}\n",
        "data = {'basal':basal_ca_perUM_perSec, 'apic':apic_ca_perUM_perSec}\n",
        "group = list(data.keys())\n",
        "value = list(data.values())\n",
        "\n",
        "fig = plt.figure(figsize = (10, 5))\n",
        "\n",
        "# plt.title('Calcium spikes per segment per second')\n",
        "plt.title('Calcium spikes per UM per second')\n",
        "\n",
        "\n",
        "# creating the bar plot\n",
        "plt.barh(group, value, color ='tomato')\n",
        "\n",
        "if Detailed==True:\n",
        "    plt.savefig(output_folder+'/DetailedCaSpikesPerUmPerSec.png')\n",
        "else:\n",
        "    plt.savefig(output_folder+'/ReducedCaSpikesPerUmPerSec.png')"
      ]
    },
    {
      "cell_type": "code",
      "execution_count": null,
      "metadata": {
        "id": "VYOFvfWp9z_m"
      },
      "outputs": [],
      "source": [
        "# segs.head() # segs does not have number of spikes\n",
        "# print(segs_ca_df)"
      ]
    },
    {
      "cell_type": "code",
      "execution_count": null,
      "metadata": {
        "id": "Vq-aKbWW9z_m"
      },
      "outputs": [],
      "source": [
        "# segs_ca_df[~pd.isnull(segs_ca_df.duration_high)].head()\n",
        "segs_ca_df.head()"
      ]
    },
    {
      "cell_type": "code",
      "execution_count": null,
      "metadata": {
        "id": "IMWvIeMu9z_m"
      },
      "outputs": [],
      "source": [
        "all_ca=pd.DataFrame()\n",
        "all_ca['NumSpikes'] = segs_ca_df['index'][~pd.isnull(segs_ca_df.duration_high)]\n",
        "# print(segs_ca_df[~pd.isnull(segs_ca_df.duration_high)])\n",
        "print(all_ca) # segment id and number of spikes\n",
        "# print(sum(all_ca))\n",
        "# plt.figure(figsize=(4,10))\n",
        "# ax = plt.scatter(segs['Coord X'], segs['Coord Y'],c=all_ca)\n",
        "# plt.vlines(110,400,500)\n",
        "# plt.text(0,450,'100 um')\n",
        "# plt.hlines(400,110,210)\n",
        "# plt.text(110,350,'100 um')\n",
        "# plt.xticks([])\n",
        "# plt.yticks([])\n",
        "# cbar = plt.colorbar()\n",
        "# cbar.ax.set_ylabel('log(elec_distance)', rotation=270)\n",
        "\n",
        "# #ax2.ax.set_title('log(elec_distance)',rotation=270)\n",
        "# plt.box(False)\n",
        "# plt.savefig('Elec_distance.png')\n",
        "# # all_ca_perUM_perSec = (all_ca / segs['Seg_L'])/(tstop/dt) # Can divide by x microns to get per X microns\n",
        "# # # print(all_ca_perUM_perSec)\n",
        "# # for i in range(len(all_ca_perUM_perSec)):\n",
        "# #     if np.isnan(all_ca_perUM_perSec[i])==True:\n",
        "# #         all_ca_perUM_perSec[i]=0\n",
        "# # print(all_ca_perUM_perSec)"
      ]
    },
    {
      "cell_type": "code",
      "execution_count": null,
      "metadata": {
        "id": "Y6ecjQg64vap"
      },
      "outputs": [],
      "source": [
        "for i in np.arange(0,10):\n",
        "    plt.plot(np.arange(-40,95,5),nmda_dend[i]/np.sum(nmda_dend[i]))\n"
      ]
    },
    {
      "cell_type": "code",
      "execution_count": null,
      "metadata": {
        "id": "nvS-77j54vap"
      },
      "outputs": [],
      "source": [
        "# segs_conns[(segs_conns['Sec ID']==80) & (segs_conns.Type=='dend')]['Source Population'].value_counts()"
      ]
    },
    {
      "cell_type": "markdown",
      "metadata": {
        "id": "ZDksdcux4geV"
      },
      "source": []
    },
    {
      "cell_type": "code",
      "execution_count": null,
      "metadata": {
        "id": "Wx2PiJh94vap"
      },
      "outputs": [],
      "source": [
        "plt.figure(figsize=(10,10))\n",
        "ind = 55\n",
        "plt.plot(segs['Coord X'], segs['Coord Y'], 'b.')\n",
        "plt.plot(segs.loc[0,'Coord X'], segs.loc[0,'Coord Y'], 'k.',markersize=20)\n",
        "\n",
        "plt.plot(segs.loc[ind,'Coord X'], segs.loc[ind,'Coord Y'], 'r*',markersize=20)\n",
        "\n",
        "# for i in segs_conns[(segs_conns.Type=='dend')&(segs_conns['Sec ID']==2)]['Sec ID'].unique():\n",
        "#     plt.plot(segs[(segs['Sec ID']==i)&(segs['Type']=='dend')]['Coord X'],\n",
        "#              segs[(segs['Sec ID']==i)&(segs['Type']=='dend')]['Coord Y'],color='r')\n",
        "\n",
        "#for i in segs_conns[(segs_conns.Type=='dend')&(segs_conns['Sec ID']==7)]['Sec ID'].unique():\n",
        "#    plt.plot(segs[(segs['Sec ID']==i)&(segs['Type']=='dend')]['Coord X'],\n",
        "#             segs[(segs['Sec ID']==i)&(segs['Type']=='dend')]['Coord Y'],color='c')\n",
        "\n",
        "#plt.plot(segs[segs.segmentID==119]['Coord X'], segs[segs.segmentID==119]['Coord Y'],'r*',markersize=14)\n",
        "#plt.plot(segs[segs.segmentID==110]['Coord X'], segs[segs.segmentID==110]['Coord Y'],'r*',markersize=14)\n",
        "#plt.plot(segs[segs.segmentID==103]['Coord X'], segs[segs.segmentID==103]['Coord Y'],'r*',markersize=14)\n",
        "\n",
        "#plt.plot(segs[segs.segmentID==134]['Coord X'], segs[segs.segmentID==134]['Coord Y'],'c*',markersize=14)\n",
        "plt.ylim(-25,50)\n",
        "plt.xlim(-150,150)"
      ]
    },
    {
      "cell_type": "code",
      "execution_count": null,
      "metadata": {
        "id": "iskhzr3R4vap"
      },
      "outputs": [],
      "source": [
        "# plt.figure(figsize=(10,10))\n",
        "# plt.plot(f['report']['biophysical']['data'][:,119],color='b')\n",
        "# plt.plot(f['report']['biophysical']['data'][:,110],color='b',alpha=0.5)\n",
        "# plt.plot(f['report']['biophysical']['data'][:,104],color='b',alpha=0.1)\n",
        "\n",
        "# plt.plot(f['report']['biophysical']['data'][:,134],color='c',alpha=1)\n",
        "# plt.plot(f['report']['biophysical']['data'][:,0],'k')\n",
        "# plt.twinx()\n",
        "# plt.plot(h['report']['biophysical']['data'][:,119],color='r')\n",
        "# plt.plot(h['report']['biophysical']['data'][:,110],color='r',alpha=0.5)\n",
        "# plt.plot(h['report']['biophysical']['data'][:,103],color='r',alpha=0.1)\n",
        "\n",
        "# plt.xlim(526519-100,526519+1000)"
      ]
    },
    {
      "cell_type": "code",
      "execution_count": null,
      "metadata": {
        "id": "xsQ5PRlP4vap"
      },
      "outputs": [],
      "source": [
        "nmda2 = np.zeros((79,))\n",
        "try:\n",
        "  for i in spktimes:\n",
        "      nmda_inds2 = np.sort(segs_nmda_df[(segs_nmda_df.Degrees<=3)&\n",
        "              (~pd.isnull(segs_nmda_df.nmda_lower_bound))&\n",
        "              (segs_nmda_df.mag<-0.1)&\n",
        "                  (segs_nmda_df.Type=='dend')]['nmda_lower_bound'].values.astype(int))\n",
        "\n",
        "      x2, _ = np.histogram(nmda_inds2/10,bins=np.arange(i-40,i+40,1))\n",
        "      nmda2 += x2\n",
        "except:\n",
        "  print('segs_nmda_df \"DataFrame\" object has no attribute \"Degrees\"')\n",
        "\n",
        "    #na_inds3 = segs_na_df[(segs_na_df.Degrees==3)&(~pd.isnull(segs_na_df.na_lower_bound))]['na_lower_bound'].values.astype(int)\n",
        "    #x3, _ = np.histogram(na_inds3/10,bins=np.arange(i-20,i+20,1))\n",
        "    #na3 += x3\n",
        "\n",
        "    #na_inds4 = segs_na_df[(segs_na_df.Degrees==4)&(~pd.isnull(segs_na_df.na_lower_bound))]['na_lower_bound'].values.astype(int)\n",
        "    #x4, _ = np.histogram(na_inds4/10,bins=np.arange(i-20,i+20,1))\n",
        "    #na4 += x4\n",
        "\n",
        "    #na_inds5 = segs_na_df[(segs_na_df.Degrees==5)&(~pd.isnull(segs_na_df.na_lower_bound))]['na_lower_bound'].values.astype(int)\n",
        "    #x5, _ = np.histogram(na_inds5/10,bins=np.arange(i-20,i+20,1))\n",
        "    #na5 += x5\n"
      ]
    },
    {
      "cell_type": "code",
      "execution_count": null,
      "metadata": {
        "id": "vUUqHx824vap"
      },
      "outputs": [],
      "source": [
        "plt.plot(nmda2)"
      ]
    },
    {
      "cell_type": "code",
      "execution_count": null,
      "metadata": {
        "id": "pKC4GG6k9z_n"
      },
      "outputs": [],
      "source": [
        "segs_ca_df.head()\n",
        "# segs_na_df.head()\n",
        "# segs_nmda_df.head()"
      ]
    },
    {
      "cell_type": "code",
      "execution_count": null,
      "metadata": {
        "id": "DxS1w_3p9z_n"
      },
      "outputs": [],
      "source": [
        "segs.head()"
      ]
    },
    {
      "cell_type": "code",
      "execution_count": null,
      "metadata": {
        "id": "qfbKVx3w9z_o"
      },
      "outputs": [],
      "source": [
        "#calculate segment spikes per second\n"
      ]
    },
    {
      "cell_type": "code",
      "execution_count": null,
      "metadata": {
        "id": "LtCXJTG94vap"
      },
      "outputs": [],
      "source": []
    },
    {
      "cell_type": "code",
      "execution_count": null,
      "metadata": {
        "id": "2H2GkHjg4vap"
      },
      "outputs": [],
      "source": []
    },
    {
      "cell_type": "code",
      "execution_count": null,
      "metadata": {
        "id": "plFcK6PZ4vap"
      },
      "outputs": [],
      "source": [
        "# import matplotlib\n",
        "# font = {'family' : 'normal',\n",
        "#         'weight' : 'normal',\n",
        "#         'size'   : 16}\n",
        "\n",
        "# matplotlib.rc('font', **font)\n",
        "\n",
        "# ind = 1139\n",
        "# plt.figure(figsize=(12,10))\n",
        "# plt.plot(np.arange(0,60000,.1),f['report']['biophysical']['data'][:,ind],color='b',label='dend voltage')\n",
        "# plt.plot(np.arange(0,60000,.1),f['report']['biophysical']['data'][:,0],color='k',alpha=0.3,label='soma voltage')\n",
        "# plt.legend(loc='lower left')\n",
        "# plt.hlines(-40,0,60000,linestyle='dashed')\n",
        "# plt.ylabel('voltage (mV)')\n",
        "# plt.ylim(-85,25)\n",
        "# plt.xlabel('time (ms)')\n",
        "# plt.twinx()\n",
        "# plt.plot(np.arange(0,60000,.1),h['report']['biophysical']['data'][:,ind],color='r',label='inmda dend')\n",
        "# plt.legend(loc='upper right')\n",
        "# plt.plot(np.arange(0,60000,.1)[nmda_df[nmda_df.seg_id==ind]['nmda_lower_bound'].values.astype(int)],\n",
        "#          h['report']['biophysical']['data'][nmda_df[nmda_df.seg_id==ind]['nmda_lower_bound'].values.astype(int),ind],'m*',markersize=20)\n",
        "# plt.plot(np.arange(0,60000,.1)[nmda_df[nmda_df.seg_id==ind]['nmda_upper_bound'].values.astype(int)],\n",
        "#          h['report']['biophysical']['data'][nmda_df[nmda_df.seg_id==ind]['nmda_upper_bound'].values.astype(int),ind],'k*',markersize=20)\n",
        "# plt.ylim(-0.009,0.001)\n",
        "# plt.xlim(37000,39000)\n",
        "# plt.ylabel('current (nA)')\n"
      ]
    },
    {
      "cell_type": "code",
      "execution_count": null,
      "metadata": {
        "id": "QYx2H4314vap"
      },
      "outputs": [],
      "source": [
        "# import matplotlib\n",
        "# font = {'family' : 'normal',\n",
        "#         'weight' : 'normal',\n",
        "#         'size'   : 16}\n",
        "\n",
        "# matplotlib.rc('font', **font)\n",
        "\n",
        "# plt.figure(figsize=(12,10))\n",
        "# plt.plot(np.arange(0,60000,.1),f['report']['biophysical']['data'][:,175],color='b',label='dend voltage')\n",
        "# plt.plot(np.arange(0,60000,.1),f['report']['biophysical']['data'][:,0],color='k',alpha=0.3,label='soma voltage')\n",
        "# plt.legend(loc='lower left')\n",
        "# plt.hlines(-40,0,60000,linestyle='dashed')\n",
        "# plt.ylabel('voltage (mV)')\n",
        "# plt.ylim(-85,25)\n",
        "# plt.xlabel('time (ms)')\n",
        "# plt.twinx()\n",
        "# plt.plot(np.arange(0,60000,.1),h['report']['biophysical']['data'][:,175],color='r',label='inmda dend')\n",
        "# plt.legend(loc='upper right')\n",
        "# plt.plot(np.arange(0,60000,.1)[nmda_df[nmda_df.seg_id==175]['nmda_lower_bound'].values.astype(int)],\n",
        "#          h['report']['biophysical']['data'][nmda_df[nmda_df.seg_id==175]['nmda_lower_bound'].values.astype(int),175],'m*',markersize=20)\n",
        "# plt.plot(np.arange(0,60000,.1)[nmda_df[nmda_df.seg_id==175]['nmda_upper_bound'].values.astype(int)],\n",
        "#          h['report']['biophysical']['data'][nmda_df[nmda_df.seg_id==175]['nmda_upper_bound'].values.astype(int),175],'k*',markersize=20)\n",
        "# plt.xlim(32000,32400)\n",
        "# plt.ylim(-0.009,0.001)\n",
        "# plt.ylabel('current (nA)')\n"
      ]
    },
    {
      "cell_type": "code",
      "execution_count": null,
      "metadata": {
        "id": "zvXGNGGT4vaq"
      },
      "outputs": [],
      "source": [
        "nmda_spktimes = nmda_df[nmda_df.mag<-0.1]['nmda_lower_bound']/10\n",
        "n = np.zeros((12,))\n",
        "for i in spktimes:\n",
        "    x,y = np.histogram(nmda_spktimes[(nmda_spktimes>i-30) & (nmda_spktimes<i+30)]-i,bins=np.arange(-30,31,5))\n",
        "    n+=x"
      ]
    },
    {
      "cell_type": "code",
      "execution_count": null,
      "metadata": {
        "id": "gikT0cOM4vaq"
      },
      "outputs": [],
      "source": [
        "np.arange(-30,31,5).shape"
      ]
    },
    {
      "cell_type": "code",
      "execution_count": null,
      "metadata": {
        "id": "61dFsyAl4vaq"
      },
      "outputs": [],
      "source": [
        "plt.plot(np.arange(-30,30,5),n)"
      ]
    },
    {
      "cell_type": "code",
      "execution_count": null,
      "metadata": {
        "id": "hihbEY_D4vaq"
      },
      "outputs": [],
      "source": [
        "na_spktimes = na_df[~pd.isnull(na_df.na_lower_bound)]['na_lower_bound']/10\n",
        "na = np.zeros((20,))\n",
        "for i in spktimes:\n",
        "    x,y = np.histogram(na_spktimes[(na_spktimes>i-10) & (na_spktimes<i+10)]-i,bins=np.arange(-10,11,1))\n",
        "    na+=x"
      ]
    },
    {
      "cell_type": "code",
      "execution_count": null,
      "metadata": {
        "id": "O6lnaEw54vaq"
      },
      "outputs": [],
      "source": [
        "# plt.plot(na_df[~pd.isnull(na_df.na_lower_bound)]['na_lower_bound']/10,\n",
        "#          na_df[~pd.isnull(na_df.na_lower_bound)]['seg_id'],'*')"
      ]
    },
    {
      "cell_type": "code",
      "execution_count": null,
      "metadata": {
        "id": "mCYyq4QZ4vaq"
      },
      "outputs": [],
      "source": []
    },
    {
      "cell_type": "code",
      "execution_count": null,
      "metadata": {
        "id": "wosrKFbn4vaq"
      },
      "outputs": [],
      "source": []
    },
    {
      "cell_type": "code",
      "execution_count": null,
      "metadata": {
        "id": "AX2hpqhx4vaq"
      },
      "outputs": [],
      "source": [
        "plt.plot(nmda_spktimes,np.random.randint(low=0,high=100,size=len(nmda_spktimes)),'.')\n",
        "plt.plot(spktimes,np.tile(40,len(spktimes)),'r*')"
      ]
    },
    {
      "cell_type": "code",
      "execution_count": null,
      "metadata": {
        "id": "BInnvuzU4vaq"
      },
      "outputs": [],
      "source": [
        "x1,_=np.histogram(spktimes,bins=np.arange(0,10000,100))\n",
        "x2,_=np.histogram(nmda_spktimes,bins=np.arange(0,10000,100))"
      ]
    },
    {
      "cell_type": "code",
      "execution_count": null,
      "metadata": {
        "id": "cLJIEXrs4vaq"
      },
      "outputs": [],
      "source": [
        "# plt.figure(figsize=(10,8))\n",
        "# plt.plot(np.arange(0,10000,.1),control_v[:,176],color='b')\n",
        "# plt.plot(np.arange(0,10000,.1)[nmda_df.loc[nmda_df.seg_id==175,'nmda_lower_bound'].values.astype(int)],control_v[nmda_df.loc[nmda_df.seg_id==175,'nmda_lower_bound'].values.astype(int),176],'m*')\n",
        "# plt.plot(np.arange(0,10000,.1),control_v[:,0],color='k')\n",
        "# plt.xlim(6000,7000)"
      ]
    },
    {
      "cell_type": "code",
      "execution_count": null,
      "metadata": {
        "id": "sSAq2Kj64vaq"
      },
      "outputs": [],
      "source": []
    },
    {
      "cell_type": "code",
      "execution_count": null,
      "metadata": {
        "id": "RQXnGrXg4vaq"
      },
      "outputs": [],
      "source": []
    },
    {
      "cell_type": "code",
      "execution_count": null,
      "metadata": {
        "id": "EZB7_ygG4vaq"
      },
      "outputs": [],
      "source": []
    },
    {
      "cell_type": "code",
      "execution_count": null,
      "metadata": {
        "id": "yJUmMwPj4vaq"
      },
      "outputs": [],
      "source": []
    },
    {
      "cell_type": "code",
      "execution_count": null,
      "metadata": {
        "id": "PCmw_39l4vaq"
      },
      "outputs": [],
      "source": [
        "# # ind1 = 3 sent to Drew\n",
        "# ind1 = 2\n",
        "# e1 = control_inmda[legit_uc_iso[ind1], p]\n",
        "# e2 = control_inmda[legit_dc_iso[ind1], p]\n",
        "# x30 = np.argwhere(np.diff(control_inmda[legit_uc_iso[ind1]:legit_dc_iso[ind1], p] < 1.3*e1, prepend=False))\n",
        "# x15 = np.argwhere(np.diff(control_inmda[legit_uc_iso[ind1]:legit_dc_iso[ind1], p] < 1.15*e1, prepend=False))"
      ]
    },
    {
      "cell_type": "code",
      "execution_count": null,
      "metadata": {
        "id": "GMx0qX0y4vaq"
      },
      "outputs": [],
      "source": [
        "# import matplotlib\n",
        "# font = {'family' : 'normal',\n",
        "#         'weight' : 'normal',\n",
        "#         'size'   : 16}\n",
        "\n",
        "# matplotlib.rc('font', **font)\n",
        "\n",
        "# plt.figure(figsize=(12,10))\n",
        "# plt.plot(np.arange(0,(legit_dc_iso[ind1]-legit_uc_iso[ind1])/10, 0.1),\n",
        "#          control_inmda[legit_uc_iso[ind1]:legit_dc_iso[ind1], p],color='r',label='inmda @ dend.')\n",
        "# plt.hlines(1.3*e1,0,np.max(np.arange(0,(legit_dc_iso[ind1]-legit_uc_iso[ind1])/10, 0.1)),color='r',alpha=0.2)\n",
        "# plt.hlines(1.15*e1,0,np.max(np.arange(0,(legit_dc_iso[ind1]-legit_uc_iso[ind1])/10, 0.1)),color='r',alpha=0.2)\n",
        "# plt.ylabel('current (nA)')\n",
        "# plt.ylim(-0.010,0)\n",
        "# plt.legend(loc='upper center')\n",
        "# plt.xlabel('time (ms)')\n",
        "# plt.twinx()\n",
        "# plt.plot(np.arange(0,(legit_dc_iso[ind1]-legit_uc_iso[ind1])/10, 0.1),\n",
        "#          control_v[legit_uc_iso[ind1]:legit_dc_iso[ind1],p],color='b',label='dend. volt.')\n",
        "# plt.plot(np.arange(0,(legit_dc_iso[ind1]-legit_uc_iso[ind1])/10, 0.1),\n",
        "#          control_v[legit_uc_iso[ind1]:legit_dc_iso[ind1],0], color='k',label='soma volt.')\n",
        "\n",
        "\n",
        "# for i in np.arange(0,len(bounds)):\n",
        "#     plt.fill_between(np.array([bounds[i][0]/10,bounds[i][1]/10]).reshape(2,),-70,20,color='k',alpha=0.2)\n",
        "#     plt.text(bounds[i][0]/10,-20-(i*10),'{x:.2f}'.format(x=sum_current[i]))\n",
        "##plt.fill_between(np.array([bounds[1][0]/10,bounds[1][1]/10]).reshape(2,),-70,20,color='k',alpha=0.2)\n",
        "##plt.fill_between(np.array([bounds[2][0]/10,bounds[2][1]/10]).reshape(2,),-70,20,color='k',alpha=0.2)\n",
        "#plt.hlines(-40,0,np.max(np.arange(0,(legit_uc_iso[ind1+1]-legit_uc_iso[ind1])/10, 0.1)),linestyle='dashed')\n",
        "##plt.text(1.5,14,'NMDA\\nspike')\n",
        "#plt.ylabel('voltage (mV)')\n",
        "#plt.legend()"
      ]
    },
    {
      "cell_type": "code",
      "execution_count": null,
      "metadata": {
        "id": "Jy1JT1Nq4vaq"
      },
      "outputs": [],
      "source": [
        "# plt.figure(figsize=(12,10))\n",
        "# plt.plot(np.arange(0,10000,.1),control_v[:,p],label='control dend. v')\n",
        "# plt.plot(np.arange(0,10000,.1),NMDAblock_v[:,p],label='NMDA block dend. v')\n",
        "# plt.plot(np.arange(0,10000,.1),control_v[:,0],color='k',label='control soma v')\n",
        "\n",
        "# uc = voltage_criterion(control_v[:,p],-40)[0]\n",
        "\n",
        "\n",
        "# plt.plot(np.arange(0,10000,.1)[uc],control_v[uc,p],'*')\n",
        "# plt.plot(np.arange(0,10000,.1)[legit_uc],control_v[legit_uc,p],'m*')\n",
        "\n",
        "\n",
        "# center = np.floor(legit_uc[np.random.choice(np.arange(0,legit_uc.shape[0]))]/10)\n",
        "\n",
        "# plt.plot([center,center+26],[-80,-80],color='k')\n",
        "# plt.legend(loc='lower left')\n",
        "\n",
        "# plt.twinx()\n",
        "# plt.plot(np.arange(0,10000,.1),control_inmda[:,p],color='r',label='NMDA current')\n",
        "# plt.plot(np.arange(0,10000,.1)[legit_uc],control_inmda[legit_uc, p],'*')\n",
        "# #plt.plot(np.arange(0,10000,.1),control_gna[:,p],color='r',alpha=0.2, label='gNa')\n",
        "# plt.xlim(center-100,center+100)\n",
        "\n",
        "# plt.legend(loc='lower right')\n",
        "# plt.title('{}'.format(legit_uc))"
      ]
    },
    {
      "cell_type": "code",
      "execution_count": null,
      "metadata": {
        "id": "nMgTL3Kh4vaq"
      },
      "outputs": [],
      "source": [
        "# p = np.random.choice(segs[segs.Type=='apic'].index)\n",
        "# for i in spktimes:\n",
        "#     plt.plot(np.arange(0,20,.1), control_v[int(i*10)-100:int(i*10)+100,p])\n",
        "# plt.vlines(10,-65,0,color='k')\n",
        "# plt.ylim(-65,0)"
      ]
    },
    {
      "cell_type": "code",
      "execution_count": null,
      "metadata": {
        "id": "UkNA5PUa4vaq"
      },
      "outputs": [],
      "source": [
        "# p = 829#np.random.choice(segs[segs.Type=='dend'].index)\n",
        "# plt.title('dend {}'.format(p))\n",
        "# plt.plot(control_v[7200:7700,p],label='dend')\n",
        "# plt.plot(control_v[7200:7700,0],label='soma')\n",
        "# plt.hlines(-40,0,500)\n",
        "# plt.twinx()\n",
        "# plt.plot(control_inmda[7200:7700,p],color='r')\n",
        "# plt.legend()"
      ]
    },
    {
      "cell_type": "code",
      "execution_count": null,
      "metadata": {
        "id": "PTz_OD204vaq"
      },
      "outputs": [],
      "source": [
        "# control_v[10000,0]"
      ]
    },
    {
      "cell_type": "code",
      "execution_count": null,
      "metadata": {
        "id": "0j1tXS3E4var"
      },
      "outputs": [],
      "source": [
        "# plt.hist(control_v[10000,:])"
      ]
    },
    {
      "cell_type": "code",
      "execution_count": null,
      "metadata": {
        "id": "xc3yqYuK4var"
      },
      "outputs": [],
      "source": [
        "# plt.plot(control_v[:,1200])\n",
        "# plt.plot(NMDAblock_v[:,1200])"
      ]
    },
    {
      "cell_type": "code",
      "execution_count": null,
      "metadata": {
        "id": "yL_5vEQb4var"
      },
      "outputs": [],
      "source": [
        "# df = ids_pos.set_index(['BMTK ID', 'X']).join(segs.set_index(['BMTK ID', 'X'])).reset_index()"
      ]
    },
    {
      "cell_type": "code",
      "execution_count": null,
      "metadata": {
        "id": "-SAxAuK34var"
      },
      "outputs": [],
      "source": [
        "# df.loc[0,'Distance'], np.mean(f['report']['biophysical']['data'],axis=0)[0]"
      ]
    },
    {
      "cell_type": "code",
      "execution_count": null,
      "metadata": {
        "id": "tcCgvLcV4var"
      },
      "outputs": [],
      "source": [
        "# df[(df.Distance>900) & (df.Distance<1000)]"
      ]
    },
    {
      "cell_type": "code",
      "execution_count": null,
      "metadata": {
        "id": "iSQt7tgD4var"
      },
      "outputs": [],
      "source": [
        "# plt.scatter(np.arange(0,df.shape[0]), np.mean(f['report']['biophysical']['data'],axis=0))\n",
        "# plt.xlim(1740,1760)"
      ]
    },
    {
      "cell_type": "code",
      "execution_count": null,
      "metadata": {
        "id": "q5Lf7TbC4var"
      },
      "outputs": [],
      "source": [
        "# plt.figure(figsize=(10,6))\n",
        "# plt.scatter(df['Elec_distance'],np.mean(f['report']['biophysical']['data'],axis=0),alpha=0.2)\n",
        "# plt.scatter(df.loc[0,'Distance'], np.mean(f['report']['biophysical']['data'],axis=0)[0],color='r', marker='*', s=75)\n",
        "# plt.scatter(df.loc[1452,'Distance'], np.mean(f['report']['biophysical']['data'],axis=0)[1452],color='m',marker='*', s=75)\n",
        "# plt.scatter(df.loc[1754,'Distance'], np.mean(f['report']['biophysical']['data'],axis=0)[1754],color='k',marker='*', s=75)\n",
        "# plt.xlabel('distance from soma')\n",
        "# plt.ylabel('mean potential of segment (mV)')"
      ]
    },
    {
      "cell_type": "code",
      "execution_count": null,
      "metadata": {
        "id": "yVPunG4e4var"
      },
      "outputs": [],
      "source": [
        "# #plt.scatter(np.arange(0,f['report']['biophysical']['data'].shape[1]),np.mean(f['report']['biophysical']['data'],axis=0))\n",
        "\n",
        "# plt.figure(figsize=(10,6))\n",
        "\n",
        "# plt.plot(np.arange(0,2,0.0001),f['report']['biophysical']['data'][:,0],color='r')\n",
        "# plt.plot(np.arange(0,2,0.0001),f['report']['biophysical']['data'][:,1452],color='m')\n",
        "# plt.plot(np.arange(0,2,0.0001),f['report']['biophysical']['data'][:,1754],color='k')\n",
        "# plt.xlim(1.75,2)\n",
        "# plt.xlabel('time (s)')\n",
        "# plt.ylabel('membrane potential (mV)')"
      ]
    },
    {
      "cell_type": "code",
      "execution_count": null,
      "metadata": {
        "id": "WeeWcSCF4var"
      },
      "outputs": [],
      "source": []
    }
  ],
  "metadata": {
    "colab": {
      "provenance": [],
      "include_colab_link": true
    },
    "kernelspec": {
      "display_name": "Python 3.9.7 ('base': conda)",
      "language": "python",
      "name": "python3"
    },
    "language_info": {
      "codemirror_mode": {
        "name": "ipython",
        "version": 3
      },
      "file_extension": ".py",
      "mimetype": "text/x-python",
      "name": "python",
      "nbconvert_exporter": "python",
      "pygments_lexer": "ipython3",
      "version": "3.9.7"
    },
    "vscode": {
      "interpreter": {
        "hash": "8f3619f4fa641ed177aec79a1937dab9841a35bf4719b57c8f69b2dc3d4e9503"
      }
    }
  },
  "nbformat": 4,
  "nbformat_minor": 0
}