{
  "cells": [
    {
      "cell_type": "markdown",
      "metadata": {
        "id": "view-in-github",
        "colab_type": "text"
      },
      "source": [
        "<a href=\"https://colab.research.google.com/github/davidfague/Neural-Modeling/blob/main/fully_refactored_Functional_Groups_Simulation.ipynb\" target=\"_parent\"><img src=\"https://colab.research.google.com/assets/colab-badge.svg\" alt=\"Open In Colab\"/></a>"
      ]
    },
    {
      "cell_type": "code",
      "execution_count": 1,
      "metadata": {
        "id": "0xF6eTfOhNA1"
      },
      "outputs": [],
      "source": [
        "is_colab = 'google.colab' in str(get_ipython())"
      ]
    },
    {
      "cell_type": "code",
      "execution_count": 2,
      "metadata": {
        "colab": {
          "base_uri": "https://localhost:8080/"
        },
        "id": "ZUb0xOo7w7gt",
        "outputId": "ff01b841-5829-4b88-e7a3-585460a5d157"
      },
      "outputs": [
        {
          "output_type": "stream",
          "name": "stdout",
          "text": [
            "Looking in indexes: https://pypi.org/simple, https://us-python.pkg.dev/colab-wheels/public/simple/\n",
            "Collecting neuron\n",
            "  Downloading NEURON-8.2.2-cp310-cp310-manylinux_2_17_x86_64.manylinux2014_x86_64.whl (14.9 MB)\n",
            "\u001b[2K     \u001b[90m━━━━━━━━━━━━━━━━━━━━━━━━━━━━━━━━━━━━━━━━\u001b[0m \u001b[32m14.9/14.9 MB\u001b[0m \u001b[31m48.1 MB/s\u001b[0m eta \u001b[36m0:00:00\u001b[0m\n",
            "\u001b[?25hRequirement already satisfied: numpy>=1.9.3 in /usr/local/lib/python3.10/dist-packages (from neuron) (1.22.4)\n",
            "Installing collected packages: neuron\n",
            "Successfully installed neuron-8.2.2\n",
            "Looking in indexes: https://pypi.org/simple, https://us-python.pkg.dev/colab-wheels/public/simple/\n",
            "Collecting neuron_reduce\n",
            "  Downloading neuron_reduce-0.0.7-py3-none-any.whl (18 kB)\n",
            "Installing collected packages: neuron_reduce\n",
            "Successfully installed neuron_reduce-0.0.7\n",
            "Cloning into 'Neural-Modeling'...\n",
            "remote: Enumerating objects: 901, done.\u001b[K\n",
            "remote: Counting objects: 100% (458/458), done.\u001b[K\n",
            "remote: Compressing objects: 100% (193/193), done.\u001b[K\n",
            "remote: Total 901 (delta 305), reused 395 (delta 264), pack-reused 443\u001b[K\n",
            "Receiving objects: 100% (901/901), 4.92 MiB | 16.20 MiB/s, done.\n",
            "Resolving deltas: 100% (576/576), done.\n"
          ]
        }
      ],
      "source": [
        "if is_colab:\n",
        "    !pip install neuron\n",
        "    !pip install neuron_reduce\n",
        "    !git clone https://github.com/davidfague/Neural-Modeling.git"
      ]
    },
    {
      "cell_type": "code",
      "execution_count": 3,
      "metadata": {
        "colab": {
          "base_uri": "https://localhost:8080/"
        },
        "id": "A7K-oURLxTiQ",
        "outputId": "8bb5abf8-9a1e-4180-82b8-04412b52852b"
      },
      "outputs": [
        {
          "output_type": "stream",
          "name": "stdout",
          "text": [
            "/content/Neural-Modeling\n"
          ]
        }
      ],
      "source": [
        "if is_colab:\n",
        "    %cd Neural-Modeling/\n",
        "\n",
        "from Modules.synapse_generator import SynapseGenerator\n",
        "from Modules.reduction import Reductor\n",
        "from Modules.cell_model import CellModel\n",
        "from Modules.spike_generator import SpikeGenerator\n",
        "from Modules.complex_cell import build_L5_cell\n",
        "from Modules.functional_group import FunctionalGroup, Cluster, generate_excitatory_functional_groups, generate_inhibitory_functional_groups\n",
        "from Modules.cell_utils import get_segments_and_len_per_segment, calc_seg_coords\n",
        "\n",
        "import numpy as np\n",
        "from functools import partial\n",
        "import scipy.stats as st\n",
        "\n",
        "from neuron import h\n",
        "\n",
        "import ipywidgets as widgets\n",
        "from ipywidgets import interactive_output, HBox, VBox, Layout\n",
        "from Modules.plotting_utils import plot_morphology\n",
        "import matplotlib.pyplot as plt\n",
        "from Modules.plotting_utils import plot_simulation_results"
      ]
    },
    {
      "cell_type": "code",
      "source": [
        "np.random.seed(123)"
      ],
      "metadata": {
        "id": "acF99nma0LvH"
      },
      "execution_count": 4,
      "outputs": []
    },
    {
      "cell_type": "code",
      "execution_count": 5,
      "metadata": {
        "id": "owr4OLYxhNA5"
      },
      "outputs": [],
      "source": [
        "# Global vars\n",
        "reduce_cell = False\n",
        "expand_cable = False\n",
        "choose_branches = 22\n",
        "\n",
        "complex_cell_folder = 'complex_cells/L5PC/'\n",
        "\n",
        "# Simulation params\n",
        "h_celcius = 37 # Sim runtime\n",
        "h_tstop = 2000\n",
        "h_dt = 0.1 # Timestep (ms)\n",
        "\n",
        "# Time vector for generating inputs\n",
        "t = np.arange(0, h_tstop, 1)"
      ]
    },
    {
      "cell_type": "markdown",
      "metadata": {
        "id": "9SyUE-Vc7Fy_"
      },
      "source": [
        "## Build Complex Cell"
      ]
    },
    {
      "cell_type": "markdown",
      "metadata": {
        "id": "rgqP23TO90vl"
      },
      "source": [
        "### Compile modfiles"
      ]
    },
    {
      "cell_type": "code",
      "execution_count": 6,
      "metadata": {
        "id": "s30Jrqug93Kr"
      },
      "outputs": [],
      "source": [
        "%%capture\n",
        "\n",
        "# If this cell doesn't work, delete the compiled modfiles and restart the kernel\n",
        "!nrnivmodl modfiles\n",
        "h.load_file('stdrun.hoc')\n",
        "h.nrn_load_dll('./x86_64/.libs/libnrnmech.so') # load modfiles"
      ]
    },
    {
      "cell_type": "markdown",
      "metadata": {
        "id": "5xR1869j93lm"
      },
      "source": [
        "### Build cell"
      ]
    },
    {
      "cell_type": "code",
      "execution_count": 7,
      "metadata": {
        "id": "DY2Dyw3D7GEp"
      },
      "outputs": [],
      "source": [
        "complex_cell = build_L5_cell(complex_cell_folder)\n",
        "\n",
        "h.celsius = h_celcius\n",
        "h.v_init = complex_cell.soma[0].e_pas\n",
        "\n",
        "# Sim runtime\n",
        "h.tstop = h_tstop\n",
        "\n",
        "# Timestep (ms)\n",
        "h.dt = h_dt\n",
        "h.steps_per_ms = 1 / h.dt"
      ]
    },
    {
      "cell_type": "code",
      "execution_count": 8,
      "metadata": {
        "colab": {
          "base_uri": "https://localhost:8080/"
        },
        "id": "e2jZTzkWBIsF",
        "outputId": "93ae8c67-7ee9-41f5-e357-5caa19bdfdc7"
      },
      "outputs": [
        {
          "output_type": "stream",
          "name": "stdout",
          "text": [
            "Model nseg changed from 642 to 196\n"
          ]
        },
        {
          "output_type": "execute_result",
          "data": {
            "text/plain": [
              "<Modules.reduction.Reductor at 0x7f7d5ac8ada0>"
            ]
          },
          "metadata": {},
          "execution_count": 8
        }
      ],
      "source": [
        "Reductor(cell = complex_cell, method = 'lambda') # reduce cell nseg to 10 segments per length constant"
      ]
    },
    {
      "cell_type": "markdown",
      "metadata": {
        "id": "-0EmWO0yBBDh"
      },
      "source": [
        "### Create Functional Groups and Synaptic Clusters"
      ]
    },
    {
      "cell_type": "code",
      "execution_count": 9,
      "metadata": {
        "id": "mg_lfxpShNBG"
      },
      "outputs": [],
      "source": [
        "all_segments, all_len_per_segment, all_SA_per_segment, all_segments_center, soma_segments, soma_len_per_segment, soma_SA_per_segment, soma_segments_center, no_soma_segments, no_soma_len_per_segment, no_soma_SA_per_segment, no_soma_segments_center = get_segments_and_len_per_segment(complex_cell)"
      ]
    },
    {
      "cell_type": "markdown",
      "metadata": {
        "id": "M8zHftvchNBG"
      },
      "source": [
        "#### Excitatory"
      ]
    },
    {
      "cell_type": "code",
      "execution_count": 10,
      "metadata": {
        "id": "LnYE6blI8nOl"
      },
      "outputs": [],
      "source": [
        "# Excitatory gmax distribution\n",
        "exc_gmax_mean_0 = 0.2\n",
        "exc_gmax_std_0 = 0.345\n",
        "\n",
        "gmax_mean = np.log(exc_gmax_mean_0) - 0.5 * np.log((exc_gmax_std_0 / exc_gmax_mean_0) ** 2 + 1)\n",
        "gmax_std = np.sqrt(np.log((exc_gmax_std_0 / exc_gmax_mean_0) ** 2 + 1))\n",
        "\n",
        "# gmax distribution\n",
        "def log_norm_dist(gmax_mean, gmax_std, size):\n",
        "\ts = float(np.clip(np.random.lognormal(gmax_mean, gmax_std, size), 0, 5))\n",
        "\treturn s\n",
        "\n",
        "gmax_exc_dist = partial(log_norm_dist, gmax_mean, gmax_std, size = 1)\n",
        "\n",
        "# Excitatory firing rate distribution\n",
        "def exp_levy_dist(alpha = 1.37, beta = -1.00, loc = 0.92, scale = 0.44, size = 1):\n",
        "\treturn np.exp(st.levy_stable.rvs(alpha = alpha, beta = beta, loc = loc, scale = scale, size = size)) + 1e-15"
      ]
    },
    {
      "cell_type": "code",
      "execution_count": 11,
      "metadata": {
        "id": "3MMaeMeahNBH"
      },
      "outputs": [],
      "source": [
        "spike_generator = SpikeGenerator()\n",
        "synapse_generator = SynapseGenerator()"
      ]
    },
    {
      "cell_type": "code",
      "execution_count": 12,
      "metadata": {
        "id": "YyTuAQoOhNBH"
      },
      "outputs": [],
      "source": [
        "synaptic_density = 2.12\n",
        "functional_group_span = 100\n",
        "cluster_span = 10\n",
        "synapses_per_cluster = 5\n",
        "\n",
        "number_of_groups = int(sum(all_len_per_segment) / functional_group_span)\n",
        "\n",
        "# Number of presynaptic cells\n",
        "cells_per_group = int(functional_group_span*synaptic_density / synapses_per_cluster)\n",
        "\n",
        "# Distribution of mean firing rates\n",
        "mean_fr_dist = partial(exp_levy_dist, alpha = 1.37, beta = -1.00, loc = 0.92, scale = 0.44, size = 1)\n",
        "\n",
        "# Distribution of release probability\n",
        "\n",
        "\n",
        "adjusted_no_soma_len_per_segment=[]# new list to change probabilty of exc functional group nearing soma\n",
        "for i,seg in enumerate(no_soma_segments):\n",
        "  if h.distance(seg, complex_cell.soma[0](0.5))<100:\n",
        "    adjusted_no_soma_len_per_segment.append(no_soma_len_per_segment[i]/10)\n",
        "  else:\n",
        "    adjusted_no_soma_len_per_segment.append(no_soma_len_per_segment[i])"
      ]
    },
    {
      "cell_type": "code",
      "execution_count": 13,
      "metadata": {
        "id": "NIClLEpHhNBH"
      },
      "outputs": [],
      "source": [
        "exc_functional_groups = generate_excitatory_functional_groups(\n",
        "                                                              all_segments = no_soma_segments,\n",
        "                                                              #  all_len_per_segment = all_len_per_segment,\n",
        "                                                              all_len_per_segment = adjusted_no_soma_len_per_segment,\n",
        "                                                              # all_len_per_segment = all_SA_per_segment,\n",
        "                                                              all_segments_centers=no_soma_segments_center,\n",
        "                                                              number_of_groups = number_of_groups,\n",
        "                                                              cells_per_group = cells_per_group,\n",
        "                                                              synapses_per_cluster = synapses_per_cluster,\n",
        "                                                              functional_group_span = functional_group_span,\n",
        "                                                              cluster_span = cluster_span,\n",
        "                                                              gmax_dist = gmax_exc_dist,\n",
        "                                                              mean_fr_dist = mean_fr_dist,\n",
        "                                                              spike_generator = spike_generator,\n",
        "                                                              synapse_generator = synapse_generator,\n",
        "                                                              t = t, record = True,\n",
        "                                                              # syn_params = {\"P_0\": 0.6}, syn_mod='pyr2pyr'\n",
        "                                                              syn_mod='AMPA_NMDA'\n",
        "                                                              )"
      ]
    },
    {
      "cell_type": "code",
      "source": [
        "exc_spikes = spike_generator.spike_trains"
      ],
      "metadata": {
        "id": "ZROipDwsnVK8"
      },
      "execution_count": 14,
      "outputs": []
    },
    {
      "cell_type": "markdown",
      "metadata": {
        "id": "2WtbYMI7hNBI"
      },
      "source": [
        "#### Inhibitory"
      ]
    },
    {
      "cell_type": "code",
      "execution_count": 15,
      "metadata": {
        "id": "06AG9jiPv5BR"
      },
      "outputs": [],
      "source": [
        "synaptic_density = 0.22\n",
        "cluster_span = 10\n",
        "\n",
        "synapses = synaptic_density * sum(all_len_per_segment)\n",
        "number_of_clusters = int(sum(all_len_per_segment) / cluster_span)\n",
        "synapses_per_cluster = int(cluster_span * synaptic_density) # 12 # synapses/number_of_clusters\n",
        "# synapses_per_node=5\n",
        "# number_of_clusters=int(synapses / (cluster_span * synaptic_density)) # number of presynaptic cells\n",
        "\n",
        "# Proximal inh mean_fr distribution\n",
        "mean_fr, std_fr = 16.9, 14.3\n",
        "a, b = (0 - mean_fr) / std_fr, (100 - mean_fr) / std_fr\n",
        "proximal_inh_dist = partial(st.truncnorm.rvs, a = a, b = b, loc = mean_fr, scale = std_fr)\n",
        "\n",
        "# Distal inh mean_fr distribution\n",
        "mean_fr, std_fr = 3.9, 4.3\n",
        "a, b = (0 - mean_fr) / std_fr, (100 - mean_fr) / std_fr\n",
        "distal_inh_dist = partial(st.truncnorm.rvs, a=a, b=b, loc=mean_fr, scale=std_fr)\n",
        "\n",
        "gmax_dist = 1.65 # need inh gmax distribution\n",
        "number_of_groups = 1\n",
        "\n",
        "inhibitory_functional_groups = generate_inhibitory_functional_groups(cell=complex_cell,\n",
        "                                                                     all_segments = all_segments,\n",
        "                                                                      all_len_per_segment = all_len_per_segment,\n",
        "                                                                    #  all_len_per_segment = all_SA_per_segment,\n",
        "                                                                     all_segments_centers=all_segments_center,\n",
        "                                                                     number_of_groups = 1,\n",
        "                                                                     cells_per_group = number_of_clusters,\n",
        "                                                                     synapses_per_cluster = synapses_per_cluster,\n",
        "                                                                     functional_group_span = functional_group_span,\n",
        "                                                                     cluster_span = cluster_span,\n",
        "                                                                     gmax_dist = gmax_dist,\n",
        "                                                                     proximal_inh_dist = proximal_inh_dist,\n",
        "                                                                     distal_inh_dist = distal_inh_dist,\n",
        "                                                                     spike_generator = spike_generator,\n",
        "                                                                     synapse_generator = synapse_generator,\n",
        "                                                                     t = t, f_group_name_prefix = \"diffuse_inh_\",\n",
        "                                                                     spike_trains_to_delay = exc_spikes, fr_time_shift = 4,\n",
        "                                                                     record = True,\n",
        "                                                                    #  syn_params={\"P_0\": 0.25},syn_mod = 'int2pyr'\n",
        "                                                                     syn_mod = 'GABA_AB')"
      ]
    },
    {
      "cell_type": "code",
      "execution_count": 16,
      "metadata": {
        "id": "yygFGml3Xhc1"
      },
      "outputs": [],
      "source": [
        "# # 150 soma inh synapses\n",
        "\n",
        "number_of_clusters = 30 # number of presynaptic cells\n",
        "cluster_span = 10\n",
        "synapses_per_cluster = 10\n",
        "\n",
        "soma_inhibitory_functional_groups = generate_inhibitory_functional_groups(cell=complex_cell,\n",
        "\t\t\t\t\t\t\t\t\t\t\t\t\t\t\t\t\t\t\tall_segments = soma_segments,\n",
        "\t\t\t\t\t\t\t\t\t\t\t\t\t\t\t\t\t\t\t#  all_len_per_segment = all_len_per_segment,\n",
        "\t\t\t\t\t\t\t\t\t\t\t\t\t\t\t\t\t\t\tall_len_per_segment = soma_SA_per_segment,\n",
        "\t\t\t\t\t\t\t\t\t\t\t\t\t\t\t\t\t\t\tall_segments_centers=soma_segments_center,\n",
        "\t\t\t\t\t\t\t\t\t\t\t\t\t\t\t\t\t\t  number_of_groups = 1,\n",
        "\t\t\t\t\t\t\t\t\t\t\t\t\t\t\t\t\t\t  cells_per_group = number_of_clusters,\n",
        "\t\t\t\t\t\t\t\t\t\t\t\t\t\t\t\t\t\t  synapses_per_cluster = synapses_per_cluster,\n",
        "\t\t\t\t\t\t\t\t\t\t\t\t\t\t\t\t\t\t  functional_group_span = functional_group_span,\n",
        "\t\t\t\t\t\t\t\t\t\t\t\t\t\t\t\t\t\t  cluster_span = cluster_span,\n",
        "\t\t\t\t\t\t\t\t\t\t\t\t\t\t\t\t\t\t  gmax_dist = gmax_dist,\n",
        "\t\t\t\t\t\t\t\t\t\t\t\t\t\t\t\t\t\t  proximal_inh_dist = proximal_inh_dist,\n",
        "\t\t\t\t\t\t\t\t\t\t\t\t\t\t\t\t\t\t  distal_inh_dist = distal_inh_dist,\n",
        "\t\t\t\t\t\t\t\t\t\t\t\t\t\t\t\t\t\t  spike_generator = spike_generator,\n",
        "\t\t\t\t\t\t\t\t\t\t\t\t\t\t\t\t\t\t  synapse_generator = synapse_generator,\n",
        "\t\t\t\t\t\t\t\t\t\t\t\t\t\t\t\t\t\t  t = t, f_group_name_prefix = \"soma_inh_\",\n",
        "\t\t\t\t\t\t\t\t\t\t\t\t\t\t\t\t\t\t  spike_trains_to_delay = exc_spikes, fr_time_shift = 4,\n",
        "\t\t\t\t\t\t\t\t\t\t\t\t\t\t\t\t\t\t  record = True,\n",
        "\t\t\t\t\t\t\t\t\t\t\t\t\t\t\t\t\t\t\t#  syn_params={\"P_0\": 0.25},syn_mod = 'int2pyr'\n",
        "                                      syn_mod = 'GABA_AB')\n"
      ]
    },
    {
      "cell_type": "code",
      "execution_count": 17,
      "metadata": {
        "id": "iOOKIqGTVGG8"
      },
      "outputs": [],
      "source": [
        "all_syns=[]\n",
        "for synapse_list in synapse_generator.synapses: # synapse_generator.synapses is a list of synapse lists\n",
        "    for synapse in synapse_list:\n",
        "        all_syns.append(synapse)"
      ]
    },
    {
      "cell_type": "code",
      "execution_count": 18,
      "metadata": {
        "colab": {
          "base_uri": "https://localhost:8080/"
        },
        "id": "x0KJoAsKUhyu",
        "outputId": "929dd7d3-20fe-485f-89d8-4612e0484822"
      },
      "outputs": [
        {
          "output_type": "stream",
          "name": "stdout",
          "text": [
            "Generating 3D coordinates for L5PCtemplate[0].axon[0]\n",
            "Generating 3D coordinates for L5PCtemplate[0].axon[1]\n"
          ]
        }
      ],
      "source": [
        "cell = CellModel(hoc_model = complex_cell, synapses = all_syns,\n",
        "                 netcons = spike_generator.netcons, spike_trains = spike_generator.spike_trains,\n",
        "                 spike_threshold = 10)"
      ]
    },
    {
      "cell_type": "markdown",
      "metadata": {
        "id": "1pWNQy5_PBw_"
      },
      "source": [
        "### Reduce Cell"
      ]
    },
    {
      "cell_type": "code",
      "execution_count": 19,
      "metadata": {
        "id": "hJHtZEcupk5x"
      },
      "outputs": [],
      "source": [
        "# Reduce cell and store new things: can update CellModel module to do this stuff\n",
        "\n",
        "def find_distal_sections(cell, region=str):\n",
        "  '''\n",
        "  Finds all terminal sections then gathers terminal apical sections that are greater than 800 microns from the soma in path length\n",
        "  '''\n",
        "  # find distal tuft sections:\n",
        "  parent_sections=[]\n",
        "  for sec in cell.all: # find non-terminal sections\n",
        "    if sec.parentseg() is not None:\n",
        "      if sec.parentseg().sec not in parent_sections:\n",
        "        parent_sections.append(sec.parentseg().sec)\n",
        "  terminal_sections=[]\n",
        "  for sec in getattr(cell,region):  # check if the section is a terminal section and if it is apical tuft\n",
        "    # print(h.distance(sec(0.5)))\n",
        "    if region=='apic':\n",
        "      if (sec not in parent_sections) and (h.distance(cell.soma[0](0.5),sec(0.5)) > 800):\n",
        "        terminal_sections.append(sec)\n",
        "    else:\n",
        "      if (sec not in parent_sections):\n",
        "        terminal_sections.append(sec)\n",
        "\n",
        "      # print(sec, 'is a terminal section of the tuft'\n",
        "\n",
        "  return terminal_sections\n",
        "\n",
        "#reduce cell\n",
        "if reduce_cell==True:\n",
        "  #reduce complex dendritic trees to cables\n",
        "  reduced_cell, synapses_list, netcons_list, txt_nr = subtree_reductor(complex_cell, synapses_list, netcons_list, reduction_frequency=0,return_seg_to_seg=True)\n",
        "  print(\"synapses_list after NR reduction:\", synapses_list)\n",
        "  if expand_cable==True:\n",
        "    #expand cable to idealized dendritic trees\n",
        "    sections_to_expand = [reduced_cell.hoc_model.apic[0]]\n",
        "    furcations_x=[0.289004]\n",
        "    nbranches=[choose_branches]\n",
        "    reduced_dendritic_cell, synapses_list, netcons_list, txt_ce = cable_expander(reduced_cell, sections_to_expand, furcations_x, nbranches,\n",
        "                                                                              synapses_list, netcons_list, reduction_frequency=0,return_seg_to_seg=True)\n",
        "    #remove basal dend 3d coordinates because they seem off\n",
        "    for sec in reduced_dendritic_cell.dend:\n",
        "      sec.pt3dclear()\n",
        "\n",
        "    cell = CellModel(reduced_dendritic_cell,synapses_list=synapses_list,netcons_list=netcons_list,spike_threshold = 10) #NR model with apical cable converted to tree\n",
        "    tufts=find_distal_sections(cell, 'apic')\n",
        "    basals=find_distal_sections(cell, 'dend')\n",
        "    cell._nbranch=len(tufts)\n",
        "\n",
        "    print(cell._nbranch, \"terminal tuft branches in reduced_dendritic_cell\")\n",
        "  else:\n",
        "    #workaround since cell.all was not attribute (can update cell_model class to include this list formation)\n",
        "    reduced_cell.all =[]\n",
        "    for sec in [reduced_cell.soma]:\n",
        "      reduced_cell.all.append(sec)\n",
        "    for sec in [reduced_cell.apic]:\n",
        "      reduced_cell.all.append(sec)\n",
        "    for sec in reduced_cell.dend:\n",
        "      reduced_cell.all.append(sec)\n",
        "    for sec in reduced_cell.axon:\n",
        "      reduced_cell.all.append(sec)\n",
        "    #make apic sec a list (can update cell_model class to include this) (cell_model class expects cell.apic to be iterable)\n",
        "    reduced_cell.apic=[reduced_cell.apic]\n",
        "    #use cell_model python class\n",
        "    cell=CellModel(reduced_cell,synapses_list=synapses_list,netcons_list=netcons_list,spike_threshold = 10) # neuron_reduce model\n",
        "    tufts=cell.apic # Vm plot may return middle segment of trunk since it is the distal apical section.\n",
        "    basals=find_distal_sections(cell, 'dend')\n",
        "    cell._nbranch=len(tufts)\n",
        "    print(cell._nbranch, \"terminal tuft branches in reduced_cell\")\n",
        "else:\n",
        "  basals=find_distal_sections(cell, 'dend')\n",
        "  tufts=find_distal_sections(cell, 'apic')\n",
        "  # cell = cell_model(complex_cell,synapses_list=synapses_list,netcons_list=netcons_list,spike_threshold = 10) # original cell\n",
        "  # original cell should already be defined\n",
        "  pass"
      ]
    },
    {
      "cell_type": "markdown",
      "metadata": {
        "id": "rPxOd7iC-kyL"
      },
      "source": [
        "### Prepare Simulation"
      ]
    },
    {
      "cell_type": "code",
      "execution_count": 20,
      "metadata": {
        "colab": {
          "base_uri": "https://localhost:8080/"
        },
        "id": "D6vyubrwOvA_",
        "outputId": "6c318c56-8a95-4b63-eccd-8b6135dd87ca"
      },
      "outputs": [
        {
          "output_type": "stream",
          "name": "stdout",
          "text": [
            "\u001b[0m\u001b[01;34mcell_inference\u001b[0m/  Stylized_Single_Cell_Extracellular_Potential_Tutorial.ipynb\n"
          ]
        }
      ],
      "source": [
        "import os\n",
        "\n",
        "if is_colab:\n",
        "    os.chdir('/content')\n",
        "    if not os.path.isdir('Stylized-Single-Cell-and-Extracellular-Potential'):\n",
        "        !git clone https://github.com/chenziao/Stylized-Single-Cell-and-Extracellular-Potential.git &> /dev/null\n",
        "    os.chdir('Stylized-Single-Cell-and-Extracellular-Potential')\n",
        "    %ls"
      ]
    },
    {
      "cell_type": "code",
      "execution_count": 21,
      "metadata": {
        "id": "X7p40K3RO1RQ"
      },
      "outputs": [],
      "source": [
        "from cell_inference.config import params, paths\n",
        "from cell_inference.cells.activecell_axon import ReducedOrderL5Cell, ReducedOrderL5CellPassiveDendrite\n",
        "from cell_inference.utils.currents.ecp import EcpMod\n",
        "from cell_inference.utils.currents.recorder import Recorder\n",
        "#from cell_inference.utils.plotting.plot_morphology import plot_morphology\n",
        "from cell_inference.utils.plotting.plot_results import plot_lfp_heatmap, plot_lfp_traces\n",
        "from cell_inference.utils.plotting.plot_variable_with_morphology import plot_variable_with_morphology\n",
        "from cell_inference.utils.metrics.measure_segment_distance import measure_segment_distance"
      ]
    },
    {
      "cell_type": "code",
      "execution_count": 22,
      "metadata": {
        "id": "m_npKvVUO4JD"
      },
      "outputs": [],
      "source": [
        "# Record time points\n",
        "t_vec = h.Vector(round(h.tstop / h.dt) + 1).record(h._ref_t)\n",
        "\n",
        "# Record membrane voltage of all segments\n",
        "V_rec = Recorder(cell.segments)"
      ]
    },
    {
      "cell_type": "markdown",
      "metadata": {
        "id": "22d6f6e6"
      },
      "source": [
        "#### Add electrodes (Neuropixel)\n",
        "A probe with 384 electrodes [https://www.neuropixels.org/probe](https://www.neuropixels.org/probe). The coordinates of each electrode is a row in the array printed below."
      ]
    },
    {
      "cell_type": "code",
      "execution_count": 23,
      "metadata": {
        "id": "8fdb0017"
      },
      "outputs": [],
      "source": [
        "elec_pos = params.ELECTRODE_POSITION\n",
        "ecp = EcpMod(cell, elec_pos, min_distance=params.MIN_DISTANCE)  # create an ECP object for extracellular potential\n",
        "\n",
        "# coordinates (x, y, z) of electrodes\n",
        "# print(params.ELECTRODE_POSITION.shape)\n",
        "# print(params.ELECTRODE_POSITION)"
      ]
    },
    {
      "cell_type": "markdown",
      "metadata": {
        "id": "c5323608"
      },
      "source": [
        "#### Custom settings\n",
        "\n",
        "Using the interactive tools below, you can change the position of the cell, and change the synapse strength and location on the cell.\n",
        "\n",
        "**Cell position parameters (`x`, `y`, `z`, `alpha`, `h`, `phi`)**\n",
        "\n",
        "Starting with soma at the origin, apical dendrite along y-axis, rotate and translate the cell to the desired position determined by 6 parameters. First, rotate alpha about the y-axis (spin), then rotate beta=arccos(h) about the x-axis (elevation), then rotate phi about the y-axis (azimuth). Finally translate the cell by (x,y,z).\n",
        "\n",
        "Use the sliders to change the 6 position parameters. Use the sliders 'elev' and 'azim' to change view of the 3D plot.\n",
        "\n",
        "Set azim to -90 in order to focus on zy plane view. 2D plot is of xy plane."
      ]
    },
    {
      "cell_type": "code",
      "execution_count": 24,
      "metadata": {
        "colab": {
          "base_uri": "https://localhost:8080/",
          "height": 813,
          "referenced_widgets": [
            "120e3c8917fc4611bebc81e998a6adec",
            "e07ab4090cd54a539319ff0a80583640",
            "57c8627d86384c479a6daf9a7aeaf753",
            "99ae757d22da48a0b5e04b2c386d9dba",
            "f310f0f2654446d78ac3d47673770839",
            "920331f9a04c459ba183daf36e0346ab",
            "5911b4016a3b4e44b0e7b0a56f4eaee0",
            "e08cd5b7437147e8b1bde09b841097d5",
            "a4e53ee5c683410982dbc0f1c4aa5212",
            "dd0949c8e5644f35867a8d1deeb72ec6",
            "125c80bda2c84f4f9b1e20395b708519",
            "d8ea5ecd6da34449860e36a2becb75a7",
            "c82a291659714c0f947bf0c6f1ea134a",
            "fd7a9c0719f140f09abb31fcc4d6eb1b",
            "2aa14a2af7784932b3b5ded624d67ba8",
            "85dbdcccf600421bac9b02ace72d651c",
            "089b35ffb6f3497aa4d73e05a21c1169",
            "e4c334690ed24293823ffe1c30a97e9e",
            "f1c1a8508cc34eb4917ca1e4b269c6ad",
            "84555cb328874c3f91f93bf5d735685f",
            "c02480c131794a8b8af2b149c63026fe",
            "6cd170e20cfd4d65b8f8e2ce3133fffb",
            "9fa5f482923749b29e6464fcc74945ec",
            "1e7e6ba216f14051ae09a1833115a05d",
            "865564be23ea4b0db13722ce014ab0b8",
            "0f4dc1e524b1486b97eb72f8c98e28ad",
            "7e4af344876a4413aa91df5feea78109",
            "52248d5ad997435b86e03836954ae9a2",
            "16f88b62e56e4c6d91c50b4281a73ef8",
            "446df601acb344b0b787d3a89a72f86f",
            "5defc3c485d54fc5a4e34ff2bca8916f",
            "67e186e2d4344d97b30537a9387e8023",
            "bb664d52fd3744c0b73d8aa39fd3cb71",
            "e58515aa85ac463080cc55c3e5d95d2e",
            "66902e82061b4ed7bd0c50002e98c8d1",
            "40296f589595480a98351f5fea943b13",
            "9d7d900472164a6487d7175ff9b585ca",
            "92537ca765de44cc818a9156eecaaa30",
            "f63fe32fe4b54d64b9f20574fb06f348",
            "4a33271b41de416d8848d4beea092327",
            "94e15e3ef1f24411ade5ebb7aac411e4"
          ]
        },
        "id": "a3df63ce",
        "outputId": "71808ad9-cd87-4a27-a708-585488728376"
      },
      "outputs": [
        {
          "output_type": "display_data",
          "data": {
            "text/plain": [
              "VBox(children=(Button(button_style='primary', description='Reset', icon='history', style=ButtonStyle()), HBox(…"
            ],
            "application/vnd.jupyter.widget-view+json": {
              "version_major": 2,
              "version_minor": 0,
              "model_id": "120e3c8917fc4611bebc81e998a6adec"
            }
          },
          "metadata": {}
        }
      ],
      "source": [
        "# Default position parameters\n",
        "loc_param_default = [0., 0., 80., 0., 1., 0.]\n",
        "\n",
        "# Default view\n",
        "elev, azim = 10, 90\n",
        "\n",
        "clr = []\n",
        "clr.extend(['black' for i in range(len([cell.soma]))]) # Soma color\n",
        "clr.extend(['red' for i in range(len(cell.dend))]) # Dend colors\n",
        "clr.extend(['purple' for i  in range(len(cell.axon))]) # Axon colors\n",
        "clr.extend(['blue']) # Trunk color\n",
        "clr.extend(['green' for i in range(len(cell.apic)-1)]) # Branch colors\n",
        "\n",
        "def interactive_plot(x, y, z, alpha, beta, phi, elev, azim):\n",
        "    global loc_param\n",
        "    loc_param = (x, y, z, np.pi / 180 * alpha, np.cos(np.pi / 180 * beta), np.pi / 180 * phi)\n",
        "    _ = plot_morphology(cell = cell, electrodes = elec_pos, move_cell = loc_param, elev = -elev, azim = -azim, figsize = (12, 8), clr = clr)\n",
        "    plt.show()\n",
        "\n",
        "xslider = Layout(width = '500px')\n",
        "yslider = Layout(height = '350px')\n",
        "w_reset = widgets.Button(description = 'Reset', icon = 'history', button_style = 'primary')\n",
        "w_x = widgets.FloatSlider(value=loc_param_default[0], min = -200, max = 200, step = 1, description='x (um)', continuous_update = False, readout_format = '.0f')\n",
        "w_y = widgets.FloatSlider(value=loc_param_default[1], min=-1000, max=1000, step=1, description='y (um)', continuous_update=False, readout_format='.0f')\n",
        "w_z = widgets.FloatSlider(value=loc_param_default[2], min=20, max=400, step=1, description='z (um)', continuous_update=False, readout_format='.0f')\n",
        "w_alpha = widgets.FloatSlider(value=180/np.pi*loc_param_default[3], min=-180, max=180, step=1, description='alpha (deg)', continuous_update=False, readout_format='.0f')\n",
        "w_beta = widgets.FloatSlider(value=180/np.pi*np.arccos(loc_param_default[4]), min=0, max=180, step=1, description='beta (deg)', continuous_update=False, readout_format='.0f')\n",
        "w_phi = widgets.FloatSlider(value=180/np.pi*loc_param_default[5], min=-180, max=180, step=1, description='phi (deg)', continuous_update=False, readout_format='.0f')\n",
        "w_elev = widgets.FloatSlider(value=-elev, min=-90, max=90, step=1, description='elev (deg)', continuous_update=False, readout_format='.0f', orientation='vertical', layout=yslider)\n",
        "w_azim = widgets.FloatSlider(value=-azim, min=-180, max=180, step=1, description='azim (deg)', continuous_update=False, readout_format='.0f', layout=xslider)\n",
        "\n",
        "def reset_default(*args):\n",
        "    w_x.value, w_y.value, w_z.value = loc_param_default[:3]\n",
        "    w_alpha.value = 180 / np.pi * loc_param_default[3]\n",
        "    w_beta.value = 180 / np.pi * np.arccos(loc_param_default[4])\n",
        "    w_phi.value = 180 / np.pi * loc_param_default[5]\n",
        "    w_elev.value, w_azim.value = -elev, -azim\n",
        "w_reset.on_click(reset_default)\n",
        "\n",
        "out = interactive_output(interactive_plot, {'x': w_x, 'y': w_y, 'z': w_z, 'alpha': w_alpha, 'beta': w_beta, 'phi': w_phi, 'elev': w_elev, 'azim': w_azim})\n",
        "ui = VBox([w_reset, HBox([ VBox([w_x, w_y, w_z]), VBox([w_alpha, w_beta, w_phi]) ]), HBox([ VBox([out, w_azim]), w_elev])])\n",
        "\n",
        "display(ui)"
      ]
    },
    {
      "cell_type": "code",
      "execution_count": 25,
      "metadata": {
        "colab": {
          "base_uri": "https://localhost:8080/",
          "height": 813,
          "referenced_widgets": [
            "d28c4853232048788198adac79888d4d",
            "2b17327040d649c4ae7634c72860ee67",
            "e69a459967c14a6ab37f21411c27a3ac",
            "878f1f33a4c44a3a9bcfd37386f59b5c",
            "6a9e3e54fb9c4677a02ab4a138448957",
            "8e8184fed80449429f40dfb3acc9311b",
            "d3669c46a9fc4b3d9630cf61e860de87",
            "49240f63ec3f46298ee0c59c6a310a1b",
            "5fa273bdd02146e09464d30f48d57593",
            "73885fe9bdd94dc0b07b189159a69457",
            "5ab512bf50c94f5ca547b37866d5c0ff",
            "9b47b2a1ef0649ecaab013cf6251899a",
            "2efcddea794b4b9ebef751d15c8979f4",
            "5c7f6dd8557a4606a65648f99e60a233",
            "191be343c7694559901c779d3070878a",
            "cc335c3ef32d49c4a752d1b13c4da719",
            "d072b357b0e44244954c2ce14badcaca",
            "c5b6a87b3a0446d4b681e22059b30b31",
            "1a96713c4fad43b39d60ebe9f2e3e953",
            "d6610485c72543689ac080f8acdd0656",
            "ee0e332db8b347c8bffedd535853c7af",
            "31e79c3ac4bd44e8b80d7438812057b0",
            "897848ee960c4089a621a4cb84596d56",
            "e474825ac29246ba8154ec7854cdfcfb",
            "25148bcfe573473fb74d415906fc4a99",
            "097a45a866bf42198f63ecac44ae9bf7",
            "b7841d3f7246493d9e626b3661ee3250",
            "67325b5a96df44819cfc6df18b4ab9d2",
            "e5ae36a5b9394d40a3f4a3d70a1249c9",
            "4dfae6096c63402c95d9f3c46b02a0db",
            "932fa7d194ed461ea726e0c403c96975",
            "dbafeccfc40845618d15b86c41603491",
            "476369f1ee1f47439bc0031fd828cb41",
            "29ea211d89ab4b689f567c15a0d1f1b4",
            "6147f1cf078d4bd4add6e3f4dd6e1229",
            "9e0861fe188844fbb4d48ec5b92dd62c",
            "d618f133251f4c138950b9826d9e5593",
            "9294ee8d754b41148881d6aaf05e8202",
            "b337bd7140dd4f32b9176cd2e67980c8",
            "8cbdcb9334414f8e8a3a8e0b095d1ab2",
            "25cbe1a0b7ca4eb789211d2feab1b006"
          ]
        },
        "id": "RxRWZYn-WeHU",
        "outputId": "475bbd74-0ea0-4afc-a504-78dd67509626"
      },
      "outputs": [
        {
          "output_type": "display_data",
          "data": {
            "text/plain": [
              "VBox(children=(Button(button_style='primary', description='Reset', icon='history', style=ButtonStyle()), HBox(…"
            ],
            "application/vnd.jupyter.widget-view+json": {
              "version_major": 2,
              "version_minor": 0,
              "model_id": "d28c4853232048788198adac79888d4d"
            }
          },
          "metadata": {}
        }
      ],
      "source": [
        "def get_nested_property(seg, properties):\n",
        "    if properties:\n",
        "        property = properties[0]\n",
        "        remaining_properties = properties[1:]\n",
        "        if property in seg:\n",
        "            if isinstance(seg[property], dict):\n",
        "                if remaining_properties:\n",
        "                    return get_nested_property(seg[property], remaining_properties)\n",
        "                else:\n",
        "                    return seg[property]\n",
        "            elif len(remaining_properties) == 0:\n",
        "                return seg[property]\n",
        "            else:\n",
        "                raise ValueError(\"Property list contains too many items for the depth of the target\")\n",
        "        else:\n",
        "            raise ValueError(f\"Property '{property}' not found in segment. Please specify a proper path in seg_info.\")\n",
        "    else:\n",
        "        raise ValueError(\"Empty property list\")\n",
        "\n",
        "#identify the property being used #check cell.seg_info[0] for dictionary of properties (some are nested)\n",
        "property_list = ['netcon_density_per_seg','exc']\n",
        "# property_list = ['seg_elec_info','beta','passive_soma']\n",
        "seg_prop = [get_nested_property(seg, property_list) for seg in cell.seg_info]\n",
        "\n",
        "label = '_'.join(property_list)\n",
        "\n",
        "# seg_prop=[seg['Center Z Coord'] for seg in cell.seg_info]\n",
        "# seg_prop=[seg['seg_elec_info']['delta']['active_soma'] for seg in cell.seg_info]\n",
        "# seg_prop=[seg['netcons_per_seg']['exc'] for seg in cell.seg_info]\n",
        "seg_prop=np.array(seg_prop)\n",
        "#normalized_seg_prop = (seg_prop - min(seg_prop)) / (max(seg_prop) - min(seg_prop))\n",
        "# Define your percentile thresholds\n",
        "lower, upper = np.percentile(seg_prop, [1, 99]) # you can adjust these percentiles to your needs\n",
        "# Define normalization function based on these percentiles\n",
        "robust_norm = plt.Normalize(vmin=lower, vmax=upper)\n",
        "# Apply robust normalization to segment property\n",
        "normalized_seg_prop = robust_norm(seg_prop)\n",
        "cmap = plt.get_cmap('jet')\n",
        "segment_colors = cmap(normalized_seg_prop)\n",
        "# Create a ScalarMappable object to represent the colormap\n",
        "# sm = plt.cm.ScalarMappable(cmap=cmap, norm=plt.Normalize(vmin=min(seg_prop), vmax=max(seg_prop)))\n",
        "sm = plt.cm.ScalarMappable(cmap=cmap, norm=robust_norm)\n",
        "\n",
        "\n",
        "def interactive_plot(x, y, z, alpha, beta, phi, elev, azim):\n",
        "    global loc_param\n",
        "    loc_param = (x, y, z, np.pi/180*alpha, np.cos(np.pi/180*beta), np.pi/180*phi)\n",
        "    fig, ax = plot_morphology(cell=cell, electrodes=elec_pos, move_cell=loc_param, elev=-elev, azim=-azim, figsize=(12, 8),\n",
        "                              clr = clr, seg_property = label, segment_colors = segment_colors, sm = sm)\n",
        "    plt.show()\n",
        "\n",
        "xslider = Layout(width='500px')\n",
        "yslider = Layout(height='350px')\n",
        "w_reset = widgets.Button(description='Reset', icon='history', button_style='primary')\n",
        "w_x = widgets.FloatSlider(value=loc_param_default[0], min=-200, max=200, step=1, description='x (um)', continuous_update=False, readout_format='.0f')\n",
        "w_y = widgets.FloatSlider(value=loc_param_default[1], min=-1000, max=1000, step=1, description='y (um)', continuous_update=False, readout_format='.0f')\n",
        "w_z = widgets.FloatSlider(value=loc_param_default[2], min=20, max=400, step=1, description='z (um)', continuous_update=False, readout_format='.0f')\n",
        "w_alpha = widgets.FloatSlider(value=180/np.pi*loc_param_default[3], min=-180, max=180, step=1, description='alpha (deg)', continuous_update=False, readout_format='.0f')\n",
        "w_beta = widgets.FloatSlider(value=180/np.pi*np.arccos(loc_param_default[4]), min=0, max=180, step=1, description='beta (deg)', continuous_update=False, readout_format='.0f')\n",
        "w_phi = widgets.FloatSlider(value=180/np.pi*loc_param_default[5], min=-180, max=180, step=1, description='phi (deg)', continuous_update=False, readout_format='.0f')\n",
        "w_elev = widgets.FloatSlider(value=-elev, min=-90, max=90, step=1, description='elev (deg)', continuous_update=False, readout_format='.0f', orientation='vertical', layout=yslider)\n",
        "w_azim = widgets.FloatSlider(value=-azim, min=-180, max=180, step=1, description='azim (deg)', continuous_update=False, readout_format='.0f', layout=xslider)\n",
        "\n",
        "def reset_default(*args):\n",
        "    w_x.value, w_y.value, w_z.value = loc_param_default[:3]\n",
        "    w_alpha.value = 180 / np.pi * loc_param_default[3]\n",
        "    w_beta.value = 180 / np.pi * np.arccos(loc_param_default[4])\n",
        "    w_phi.value = 180 / np.pi * loc_param_default[5]\n",
        "    w_elev.value, w_azim.value = -elev, -azim\n",
        "w_reset.on_click(reset_default)\n",
        "\n",
        "out = interactive_output(interactive_plot, {'x': w_x, 'y': w_y, 'z': w_z, 'alpha': w_alpha, 'beta': w_beta, 'phi': w_phi, 'elev': w_elev, 'azim': w_azim})\n",
        "ui = VBox([ w_reset, HBox([ VBox([w_x, w_y, w_z]), VBox([w_alpha, w_beta, w_phi]) ]), HBox([ VBox([out, w_azim]), w_elev]) ])\n",
        "\n",
        "display(ui)"
      ]
    },
    {
      "cell_type": "markdown",
      "metadata": {
        "id": "2ca15375"
      },
      "source": [
        "#### Run simulation and plot results\n",
        "\n",
        "Run the codes below to simulate and display results everytime after you change the parameters above."
      ]
    },
    {
      "cell_type": "code",
      "execution_count": 26,
      "metadata": {
        "colab": {
          "base_uri": "https://localhost:8080/",
          "height": 1000
        },
        "id": "f81ec874",
        "outputId": "dd9c76eb-1bea-4d04-85fe-ad14cef34e8f"
      },
      "outputs": [
        {
          "output_type": "stream",
          "name": "stdout",
          "text": [
            "Plotting L5PCtemplate[0].soma[0](0.5) Voltage| y coordinate of this seg: 18.34367764312554\n",
            "Plotting L5PCtemplate[0].apic[39](0.5) Voltage| y coordinate of this seg: 931.3700758816855\n",
            "Plotting L5PCtemplate[0].apic[36](0.5) Voltage| y coordinate of this seg: 931.3700758816855\n"
          ]
        },
        {
          "output_type": "display_data",
          "data": {
            "text/plain": [
              "<Figure size 1000x400 with 1 Axes>"
            ],
            "image/png": "[encoded data removed]"
          },
          "metadata": {}
        },
        {
          "output_type": "display_data",
          "data": {
            "text/plain": [
              "<Figure size 1200x500 with 2 Axes>"
            ],
            "image/png": "[encoded data removed]"
          },
          "metadata": {}
        },
        {
          "output_type": "display_data",
          "data": {
            "text/plain": [
              "<Figure size 800x500 with 2 Axes>"
            ],
            "image/png": "[encoded data removed]"
          },
          "metadata": {}
        }
      ],
      "source": [
        "# Run simulation\n",
        "# if original_syns:\n",
        "#   set_synapse()\n",
        "# else: # View synapses\n",
        "#   for syn in cell.synapse:\n",
        "#     if syn.gmax_var == '_nc_weight':\n",
        "#       print(syn.syn, [nc.weight[0] for nc in syn.ncs])\n",
        "#     else:\n",
        "#       print('synapse',syn.syn,':',syn.get_segment(),'weight:',syn.syn.initW, 'ncs:',syn.ncs)\n",
        "\n",
        "h.run()\n",
        "# Get results\n",
        "t = t_vec.as_numpy().copy()  # time array (ms)\n",
        "# Soma membrane potential\n",
        "Vm = V_rec.as_numpy()\n",
        "\n",
        "soma_seg_index = cell.segments.index(cell.soma[0](0.5))\n",
        "axon_seg_index = cell.segments.index(cell.axon[-1](0.9))\n",
        "basal_seg_index = cell.segments.index(basals[0](0.5))\n",
        "\n",
        "# Choose a tuft to plot voltage\n",
        "if (reduce_cell == True) and (expand_cable == True): # Dendritic reduced model\n",
        "\ttuft_seg_index = tuft_seg_index=cell.segments.index(tufts[0](0.5)) # in this case tufts[0] will be truly tuft section and the segment in the middle of section is fine\n",
        "\tnexus_seg_index = cell.segments.index(cell.apic[0](0.99))\n",
        "elif (reduce_cell == True) and (expand_cable == False): # NR model\n",
        "\ttuft_seg_index = cell.segments.index(tufts[0](0.9)) # tufts[0] will be the cable that is both trunk and tuft in this case, so we have to specify near end of cable\n",
        "\tnexus_seg_index = cell.segments.index(cell.apic[0](0.289004))\n",
        "else: # Complex cell\n",
        "\ttuft_seg_index=cell.segments.index(tufts[0](0.5)) # Otherwise tufts[0] will be truly tuft section and the segment in the middle of section is fine\n",
        "\tnexus_seg_index=cell.segments.index(cell.apic[36](0.961538))\n",
        "\n",
        "\n",
        "print(\"Plotting\",cell.segments[soma_seg_index],\"Voltage| y coordinate of this seg:\", cell.seg_coords['pc'][soma_seg_index][1])\n",
        "print(\"Plotting\",cell.segments[tuft_seg_index],\"Voltage| y coordinate of this seg:\", cell.seg_coords['pc'][tuft_seg_index][1])\n",
        "print(\"Plotting\",cell.segments[nexus_seg_index],\"Voltage| y coordinate of this seg:\", cell.seg_coords['pc'][tuft_seg_index][1])\n",
        "\n",
        "# lfp array\n",
        "lfp = ecp.calc_ecp(move_cell=loc_param).T  # unit: mV\n",
        "\n",
        "plot_simulation_results(t, Vm, soma_seg_index, axon_seg_index, basal_seg_index, tuft_seg_index, nexus_seg_index,\n",
        "\t\t\t\t\t\tloc_param, lfp, elec_pos, plot_lfp_heatmap, plot_lfp_traces)"
      ]
    },
    {
      "cell_type": "markdown",
      "metadata": {
        "id": "BKw84pXiPBxM"
      },
      "source": [
        "### Store Simulation Data"
      ]
    },
    {
      "cell_type": "code",
      "source": [
        "# exc_spike_trains=[]\n",
        "# inh_spike_trains=[]\n",
        "# for i,synapse in enumerate(cell.synapses):\n",
        "#   seg=synapse.get_segment()\n",
        "#   syn=synapse.synapse_neuron_obj\n",
        "#   if \"AMPA\" in str(syn):\n",
        "#     exc_spike_trains.append(spike_generator.spike_trains[i])\n",
        "#   elif \"GABA\" in str(syn):\n",
        "#     inh_spike_trains.append(spike_generator.spike_trains[i])"
      ],
      "metadata": {
        "id": "xHEdgBbw75r4"
      },
      "execution_count": 27,
      "outputs": []
    },
    {
      "cell_type": "code",
      "source": [
        "# for i,spike_train in enumerate(inh_spike_trains):\n",
        "#   y=np.zeros(len(spike_train))+i\n",
        "#   plt.scatter(spike_train,y)"
      ],
      "metadata": {
        "id": "5PvlWR689XFz"
      },
      "execution_count": 28,
      "outputs": []
    },
    {
      "cell_type": "code",
      "source": [
        "# for i,spike_train in enumerate(exc_spike_trains):\n",
        "#   y=np.zeros(len(spike_train))*i\n",
        "#   plt.scatter(spike_train,y)"
      ],
      "metadata": {
        "id": "OBV1ZZVt91Fb"
      },
      "execution_count": 29,
      "outputs": []
    },
    {
      "cell_type": "code",
      "source": [
        "# close_exc_syns=[]\n",
        "# close_inh_syns=[]\n",
        "# for synapse in cell.synapses:\n",
        "#   seg=synapse.get_segment()\n",
        "#   syn=synapse.synapse_neuron_obj\n",
        "#   if \"AMPA\" in str(syn):\n",
        "#     if h.distance(seg,cell.soma[0](0.5))<200:\n",
        "#       close_exc_syns.append(syn)\n",
        "#   elif \"GABA\" in str(syn):\n",
        "#     if h.distance(seg,cell.soma[0](0.5))<200:\n",
        "#       close_inh_syns.append(syn)\n",
        "# print(len(close_exc_syns))\n",
        "# print(len(close_inh_syns))"
      ],
      "metadata": {
        "id": "WZzaNyqgcRrJ"
      },
      "execution_count": 30,
      "outputs": []
    },
    {
      "cell_type": "code",
      "source": [
        "# #pyr2pyr\n",
        "# gbar_nmda = .5e-3 #(uS)\n",
        "# gbar_ampa = 1e-3 #(uS)\n",
        "\n",
        "# # AMPA_NMDA\n",
        "# gmax = .001       # (uS)  : Weight conversion factor (from nS to uS)"
      ],
      "metadata": {
        "id": "afQ_8_Pnd_zG"
      },
      "execution_count": 31,
      "outputs": []
    },
    {
      "cell_type": "code",
      "source": [
        "# gmax/gbar_nmda"
      ],
      "metadata": {
        "id": "BNl5hGqWfNPh"
      },
      "execution_count": 32,
      "outputs": []
    },
    {
      "cell_type": "code",
      "source": [
        "# #int2pyr\n",
        "# gbar_gaba = 0.6e-3 #(uS)\n",
        "\n",
        "# #GABA_AB\n",
        "# gmax         = .001  #(uS) : weight conversion factor (from nS to uS)"
      ],
      "metadata": {
        "id": "J5FTLISchX4W"
      },
      "execution_count": 33,
      "outputs": []
    },
    {
      "cell_type": "code",
      "source": [
        "# gmax/gbar_gaba"
      ],
      "metadata": {
        "id": "_DSb9cRShgYp"
      },
      "execution_count": 34,
      "outputs": []
    },
    {
      "cell_type": "code",
      "execution_count": 35,
      "metadata": {
        "colab": {
          "base_uri": "https://localhost:8080/"
        },
        "id": "qJzhpk_S0QmJ",
        "outputId": "c8c1b73e-1f1f-40a3-90bf-b7bd93dea0c0"
      },
      "outputs": [
        {
          "output_type": "stream",
          "name": "stdout",
          "text": [
            "Mounted at /content/drive/\n"
          ]
        }
      ],
      "source": [
        "if is_colab:\n",
        "  from google.colab import drive\n",
        "  drive.mount('/content/drive/')"
      ]
    },
    {
      "cell_type": "code",
      "execution_count": 36,
      "metadata": {
        "colab": {
          "base_uri": "https://localhost:8080/"
        },
        "id": "Xn2PI2961FZ5",
        "outputId": "66a5b76e-d0db-4b65-b27a-f675162712d3"
      },
      "outputs": [
        {
          "output_type": "stream",
          "name": "stdout",
          "text": [
            "/content\n"
          ]
        }
      ],
      "source": [
        "if is_colab:\n",
        "  %cd .."
      ]
    },
    {
      "cell_type": "code",
      "execution_count": 37,
      "metadata": {
        "colab": {
          "base_uri": "https://localhost:8080/"
        },
        "id": "e5RsD5vZ1GXB",
        "outputId": "47118547-a746-457a-a986-c7aa704fcea5"
      },
      "outputs": [
        {
          "output_type": "stream",
          "name": "stdout",
          "text": [
            "/content/drive/MyDrive\n"
          ]
        }
      ],
      "source": [
        "if is_colab:\n",
        "  %cd drive/MyDrive/"
      ]
    },
    {
      "cell_type": "markdown",
      "source": [
        "Write data to output folder"
      ],
      "metadata": {
        "id": "cnoI7g98WldM"
      }
    },
    {
      "cell_type": "code",
      "execution_count": 38,
      "metadata": {
        "colab": {
          "base_uri": "https://localhost:8080/"
        },
        "id": "KMXJnnQey76q",
        "outputId": "cd99ba51-65e0-447a-9a15-af70ec97c324"
      },
      "outputs": [
        {
          "output_type": "stream",
          "name": "stdout",
          "text": [
            "Outputting data to  L5PCtemplate[0]_45e-1Hz_196nseg_2000ms_108nbranch_29068NCs_29068nsyn\n"
          ]
        }
      ],
      "source": [
        "data_dict=cell.get_recorder_data() # creates new output folder with recorded data"
      ]
    },
    {
      "cell_type": "markdown",
      "metadata": {
        "id": "oS4bDEmh__8s"
      },
      "source": [
        "Write seg_info to csv"
      ]
    },
    {
      "cell_type": "code",
      "execution_count": 39,
      "metadata": {
        "id": "m8i0GgIbzZr2",
        "colab": {
          "base_uri": "https://localhost:8080/"
        },
        "outputId": "a3e3f33e-0a3f-46be-e9ce-42f434e8a5e8"
      },
      "outputs": [
        {
          "output_type": "stream",
          "name": "stdout",
          "text": [
            "Creating csv  L5PCtemplate[0]_45e-1Hz_196nseg_2000ms_108nbranch_29068NCs_29068nsyn/seg_info.csv\n"
          ]
        }
      ],
      "source": [
        "cell.write_seg_info_to_csv() # creates csv of all seg information"
      ]
    }
  ],
  "metadata": {
    "colab": {
      "provenance": [],
      "include_colab_link": true
    },
    "kernelspec": {
      "display_name": "Python 3",
      "name": "python3"
    },
    "language_info": {
      "codemirror_mode": {
        "name": "ipython",
        "version": 3
      },
      "file_extension": ".py",
      "mimetype": "text/x-python",
      "name": "python",
      "nbconvert_exporter": "python",
      "pygments_lexer": "ipython3",
      "version": "3.8.16"
    },
    "widgets": {
      "application/vnd.jupyter.widget-state+json": {
        "120e3c8917fc4611bebc81e998a6adec": {
          "model_module": "@jupyter-widgets/controls",
          "model_name": "VBoxModel",
          "model_module_version": "1.5.0",
          "state": {
            "_dom_classes": [],
            "_model_module": "@jupyter-widgets/controls",
            "_model_module_version": "1.5.0",
            "_model_name": "VBoxModel",
            "_view_count": null,
            "_view_module": "@jupyter-widgets/controls",
            "_view_module_version": "1.5.0",
            "_view_name": "VBoxView",
            "box_style": "",
            "children": [
              "IPY_MODEL_e07ab4090cd54a539319ff0a80583640",
              "IPY_MODEL_57c8627d86384c479a6daf9a7aeaf753",
              "IPY_MODEL_99ae757d22da48a0b5e04b2c386d9dba"
            ],
            "layout": "IPY_MODEL_f310f0f2654446d78ac3d47673770839"
          }
        },
        "e07ab4090cd54a539319ff0a80583640": {
          "model_module": "@jupyter-widgets/controls",
          "model_name": "ButtonModel",
          "model_module_version": "1.5.0",
          "state": {
            "_dom_classes": [],
            "_model_module": "@jupyter-widgets/controls",
            "_model_module_version": "1.5.0",
            "_model_name": "ButtonModel",
            "_view_count": null,
            "_view_module": "@jupyter-widgets/controls",
            "_view_module_version": "1.5.0",
            "_view_name": "ButtonView",
            "button_style": "primary",
            "description": "Reset",
            "disabled": false,
            "icon": "history",
            "layout": "IPY_MODEL_920331f9a04c459ba183daf36e0346ab",
            "style": "IPY_MODEL_5911b4016a3b4e44b0e7b0a56f4eaee0",
            "tooltip": ""
          }
        },
        "57c8627d86384c479a6daf9a7aeaf753": {
          "model_module": "@jupyter-widgets/controls",
          "model_name": "HBoxModel",
          "model_module_version": "1.5.0",
          "state": {
            "_dom_classes": [],
            "_model_module": "@jupyter-widgets/controls",
            "_model_module_version": "1.5.0",
            "_model_name": "HBoxModel",
            "_view_count": null,
            "_view_module": "@jupyter-widgets/controls",
            "_view_module_version": "1.5.0",
            "_view_name": "HBoxView",
            "box_style": "",
            "children": [
              "IPY_MODEL_e08cd5b7437147e8b1bde09b841097d5",
              "IPY_MODEL_a4e53ee5c683410982dbc0f1c4aa5212"
            ],
            "layout": "IPY_MODEL_dd0949c8e5644f35867a8d1deeb72ec6"
          }
        },
        "99ae757d22da48a0b5e04b2c386d9dba": {
          "model_module": "@jupyter-widgets/controls",
          "model_name": "HBoxModel",
          "model_module_version": "1.5.0",
          "state": {
            "_dom_classes": [],
            "_model_module": "@jupyter-widgets/controls",
            "_model_module_version": "1.5.0",
            "_model_name": "HBoxModel",
            "_view_count": null,
            "_view_module": "@jupyter-widgets/controls",
            "_view_module_version": "1.5.0",
            "_view_name": "HBoxView",
            "box_style": "",
            "children": [
              "IPY_MODEL_125c80bda2c84f4f9b1e20395b708519",
              "IPY_MODEL_d8ea5ecd6da34449860e36a2becb75a7"
            ],
            "layout": "IPY_MODEL_c82a291659714c0f947bf0c6f1ea134a"
          }
        },
        "f310f0f2654446d78ac3d47673770839": {
          "model_module": "@jupyter-widgets/base",
          "model_name": "LayoutModel",
          "model_module_version": "1.2.0",
          "state": {
            "_model_module": "@jupyter-widgets/base",
            "_model_module_version": "1.2.0",
            "_model_name": "LayoutModel",
            "_view_count": null,
            "_view_module": "@jupyter-widgets/base",
            "_view_module_version": "1.2.0",
            "_view_name": "LayoutView",
            "align_content": null,
            "align_items": null,
            "align_self": null,
            "border": null,
            "bottom": null,
            "display": null,
            "flex": null,
            "flex_flow": null,
            "grid_area": null,
            "grid_auto_columns": null,
            "grid_auto_flow": null,
            "grid_auto_rows": null,
            "grid_column": null,
            "grid_gap": null,
            "grid_row": null,
            "grid_template_areas": null,
            "grid_template_columns": null,
            "grid_template_rows": null,
            "height": null,
            "justify_content": null,
            "justify_items": null,
            "left": null,
            "margin": null,
            "max_height": null,
            "max_width": null,
            "min_height": null,
            "min_width": null,
            "object_fit": null,
            "object_position": null,
            "order": null,
            "overflow": null,
            "overflow_x": null,
            "overflow_y": null,
            "padding": null,
            "right": null,
            "top": null,
            "visibility": null,
            "width": null
          }
        },
        "920331f9a04c459ba183daf36e0346ab": {
          "model_module": "@jupyter-widgets/base",
          "model_name": "LayoutModel",
          "model_module_version": "1.2.0",
          "state": {
            "_model_module": "@jupyter-widgets/base",
            "_model_module_version": "1.2.0",
            "_model_name": "LayoutModel",
            "_view_count": null,
            "_view_module": "@jupyter-widgets/base",
            "_view_module_version": "1.2.0",
            "_view_name": "LayoutView",
            "align_content": null,
            "align_items": null,
            "align_self": null,
            "border": null,
            "bottom": null,
            "display": null,
            "flex": null,
            "flex_flow": null,
            "grid_area": null,
            "grid_auto_columns": null,
            "grid_auto_flow": null,
            "grid_auto_rows": null,
            "grid_column": null,
            "grid_gap": null,
            "grid_row": null,
            "grid_template_areas": null,
            "grid_template_columns": null,
            "grid_template_rows": null,
            "height": null,
            "justify_content": null,
            "justify_items": null,
            "left": null,
            "margin": null,
            "max_height": null,
            "max_width": null,
            "min_height": null,
            "min_width": null,
            "object_fit": null,
            "object_position": null,
            "order": null,
            "overflow": null,
            "overflow_x": null,
            "overflow_y": null,
            "padding": null,
            "right": null,
            "top": null,
            "visibility": null,
            "width": null
          }
        },
        "5911b4016a3b4e44b0e7b0a56f4eaee0": {
          "model_module": "@jupyter-widgets/controls",
          "model_name": "ButtonStyleModel",
          "model_module_version": "1.5.0",
          "state": {
            "_model_module": "@jupyter-widgets/controls",
            "_model_module_version": "1.5.0",
            "_model_name": "ButtonStyleModel",
            "_view_count": null,
            "_view_module": "@jupyter-widgets/base",
            "_view_module_version": "1.2.0",
            "_view_name": "StyleView",
            "button_color": null,
            "font_weight": ""
          }
        },
        "e08cd5b7437147e8b1bde09b841097d5": {
          "model_module": "@jupyter-widgets/controls",
          "model_name": "VBoxModel",
          "model_module_version": "1.5.0",
          "state": {
            "_dom_classes": [],
            "_model_module": "@jupyter-widgets/controls",
            "_model_module_version": "1.5.0",
            "_model_name": "VBoxModel",
            "_view_count": null,
            "_view_module": "@jupyter-widgets/controls",
            "_view_module_version": "1.5.0",
            "_view_name": "VBoxView",
            "box_style": "",
            "children": [
              "IPY_MODEL_fd7a9c0719f140f09abb31fcc4d6eb1b",
              "IPY_MODEL_2aa14a2af7784932b3b5ded624d67ba8",
              "IPY_MODEL_85dbdcccf600421bac9b02ace72d651c"
            ],
            "layout": "IPY_MODEL_089b35ffb6f3497aa4d73e05a21c1169"
          }
        },
        "a4e53ee5c683410982dbc0f1c4aa5212": {
          "model_module": "@jupyter-widgets/controls",
          "model_name": "VBoxModel",
          "model_module_version": "1.5.0",
          "state": {
            "_dom_classes": [],
            "_model_module": "@jupyter-widgets/controls",
            "_model_module_version": "1.5.0",
            "_model_name": "VBoxModel",
            "_view_count": null,
            "_view_module": "@jupyter-widgets/controls",
            "_view_module_version": "1.5.0",
            "_view_name": "VBoxView",
            "box_style": "",
            "children": [
              "IPY_MODEL_e4c334690ed24293823ffe1c30a97e9e",
              "IPY_MODEL_f1c1a8508cc34eb4917ca1e4b269c6ad",
              "IPY_MODEL_84555cb328874c3f91f93bf5d735685f"
            ],
            "layout": "IPY_MODEL_c02480c131794a8b8af2b149c63026fe"
          }
        },
        "dd0949c8e5644f35867a8d1deeb72ec6": {
          "model_module": "@jupyter-widgets/base",
          "model_name": "LayoutModel",
          "model_module_version": "1.2.0",
          "state": {
            "_model_module": "@jupyter-widgets/base",
            "_model_module_version": "1.2.0",
            "_model_name": "LayoutModel",
            "_view_count": null,
            "_view_module": "@jupyter-widgets/base",
            "_view_module_version": "1.2.0",
            "_view_name": "LayoutView",
            "align_content": null,
            "align_items": null,
            "align_self": null,
            "border": null,
            "bottom": null,
            "display": null,
            "flex": null,
            "flex_flow": null,
            "grid_area": null,
            "grid_auto_columns": null,
            "grid_auto_flow": null,
            "grid_auto_rows": null,
            "grid_column": null,
            "grid_gap": null,
            "grid_row": null,
            "grid_template_areas": null,
            "grid_template_columns": null,
            "grid_template_rows": null,
            "height": null,
            "justify_content": null,
            "justify_items": null,
            "left": null,
            "margin": null,
            "max_height": null,
            "max_width": null,
            "min_height": null,
            "min_width": null,
            "object_fit": null,
            "object_position": null,
            "order": null,
            "overflow": null,
            "overflow_x": null,
            "overflow_y": null,
            "padding": null,
            "right": null,
            "top": null,
            "visibility": null,
            "width": null
          }
        },
        "125c80bda2c84f4f9b1e20395b708519": {
          "model_module": "@jupyter-widgets/controls",
          "model_name": "VBoxModel",
          "model_module_version": "1.5.0",
          "state": {
            "_dom_classes": [],
            "_model_module": "@jupyter-widgets/controls",
            "_model_module_version": "1.5.0",
            "_model_name": "VBoxModel",
            "_view_count": null,
            "_view_module": "@jupyter-widgets/controls",
            "_view_module_version": "1.5.0",
            "_view_name": "VBoxView",
            "box_style": "",
            "children": [
              "IPY_MODEL_6cd170e20cfd4d65b8f8e2ce3133fffb",
              "IPY_MODEL_9fa5f482923749b29e6464fcc74945ec"
            ],
            "layout": "IPY_MODEL_1e7e6ba216f14051ae09a1833115a05d"
          }
        },
        "d8ea5ecd6da34449860e36a2becb75a7": {
          "model_module": "@jupyter-widgets/controls",
          "model_name": "FloatSliderModel",
          "model_module_version": "1.5.0",
          "state": {
            "_dom_classes": [],
            "_model_module": "@jupyter-widgets/controls",
            "_model_module_version": "1.5.0",
            "_model_name": "FloatSliderModel",
            "_view_count": null,
            "_view_module": "@jupyter-widgets/controls",
            "_view_module_version": "1.5.0",
            "_view_name": "FloatSliderView",
            "continuous_update": false,
            "description": "elev (deg)",
            "description_tooltip": null,
            "disabled": false,
            "layout": "IPY_MODEL_865564be23ea4b0db13722ce014ab0b8",
            "max": 90,
            "min": -90,
            "orientation": "vertical",
            "readout": true,
            "readout_format": ".0f",
            "step": 1,
            "style": "IPY_MODEL_0f4dc1e524b1486b97eb72f8c98e28ad",
            "value": -10
          }
        },
        "c82a291659714c0f947bf0c6f1ea134a": {
          "model_module": "@jupyter-widgets/base",
          "model_name": "LayoutModel",
          "model_module_version": "1.2.0",
          "state": {
            "_model_module": "@jupyter-widgets/base",
            "_model_module_version": "1.2.0",
            "_model_name": "LayoutModel",
            "_view_count": null,
            "_view_module": "@jupyter-widgets/base",
            "_view_module_version": "1.2.0",
            "_view_name": "LayoutView",
            "align_content": null,
            "align_items": null,
            "align_self": null,
            "border": null,
            "bottom": null,
            "display": null,
            "flex": null,
            "flex_flow": null,
            "grid_area": null,
            "grid_auto_columns": null,
            "grid_auto_flow": null,
            "grid_auto_rows": null,
            "grid_column": null,
            "grid_gap": null,
            "grid_row": null,
            "grid_template_areas": null,
            "grid_template_columns": null,
            "grid_template_rows": null,
            "height": null,
            "justify_content": null,
            "justify_items": null,
            "left": null,
            "margin": null,
            "max_height": null,
            "max_width": null,
            "min_height": null,
            "min_width": null,
            "object_fit": null,
            "object_position": null,
            "order": null,
            "overflow": null,
            "overflow_x": null,
            "overflow_y": null,
            "padding": null,
            "right": null,
            "top": null,
            "visibility": null,
            "width": null
          }
        },
        "fd7a9c0719f140f09abb31fcc4d6eb1b": {
          "model_module": "@jupyter-widgets/controls",
          "model_name": "FloatSliderModel",
          "model_module_version": "1.5.0",
          "state": {
            "_dom_classes": [],
            "_model_module": "@jupyter-widgets/controls",
            "_model_module_version": "1.5.0",
            "_model_name": "FloatSliderModel",
            "_view_count": null,
            "_view_module": "@jupyter-widgets/controls",
            "_view_module_version": "1.5.0",
            "_view_name": "FloatSliderView",
            "continuous_update": false,
            "description": "x (um)",
            "description_tooltip": null,
            "disabled": false,
            "layout": "IPY_MODEL_7e4af344876a4413aa91df5feea78109",
            "max": 200,
            "min": -200,
            "orientation": "horizontal",
            "readout": true,
            "readout_format": ".0f",
            "step": 1,
            "style": "IPY_MODEL_52248d5ad997435b86e03836954ae9a2",
            "value": 0
          }
        },
        "2aa14a2af7784932b3b5ded624d67ba8": {
          "model_module": "@jupyter-widgets/controls",
          "model_name": "FloatSliderModel",
          "model_module_version": "1.5.0",
          "state": {
            "_dom_classes": [],
            "_model_module": "@jupyter-widgets/controls",
            "_model_module_version": "1.5.0",
            "_model_name": "FloatSliderModel",
            "_view_count": null,
            "_view_module": "@jupyter-widgets/controls",
            "_view_module_version": "1.5.0",
            "_view_name": "FloatSliderView",
            "continuous_update": false,
            "description": "y (um)",
            "description_tooltip": null,
            "disabled": false,
            "layout": "IPY_MODEL_16f88b62e56e4c6d91c50b4281a73ef8",
            "max": 1000,
            "min": -1000,
            "orientation": "horizontal",
            "readout": true,
            "readout_format": ".0f",
            "step": 1,
            "style": "IPY_MODEL_446df601acb344b0b787d3a89a72f86f",
            "value": 0
          }
        },
        "85dbdcccf600421bac9b02ace72d651c": {
          "model_module": "@jupyter-widgets/controls",
          "model_name": "FloatSliderModel",
          "model_module_version": "1.5.0",
          "state": {
            "_dom_classes": [],
            "_model_module": "@jupyter-widgets/controls",
            "_model_module_version": "1.5.0",
            "_model_name": "FloatSliderModel",
            "_view_count": null,
            "_view_module": "@jupyter-widgets/controls",
            "_view_module_version": "1.5.0",
            "_view_name": "FloatSliderView",
            "continuous_update": false,
            "description": "z (um)",
            "description_tooltip": null,
            "disabled": false,
            "layout": "IPY_MODEL_5defc3c485d54fc5a4e34ff2bca8916f",
            "max": 400,
            "min": 20,
            "orientation": "horizontal",
            "readout": true,
            "readout_format": ".0f",
            "step": 1,
            "style": "IPY_MODEL_67e186e2d4344d97b30537a9387e8023",
            "value": 80
          }
        },
        "089b35ffb6f3497aa4d73e05a21c1169": {
          "model_module": "@jupyter-widgets/base",
          "model_name": "LayoutModel",
          "model_module_version": "1.2.0",
          "state": {
            "_model_module": "@jupyter-widgets/base",
            "_model_module_version": "1.2.0",
            "_model_name": "LayoutModel",
            "_view_count": null,
            "_view_module": "@jupyter-widgets/base",
            "_view_module_version": "1.2.0",
            "_view_name": "LayoutView",
            "align_content": null,
            "align_items": null,
            "align_self": null,
            "border": null,
            "bottom": null,
            "display": null,
            "flex": null,
            "flex_flow": null,
            "grid_area": null,
            "grid_auto_columns": null,
            "grid_auto_flow": null,
            "grid_auto_rows": null,
            "grid_column": null,
            "grid_gap": null,
            "grid_row": null,
            "grid_template_areas": null,
            "grid_template_columns": null,
            "grid_template_rows": null,
            "height": null,
            "justify_content": null,
            "justify_items": null,
            "left": null,
            "margin": null,
            "max_height": null,
            "max_width": null,
            "min_height": null,
            "min_width": null,
            "object_fit": null,
            "object_position": null,
            "order": null,
            "overflow": null,
            "overflow_x": null,
            "overflow_y": null,
            "padding": null,
            "right": null,
            "top": null,
            "visibility": null,
            "width": null
          }
        },
        "e4c334690ed24293823ffe1c30a97e9e": {
          "model_module": "@jupyter-widgets/controls",
          "model_name": "FloatSliderModel",
          "model_module_version": "1.5.0",
          "state": {
            "_dom_classes": [],
            "_model_module": "@jupyter-widgets/controls",
            "_model_module_version": "1.5.0",
            "_model_name": "FloatSliderModel",
            "_view_count": null,
            "_view_module": "@jupyter-widgets/controls",
            "_view_module_version": "1.5.0",
            "_view_name": "FloatSliderView",
            "continuous_update": false,
            "description": "alpha (deg)",
            "description_tooltip": null,
            "disabled": false,
            "layout": "IPY_MODEL_bb664d52fd3744c0b73d8aa39fd3cb71",
            "max": 180,
            "min": -180,
            "orientation": "horizontal",
            "readout": true,
            "readout_format": ".0f",
            "step": 1,
            "style": "IPY_MODEL_e58515aa85ac463080cc55c3e5d95d2e",
            "value": 0
          }
        },
        "f1c1a8508cc34eb4917ca1e4b269c6ad": {
          "model_module": "@jupyter-widgets/controls",
          "model_name": "FloatSliderModel",
          "model_module_version": "1.5.0",
          "state": {
            "_dom_classes": [],
            "_model_module": "@jupyter-widgets/controls",
            "_model_module_version": "1.5.0",
            "_model_name": "FloatSliderModel",
            "_view_count": null,
            "_view_module": "@jupyter-widgets/controls",
            "_view_module_version": "1.5.0",
            "_view_name": "FloatSliderView",
            "continuous_update": false,
            "description": "beta (deg)",
            "description_tooltip": null,
            "disabled": false,
            "layout": "IPY_MODEL_66902e82061b4ed7bd0c50002e98c8d1",
            "max": 180,
            "min": 0,
            "orientation": "horizontal",
            "readout": true,
            "readout_format": ".0f",
            "step": 1,
            "style": "IPY_MODEL_40296f589595480a98351f5fea943b13",
            "value": 0
          }
        },
        "84555cb328874c3f91f93bf5d735685f": {
          "model_module": "@jupyter-widgets/controls",
          "model_name": "FloatSliderModel",
          "model_module_version": "1.5.0",
          "state": {
            "_dom_classes": [],
            "_model_module": "@jupyter-widgets/controls",
            "_model_module_version": "1.5.0",
            "_model_name": "FloatSliderModel",
            "_view_count": null,
            "_view_module": "@jupyter-widgets/controls",
            "_view_module_version": "1.5.0",
            "_view_name": "FloatSliderView",
            "continuous_update": false,
            "description": "phi (deg)",
            "description_tooltip": null,
            "disabled": false,
            "layout": "IPY_MODEL_9d7d900472164a6487d7175ff9b585ca",
            "max": 180,
            "min": -180,
            "orientation": "horizontal",
            "readout": true,
            "readout_format": ".0f",
            "step": 1,
            "style": "IPY_MODEL_92537ca765de44cc818a9156eecaaa30",
            "value": 0
          }
        },
        "c02480c131794a8b8af2b149c63026fe": {
          "model_module": "@jupyter-widgets/base",
          "model_name": "LayoutModel",
          "model_module_version": "1.2.0",
          "state": {
            "_model_module": "@jupyter-widgets/base",
            "_model_module_version": "1.2.0",
            "_model_name": "LayoutModel",
            "_view_count": null,
            "_view_module": "@jupyter-widgets/base",
            "_view_module_version": "1.2.0",
            "_view_name": "LayoutView",
            "align_content": null,
            "align_items": null,
            "align_self": null,
            "border": null,
            "bottom": null,
            "display": null,
            "flex": null,
            "flex_flow": null,
            "grid_area": null,
            "grid_auto_columns": null,
            "grid_auto_flow": null,
            "grid_auto_rows": null,
            "grid_column": null,
            "grid_gap": null,
            "grid_row": null,
            "grid_template_areas": null,
            "grid_template_columns": null,
            "grid_template_rows": null,
            "height": null,
            "justify_content": null,
            "justify_items": null,
            "left": null,
            "margin": null,
            "max_height": null,
            "max_width": null,
            "min_height": null,
            "min_width": null,
            "object_fit": null,
            "object_position": null,
            "order": null,
            "overflow": null,
            "overflow_x": null,
            "overflow_y": null,
            "padding": null,
            "right": null,
            "top": null,
            "visibility": null,
            "width": null
          }
        },
        "6cd170e20cfd4d65b8f8e2ce3133fffb": {
          "model_module": "@jupyter-widgets/output",
          "model_name": "OutputModel",
          "model_module_version": "1.0.0",
          "state": {
            "_dom_classes": [],
            "_model_module": "@jupyter-widgets/output",
            "_model_module_version": "1.0.0",
            "_model_name": "OutputModel",
            "_view_count": null,
            "_view_module": "@jupyter-widgets/output",
            "_view_module_version": "1.0.0",
            "_view_name": "OutputView",
            "layout": "IPY_MODEL_94e15e3ef1f24411ade5ebb7aac411e4",
            "msg_id": "",
            "outputs": [
              {
                "output_type": "display_data",
                "data": {
                  "text/plain": "<Figure size 1200x800 with 2 Axes>",
                  "image/png": "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\n"
                },
                "metadata": {}
              }
            ]
          }
        },
        "9fa5f482923749b29e6464fcc74945ec": {
          "model_module": "@jupyter-widgets/controls",
          "model_name": "FloatSliderModel",
          "model_module_version": "1.5.0",
          "state": {
            "_dom_classes": [],
            "_model_module": "@jupyter-widgets/controls",
            "_model_module_version": "1.5.0",
            "_model_name": "FloatSliderModel",
            "_view_count": null,
            "_view_module": "@jupyter-widgets/controls",
            "_view_module_version": "1.5.0",
            "_view_name": "FloatSliderView",
            "continuous_update": false,
            "description": "azim (deg)",
            "description_tooltip": null,
            "disabled": false,
            "layout": "IPY_MODEL_f63fe32fe4b54d64b9f20574fb06f348",
            "max": 180,
            "min": -180,
            "orientation": "horizontal",
            "readout": true,
            "readout_format": ".0f",
            "step": 1,
            "style": "IPY_MODEL_4a33271b41de416d8848d4beea092327",
            "value": -90
          }
        },
        "1e7e6ba216f14051ae09a1833115a05d": {
          "model_module": "@jupyter-widgets/base",
          "model_name": "LayoutModel",
          "model_module_version": "1.2.0",
          "state": {
            "_model_module": "@jupyter-widgets/base",
            "_model_module_version": "1.2.0",
            "_model_name": "LayoutModel",
            "_view_count": null,
            "_view_module": "@jupyter-widgets/base",
            "_view_module_version": "1.2.0",
            "_view_name": "LayoutView",
            "align_content": null,
            "align_items": null,
            "align_self": null,
            "border": null,
            "bottom": null,
            "display": null,
            "flex": null,
            "flex_flow": null,
            "grid_area": null,
            "grid_auto_columns": null,
            "grid_auto_flow": null,
            "grid_auto_rows": null,
            "grid_column": null,
            "grid_gap": null,
            "grid_row": null,
            "grid_template_areas": null,
            "grid_template_columns": null,
            "grid_template_rows": null,
            "height": null,
            "justify_content": null,
            "justify_items": null,
            "left": null,
            "margin": null,
            "max_height": null,
            "max_width": null,
            "min_height": null,
            "min_width": null,
            "object_fit": null,
            "object_position": null,
            "order": null,
            "overflow": null,
            "overflow_x": null,
            "overflow_y": null,
            "padding": null,
            "right": null,
            "top": null,
            "visibility": null,
            "width": null
          }
        },
        "865564be23ea4b0db13722ce014ab0b8": {
          "model_module": "@jupyter-widgets/base",
          "model_name": "LayoutModel",
          "model_module_version": "1.2.0",
          "state": {
            "_model_module": "@jupyter-widgets/base",
            "_model_module_version": "1.2.0",
            "_model_name": "LayoutModel",
            "_view_count": null,
            "_view_module": "@jupyter-widgets/base",
            "_view_module_version": "1.2.0",
            "_view_name": "LayoutView",
            "align_content": null,
            "align_items": null,
            "align_self": null,
            "border": null,
            "bottom": null,
            "display": null,
            "flex": null,
            "flex_flow": null,
            "grid_area": null,
            "grid_auto_columns": null,
            "grid_auto_flow": null,
            "grid_auto_rows": null,
            "grid_column": null,
            "grid_gap": null,
            "grid_row": null,
            "grid_template_areas": null,
            "grid_template_columns": null,
            "grid_template_rows": null,
            "height": "350px",
            "justify_content": null,
            "justify_items": null,
            "left": null,
            "margin": null,
            "max_height": null,
            "max_width": null,
            "min_height": null,
            "min_width": null,
            "object_fit": null,
            "object_position": null,
            "order": null,
            "overflow": null,
            "overflow_x": null,
            "overflow_y": null,
            "padding": null,
            "right": null,
            "top": null,
            "visibility": null,
            "width": null
          }
        },
        "0f4dc1e524b1486b97eb72f8c98e28ad": {
          "model_module": "@jupyter-widgets/controls",
          "model_name": "SliderStyleModel",
          "model_module_version": "1.5.0",
          "state": {
            "_model_module": "@jupyter-widgets/controls",
            "_model_module_version": "1.5.0",
            "_model_name": "SliderStyleModel",
            "_view_count": null,
            "_view_module": "@jupyter-widgets/base",
            "_view_module_version": "1.2.0",
            "_view_name": "StyleView",
            "description_width": "",
            "handle_color": null
          }
        },
        "7e4af344876a4413aa91df5feea78109": {
          "model_module": "@jupyter-widgets/base",
          "model_name": "LayoutModel",
          "model_module_version": "1.2.0",
          "state": {
            "_model_module": "@jupyter-widgets/base",
            "_model_module_version": "1.2.0",
            "_model_name": "LayoutModel",
            "_view_count": null,
            "_view_module": "@jupyter-widgets/base",
            "_view_module_version": "1.2.0",
            "_view_name": "LayoutView",
            "align_content": null,
            "align_items": null,
            "align_self": null,
            "border": null,
            "bottom": null,
            "display": null,
            "flex": null,
            "flex_flow": null,
            "grid_area": null,
            "grid_auto_columns": null,
            "grid_auto_flow": null,
            "grid_auto_rows": null,
            "grid_column": null,
            "grid_gap": null,
            "grid_row": null,
            "grid_template_areas": null,
            "grid_template_columns": null,
            "grid_template_rows": null,
            "height": null,
            "justify_content": null,
            "justify_items": null,
            "left": null,
            "margin": null,
            "max_height": null,
            "max_width": null,
            "min_height": null,
            "min_width": null,
            "object_fit": null,
            "object_position": null,
            "order": null,
            "overflow": null,
            "overflow_x": null,
            "overflow_y": null,
            "padding": null,
            "right": null,
            "top": null,
            "visibility": null,
            "width": null
          }
        },
        "52248d5ad997435b86e03836954ae9a2": {
          "model_module": "@jupyter-widgets/controls",
          "model_name": "SliderStyleModel",
          "model_module_version": "1.5.0",
          "state": {
            "_model_module": "@jupyter-widgets/controls",
            "_model_module_version": "1.5.0",
            "_model_name": "SliderStyleModel",
            "_view_count": null,
            "_view_module": "@jupyter-widgets/base",
            "_view_module_version": "1.2.0",
            "_view_name": "StyleView",
            "description_width": "",
            "handle_color": null
          }
        },
        "16f88b62e56e4c6d91c50b4281a73ef8": {
          "model_module": "@jupyter-widgets/base",
          "model_name": "LayoutModel",
          "model_module_version": "1.2.0",
          "state": {
            "_model_module": "@jupyter-widgets/base",
            "_model_module_version": "1.2.0",
            "_model_name": "LayoutModel",
            "_view_count": null,
            "_view_module": "@jupyter-widgets/base",
            "_view_module_version": "1.2.0",
            "_view_name": "LayoutView",
            "align_content": null,
            "align_items": null,
            "align_self": null,
            "border": null,
            "bottom": null,
            "display": null,
            "flex": null,
            "flex_flow": null,
            "grid_area": null,
            "grid_auto_columns": null,
            "grid_auto_flow": null,
            "grid_auto_rows": null,
            "grid_column": null,
            "grid_gap": null,
            "grid_row": null,
            "grid_template_areas": null,
            "grid_template_columns": null,
            "grid_template_rows": null,
            "height": null,
            "justify_content": null,
            "justify_items": null,
            "left": null,
            "margin": null,
            "max_height": null,
            "max_width": null,
            "min_height": null,
            "min_width": null,
            "object_fit": null,
            "object_position": null,
            "order": null,
            "overflow": null,
            "overflow_x": null,
            "overflow_y": null,
            "padding": null,
            "right": null,
            "top": null,
            "visibility": null,
            "width": null
          }
        },
        "446df601acb344b0b787d3a89a72f86f": {
          "model_module": "@jupyter-widgets/controls",
          "model_name": "SliderStyleModel",
          "model_module_version": "1.5.0",
          "state": {
            "_model_module": "@jupyter-widgets/controls",
            "_model_module_version": "1.5.0",
            "_model_name": "SliderStyleModel",
            "_view_count": null,
            "_view_module": "@jupyter-widgets/base",
            "_view_module_version": "1.2.0",
            "_view_name": "StyleView",
            "description_width": "",
            "handle_color": null
          }
        },
        "5defc3c485d54fc5a4e34ff2bca8916f": {
          "model_module": "@jupyter-widgets/base",
          "model_name": "LayoutModel",
          "model_module_version": "1.2.0",
          "state": {
            "_model_module": "@jupyter-widgets/base",
            "_model_module_version": "1.2.0",
            "_model_name": "LayoutModel",
            "_view_count": null,
            "_view_module": "@jupyter-widgets/base",
            "_view_module_version": "1.2.0",
            "_view_name": "LayoutView",
            "align_content": null,
            "align_items": null,
            "align_self": null,
            "border": null,
            "bottom": null,
            "display": null,
            "flex": null,
            "flex_flow": null,
            "grid_area": null,
            "grid_auto_columns": null,
            "grid_auto_flow": null,
            "grid_auto_rows": null,
            "grid_column": null,
            "grid_gap": null,
            "grid_row": null,
            "grid_template_areas": null,
            "grid_template_columns": null,
            "grid_template_rows": null,
            "height": null,
            "justify_content": null,
            "justify_items": null,
            "left": null,
            "margin": null,
            "max_height": null,
            "max_width": null,
            "min_height": null,
            "min_width": null,
            "object_fit": null,
            "object_position": null,
            "order": null,
            "overflow": null,
            "overflow_x": null,
            "overflow_y": null,
            "padding": null,
            "right": null,
            "top": null,
            "visibility": null,
            "width": null
          }
        },
        "67e186e2d4344d97b30537a9387e8023": {
          "model_module": "@jupyter-widgets/controls",
          "model_name": "SliderStyleModel",
          "model_module_version": "1.5.0",
          "state": {
            "_model_module": "@jupyter-widgets/controls",
            "_model_module_version": "1.5.0",
            "_model_name": "SliderStyleModel",
            "_view_count": null,
            "_view_module": "@jupyter-widgets/base",
            "_view_module_version": "1.2.0",
            "_view_name": "StyleView",
            "description_width": "",
            "handle_color": null
          }
        },
        "bb664d52fd3744c0b73d8aa39fd3cb71": {
          "model_module": "@jupyter-widgets/base",
          "model_name": "LayoutModel",
          "model_module_version": "1.2.0",
          "state": {
            "_model_module": "@jupyter-widgets/base",
            "_model_module_version": "1.2.0",
            "_model_name": "LayoutModel",
            "_view_count": null,
            "_view_module": "@jupyter-widgets/base",
            "_view_module_version": "1.2.0",
            "_view_name": "LayoutView",
            "align_content": null,
            "align_items": null,
            "align_self": null,
            "border": null,
            "bottom": null,
            "display": null,
            "flex": null,
            "flex_flow": null,
            "grid_area": null,
            "grid_auto_columns": null,
            "grid_auto_flow": null,
            "grid_auto_rows": null,
            "grid_column": null,
            "grid_gap": null,
            "grid_row": null,
            "grid_template_areas": null,
            "grid_template_columns": null,
            "grid_template_rows": null,
            "height": null,
            "justify_content": null,
            "justify_items": null,
            "left": null,
            "margin": null,
            "max_height": null,
            "max_width": null,
            "min_height": null,
            "min_width": null,
            "object_fit": null,
            "object_position": null,
            "order": null,
            "overflow": null,
            "overflow_x": null,
            "overflow_y": null,
            "padding": null,
            "right": null,
            "top": null,
            "visibility": null,
            "width": null
          }
        },
        "e58515aa85ac463080cc55c3e5d95d2e": {
          "model_module": "@jupyter-widgets/controls",
          "model_name": "SliderStyleModel",
          "model_module_version": "1.5.0",
          "state": {
            "_model_module": "@jupyter-widgets/controls",
            "_model_module_version": "1.5.0",
            "_model_name": "SliderStyleModel",
            "_view_count": null,
            "_view_module": "@jupyter-widgets/base",
            "_view_module_version": "1.2.0",
            "_view_name": "StyleView",
            "description_width": "",
            "handle_color": null
          }
        },
        "66902e82061b4ed7bd0c50002e98c8d1": {
          "model_module": "@jupyter-widgets/base",
          "model_name": "LayoutModel",
          "model_module_version": "1.2.0",
          "state": {
            "_model_module": "@jupyter-widgets/base",
            "_model_module_version": "1.2.0",
            "_model_name": "LayoutModel",
            "_view_count": null,
            "_view_module": "@jupyter-widgets/base",
            "_view_module_version": "1.2.0",
            "_view_name": "LayoutView",
            "align_content": null,
            "align_items": null,
            "align_self": null,
            "border": null,
            "bottom": null,
            "display": null,
            "flex": null,
            "flex_flow": null,
            "grid_area": null,
            "grid_auto_columns": null,
            "grid_auto_flow": null,
            "grid_auto_rows": null,
            "grid_column": null,
            "grid_gap": null,
            "grid_row": null,
            "grid_template_areas": null,
            "grid_template_columns": null,
            "grid_template_rows": null,
            "height": null,
            "justify_content": null,
            "justify_items": null,
            "left": null,
            "margin": null,
            "max_height": null,
            "max_width": null,
            "min_height": null,
            "min_width": null,
            "object_fit": null,
            "object_position": null,
            "order": null,
            "overflow": null,
            "overflow_x": null,
            "overflow_y": null,
            "padding": null,
            "right": null,
            "top": null,
            "visibility": null,
            "width": null
          }
        },
        "40296f589595480a98351f5fea943b13": {
          "model_module": "@jupyter-widgets/controls",
          "model_name": "SliderStyleModel",
          "model_module_version": "1.5.0",
          "state": {
            "_model_module": "@jupyter-widgets/controls",
            "_model_module_version": "1.5.0",
            "_model_name": "SliderStyleModel",
            "_view_count": null,
            "_view_module": "@jupyter-widgets/base",
            "_view_module_version": "1.2.0",
            "_view_name": "StyleView",
            "description_width": "",
            "handle_color": null
          }
        },
        "9d7d900472164a6487d7175ff9b585ca": {
          "model_module": "@jupyter-widgets/base",
          "model_name": "LayoutModel",
          "model_module_version": "1.2.0",
          "state": {
            "_model_module": "@jupyter-widgets/base",
            "_model_module_version": "1.2.0",
            "_model_name": "LayoutModel",
            "_view_count": null,
            "_view_module": "@jupyter-widgets/base",
            "_view_module_version": "1.2.0",
            "_view_name": "LayoutView",
            "align_content": null,
            "align_items": null,
            "align_self": null,
            "border": null,
            "bottom": null,
            "display": null,
            "flex": null,
            "flex_flow": null,
            "grid_area": null,
            "grid_auto_columns": null,
            "grid_auto_flow": null,
            "grid_auto_rows": null,
            "grid_column": null,
            "grid_gap": null,
            "grid_row": null,
            "grid_template_areas": null,
            "grid_template_columns": null,
            "grid_template_rows": null,
            "height": null,
            "justify_content": null,
            "justify_items": null,
            "left": null,
            "margin": null,
            "max_height": null,
            "max_width": null,
            "min_height": null,
            "min_width": null,
            "object_fit": null,
            "object_position": null,
            "order": null,
            "overflow": null,
            "overflow_x": null,
            "overflow_y": null,
            "padding": null,
            "right": null,
            "top": null,
            "visibility": null,
            "width": null
          }
        },
        "92537ca765de44cc818a9156eecaaa30": {
          "model_module": "@jupyter-widgets/controls",
          "model_name": "SliderStyleModel",
          "model_module_version": "1.5.0",
          "state": {
            "_model_module": "@jupyter-widgets/controls",
            "_model_module_version": "1.5.0",
            "_model_name": "SliderStyleModel",
            "_view_count": null,
            "_view_module": "@jupyter-widgets/base",
            "_view_module_version": "1.2.0",
            "_view_name": "StyleView",
            "description_width": "",
            "handle_color": null
          }
        },
        "f63fe32fe4b54d64b9f20574fb06f348": {
          "model_module": "@jupyter-widgets/base",
          "model_name": "LayoutModel",
          "model_module_version": "1.2.0",
          "state": {
            "_model_module": "@jupyter-widgets/base",
            "_model_module_version": "1.2.0",
            "_model_name": "LayoutModel",
            "_view_count": null,
            "_view_module": "@jupyter-widgets/base",
            "_view_module_version": "1.2.0",
            "_view_name": "LayoutView",
            "align_content": null,
            "align_items": null,
            "align_self": null,
            "border": null,
            "bottom": null,
            "display": null,
            "flex": null,
            "flex_flow": null,
            "grid_area": null,
            "grid_auto_columns": null,
            "grid_auto_flow": null,
            "grid_auto_rows": null,
            "grid_column": null,
            "grid_gap": null,
            "grid_row": null,
            "grid_template_areas": null,
            "grid_template_columns": null,
            "grid_template_rows": null,
            "height": null,
            "justify_content": null,
            "justify_items": null,
            "left": null,
            "margin": null,
            "max_height": null,
            "max_width": null,
            "min_height": null,
            "min_width": null,
            "object_fit": null,
            "object_position": null,
            "order": null,
            "overflow": null,
            "overflow_x": null,
            "overflow_y": null,
            "padding": null,
            "right": null,
            "top": null,
            "visibility": null,
            "width": "500px"
          }
        },
        "4a33271b41de416d8848d4beea092327": {
          "model_module": "@jupyter-widgets/controls",
          "model_name": "SliderStyleModel",
          "model_module_version": "1.5.0",
          "state": {
            "_model_module": "@jupyter-widgets/controls",
            "_model_module_version": "1.5.0",
            "_model_name": "SliderStyleModel",
            "_view_count": null,
            "_view_module": "@jupyter-widgets/base",
            "_view_module_version": "1.2.0",
            "_view_name": "StyleView",
            "description_width": "",
            "handle_color": null
          }
        },
        "94e15e3ef1f24411ade5ebb7aac411e4": {
          "model_module": "@jupyter-widgets/base",
          "model_name": "LayoutModel",
          "model_module_version": "1.2.0",
          "state": {
            "_model_module": "@jupyter-widgets/base",
            "_model_module_version": "1.2.0",
            "_model_name": "LayoutModel",
            "_view_count": null,
            "_view_module": "@jupyter-widgets/base",
            "_view_module_version": "1.2.0",
            "_view_name": "LayoutView",
            "align_content": null,
            "align_items": null,
            "align_self": null,
            "border": null,
            "bottom": null,
            "display": null,
            "flex": null,
            "flex_flow": null,
            "grid_area": null,
            "grid_auto_columns": null,
            "grid_auto_flow": null,
            "grid_auto_rows": null,
            "grid_column": null,
            "grid_gap": null,
            "grid_row": null,
            "grid_template_areas": null,
            "grid_template_columns": null,
            "grid_template_rows": null,
            "height": null,
            "justify_content": null,
            "justify_items": null,
            "left": null,
            "margin": null,
            "max_height": null,
            "max_width": null,
            "min_height": null,
            "min_width": null,
            "object_fit": null,
            "object_position": null,
            "order": null,
            "overflow": null,
            "overflow_x": null,
            "overflow_y": null,
            "padding": null,
            "right": null,
            "top": null,
            "visibility": null,
            "width": null
          }
        },
        "d28c4853232048788198adac79888d4d": {
          "model_module": "@jupyter-widgets/controls",
          "model_name": "VBoxModel",
          "model_module_version": "1.5.0",
          "state": {
            "_dom_classes": [],
            "_model_module": "@jupyter-widgets/controls",
            "_model_module_version": "1.5.0",
            "_model_name": "VBoxModel",
            "_view_count": null,
            "_view_module": "@jupyter-widgets/controls",
            "_view_module_version": "1.5.0",
            "_view_name": "VBoxView",
            "box_style": "",
            "children": [
              "IPY_MODEL_2b17327040d649c4ae7634c72860ee67",
              "IPY_MODEL_e69a459967c14a6ab37f21411c27a3ac",
              "IPY_MODEL_878f1f33a4c44a3a9bcfd37386f59b5c"
            ],
            "layout": "IPY_MODEL_6a9e3e54fb9c4677a02ab4a138448957"
          }
        },
        "2b17327040d649c4ae7634c72860ee67": {
          "model_module": "@jupyter-widgets/controls",
          "model_name": "ButtonModel",
          "model_module_version": "1.5.0",
          "state": {
            "_dom_classes": [],
            "_model_module": "@jupyter-widgets/controls",
            "_model_module_version": "1.5.0",
            "_model_name": "ButtonModel",
            "_view_count": null,
            "_view_module": "@jupyter-widgets/controls",
            "_view_module_version": "1.5.0",
            "_view_name": "ButtonView",
            "button_style": "primary",
            "description": "Reset",
            "disabled": false,
            "icon": "history",
            "layout": "IPY_MODEL_8e8184fed80449429f40dfb3acc9311b",
            "style": "IPY_MODEL_d3669c46a9fc4b3d9630cf61e860de87",
            "tooltip": ""
          }
        },
        "e69a459967c14a6ab37f21411c27a3ac": {
          "model_module": "@jupyter-widgets/controls",
          "model_name": "HBoxModel",
          "model_module_version": "1.5.0",
          "state": {
            "_dom_classes": [],
            "_model_module": "@jupyter-widgets/controls",
            "_model_module_version": "1.5.0",
            "_model_name": "HBoxModel",
            "_view_count": null,
            "_view_module": "@jupyter-widgets/controls",
            "_view_module_version": "1.5.0",
            "_view_name": "HBoxView",
            "box_style": "",
            "children": [
              "IPY_MODEL_49240f63ec3f46298ee0c59c6a310a1b",
              "IPY_MODEL_5fa273bdd02146e09464d30f48d57593"
            ],
            "layout": "IPY_MODEL_73885fe9bdd94dc0b07b189159a69457"
          }
        },
        "878f1f33a4c44a3a9bcfd37386f59b5c": {
          "model_module": "@jupyter-widgets/controls",
          "model_name": "HBoxModel",
          "model_module_version": "1.5.0",
          "state": {
            "_dom_classes": [],
            "_model_module": "@jupyter-widgets/controls",
            "_model_module_version": "1.5.0",
            "_model_name": "HBoxModel",
            "_view_count": null,
            "_view_module": "@jupyter-widgets/controls",
            "_view_module_version": "1.5.0",
            "_view_name": "HBoxView",
            "box_style": "",
            "children": [
              "IPY_MODEL_5ab512bf50c94f5ca547b37866d5c0ff",
              "IPY_MODEL_9b47b2a1ef0649ecaab013cf6251899a"
            ],
            "layout": "IPY_MODEL_2efcddea794b4b9ebef751d15c8979f4"
          }
        },
        "6a9e3e54fb9c4677a02ab4a138448957": {
          "model_module": "@jupyter-widgets/base",
          "model_name": "LayoutModel",
          "model_module_version": "1.2.0",
          "state": {
            "_model_module": "@jupyter-widgets/base",
            "_model_module_version": "1.2.0",
            "_model_name": "LayoutModel",
            "_view_count": null,
            "_view_module": "@jupyter-widgets/base",
            "_view_module_version": "1.2.0",
            "_view_name": "LayoutView",
            "align_content": null,
            "align_items": null,
            "align_self": null,
            "border": null,
            "bottom": null,
            "display": null,
            "flex": null,
            "flex_flow": null,
            "grid_area": null,
            "grid_auto_columns": null,
            "grid_auto_flow": null,
            "grid_auto_rows": null,
            "grid_column": null,
            "grid_gap": null,
            "grid_row": null,
            "grid_template_areas": null,
            "grid_template_columns": null,
            "grid_template_rows": null,
            "height": null,
            "justify_content": null,
            "justify_items": null,
            "left": null,
            "margin": null,
            "max_height": null,
            "max_width": null,
            "min_height": null,
            "min_width": null,
            "object_fit": null,
            "object_position": null,
            "order": null,
            "overflow": null,
            "overflow_x": null,
            "overflow_y": null,
            "padding": null,
            "right": null,
            "top": null,
            "visibility": null,
            "width": null
          }
        },
        "8e8184fed80449429f40dfb3acc9311b": {
          "model_module": "@jupyter-widgets/base",
          "model_name": "LayoutModel",
          "model_module_version": "1.2.0",
          "state": {
            "_model_module": "@jupyter-widgets/base",
            "_model_module_version": "1.2.0",
            "_model_name": "LayoutModel",
            "_view_count": null,
            "_view_module": "@jupyter-widgets/base",
            "_view_module_version": "1.2.0",
            "_view_name": "LayoutView",
            "align_content": null,
            "align_items": null,
            "align_self": null,
            "border": null,
            "bottom": null,
            "display": null,
            "flex": null,
            "flex_flow": null,
            "grid_area": null,
            "grid_auto_columns": null,
            "grid_auto_flow": null,
            "grid_auto_rows": null,
            "grid_column": null,
            "grid_gap": null,
            "grid_row": null,
            "grid_template_areas": null,
            "grid_template_columns": null,
            "grid_template_rows": null,
            "height": null,
            "justify_content": null,
            "justify_items": null,
            "left": null,
            "margin": null,
            "max_height": null,
            "max_width": null,
            "min_height": null,
            "min_width": null,
            "object_fit": null,
            "object_position": null,
            "order": null,
            "overflow": null,
            "overflow_x": null,
            "overflow_y": null,
            "padding": null,
            "right": null,
            "top": null,
            "visibility": null,
            "width": null
          }
        },
        "d3669c46a9fc4b3d9630cf61e860de87": {
          "model_module": "@jupyter-widgets/controls",
          "model_name": "ButtonStyleModel",
          "model_module_version": "1.5.0",
          "state": {
            "_model_module": "@jupyter-widgets/controls",
            "_model_module_version": "1.5.0",
            "_model_name": "ButtonStyleModel",
            "_view_count": null,
            "_view_module": "@jupyter-widgets/base",
            "_view_module_version": "1.2.0",
            "_view_name": "StyleView",
            "button_color": null,
            "font_weight": ""
          }
        },
        "49240f63ec3f46298ee0c59c6a310a1b": {
          "model_module": "@jupyter-widgets/controls",
          "model_name": "VBoxModel",
          "model_module_version": "1.5.0",
          "state": {
            "_dom_classes": [],
            "_model_module": "@jupyter-widgets/controls",
            "_model_module_version": "1.5.0",
            "_model_name": "VBoxModel",
            "_view_count": null,
            "_view_module": "@jupyter-widgets/controls",
            "_view_module_version": "1.5.0",
            "_view_name": "VBoxView",
            "box_style": "",
            "children": [
              "IPY_MODEL_5c7f6dd8557a4606a65648f99e60a233",
              "IPY_MODEL_191be343c7694559901c779d3070878a",
              "IPY_MODEL_cc335c3ef32d49c4a752d1b13c4da719"
            ],
            "layout": "IPY_MODEL_d072b357b0e44244954c2ce14badcaca"
          }
        },
        "5fa273bdd02146e09464d30f48d57593": {
          "model_module": "@jupyter-widgets/controls",
          "model_name": "VBoxModel",
          "model_module_version": "1.5.0",
          "state": {
            "_dom_classes": [],
            "_model_module": "@jupyter-widgets/controls",
            "_model_module_version": "1.5.0",
            "_model_name": "VBoxModel",
            "_view_count": null,
            "_view_module": "@jupyter-widgets/controls",
            "_view_module_version": "1.5.0",
            "_view_name": "VBoxView",
            "box_style": "",
            "children": [
              "IPY_MODEL_c5b6a87b3a0446d4b681e22059b30b31",
              "IPY_MODEL_1a96713c4fad43b39d60ebe9f2e3e953",
              "IPY_MODEL_d6610485c72543689ac080f8acdd0656"
            ],
            "layout": "IPY_MODEL_ee0e332db8b347c8bffedd535853c7af"
          }
        },
        "73885fe9bdd94dc0b07b189159a69457": {
          "model_module": "@jupyter-widgets/base",
          "model_name": "LayoutModel",
          "model_module_version": "1.2.0",
          "state": {
            "_model_module": "@jupyter-widgets/base",
            "_model_module_version": "1.2.0",
            "_model_name": "LayoutModel",
            "_view_count": null,
            "_view_module": "@jupyter-widgets/base",
            "_view_module_version": "1.2.0",
            "_view_name": "LayoutView",
            "align_content": null,
            "align_items": null,
            "align_self": null,
            "border": null,
            "bottom": null,
            "display": null,
            "flex": null,
            "flex_flow": null,
            "grid_area": null,
            "grid_auto_columns": null,
            "grid_auto_flow": null,
            "grid_auto_rows": null,
            "grid_column": null,
            "grid_gap": null,
            "grid_row": null,
            "grid_template_areas": null,
            "grid_template_columns": null,
            "grid_template_rows": null,
            "height": null,
            "justify_content": null,
            "justify_items": null,
            "left": null,
            "margin": null,
            "max_height": null,
            "max_width": null,
            "min_height": null,
            "min_width": null,
            "object_fit": null,
            "object_position": null,
            "order": null,
            "overflow": null,
            "overflow_x": null,
            "overflow_y": null,
            "padding": null,
            "right": null,
            "top": null,
            "visibility": null,
            "width": null
          }
        },
        "5ab512bf50c94f5ca547b37866d5c0ff": {
          "model_module": "@jupyter-widgets/controls",
          "model_name": "VBoxModel",
          "model_module_version": "1.5.0",
          "state": {
            "_dom_classes": [],
            "_model_module": "@jupyter-widgets/controls",
            "_model_module_version": "1.5.0",
            "_model_name": "VBoxModel",
            "_view_count": null,
            "_view_module": "@jupyter-widgets/controls",
            "_view_module_version": "1.5.0",
            "_view_name": "VBoxView",
            "box_style": "",
            "children": [
              "IPY_MODEL_31e79c3ac4bd44e8b80d7438812057b0",
              "IPY_MODEL_897848ee960c4089a621a4cb84596d56"
            ],
            "layout": "IPY_MODEL_e474825ac29246ba8154ec7854cdfcfb"
          }
        },
        "9b47b2a1ef0649ecaab013cf6251899a": {
          "model_module": "@jupyter-widgets/controls",
          "model_name": "FloatSliderModel",
          "model_module_version": "1.5.0",
          "state": {
            "_dom_classes": [],
            "_model_module": "@jupyter-widgets/controls",
            "_model_module_version": "1.5.0",
            "_model_name": "FloatSliderModel",
            "_view_count": null,
            "_view_module": "@jupyter-widgets/controls",
            "_view_module_version": "1.5.0",
            "_view_name": "FloatSliderView",
            "continuous_update": false,
            "description": "elev (deg)",
            "description_tooltip": null,
            "disabled": false,
            "layout": "IPY_MODEL_25148bcfe573473fb74d415906fc4a99",
            "max": 90,
            "min": -90,
            "orientation": "vertical",
            "readout": true,
            "readout_format": ".0f",
            "step": 1,
            "style": "IPY_MODEL_097a45a866bf42198f63ecac44ae9bf7",
            "value": -10
          }
        },
        "2efcddea794b4b9ebef751d15c8979f4": {
          "model_module": "@jupyter-widgets/base",
          "model_name": "LayoutModel",
          "model_module_version": "1.2.0",
          "state": {
            "_model_module": "@jupyter-widgets/base",
            "_model_module_version": "1.2.0",
            "_model_name": "LayoutModel",
            "_view_count": null,
            "_view_module": "@jupyter-widgets/base",
            "_view_module_version": "1.2.0",
            "_view_name": "LayoutView",
            "align_content": null,
            "align_items": null,
            "align_self": null,
            "border": null,
            "bottom": null,
            "display": null,
            "flex": null,
            "flex_flow": null,
            "grid_area": null,
            "grid_auto_columns": null,
            "grid_auto_flow": null,
            "grid_auto_rows": null,
            "grid_column": null,
            "grid_gap": null,
            "grid_row": null,
            "grid_template_areas": null,
            "grid_template_columns": null,
            "grid_template_rows": null,
            "height": null,
            "justify_content": null,
            "justify_items": null,
            "left": null,
            "margin": null,
            "max_height": null,
            "max_width": null,
            "min_height": null,
            "min_width": null,
            "object_fit": null,
            "object_position": null,
            "order": null,
            "overflow": null,
            "overflow_x": null,
            "overflow_y": null,
            "padding": null,
            "right": null,
            "top": null,
            "visibility": null,
            "width": null
          }
        },
        "5c7f6dd8557a4606a65648f99e60a233": {
          "model_module": "@jupyter-widgets/controls",
          "model_name": "FloatSliderModel",
          "model_module_version": "1.5.0",
          "state": {
            "_dom_classes": [],
            "_model_module": "@jupyter-widgets/controls",
            "_model_module_version": "1.5.0",
            "_model_name": "FloatSliderModel",
            "_view_count": null,
            "_view_module": "@jupyter-widgets/controls",
            "_view_module_version": "1.5.0",
            "_view_name": "FloatSliderView",
            "continuous_update": false,
            "description": "x (um)",
            "description_tooltip": null,
            "disabled": false,
            "layout": "IPY_MODEL_b7841d3f7246493d9e626b3661ee3250",
            "max": 200,
            "min": -200,
            "orientation": "horizontal",
            "readout": true,
            "readout_format": ".0f",
            "step": 1,
            "style": "IPY_MODEL_67325b5a96df44819cfc6df18b4ab9d2",
            "value": 0
          }
        },
        "191be343c7694559901c779d3070878a": {
          "model_module": "@jupyter-widgets/controls",
          "model_name": "FloatSliderModel",
          "model_module_version": "1.5.0",
          "state": {
            "_dom_classes": [],
            "_model_module": "@jupyter-widgets/controls",
            "_model_module_version": "1.5.0",
            "_model_name": "FloatSliderModel",
            "_view_count": null,
            "_view_module": "@jupyter-widgets/controls",
            "_view_module_version": "1.5.0",
            "_view_name": "FloatSliderView",
            "continuous_update": false,
            "description": "y (um)",
            "description_tooltip": null,
            "disabled": false,
            "layout": "IPY_MODEL_e5ae36a5b9394d40a3f4a3d70a1249c9",
            "max": 1000,
            "min": -1000,
            "orientation": "horizontal",
            "readout": true,
            "readout_format": ".0f",
            "step": 1,
            "style": "IPY_MODEL_4dfae6096c63402c95d9f3c46b02a0db",
            "value": 0
          }
        },
        "cc335c3ef32d49c4a752d1b13c4da719": {
          "model_module": "@jupyter-widgets/controls",
          "model_name": "FloatSliderModel",
          "model_module_version": "1.5.0",
          "state": {
            "_dom_classes": [],
            "_model_module": "@jupyter-widgets/controls",
            "_model_module_version": "1.5.0",
            "_model_name": "FloatSliderModel",
            "_view_count": null,
            "_view_module": "@jupyter-widgets/controls",
            "_view_module_version": "1.5.0",
            "_view_name": "FloatSliderView",
            "continuous_update": false,
            "description": "z (um)",
            "description_tooltip": null,
            "disabled": false,
            "layout": "IPY_MODEL_932fa7d194ed461ea726e0c403c96975",
            "max": 400,
            "min": 20,
            "orientation": "horizontal",
            "readout": true,
            "readout_format": ".0f",
            "step": 1,
            "style": "IPY_MODEL_dbafeccfc40845618d15b86c41603491",
            "value": 80
          }
        },
        "d072b357b0e44244954c2ce14badcaca": {
          "model_module": "@jupyter-widgets/base",
          "model_name": "LayoutModel",
          "model_module_version": "1.2.0",
          "state": {
            "_model_module": "@jupyter-widgets/base",
            "_model_module_version": "1.2.0",
            "_model_name": "LayoutModel",
            "_view_count": null,
            "_view_module": "@jupyter-widgets/base",
            "_view_module_version": "1.2.0",
            "_view_name": "LayoutView",
            "align_content": null,
            "align_items": null,
            "align_self": null,
            "border": null,
            "bottom": null,
            "display": null,
            "flex": null,
            "flex_flow": null,
            "grid_area": null,
            "grid_auto_columns": null,
            "grid_auto_flow": null,
            "grid_auto_rows": null,
            "grid_column": null,
            "grid_gap": null,
            "grid_row": null,
            "grid_template_areas": null,
            "grid_template_columns": null,
            "grid_template_rows": null,
            "height": null,
            "justify_content": null,
            "justify_items": null,
            "left": null,
            "margin": null,
            "max_height": null,
            "max_width": null,
            "min_height": null,
            "min_width": null,
            "object_fit": null,
            "object_position": null,
            "order": null,
            "overflow": null,
            "overflow_x": null,
            "overflow_y": null,
            "padding": null,
            "right": null,
            "top": null,
            "visibility": null,
            "width": null
          }
        },
        "c5b6a87b3a0446d4b681e22059b30b31": {
          "model_module": "@jupyter-widgets/controls",
          "model_name": "FloatSliderModel",
          "model_module_version": "1.5.0",
          "state": {
            "_dom_classes": [],
            "_model_module": "@jupyter-widgets/controls",
            "_model_module_version": "1.5.0",
            "_model_name": "FloatSliderModel",
            "_view_count": null,
            "_view_module": "@jupyter-widgets/controls",
            "_view_module_version": "1.5.0",
            "_view_name": "FloatSliderView",
            "continuous_update": false,
            "description": "alpha (deg)",
            "description_tooltip": null,
            "disabled": false,
            "layout": "IPY_MODEL_476369f1ee1f47439bc0031fd828cb41",
            "max": 180,
            "min": -180,
            "orientation": "horizontal",
            "readout": true,
            "readout_format": ".0f",
            "step": 1,
            "style": "IPY_MODEL_29ea211d89ab4b689f567c15a0d1f1b4",
            "value": 0
          }
        },
        "1a96713c4fad43b39d60ebe9f2e3e953": {
          "model_module": "@jupyter-widgets/controls",
          "model_name": "FloatSliderModel",
          "model_module_version": "1.5.0",
          "state": {
            "_dom_classes": [],
            "_model_module": "@jupyter-widgets/controls",
            "_model_module_version": "1.5.0",
            "_model_name": "FloatSliderModel",
            "_view_count": null,
            "_view_module": "@jupyter-widgets/controls",
            "_view_module_version": "1.5.0",
            "_view_name": "FloatSliderView",
            "continuous_update": false,
            "description": "beta (deg)",
            "description_tooltip": null,
            "disabled": false,
            "layout": "IPY_MODEL_6147f1cf078d4bd4add6e3f4dd6e1229",
            "max": 180,
            "min": 0,
            "orientation": "horizontal",
            "readout": true,
            "readout_format": ".0f",
            "step": 1,
            "style": "IPY_MODEL_9e0861fe188844fbb4d48ec5b92dd62c",
            "value": 0
          }
        },
        "d6610485c72543689ac080f8acdd0656": {
          "model_module": "@jupyter-widgets/controls",
          "model_name": "FloatSliderModel",
          "model_module_version": "1.5.0",
          "state": {
            "_dom_classes": [],
            "_model_module": "@jupyter-widgets/controls",
            "_model_module_version": "1.5.0",
            "_model_name": "FloatSliderModel",
            "_view_count": null,
            "_view_module": "@jupyter-widgets/controls",
            "_view_module_version": "1.5.0",
            "_view_name": "FloatSliderView",
            "continuous_update": false,
            "description": "phi (deg)",
            "description_tooltip": null,
            "disabled": false,
            "layout": "IPY_MODEL_d618f133251f4c138950b9826d9e5593",
            "max": 180,
            "min": -180,
            "orientation": "horizontal",
            "readout": true,
            "readout_format": ".0f",
            "step": 1,
            "style": "IPY_MODEL_9294ee8d754b41148881d6aaf05e8202",
            "value": 0
          }
        },
        "ee0e332db8b347c8bffedd535853c7af": {
          "model_module": "@jupyter-widgets/base",
          "model_name": "LayoutModel",
          "model_module_version": "1.2.0",
          "state": {
            "_model_module": "@jupyter-widgets/base",
            "_model_module_version": "1.2.0",
            "_model_name": "LayoutModel",
            "_view_count": null,
            "_view_module": "@jupyter-widgets/base",
            "_view_module_version": "1.2.0",
            "_view_name": "LayoutView",
            "align_content": null,
            "align_items": null,
            "align_self": null,
            "border": null,
            "bottom": null,
            "display": null,
            "flex": null,
            "flex_flow": null,
            "grid_area": null,
            "grid_auto_columns": null,
            "grid_auto_flow": null,
            "grid_auto_rows": null,
            "grid_column": null,
            "grid_gap": null,
            "grid_row": null,
            "grid_template_areas": null,
            "grid_template_columns": null,
            "grid_template_rows": null,
            "height": null,
            "justify_content": null,
            "justify_items": null,
            "left": null,
            "margin": null,
            "max_height": null,
            "max_width": null,
            "min_height": null,
            "min_width": null,
            "object_fit": null,
            "object_position": null,
            "order": null,
            "overflow": null,
            "overflow_x": null,
            "overflow_y": null,
            "padding": null,
            "right": null,
            "top": null,
            "visibility": null,
            "width": null
          }
        },
        "31e79c3ac4bd44e8b80d7438812057b0": {
          "model_module": "@jupyter-widgets/output",
          "model_name": "OutputModel",
          "model_module_version": "1.0.0",
          "state": {
            "_dom_classes": [],
            "_model_module": "@jupyter-widgets/output",
            "_model_module_version": "1.0.0",
            "_model_name": "OutputModel",
            "_view_count": null,
            "_view_module": "@jupyter-widgets/output",
            "_view_module_version": "1.0.0",
            "_view_name": "OutputView",
            "layout": "IPY_MODEL_25cbe1a0b7ca4eb789211d2feab1b006",
            "msg_id": "",
            "outputs": [
              {
                "output_type": "display_data",
                "data": {
                  "text/plain": "<Figure size 1200x800 with 2 Axes>",
                  "image/png": "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\n"
                },
                "metadata": {}
              }
            ]
          }
        },
        "897848ee960c4089a621a4cb84596d56": {
          "model_module": "@jupyter-widgets/controls",
          "model_name": "FloatSliderModel",
          "model_module_version": "1.5.0",
          "state": {
            "_dom_classes": [],
            "_model_module": "@jupyter-widgets/controls",
            "_model_module_version": "1.5.0",
            "_model_name": "FloatSliderModel",
            "_view_count": null,
            "_view_module": "@jupyter-widgets/controls",
            "_view_module_version": "1.5.0",
            "_view_name": "FloatSliderView",
            "continuous_update": false,
            "description": "azim (deg)",
            "description_tooltip": null,
            "disabled": false,
            "layout": "IPY_MODEL_b337bd7140dd4f32b9176cd2e67980c8",
            "max": 180,
            "min": -180,
            "orientation": "horizontal",
            "readout": true,
            "readout_format": ".0f",
            "step": 1,
            "style": "IPY_MODEL_8cbdcb9334414f8e8a3a8e0b095d1ab2",
            "value": -90
          }
        },
        "e474825ac29246ba8154ec7854cdfcfb": {
          "model_module": "@jupyter-widgets/base",
          "model_name": "LayoutModel",
          "model_module_version": "1.2.0",
          "state": {
            "_model_module": "@jupyter-widgets/base",
            "_model_module_version": "1.2.0",
            "_model_name": "LayoutModel",
            "_view_count": null,
            "_view_module": "@jupyter-widgets/base",
            "_view_module_version": "1.2.0",
            "_view_name": "LayoutView",
            "align_content": null,
            "align_items": null,
            "align_self": null,
            "border": null,
            "bottom": null,
            "display": null,
            "flex": null,
            "flex_flow": null,
            "grid_area": null,
            "grid_auto_columns": null,
            "grid_auto_flow": null,
            "grid_auto_rows": null,
            "grid_column": null,
            "grid_gap": null,
            "grid_row": null,
            "grid_template_areas": null,
            "grid_template_columns": null,
            "grid_template_rows": null,
            "height": null,
            "justify_content": null,
            "justify_items": null,
            "left": null,
            "margin": null,
            "max_height": null,
            "max_width": null,
            "min_height": null,
            "min_width": null,
            "object_fit": null,
            "object_position": null,
            "order": null,
            "overflow": null,
            "overflow_x": null,
            "overflow_y": null,
            "padding": null,
            "right": null,
            "top": null,
            "visibility": null,
            "width": null
          }
        },
        "25148bcfe573473fb74d415906fc4a99": {
          "model_module": "@jupyter-widgets/base",
          "model_name": "LayoutModel",
          "model_module_version": "1.2.0",
          "state": {
            "_model_module": "@jupyter-widgets/base",
            "_model_module_version": "1.2.0",
            "_model_name": "LayoutModel",
            "_view_count": null,
            "_view_module": "@jupyter-widgets/base",
            "_view_module_version": "1.2.0",
            "_view_name": "LayoutView",
            "align_content": null,
            "align_items": null,
            "align_self": null,
            "border": null,
            "bottom": null,
            "display": null,
            "flex": null,
            "flex_flow": null,
            "grid_area": null,
            "grid_auto_columns": null,
            "grid_auto_flow": null,
            "grid_auto_rows": null,
            "grid_column": null,
            "grid_gap": null,
            "grid_row": null,
            "grid_template_areas": null,
            "grid_template_columns": null,
            "grid_template_rows": null,
            "height": "350px",
            "justify_content": null,
            "justify_items": null,
            "left": null,
            "margin": null,
            "max_height": null,
            "max_width": null,
            "min_height": null,
            "min_width": null,
            "object_fit": null,
            "object_position": null,
            "order": null,
            "overflow": null,
            "overflow_x": null,
            "overflow_y": null,
            "padding": null,
            "right": null,
            "top": null,
            "visibility": null,
            "width": null
          }
        },
        "097a45a866bf42198f63ecac44ae9bf7": {
          "model_module": "@jupyter-widgets/controls",
          "model_name": "SliderStyleModel",
          "model_module_version": "1.5.0",
          "state": {
            "_model_module": "@jupyter-widgets/controls",
            "_model_module_version": "1.5.0",
            "_model_name": "SliderStyleModel",
            "_view_count": null,
            "_view_module": "@jupyter-widgets/base",
            "_view_module_version": "1.2.0",
            "_view_name": "StyleView",
            "description_width": "",
            "handle_color": null
          }
        },
        "b7841d3f7246493d9e626b3661ee3250": {
          "model_module": "@jupyter-widgets/base",
          "model_name": "LayoutModel",
          "model_module_version": "1.2.0",
          "state": {
            "_model_module": "@jupyter-widgets/base",
            "_model_module_version": "1.2.0",
            "_model_name": "LayoutModel",
            "_view_count": null,
            "_view_module": "@jupyter-widgets/base",
            "_view_module_version": "1.2.0",
            "_view_name": "LayoutView",
            "align_content": null,
            "align_items": null,
            "align_self": null,
            "border": null,
            "bottom": null,
            "display": null,
            "flex": null,
            "flex_flow": null,
            "grid_area": null,
            "grid_auto_columns": null,
            "grid_auto_flow": null,
            "grid_auto_rows": null,
            "grid_column": null,
            "grid_gap": null,
            "grid_row": null,
            "grid_template_areas": null,
            "grid_template_columns": null,
            "grid_template_rows": null,
            "height": null,
            "justify_content": null,
            "justify_items": null,
            "left": null,
            "margin": null,
            "max_height": null,
            "max_width": null,
            "min_height": null,
            "min_width": null,
            "object_fit": null,
            "object_position": null,
            "order": null,
            "overflow": null,
            "overflow_x": null,
            "overflow_y": null,
            "padding": null,
            "right": null,
            "top": null,
            "visibility": null,
            "width": null
          }
        },
        "67325b5a96df44819cfc6df18b4ab9d2": {
          "model_module": "@jupyter-widgets/controls",
          "model_name": "SliderStyleModel",
          "model_module_version": "1.5.0",
          "state": {
            "_model_module": "@jupyter-widgets/controls",
            "_model_module_version": "1.5.0",
            "_model_name": "SliderStyleModel",
            "_view_count": null,
            "_view_module": "@jupyter-widgets/base",
            "_view_module_version": "1.2.0",
            "_view_name": "StyleView",
            "description_width": "",
            "handle_color": null
          }
        },
        "e5ae36a5b9394d40a3f4a3d70a1249c9": {
          "model_module": "@jupyter-widgets/base",
          "model_name": "LayoutModel",
          "model_module_version": "1.2.0",
          "state": {
            "_model_module": "@jupyter-widgets/base",
            "_model_module_version": "1.2.0",
            "_model_name": "LayoutModel",
            "_view_count": null,
            "_view_module": "@jupyter-widgets/base",
            "_view_module_version": "1.2.0",
            "_view_name": "LayoutView",
            "align_content": null,
            "align_items": null,
            "align_self": null,
            "border": null,
            "bottom": null,
            "display": null,
            "flex": null,
            "flex_flow": null,
            "grid_area": null,
            "grid_auto_columns": null,
            "grid_auto_flow": null,
            "grid_auto_rows": null,
            "grid_column": null,
            "grid_gap": null,
            "grid_row": null,
            "grid_template_areas": null,
            "grid_template_columns": null,
            "grid_template_rows": null,
            "height": null,
            "justify_content": null,
            "justify_items": null,
            "left": null,
            "margin": null,
            "max_height": null,
            "max_width": null,
            "min_height": null,
            "min_width": null,
            "object_fit": null,
            "object_position": null,
            "order": null,
            "overflow": null,
            "overflow_x": null,
            "overflow_y": null,
            "padding": null,
            "right": null,
            "top": null,
            "visibility": null,
            "width": null
          }
        },
        "4dfae6096c63402c95d9f3c46b02a0db": {
          "model_module": "@jupyter-widgets/controls",
          "model_name": "SliderStyleModel",
          "model_module_version": "1.5.0",
          "state": {
            "_model_module": "@jupyter-widgets/controls",
            "_model_module_version": "1.5.0",
            "_model_name": "SliderStyleModel",
            "_view_count": null,
            "_view_module": "@jupyter-widgets/base",
            "_view_module_version": "1.2.0",
            "_view_name": "StyleView",
            "description_width": "",
            "handle_color": null
          }
        },
        "932fa7d194ed461ea726e0c403c96975": {
          "model_module": "@jupyter-widgets/base",
          "model_name": "LayoutModel",
          "model_module_version": "1.2.0",
          "state": {
            "_model_module": "@jupyter-widgets/base",
            "_model_module_version": "1.2.0",
            "_model_name": "LayoutModel",
            "_view_count": null,
            "_view_module": "@jupyter-widgets/base",
            "_view_module_version": "1.2.0",
            "_view_name": "LayoutView",
            "align_content": null,
            "align_items": null,
            "align_self": null,
            "border": null,
            "bottom": null,
            "display": null,
            "flex": null,
            "flex_flow": null,
            "grid_area": null,
            "grid_auto_columns": null,
            "grid_auto_flow": null,
            "grid_auto_rows": null,
            "grid_column": null,
            "grid_gap": null,
            "grid_row": null,
            "grid_template_areas": null,
            "grid_template_columns": null,
            "grid_template_rows": null,
            "height": null,
            "justify_content": null,
            "justify_items": null,
            "left": null,
            "margin": null,
            "max_height": null,
            "max_width": null,
            "min_height": null,
            "min_width": null,
            "object_fit": null,
            "object_position": null,
            "order": null,
            "overflow": null,
            "overflow_x": null,
            "overflow_y": null,
            "padding": null,
            "right": null,
            "top": null,
            "visibility": null,
            "width": null
          }
        },
        "dbafeccfc40845618d15b86c41603491": {
          "model_module": "@jupyter-widgets/controls",
          "model_name": "SliderStyleModel",
          "model_module_version": "1.5.0",
          "state": {
            "_model_module": "@jupyter-widgets/controls",
            "_model_module_version": "1.5.0",
            "_model_name": "SliderStyleModel",
            "_view_count": null,
            "_view_module": "@jupyter-widgets/base",
            "_view_module_version": "1.2.0",
            "_view_name": "StyleView",
            "description_width": "",
            "handle_color": null
          }
        },
        "476369f1ee1f47439bc0031fd828cb41": {
          "model_module": "@jupyter-widgets/base",
          "model_name": "LayoutModel",
          "model_module_version": "1.2.0",
          "state": {
            "_model_module": "@jupyter-widgets/base",
            "_model_module_version": "1.2.0",
            "_model_name": "LayoutModel",
            "_view_count": null,
            "_view_module": "@jupyter-widgets/base",
            "_view_module_version": "1.2.0",
            "_view_name": "LayoutView",
            "align_content": null,
            "align_items": null,
            "align_self": null,
            "border": null,
            "bottom": null,
            "display": null,
            "flex": null,
            "flex_flow": null,
            "grid_area": null,
            "grid_auto_columns": null,
            "grid_auto_flow": null,
            "grid_auto_rows": null,
            "grid_column": null,
            "grid_gap": null,
            "grid_row": null,
            "grid_template_areas": null,
            "grid_template_columns": null,
            "grid_template_rows": null,
            "height": null,
            "justify_content": null,
            "justify_items": null,
            "left": null,
            "margin": null,
            "max_height": null,
            "max_width": null,
            "min_height": null,
            "min_width": null,
            "object_fit": null,
            "object_position": null,
            "order": null,
            "overflow": null,
            "overflow_x": null,
            "overflow_y": null,
            "padding": null,
            "right": null,
            "top": null,
            "visibility": null,
            "width": null
          }
        },
        "29ea211d89ab4b689f567c15a0d1f1b4": {
          "model_module": "@jupyter-widgets/controls",
          "model_name": "SliderStyleModel",
          "model_module_version": "1.5.0",
          "state": {
            "_model_module": "@jupyter-widgets/controls",
            "_model_module_version": "1.5.0",
            "_model_name": "SliderStyleModel",
            "_view_count": null,
            "_view_module": "@jupyter-widgets/base",
            "_view_module_version": "1.2.0",
            "_view_name": "StyleView",
            "description_width": "",
            "handle_color": null
          }
        },
        "6147f1cf078d4bd4add6e3f4dd6e1229": {
          "model_module": "@jupyter-widgets/base",
          "model_name": "LayoutModel",
          "model_module_version": "1.2.0",
          "state": {
            "_model_module": "@jupyter-widgets/base",
            "_model_module_version": "1.2.0",
            "_model_name": "LayoutModel",
            "_view_count": null,
            "_view_module": "@jupyter-widgets/base",
            "_view_module_version": "1.2.0",
            "_view_name": "LayoutView",
            "align_content": null,
            "align_items": null,
            "align_self": null,
            "border": null,
            "bottom": null,
            "display": null,
            "flex": null,
            "flex_flow": null,
            "grid_area": null,
            "grid_auto_columns": null,
            "grid_auto_flow": null,
            "grid_auto_rows": null,
            "grid_column": null,
            "grid_gap": null,
            "grid_row": null,
            "grid_template_areas": null,
            "grid_template_columns": null,
            "grid_template_rows": null,
            "height": null,
            "justify_content": null,
            "justify_items": null,
            "left": null,
            "margin": null,
            "max_height": null,
            "max_width": null,
            "min_height": null,
            "min_width": null,
            "object_fit": null,
            "object_position": null,
            "order": null,
            "overflow": null,
            "overflow_x": null,
            "overflow_y": null,
            "padding": null,
            "right": null,
            "top": null,
            "visibility": null,
            "width": null
          }
        },
        "9e0861fe188844fbb4d48ec5b92dd62c": {
          "model_module": "@jupyter-widgets/controls",
          "model_name": "SliderStyleModel",
          "model_module_version": "1.5.0",
          "state": {
            "_model_module": "@jupyter-widgets/controls",
            "_model_module_version": "1.5.0",
            "_model_name": "SliderStyleModel",
            "_view_count": null,
            "_view_module": "@jupyter-widgets/base",
            "_view_module_version": "1.2.0",
            "_view_name": "StyleView",
            "description_width": "",
            "handle_color": null
          }
        },
        "d618f133251f4c138950b9826d9e5593": {
          "model_module": "@jupyter-widgets/base",
          "model_name": "LayoutModel",
          "model_module_version": "1.2.0",
          "state": {
            "_model_module": "@jupyter-widgets/base",
            "_model_module_version": "1.2.0",
            "_model_name": "LayoutModel",
            "_view_count": null,
            "_view_module": "@jupyter-widgets/base",
            "_view_module_version": "1.2.0",
            "_view_name": "LayoutView",
            "align_content": null,
            "align_items": null,
            "align_self": null,
            "border": null,
            "bottom": null,
            "display": null,
            "flex": null,
            "flex_flow": null,
            "grid_area": null,
            "grid_auto_columns": null,
            "grid_auto_flow": null,
            "grid_auto_rows": null,
            "grid_column": null,
            "grid_gap": null,
            "grid_row": null,
            "grid_template_areas": null,
            "grid_template_columns": null,
            "grid_template_rows": null,
            "height": null,
            "justify_content": null,
            "justify_items": null,
            "left": null,
            "margin": null,
            "max_height": null,
            "max_width": null,
            "min_height": null,
            "min_width": null,
            "object_fit": null,
            "object_position": null,
            "order": null,
            "overflow": null,
            "overflow_x": null,
            "overflow_y": null,
            "padding": null,
            "right": null,
            "top": null,
            "visibility": null,
            "width": null
          }
        },
        "9294ee8d754b41148881d6aaf05e8202": {
          "model_module": "@jupyter-widgets/controls",
          "model_name": "SliderStyleModel",
          "model_module_version": "1.5.0",
          "state": {
            "_model_module": "@jupyter-widgets/controls",
            "_model_module_version": "1.5.0",
            "_model_name": "SliderStyleModel",
            "_view_count": null,
            "_view_module": "@jupyter-widgets/base",
            "_view_module_version": "1.2.0",
            "_view_name": "StyleView",
            "description_width": "",
            "handle_color": null
          }
        },
        "b337bd7140dd4f32b9176cd2e67980c8": {
          "model_module": "@jupyter-widgets/base",
          "model_name": "LayoutModel",
          "model_module_version": "1.2.0",
          "state": {
            "_model_module": "@jupyter-widgets/base",
            "_model_module_version": "1.2.0",
            "_model_name": "LayoutModel",
            "_view_count": null,
            "_view_module": "@jupyter-widgets/base",
            "_view_module_version": "1.2.0",
            "_view_name": "LayoutView",
            "align_content": null,
            "align_items": null,
            "align_self": null,
            "border": null,
            "bottom": null,
            "display": null,
            "flex": null,
            "flex_flow": null,
            "grid_area": null,
            "grid_auto_columns": null,
            "grid_auto_flow": null,
            "grid_auto_rows": null,
            "grid_column": null,
            "grid_gap": null,
            "grid_row": null,
            "grid_template_areas": null,
            "grid_template_columns": null,
            "grid_template_rows": null,
            "height": null,
            "justify_content": null,
            "justify_items": null,
            "left": null,
            "margin": null,
            "max_height": null,
            "max_width": null,
            "min_height": null,
            "min_width": null,
            "object_fit": null,
            "object_position": null,
            "order": null,
            "overflow": null,
            "overflow_x": null,
            "overflow_y": null,
            "padding": null,
            "right": null,
            "top": null,
            "visibility": null,
            "width": "500px"
          }
        },
        "8cbdcb9334414f8e8a3a8e0b095d1ab2": {
          "model_module": "@jupyter-widgets/controls",
          "model_name": "SliderStyleModel",
          "model_module_version": "1.5.0",
          "state": {
            "_model_module": "@jupyter-widgets/controls",
            "_model_module_version": "1.5.0",
            "_model_name": "SliderStyleModel",
            "_view_count": null,
            "_view_module": "@jupyter-widgets/base",
            "_view_module_version": "1.2.0",
            "_view_name": "StyleView",
            "description_width": "",
            "handle_color": null
          }
        },
        "25cbe1a0b7ca4eb789211d2feab1b006": {
          "model_module": "@jupyter-widgets/base",
          "model_name": "LayoutModel",
          "model_module_version": "1.2.0",
          "state": {
            "_model_module": "@jupyter-widgets/base",
            "_model_module_version": "1.2.0",
            "_model_name": "LayoutModel",
            "_view_count": null,
            "_view_module": "@jupyter-widgets/base",
            "_view_module_version": "1.2.0",
            "_view_name": "LayoutView",
            "align_content": null,
            "align_items": null,
            "align_self": null,
            "border": null,
            "bottom": null,
            "display": null,
            "flex": null,
            "flex_flow": null,
            "grid_area": null,
            "grid_auto_columns": null,
            "grid_auto_flow": null,
            "grid_auto_rows": null,
            "grid_column": null,
            "grid_gap": null,
            "grid_row": null,
            "grid_template_areas": null,
            "grid_template_columns": null,
            "grid_template_rows": null,
            "height": null,
            "justify_content": null,
            "justify_items": null,
            "left": null,
            "margin": null,
            "max_height": null,
            "max_width": null,
            "min_height": null,
            "min_width": null,
            "object_fit": null,
            "object_position": null,
            "order": null,
            "overflow": null,
            "overflow_x": null,
            "overflow_y": null,
            "padding": null,
            "right": null,
            "top": null,
            "visibility": null,
            "width": null
          }
        }
      }
    }
  },
  "nbformat": 4,
  "nbformat_minor": 0
}