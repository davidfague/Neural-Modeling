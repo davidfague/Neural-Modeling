{
  "cells": [
    {
      "cell_type": "code",
      "execution_count": 1,
      "metadata": {
        "id": "HmntAVViB5I5"
      },
      "outputs": [],
      "source": [
        "is_colab = 'google.colab' in str(get_ipython())"
      ]
    },
    {
      "cell_type": "code",
      "execution_count": 2,
      "metadata": {
        "colab": {
          "base_uri": "https://localhost:8080/"
        },
        "id": "H70uwpCLCACm",
        "outputId": "98313ad1-18fa-467a-936d-da222e14dcc0"
      },
      "outputs": [
        {
          "output_type": "stream",
          "name": "stdout",
          "text": [
            "Cloning into 'Neural-Modeling'...\n",
            "remote: Enumerating objects: 996, done.\u001b[K\n",
            "remote: Counting objects: 100% (553/553), done.\u001b[K\n",
            "remote: Compressing objects: 100% (265/265), done.\u001b[K\n",
            "remote: Total 996 (delta 358), reused 435 (delta 285), pack-reused 443\u001b[K\n",
            "Receiving objects: 100% (996/996), 8.46 MiB | 9.17 MiB/s, done.\n",
            "Resolving deltas: 100% (629/629), done.\n",
            "Mounted at /content/drive\n",
            "/content/drive/MyDrive\n"
          ]
        }
      ],
      "source": [
        "if is_colab:\n",
        "    !git clone https://github.com/davidfague/Neural-Modeling.git\n",
        "    from google.colab import drive\n",
        "    drive.mount('/content/drive')\n",
        "    %cd /content/drive/MyDrive/"
      ]
    },
    {
      "cell_type": "code",
      "execution_count": 3,
      "metadata": {
        "id": "3uBngP6CDMYT",
        "outputId": "44cb6b4f-3755-4b18-fc6e-a2ede01d95f9",
        "colab": {
          "base_uri": "https://localhost:8080/"
        }
      },
      "outputs": [
        {
          "output_type": "stream",
          "name": "stdout",
          "text": [
            "/content/Neural-Modeling\n"
          ]
        }
      ],
      "source": [
        "if is_colab:\n",
        "    %cd /content/Neural-Modeling\n",
        "\n",
        "import numpy as np\n",
        "import matplotlib.pyplot as plt\n",
        "from Modules.segment import SegmentManager"
      ]
    },
    {
      "cell_type": "code",
      "execution_count": 4,
      "metadata": {
        "id": "yIro-sKsCFGh"
      },
      "outputs": [],
      "source": [
        "output_folder = '/content/drive/MyDrive/L5PCtemplate[0]_60e-1Hz_642nseg_2000ms_108nbranch_29068NCs_29068nsyn'\n",
        "dt = 0.1\n",
        "\n",
        "sm = SegmentManager(output_folder, dt = dt)"
      ]
    },
    {
      "cell_type": "code",
      "execution_count": 5,
      "metadata": {
        "colab": {
          "base_uri": "https://localhost:8080/"
        },
        "id": "4zUKIumps9oD",
        "outputId": "932de4d4-1c19-40f8-dbb0-c1545faad28c"
      },
      "outputs": [
        {
          "output_type": "execute_result",
          "data": {
            "text/plain": [
              "array([18686])"
            ]
          },
          "metadata": {},
          "execution_count": 5
        }
      ],
      "source": [
        "threshold = 0.003 / 1000\n",
        "ms_within_somatic_spike = 2\n",
        "\n",
        "sm.get_na_lower_bounds_for_seg(sm.segments[0], threshold, ms_within_somatic_spike)"
      ]
    },
    {
      "cell_type": "code",
      "execution_count": 7,
      "metadata": {
        "id": "yk_jg9Bqusjy",
        "outputId": "1b149a0e-acd4-48e6-9d01-82a27a976d83",
        "colab": {
          "base_uri": "https://localhost:8080/",
          "height": 301
        }
      },
      "outputs": [
        {
          "output_type": "error",
          "ename": "IndexError",
          "evalue": "ignored",
          "traceback": [
            "\u001b[0;31m---------------------------------------------------------------------------\u001b[0m",
            "\u001b[0;31mIndexError\u001b[0m                                Traceback (most recent call last)",
            "\u001b[0;32m<ipython-input-7-2b3eb1a26b34>\u001b[0m in \u001b[0;36m<cell line: 1>\u001b[0;34m()\u001b[0m\n\u001b[0;32m----> 1\u001b[0;31m \u001b[0mna_lower_bounds\u001b[0m\u001b[0;34m,\u001b[0m \u001b[0mpeak_values\u001b[0m\u001b[0;34m,\u001b[0m \u001b[0mflattened_peak_values\u001b[0m \u001b[0;34m=\u001b[0m \u001b[0msm\u001b[0m\u001b[0;34m.\u001b[0m\u001b[0mget_na_lower_bounds_and_peaks\u001b[0m\u001b[0;34m(\u001b[0m\u001b[0mthreshold\u001b[0m\u001b[0;34m,\u001b[0m \u001b[0mms_within_somatic_spike\u001b[0m\u001b[0;34m)\u001b[0m\u001b[0;34m\u001b[0m\u001b[0;34m\u001b[0m\u001b[0m\n\u001b[0m",
            "\u001b[0;32m/content/Neural-Modeling/Modules/segment.py\u001b[0m in \u001b[0;36mget_na_lower_bounds_and_peaks\u001b[0;34m(self, threshold, ms_within_somatic_spike)\u001b[0m\n\u001b[1;32m    150\u001b[0m             \u001b[0mna_lower_bounds\u001b[0m\u001b[0;34m.\u001b[0m\u001b[0mappend\u001b[0m\u001b[0;34m(\u001b[0m\u001b[0mlb\u001b[0m\u001b[0;34m)\u001b[0m\u001b[0;34m\u001b[0m\u001b[0;34m\u001b[0m\u001b[0m\n\u001b[1;32m    151\u001b[0m \u001b[0;34m\u001b[0m\u001b[0m\n\u001b[0;32m--> 152\u001b[0;31m             \u001b[0mpeak\u001b[0m \u001b[0;34m=\u001b[0m \u001b[0mseg\u001b[0m\u001b[0;34m.\u001b[0m\u001b[0mgNaTa\u001b[0m\u001b[0;34m[\u001b[0m\u001b[0;34m(\u001b[0m\u001b[0mlb\u001b[0m \u001b[0;34m+\u001b[0m \u001b[0;36m1\u001b[0m \u001b[0;34m/\u001b[0m \u001b[0mself\u001b[0m\u001b[0;34m.\u001b[0m\u001b[0mdt\u001b[0m\u001b[0;34m)\u001b[0m\u001b[0;34m.\u001b[0m\u001b[0mastype\u001b[0m\u001b[0;34m(\u001b[0m\u001b[0mint\u001b[0m\u001b[0;34m)\u001b[0m\u001b[0;34m]\u001b[0m\u001b[0;34m\u001b[0m\u001b[0;34m\u001b[0m\u001b[0m\n\u001b[0m\u001b[1;32m    153\u001b[0m             \u001b[0mpeak_values\u001b[0m\u001b[0;34m.\u001b[0m\u001b[0mappend\u001b[0m\u001b[0;34m(\u001b[0m\u001b[0mpeak\u001b[0m\u001b[0;34m)\u001b[0m\u001b[0;34m\u001b[0m\u001b[0;34m\u001b[0m\u001b[0m\n\u001b[1;32m    154\u001b[0m             \u001b[0mflattened_peak_values\u001b[0m\u001b[0;34m.\u001b[0m\u001b[0mextend\u001b[0m\u001b[0;34m(\u001b[0m\u001b[0mpeak\u001b[0m\u001b[0;34m.\u001b[0m\u001b[0mastype\u001b[0m\u001b[0;34m(\u001b[0m\u001b[0mfloat\u001b[0m\u001b[0;34m)\u001b[0m\u001b[0;34m.\u001b[0m\u001b[0mtolist\u001b[0m\u001b[0;34m(\u001b[0m\u001b[0;34m)\u001b[0m\u001b[0;34m)\u001b[0m\u001b[0;34m\u001b[0m\u001b[0;34m\u001b[0m\u001b[0m\n",
            "\u001b[0;31mIndexError\u001b[0m: index 20006 is out of bounds for axis 0 with size 20001"
          ]
        }
      ],
      "source": [
        "na_lower_bounds, peak_values, flattened_peak_values = sm.get_na_lower_bounds_and_peaks(threshold, ms_within_somatic_spike)"
      ]
    },
    {
      "cell_type": "code",
      "execution_count": null,
      "metadata": {
        "id": "QrOnWrj1H4SD"
      },
      "outputs": [],
      "source": [
        "plt.hist(np.array(flattened_peak_values), bins = 100);"
      ]
    },
    {
      "cell_type": "code",
      "execution_count": null,
      "metadata": {
        "id": "HpxfArUlWeKr"
      },
      "outputs": [],
      "source": [
        "edges_dend = sm.get_edges(na_lower_bounds, \"dend\")\n",
        "edges_apic = sm.get_edges(na_lower_bounds, \"apic\")"
      ]
    },
    {
      "cell_type": "code",
      "execution_count": null,
      "metadata": {
        "id": "wpwY4BuRXrPw"
      },
      "outputs": [],
      "source": [
        "edges_dend = np.zeros(11)"
      ]
    },
    {
      "cell_type": "code",
      "execution_count": null,
      "metadata": {
        "id": "FlBPth_INbmu"
      },
      "outputs": [],
      "source": [
        "na_dend = sm.get_sta(sm.soma_spiketimes, na_lower_bounds, edges_dend, \"dend\")\n",
        "na_apic = sm.get_sta(sm.soma_spiketimes, na_lower_bounds, edges_apic, \"apic\")"
      ]
    },
    {
      "cell_type": "code",
      "execution_count": null,
      "metadata": {
        "id": "2_GLcyv6Nnf4"
      },
      "outputs": [],
      "source": [
        "rand_spktimes = np.sort(np.random.choice(np.arange(0, 150000), sm.soma_spiketimes.shape[0]))\n",
        "na_dend_rand = sm.get_sta(rand_spktimes, na_lower_bounds, edges_dend, \"dend\")\n",
        "na_apic_rand = sm.get_sta(rand_spktimes, na_lower_bounds, edges_apic, \"apic\")"
      ]
    },
    {
      "cell_type": "code",
      "execution_count": null,
      "metadata": {
        "id": "M_qa4MJzNniN"
      },
      "outputs": [],
      "source": [
        "plt.figure(figsize=(10,10))\n",
        "plt.subplot(2,1,1)\n",
        "plt.title('Na spikes - apical')\n",
        "plt.imshow((na_apic-na_apic_rand)/len(sm.soma_spiketimes),cmap='jet')\n",
        "plt.colorbar(label='additional events per AP')\n",
        "plt.xticks(ticks=np.arange(0,40,5)-0.5,labels=['{}'.format(i) for i in np.arange(-20,20,5)])\n",
        "plt.yticks(ticks=[0,9],labels=['further','closer'])\n",
        "plt.xlim(5,35)\n",
        "\n",
        "plt.subplot(2,1,2)\n",
        "plt.title('Na spikes - basal')\n",
        "plt.imshow((na_dend-na_dend_rand)/len(sm.soma_spiketimes),cmap='jet',vmin=-0.2, vmax=0.2)\n",
        "plt.colorbar(label='additional events per AP')\n",
        "plt.xticks(ticks=np.arange(0,40,5)-0.5,labels=['{}'.format(i) for i in np.arange(-20,20,5)])\n",
        "plt.yticks(ticks=[0,9],labels=['further','closer'])\n",
        "plt.xlabel('time(ms)')\n",
        "plt.xlim(5,35)\n",
        "\n",
        "plt.show()"
      ]
    },
    {
      "cell_type": "code",
      "execution_count": null,
      "metadata": {
        "id": "WwGezT2eAQ8M"
      },
      "outputs": [],
      "source": [
        "lowery, uppery = 500, 1500"
      ]
    },
    {
      "cell_type": "code",
      "execution_count": null,
      "metadata": {
        "id": "eohll-AiDfRd"
      },
      "outputs": [],
      "source": [
        "ca_lower_bounds, _, _, _, _, _ = sm.get_ca_lower_bounds_durations_and_peaks(lowery, uppery)"
      ]
    },
    {
      "cell_type": "code",
      "execution_count": null,
      "metadata": {
        "id": "0UwEypV2a84X"
      },
      "outputs": [],
      "source": [
        "edges_ca = sm.get_edges(ca_lower_bounds)\n",
        "ca_apic = sm.get_sta(sm.soma_spiketimes, ca_lower_bounds, edges_ca, \"apic\")\n",
        "rand_spktimes = np.sort(np.random.choice(np.arange(0,150000), sm.soma_spiketimes.shape[0]))\n",
        "ca_apic_rand = sm.get_sta(rand_spktimes, ca_lower_bounds, edges_ca, \"apic\")"
      ]
    },
    {
      "cell_type": "code",
      "execution_count": null,
      "metadata": {
        "id": "HhqZva3Wg8wq"
      },
      "outputs": [],
      "source": [
        "plt.figure(figsize=(10,10))\n",
        "plt.subplot(2,1,1)\n",
        "plt.title('Ca2+ Spikes - Nexus')\n",
        "plt.imshow((ca_apic-ca_apic_rand)/len(sm.soma_spiketimes),cmap='jet')\n",
        "# plt.imshow((ca_apic-ca_apic_rand)/len(spktimes),cmap='jet',vmin=-1.5,vmax=1.5)\n",
        "# plt.imshow((ca_apic-ca_apic_rand)/len(spiketimes),cmap='jet',vmin=None,vmax=None)\n",
        "# plt.xticks(ticks=np.arange(0,40,2)-0.5,labels=['{}'.format(i) for i in np.arange(-20,20,2)])\n",
        "plt.xticks(ticks=np.arange(0,26,4)-0.5,labels=['{}'.format(i) for i in np.arange(-100,40,20)])\n",
        "plt.colorbar(label='Additional events per AP')\n",
        "# plt.yticks(ticks=[0,9],labels=['further','closer'])\n",
        "plt.yticks(ticks=[0,9],labels=['further','closer'])\n",
        "plt.savefig(output_folder+'/DetailedCaSpikes.png')\n",
        "plt.show()"
      ]
    },
    {
      "cell_type": "code",
      "execution_count": null,
      "metadata": {
        "id": "jbHCdlI1g-8n"
      },
      "outputs": [],
      "source": [
        "nmda_lower_bounds, _, _, _, _, _ = sm.get_ca_lower_bounds_durations_and_peaks(lowery, uppery)"
      ]
    },
    {
      "cell_type": "code",
      "execution_count": null,
      "metadata": {
        "id": "NFLmmzb0e9EN"
      },
      "outputs": [],
      "source": [
        "edges_nmda_apic = sm.get_edges(nmda_lower_bounds, \"apic\")\n",
        "nmda_apic = sm.get_sta(sm.soma_spiketimes, nmda_lower_bounds, edges_nmda_apic, \"apic\")\n",
        "rand_spktimes_apic = np.sort(np.random.choice(np.arange(0, 150000), sm.soma_spiketimes.shape[0]))\n",
        "nmda_rand_apic = sm.get_sta(rand_spktimes_apic, nmda_lower_bounds, edges_nmda_apic, \"apic\")"
      ]
    },
    {
      "cell_type": "code",
      "execution_count": null,
      "metadata": {
        "id": "wxtOgTfUfe1s"
      },
      "outputs": [],
      "source": [
        "edges_nmda_dend = sm.get_edges(nmda_lower_bounds, \"dend\")\n",
        "nmda_dend = sm.get_sta(sm.soma_spiketimes, nmda_lower_bounds, edges_nmda_dend, \"dend\")\n",
        "rand_spktimes_dend = np.sort(np.random.choice(np.arange(0, 150000), sm.soma_spiketimes.shape[0]))\n",
        "nmda_rand_dend = sm.get_sta(rand_spktimes_dend, nmda_lower_bounds, edges_nmda_dend, \"dend\")"
      ]
    },
    {
      "cell_type": "code",
      "execution_count": null,
      "metadata": {
        "id": "EhSGzjofftwE"
      },
      "outputs": [],
      "source": [
        "plt.figure(num=3,figsize=(10,10))\n",
        "plt.subplot(2,1,1)\n",
        "plt.title('NMDA spikes - apical')\n",
        "plt.imshow((nmda_apic-nmda_rand_apic)/len(sm.soma_spiketimes),cmap='jet')\n",
        "plt.xticks(ticks=np.arange(0,26,4)-0.5,labels=['{}'.format(i) for i in np.arange(-100,40,20)])\n",
        "plt.yticks(ticks=[0,9],labels=['further','closer'])\n",
        "#plt.yticks(ticks=[0,9],labels=[str(segs_nmda_df[segs_nmda_df.Type=='apic']['Elec_distance'].max()),str(segs_nmda_df[segs_nmda_df.Type=='apic']['Elec_distance'].min())])\n",
        "plt.colorbar(label='additional events per AP')\n",
        "plt.xlabel('time (ms)')\n",
        "plt.xlim(5,26)\n",
        "\n",
        "plt.subplot(2,1,2)\n",
        "plt.title('NMDA spikes - basal')\n",
        "plt.imshow((nmda_dend-nmda_rand_dend)/len(sm.soma_spiketimes),cmap='jet')\n",
        "plt.xticks(ticks=np.arange(0,26,4)-0.5,labels=['{}'.format(i) for i in np.arange(-100,40,20)])\n",
        "plt.yticks(ticks=[0,9],labels=['further','closer'])\n",
        "#plt.yticks(ticks=[0,9],labels=[str(segs_nmda_df[segs_nmda_df.Type=='dend']['Elec_distance'].max()),str(segs_nmda_df[segs_nmda_df.Type=='dend']['Elec_distance'].min())])\n",
        "plt.colorbar(label='additional events per AP')\n",
        "plt.xlim(5,26)\n",
        "\n",
        "plt.xlabel('time (ms)')\n",
        "plt.show(plt.figure(num=3)) #test"
      ]
    }
  ],
  "metadata": {
    "colab": {
      "provenance": []
    },
    "kernelspec": {
      "display_name": "Python 3",
      "name": "python3"
    },
    "language_info": {
      "name": "python"
    }
  },
  "nbformat": 4,
  "nbformat_minor": 0
}